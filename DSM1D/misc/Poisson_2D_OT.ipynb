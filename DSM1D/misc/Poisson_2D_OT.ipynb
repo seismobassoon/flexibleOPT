{
 "cells": [
  {
   "cell_type": "code",
   "execution_count": 1,
   "metadata": {},
   "outputs": [
    {
     "data": {
      "text/plain": [
       "integrateTaylorPolynomials (generic function with 1 method)"
      ]
     },
     "metadata": {},
     "output_type": "display_data"
    }
   ],
   "source": [
    "using Symbolics\n",
    "function integrateTaylorPolynomials(eq::Num, x::Num)\n",
    "    # this function works only for (positive) polynomials \n",
    "    #\n",
    "    # the function needs only Symbolics.jl\n",
    "    #\n",
    "    # Since the Symbolics.coeff does not support expression with division, lowestNegativeOrder::Int option should be implemented afterwards\n",
    "\n",
    "    lowestNegativeOrder::Int=0\n",
    "    eq = simplify(eq;expand=true,polynorm=true)\n",
    "    eqval=Symbolics.value(eq)\n",
    "    \n",
    "\n",
    "    # The above statement is to switch off the negative orders integral\n",
    "   \n",
    "    if Symbolics.isdiv(eqval)\n",
    "        eq=eqval.num \n",
    "        denominator=eqval.den \n",
    "    else \n",
    "        denominator =1\n",
    "    end\n",
    "    highestOrder=Symbolics.degree(eq,x)\n",
    "   \n",
    "    tmpeq = eq\n",
    "    neweq = 0\n",
    "    if highestOrder>0\n",
    "        for i in 1:highestOrder\n",
    "            old_coef=Symbolics.coeff(eq,x^i)\n",
    "            tmpeq-=old_coef*x^i\n",
    "            new_coef=old_coef//(i+1)\n",
    "            neweq+=new_coef*x^(i+1)        \n",
    "        end\n",
    "    end\n",
    "    \n",
    "    if lowestNegativeOrder<0\n",
    "        old_coef=Symbolics.coeff(eq,x^(-1))\n",
    "        tmpeq-=old_coef*x^(-1)\n",
    "        new_coef=old_coef\n",
    "        neweq+=new_coef*log(x)\n",
    "\n",
    "        if lowestNegativeOrder<1\n",
    "            for i in lowestNegativeOrder:-2\n",
    "                old_coef=Symbolics.coeff(eq,x^i)\n",
    "                tmpeq-=old_coef*x^i\n",
    "                new_coef=old_coef//(i+1)\n",
    "                neweq+=new_coef*x^(i+1)\n",
    "            end\n",
    "        end\n",
    "    end\n",
    "\n",
    "    # the rest of tmpeq should be the constant\n",
    "    neweq+=tmpeq*x\n",
    "    neweq/=denominator\n",
    "    return simplify(neweq;expand=true)\n",
    "end"
   ]
  },
  {
   "cell_type": "code",
   "execution_count": 2,
   "metadata": {},
   "outputs": [
    {
     "data": {
      "text/plain": [
       "ignoreHigherOrderTerms (generic function with 1 method)"
      ]
     },
     "metadata": {},
     "output_type": "display_data"
    }
   ],
   "source": [
    "function ignoreHigherOrderTerms(eq::Num,x::Num,highestOrderForConsideration::Int)\n",
    "    eq = simplify(eq;expand=true,polynorm=true)\n",
    "    eqval=Symbolics.value(eq)\n",
    "\n",
    "\n",
    "    # The above statement is to switch off the negative orders integral\n",
    "    \n",
    "    if Symbolics.isdiv(eqval)\n",
    "        eq=eqval.num \n",
    "        denominator=eqval.den \n",
    "    else \n",
    "        denominator =1\n",
    "    end\n",
    "    highestOrder=Symbolics.degree(eq,x)\n",
    "\n",
    "    highestOrderForConsideration > 0 || error(\"highestOrderForConsideration should be positive\")\n",
    "    highestOrderForConsideration<highestOrder || return eq/denominator\n",
    "    tmpeq=eq\n",
    "    for i in highestOrderForConsideration+1:highestOrder\n",
    "\n",
    "        old_coef=Symbolics.coeff(eq,x^i)\n",
    "\n",
    "        tmpeq-=old_coef*x^i\n",
    "    end\n",
    "    neweq=tmpeq/denominator\n",
    "    return simplify(neweq; expand=true)\n",
    "end\n",
    "        "
   ]
  },
  {
   "cell_type": "code",
   "execution_count": 74,
   "metadata": {},
   "outputs": [
    {
     "data": {
      "text/plain": [
       "u (generic function with 1 method)"
      ]
     },
     "metadata": {},
     "output_type": "display_data"
    }
   ],
   "source": [
    "orderUtime=4\n",
    "#orderUspace=8\n",
    "#m = 15 # the midpoint to evaluate the operator at\n",
    "L₁ₗ = 2 # the leftmost point for x1 direction\n",
    "L₁ᵣ = 2 # the rightmost point\n",
    "L₂ₗ = 2 # the leftmost point for t direction\n",
    "L₂ᵣ = 2 # the rightmost point\n",
    "L₁ₗ = 1 # the leftmost point for x1 direction\n",
    "L₁ᵣ = 1 # the rightmost point\n",
    "L₂ₗ = 1 # the leftmost point for t direction\n",
    "L₂ᵣ = 1 # the rightmost point\n",
    "\n",
    "orderStructure=L₁ₗ+L₁ᵣ # number of nodes minus one\n",
    "\n",
    "@variables dx₁ dx₂   \n",
    "@variables Cᵘ[1:orderUspace+1,1:orderUspace+1] # These are the derivatives at the node point xₘ, tₙ\n",
    "#@variables x¹ t\n",
    "\n",
    "\n",
    "\n",
    "\n",
    "#@variables ξ¹[1:L₁ₗ+L₁ᵣ+1]  τ[1:Lₜₗ+Lₜᵣ+1] # These are the node points in the spatial and time domain\n",
    "#@variables ξ¹ₘ[-L₁ₗ:L₁ᵣ] τₙ[-L₁ₗ:L₁ᵣ] ρₘ[-L₁ₗ:L₁ᵣ] μₘ[-L₁ₗ:L₁ᵣ]\n",
    "ξ¹ₘ = Symbolics.variables(:ξ¹ₘ,-L₁ₗ:L₁ᵣ) # nodes in space (x₁ direction)\n",
    "ξ²ₘ = Symbolics.variables(:ξ²ₘ,-L₂ₗ:L₂ᵣ) \n",
    "uₘₙ= Symbolics.variables(:uₘₙ,-L₁ₗ:L₁ᵣ,-L₂ₗ:L₂ᵣ)\n",
    "Aₘₙ= Symbolics.variables(:Aₘₙ,-L₁ₗ:L₁ᵣ,-L₂ₗ:L₂ᵣ)\n",
    "\n",
    "\n",
    "u(dx₁,dx₂) = sum(sum(Cᵘ[i,j] * dx₁^(i-1) * dx₂^(j-1) / factorial(BigInt(i-1)) / factorial(BigInt(j-1)) for i in 1:orderUspace+1) for j in 1:orderUspace+1)"
   ]
  },
  {
   "cell_type": "markdown",
   "metadata": {},
   "source": [
    "# First step\n"
   ]
  },
  {
   "cell_type": "code",
   "execution_count": 75,
   "metadata": {},
   "outputs": [
    {
     "data": {
      "text/plain": [
       "Differential(Y) ∘ Differential(Y)"
      ]
     },
     "metadata": {},
     "output_type": "display_data"
    }
   ],
   "source": [
    "@variables X,Y #\n",
    "∂y=Differential(Y)\n",
    "∂x=Differential(X)\n",
    "∂x2 = ∂x^2\n",
    "∂y2 = ∂y^2"
   ]
  },
  {
   "cell_type": "code",
   "execution_count": 76,
   "metadata": {},
   "outputs": [
    {
     "data": {
      "text/latex": [
       "$$ \\begin{equation}\n",
       "C^u_{1}ˏ_1 + C^u_{1}ˏ_2 Y + C^u_{2}ˏ_1 X + \\frac{1}{2} Y^{2} C^u_{1}ˏ_3 + C^u_{2}ˏ_2 X Y + \\frac{1}{2} X^{2} C^u_{3}ˏ_1 + \\frac{1}{6} Y^{3} C^u_{1}ˏ_4 + \\frac{1}{2} Y^{2} C^u_{2}ˏ_3 X + \\frac{1}{2} X^{2} C^u_{3}ˏ_2 Y + \\frac{1}{6} X^{3} C^u_{4}ˏ_1 + \\frac{1}{24} Y^{4} C^u_{1}ˏ_5 + \\frac{1}{6} Y^{3} C^u_{2}ˏ_4 X + \\frac{1}{4} Y^{2} X^{2} C^u_{3}ˏ_3 + \\frac{1}{6} X^{3} C^u_{4}ˏ_2 Y + \\frac{1}{24} X^{4} C^u_{5}ˏ_1 + \\frac{1}{120} Y^{5} C^u_{1}ˏ_6 + \\frac{1}{24} Y^{4} C^u_{2}ˏ_5 X + \\frac{1}{12} Y^{3} X^{2} C^u_{3}ˏ_4 + \\frac{1}{12} Y^{2} X^{3} C^u_{4}ˏ_3 + \\frac{1}{24} X^{4} C^u_{5}ˏ_2 Y + \\frac{1}{120} X^{5} C^u_{6}ˏ_1 + \\frac{1}{720} Y^{6} C^u_{1}ˏ_7 + \\frac{1}{120} Y^{5} C^u_{2}ˏ_6 X + \\frac{1}{48} Y^{4} X^{2} C^u_{3}ˏ_5 + \\frac{1}{36} Y^{3} X^{3} C^u_{4}ˏ_4 + \\frac{1}{48} Y^{2} X^{4} C^u_{5}ˏ_3 + \\frac{1}{120} X^{5} C^u_{6}ˏ_2 Y + \\frac{1}{720} X^{6} C^u_{7}ˏ_1 + \\frac{1}{5040} Y^{7} C^u_{1}ˏ_8 + \\frac{1}{720} Y^{6} C^u_{2}ˏ_7 X + \\frac{1}{240} Y^{5} X^{2} C^u_{3}ˏ_6 + \\frac{1}{144} Y^{4} X^{3} C^u_{4}ˏ_5 + \\frac{1}{144} Y^{3} X^{4} C^u_{5}ˏ_4 + \\frac{1}{240} Y^{2} X^{5} C^u_{6}ˏ_3 + \\frac{1}{720} X^{6} C^u_{7}ˏ_2 Y + \\frac{1}{5040} X^{7} C^u_{8}ˏ_1 + \\frac{1}{40320} Y^{8} C^u_{1}ˏ_9 + \\frac{1}{5040} Y^{7} C^u_{2}ˏ_8 X + \\frac{1}{1440} Y^{6} X^{2} C^u_{3}ˏ_7 + \\frac{1}{720} Y^{5} X^{3} C^u_{4}ˏ_6 + \\frac{1}{576} Y^{4} X^{4} C^u_{5}ˏ_5 + \\frac{1}{720} Y^{3} X^{5} C^u_{6}ˏ_4 + \\frac{1}{1440} Y^{2} X^{6} C^u_{7}ˏ_3 + \\frac{1}{5040} X^{7} C^u_{8}ˏ_2 Y + \\frac{1}{40320} X^{8} C^u_{9}ˏ_1 + \\frac{1}{40320} Y^{8} C^u_{2}ˏ_9 X + \\frac{1}{10080} Y^{7} X^{2} C^u_{3}ˏ_8 + \\frac{1}{4320} Y^{6} X^{3} C^u_{4}ˏ_7 + \\frac{1}{2880} Y^{5} X^{4} C^u_{5}ˏ_6 + \\frac{1}{2880} Y^{4} X^{5} C^u_{6}ˏ_5 + \\frac{1}{4320} Y^{3} X^{6} C^u_{7}ˏ_4 + \\frac{1}{10080} Y^{2} X^{7} C^u_{8}ˏ_3 + \\frac{1}{40320} X^{8} C^u_{9}ˏ_2 Y + \\frac{1}{80640} Y^{8} X^{2} C^u_{3}ˏ_9 + \\frac{1}{30240} Y^{7} X^{3} C^u_{4}ˏ_8 + \\frac{1}{17280} Y^{6} X^{4} C^u_{5}ˏ_7 + \\frac{1}{14400} Y^{5} X^{5} C^u_{6}ˏ_6 + \\frac{1}{17280} Y^{4} X^{6} C^u_{7}ˏ_5 + \\frac{1}{30240} Y^{3} X^{7} C^u_{8}ˏ_4 + \\frac{1}{80640} Y^{2} X^{8} C^u_{9}ˏ_3 + \\frac{1}{241920} Y^{8} X^{3} C^u_{4}ˏ_9 + \\frac{1}{120960} Y^{7} X^{4} C^u_{5}ˏ_8 + \\frac{1}{86400} Y^{6} X^{5} C^u_{6}ˏ_7 + \\frac{1}{86400} Y^{5} X^{6} C^u_{7}ˏ_6 + \\frac{1}{120960} Y^{4} X^{7} C^u_{8}ˏ_5 + \\frac{1}{241920} Y^{3} X^{8} C^u_{9}ˏ_4 + \\frac{1}{967680} Y^{8} X^{4} C^u_{5}ˏ_9 + \\frac{1}{604800} Y^{7} X^{5} C^u_{6}ˏ_8 + \\frac{1}{518400} Y^{6} X^{6} C^u_{7}ˏ_7 + \\frac{1}{604800} Y^{5} X^{7} C^u_{8}ˏ_6 + \\frac{1}{967680} Y^{4} X^{8} C^u_{9}ˏ_5 + \\frac{1}{4838400} Y^{8} X^{5} C^u_{6}ˏ_9 + \\frac{1}{3628800} Y^{7} X^{6} C^u_{7}ˏ_8 + \\frac{1}{3628800} Y^{6} X^{7} C^u_{8}ˏ_7 + \\frac{1}{4838400} Y^{5} X^{8} C^u_{9}ˏ_6 + \\frac{1}{29030400} Y^{8} X^{6} C^u_{7}ˏ_9 + \\frac{1}{25401600} Y^{7} X^{7} C^u_{8}ˏ_8 + \\frac{1}{29030400} Y^{6} X^{8} C^u_{9}ˏ_7 + \\frac{1}{203212800} Y^{8} X^{7} C^u_{8}ˏ_9 + \\frac{1}{203212800} Y^{7} X^{8} C^u_{9}ˏ_8 + \\frac{1}{1625702400} Y^{8} X^{8} C^u_{9}ˏ_9\n",
       "\\end{equation}\n",
       " $$"
      ],
      "text/plain": [
       "Cᵘ[1, 1] + Cᵘ[1, 2]*Y + Cᵘ[2, 1]*X + (1//2)*Cᵘ[1, 3]*(Y^2) + Cᵘ[2, 2]*X*Y + (1//2)*Cᵘ[3, 1]*(X^2) + (1//6)*Cᵘ[1, 4]*(Y^3) + (1//2)*Cᵘ[2, 3]*X*(Y^2) + (1//2)*Cᵘ[3, 2]*(X^2)*Y + (1//6)*Cᵘ[4, 1]*(X^3) + (1//24)*Cᵘ[1, 5]*(Y^4) + (1//6)*Cᵘ[2, 4]*X*(Y^3) + (1//4)*Cᵘ[3, 3]*(X^2)*(Y^2) + (1//6)*Cᵘ[4, 2]*(X^3)*Y + (1//24)*Cᵘ[5, 1]*(X^4) + (1//120)*Cᵘ[1, 6]*(Y^5) + (1//24)*Cᵘ[2, 5]*X*(Y^4) + (1//12)*Cᵘ[3, 4]*(X^2)*(Y^3) + (1//12)*Cᵘ[4, 3]*(X^3)*(Y^2) + (1//24)*Cᵘ[5, 2]*(X^4)*Y + (1//120)*Cᵘ[6, 1]*(X^5) + (1//720)*Cᵘ[1, 7]*(Y^6) + (1//120)*Cᵘ[2, 6]*X*(Y^5) + (1//48)*Cᵘ[3, 5]*(X^2)*(Y^4) + (1//36)*Cᵘ[4, 4]*(X^3)*(Y^3) + (1//48)*Cᵘ[5, 3]*(X^4)*(Y^2) + (1//120)*Cᵘ[6, 2]*(X^5)*Y + (1//720)*Cᵘ[7, 1]*(X^6) + (1//5040)*Cᵘ[1, 8]*(Y^7) + (1//720)*Cᵘ[2, 7]*X*(Y^6) + (1//240)*Cᵘ[3, 6]*(X^2)*(Y^5) + (1//144)*Cᵘ[4, 5]*(X^3)*(Y^4) + (1//144)*Cᵘ[5, 4]*(X^4)*(Y^3) + (1//240)*Cᵘ[6, 3]*(X^5)*(Y^2) + (1//720)*Cᵘ[7, 2]*(X^6)*Y + (1//5040)*Cᵘ[8, 1]*(X^7) + (1//40320)*Cᵘ[1, 9]*(Y^8) + (1//5040)*Cᵘ[2, 8]*X*(Y^7) + (1//1440)*Cᵘ[3, 7]*(X^2)*(Y^6) + (1//720)*Cᵘ[4, 6]*(X^3)*(Y^5) + (1//576)*Cᵘ[5, 5]*(X^4)*(Y^4) + (1//720)*Cᵘ[6, 4]*(X^5)*(Y^3) + (1//1440)*Cᵘ[7, 3]*(X^6)*(Y^2) + (1//5040)*Cᵘ[8, 2]*(X^7)*Y + (1//40320)*Cᵘ[9, 1]*(X^8) + (1//40320)*Cᵘ[2, 9]*X*(Y^8) + (1//10080)*Cᵘ[3, 8]*(X^2)*(Y^7) + (1//4320)*Cᵘ[4, 7]*(X^3)*(Y^6) + (1//2880)*Cᵘ[5, 6]*(X^4)*(Y^5) + (1//2880)*Cᵘ[6, 5]*(X^5)*(Y^4) + (1//4320)*Cᵘ[7, 4]*(X^6)*(Y^3) + (1//10080)*Cᵘ[8, 3]*(X^7)*(Y^2) + (1//40320)*Cᵘ[9, 2]*(X^8)*Y + (1//80640)*Cᵘ[3, 9]*(X^2)*(Y^8) + (1//30240)*Cᵘ[4, 8]*(X^3)*(Y^7) + (1//17280)*Cᵘ[5, 7]*(X^4)*(Y^6) + (1//14400)*Cᵘ[6, 6]*(X^5)*(Y^5) + (1//17280)*Cᵘ[7, 5]*(X^6)*(Y^4) + (1//30240)*Cᵘ[8, 4]*(X^7)*(Y^3) + (1//80640)*Cᵘ[9, 3]*(X^8)*(Y^2) + (1//241920)*Cᵘ[4, 9]*(X^3)*(Y^8) + (1//120960)*Cᵘ[5, 8]*(X^4)*(Y^7) + (1//86400)*Cᵘ[6, 7]*(X^5)*(Y^6) + (1//86400)*Cᵘ[7, 6]*(X^6)*(Y^5) + (1//120960)*Cᵘ[8, 5]*(X^7)*(Y^4) + (1//241920)*Cᵘ[9, 4]*(X^8)*(Y^3) + (1//967680)*Cᵘ[5, 9]*(X^4)*(Y^8) + (1//604800)*Cᵘ[6, 8]*(X^5)*(Y^7) + (1//518400)*Cᵘ[7, 7]*(X^6)*(Y^6) + (1//604800)*Cᵘ[8, 6]*(X^7)*(Y^5) + (1//967680)*Cᵘ[9, 5]*(X^8)*(Y^4) + (1//4838400)*Cᵘ[6, 9]*(X^5)*(Y^8) + (1//3628800)*Cᵘ[7, 8]*(X^6)*(Y^7) + (1//3628800)*Cᵘ[8, 7]*(X^7)*(Y^6) + (1//4838400)*Cᵘ[9, 6]*(X^8)*(Y^5) + (1//29030400)*Cᵘ[7, 9]*(X^6)*(Y^8) + (1//25401600)*Cᵘ[8, 8]*(X^7)*(Y^7) + (1//29030400)*Cᵘ[9, 7]*(X^8)*(Y^6) + (1//203212800)*Cᵘ[8, 9]*(X^7)*(Y^8) + (1//203212800)*Cᵘ[9, 8]*(X^8)*(Y^7) + (1//1625702400)*Cᵘ[9, 9]*(X^8)*(Y^8)"
      ]
     },
     "metadata": {},
     "output_type": "display_data"
    }
   ],
   "source": [
    "simplify(u(X,Y))"
   ]
  },
  {
   "cell_type": "markdown",
   "metadata": {},
   "source": [
    "# second step\n"
   ]
  },
  {
   "cell_type": "markdown",
   "metadata": {},
   "source": []
  },
  {
   "cell_type": "code",
   "execution_count": 77,
   "metadata": {},
   "outputs": [
    {
     "data": {
      "text/latex": [
       "$$ \\begin{equation}\n",
       "C^u_{1}ˏ_3 + C^u_{3}ˏ_1 + C^u_{1}ˏ_4 Y + C^u_{2}ˏ_3 X + C^u_{3}ˏ_2 Y + C^u_{4}ˏ_1 X + \\frac{1}{2} Y^{2} C^u_{1}ˏ_5 + C^u_{2}ˏ_4 X Y + \\frac{1}{2} X^{2} C^u_{3}ˏ_3 + \\frac{1}{2} Y^{2} C^u_{3}ˏ_3 + C^u_{4}ˏ_2 X Y + \\frac{1}{2} X^{2} C^u_{5}ˏ_1 + \\frac{1}{6} Y^{3} C^u_{1}ˏ_6 + \\frac{1}{2} Y^{2} C^u_{2}ˏ_5 X + \\frac{1}{2} X^{2} C^u_{3}ˏ_4 Y + \\frac{1}{6} Y^{3} C^u_{3}ˏ_4 + \\frac{1}{6} X^{3} C^u_{4}ˏ_3 + \\frac{1}{2} Y^{2} C^u_{4}ˏ_3 X + \\frac{1}{2} X^{2} C^u_{5}ˏ_2 Y + \\frac{1}{6} X^{3} C^u_{6}ˏ_1 + \\frac{1}{24} Y^{4} C^u_{1}ˏ_7 + \\frac{1}{6} Y^{3} C^u_{2}ˏ_6 X + \\frac{1}{4} Y^{2} X^{2} C^u_{3}ˏ_5 + \\frac{1}{24} Y^{4} C^u_{3}ˏ_5 + \\frac{1}{6} X^{3} C^u_{4}ˏ_4 Y + \\frac{1}{6} Y^{3} C^u_{4}ˏ_4 X + \\frac{1}{24} X^{4} C^u_{5}ˏ_3 + \\frac{1}{4} Y^{2} X^{2} C^u_{5}ˏ_3 + \\frac{1}{6} X^{3} C^u_{6}ˏ_2 Y + \\frac{1}{24} X^{4} C^u_{7}ˏ_1 + \\frac{1}{120} Y^{5} C^u_{1}ˏ_8 + \\frac{1}{24} Y^{4} C^u_{2}ˏ_7 X + \\frac{1}{12} Y^{3} X^{2} C^u_{3}ˏ_6 + \\frac{1}{120} Y^{5} C^u_{3}ˏ_6 + \\frac{1}{12} Y^{2} X^{3} C^u_{4}ˏ_5 + \\frac{1}{24} Y^{4} C^u_{4}ˏ_5 X + \\frac{1}{24} X^{4} C^u_{5}ˏ_4 Y + \\frac{1}{12} Y^{3} X^{2} C^u_{5}ˏ_4 + \\frac{1}{120} X^{5} C^u_{6}ˏ_3 + \\frac{1}{12} Y^{2} X^{3} C^u_{6}ˏ_3 + \\frac{1}{24} X^{4} C^u_{7}ˏ_2 Y + \\frac{1}{120} X^{5} C^u_{8}ˏ_1 + \\frac{1}{720} Y^{6} C^u_{1}ˏ_9 + \\frac{1}{120} Y^{5} C^u_{2}ˏ_8 X + \\frac{1}{48} Y^{4} X^{2} C^u_{3}ˏ_7 + \\frac{1}{720} Y^{6} C^u_{3}ˏ_7 + \\frac{1}{36} Y^{3} X^{3} C^u_{4}ˏ_6 + \\frac{1}{120} Y^{5} C^u_{4}ˏ_6 X + \\frac{1}{48} Y^{2} X^{4} C^u_{5}ˏ_5 + \\frac{1}{48} Y^{4} X^{2} C^u_{5}ˏ_5 + \\frac{1}{120} X^{5} C^u_{6}ˏ_4 Y + \\frac{1}{36} Y^{3} X^{3} C^u_{6}ˏ_4 + \\frac{1}{720} X^{6} C^u_{7}ˏ_3 + \\frac{1}{48} Y^{2} X^{4} C^u_{7}ˏ_3 + \\frac{1}{120} X^{5} C^u_{8}ˏ_2 Y + \\frac{1}{720} X^{6} C^u_{9}ˏ_1 + \\frac{1}{720} Y^{6} C^u_{2}ˏ_9 X + \\frac{1}{240} Y^{5} X^{2} C^u_{3}ˏ_8 + \\frac{1}{5040} Y^{7} C^u_{3}ˏ_8 + \\frac{1}{144} Y^{4} X^{3} C^u_{4}ˏ_7 + \\frac{1}{720} Y^{6} C^u_{4}ˏ_7 X + \\frac{1}{144} Y^{3} X^{4} C^u_{5}ˏ_6 + \\frac{1}{240} Y^{5} X^{2} C^u_{5}ˏ_6 + \\frac{1}{240} Y^{2} X^{5} C^u_{6}ˏ_5 + \\frac{1}{144} Y^{4} X^{3} C^u_{6}ˏ_5 + \\frac{1}{720} X^{6} C^u_{7}ˏ_4 Y + \\frac{1}{144} Y^{3} X^{4} C^u_{7}ˏ_4 + \\frac{1}{5040} X^{7} C^u_{8}ˏ_3 + \\frac{1}{240} Y^{2} X^{5} C^u_{8}ˏ_3 + \\frac{1}{720} X^{6} C^u_{9}ˏ_2 Y + \\frac{1}{1440} Y^{6} X^{2} C^u_{3}ˏ_9 + \\frac{1}{40320} Y^{8} C^u_{3}ˏ_9 + \\frac{1}{720} Y^{5} X^{3} C^u_{4}ˏ_8 + \\frac{1}{5040} Y^{7} C^u_{4}ˏ_8 X + \\frac{1}{576} Y^{4} X^{4} C^u_{5}ˏ_7 + \\frac{1}{1440} Y^{6} X^{2} C^u_{5}ˏ_7 + \\frac{1}{720} Y^{3} X^{5} C^u_{6}ˏ_6 + \\frac{1}{720} Y^{5} X^{3} C^u_{6}ˏ_6 + \\frac{1}{1440} Y^{2} X^{6} C^u_{7}ˏ_5 + \\frac{1}{576} Y^{4} X^{4} C^u_{7}ˏ_5 + \\frac{1}{5040} X^{7} C^u_{8}ˏ_4 Y + \\frac{1}{720} Y^{3} X^{5} C^u_{8}ˏ_4 + \\frac{1}{40320} X^{8} C^u_{9}ˏ_3 + \\frac{1}{1440} Y^{2} X^{6} C^u_{9}ˏ_3 + \\frac{1}{4320} Y^{6} X^{3} C^u_{4}ˏ_9 + \\frac{1}{40320} Y^{8} C^u_{4}ˏ_9 X + \\frac{1}{2880} Y^{5} X^{4} C^u_{5}ˏ_8 + \\frac{1}{10080} Y^{7} X^{2} C^u_{5}ˏ_8 + \\frac{1}{2880} Y^{4} X^{5} C^u_{6}ˏ_7 + \\frac{1}{4320} Y^{6} X^{3} C^u_{6}ˏ_7 + \\frac{1}{4320} Y^{3} X^{6} C^u_{7}ˏ_6 + \\frac{1}{2880} Y^{5} X^{4} C^u_{7}ˏ_6 + \\frac{1}{10080} Y^{2} X^{7} C^u_{8}ˏ_5 + \\frac{1}{2880} Y^{4} X^{5} C^u_{8}ˏ_5 + \\frac{1}{40320} X^{8} C^u_{9}ˏ_4 Y + \\frac{1}{4320} Y^{3} X^{6} C^u_{9}ˏ_4 + \\frac{1}{17280} Y^{6} X^{4} C^u_{5}ˏ_9 + \\frac{1}{80640} Y^{8} X^{2} C^u_{5}ˏ_9 + \\frac{1}{14400} Y^{5} X^{5} C^u_{6}ˏ_8 + \\frac{1}{30240} Y^{7} X^{3} C^u_{6}ˏ_8 + \\frac{1}{17280} Y^{4} X^{6} C^u_{7}ˏ_7 + \\frac{1}{17280} Y^{6} X^{4} C^u_{7}ˏ_7 + \\frac{1}{30240} Y^{3} X^{7} C^u_{8}ˏ_6 + \\frac{1}{14400} Y^{5} X^{5} C^u_{8}ˏ_6 + \\frac{1}{80640} Y^{2} X^{8} C^u_{9}ˏ_5 + \\frac{1}{17280} Y^{4} X^{6} C^u_{9}ˏ_5 + \\frac{1}{86400} Y^{6} X^{5} C^u_{6}ˏ_9 + \\frac{1}{241920} Y^{8} X^{3} C^u_{6}ˏ_9 + \\frac{1}{86400} Y^{5} X^{6} C^u_{7}ˏ_8 + \\frac{1}{120960} Y^{7} X^{4} C^u_{7}ˏ_8 + \\frac{1}{120960} Y^{4} X^{7} C^u_{8}ˏ_7 + \\frac{1}{86400} Y^{6} X^{5} C^u_{8}ˏ_7 + \\frac{1}{241920} Y^{3} X^{8} C^u_{9}ˏ_6 + \\frac{1}{86400} Y^{5} X^{6} C^u_{9}ˏ_6 + \\frac{1}{518400} Y^{6} X^{6} C^u_{7}ˏ_9 + \\frac{1}{967680} Y^{8} X^{4} C^u_{7}ˏ_9 + \\frac{1}{604800} Y^{5} X^{7} C^u_{8}ˏ_8 + \\frac{1}{604800} Y^{7} X^{5} C^u_{8}ˏ_8 + \\frac{1}{967680} Y^{4} X^{8} C^u_{9}ˏ_7 + \\frac{1}{518400} Y^{6} X^{6} C^u_{9}ˏ_7 + \\frac{1}{3628800} Y^{6} X^{7} C^u_{8}ˏ_9 + \\frac{1}{4838400} Y^{8} X^{5} C^u_{8}ˏ_9 + \\frac{1}{4838400} Y^{5} X^{8} C^u_{9}ˏ_8 + \\frac{1}{3628800} Y^{7} X^{6} C^u_{9}ˏ_8 + \\frac{1}{29030400} Y^{6} X^{8} C^u_{9}ˏ_9 + \\frac{1}{29030400} Y^{8} X^{6} C^u_{9}ˏ_9\n",
       "\\end{equation}\n",
       " $$"
      ],
      "text/plain": [
       "Cᵘ[1, 3] + Cᵘ[3, 1] + Cᵘ[1, 4]*Y + Cᵘ[2, 3]*X + Cᵘ[3, 2]*Y + Cᵘ[4, 1]*X + (1//2)*Cᵘ[1, 5]*(Y^2) + Cᵘ[2, 4]*X*Y + (1//2)*Cᵘ[3, 3]*(X^2) + (1//2)*Cᵘ[3, 3]*(Y^2) + Cᵘ[4, 2]*X*Y + (1//2)*Cᵘ[5, 1]*(X^2) + (1//6)*Cᵘ[1, 6]*(Y^3) + (1//2)*Cᵘ[2, 5]*X*(Y^2) + (1//2)*Cᵘ[3, 4]*(X^2)*Y + (1//6)*Cᵘ[3, 4]*(Y^3) + (1//6)*Cᵘ[4, 3]*(X^3) + (1//2)*Cᵘ[4, 3]*X*(Y^2) + (1//2)*Cᵘ[5, 2]*(X^2)*Y + (1//6)*Cᵘ[6, 1]*(X^3) + (1//24)*Cᵘ[1, 7]*(Y^4) + (1//6)*Cᵘ[2, 6]*X*(Y^3) + (1//4)*Cᵘ[3, 5]*(X^2)*(Y^2) + (1//24)*Cᵘ[3, 5]*(Y^4) + (1//6)*Cᵘ[4, 4]*(X^3)*Y + (1//6)*Cᵘ[4, 4]*X*(Y^3) + (1//24)*Cᵘ[5, 3]*(X^4) + (1//4)*Cᵘ[5, 3]*(X^2)*(Y^2) + (1//6)*Cᵘ[6, 2]*(X^3)*Y + (1//24)*Cᵘ[7, 1]*(X^4) + (1//120)*Cᵘ[1, 8]*(Y^5) + (1//24)*Cᵘ[2, 7]*X*(Y^4) + (1//12)*Cᵘ[3, 6]*(X^2)*(Y^3) + (1//120)*Cᵘ[3, 6]*(Y^5) + (1//12)*Cᵘ[4, 5]*(X^3)*(Y^2) + (1//24)*Cᵘ[4, 5]*X*(Y^4) + (1//24)*Cᵘ[5, 4]*(X^4)*Y + (1//12)*Cᵘ[5, 4]*(X^2)*(Y^3) + (1//120)*Cᵘ[6, 3]*(X^5) + (1//12)*Cᵘ[6, 3]*(X^3)*(Y^2) + (1//24)*Cᵘ[7, 2]*(X^4)*Y + (1//120)*Cᵘ[8, 1]*(X^5) + (1//720)*Cᵘ[1, 9]*(Y^6) + (1//120)*Cᵘ[2, 8]*X*(Y^5) + (1//48)*Cᵘ[3, 7]*(X^2)*(Y^4) + (1//720)*Cᵘ[3, 7]*(Y^6) + (1//36)*Cᵘ[4, 6]*(X^3)*(Y^3) + (1//120)*Cᵘ[4, 6]*X*(Y^5) + (1//48)*Cᵘ[5, 5]*(X^4)*(Y^2) + (1//48)*Cᵘ[5, 5]*(X^2)*(Y^4) + (1//120)*Cᵘ[6, 4]*(X^5)*Y + (1//36)*Cᵘ[6, 4]*(X^3)*(Y^3) + (1//720)*Cᵘ[7, 3]*(X^6) + (1//48)*Cᵘ[7, 3]*(X^4)*(Y^2) + (1//120)*Cᵘ[8, 2]*(X^5)*Y + (1//720)*Cᵘ[9, 1]*(X^6) + (1//720)*Cᵘ[2, 9]*X*(Y^6) + (1//240)*Cᵘ[3, 8]*(X^2)*(Y^5) + (1//5040)*Cᵘ[3, 8]*(Y^7) + (1//144)*Cᵘ[4, 7]*(X^3)*(Y^4) + (1//720)*Cᵘ[4, 7]*X*(Y^6) + (1//144)*Cᵘ[5, 6]*(X^4)*(Y^3) + (1//240)*Cᵘ[5, 6]*(X^2)*(Y^5) + (1//240)*Cᵘ[6, 5]*(X^5)*(Y^2) + (1//144)*Cᵘ[6, 5]*(X^3)*(Y^4) + (1//720)*Cᵘ[7, 4]*(X^6)*Y + (1//144)*Cᵘ[7, 4]*(X^4)*(Y^3) + (1//5040)*Cᵘ[8, 3]*(X^7) + (1//240)*Cᵘ[8, 3]*(X^5)*(Y^2) + (1//720)*Cᵘ[9, 2]*(X^6)*Y + (1//1440)*Cᵘ[3, 9]*(X^2)*(Y^6) + (1//40320)*Cᵘ[3, 9]*(Y^8) + (1//720)*Cᵘ[4, 8]*(X^3)*(Y^5) + (1//5040)*Cᵘ[4, 8]*X*(Y^7) + (1//576)*Cᵘ[5, 7]*(X^4)*(Y^4) + (1//1440)*Cᵘ[5, 7]*(X^2)*(Y^6) + (1//720)*Cᵘ[6, 6]*(X^5)*(Y^3) + (1//720)*Cᵘ[6, 6]*(X^3)*(Y^5) + (1//1440)*Cᵘ[7, 5]*(X^6)*(Y^2) + (1//576)*Cᵘ[7, 5]*(X^4)*(Y^4) + (1//5040)*Cᵘ[8, 4]*(X^7)*Y + (1//720)*Cᵘ[8, 4]*(X^5)*(Y^3) + (1//40320)*Cᵘ[9, 3]*(X^8) + (1//1440)*Cᵘ[9, 3]*(X^6)*(Y^2) + (1//4320)*Cᵘ[4, 9]*(X^3)*(Y^6) + (1//40320)*Cᵘ[4, 9]*X*(Y^8) + (1//2880)*Cᵘ[5, 8]*(X^4)*(Y^5) + (1//10080)*Cᵘ[5, 8]*(X^2)*(Y^7) + (1//2880)*Cᵘ[6, 7]*(X^5)*(Y^4) + (1//4320)*Cᵘ[6, 7]*(X^3)*(Y^6) + (1//4320)*Cᵘ[7, 6]*(X^6)*(Y^3) + (1//2880)*Cᵘ[7, 6]*(X^4)*(Y^5) + (1//10080)*Cᵘ[8, 5]*(X^7)*(Y^2) + (1//2880)*Cᵘ[8, 5]*(X^5)*(Y^4) + (1//40320)*Cᵘ[9, 4]*(X^8)*Y + (1//4320)*Cᵘ[9, 4]*(X^6)*(Y^3) + (1//17280)*Cᵘ[5, 9]*(X^4)*(Y^6) + (1//80640)*Cᵘ[5, 9]*(X^2)*(Y^8) + (1//14400)*Cᵘ[6, 8]*(X^5)*(Y^5) + (1//30240)*Cᵘ[6, 8]*(X^3)*(Y^7) + (1//17280)*Cᵘ[7, 7]*(X^6)*(Y^4) + (1//17280)*Cᵘ[7, 7]*(X^4)*(Y^6) + (1//30240)*Cᵘ[8, 6]*(X^7)*(Y^3) + (1//14400)*Cᵘ[8, 6]*(X^5)*(Y^5) + (1//80640)*Cᵘ[9, 5]*(X^8)*(Y^2) + (1//17280)*Cᵘ[9, 5]*(X^6)*(Y^4) + (1//86400)*Cᵘ[6, 9]*(X^5)*(Y^6) + (1//241920)*Cᵘ[6, 9]*(X^3)*(Y^8) + (1//86400)*Cᵘ[7, 8]*(X^6)*(Y^5) + (1//120960)*Cᵘ[7, 8]*(X^4)*(Y^7) + (1//120960)*Cᵘ[8, 7]*(X^7)*(Y^4) + (1//86400)*Cᵘ[8, 7]*(X^5)*(Y^6) + (1//241920)*Cᵘ[9, 6]*(X^8)*(Y^3) + (1//86400)*Cᵘ[9, 6]*(X^6)*(Y^5) + (1//518400)*Cᵘ[7, 9]*(X^6)*(Y^6) + (1//967680)*Cᵘ[7, 9]*(X^4)*(Y^8) + (1//604800)*Cᵘ[8, 8]*(X^7)*(Y^5) + (1//604800)*Cᵘ[8, 8]*(X^5)*(Y^7) + (1//967680)*Cᵘ[9, 7]*(X^8)*(Y^4) + (1//518400)*Cᵘ[9, 7]*(X^6)*(Y^6) + (1//3628800)*Cᵘ[8, 9]*(X^7)*(Y^6) + (1//4838400)*Cᵘ[8, 9]*(X^5)*(Y^8) + (1//4838400)*Cᵘ[9, 8]*(X^8)*(Y^5) + (1//3628800)*Cᵘ[9, 8]*(X^6)*(Y^7) + (1//29030400)*Cᵘ[9, 9]*(X^8)*(Y^6) + (1//29030400)*Cᵘ[9, 9]*(X^6)*(Y^8)"
      ]
     },
     "metadata": {},
     "output_type": "display_data"
    }
   ],
   "source": [
    "∇u = expand_derivatives(∂x2(u(X,Y)))+expand_derivatives(∂y2(u(X,Y)))"
   ]
  },
  {
   "cell_type": "code",
   "execution_count": 78,
   "metadata": {},
   "outputs": [
    {
     "data": {
      "text/latex": [
       "$$ \\begin{equation}\n",
       "C^u_{1}ˏ_3 {\\Delta}x + C^u_{3}ˏ_1 {\\Delta}x + C^u_{1}ˏ_4 Y {\\Delta}x + C^u_{3}ˏ_2 Y {\\Delta}x + \\frac{1}{2} Y^{2} C^u_{1}ˏ_5 {\\Delta}x + \\frac{1}{2} Y^{2} C^u_{3}ˏ_3 {\\Delta}x + \\frac{1}{12} {\\Delta}x^{3} C^u_{3}ˏ_3 + \\frac{1}{12} {\\Delta}x^{3} C^u_{5}ˏ_1 + \\frac{1}{6} Y^{3} C^u_{1}ˏ_6 {\\Delta}x + \\frac{1}{6} Y^{3} C^u_{3}ˏ_4 {\\Delta}x + \\frac{1}{12} {\\Delta}x^{3} C^u_{3}ˏ_4 Y + \\frac{1}{12} {\\Delta}x^{3} C^u_{5}ˏ_2 Y + \\frac{1}{24} Y^{4} C^u_{1}ˏ_7 {\\Delta}x + \\frac{1}{24} Y^{4} C^u_{3}ˏ_5 {\\Delta}x + \\frac{1}{24} {\\Delta}x^{3} Y^{2} C^u_{3}ˏ_5 + \\frac{1}{24} {\\Delta}x^{3} Y^{2} C^u_{5}ˏ_3 + \\frac{1}{360} {\\Delta}x^{5} C^u_{5}ˏ_3 + \\frac{1}{360} {\\Delta}x^{5} C^u_{7}ˏ_1 + \\frac{1}{120} Y^{5} C^u_{1}ˏ_8 {\\Delta}x + \\frac{1}{120} Y^{5} C^u_{3}ˏ_6 {\\Delta}x + \\frac{1}{72} {\\Delta}x^{3} Y^{3} C^u_{3}ˏ_6 + \\frac{1}{72} {\\Delta}x^{3} Y^{3} C^u_{5}ˏ_4 + \\frac{1}{360} {\\Delta}x^{5} C^u_{5}ˏ_4 Y + \\frac{1}{360} {\\Delta}x^{5} C^u_{7}ˏ_2 Y + \\frac{1}{720} Y^{6} C^u_{1}ˏ_9 {\\Delta}x + \\frac{1}{720} Y^{6} C^u_{3}ˏ_7 {\\Delta}x + \\frac{1}{288} {\\Delta}x^{3} Y^{4} C^u_{3}ˏ_7 + \\frac{1}{288} {\\Delta}x^{3} Y^{4} C^u_{5}ˏ_5 + \\frac{1}{720} {\\Delta}x^{5} Y^{2} C^u_{5}ˏ_5 + \\frac{1}{720} {\\Delta}x^{5} Y^{2} C^u_{7}ˏ_3 + \\frac{1}{20160} {\\Delta}x^{7} C^u_{7}ˏ_3 + \\frac{1}{20160} {\\Delta}x^{7} C^u_{9}ˏ_1 + \\frac{1}{5040} Y^{7} C^u_{3}ˏ_8 {\\Delta}x + \\frac{1}{1440} {\\Delta}x^{3} Y^{5} C^u_{3}ˏ_8 + \\frac{1}{1440} {\\Delta}x^{3} Y^{5} C^u_{5}ˏ_6 + \\frac{1}{2160} {\\Delta}x^{5} Y^{3} C^u_{5}ˏ_6 + \\frac{1}{2160} {\\Delta}x^{5} Y^{3} C^u_{7}ˏ_4 + \\frac{1}{20160} {\\Delta}x^{7} C^u_{7}ˏ_4 Y + \\frac{1}{20160} {\\Delta}x^{7} C^u_{9}ˏ_2 Y + \\frac{1}{40320} Y^{8} C^u_{3}ˏ_9 {\\Delta}x + \\frac{1}{8640} {\\Delta}x^{3} Y^{6} C^u_{3}ˏ_9 + \\frac{1}{8640} {\\Delta}x^{3} Y^{6} C^u_{5}ˏ_7 + \\frac{1}{8640} {\\Delta}x^{5} Y^{4} C^u_{5}ˏ_7 + \\frac{1}{8640} {\\Delta}x^{5} Y^{4} C^u_{7}ˏ_5 + \\frac{1}{40320} {\\Delta}x^{7} Y^{2} C^u_{7}ˏ_5 + \\frac{1}{40320} {\\Delta}x^{7} Y^{2} C^u_{9}ˏ_3 + \\frac{1}{1814400} {\\Delta}x^{9} C^u_{9}ˏ_3 + \\frac{1}{60480} {\\Delta}x^{3} Y^{7} C^u_{5}ˏ_8 + \\frac{1}{43200} {\\Delta}x^{5} Y^{5} C^u_{5}ˏ_8 + \\frac{1}{43200} {\\Delta}x^{5} Y^{5} C^u_{7}ˏ_6 + \\frac{1}{120960} {\\Delta}x^{7} Y^{3} C^u_{7}ˏ_6 + \\frac{1}{120960} {\\Delta}x^{7} Y^{3} C^u_{9}ˏ_4 + \\frac{1}{1814400} {\\Delta}x^{9} C^u_{9}ˏ_4 Y + \\frac{1}{483840} {\\Delta}x^{3} Y^{8} C^u_{5}ˏ_9 + \\frac{1}{259200} {\\Delta}x^{5} Y^{6} C^u_{5}ˏ_9 + \\frac{1}{259200} {\\Delta}x^{5} Y^{6} C^u_{7}ˏ_7 + \\frac{1}{483840} {\\Delta}x^{7} Y^{4} C^u_{7}ˏ_7 + \\frac{1}{483840} {\\Delta}x^{7} Y^{4} C^u_{9}ˏ_5 + \\frac{1}{3628800} {\\Delta}x^{9} Y^{2} C^u_{9}ˏ_5 + \\frac{1}{1814400} {\\Delta}x^{5} Y^{7} C^u_{7}ˏ_8 + \\frac{1}{2419200} {\\Delta}x^{7} Y^{5} C^u_{7}ˏ_8 + \\frac{1}{2419200} {\\Delta}x^{7} Y^{5} C^u_{9}ˏ_6 + \\frac{1}{10886400} {\\Delta}x^{9} Y^{3} C^u_{9}ˏ_6 + \\frac{1}{14515200} {\\Delta}x^{5} Y^{8} C^u_{7}ˏ_9 + \\frac{1}{14515200} {\\Delta}x^{7} Y^{6} C^u_{7}ˏ_9 + \\frac{1}{14515200} {\\Delta}x^{7} Y^{6} C^u_{9}ˏ_7 + \\frac{1}{43545600} {\\Delta}x^{9} Y^{4} C^u_{9}ˏ_7 + \\frac{1}{101606400} {\\Delta}x^{7} Y^{7} C^u_{9}ˏ_8 + \\frac{1}{217728000} {\\Delta}x^{9} Y^{5} C^u_{9}ˏ_8 + \\frac{1}{812851200} {\\Delta}x^{7} Y^{8} C^u_{9}ˏ_9 + \\frac{1}{1306368000} {\\Delta}x^{9} Y^{6} C^u_{9}ˏ_9\n",
       "\\end{equation}\n",
       " $$"
      ],
      "text/plain": [
       "Cᵘ[1, 3]*Δx + Cᵘ[3, 1]*Δx + Cᵘ[1, 4]*Y*Δx + Cᵘ[3, 2]*Y*Δx + (1//2)*Cᵘ[1, 5]*(Y^2)*Δx + (1//2)*Cᵘ[3, 3]*(Y^2)*Δx + (1//12)*Cᵘ[3, 3]*(Δx^3) + (1//12)*Cᵘ[5, 1]*(Δx^3) + (1//6)*Cᵘ[1, 6]*(Y^3)*Δx + (1//6)*Cᵘ[3, 4]*(Y^3)*Δx + (1//12)*Cᵘ[3, 4]*Y*(Δx^3) + (1//12)*Cᵘ[5, 2]*Y*(Δx^3) + (1//24)*Cᵘ[1, 7]*(Y^4)*Δx + (1//24)*Cᵘ[3, 5]*(Y^4)*Δx + (1//24)*Cᵘ[3, 5]*(Y^2)*(Δx^3) + (1//24)*Cᵘ[5, 3]*(Y^2)*(Δx^3) + (1//360)*Cᵘ[5, 3]*(Δx^5) + (1//360)*Cᵘ[7, 1]*(Δx^5) + (1//120)*Cᵘ[1, 8]*(Y^5)*Δx + (1//120)*Cᵘ[3, 6]*(Y^5)*Δx + (1//72)*Cᵘ[3, 6]*(Y^3)*(Δx^3) + (1//72)*Cᵘ[5, 4]*(Y^3)*(Δx^3) + (1//360)*Cᵘ[5, 4]*Y*(Δx^5) + (1//360)*Cᵘ[7, 2]*Y*(Δx^5) + (1//720)*Cᵘ[1, 9]*(Y^6)*Δx + (1//720)*Cᵘ[3, 7]*(Y^6)*Δx + (1//288)*Cᵘ[3, 7]*(Y^4)*(Δx^3) + (1//288)*Cᵘ[5, 5]*(Y^4)*(Δx^3) + (1//720)*Cᵘ[5, 5]*(Y^2)*(Δx^5) + (1//720)*Cᵘ[7, 3]*(Y^2)*(Δx^5) + (1//20160)*Cᵘ[7, 3]*(Δx^7) + (1//20160)*Cᵘ[9, 1]*(Δx^7) + (1//5040)*Cᵘ[3, 8]*(Y^7)*Δx + (1//1440)*Cᵘ[3, 8]*(Y^5)*(Δx^3) + (1//1440)*Cᵘ[5, 6]*(Y^5)*(Δx^3) + (1//2160)*Cᵘ[5, 6]*(Y^3)*(Δx^5) + (1//2160)*Cᵘ[7, 4]*(Y^3)*(Δx^5) + (1//20160)*Cᵘ[7, 4]*Y*(Δx^7) + (1//20160)*Cᵘ[9, 2]*Y*(Δx^7) + (1//40320)*Cᵘ[3, 9]*(Y^8)*Δx + (1//8640)*Cᵘ[3, 9]*(Y^6)*(Δx^3) + (1//8640)*Cᵘ[5, 7]*(Y^6)*(Δx^3) + (1//8640)*Cᵘ[5, 7]*(Y^4)*(Δx^5) + (1//8640)*Cᵘ[7, 5]*(Y^4)*(Δx^5) + (1//40320)*Cᵘ[7, 5]*(Y^2)*(Δx^7) + (1//40320)*Cᵘ[9, 3]*(Y^2)*(Δx^7) + (1//1814400)*Cᵘ[9, 3]*(Δx^9) + (1//60480)*Cᵘ[5, 8]*(Y^7)*(Δx^3) + (1//43200)*Cᵘ[5, 8]*(Y^5)*(Δx^5) + (1//43200)*Cᵘ[7, 6]*(Y^5)*(Δx^5) + (1//120960)*Cᵘ[7, 6]*(Y^3)*(Δx^7) + (1//120960)*Cᵘ[9, 4]*(Y^3)*(Δx^7) + (1//1814400)*Cᵘ[9, 4]*Y*(Δx^9) + (1//483840)*Cᵘ[5, 9]*(Y^8)*(Δx^3) + (1//259200)*Cᵘ[5, 9]*(Y^6)*(Δx^5) + (1//259200)*Cᵘ[7, 7]*(Y^6)*(Δx^5) + (1//483840)*Cᵘ[7, 7]*(Y^4)*(Δx^7) + (1//483840)*Cᵘ[9, 5]*(Y^4)*(Δx^7) + (1//3628800)*Cᵘ[9, 5]*(Y^2)*(Δx^9) + (1//1814400)*Cᵘ[7, 8]*(Y^7)*(Δx^5) + (1//2419200)*Cᵘ[7, 8]*(Y^5)*(Δx^7) + (1//2419200)*Cᵘ[9, 6]*(Y^5)*(Δx^7) + (1//10886400)*Cᵘ[9, 6]*(Y^3)*(Δx^9) + (1//14515200)*Cᵘ[7, 9]*(Y^8)*(Δx^5) + (1//14515200)*Cᵘ[7, 9]*(Y^6)*(Δx^7) + (1//14515200)*Cᵘ[9, 7]*(Y^6)*(Δx^7) + (1//43545600)*Cᵘ[9, 7]*(Y^4)*(Δx^9) + (1//101606400)*Cᵘ[9, 8]*(Y^7)*(Δx^7) + (1//217728000)*Cᵘ[9, 8]*(Y^5)*(Δx^9) + (1//812851200)*Cᵘ[9, 9]*(Y^8)*(Δx^7) + (1//1306368000)*Cᵘ[9, 9]*(Y^6)*(Δx^9)"
      ]
     },
     "metadata": {},
     "output_type": "display_data"
    }
   ],
   "source": [
    "@variables Δx\n",
    "f1_spaceX=integrateTaylorPolynomials(∇u,X)\n",
    "f2_spaceX=integrateTaylorPolynomials(f1_spaceX,X)\n",
    "f2_spaceX_right=substitute(f2_spaceX,Dict([X=>Δx]))\n",
    "f2_spaceX_left=substitute(f2_spaceX,Dict([X=>(-Δx)]))\n",
    "ϕ_deriv_right=-1//Δx\n",
    "ϕ_deriv_left = 1//Δx\n",
    "desired_value_in_spaceX=-(ϕ_deriv_right*f2_spaceX_right-ϕ_deriv_left*f2_spaceX_left)\n",
    "desired_value_in_spaceX=simplify(desired_value_in_spaceX;expand=true)"
   ]
  },
  {
   "cell_type": "code",
   "execution_count": 79,
   "metadata": {},
   "outputs": [
    {
     "data": {
      "text/latex": [
       "$$ \\begin{equation}\n",
       "C^u_{1}ˏ_3 {\\Delta}x {\\Delta}y + C^u_{3}ˏ_1 {\\Delta}x {\\Delta}y + \\frac{1}{12} {\\Delta}y^{3} C^u_{1}ˏ_5 {\\Delta}x + \\frac{1}{12} {\\Delta}x^{3} C^u_{3}ˏ_3 {\\Delta}y + \\frac{1}{12} {\\Delta}y^{3} C^u_{3}ˏ_3 {\\Delta}x + \\frac{1}{12} {\\Delta}x^{3} C^u_{5}ˏ_1 {\\Delta}y + \\frac{1}{360} {\\Delta}y^{5} C^u_{1}ˏ_7 {\\Delta}x + \\frac{1}{144} {\\Delta}y^{3} {\\Delta}x^{3} C^u_{3}ˏ_5 + \\frac{1}{360} {\\Delta}y^{5} C^u_{3}ˏ_5 {\\Delta}x + \\frac{1}{360} {\\Delta}x^{5} C^u_{5}ˏ_3 {\\Delta}y + \\frac{1}{144} {\\Delta}y^{3} {\\Delta}x^{3} C^u_{5}ˏ_3 + \\frac{1}{360} {\\Delta}x^{5} C^u_{7}ˏ_1 {\\Delta}y + \\frac{1}{20160} {\\Delta}y^{7} C^u_{1}ˏ_9 {\\Delta}x + \\frac{1}{4320} {\\Delta}y^{5} {\\Delta}x^{3} C^u_{3}ˏ_7 + \\frac{1}{20160} {\\Delta}y^{7} C^u_{3}ˏ_7 {\\Delta}x + \\frac{1}{4320} {\\Delta}y^{3} {\\Delta}x^{5} C^u_{5}ˏ_5 + \\frac{1}{4320} {\\Delta}y^{5} {\\Delta}x^{3} C^u_{5}ˏ_5 + \\frac{1}{20160} {\\Delta}x^{7} C^u_{7}ˏ_3 {\\Delta}y + \\frac{1}{4320} {\\Delta}y^{3} {\\Delta}x^{5} C^u_{7}ˏ_3 + \\frac{1}{20160} {\\Delta}x^{7} C^u_{9}ˏ_1 {\\Delta}y + \\frac{1}{241920} {\\Delta}y^{7} {\\Delta}x^{3} C^u_{3}ˏ_9 + \\frac{1}{1814400} {\\Delta}y^{9} C^u_{3}ˏ_9 {\\Delta}x + \\frac{1}{129600} {\\Delta}y^{5} {\\Delta}x^{5} C^u_{5}ˏ_7 + \\frac{1}{241920} {\\Delta}y^{7} {\\Delta}x^{3} C^u_{5}ˏ_7 + \\frac{1}{241920} {\\Delta}y^{3} {\\Delta}x^{7} C^u_{7}ˏ_5 + \\frac{1}{129600} {\\Delta}y^{5} {\\Delta}x^{5} C^u_{7}ˏ_5 + \\frac{1}{1814400} {\\Delta}x^{9} C^u_{9}ˏ_3 {\\Delta}y + \\frac{1}{241920} {\\Delta}y^{3} {\\Delta}x^{7} C^u_{9}ˏ_3 + \\frac{1}{7257600} {\\Delta}y^{7} {\\Delta}x^{5} C^u_{5}ˏ_9 + \\frac{1}{21772800} {\\Delta}y^{9} {\\Delta}x^{3} C^u_{5}ˏ_9 + \\frac{1}{7257600} {\\Delta}y^{5} {\\Delta}x^{7} C^u_{7}ˏ_7 + \\frac{1}{7257600} {\\Delta}y^{7} {\\Delta}x^{5} C^u_{7}ˏ_7 + \\frac{1}{21772800} {\\Delta}y^{3} {\\Delta}x^{9} C^u_{9}ˏ_5 + \\frac{1}{7257600} {\\Delta}y^{5} {\\Delta}x^{7} C^u_{9}ˏ_5 + \\frac{1}{406425600} {\\Delta}y^{7} {\\Delta}x^{7} C^u_{7}ˏ_9 + \\frac{1}{653184000} {\\Delta}y^{9} {\\Delta}x^{5} C^u_{7}ˏ_9 + \\frac{1}{653184000} {\\Delta}y^{5} {\\Delta}x^{9} C^u_{9}ˏ_7 + \\frac{1}{406425600} {\\Delta}y^{7} {\\Delta}x^{7} C^u_{9}ˏ_7 + \\frac{1}{36578304000} {\\Delta}y^{7} {\\Delta}x^{9} C^u_{9}ˏ_9 + \\frac{1}{36578304000} {\\Delta}y^{9} {\\Delta}x^{7} C^u_{9}ˏ_9\n",
       "\\end{equation}\n",
       " $$"
      ],
      "text/plain": [
       "Cᵘ[1, 3]*Δx*Δy + Cᵘ[3, 1]*Δx*Δy + (1//12)*Cᵘ[1, 5]*Δx*(Δy^3) + (1//12)*Cᵘ[3, 3]*(Δx^3)*Δy + (1//12)*Cᵘ[3, 3]*Δx*(Δy^3) + (1//12)*Cᵘ[5, 1]*(Δx^3)*Δy + (1//360)*Cᵘ[1, 7]*Δx*(Δy^5) + (1//144)*Cᵘ[3, 5]*(Δx^3)*(Δy^3) + (1//360)*Cᵘ[3, 5]*Δx*(Δy^5) + (1//360)*Cᵘ[5, 3]*(Δx^5)*Δy + (1//144)*Cᵘ[5, 3]*(Δx^3)*(Δy^3) + (1//360)*Cᵘ[7, 1]*(Δx^5)*Δy + (1//20160)*Cᵘ[1, 9]*Δx*(Δy^7) + (1//4320)*Cᵘ[3, 7]*(Δx^3)*(Δy^5) + (1//20160)*Cᵘ[3, 7]*Δx*(Δy^7) + (1//4320)*Cᵘ[5, 5]*(Δx^5)*(Δy^3) + (1//4320)*Cᵘ[5, 5]*(Δx^3)*(Δy^5) + (1//20160)*Cᵘ[7, 3]*(Δx^7)*Δy + (1//4320)*Cᵘ[7, 3]*(Δx^5)*(Δy^3) + (1//20160)*Cᵘ[9, 1]*(Δx^7)*Δy + (1//241920)*Cᵘ[3, 9]*(Δx^3)*(Δy^7) + (1//1814400)*Cᵘ[3, 9]*Δx*(Δy^9) + (1//129600)*Cᵘ[5, 7]*(Δx^5)*(Δy^5) + (1//241920)*Cᵘ[5, 7]*(Δx^3)*(Δy^7) + (1//241920)*Cᵘ[7, 5]*(Δx^7)*(Δy^3) + (1//129600)*Cᵘ[7, 5]*(Δx^5)*(Δy^5) + (1//1814400)*Cᵘ[9, 3]*(Δx^9)*Δy + (1//241920)*Cᵘ[9, 3]*(Δx^7)*(Δy^3) + (1//7257600)*Cᵘ[5, 9]*(Δx^5)*(Δy^7) + (1//21772800)*Cᵘ[5, 9]*(Δx^3)*(Δy^9) + (1//7257600)*Cᵘ[7, 7]*(Δx^7)*(Δy^5) + (1//7257600)*Cᵘ[7, 7]*(Δx^5)*(Δy^7) + (1//21772800)*Cᵘ[9, 5]*(Δx^9)*(Δy^3) + (1//7257600)*Cᵘ[9, 5]*(Δx^7)*(Δy^5) + (1//406425600)*Cᵘ[7, 9]*(Δx^7)*(Δy^7) + (1//653184000)*Cᵘ[7, 9]*(Δx^5)*(Δy^9) + (1//653184000)*Cᵘ[9, 7]*(Δx^9)*(Δy^5) + (1//406425600)*Cᵘ[9, 7]*(Δx^7)*(Δy^7) + (1//36578304000)*Cᵘ[9, 9]*(Δx^9)*(Δy^7) + (1//36578304000)*Cᵘ[9, 9]*(Δx^7)*(Δy^9)"
      ]
     },
     "metadata": {},
     "output_type": "display_data"
    }
   ],
   "source": [
    "@variables Δy\n",
    "f1_spaceY=integrateTaylorPolynomials(desired_value_in_spaceX,Y)\n",
    "f2_spaceY=integrateTaylorPolynomials(f1_spaceY,Y)\n",
    "f2_spaceY_right=substitute(f2_spaceY,Dict([Y=>Δy]))\n",
    "f2_spaceY_left=substitute(f2_spaceY,Dict([Y=>(-Δy)]))\n",
    "ϕ_deriv_right=-1//Δy\n",
    "ϕ_deriv_left = 1//Δy\n",
    "desired_value_in_spaceY=-(ϕ_deriv_right*f2_spaceY_right-ϕ_deriv_left*f2_spaceY_left)\n",
    "desired_value_in_spaceY=simplify(desired_value_in_spaceY;expand=true)"
   ]
  },
  {
   "cell_type": "code",
   "execution_count": 80,
   "metadata": {},
   "outputs": [
    {
     "data": {
      "text/latex": [
       "$$ \\begin{equation}\n",
       " - {\\Delta}x {\\Delta}y + \\frac{1}{2} {\\Delta}y^{2} A_{m n 0}ˏ_1 + \\frac{1}{2} {\\Delta}y^{2} A_{m n 0}ˏ_{- 1} + \\frac{1}{2} {\\Delta}y^{2} A_{m n 1}ˏ_1 + \\frac{1}{2} {\\Delta}y^{2} A_{m n 1}ˏ_{- 1} + \\frac{1}{2} {\\Delta}y^{2} A_{m n - 1}ˏ_1 + \\frac{1}{2} {\\Delta}y^{2} A_{m n - 1}ˏ_{- 1}\n",
       "\\end{equation}\n",
       " $$"
      ],
      "text/plain": [
       "-Δx*Δy + (1//2)*Aₘₙ₀ˏ₁*(Δy^2) + (1//2)*Aₘₙ₀ˏ₋₁*(Δy^2) + (1//2)*Aₘₙ₁ˏ₁*(Δy^2) + (1//2)*Aₘₙ₁ˏ₋₁*(Δy^2) + (1//2)*Aₘₙ₋₁ˏ₁*(Δy^2) + (1//2)*Aₘₙ₋₁ˏ₋₁*(Δy^2)"
      ]
     },
     "metadata": {},
     "output_type": "display_data"
    }
   ],
   "source": [
    "innerProduct=0\n",
    "for i¹ in 1:L₁ₗ+L₁ᵣ+1\n",
    "    dx¹=Δx*(i¹-L₁ₗ-1)\n",
    "    for i² in 1:L₂ₗ+L₂ᵣ+1\n",
    "        dx² = Δy*(i²-L₂ₗ-1)\n",
    "        innerProduct+=Aₘₙ[i¹,i²]*u(dx¹,dx²)\n",
    "    end\n",
    "end\n",
    "difference_between_matrix_strongform=simplify(innerProduct-desired_value_in_spaceY;expand=true)\n",
    "Symbolics.coeff(difference_between_matrix_strongform,Cᵘ[1,3])"
   ]
  },
  {
   "cell_type": "code",
   "execution_count": 81,
   "metadata": {},
   "outputs": [
    {
     "data": {
      "text/latex": [
       "$$ \\begin{equation}\n",
       "\\frac{ - {\\Delta}x^{2} - {\\Delta}y^{2}}{ - 12 {\\Delta}x {\\Delta}y}\n",
       "\\end{equation}\n",
       " $$"
      ],
      "text/plain": [
       "(-(Δx^2) - (Δy^2)) / (-12Δx*Δy)"
      ]
     },
     "metadata": {},
     "output_type": "display_data"
    }
   ],
   "source": [
    "hierarchical_equations=[]\n",
    "for i¹ in 1:L₁ₗ+L₁ᵣ+1   \n",
    "    for i² in 1:L₂ₗ+L₂ᵣ+1 \n",
    "        push!(hierarchical_equations,Symbolics.coeff(difference_between_matrix_strongform,Cᵘ[i¹,i²])~0)\n",
    "    end\n",
    "end\n",
    "newA=reshape(Symbolics.solve_for(hierarchical_equations,Aₘₙ),(L₁ₗ+L₁ᵣ+1,L₂ₗ+L₂ᵣ+1 ))\n",
    "simplify(newA[1,3])"
   ]
  },
  {
   "cell_type": "code",
   "execution_count": 85,
   "metadata": {},
   "outputs": [
    {
     "data": {
      "text/latex": [
       "$$ \\begin{equation}\n",
       "{\\Delta}x^{2} + {\\Delta}y^{2}\n",
       "\\end{equation}\n",
       " $$"
      ],
      "text/plain": [
       "Δx^2 + Δy^2"
      ]
     },
     "metadata": {},
     "output_type": "display_data"
    },
    {
     "data": {
      "text/latex": [
       "$$ \\begin{equation}\n",
       " - 2 {\\Delta}x^{2} + 10 {\\Delta}y^{2}\n",
       "\\end{equation}\n",
       " $$"
      ],
      "text/plain": [
       "-(2//1)*(Δx^2) + (10//1)*(Δy^2)"
      ]
     },
     "metadata": {},
     "output_type": "display_data"
    },
    {
     "data": {
      "text/latex": [
       "$$ \\begin{equation}\n",
       "{\\Delta}x^{2} + {\\Delta}y^{2}\n",
       "\\end{equation}\n",
       " $$"
      ],
      "text/plain": [
       "Δx^2 + Δy^2"
      ]
     },
     "metadata": {},
     "output_type": "display_data"
    },
    {
     "data": {
      "text/latex": [
       "$$ \\begin{equation}\n",
       "10 {\\Delta}x^{2} - 2 {\\Delta}y^{2}\n",
       "\\end{equation}\n",
       " $$"
      ],
      "text/plain": [
       "(10//1)*(Δx^2) - (2//1)*(Δy^2)"
      ]
     },
     "metadata": {},
     "output_type": "display_data"
    },
    {
     "data": {
      "text/latex": [
       "$$ \\begin{equation}\n",
       " - 20 {\\Delta}x^{2} - 20 {\\Delta}y^{2}\n",
       "\\end{equation}\n",
       " $$"
      ],
      "text/plain": [
       "-(20//1)*(Δx^2) - (20//1)*(Δy^2)"
      ]
     },
     "metadata": {},
     "output_type": "display_data"
    },
    {
     "data": {
      "text/latex": [
       "$$ \\begin{equation}\n",
       "10 {\\Delta}x^{2} - 2 {\\Delta}y^{2}\n",
       "\\end{equation}\n",
       " $$"
      ],
      "text/plain": [
       "(10//1)*(Δx^2) - (2//1)*(Δy^2)"
      ]
     },
     "metadata": {},
     "output_type": "display_data"
    },
    {
     "data": {
      "text/latex": [
       "$$ \\begin{equation}\n",
       "{\\Delta}x^{2} + {\\Delta}y^{2}\n",
       "\\end{equation}\n",
       " $$"
      ],
      "text/plain": [
       "Δx^2 + Δy^2"
      ]
     },
     "metadata": {},
     "output_type": "display_data"
    },
    {
     "data": {
      "text/latex": [
       "$$ \\begin{equation}\n",
       " - 2 {\\Delta}x^{2} + 10 {\\Delta}y^{2}\n",
       "\\end{equation}\n",
       " $$"
      ],
      "text/plain": [
       "-(2//1)*(Δx^2) + (10//1)*(Δy^2)"
      ]
     },
     "metadata": {},
     "output_type": "display_data"
    },
    {
     "data": {
      "text/latex": [
       "$$ \\begin{equation}\n",
       "{\\Delta}x^{2} + {\\Delta}y^{2}\n",
       "\\end{equation}\n",
       " $$"
      ],
      "text/plain": [
       "Δx^2 + Δy^2"
      ]
     },
     "metadata": {},
     "output_type": "display_data"
    }
   ],
   "source": [
    "for i¹ in 1:L₁ₗ+L₁ᵣ+1\n",
    "    for i² in 1:L₂ₗ+L₂ᵣ+1 \n",
    "        display(simplify(newA[i¹,i²]*Δx*Δy*12;expand=true))\n",
    "    end\n",
    "end"
   ]
  },
  {
   "cell_type": "code",
   "execution_count": null,
   "metadata": {},
   "outputs": [],
   "source": []
  }
 ],
 "metadata": {
  "kernelspec": {
   "display_name": "Julia 1.10.2",
   "language": "julia",
   "name": "julia-1.10"
  },
  "language_info": {
   "file_extension": ".jl",
   "mimetype": "application/julia",
   "name": "julia",
   "version": "1.10.2"
  }
 },
 "nbformat": 4,
 "nbformat_minor": 2
}
