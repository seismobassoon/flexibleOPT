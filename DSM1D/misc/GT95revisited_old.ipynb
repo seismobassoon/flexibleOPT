{
 "cells": [
  {
   "cell_type": "markdown",
   "metadata": {},
   "source": [
    "# GT95 revisited\n",
    "\n",
    "\n",
    "In this note, I would like to revisit GT95 and to show how to \"automatically\" derive the optimally accurate operators\n"
   ]
  },
  {
   "cell_type": "code",
   "execution_count": null,
   "metadata": {},
   "outputs": [],
   "source": [
    "\n",
    "using Symbolics\n",
    "using SymbolicUtils"
   ]
  },
  {
   "cell_type": "markdown",
   "metadata": {},
   "source": [
    "## Homogeneous SH\n"
   ]
  },
  {
   "cell_type": "code",
   "execution_count": null,
   "metadata": {},
   "outputs": [],
   "source": [
    "#function linearSpline(x::Float64,j::Int,N::Int,Δz::Float64)\n",
    "function linearSpline(x,j,N,Δz)\n",
    "#function linearSpline(x::SymbolicUtils.Sym{Real, Nothing}, j::SymbolicUtils.Sym{Int64, Nothing}, N::SymbolicUtils.Sym{Int64, Nothing}, xpoint::SymbolicUtils.Sym{SymbolicUtils.FnType{Tuple{Number}, Number}, Nothing})\n",
    "    @syms xpoint(j)\n",
    "    X_local=0.e0\n",
    "    xpoint = j -> Real(j-1)*Δz\n",
    "    if j-1>=0 && xpoint(j-1) <= x < xpoint(j)\n",
    "        X_local = (x-xpoint(j-1))/(xpoint(j)-xpoint(j-1))\n",
    "    elseif j+1<=N && xpoint(j) <= x <= xpoint(j+1)\n",
    "        X_local = (xpoint(j+1)-x)/(xpoint(j+1)-xpoint(j))\n",
    "    end\n",
    "\n",
    "    return X_local\n",
    "end\n"
   ]
  },
  {
   "cell_type": "code",
   "execution_count": null,
   "metadata": {},
   "outputs": [],
   "source": [
    "\n",
    "@syms x::Real Δz::Real j::Int N::Int\n",
    "#@syms xpoint[1:N+1]::Array{Real,1}\n",
    "@syms X(j,x)::Real # spline functions \n",
    "N=10    \n",
    "j=1:N\n",
    "#xpoint = j -> Real(j-1)*Δz\n",
    "X= (j,x) -> linearSpline(x,j,N,Δz)\n",
    "#X=(j,x) ->sin(x)^j\n"
   ]
  },
  {
   "cell_type": "code",
   "execution_count": null,
   "metadata": {},
   "outputs": [],
   "source": [
    "A[I_1, I_2, ..., I_n]=X"
   ]
  },
  {
   "cell_type": "code",
   "execution_count": null,
   "metadata": {},
   "outputs": [],
   "source": [
    "X=linearSpline(1.0,1,10,1.0)\n"
   ]
  },
  {
   "cell_type": "code",
   "execution_count": null,
   "metadata": {},
   "outputs": [],
   "source": [
    "typeof(X(j,x))"
   ]
  },
  {
   "cell_type": "markdown",
   "metadata": {},
   "source": [
    "# OK do this differently"
   ]
  },
  {
   "cell_type": "markdown",
   "metadata": {},
   "source": [
    "OK, let's forget about making an array of functions with Symbolics, it's been already more than one week!"
   ]
  },
  {
   "cell_type": "code",
   "execution_count": null,
   "metadata": {},
   "outputs": [],
   "source": [
    "function zerothSpline(x,j,nodes)\n",
    "    X_local=0.e0\n",
    "    if j>=1 && j+1 <=length(nodes) && nodes[j] <= x < nodes[j+1]\n",
    "        X_local = 1.e0\n",
    "    end\n",
    "end\n",
    "\n",
    "function Spline(x,j,k,nodes)\n",
    "    X_local=0.e0\n",
    "    if k>0 \n",
    "        if j+1 <= length(nodes)\n",
    "            X_local += (x-nodes[j])/(nodes[j+k]-nodes[j])*Spline(x,j,k-1,nodes) \n",
    "        end\n",
    "        if j+k+1 <= length(nodes)\n",
    "            X_local += X_local + (nodes[j+k+1]-x)/(nodes[j+k+1]-nodes[j+1])*Spline(x,j+1,k-1,nodes)\n",
    "        end      \n",
    "    elseif k==0\n",
    "        if j>=1 && j+1 <=length(nodes) && nodes[j] <= x < nodes[j+1]\n",
    "            X_local = 1.e0\n",
    "        end\n",
    "    end\n",
    "end"
   ]
  },
  {
   "cell_type": "code",
   "execution_count": null,
   "metadata": {},
   "outputs": [],
   "source": [
    "@variables  Δz::Real \n",
    "N=50 # number of nodes\n",
    "K=3 # maximum order of spline\n",
    "Nresolution =10 # number of points between nodes\n",
    "Xspline=Array{Symbolics.Real,3}(undef,K+1+1,N+1,N*Nresolution+1);\n",
    "XsplinePrime=Array{Symbolics.Real,3}(undef,K+1+1,N+1,N*Nresolution+1);\n"
   ]
  },
  {
   "cell_type": "code",
   "execution_count": null,
   "metadata": {},
   "outputs": [],
   "source": [
    "\n",
    "\n",
    "#@variables Xspline[1:K+1,1:N+1,1:N*Nresolution+1] XsplinePrime[1:K+1,1:N+1,1:N*Nresolution+1];\n",
    "\n",
    "nodes=[Δz*(i-1) for i in 1:N+1]\n",
    "xarray=[Δz*(i-1)//Nresolution for i in 1:N*Nresolution+1]\n",
    "#Xspline=zeros(N+1,K+1,1:N*Nresolution+1)\n",
    "\n"
   ]
  },
  {
   "cell_type": "code",
   "execution_count": null,
   "metadata": {},
   "outputs": [],
   "source": [
    "\n",
    "for k = 0:K # k is shifted after when stored (but not now in this routine) with respect to the ordering of spline functions\n",
    "    for j = 1:N+1 # j is shifted by 1 compared to the paper\n",
    "      for xi= 1:N*Nresolution+1 # xi is shifted by 1 \n",
    "        #X_local = Spline(x[xi],j,k,nodes)\n",
    "        x=xarray[xi]\n",
    "        X_local=0\n",
    "        X_local_prime=0\n",
    "        if k>0 \n",
    "            if j+k <= N+1 \n",
    "                \n",
    "                X_local += (x-nodes[j])/(nodes[j+k]-nodes[j])*Xspline[k-1+1,j,xi]\n",
    "                X_local_prime +=  (x-nodes[j])/(nodes[j+k]-nodes[j])*XsplinePrime[k-1+1,j,xi] + Xspline[k-1+1,j,xi]/(nodes[j+k]-nodes[j])\n",
    "            end\n",
    "            if j+k+1 <= N+1\n",
    "                X_local +=  (nodes[j+k+1]-x)/(nodes[j+k+1]-nodes[j+1])*Xspline[k-1+1,j+1,xi]\n",
    "                X_local_prime += -1/(nodes[j+k+1]-nodes[j+1])*Xspline[k-1+1,j+1,xi] + (nodes[j+k+1]-x)/(nodes[j+k+1]-nodes[j+1])*XsplinePrime[k-1+1,j+1,xi]\n",
    "            end      \n",
    "        elseif k==0\n",
    "            if j>=1 && j+1 <= N+1 && nodes[j]/Δz <= x/Δz < nodes[j+1]/Δz\n",
    "                X_local = 1\n",
    "            end\n",
    "        end\n",
    "        Xspline[k+1,j,xi]=X_local\n",
    "        XsplinePrime[k+1,j,xi]=X_local_prime\n",
    "      end\n",
    "    end\n",
    "end\n",
    "\n"
   ]
  },
  {
   "cell_type": "code",
   "execution_count": null,
   "metadata": {},
   "outputs": [],
   "source": [
    "XsplinePrime[2,2,2]\n",
    "\n"
   ]
  },
  {
   "cell_type": "code",
   "execution_count": null,
   "metadata": {},
   "outputs": [],
   "source": [
    "Xspline[1,3,24]"
   ]
  },
  {
   "cell_type": "code",
   "execution_count": null,
   "metadata": {},
   "outputs": [],
   "source": [
    "@variables A[1:5, 1:3] b[1:3]"
   ]
  },
  {
   "cell_type": "code",
   "execution_count": null,
   "metadata": {},
   "outputs": [],
   "source": [
    "Symbolics.scalarize(A[2, 1]) = 1"
   ]
  },
  {
   "cell_type": "code",
   "execution_count": null,
   "metadata": {},
   "outputs": [],
   "source": []
  }
 ],
 "metadata": {
  "kernelspec": {
   "display_name": "Julia 1.9.2",
   "language": "julia",
   "name": "julia-1.9"
  },
  "language_info": {
   "file_extension": ".jl",
   "mimetype": "application/julia",
   "name": "julia",
   "version": "1.9.2"
  }
 },
 "nbformat": 4,
 "nbformat_minor": 2
}
