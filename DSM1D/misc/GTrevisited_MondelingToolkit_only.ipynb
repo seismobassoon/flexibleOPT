{
 "cells": [
  {
   "cell_type": "markdown",
   "metadata": {},
   "source": [
    "# GT98 revisited\n"
   ]
  },
  {
   "cell_type": "code",
   "execution_count": 9,
   "metadata": {},
   "outputs": [],
   "source": [
    "using ModelingToolkit, DomainSets"
   ]
  },
  {
   "cell_type": "code",
   "execution_count": 29,
   "metadata": {},
   "outputs": [
    {
     "data": {
      "text/plain": [
       "(::Differential) (generic function with 2 methods)"
      ]
     },
     "metadata": {},
     "output_type": "display_data"
    }
   ],
   "source": [
    "\n",
    "@variables x t f(x,t) Δx\n",
    "∂ₓ=Differential(x)\n",
    "∂ₜ=Differential(t)"
   ]
  },
  {
   "cell_type": "code",
   "execution_count": 25,
   "metadata": {},
   "outputs": [
    {
     "data": {
      "text/plain": [
       "g (generic function with 1 method)"
      ]
     },
     "metadata": {},
     "output_type": "display_data"
    }
   ],
   "source": [
    "g(x,t)=1//2*x^2+1//6*x^3 +x*t"
   ]
  },
  {
   "cell_type": "code",
   "execution_count": 26,
   "metadata": {},
   "outputs": [
    {
     "data": {
      "text/plain": [
       "h (generic function with 1 method)"
      ]
     },
     "metadata": {},
     "output_type": "display_data"
    }
   ],
   "source": [
    "h(x,t)=expand_derivatives(∂ₓ(g(x,t)))"
   ]
  },
  {
   "cell_type": "code",
   "execution_count": 31,
   "metadata": {},
   "outputs": [
    {
     "data": {
      "text/latex": [
       "$$ \\begin{equation}\n",
       "\\frac{1}{6} {\\Delta}x^{3} + \\frac{1}{2} {\\Delta}x^{2} + t {\\Delta}x\n",
       "\\end{equation}\n",
       " $$"
      ],
      "text/plain": [
       "(1//6)*(Δx^3) + (1//2)*(Δx^2) + t*Δx"
      ]
     },
     "metadata": {},
     "output_type": "display_data"
    }
   ],
   "source": [
    "g(Δx,t)"
   ]
  },
  {
   "cell_type": "code",
   "execution_count": 32,
   "metadata": {},
   "outputs": [
    {
     "data": {
      "text/latex": [
       "$$ \\begin{equation}\n",
       "t + x + \\frac{1}{2} x^{2}\n",
       "\\end{equation}\n",
       " $$"
      ],
      "text/plain": [
       "t + x + (1//2)*(x^2)"
      ]
     },
     "metadata": {},
     "output_type": "display_data"
    }
   ],
   "source": [
    "h(x,t)"
   ]
  },
  {
   "cell_type": "code",
   "execution_count": 33,
   "metadata": {},
   "outputs": [
    {
     "data": {
      "text/latex": [
       "$$ \\begin{equation}\n",
       "0\n",
       "\\end{equation}\n",
       " $$"
      ],
      "text/plain": [
       "0"
      ]
     },
     "metadata": {},
     "output_type": "display_data"
    }
   ],
   "source": [
    "h(Δx,t)"
   ]
  },
  {
   "cell_type": "code",
   "execution_count": 17,
   "metadata": {},
   "outputs": [
    {
     "data": {
      "text/plain": [
       "(::Integral{Symbolics.VarDomainPairing}) (generic function with 2 methods)"
      ]
     },
     "metadata": {},
     "output_type": "display_data"
    }
   ],
   "source": [
    "Ix=Integral(x in DomainSets.ClosedInterval(-Inf,+Inf))"
   ]
  },
  {
   "cell_type": "code",
   "execution_count": 21,
   "metadata": {},
   "outputs": [
    {
     "data": {
      "text/plain": [
       "H (generic function with 1 method)"
      ]
     },
     "metadata": {},
     "output_type": "display_data"
    }
   ],
   "source": [
    "H(x,t)=expand(Ix(h(x,t)))"
   ]
  },
  {
   "cell_type": "code",
   "execution_count": 22,
   "metadata": {},
   "outputs": [
    {
     "data": {
      "text/latex": [
       "$$ \\begin{equation}\n",
       "\\mathrm{Integral(x, -Inf..Inf)}\\left( 0 \\right)\n",
       "\\end{equation}\n",
       " $$"
      ],
      "text/plain": [
       "Integral(x, -Inf..Inf)(0)"
      ]
     },
     "metadata": {},
     "output_type": "display_data"
    }
   ],
   "source": [
    "H(Δx,t)"
   ]
  },
  {
   "cell_type": "code",
   "execution_count": null,
   "metadata": {},
   "outputs": [],
   "source": [
    "# SymbolicNumericIntegration usage \n",
    "@variables x a b xa xb\n",
    "f(x,a,b), dummy, dummy2=integrate(cosh(a * x) * exp(b * x), x; symbolic = true)\n",
    "f(x,xa,xb)"
   ]
  },
  {
   "cell_type": "markdown",
   "metadata": {},
   "source": [
    "We are looking for the expression for \n",
    "\\begin{equation}\n",
    "\\int dt \\psi^{(n)} \\int dx \\phi^{(m)} \\left [ \\rho (x) \\frac{\\partial^2}{\\partial t^2} u(x,t) - \\frac{\\partial}{\\partial x} \\left ( \\mu (x) \\frac{\\partial}{\\partial x} u(x,t) \\right ) \\right ]\n",
    "\\end{equation}\n",
    "as the inner product:\n",
    "\n",
    "\\begin{equation}\n",
    "\\sum_{m^\\prime = m-1}^{m+1} \\sum_{n^\\prime = n-1}^{n+1} A_{m^\\prime n^\\prime} u (x_{m^\\prime}, t_{n^\\prime})\n",
    "\\end{equation}\n",
    "\n"
   ]
  },
  {
   "cell_type": "markdown",
   "metadata": {},
   "source": [
    "We use this integration by parts in order to prepare the spatial and temporal integration symbolically.\n",
    "\n",
    "\\begin{equation}\n",
    "\\int_{y_1}^{y_2} dy f(y) w(y) = \\left [F(y) w(y) \\right ]_{y_1}^{y_2} - \\int_{y_1}^{y_2} dy \\frac{\\partial w(y)}{\\partial y} F(y)\n",
    "\\end{equation}\n",
    "with\n",
    "\\begin{equation}\n",
    "F(y)=\\int dy f(y)\n",
    "\\end{equation}\n",
    "Since $F(y)$ can be obtained analytically with the aid of Taylor expansion, this symbolic computation is feasible."
   ]
  },
  {
   "cell_type": "markdown",
   "metadata": {},
   "source": [
    "If we use spline functions, the above equation can be further developed as:\n",
    "\\begin{align}\n",
    "\\int_{y_1}^{y_2} dy f(y) w(y) &=& \\left [F^{(1)}(y) w(y) \\right ]_{y_1}^{y_2} - \\int_{y_1}^{y_2} dy  F^{(1)}(y) \\frac{\\partial w(y)}{\\partial y} \\\\\n",
    "&=& \\left [F^{(1)}(y) w(y) \\right ]_{y_1}^{y_2} -  \\left [F^{(2)}(y) \\frac{\\partial w(y)}{\\partial y} \\right ]_{y_1}^{y_2} + \\int_{y_1}^{y_2} dy F^{(2)}(y) \\frac{\\partial^2 w(y)}{\\partial y^2} \\\\\n",
    "&=& \\left [F^{(1)}(y) w(y) \\right ]_{y_1}^{y_2} -  \\left [F^{(2)}(y) \\frac{\\partial w(y)}{\\partial y} \\right ]_{y_1}^{y_2} + \\left [F^{(3)}(y) \\frac{\\partial^2 w(y)}{\\partial y^2} \\right ]_{y_1}^{y_2} - \\cdots \n",
    "\\end{align}"
   ]
  },
  {
   "cell_type": "markdown",
   "metadata": {},
   "source": [
    "# specific simplification\n",
    "Apart from the edges, normally we (prefer to) use weighting functions that have zero at the end point/curve/surfaces. This will finally make the above expression simpler, if $w$ is $N$-times derivable.\n",
    "\n",
    "\\begin{equation}\n",
    "\\int_{y_1}^{y_2} dy f(y) w(y) = \\sum_{i=1 \\ \\textrm{or} \\ 2}^{N} (-1)^{(i-1)}\\left [ F^{(i)}(y) \\frac{\\partial^{(i-1)}}{\\partial y^{(i-1)}}w(y)\\right ]_{y_1}^{y_2}\n",
    "\\end{equation}\n"
   ]
  },
  {
   "cell_type": "markdown",
   "metadata": {},
   "source": []
  },
  {
   "cell_type": "code",
   "execution_count": null,
   "metadata": {},
   "outputs": [],
   "source": [
    "orderUtime=2\n",
    "orderUspace=2\n",
    "#m = 15 # the midpoint to evaluate the operator at\n",
    "L₁ₗ = 1 # the leftmost point for x1 direction\n",
    "L₁ᵣ = 1 # the rightmost point\n",
    "Lₜₗ = 1 # the leftmost point for t direction\n",
    "Lₜᵣ = 1 # the rightmost point\n",
    "\n",
    "\n",
    "orderStructure=L₁ₗ+L₁ᵣ # number of nodes minus one\n",
    "\n",
    "@variables dx₁ dt   \n",
    "@variables Cᴾ[1:orderStructure+1] Cᴹ[1:orderStructure+1] Cᵘ[1:orderUspace+1,1:orderUtime+1] # These are the derivatives at the node point xₘ, tₙ\n",
    "#@variables x¹ t\n",
    "\n",
    "\n",
    "\n",
    "\n",
    "#@variables ξ¹[1:L₁ₗ+L₁ᵣ+1]  τ[1:Lₜₗ+Lₜᵣ+1] # These are the node points in the spatial and time domain\n",
    "#@variables ξ¹ₘ[-L₁ₗ:L₁ᵣ] τₙ[-L₁ₗ:L₁ᵣ] ρₘ[-L₁ₗ:L₁ᵣ] μₘ[-L₁ₗ:L₁ᵣ]\n",
    "ξ¹ₘ = Symbolics.variables(:ξ¹ₘ,-L₁ₗ:L₁ᵣ) # nodes in space (x₁ direction)\n",
    "τₙ = Symbolics.variables(:τₙ,-Lₜₗ:Lₜᵣ) # nodes in time\n",
    "ρₘ = Symbolics.variables(:ρₘ,-L₁ₗ:L₁ᵣ)\n",
    "μₘ = Symbolics.variables(:μₘ,-L₁ₗ:L₁ᵣ)\n",
    "uₘₙ= Symbolics.variables(:uₘₙ,-L₁ₗ:L₁ᵣ,-Lₜₗ:Lₜᵣ)\n",
    "\n",
    "ρ(dx₁) = sum(Cᴾ[i] * dx₁^(i-1) / factorial(BigInt(i-1)) for i in 1:orderStructure+1)\n",
    "μ(dx₁) = sum(Cᴹ[i] * dx₁^(i-1) / factorial(BigInt(i-1)) for i in 1:orderStructure+1)\n",
    "u(dx₁,dt) = sum(sum(Cᵘ[i,j] * dx₁^(i-1) * dt^(j-1) / factorial(BigInt(i-1)) / factorial(BigInt(j-1)) for i in 1:orderUspace+1) for j in 1:orderUtime+1)"
   ]
  },
  {
   "cell_type": "markdown",
   "metadata": {},
   "source": [
    "## First step\n",
    "We need to construct the Taylor expansion coefficients for $\\rho$ and $\\mu$ from nodes"
   ]
  },
  {
   "cell_type": "code",
   "execution_count": null,
   "metadata": {},
   "outputs": [],
   "source": [
    "# dummy X and T for X = x-xₘ T = t-tₘ\n",
    "@variables X,T # (continuous) x and t from xₘ and tₙ\n",
    "# define derivatives\n",
    "DT=Differential(T)\n",
    "DX=Differential(X)\n",
    "DT2=DT^2\n",
    "DX2=DX^2"
   ]
  },
  {
   "cell_type": "code",
   "execution_count": null,
   "metadata": {},
   "outputs": [],
   "source": [
    "ρ(ξ¹ₘ[2]-ξ¹ₘ[1])"
   ]
  },
  {
   "cell_type": "markdown",
   "metadata": {},
   "source": [
    "If we use an arregular mesh:"
   ]
  },
  {
   "cell_type": "code",
   "execution_count": null,
   "metadata": {},
   "outputs": [],
   "source": [
    "# This should be used for an irregular mesh\n",
    "eqsρ=[]\n",
    "eqsμ=[]\n",
    "eqsu=[]\n",
    "for i¹ in 1:L₁ₗ+L₁ᵣ+1\n",
    "    dx¹=ξ¹ₘ[i¹]-ξ¹ₘ[L₁ₗ+1]\n",
    "    eqsρ = push!(eqsρ, ρₘ[i¹]~ ρ(dx¹))\n",
    "    eqsμ = push!(eqsμ, μₘ[i¹]~ μ(dx¹))\n",
    "    for iᵗ in 1:Lₜₗ+Lₜᵣ+1\n",
    "        dt = τₙ[iᵗ]-τₙ[Lₜₗ+1]\n",
    "        eqsu = push!(eqsu, uₘₙ[i¹,iᵗ]~u(dx¹,dt))\n",
    "    end\n",
    "end\n",
    "\n"
   ]
  },
  {
   "cell_type": "markdown",
   "metadata": {},
   "source": [
    "If we use a regular mesh:\n"
   ]
  },
  {
   "cell_type": "code",
   "execution_count": null,
   "metadata": {},
   "outputs": [],
   "source": [
    "# Here we can also think about a regular mesh\n",
    "@variables dx Δx dt Δt\n",
    "eqsρ=[]\n",
    "eqsμ=[]\n",
    "eqsu=[]\n",
    "for i¹ in 1:L₁ₗ+L₁ᵣ+1\n",
    "    dx¹=Δx*(i¹-L₁ₗ-1)\n",
    "    eqsρ = push!(eqsρ, ρₘ[i¹]~ ρ(dx¹))\n",
    "    eqsμ = push!(eqsμ, μₘ[i¹]~ μ(dx¹))\n",
    "    for iᵗ in 1:Lₜₗ+Lₜᵣ+1\n",
    "        dt = Δt*(iᵗ-Lₜₗ-1)\n",
    "        eqsu = push!(eqsu, uₘₙ[i¹,iᵗ]~u(dx¹,dt))\n",
    "    end\n",
    "end"
   ]
  },
  {
   "cell_type": "code",
   "execution_count": null,
   "metadata": {},
   "outputs": [],
   "source": [
    "newCᴾ=Symbolics.solve_for(eqsρ,Cᴾ)\n",
    "newCᴹ=Symbolics.solve_for(eqsμ,Cᴹ) # if I do simplify here, it doesn't do a good job\n",
    "newCᵘ=reshape(Symbolics.solve_for(eqsu,Cᵘ),(L₁ₗ+L₁ᵣ+1,Lₜₗ+Lₜᵣ+1))\n",
    "simplify(newCᴹ[2]) # maybe for the moment simplify should work only for an element\n",
    "# this newCᴹ and newCᴾ are the derivatives to reconstruct polynomial expressions for continuous ρ and μ\n",
    "\n",
    "newρ(dx₁) = sum(newCᴾ[i] * dx₁^(i-1) / factorial(BigInt(i-1)) for i in 1:orderStructure+1)\n",
    "newμ(dx₁) = sum(newCᴹ[i] * dx₁^(i-1) / factorial(BigInt(i-1)) for i in 1:orderStructure+1)\n",
    "#newu(dx₁,dt) = sum(sum(newCᵘ[i,j] * dx₁^(i-1) * dt^(j-1) / factorial(BigInt(i-1)) / factorial(BigInt(j-1)) for i in 1:orderUspace+1) for j in 1:orderUtime+1)"
   ]
  },
  {
   "cell_type": "code",
   "execution_count": null,
   "metadata": {},
   "outputs": [],
   "source": [
    "newμ(X)\n",
    "#Symbolics.coeff(X^2+2*X,X)"
   ]
  },
  {
   "cell_type": "code",
   "execution_count": null,
   "metadata": {},
   "outputs": [],
   "source": [
    "simplify(u(X,T))"
   ]
  },
  {
   "cell_type": "code",
   "execution_count": null,
   "metadata": {},
   "outputs": [],
   "source": [
    "#newu(X,T)\n",
    "# newu is not a good idea "
   ]
  },
  {
   "cell_type": "markdown",
   "metadata": {},
   "source": [
    "# Second step"
   ]
  },
  {
   "cell_type": "code",
   "execution_count": null,
   "metadata": {},
   "outputs": [],
   "source": [
    "\n",
    "#u(X,T)\n",
    "expand_derivatives(Differential(X)(u(X,T)))\n"
   ]
  },
  {
   "cell_type": "code",
   "execution_count": null,
   "metadata": {},
   "outputs": [],
   "source": [
    "# expression of acceleration:\n",
    "\n",
    "ρü=newρ(X)* expand_derivatives(DT2(u(X,T)))\n",
    "expand(ρü)"
   ]
  },
  {
   "cell_type": "code",
   "execution_count": null,
   "metadata": {},
   "outputs": [],
   "source": [
    "# expression of (μu′)′\n",
    "\n",
    "μu′ = expand(newμ(X)*expand_derivatives(DX(u(X,T))))\n",
    "kinematics= expand(expand_derivatives(DX(μu′)))"
   ]
  },
  {
   "cell_type": "code",
   "execution_count": null,
   "metadata": {},
   "outputs": [],
   "source": [
    "# here we give the integrand\n",
    "integrand=ρü-kinematics"
   ]
  },
  {
   "cell_type": "code",
   "execution_count": null,
   "metadata": {},
   "outputs": [],
   "source": [
    "simplify(integrand(X,T))"
   ]
  },
  {
   "cell_type": "code",
   "execution_count": null,
   "metadata": {},
   "outputs": [],
   "source": [
    "simplify(substitute(integrand, Dict(X=>Δx)))"
   ]
  },
  {
   "cell_type": "code",
   "execution_count": null,
   "metadata": {},
   "outputs": [],
   "source": [
    "f1_space,dummy,dummy2=SymbolicNumericIntegration.integrate(integrand,X; symbolic=true)\n",
    "f2_space,dummy,dummy2=SymbolicNumericIntegration.integrate(f1_space,X; symbolic=true)"
   ]
  },
  {
   "cell_type": "code",
   "execution_count": null,
   "metadata": {},
   "outputs": [],
   "source": [
    "f2_space"
   ]
  },
  {
   "cell_type": "code",
   "execution_count": null,
   "metadata": {},
   "outputs": [],
   "source": [
    "@variables τ\n",
    "\n",
    "F2_space(Δx,τ)"
   ]
  },
  {
   "cell_type": "code",
   "execution_count": null,
   "metadata": {},
   "outputs": [],
   "source": [
    "F2_space(X,T)\n"
   ]
  },
  {
   "cell_type": "code",
   "execution_count": null,
   "metadata": {},
   "outputs": [],
   "source": [
    "F2_space(X,T)"
   ]
  },
  {
   "cell_type": "code",
   "execution_count": null,
   "metadata": {},
   "outputs": [],
   "source": [
    "#@variables PP[1:L₁ₗ+L₁ᵣ+1] MM[1:L₁ₗ+L₁ᵣ+1]\n",
    "F2_space=expand(F2_space)\n",
    "#f=substitute(F2_space,Dict([X=>Δx]))\n",
    "#F2_space=X^2+X\n",
    "#@variables xx\n",
    "#F2_space=X^2*ρₘ[2]*Cᵘ[1,3]/Δx\n",
    "#@variables y\n",
    "#\\f=substitute(F2_space,Dict([ρₘ=>PP,μₘ=>MM,X=>Δx]))\n",
    "#f\n"
   ]
  },
  {
   "cell_type": "code",
   "execution_count": null,
   "metadata": {},
   "outputs": [],
   "source": [
    "integrand_for_time=-1/Δx*substitute(F2_space,Dict([X=>Δx]))+(-1/Δx)*substitute(F2_space,Dict([X=>Δx]))"
   ]
  },
  {
   "cell_type": "markdown",
   "metadata": {},
   "source": [
    "# Symbolic integral\n",
    "Here we evaluate the binlinar integral operators step by step.\n",
    "\n",
    "The goal is:\n",
    "\\begin{equation}\n",
    "\\int dt \\psi^{(n)} \\int dx \\phi^{(m)} \\left [ \\rho (x) \\frac{\\partial^2}{\\partial t^2} u(x,t) - \\frac{\\partial}{\\partial x} \\left ( \\mu (x) \\frac{\\partial}{\\partial x} u(x,t) \\right ) \\right ]\n",
    "\\end{equation}\n",
    "\n",
    "So first 'integrand_before' means:\n",
    "\\begin{equation}\n",
    " f(x)=\\left [ \\rho (x) \\frac{\\partial^2}{\\partial t^2} u(x,t) - \\frac{\\partial}{\\partial x} \\left ( \\mu (x) \\frac{\\partial}{\\partial x} u(x,t) \\right ) \\right ]\n",
    "\\end{equation}\n",
    "and its integral over $x^1$ ('space_integrated') will be:\n",
    "\\begin{equation}\n",
    "F^{(1)}(x)=\\int dx  \\left [ \\rho (x) \\frac{\\partial^2}{\\partial t^2} u(x,t) - \\frac{\\partial}{\\partial x} \\left ( \\mu (x) \\frac{\\partial}{\\partial x} u(x,t) \\right ) \\right ]\n",
    "\\end{equation}\n",
    "...\n",
    "\n",
    "The aim of this practice is to use the expression:\n",
    "\\begin{align}\n",
    "\\int_{y_1}^{y_2} dy f(y) w(y) = \\left [F^{(1)}(y) w(y) \\right ]_{y_1}^{y_2} -  \\left [F^{(2)}(y) \\frac{\\partial w(y)}{\\partial y} \\right ]_{y_1}^{y_2} + \\left [F^{(3)}(y) \\frac{\\partial^2 w(y)}{\\partial y^2} \\right ]_{y_1}^{y_2} - \\cdots \n",
    "\\end{align}"
   ]
  },
  {
   "cell_type": "code",
   "execution_count": null,
   "metadata": {},
   "outputs": [],
   "source": [
    "# We evaluate the bilinear integral operators step by step\n",
    "∂ₜ = Differential(t)\n",
    "∂₁ = Differential(x¹)\n",
    "\n",
    "integrand=[]\n",
    "\n",
    "degree_of_weighting_function_in_terms_of_polynomial = 2 # if we use linear spline,  this should be 1\n",
    "\n",
    "integrand_before=ρ(x¹-ξ¹[L₁ₗ+1])*(∂ₜ^2)(u(x¹-ξ¹[L₁ₗ+1] , t-τ[Lₜₗ+1]))-∂₁(μ(x¹-ξ¹[L₁ₗ+1])*∂₁(u(x¹-ξ¹[L₁ₗ+1] , t-τ[Lₜₗ+1])))|>expand_derivatives\n",
    "integrand_before=substitute(integrand_before,Dict([Cᴾ=>newCᴾ, Cᴹ=>newCᴹ]))\n",
    "integrand_before=simplify(integrand_before)\n",
    "integrand=push!(integrand,integrand_before)\n",
    "for iDegree in 1:degree_of_weighting_function_in_terms_of_polynomial\n",
    "    #print(integrand_before)\n",
    "    integrand_before=simplify(integrate(integrand_before,x¹))\n",
    "    integrand=push!(integrand,integrand_before)\n",
    "end\n"
   ]
  },
  {
   "cell_type": "code",
   "execution_count": null,
   "metadata": {},
   "outputs": [],
   "source": [
    "integrand[3]"
   ]
  },
  {
   "cell_type": "markdown",
   "metadata": {},
   "source": []
  },
  {
   "cell_type": "code",
   "execution_count": null,
   "metadata": {},
   "outputs": [],
   "source": []
  },
  {
   "cell_type": "markdown",
   "metadata": {},
   "source": []
  },
  {
   "cell_type": "markdown",
   "metadata": {},
   "source": []
  },
  {
   "cell_type": "markdown",
   "metadata": {},
   "source": []
  },
  {
   "cell_type": "markdown",
   "metadata": {},
   "source": []
  },
  {
   "cell_type": "markdown",
   "metadata": {},
   "source": []
  },
  {
   "cell_type": "markdown",
   "metadata": {},
   "source": []
  },
  {
   "cell_type": "markdown",
   "metadata": {},
   "source": []
  },
  {
   "cell_type": "markdown",
   "metadata": {},
   "source": []
  },
  {
   "cell_type": "code",
   "execution_count": null,
   "metadata": {},
   "outputs": [],
   "source": [
    "# trial functions\n",
    "function TruncatedSinc(x,scaling_factor=1)\n",
    "    # if scaling_factor is 1, then the sinc function is scaled by π and has 0 every node=1\n",
    "    #  (i.e. the sinc function is sin(π*x)/(π*x)\n",
    "    # if we change the scaling_factor then the node interval is multiplied by the scaling_factor\n",
    "    # if scaling_factor is 0, then the sinc function is unscaled (i.e. the sinc function is sin(x)/x)\n",
    "    if scaling_factor == 0\n",
    "        scaling_factor = π\n",
    "    end \n",
    "    x=x/scaling_factor\n",
    "    IfElse.ifelse(x==0,1,sin(π*x)/(π*x))\n",
    "end\n",
    "\n",
    "function Spline(x,j,k,nodes)\n",
    "    IfElse.ifelse(k>0,\n",
    "        IfElse.ifelse(j+1 <= length(nodes),\n",
    "            (x-nodes[j])/(nodes[j+k]-nodes[j])*Spline(x,j,k-1,nodes),\n",
    "            0\n",
    "        )+\n",
    "        IfElse.ifelse(j+k+1 <= length(nodes),\n",
    "            (nodes[j+k+1]-x)/(nodes[j+k+1]-nodes[j+1])*Spline(x,j+1,k-1,nodes),\n",
    "            0\n",
    "        ),\n",
    "        IfElse.ifelse(j>=1 && j+1 <=length(nodes) && nodes[j] <= x < nodes[j+1],\n",
    "            1,\n",
    "            0\n",
    "        )\n",
    "    )\n",
    "    \"\"\"\n",
    "    if k>0 \n",
    "        if j+1 <= length(nodes)\n",
    "            X_local += (x-nodes[j])/(nodes[j+k]-nodes[j])*Spline(x,j,k-1,nodes) \n",
    "        end\n",
    "        if j+k+1 <= length(nodes)\n",
    "            X_local += X_local + (nodes[j+k+1]-x)/(nodes[j+k+1]-nodes[j+1])*Spline(x,j+1,k-1,nodes)\n",
    "        end      \n",
    "    elseif k==0\n",
    "        if j>=1 && j+1 <=length(nodes) && nodes[j] <= x < nodes[j+1]\n",
    "            X_local = 1.e0\n",
    "        end\n",
    "    end\n",
    "    \"\"\"\n",
    "end"
   ]
  },
  {
   "cell_type": "code",
   "execution_count": null,
   "metadata": {},
   "outputs": [],
   "source": [
    "ϕᵐ(x¹) = Spline(x¹,L₁ₗ+1,1,ξ¹) # x₁ direction linear spline function\n",
    "ψⁿ(t) = Spline(t,Lₜₗ+1,1,τ)"
   ]
  },
  {
   "cell_type": "code",
   "execution_count": null,
   "metadata": {},
   "outputs": [],
   "source": [
    "ϕᵐ(x¹)"
   ]
  },
  {
   "cell_type": "code",
   "execution_count": null,
   "metadata": {},
   "outputs": [],
   "source": [
    "u(x¹-ξ¹[L₁ₗ+1] , t-τ[Lₜₗ+1])"
   ]
  },
  {
   "cell_type": "code",
   "execution_count": null,
   "metadata": {},
   "outputs": [],
   "source": [
    "ρ(x¹-ξ¹[L₁ₗ+1])"
   ]
  },
  {
   "cell_type": "code",
   "execution_count": null,
   "metadata": {},
   "outputs": [],
   "source": []
  },
  {
   "cell_type": "code",
   "execution_count": null,
   "metadata": {},
   "outputs": [],
   "source": []
  },
  {
   "cell_type": "markdown",
   "metadata": {},
   "source": []
  },
  {
   "cell_type": "markdown",
   "metadata": {},
   "source": []
  },
  {
   "cell_type": "code",
   "execution_count": null,
   "metadata": {},
   "outputs": [],
   "source": []
  },
  {
   "cell_type": "code",
   "execution_count": null,
   "metadata": {},
   "outputs": [],
   "source": [
    "@variables x t Δx Δt f ρₒ μₒ uₒ\n",
    "@syms ρ(x) μ(x)\n",
    "∂ₜ = Differential(t)\n",
    "∂ₓ = Differential(x)\n",
    "\n",
    "Taylorₓ(f,order) = f+sum((∂ₓ^i)(f(x))*Δx^i/factorial(BigInt(i)) for i in 1:order)\n",
    "Taylorₜ(f,order) = f+sum((∂ₜ^i)f*Δt^i/factorial(BigInt(i)) for i in 1:order)\n",
    "Taylorₓₜ(f,order) = f+sum((∂ₓ^i)(f)*Δx^i/factorial(BigInt(i)) for i in 1:order) + sum((∂ₜ^i)(f)*Δt^i/factorial(BigInt(i)) for i in 1:order) +sum(sum((∂ₜ^k)((∂ₓ^i)(f))*Δx^i/factorial(BigInt(i))*Δt^k/factorial(BigInt(k)) for i in 1:order) for k in 1:order)\n",
    "DerivativeₓTaylorₓ(f,order) = sum((∂ₓ^i)(f)*Δx^(i-1)/factorial(BigInt(i-1)) for i in 1:order)\n",
    "DerivativeₜTaylorₜ(f,order) = sum((∂ₓ^i)(f)*Δt^(i-1)/factorial(BigInt(i-1)) for i in 1:order)\n",
    "DerivativeₓTaylorₓₜ(f,order) = sum((∂ₓ^i)(f)*Δx^(i-1)/factorial(BigInt(i-1)) for i in 1:order) + +sum(sum((∂ₜ^k)((∂ₓ^i)(f))*Δx^(i-1)/factorial(BigInt(i-1))*Δt^k/factorial(BigInt(k)) for i in 1:order) for k in 1:order)\n",
    "DerivativeₜTaylorₓₜ(f,order) = sum((∂ₜ^i)(f)*Δt^(i-1)/factorial(BigInt(i-1)) for i in 1:order) + +sum(sum((∂ₜ^k)((∂ₓ^i)(f))*Δx^i/factorial(BigInt(i-1))*Δt^(k-1)/factorial(BigInt(k-1)) for i in 1:order) for k in 1:order)"
   ]
  },
  {
   "cell_type": "code",
   "execution_count": null,
   "metadata": {},
   "outputs": [],
   "source": [
    "@variables xₘ tₙ\n",
    "u=substitute(Taylorₓₜ(uₒ,4),Dict(Δx=>x-xₘ, Δt=>t-tₙ))\n",
    "ρ=substitute(Taylorₓ(ρ₀,4),Dict(Δx=>x-xₘ))\n",
    "μ=substitute(Taylorₓ(μ₀,4),Dict(Δx=>x-xₘ))\n",
    "u₁=substitute(DerivativeₓTaylorₓₜ(uₒ,4),Dict(Δx=>x-xₘ, Δt=>t-tₙ))\n"
   ]
  },
  {
   "cell_type": "code",
   "execution_count": null,
   "metadata": {},
   "outputs": [],
   "source": [
    "@syms ρ(x,t) xₘ\n",
    "tmpTaylor(f,order)=(∂ₓ^2)(f(x,t)) |>expand_derivatives\n",
    "z(x,t)=tmpTaylor(ρ,2)\n",
    "z(xₘ,t)\n"
   ]
  },
  {
   "cell_type": "code",
   "execution_count": null,
   "metadata": {},
   "outputs": [],
   "source": [
    "Differential(x)(x^2) |>expand_derivatives"
   ]
  },
  {
   "cell_type": "code",
   "execution_count": null,
   "metadata": {},
   "outputs": [],
   "source": []
  }
 ],
 "metadata": {
  "kernelspec": {
   "display_name": "Julia 1.10.2",
   "language": "julia",
   "name": "julia-1.10"
  },
  "language_info": {
   "file_extension": ".jl",
   "mimetype": "application/julia",
   "name": "julia",
   "version": "1.10.2"
  }
 },
 "nbformat": 4,
 "nbformat_minor": 2
}
