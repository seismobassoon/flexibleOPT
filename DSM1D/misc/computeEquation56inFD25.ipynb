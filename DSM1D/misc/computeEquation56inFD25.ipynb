{
 "cells": [
  {
   "cell_type": "markdown",
   "metadata": {},
   "source": [
    "equation 56:\n",
    "\n",
    "\\begin{align}\n",
    "  A_{\\nu \\nu^\\prime} &=& \n",
    "  \\sum_{\\eta^\\prime} \\sum_{n^\\prime=0,1} \\sum_{n=0,1,2} \\sum_{l^\\prime\\ge n^\\prime} \\sum_{l \\ge n} \\nonumber \\\\\n",
    " && C_{\\eta^\\prime}^{({l}^\\prime)}C_{\\nu^\\prime-\\nu}^{(l)}\n",
    "  \\alpha_{n^\\prime n}[{\\nu}+{\\eta}^\\prime]  \n",
    "  \\int_{x_{\\nu l}}^{x_{\\nu r}} dx W_{{\\nu}}(x) \\frac{(x-x_\\nu)^{l^\\prime-n^\\prime + l - n}}{(l^\\prime-n^\\prime)!(l-n)!}  \\\\\n",
    "  && +  C_{{\\eta}}^{({l}^\\prime)}C_{{\\nu^\\prime-\\nu}}^{({l})} \\beta_{{n^\\prime n}}[{\\nu}+{\\eta}^\\prime] \n",
    "  \\left [ W_{{\\nu}}(x_{\\nu_l}) \\frac{(x_{\\nu_l}-x_\\nu)^{l^\\prime-n^\\prime + l - n}}{(l^\\prime-n^\\prime)!(l-n)!} \n",
    "  +W_{{\\nu}}(x_{\\nu_r}) \\frac{(x_{\\nu_r}-x_\\nu)^{l^\\prime-n^\\prime + l - n}}{(l^\\prime-n^\\prime)!(l-n)!}  \\right ] .\\nonumber\n",
    "\\end{align}"
   ]
  },
  {
   "cell_type": "markdown",
   "metadata": {},
   "source": [
    "\\newcommand{\\diff}[2][]{\n",
    "  d  #2\\mspace{-8mu}^{^{{\\tiny #1}}} \n",
    "}"
   ]
  },
  {
   "cell_type": "markdown",
   "metadata": {},
   "source": [
    "eq 42:\n",
    "\n",
    "\n",
    "\\begin{align}\n",
    "&&A_{ji\\pmb{\\nu} \\pmb{\\nu}^\\prime} \\nonumber \\\\\n",
    "&=& \\sum_{\\pmb{\\eta}^\\prime}\n",
    "\\sum_{\\mathbf{n}^\\prime \\in \\mathbb{Z}^N} \\sum_{\\mathbf{n} \\in \\mathbb{Z}^N} \n",
    "\\sum_{\\mathbf{l}^\\prime-\\mathbf{n}^\\prime \\in \\mathbb{Z}^N_{\\ge 0}} \\sum_{\\mathbf{l}-\\mathbf{n}\\in \\mathbb{Z}^N_{\\ge 0}} \\nonumber \\\\\n",
    "&&C_{\\pmb{\\eta}^\\prime}^{(\\mathbf{l}^\\prime)}C_{\\pmb{\\nu}^\\prime-\\pmb{\\nu}}^{(\\mathbf{l})}  \\alpha_{\\mathbf{n}^\\prime \\mathbf{n}ji}[\\pmb{\\nu}+\\pmb{\\eta}^\\prime]  \n",
    "\\int_\\Omega d^N{\\mathbf{y}} W_{\\pmb{\\nu}}(\\mathbf{y}) K_{\\mathbf{l}^\\prime-\\mathbf{n}^\\prime} (\\mathbf{y}-\\mathbf{y}_{\\pmb{\\nu}})  K_{\\mathbf{l}-\\mathbf{n}} (\\mathbf{y}-\\mathbf{y}_{\\pmb{\\nu}})  \\nonumber \\\\\n",
    "&&+   C_{\\pmb{\\eta}^\\prime}^{(\\mathbf{l}^\\prime)}C_{\\pmb{\\nu}^\\prime-\\pmb{\\nu}}^{(\\mathbf{l})} \\beta_{\\mathbf{n}^\\prime \\mathbf{n}ji}[\\pmb{\\nu}+\\pmb{\\eta}^\\prime]    \\int_{\\partial \\Omega} d^{N-1}{\\mathbf{y}} W_{\\pmb{\\nu}}(\\mathbf{y}) K_{\\mathbf{l}^\\prime-\\mathbf{n}^\\prime} (\\mathbf{y}-\\mathbf{y}_{\\pmb{\\nu}})  K_{\\mathbf{l}-\\mathbf{n}} (\\mathbf{y}-\\mathbf{y}_{\\pmb{\\nu}})  \\nonumber \\\\\n",
    "\\end{align}"
   ]
  },
  {
   "cell_type": "code",
   "execution_count": 2,
   "metadata": {},
   "outputs": [],
   "source": [
    "using Symbolics,LinearAlgebra"
   ]
  },
  {
   "cell_type": "code",
   "execution_count": null,
   "metadata": {},
   "outputs": [
    {
     "data": {
      "text/plain": [
       "1-element Vector{Symbolics.Arr{Num, 1}}:\n",
       " Δy[1:3]"
      ]
     },
     "metadata": {},
     "output_type": "display_data"
    }
   ],
   "source": [
    "#dimension\n",
    "\n",
    "\n",
    "@variables Δy[1:N]"
   ]
  },
  {
   "cell_type": "markdown",
   "metadata": {},
   "source": [
    "I need first the inverse of Taylor expansion coefficients"
   ]
  },
  {
   "cell_type": "code",
   "execution_count": null,
   "metadata": {},
   "outputs": [],
   "source": []
  },
  {
   "cell_type": "code",
   "execution_count": null,
   "metadata": {},
   "outputs": [
    {
     "data": {
      "text/latex": [
       "$$ \\begin{equation}\n",
       "\\left[\n",
       "\\begin{array}{ccccc}\n",
       "1 & 0 & 0 & 0 & 0 \\\\\n",
       "1 & {\\Delta}x & \\frac{1}{2} {\\Delta}x^{2} & \\frac{1}{6} {\\Delta}x^{3} & \\frac{1}{24} {\\Delta}x^{4} \\\\\n",
       "1 & 2 {\\Delta}x & 2 {\\Delta}x^{2} & \\frac{4}{3} {\\Delta}x^{3} & \\frac{2}{3} {\\Delta}x^{4} \\\\\n",
       "\\end{array}\n",
       "\\right]\n",
       "\\end{equation}\n",
       " $$"
      ],
      "text/plain": [
       "3×5 Matrix{Num}:\n",
       " 1    0              0              0               0\n",
       " 1   Δx  (1//2)*(Δx^2)  (1//6)*(Δx^3)  (1//24)*(Δx^4)\n",
       " 1  2Δx  (2//1)*(Δx^2)  (4//3)*(Δx^3)   (2//3)*(Δx^4)"
      ]
     },
     "metadata": {},
     "output_type": "display_data"
    }
   ],
   "source": [
    "\n",
    "\n",
    "biggerA2=[ 1 Δx Δx^2//2 Δx^3//6 Δx^4//24; 1 0 0 0 0; 1 -Δx Δx^2//2 -Δx^3//6 Δx^4//24]\n",
    "\n",
    "\n",
    "bigALeft= [1 0 0 0 0;1 Δx Δx^2//2 Δx^3//6 Δx^4//24;  1 2*Δx 4*Δx^2//2 8*Δx^3//6 16*Δx^4//24]"
   ]
  },
  {
   "cell_type": "code",
   "execution_count": null,
   "metadata": {},
   "outputs": [],
   "source": []
  }
 ],
 "metadata": {
  "kernelspec": {
   "display_name": "Julia 1.11.3",
   "language": "julia",
   "name": "julia-1.11"
  },
  "language_info": {
   "file_extension": ".jl",
   "mimetype": "application/julia",
   "name": "julia",
   "version": "1.11.3"
  }
 },
 "nbformat": 4,
 "nbformat_minor": 2
}
