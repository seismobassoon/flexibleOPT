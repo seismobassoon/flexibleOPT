{
 "cells": [
  {
   "cell_type": "code",
   "execution_count": 5,
   "id": "85b7f81f",
   "metadata": {},
   "outputs": [
    {
     "name": "stderr",
     "output_type": "stream",
     "text": [
      "\u001b[32m\u001b[1m  Activating\u001b[22m\u001b[39m project at `~/Documents/Github/flexibleDSM`\n",
      "\n",
      "SYSTEM: caught exception of type :MethodError while trying to print a failed Task notice; giving up\n",
      "\n",
      "SYSTEM: caught exception of type :MethodError while trying to print a failed Task notice; giving up\n",
      "\n",
      "SYSTEM: caught exception of type :MethodError while trying to print a failed Task notice; giving up\n",
      "\n",
      "SYSTEM: caught exception of type :MethodError while trying to print a failed Task notice; giving up\n",
      "\n",
      "SYSTEM: caught exception of type :MethodError while trying to print a failed Task notice; giving up\n",
      "\n",
      "SYSTEM: caught exception of type :MethodError while trying to print a failed Task notice; giving up\n",
      "\n",
      "SYSTEM: caught exception of type :MethodError while trying to print a failed Task notice; giving up\n"
     ]
    },
    {
     "ename": "MethodError",
     "evalue": "MethodError: no method matching pipe_writer(::VSCodeServer.IJuliaCore.IJuliaStdio{Base.PipeEndpoint, typeof(VSCodeServer.io_send_callback)})\nThe applicable method may be too new: running in world age 38608, while current world is 38669.\n\nClosest candidates are:\n  pipe_writer(::VSCodeServer.IJuliaCore.IJuliaStdio) (method too new to be called from this world context.)\n   @ VSCodeServer ~/.vscode/extensions/julialang.language-julia-1.156.1/scripts/packages/IJuliaCore/src/stdio.jl:16\n  pipe_writer(!Matched::Pipe)\n   @ Base stream.jl:781\n  pipe_writer(!Matched::Base.Process)\n   @ Base process.jl:23\n  ...\n",
     "output_type": "error",
     "traceback": [
      "MethodError: no method matching pipe_writer(::VSCodeServer.IJuliaCore.IJuliaStdio{Base.PipeEndpoint, typeof(VSCodeServer.io_send_callback)})\n",
      "The applicable method may be too new: running in world age 38608, while current world is 38669.\n",
      "\n",
      "Closest candidates are:\n",
      "  pipe_writer(::VSCodeServer.IJuliaCore.IJuliaStdio) (method too new to be called from this world context.)\n",
      "   @ VSCodeServer ~/.vscode/extensions/julialang.language-julia-1.156.1/scripts/packages/IJuliaCore/src/stdio.jl:16\n",
      "  pipe_writer(!Matched::Pipe)\n",
      "   @ Base stream.jl:781\n",
      "  pipe_writer(!Matched::Base.Process)\n",
      "   @ Base process.jl:23\n",
      "  ...\n",
      "\n",
      "\n",
      "Stacktrace:\n",
      "  [1] unsafe_write(io::VSCodeServer.IJuliaCore.IJuliaStdio{Base.PipeEndpoint, typeof(VSCodeServer.io_send_callback)}, p::Ptr{UInt8}, nb::UInt64)\n",
      "    @ Base ./io.jl:452\n",
      "  [2] unsafe_write(io::IOContext{IO}, p::Ptr{UInt8}, nb::UInt64)\n",
      "    @ Base ./io.jl:452\n",
      "  [3] write\n",
      "    @ ./strings/io.jl:246 [inlined]\n",
      "  [4] print\n",
      "    @ ./strings/io.jl:248 [inlined]\n",
      "  [5] print(::IOContext{IO}, ::String, ::String)\n",
      "    @ Base ./strings/io.jl:46\n",
      "  [6] println\n",
      "    @ ./strings/io.jl:77 [inlined]\n",
      "  [7] macro expansion\n",
      "    @ ./precompilation.jl:1087 [inlined]\n",
      "  [8] macro expansion\n",
      "    @ ./lock.jl:376 [inlined]\n",
      "  [9] _precompilepkgs(pkgs::Vector{String}, internal_call::Bool, strict::Bool, warn_loaded::Bool, timing::Bool, _from_loading::Bool, configs::Vector{Pair{Cmd, Base.CacheFlags}}, _io::IOContext{IO}, fancyprint::Bool, manifest::Bool, ignore_loaded::Bool)\n",
      "    @ Base.Precompilation ./precompilation.jl:1086\n",
      " [10] precompilepkgs(pkgs::Vector{String}; internal_call::Bool, strict::Bool, warn_loaded::Bool, timing::Bool, _from_loading::Bool, configs::Pair{Cmd, Base.CacheFlags}, io::VSCodeServer.IJuliaCore.IJuliaStdio{Base.PipeEndpoint, typeof(VSCodeServer.io_send_callback)}, fancyprint::Bool, manifest::Bool, ignore_loaded::Bool)\n",
      "    @ Base.Precompilation ./precompilation.jl:472\n",
      " [11] __require_prelocked(pkg::Base.PkgId, env::String)\n",
      "    @ Base ./loading.jl:2630\n",
      " [12] _require_prelocked(uuidkey::Base.PkgId, env::String)\n",
      "    @ Base ./loading.jl:2465\n",
      " [13] macro expansion\n",
      "    @ ./loading.jl:2393 [inlined]\n",
      " [14] macro expansion\n",
      "    @ ./lock.jl:376 [inlined]\n",
      " [15] __require(into::Module, mod::Symbol)\n",
      "    @ Base ./loading.jl:2358\n",
      " [16] require(into::Module, mod::Symbol)\n",
      "    @ Base ./loading.jl:2334\n",
      " [17] eval(m::Module, e::Any)\n",
      "    @ Core ./boot.jl:489\n",
      " [18] include_string(mapexpr::typeof(REPL.softscope), mod::Module, code::String, filename::String)\n",
      "    @ Base ./loading.jl:2843\n",
      " [19] (::VSCodeServer.var\"#notebook_runcell_request##0#notebook_runcell_request##1\"{VSCodeServer.NotebookRunCellArguments, String})()\n",
      "    @ VSCodeServer ~/.vscode/extensions/julialang.language-julia-1.156.1/scripts/packages/VSCodeServer/src/serve_notebook.jl:24\n",
      " [20] withpath(f::VSCodeServer.var\"#notebook_runcell_request##0#notebook_runcell_request##1\"{VSCodeServer.NotebookRunCellArguments, String}, path::String)\n",
      "    @ VSCodeServer ~/.vscode/extensions/julialang.language-julia-1.156.1/scripts/packages/VSCodeServer/src/repl.jl:276\n",
      " [21] notebook_runcell_request(conn::VSCodeServer.JSONRPC.JSONRPCEndpoint{Base.PipeEndpoint, Base.PipeEndpoint, VSCodeServer.JSON.Serializations.StandardSerialization}, params::VSCodeServer.NotebookRunCellArguments, token::VSCodeServer.CancellationTokens.CancellationToken)\n",
      "    @ VSCodeServer ~/.vscode/extensions/julialang.language-julia-1.156.1/scripts/packages/VSCodeServer/src/serve_notebook.jl:13\n",
      " [22] dispatch_msg(x::VSCodeServer.JSONRPC.JSONRPCEndpoint{Base.PipeEndpoint, Base.PipeEndpoint, VSCodeServer.JSON.Serializations.StandardSerialization}, dispatcher::VSCodeServer.JSONRPC.MsgDispatcher, msg::VSCodeServer.JSONRPC.Request)\n",
      "    @ VSCodeServer.JSONRPC ~/.vscode/extensions/julialang.language-julia-1.156.1/scripts/packages/JSONRPC/src/typed.jl:0\n",
      " [23] serve_notebook(pipename::String, debugger_pipename::String, outputchannel_logger::Base.CoreLogging.SimpleLogger; error_handler::var\"#14#15\"{String})\n",
      "    @ VSCodeServer ~/.vscode/extensions/julialang.language-julia-1.156.1/scripts/packages/VSCodeServer/src/serve_notebook.jl:147\n",
      " [24] top-level scope\n",
      "    @ ~/.vscode/extensions/julialang.language-julia-1.156.1/scripts/notebook/notebook.jl:35"
     ]
    }
   ],
   "source": [
    "# Nobuaki Fuji @ipgp September 2025\n",
    "using Pkg\n",
    "\n",
    "\n",
    "cd(@__DIR__)\n",
    "Pkg.activate(\"../..\")\n",
    "using BenchmarkTools\n",
    "# below are the tools to debug the code\n",
    "using Revise # if we use Revise, myInclude will be Revise.includet\n",
    "using Profile, StatProfilerHTML\n",
    "\n",
    "\n",
    "\n",
    "\n",
    "include(\"../src/batchRevise.jl\")\n",
    "using .BatchRevise\n",
    "@show using_revise\n",
    "\n",
    "myInclude(\"../src/imageReader.jl\") # read 2D images for models\n",
    "\n",
    "myInclude(\"../src/OPTwrappers.jl\") \n"
   ]
  },
  {
   "cell_type": "code",
   "execution_count": null,
   "id": "0ae67625",
   "metadata": {},
   "outputs": [],
   "source": [
    "iExperiment = 1\n",
    "\n",
    "# 'iExperiment' can be fixed to be 1 if the user does not need to perform benchmark tests\n",
    "# (which should be the case for the most of the time when the software gets stabilised)"
   ]
  },
  {
   "cell_type": "code",
   "execution_count": null,
   "id": "abcee459",
   "metadata": {},
   "outputs": [],
   "source": [
    "\n",
    "#region Choose backend depending on environment\n",
    "if isdefined(Main, :IJulia) || get(ENV, \"JULIA_EDITOR\", \"\") == \"code\"\n",
    "    # Use CairoMakie for inline if in notebook or VS Code\n",
    "    using CairoMakie\n",
    "    #using WGLMakie\n",
    "else\n",
    "    using GLMakie\n",
    "end"
   ]
  },
  {
   "cell_type": "code",
   "execution_count": null,
   "id": "29587f11",
   "metadata": {},
   "outputs": [],
   "source": [
    "famousEquationType=\"2DacousticTime\"\n",
    "exprs,fields,vars,extexprs,extfields,extvars,coordinates,∂,∂²=famousEquations(famousEquationType)"
   ]
  },
  {
   "cell_type": "code",
   "execution_count": null,
   "id": "7bedc499",
   "metadata": {},
   "outputs": [],
   "source": [
    "modelName=\"marmousi\"\n",
    "\n",
    "modelDefinitionMethod=\"2DimageFile\" # ToyModel or 2DimageFile (or 1DsphericalPlanet)\n",
    "model =nothing\n",
    "\n",
    "\n",
    "if modelDefinitionMethod !== nothing\n",
    "        \n",
    "    #region Model input - option i) Model domain definition\n",
    "\n",
    "    if modelDefinitionMethod === \"ToyModel\"\n",
    "        DomainWindow=(DomainWindowT=1.0,DomainWindowX=1.0,DomainWindowY=1.0,DomainWindowZ=1.0)\n",
    "        ModelSizeTXYZ=(ModelSizeT=101,ModelSizeX=101,ModelSizeY=101,ModelSizeZ=0)\n",
    "    end\n",
    "\n",
    "    #endregion\n",
    "\n",
    "    #region Model input - option ii) Read a file (2D or 3D) and define Δs\n",
    "\n",
    "    if modelDefinitionMethod === \"2DimageFile\"\n",
    "\n",
    "        #imagefile=\"../data/model/random/colourful.jpg\"\n",
    "        #imagefile=\"../data/model/artemis/IMG_6098.jpeg\"\n",
    "        #imagefile=\"../data/model/random/tmp.png\"\n",
    "        imagefile = \"../data/model/random/marmousi.png\"\n",
    "        colormap = \"jet\" #colormap can be RGB vector or predefined colormap\n",
    "\n",
    "        #model=read2DimageModel(imagefile,colormap;Nwidth=10,Nheight=10,showRecoveredImage=false)\n",
    "        model=read2DimageModel(imagefile,colormap;showRecoveredImage=false)\n",
    "    end\n",
    "    #endregion\n",
    "\n",
    "    #region Model input - option iii) Read a file (1D spherical planet models)\n",
    "\n",
    "    if modelDefinitionMethod ===\"1DsphericalPlanet\"\n",
    "        # use some programmes that are developed during Xmas 2023\n",
    "        # inputModels.jl\n",
    "    end\n",
    "\n",
    "#endregion\n",
    "end"
   ]
  },
  {
   "cell_type": "code",
   "execution_count": null,
   "id": "2a2ab3be",
   "metadata": {},
   "outputs": [],
   "source": [
    "coordinates"
   ]
  },
  {
   "cell_type": "code",
   "execution_count": null,
   "id": "8cd30c3a",
   "metadata": {},
   "outputs": [],
   "source": [
    "Δnum = (1.0,1.0,1.0) # this should be in the same order as coordinates \n",
    "\n",
    "\n",
    "\n",
    "IneedExternalSources = true\n",
    "maskedRegionForSourcesInSpace = nothing\n",
    "\n",
    "#DrWatson configurations\n",
    "\n",
    "orderBtime=1\n",
    "orderBspace=1\n",
    "pointsInSpace=2\n",
    "pointsInTime=2\n",
    "\n",
    "WorderBspace=1\n",
    "WorderBtime=1\n",
    "supplementaryOrder=2"
   ]
  },
  {
   "cell_type": "code",
   "execution_count": null,
   "id": "98b5b8ba",
   "metadata": {},
   "outputs": [],
   "source": [
    "models=[] # you might need to make this empty tuple first, otherwise one-member tuple can be misinterpreted\n",
    "models=push!(models, (model .* 0.2 .+ 0.4))"
   ]
  },
  {
   "cell_type": "code",
   "execution_count": null,
   "id": "7f90a668",
   "metadata": {},
   "outputs": [],
   "source": [
    "maximum(models[1])"
   ]
  },
  {
   "cell_type": "code",
   "execution_count": null,
   "id": "6596fcab",
   "metadata": {},
   "outputs": [],
   "source": [
    "fakeNt = 1\n",
    "timeMarching = any(a -> a === timeDimensionString, string.(coordinates)) \n",
    "if timeMarching\n",
    "    fakeNt = pointsInTime+1\n",
    "    modelPoints = (size(model)...,fakeNt) # Nx, Ny etc thing. Nt is also mentioned and it should be the last element!\n",
    "else\n",
    "    modelPoints = (size(model))\n",
    "end"
   ]
  },
  {
   "cell_type": "code",
   "execution_count": null,
   "id": "884a4dc6",
   "metadata": {},
   "outputs": [],
   "source": [
    "maskedRegionForSourcesInSpace  = Array{CartesianIndex,1}(undef,0) # it is important to decalre the type of this\n",
    "maskedRegionForSourcesInSpace = push!(maskedRegionForSourcesInSpace, CartesianIndex(modelPoints[1:end-1].÷2))# in Ndimension (or Ndimension  - 1 if timeMarching)\n",
    "# in this example, I put a point source at the centre of the model space\n",
    "\n",
    "forceModels =((1.0)) # if your model does not have anything special material parameters then it's how it's written\n",
    "\n",
    "concreteModelParameters = @strdict famousEquationType Δnum orderBtime orderBspace WorderBtime WorderBspace supplementaryOrder pointsInSpace pointsInTime IneedExternalSources modelName models modelPoints forceModels maskedRegionForSourcesInSpace iExperiment"
   ]
  },
  {
   "cell_type": "code",
   "execution_count": null,
   "id": "0a8e6de0",
   "metadata": {},
   "outputs": [],
   "source": [
    "#safeget(A, inds...; default=0) = checkbounds(Bool, A, inds...) ? A[inds...] : default"
   ]
  },
  {
   "cell_type": "code",
   "execution_count": null,
   "id": "d4f145f6",
   "metadata": {},
   "outputs": [],
   "source": [
    "# we need to see what's happening inside makeCompleteCostFunctions"
   ]
  },
  {
   "cell_type": "code",
   "execution_count": null,
   "id": "3ccec8ec",
   "metadata": {},
   "outputs": [],
   "source": [
    "    @unpack famousEquationType, Δnum, orderBtime, orderBspace, WorderBtime,WorderBspace,supplementaryOrder,pointsInSpace, pointsInTime, IneedExternalSources, modelName, models, modelPoints, forceModels,maskedRegionForSourcesInSpace, iExperiment = concreteModelParameters\n",
    "    exprs,fields,vars,extexprs,extfields,extvars,coordinates,∂,∂² = famousEquations(famousEquationType)\n",
    "    global ∂,∂²\n",
    "    \n",
    "    # here we construct semi symbolic operators (with numerical Δnum)\n",
    "    operatorConfigurations = @strdict famousEquationType Δnum orderBtime orderBspace WorderBtime WorderBspace supplementaryOrder pointsInSpace pointsInTime IneedExternalSources iExperiment\n"
   ]
  },
  {
   "cell_type": "code",
   "execution_count": null,
   "id": "521d97bb",
   "metadata": {},
   "outputs": [],
   "source": [
    "#instead of doing below\n",
    "#operators = myProduceOrLoad(OPTobj,operatorConfigurations,\"semiSymbolics\")"
   ]
  },
  {
   "cell_type": "code",
   "execution_count": null,
   "id": "bc933626",
   "metadata": {},
   "outputs": [],
   "source": [
    " @unpack famousEquationType, Δnum, orderBtime, orderBspace, WorderBtime,WorderBspace,supplementaryOrder,pointsInSpace, pointsInTime,IneedExternalSources, iExperiment= operatorConfigurations\n",
    "\n",
    "    exprs,fields,vars,extexprs,extfields,extvars,coordinates,∂,∂² = famousEquations(famousEquationType)\n",
    "\n",
    "    TaylorOptions=(WorderBtime=WorderBtime,WorderBspace=WorderBspace,supplementaryOrder=supplementaryOrder)\n",
    "    trialFunctionsCharacteristics=(orderBtime=orderBtime,orderBspace=orderBspace,pointsInSpace=pointsInSpace,pointsInTime=pointsInTime)"
   ]
  },
  {
   "cell_type": "code",
   "execution_count": null,
   "id": "723712da",
   "metadata": {},
   "outputs": [],
   "source": [
    "# instead of doing below\n",
    "#@time operatorData=OPTobj(exprs,fields,vars; coordinates=coordinates,trialFunctionsCharacteristics=trialFunctionsCharacteristics,TaylorOptions=TaylorOptions,Δnum = Δnum,iExperiment=iExperiment)"
   ]
  },
  {
   "cell_type": "code",
   "execution_count": null,
   "id": "9612c45a",
   "metadata": {},
   "outputs": [],
   "source": [
    "# here is the internal contents of OPTobj"
   ]
  },
  {
   "cell_type": "code",
   "execution_count": null,
   "id": "9e670dfe",
   "metadata": {},
   "outputs": [],
   "source": [
    "\n",
    "\n",
    "    timeMarching = any(a -> a === timeDimensionString, string.(coordinates))\n",
    "\n",
    "\n",
    "    @unpack orderBtime, orderBspace, pointsInSpace, pointsInTime = trialFunctionsCharacteristics\n",
    "    @unpack WorderBtime, WorderBspace,supplementaryOrder = TaylorOptions\n",
    "\n",
    "    NtypeofExpr=length(exprs)   # number of governing equations\n",
    "    NtypeofMaterialVariables=length(vars) # number of material coefficients\n",
    "    NtypeofFields=length(fields) # number of unknown fields\n",
    "    \n",
    "    Ndimension = length(coordinates) # we do not change this for the moment, especially for the time-marching scheme\n",
    "    pointsUsed = ones(Int, Ndimension).*(pointsInSpace+1)\n",
    "    if timeMarching\n",
    "        pointsUsed[end]=pointsInTime+1\n",
    "    end\n",
    "\n",
    "\n",
    "    if length(Δnum) !== Ndimension && !CˡηSymbolicInversion\n",
    "        @error \"the numerical delta increment has not the same dimension!\"\n",
    "    end"
   ]
  },
  {
   "cell_type": "code",
   "execution_count": null,
   "id": "24c896e3",
   "metadata": {},
   "outputs": [],
   "source": [
    " #region investigation of all the fields and vars dependencies in terms of x-y-z-t\n",
    "\n",
    "    variableDependency=ones(Int,Ndimension)\n",
    "    fieldDependency=ones(Int,Ndimension)\n",
    "    eachVariableDependency=ones(Int,Ndimension,NtypeofMaterialVariables) \n",
    "    eachFieldDependency=ones(Int,Ndimension,NtypeofFields)\n",
    "  \n",
    "    for iFields in 1:NtypeofFields\n",
    "        eachFieldDependency[:,iFields]=findCartesianDependency(fields[iFields],Ndimension)\n",
    "        fieldDependency = fieldDependency .* (ones(Int,Ndimension).-eachFieldDependency[:,iFields])\n",
    "    end\n",
    "\n",
    "\n",
    "    for iVars in 1:NtypeofMaterialVariables\n",
    "        eachVariableDependency[:,iVars]=findCartesianDependency(vars[iVars],Ndimension)\n",
    "        variableDependency = variableDependency .* (ones(Int,Ndimension).-eachVariableDependency[:,iVars])\n",
    "    end\n",
    "\n",
    "    \n",
    "\n",
    "    fieldDependency = ones(Int,Ndimension).-fieldDependency\n",
    "    variableDependency = ones(Int,Ndimension).-variableDependency\n",
    "\n",
    "    # here we correct variableDependency with fieldDependency: if fieldDependency is zero then we do not take care of that dimension for the variables\n",
    "    variableDependency = variableDependency .* fieldDependency\n",
    "\n",
    "    #endregion"
   ]
  },
  {
   "cell_type": "code",
   "execution_count": null,
   "id": "0d7f0267",
   "metadata": {},
   "outputs": [],
   "source": [
    "#region definition of points in time and space to be used\n",
    "\n",
    "    # heaviside(x) = x > 0 ? 1 : x == 0 ? 0 : -1\n",
    "\n",
    "    # the orders of B-spline functions, depending on fields \n",
    "\n",
    "    orderBspline=zeros(Int,Ndimension)\n",
    "    WorderBspline=zeros(Int,Ndimension)\n",
    "\n",
    "    if timeMarching\n",
    "        orderBspline[Ndimension]=orderBtime*fieldDependency[Ndimension]\n",
    "        orderBspline[1:Ndimension-1]=orderBspace*fieldDependency[1:Ndimension-1]\n",
    "        WorderBspline[Ndimension]=WorderBtime*fieldDependency[Ndimension]\n",
    "        WorderBspline[1:Ndimension-1]=WorderBspace*fieldDependency[1:Ndimension-1]\n",
    "    else\n",
    "        orderBspline[1:Ndimension]=orderBspace*fieldDependency[1:Ndimension]\n",
    "        WorderBspline[1:Ndimension]=WorderBspace*fieldDependency[1:Ndimension]\n",
    "    end\n",
    "    \n",
    "    # the maximum number of points used in the vicinity of the node, which is independent of the order of B-spline functions (see our paper)\n",
    "    pointsUsedForFields=(pointsUsed.-1).*fieldDependency.+1\n",
    "\n",
    "    # orderExpressions is the maximal orders of partials that we could expect in the expressions\n",
    "    orderExpressions=pointsUsedForFields\n",
    "    \n",
    "    # numbers of points to evaluate the integral for the governing equation filtered by the test functions\n",
    "    \n",
    "    # orderU is the maximum orders for the fields that we will use for OPT coefficients' exploration\n",
    "    orderU = (orderExpressions .-1) .+ (supplementaryOrder .*fieldDependency).+1 \n",
    "    # we restore this orderU since we need to control this \n",
    "\n",
    "    #endregion"
   ]
  },
  {
   "cell_type": "code",
   "execution_count": null,
   "id": "9692ea9e",
   "metadata": {},
   "outputs": [],
   "source": [
    "#region analysis of expressions to obtain the α_{n'nji}\n",
    "\n",
    "    bigα=Array{Any,2}(missing,NtypeofFields,NtypeofExpr)\n",
    "    varM=nothing\n",
    "    for iExpr in eachindex(exprs)\n",
    "        for iField in eachindex(fields)\n",
    "            \n",
    "            tmpNonZeroAlphas=PDECoefFinder(orderExpressions,coordinates,exprs[iExpr],fields[iField],vars) \n",
    "            # we assume that the pointsUsedForFields represent the highest order of partials\n",
    "            bigα[iField,iExpr]=unique(tmpNonZeroAlphas)\n",
    "        end\n",
    "    end\n",
    "    varM=varMmaker(pointsUsedForFields,coordinates,vars)\n",
    "    @show bigα,varM\n",
    "    #endregion\n",
    "\n",
    "    #region Preparation for Taylor expansion\n",
    "    \n",
    "    orderTaylors=Array{Any,Ndimension}(undef,Tuple(orderU))\n",
    "    pointsInSpaceTime=Array{Any,Ndimension}(undef,Tuple(pointsUsedForFields))\n",
    "    \n",
    "    \n",
    "    multiOrdersIndices=CartesianIndices(orderTaylors)\n",
    "\n",
    "    availablePointsConfigurations = Array{Array{Vector{Int64},Ndimension},1}()\n",
    "    centrePointConfigurations=Array{Int64,1}()\n",
    "\n",
    "    #endregion\n",
    "\n",
    "    #region Cartesian indices that can be available to use (normally: iGeometry=1)\n",
    "\n",
    "    multiPointsIndices=CartesianIndices(pointsInSpaceTime)\n",
    "    # this is the whole local Cartesian grids (without any lacking points)\n",
    "    \n",
    "    tmpVecForMiddlePoint = ((car2vec(multiPointsIndices[end]).-1 ).÷2 ).+1 # only valid for testOnlyCentre\n",
    "    midTimeCoord = nothing\n",
    "    if timeMarching\n",
    "        midTimeCoord=car2vec(multiPointsIndices[end])[end]-1\n",
    "        tmpVecForMiddlePoint[end]=midTimeCoord\n",
    "        #AjiννᶜU = Array{Num,2}(undef,length(multiPointsIndices)÷(midTimeCoord+1),NtypeofExpr)\n",
    "    end\n",
    "    #@show tmpVecForMiddlePoint \n",
    "    middleν=vec2car(tmpVecForMiddlePoint)\n",
    "\n",
    "\n",
    "    availablePointsConfigurations=push!(availablePointsConfigurations,car2vec.(multiPointsIndices))\n",
    "    centrePointConfigurations=push!(centrePointConfigurations,LinearIndices(multiPointsIndices)[middleν])\n",
    "\n",
    "    #endregion"
   ]
  },
  {
   "cell_type": "code",
   "execution_count": null,
   "id": "df9f803d",
   "metadata": {},
   "outputs": [],
   "source": [
    "CˡηSymbolicInversion=false"
   ]
  },
  {
   "cell_type": "code",
   "execution_count": null,
   "id": "1122af9d",
   "metadata": {},
   "outputs": [],
   "source": [
    " #region obtaining the semi-symbolic expression of cost function based on eqns. 52 and 53.\n",
    "\n",
    "    # before calling AuSymbolic we can manipulate pointsIndices for various boundary configurations\n",
    "\n",
    "\n",
    "    if CˡηSymbolicInversion # this seems super cool but it takes time\n",
    "        #Cˡη,Δ,multiLCar = illposedTaylorCoefficientsInversion(coordinates,multiOrdersIndices,multiPointsIndices;testOnlyCentre=testOnlyCentre,timeMarching=timeMarching)\n",
    "        Δ = Symbolics.variables(:Δ,1:Ndimension)\n",
    "    else\n",
    "        Δ = Δnum\n",
    "    end\n",
    "\n",
    "    AjiννᶜU=[]\n",
    "    Ulocal=[]\n",
    "\n",
    "    for iConfigGeometry in eachindex(availablePointsConfigurations) \n",
    "        @show pointsIndices=availablePointsConfigurations[iConfigGeometry]\n",
    "        @show middleLinearν=centrePointConfigurations[iConfigGeometry]\n",
    "        tmpAjiννᶜU,tmpUlocal=ASymbolic(coordinates,multiOrdersIndices,pointsIndices,multiPointsIndices,middleLinearν,Δ,varM,bigα,orderBspline,WorderBspline,NtypeofExpr,NtypeofFields)\n",
    "\n",
    "\n",
    "\n",
    "        #varM is given above for the max number of points used \n",
    "        #tmpAjiννᶜU,tmpUlocal=AuSymbolic(coordinates,multiOrdersIndices,pointsIndices,multiPointsIndices,middleLinearν,Δ,varM,bigα,orderBspline,WorderBspline,NtypeofExpr,NtypeofFields)\n",
    "        AjiννᶜU=push!(AjiννᶜU,tmpAjiννᶜU)\n",
    "        Ulocal=push!(Ulocal,tmpUlocal)\n",
    "    end\n",
    "\n",
    "\n",
    "    #endregion\n"
   ]
  },
  {
   "cell_type": "code",
   "execution_count": null,
   "id": "efaa915f",
   "metadata": {},
   "outputs": [],
   "source": [
    "typeof(AjiννᶜU)"
   ]
  },
  {
   "cell_type": "code",
   "execution_count": null,
   "id": "82221aca",
   "metadata": {},
   "outputs": [],
   "source": []
  },
  {
   "cell_type": "code",
   "execution_count": null,
   "id": "fd2555da",
   "metadata": {},
   "outputs": [],
   "source": []
  },
  {
   "cell_type": "code",
   "execution_count": null,
   "id": "87bfd3cb",
   "metadata": {},
   "outputs": [],
   "source": []
  },
  {
   "cell_type": "code",
   "execution_count": null,
   "id": "2094e67a",
   "metadata": {},
   "outputs": [],
   "source": [
    "@profilehtml opt = myProduceOrLoad(makeCompleteCostFunctions,concreteModelParameters,\"numOperators\",\"quasiNum\")\n"
   ]
  },
  {
   "cell_type": "code",
   "execution_count": null,
   "id": "b607b0e4",
   "metadata": {},
   "outputs": [],
   "source": [
    "statprofilehtml()"
   ]
  },
  {
   "cell_type": "code",
   "execution_count": null,
   "id": "36896bb6",
   "metadata": {},
   "outputs": [],
   "source": [
    "using InteractiveUtils\n",
    "run(`open /Users/nobuaki/Documents/Github/flexibleDSM/OPTmotors/myOwnApplications/statprof/index.html`)  "
   ]
  },
  {
   "cell_type": "code",
   "execution_count": null,
   "id": "9182caf9",
   "metadata": {},
   "outputs": [],
   "source": []
  },
  {
   "cell_type": "code",
   "execution_count": null,
   "id": "98210640",
   "metadata": {},
   "outputs": [],
   "source": [
    "function buggy_function()\n",
    "    s = 0\n",
    "    for i in 1:10^7\n",
    "        s += sin(i)\n",
    "        if i == 5_000_000\n",
    "            error(\"boom!\")\n",
    "        end\n",
    "    end\n",
    "    return s\n",
    "end\n",
    "\n",
    "try\n",
    "    @profilehtml buggy_function()\n",
    "catch err\n",
    "    @warn \"Crashed\" err\n",
    "end\n",
    "\n",
    "# Show the flamegraph in your browser\n",
    "statprofilehtml()"
   ]
  },
  {
   "cell_type": "code",
   "execution_count": null,
   "id": "a04dd5b1",
   "metadata": {},
   "outputs": [],
   "source": [
    "using InteractiveUtils\n",
    "run(`open /Users/nobuaki/Documents/Github/flexibleDSM/OPTmotors/myOwnApplications/statprof/index.html`)  "
   ]
  }
 ],
 "metadata": {
  "kernelspec": {
   "display_name": "Julia 1.12.0",
   "language": "julia",
   "name": "julia-1.12"
  },
  "language_info": {
   "file_extension": ".jl",
   "mimetype": "application/julia",
   "name": "julia",
   "version": "1.12.0"
  }
 },
 "nbformat": 4,
 "nbformat_minor": 5
}
