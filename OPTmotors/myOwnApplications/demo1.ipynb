{
 "cells": [
  {
   "cell_type": "code",
   "execution_count": 2,
   "id": "85b7f81f",
   "metadata": {},
   "outputs": [
    {
     "name": "stderr",
     "output_type": "stream",
     "text": [
      "\u001b[32m\u001b[1m  Activating\u001b[22m\u001b[39m project at `~/Documents/Github/flexibleDSM`\n",
      "┌ Warning: GPU backend not available: MethodError(Metal.MTL.devices, (), 0x0000000000006b1a)\n",
      "└ @ Main /Users/nobuaki/Documents/Github/flexibleDSM/OPTmotors/src/batchEnzyme.jl:31\n"
     ]
    },
    {
     "data": {
      "text/plain": [
       "quasiNumericalOperatorConstruction (generic function with 1 method)"
      ]
     },
     "metadata": {},
     "output_type": "display_data"
    }
   ],
   "source": [
    "# Nobuaki Fuji @ipgp September 2025\n",
    "using Pkg, BenchmarkTools\n",
    "\n",
    "\n",
    "cd(@__DIR__)\n",
    "Pkg.activate(\"../..\")\n",
    "\n",
    "# below are the tools to debug the code\n",
    "using Revise # this is very cool since \n",
    "using Profile, StatProfilerHTML\n",
    "\n",
    "\n",
    "include(\"../src/imageReader.jl\") # read 2D images for models\n",
    "\n",
    "include(\"../src/OPTwrappers.jl\") \n"
   ]
  },
  {
   "cell_type": "code",
   "execution_count": 6,
   "id": "0ae67625",
   "metadata": {},
   "outputs": [
    {
     "data": {
      "text/plain": [
       "1"
      ]
     },
     "metadata": {},
     "output_type": "display_data"
    }
   ],
   "source": [
    "iExperiment = 1\n",
    "\n",
    "# 'iExperiment' can be fixed to be 1 if the user does not need to perform benchmark tests\n",
    "# (which should be the case for the most of the time when the software gets stabilised)"
   ]
  },
  {
   "cell_type": "code",
   "execution_count": 7,
   "id": "abcee459",
   "metadata": {},
   "outputs": [],
   "source": [
    "\n",
    "#region Choose backend depending on environment\n",
    "if isdefined(Main, :IJulia) || get(ENV, \"JULIA_EDITOR\", \"\") == \"code\"\n",
    "    # Use CairoMakie for inline if in notebook or VS Code\n",
    "    using CairoMakie\n",
    "    #using WGLMakie\n",
    "else\n",
    "    using GLMakie\n",
    "end"
   ]
  },
  {
   "cell_type": "code",
   "execution_count": 8,
   "id": "29587f11",
   "metadata": {},
   "outputs": [
    {
     "data": {
      "text/plain": [
       "(Differential(t)(Differential(t)(u(x, y, t))) - (Differential(x)(Differential(x)(u(x, y, t))) + Differential(y)(Differential(y)(u(x, y, t))))*(v(x, y)^2), u(x, y, t), v(x, y), f(x, y, t), f(x, y, t), 1, (x, y, t), Any[Differential(x), Differential(y), Differential(t)], Any[Differential(x) ∘ Differential(x), Differential(y) ∘ Differential(y), Differential(t) ∘ Differential(t)])"
      ]
     },
     "metadata": {},
     "output_type": "display_data"
    }
   ],
   "source": [
    "famousEquationType=\"2DacousticTime\"\n",
    "exprs,fields,vars,extexprs,extfields,extvars,coordinates,∂,∂²=famousEquations(famousEquationType)"
   ]
  },
  {
   "cell_type": "code",
   "execution_count": 9,
   "id": "7bedc499",
   "metadata": {},
   "outputs": [],
   "source": [
    "modelName=\"marmousi\"\n",
    "\n",
    "modelDefinitionMethod=\"2DimageFile\" # ToyModel or 2DimageFile (or 1DsphericalPlanet)\n",
    "model =nothing\n",
    "\n",
    "\n",
    "if modelDefinitionMethod !== nothing\n",
    "        \n",
    "    #region Model input - option i) Model domain definition\n",
    "\n",
    "    if modelDefinitionMethod === \"ToyModel\"\n",
    "        DomainWindow=(DomainWindowT=1.0,DomainWindowX=1.0,DomainWindowY=1.0,DomainWindowZ=1.0)\n",
    "        ModelSizeTXYZ=(ModelSizeT=101,ModelSizeX=101,ModelSizeY=101,ModelSizeZ=0)\n",
    "    end\n",
    "\n",
    "    #endregion\n",
    "\n",
    "    #region Model input - option ii) Read a file (2D or 3D) and define Δs\n",
    "\n",
    "    if modelDefinitionMethod === \"2DimageFile\"\n",
    "\n",
    "        #imagefile=\"../data/model/random/colourful.jpg\"\n",
    "        #imagefile=\"../data/model/artemis/IMG_6098.jpeg\"\n",
    "        #imagefile=\"../data/model/random/tmp.png\"\n",
    "        imagefile = \"../data/model/random/marmousi.png\"\n",
    "        colormap = \"jet\" #colormap can be RGB vector or predefined colormap\n",
    "\n",
    "        #model=read2DimageModel(imagefile,colormap;Nwidth=10,Nheight=10,showRecoveredImage=false)\n",
    "        model=read2DimageModel(imagefile,colormap;showRecoveredImage=false)\n",
    "    end\n",
    "    #endregion\n",
    "\n",
    "    #region Model input - option iii) Read a file (1D spherical planet models)\n",
    "\n",
    "    if modelDefinitionMethod ===\"1DsphericalPlanet\"\n",
    "        # use some programmes that are developed during Xmas 2023\n",
    "        # inputModels.jl\n",
    "    end\n",
    "\n",
    "#endregion\n",
    "end"
   ]
  },
  {
   "cell_type": "code",
   "execution_count": 10,
   "id": "2a2ab3be",
   "metadata": {},
   "outputs": [
    {
     "data": {
      "text/plain": [
       "(x, y, t)"
      ]
     },
     "metadata": {},
     "output_type": "display_data"
    }
   ],
   "source": [
    "coordinates"
   ]
  },
  {
   "cell_type": "code",
   "execution_count": 11,
   "id": "8cd30c3a",
   "metadata": {},
   "outputs": [
    {
     "data": {
      "text/plain": [
       "2"
      ]
     },
     "metadata": {},
     "output_type": "display_data"
    }
   ],
   "source": [
    "Δnum = (1.0,1.0,1.0) # this should be in the same order as coordinates \n",
    "\n",
    "\n",
    "\n",
    "IneedExternalSources = true\n",
    "maskedRegionForSourcesInSpace = nothing\n",
    "\n",
    "#DrWatson configurations\n",
    "\n",
    "orderBtime=1\n",
    "orderBspace=1\n",
    "pointsInSpace=2\n",
    "pointsInTime=2\n",
    "\n",
    "WorderBspace=1\n",
    "WorderBtime=1\n",
    "supplementaryOrder=2"
   ]
  },
  {
   "cell_type": "code",
   "execution_count": 12,
   "id": "98b5b8ba",
   "metadata": {},
   "outputs": [
    {
     "data": {
      "text/plain": [
       "1-element Vector{Any}:\n",
       " [0.4 0.4 … 0.4 0.4; 0.4 0.4 … 0.4 0.4; … ; 0.5138386099547898 0.5163891573813251 … 0.5501948972360029 0.5472638856339349; 0.5300777283024765 0.5308589172720881 … 0.5545259469249547 0.5545259469249547]"
      ]
     },
     "metadata": {},
     "output_type": "display_data"
    }
   ],
   "source": [
    "models=[] # you might need to make this empty tuple first, otherwise one-member tuple can be misinterpreted\n",
    "models=push!(models, (model .* 0.2 .+ 0.4))"
   ]
  },
  {
   "cell_type": "code",
   "execution_count": null,
   "id": "7f90a668",
   "metadata": {},
   "outputs": [],
   "source": [
    "maximum(models[1])"
   ]
  },
  {
   "cell_type": "code",
   "execution_count": 13,
   "id": "6596fcab",
   "metadata": {},
   "outputs": [
    {
     "data": {
      "text/plain": [
       "(676, 802, 3)"
      ]
     },
     "metadata": {},
     "output_type": "display_data"
    }
   ],
   "source": [
    "fakeNt = 1\n",
    "timeMarching = any(a -> a === timeDimensionString, string.(coordinates)) \n",
    "if timeMarching\n",
    "    fakeNt = pointsInTime+1\n",
    "    modelPoints = (size(model)...,fakeNt) # Nx, Ny etc thing. Nt is also mentioned and it should be the last element!\n",
    "else\n",
    "    modelPoints = (size(model))\n",
    "end"
   ]
  },
  {
   "cell_type": "code",
   "execution_count": 14,
   "id": "884a4dc6",
   "metadata": {},
   "outputs": [
    {
     "data": {
      "text/plain": [
       "Dict{String, Any} with 16 entries:\n",
       "  \"IneedExternalSources\"          => true\n",
       "  \"models\"                        => Any[[0.4 0.4 … 0.4 0.4; 0.4 0.4 … 0.4 0.4;…\n",
       "  \"maskedRegionForSourcesInSpace\" => CartesianIndex[CartesianIndex(338, 401)]\n",
       "  \"iExperiment\"                   => 1\n",
       "  \"orderBtime\"                    => 1\n",
       "  \"Δnum\"                          => (1.0, 1.0, 1.0)\n",
       "  \"pointsInSpace\"                 => 2\n",
       "  \"WorderBspace\"                  => 1\n",
       "  \"pointsInTime\"                  => 2\n",
       "  \"WorderBtime\"                   => 1\n",
       "  \"supplementaryOrder\"            => 2\n",
       "  \"orderBspace\"                   => 1\n",
       "  \"modelPoints\"                   => (676, 802, 3)\n",
       "  \"forceModels\"                   => 1.0\n",
       "  \"modelName\"                     => \"marmousi\"\n",
       "  \"famousEquationType\"            => \"2DacousticTime\""
      ]
     },
     "metadata": {},
     "output_type": "display_data"
    }
   ],
   "source": [
    "maskedRegionForSourcesInSpace  = Array{CartesianIndex,1}(undef,0) # it is important to decalre the type of this\n",
    "maskedRegionForSourcesInSpace = push!(maskedRegionForSourcesInSpace, CartesianIndex(modelPoints[1:end-1].÷2))# in Ndimension (or Ndimension  - 1 if timeMarching)\n",
    "# in this example, I put a point source at the centre of the model space\n",
    "\n",
    "forceModels =((1.0)) # if your model does not have anything special material parameters then it's how it's written\n",
    "\n",
    "concreteModelParameters = @strdict famousEquationType Δnum orderBtime orderBspace WorderBtime WorderBspace supplementaryOrder pointsInSpace pointsInTime IneedExternalSources modelName models modelPoints forceModels maskedRegionForSourcesInSpace iExperiment"
   ]
  },
  {
   "cell_type": "code",
   "execution_count": null,
   "id": "0a8e6de0",
   "metadata": {},
   "outputs": [],
   "source": [
    "#safeget(A, inds...; default=0) = checkbounds(Bool, A, inds...) ? A[inds...] : default"
   ]
  },
  {
   "cell_type": "code",
   "execution_count": null,
   "id": "d4f145f6",
   "metadata": {},
   "outputs": [],
   "source": [
    "# we need to see what's happening inside makeCompleteCostFunctions"
   ]
  },
  {
   "cell_type": "code",
   "execution_count": 15,
   "id": "3ccec8ec",
   "metadata": {},
   "outputs": [
    {
     "data": {
      "text/plain": [
       "Dict{String, Any} with 11 entries:\n",
       "  \"IneedExternalSources\" => true\n",
       "  \"iExperiment\"          => 1\n",
       "  \"orderBtime\"           => 1\n",
       "  \"Δnum\"                 => (1.0, 1.0, 1.0)\n",
       "  \"pointsInSpace\"        => 2\n",
       "  \"WorderBspace\"         => 1\n",
       "  \"pointsInTime\"         => 2\n",
       "  \"WorderBtime\"          => 1\n",
       "  \"supplementaryOrder\"   => 2\n",
       "  \"orderBspace\"          => 1\n",
       "  \"famousEquationType\"   => \"2DacousticTime\""
      ]
     },
     "metadata": {},
     "output_type": "display_data"
    }
   ],
   "source": [
    "    @unpack famousEquationType, Δnum, orderBtime, orderBspace, WorderBtime,WorderBspace,supplementaryOrder,pointsInSpace, pointsInTime, IneedExternalSources, modelName, models, modelPoints, forceModels,maskedRegionForSourcesInSpace, iExperiment = concreteModelParameters\n",
    "    exprs,fields,vars,extexprs,extfields,extvars,coordinates,∂,∂² = famousEquations(famousEquationType)\n",
    "    global ∂,∂²\n",
    "    \n",
    "    # here we construct semi symbolic operators (with numerical Δnum)\n",
    "    operatorConfigurations = @strdict famousEquationType Δnum orderBtime orderBspace WorderBtime WorderBspace supplementaryOrder pointsInSpace pointsInTime IneedExternalSources iExperiment\n"
   ]
  },
  {
   "cell_type": "code",
   "execution_count": null,
   "id": "521d97bb",
   "metadata": {},
   "outputs": [],
   "source": [
    "#instead of doing below\n",
    "#operators = myProduceOrLoad(OPTobj,operatorConfigurations,\"semiSymbolics\")"
   ]
  },
  {
   "cell_type": "code",
   "execution_count": 16,
   "id": "bc933626",
   "metadata": {},
   "outputs": [
    {
     "data": {
      "text/plain": [
       "(orderBtime = 1, orderBspace = 1, pointsInSpace = 2, pointsInTime = 2)"
      ]
     },
     "metadata": {},
     "output_type": "display_data"
    }
   ],
   "source": [
    " @unpack famousEquationType, Δnum, orderBtime, orderBspace, WorderBtime,WorderBspace,supplementaryOrder,pointsInSpace, pointsInTime,IneedExternalSources, iExperiment= operatorConfigurations\n",
    "\n",
    "    exprs,fields,vars,extexprs,extfields,extvars,coordinates,∂,∂² = famousEquations(famousEquationType)\n",
    "\n",
    "    TaylorOptions=(WorderBtime=WorderBtime,WorderBspace=WorderBspace,supplementaryOrder=supplementaryOrder)\n",
    "    trialFunctionsCharacteristics=(orderBtime=orderBtime,orderBspace=orderBspace,pointsInSpace=pointsInSpace,pointsInTime=pointsInTime)"
   ]
  },
  {
   "cell_type": "code",
   "execution_count": null,
   "id": "723712da",
   "metadata": {},
   "outputs": [],
   "source": [
    "# instead of doing below\n",
    "#@time operatorData=OPTobj(exprs,fields,vars; coordinates=coordinates,trialFunctionsCharacteristics=trialFunctionsCharacteristics,TaylorOptions=TaylorOptions,Δnum = Δnum,iExperiment=iExperiment)"
   ]
  },
  {
   "cell_type": "code",
   "execution_count": null,
   "id": "9612c45a",
   "metadata": {},
   "outputs": [],
   "source": [
    "# here is the internal contents of OPTobj"
   ]
  },
  {
   "cell_type": "code",
   "execution_count": 17,
   "id": "9e670dfe",
   "metadata": {},
   "outputs": [],
   "source": [
    "\n",
    "\n",
    "    timeMarching = any(a -> a === timeDimensionString, string.(coordinates))\n",
    "\n",
    "\n",
    "    @unpack orderBtime, orderBspace, pointsInSpace, pointsInTime = trialFunctionsCharacteristics\n",
    "    @unpack WorderBtime, WorderBspace,supplementaryOrder = TaylorOptions\n",
    "\n",
    "    NtypeofExpr=length(exprs)   # number of governing equations\n",
    "    NtypeofMaterialVariables=length(vars) # number of material coefficients\n",
    "    NtypeofFields=length(fields) # number of unknown fields\n",
    "    \n",
    "    Ndimension = length(coordinates) # we do not change this for the moment, especially for the time-marching scheme\n",
    "    pointsUsed = ones(Int, Ndimension).*(pointsInSpace+1)\n",
    "    if timeMarching\n",
    "        pointsUsed[end]=pointsInTime+1\n",
    "    end\n",
    "\n",
    "\n",
    "    if length(Δnum) !== Ndimension && !CˡηSymbolicInversion\n",
    "        @error \"the numerical delta increment has not the same dimension!\"\n",
    "    end"
   ]
  },
  {
   "cell_type": "code",
   "execution_count": 18,
   "id": "24c896e3",
   "metadata": {},
   "outputs": [
    {
     "data": {
      "text/plain": [
       "3-element Vector{Int64}:\n",
       " 1\n",
       " 1\n",
       " 0"
      ]
     },
     "metadata": {},
     "output_type": "display_data"
    }
   ],
   "source": [
    " #region investigation of all the fields and vars dependencies in terms of x-y-z-t\n",
    "\n",
    "    variableDependency=ones(Int,Ndimension)\n",
    "    fieldDependency=ones(Int,Ndimension)\n",
    "    eachVariableDependency=ones(Int,Ndimension,NtypeofMaterialVariables) \n",
    "    eachFieldDependency=ones(Int,Ndimension,NtypeofFields)\n",
    "  \n",
    "    for iFields in 1:NtypeofFields\n",
    "        eachFieldDependency[:,iFields]=findCartesianDependency(fields[iFields],Ndimension)\n",
    "        fieldDependency = fieldDependency .* (ones(Int,Ndimension).-eachFieldDependency[:,iFields])\n",
    "    end\n",
    "\n",
    "\n",
    "    for iVars in 1:NtypeofMaterialVariables\n",
    "        eachVariableDependency[:,iVars]=findCartesianDependency(vars[iVars],Ndimension)\n",
    "        variableDependency = variableDependency .* (ones(Int,Ndimension).-eachVariableDependency[:,iVars])\n",
    "    end\n",
    "\n",
    "    \n",
    "\n",
    "    fieldDependency = ones(Int,Ndimension).-fieldDependency\n",
    "    variableDependency = ones(Int,Ndimension).-variableDependency\n",
    "\n",
    "    # here we correct variableDependency with fieldDependency: if fieldDependency is zero then we do not take care of that dimension for the variables\n",
    "    variableDependency = variableDependency .* fieldDependency\n",
    "\n",
    "    #endregion"
   ]
  },
  {
   "cell_type": "code",
   "execution_count": 19,
   "id": "0d7f0267",
   "metadata": {},
   "outputs": [
    {
     "data": {
      "text/plain": [
       "3-element Vector{Int64}:\n",
       " 5\n",
       " 5\n",
       " 5"
      ]
     },
     "metadata": {},
     "output_type": "display_data"
    }
   ],
   "source": [
    "#region definition of points in time and space to be used\n",
    "\n",
    "    # heaviside(x) = x > 0 ? 1 : x == 0 ? 0 : -1\n",
    "\n",
    "    # the orders of B-spline functions, depending on fields \n",
    "\n",
    "    orderBspline=zeros(Int,Ndimension)\n",
    "    WorderBspline=zeros(Int,Ndimension)\n",
    "\n",
    "    if timeMarching\n",
    "        orderBspline[Ndimension]=orderBtime*fieldDependency[Ndimension]\n",
    "        orderBspline[1:Ndimension-1]=orderBspace*fieldDependency[1:Ndimension-1]\n",
    "        WorderBspline[Ndimension]=WorderBtime*fieldDependency[Ndimension]\n",
    "        WorderBspline[1:Ndimension-1]=WorderBspace*fieldDependency[1:Ndimension-1]\n",
    "    else\n",
    "        orderBspline[1:Ndimension]=orderBspace*fieldDependency[1:Ndimension]\n",
    "        WorderBspline[1:Ndimension]=WorderBspace*fieldDependency[1:Ndimension]\n",
    "    end\n",
    "    \n",
    "    # the maximum number of points used in the vicinity of the node, which is independent of the order of B-spline functions (see our paper)\n",
    "    pointsUsedForFields=(pointsUsed.-1).*fieldDependency.+1\n",
    "\n",
    "    # orderExpressions is the maximal orders of partials that we could expect in the expressions\n",
    "    orderExpressions=pointsUsedForFields\n",
    "    \n",
    "    # numbers of points to evaluate the integral for the governing equation filtered by the test functions\n",
    "    \n",
    "    # orderU is the maximum orders for the fields that we will use for OPT coefficients' exploration\n",
    "    orderU = (orderExpressions .-1) .+ (supplementaryOrder .*fieldDependency).+1 \n",
    "    # we restore this orderU since we need to control this \n",
    "\n",
    "    #endregion"
   ]
  },
  {
   "cell_type": "code",
   "execution_count": 20,
   "id": "9692ea9e",
   "metadata": {},
   "outputs": [
    {
     "name": "stdout",
     "output_type": "stream",
     "text": [
      "(bigα, varM) = (Any[Any[(node = -(v(x, y)^2), nᶜ = CartesianIndex(1, 1, 1), n = CartesianIndex(3, 1, 1)), (node = -(v(x, y)^2), nᶜ = CartesianIndex(1, 1, 1), n = CartesianIndex(1, 3, 1)), (node = 1, nᶜ = CartesianIndex(1, 1, 1), n = CartesianIndex(1, 1, 3))];;], Any[v₁ v₂ v₃ v₄ v₅ v₆ v₇ v₈ v₉ v₁ v₂ v₃ v₄ v₅ v₆ v₇ v₈ v₉ v₁ v₂ v₃ v₄ v₅ v₆ v₇ v₈ v₉])\n"
     ]
    },
    {
     "data": {
      "text/plain": [
       "1-element Vector{Int64}:\n",
       " 14"
      ]
     },
     "metadata": {},
     "output_type": "display_data"
    }
   ],
   "source": [
    "#region analysis of expressions to obtain the α_{n'nji}\n",
    "\n",
    "    bigα=Array{Any,2}(missing,NtypeofFields,NtypeofExpr)\n",
    "    varM=nothing\n",
    "    for iExpr in eachindex(exprs)\n",
    "        for iField in eachindex(fields)\n",
    "            \n",
    "            tmpNonZeroAlphas=PDECoefFinder(orderExpressions,coordinates,exprs[iExpr],fields[iField],vars) \n",
    "            # we assume that the pointsUsedForFields represent the highest order of partials\n",
    "            bigα[iField,iExpr]=unique(tmpNonZeroAlphas)\n",
    "        end\n",
    "    end\n",
    "    varM=varMmaker(pointsUsedForFields,coordinates,vars)\n",
    "    @show bigα,varM\n",
    "    #endregion\n",
    "\n",
    "    #region Preparation for Taylor expansion\n",
    "    \n",
    "    orderTaylors=Array{Any,Ndimension}(undef,Tuple(orderU))\n",
    "    pointsInSpaceTime=Array{Any,Ndimension}(undef,Tuple(pointsUsedForFields))\n",
    "    \n",
    "    \n",
    "    multiOrdersIndices=CartesianIndices(orderTaylors)\n",
    "\n",
    "    availablePointsConfigurations = Array{Array{Vector{Int64},Ndimension},1}()\n",
    "    centrePointConfigurations=Array{Int64,1}()\n",
    "\n",
    "    #endregion\n",
    "\n",
    "    #region Cartesian indices that can be available to use (normally: iGeometry=1)\n",
    "\n",
    "    multiPointsIndices=CartesianIndices(pointsInSpaceTime)\n",
    "    # this is the whole local Cartesian grids (without any lacking points)\n",
    "    \n",
    "    tmpVecForMiddlePoint = ((car2vec(multiPointsIndices[end]).-1 ).÷2 ).+1 # only valid for testOnlyCentre\n",
    "    midTimeCoord = nothing\n",
    "    if timeMarching\n",
    "        midTimeCoord=car2vec(multiPointsIndices[end])[end]-1\n",
    "        tmpVecForMiddlePoint[end]=midTimeCoord\n",
    "        #AjiννᶜU = Array{Num,2}(undef,length(multiPointsIndices)÷(midTimeCoord+1),NtypeofExpr)\n",
    "    end\n",
    "    #@show tmpVecForMiddlePoint \n",
    "    middleν=vec2car(tmpVecForMiddlePoint)\n",
    "\n",
    "\n",
    "    availablePointsConfigurations=push!(availablePointsConfigurations,car2vec.(multiPointsIndices))\n",
    "    centrePointConfigurations=push!(centrePointConfigurations,LinearIndices(multiPointsIndices)[middleν])\n",
    "\n",
    "    #endregion"
   ]
  },
  {
   "cell_type": "code",
   "execution_count": 21,
   "id": "df9f803d",
   "metadata": {},
   "outputs": [
    {
     "data": {
      "text/plain": [
       "false"
      ]
     },
     "metadata": {},
     "output_type": "display_data"
    }
   ],
   "source": [
    "CˡηSymbolicInversion=false"
   ]
  },
  {
   "cell_type": "code",
   "execution_count": null,
   "id": "1122af9d",
   "metadata": {},
   "outputs": [
    {
     "name": "stdout",
     "output_type": "stream",
     "text": [
      "pointsIndices = availablePointsConfigurations[iConfigGeometry] = [[1, 1, 1] [1, 2, 1] [1, 3, 1]; [2, 1, 1] [2, 2, 1] [2, 3, 1]; [3, 1, 1] [3, 2, 1] [3, 3, 1];;; [1, 1, 2] [1, 2, 2] [1, 3, 2]; [2, 1, 2] [2, 2, 2] [2, 3, 2]; [3, 1, 2] [3, 2, 2] [3, 3, 2];;; [1, 1, 3] [1, 2, 3] [1, 3, 3]; [2, 1, 3] [2, 2, 3] [2, 3, 3]; [3, 1, 3] [3, 2, 3] [3, 3, 3]]\n",
      "middleLinearν = centrePointConfigurations[iConfigGeometry] = 14\n"
     ]
    }
   ],
   "source": [
    " #region obtaining the semi-symbolic expression of cost function based on eqns. 52 and 53.\n",
    "\n",
    "    # before calling AuSymbolic we can manipulate pointsIndices for various boundary configurations\n",
    "\n",
    "\n",
    "    if CˡηSymbolicInversion # this seems super cool but it takes time\n",
    "        #Cˡη,Δ,multiLCar = illposedTaylorCoefficientsInversion(coordinates,multiOrdersIndices,multiPointsIndices;testOnlyCentre=testOnlyCentre,timeMarching=timeMarching)\n",
    "        Δ = Symbolics.variables(:Δ,1:Ndimension)\n",
    "    else\n",
    "        Δ = Δnum\n",
    "    end\n",
    "\n",
    "    AjiννᶜU=[]\n",
    "    Ulocal=[]\n",
    "\n",
    "    for iConfigGeometry in eachindex(availablePointsConfigurations) \n",
    "        @show pointsIndices=availablePointsConfigurations[iConfigGeometry]\n",
    "        @show middleLinearν=centrePointConfigurations[iConfigGeometry]\n",
    "        tmpAjiννᶜU,tmpUlocal=ASymbolic(coordinates,multiOrdersIndices,pointsIndices,multiPointsIndices,middleLinearν,Δ,varM,bigα,orderBspline,WorderBspline,NtypeofExpr,NtypeofFields)\n",
    "\n",
    "\n",
    "\n",
    "        #varM is given above for the max number of points used \n",
    "        #tmpAjiννᶜU,tmpUlocal=AuSymbolic(coordinates,multiOrdersIndices,pointsIndices,multiPointsIndices,middleLinearν,Δ,varM,bigα,orderBspline,WorderBspline,NtypeofExpr,NtypeofFields)\n",
    "        AjiννᶜU=push!(AjiννᶜU,tmpAjiννᶜU)\n",
    "        Ulocal=push!(Ulocal,tmpUlocal)\n",
    "    end\n",
    "\n",
    "\n",
    "    #endregion\n"
   ]
  },
  {
   "cell_type": "code",
   "execution_count": null,
   "id": "efaa915f",
   "metadata": {},
   "outputs": [],
   "source": [
    "typeof(AjiννᶜU)"
   ]
  },
  {
   "cell_type": "code",
   "execution_count": null,
   "id": "82221aca",
   "metadata": {},
   "outputs": [],
   "source": []
  },
  {
   "cell_type": "code",
   "execution_count": null,
   "id": "fd2555da",
   "metadata": {},
   "outputs": [],
   "source": []
  },
  {
   "cell_type": "code",
   "execution_count": null,
   "id": "87bfd3cb",
   "metadata": {},
   "outputs": [],
   "source": []
  },
  {
   "cell_type": "code",
   "execution_count": null,
   "id": "2094e67a",
   "metadata": {},
   "outputs": [],
   "source": [
    "@profilehtml opt = myProduceOrLoad(makeCompleteCostFunctions,concreteModelParameters,\"numOperators\",\"quasiNum\")\n"
   ]
  },
  {
   "cell_type": "code",
   "execution_count": null,
   "id": "b607b0e4",
   "metadata": {},
   "outputs": [],
   "source": [
    "statprofilehtml()"
   ]
  },
  {
   "cell_type": "code",
   "execution_count": null,
   "id": "36896bb6",
   "metadata": {},
   "outputs": [],
   "source": [
    "using InteractiveUtils\n",
    "run(`open /Users/nobuaki/Documents/Github/flexibleDSM/OPTmotors/myOwnApplications/statprof/index.html`)  "
   ]
  },
  {
   "cell_type": "code",
   "execution_count": null,
   "id": "9182caf9",
   "metadata": {},
   "outputs": [],
   "source": []
  },
  {
   "cell_type": "code",
   "execution_count": null,
   "id": "98210640",
   "metadata": {},
   "outputs": [],
   "source": [
    "function buggy_function()\n",
    "    s = 0\n",
    "    for i in 1:10^7\n",
    "        s += sin(i)\n",
    "        if i == 5_000_000\n",
    "            error(\"boom!\")\n",
    "        end\n",
    "    end\n",
    "    return s\n",
    "end\n",
    "\n",
    "try\n",
    "    @profilehtml buggy_function()\n",
    "catch err\n",
    "    @warn \"Crashed\" err\n",
    "end\n",
    "\n",
    "# Show the flamegraph in your browser\n",
    "statprofilehtml()"
   ]
  },
  {
   "cell_type": "code",
   "execution_count": null,
   "id": "a04dd5b1",
   "metadata": {},
   "outputs": [],
   "source": [
    "using InteractiveUtils\n",
    "run(`open /Users/nobuaki/Documents/Github/flexibleDSM/OPTmotors/myOwnApplications/statprof/index.html`)  "
   ]
  }
 ],
 "metadata": {
  "kernelspec": {
   "display_name": "Julia 1.11.7",
   "language": "julia",
   "name": "julia-1.11"
  },
  "language_info": {
   "file_extension": ".jl",
   "mimetype": "application/julia",
   "name": "julia",
   "version": "1.11.7"
  }
 },
 "nbformat": 4,
 "nbformat_minor": 5
}
