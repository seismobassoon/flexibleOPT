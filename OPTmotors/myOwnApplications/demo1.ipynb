{
 "cells": [
  {
   "cell_type": "markdown",
   "id": "1a2c0874",
   "metadata": {},
   "source": [
    "# Debug and test flexOPT.jl"
   ]
  },
  {
   "cell_type": "code",
   "execution_count": 1,
   "id": "85b7f81f",
   "metadata": {},
   "outputs": [
    {
     "name": "stderr",
     "output_type": "stream",
     "text": [
      "\u001b[32m\u001b[1m  Activating\u001b[22m\u001b[39m project at `~/Documents/Github/flexibleDSM`\n",
      "┌ Info: Including with Revise: ../src/imageReader.jl\n",
      "└ @ Main /Users/nobuaki/Documents/Github/flexibleDSM/OPTmotors/src/batchRevise.jl:25\n",
      "┌ Info: Including with Revise: ../src/batchImages.jl\n",
      "└ @ Main /Users/nobuaki/Documents/Github/flexibleDSM/OPTmotors/src/batchRevise.jl:25\n",
      "┌ Info: Including with Revise: ../src/batchUseful.jl\n",
      "└ @ Main /Users/nobuaki/Documents/Github/flexibleDSM/OPTmotors/src/batchRevise.jl:25\n",
      "┌ Info: Including with Revise: ../src/OPTwrappers.jl\n",
      "└ @ Main /Users/nobuaki/Documents/Github/flexibleDSM/OPTmotors/src/batchRevise.jl:25\n",
      "┌ Info: Including with Revise: ../src/batchNewSymbolics.jl\n",
      "└ @ Main /Users/nobuaki/Documents/Github/flexibleDSM/OPTmotors/src/batchRevise.jl:25\n",
      "┌ Info: Including with Revise: ../src/OPTnewEngines.jl\n",
      "└ @ Main /Users/nobuaki/Documents/Github/flexibleDSM/OPTmotors/src/batchRevise.jl:25\n",
      "┌ Info: Including with Revise: ../src/batchNewSymbolics.jl\n",
      "└ @ Main /Users/nobuaki/Documents/Github/flexibleDSM/OPTmotors/src/batchRevise.jl:25\n",
      "┌ Info: Including with Revise: ../src/batchUseful.jl\n",
      "└ @ Main /Users/nobuaki/Documents/Github/flexibleDSM/OPTmotors/src/batchRevise.jl:25\n",
      "┌ Info: Including with Revise: ../src/batchDrWatson.jl\n",
      "└ @ Main /Users/nobuaki/Documents/Github/flexibleDSM/OPTmotors/src/batchRevise.jl:25\n",
      "┌ Info: Including with Revise: ../src/CerjanBoundary.jl\n",
      "└ @ Main /Users/nobuaki/Documents/Github/flexibleDSM/OPTmotors/src/batchRevise.jl:25\n",
      "┌ Info: Including with Revise: ../src/IntegrateBsplineAndPolynomials.jl\n",
      "└ @ Main /Users/nobuaki/Documents/Github/flexibleDSM/OPTmotors/src/batchRevise.jl:25\n",
      "┌ Info: Including with Revise: ../src/batchNewSymbolics.jl\n",
      "└ @ Main /Users/nobuaki/Documents/Github/flexibleDSM/OPTmotors/src/batchRevise.jl:25\n",
      "┌ Info: Including with Revise: ../src/famousSourceFunctions.jl\n",
      "└ @ Main /Users/nobuaki/Documents/Github/flexibleDSM/OPTmotors/src/batchRevise.jl:25\n",
      "┌ Info: Including with Revise: ../src/famousEquations.jl\n",
      "└ @ Main /Users/nobuaki/Documents/Github/flexibleDSM/OPTmotors/src/batchRevise.jl:25\n",
      "┌ Info: Including with Revise: ../src/timeMarchingSchemes.jl\n",
      "└ @ Main /Users/nobuaki/Documents/Github/flexibleDSM/OPTmotors/src/batchRevise.jl:25\n",
      "┌ Info: Including with Revise: ../src/batchDiffTools.jl\n",
      "└ @ Main /Users/nobuaki/Documents/Github/flexibleDSM/OPTmotors/src/batchRevise.jl:25\n",
      "┌ Info: Including with Revise: ../src/batchUseful.jl\n",
      "└ @ Main /Users/nobuaki/Documents/Github/flexibleDSM/OPTmotors/src/batchRevise.jl:25\n",
      "┌ Info: Including with Revise: ../src/batchEnzyme.jl\n",
      "└ @ Main /Users/nobuaki/Documents/Github/flexibleDSM/OPTmotors/src/batchRevise.jl:25\n",
      "┌ Warning: GPU backend not available: MethodError(Metal.MTL.devices, (), 0x0000000000006a8d)\n",
      "└ @ Main /Users/nobuaki/Documents/Github/flexibleDSM/OPTmotors/src/batchEnzyme.jl:31\n"
     ]
    }
   ],
   "source": [
    "# Nobuaki Fuji @ipgp September 2025\n",
    "using Pkg\n",
    "\n",
    "\n",
    "cd(@__DIR__)\n",
    "Pkg.activate(\"../..\")\n",
    "using BenchmarkTools\n",
    "# below are the tools to debug the code\n",
    "#using Revise # if we use Revise, myInclude will be Revise.myIncludet\n",
    "using Profile, StatProfilerHTML\n",
    "\n",
    "\n",
    "include(\"../src/batchRevise.jl\") # Revise.jl will be automatically activated. If you do not want Revise then put using_revise = false\n",
    "#using_revise=false\n",
    "\n",
    "myInclude(\"../src/imageReader.jl\") # read 2D images for models\n",
    "\n",
    "myInclude(\"../src/OPTwrappers.jl\") \n"
   ]
  },
  {
   "cell_type": "code",
   "execution_count": 7,
   "id": "0ae67625",
   "metadata": {},
   "outputs": [
    {
     "data": {
      "text/plain": [
       "1"
      ]
     },
     "metadata": {},
     "output_type": "display_data"
    }
   ],
   "source": [
    "iExperiment = 1\n",
    "\n",
    "# 'iExperiment' can be fixed to be 1 if the user does not need to perform benchmark tests\n",
    "# (which should be the case for the most of the time when the software gets stabilised)"
   ]
  },
  {
   "cell_type": "code",
   "execution_count": 8,
   "id": "abcee459",
   "metadata": {},
   "outputs": [],
   "source": [
    "\n",
    "#region Choose backend depending on environment\n",
    "if isdefined(Main, :IJulia) || get(ENV, \"JULIA_EDITOR\", \"\") == \"code\"\n",
    "    # Use CairoMakie for inline if in notebook or VS Code\n",
    "    using CairoMakie\n",
    "    #using WGLMakie\n",
    "else\n",
    "    using GLMakie\n",
    "end"
   ]
  },
  {
   "cell_type": "code",
   "execution_count": 9,
   "id": "29587f11",
   "metadata": {},
   "outputs": [
    {
     "data": {
      "text/plain": [
       "(Differential(t)(Differential(t)(u(x, y, t))) - (Differential(x)(Differential(x)(u(x, y, t))) + Differential(y)(Differential(y)(u(x, y, t))))*(v(x, y)^2), u(x, y, t), v(x, y), f(x, y, t), f(x, y, t), 1, (x, y, t), Any[Differential(x), Differential(y), Differential(t)], Any[Differential(x) ∘ Differential(x), Differential(y) ∘ Differential(y), Differential(t) ∘ Differential(t)])"
      ]
     },
     "metadata": {},
     "output_type": "display_data"
    }
   ],
   "source": [
    "famousEquationType=\"2DacousticTime\"\n",
    "exprs,fields,vars,extexprs,extfields,extvars,coordinates,∂,∂²=famousEquations(famousEquationType)"
   ]
  },
  {
   "cell_type": "code",
   "execution_count": 10,
   "id": "7bedc499",
   "metadata": {},
   "outputs": [],
   "source": [
    "modelName=\"marmousi\"\n",
    "\n",
    "modelDefinitionMethod=\"2DimageFile\" # ToyModel or 2DimageFile (or 1DsphericalPlanet)\n",
    "model =nothing\n",
    "\n",
    "\n",
    "if modelDefinitionMethod !== nothing\n",
    "        \n",
    "    #region Model input - option i) Model domain definition\n",
    "\n",
    "    if modelDefinitionMethod === \"ToyModel\"\n",
    "        DomainWindow=(DomainWindowT=1.0,DomainWindowX=1.0,DomainWindowY=1.0,DomainWindowZ=1.0)\n",
    "        ModelSizeTXYZ=(ModelSizeT=101,ModelSizeX=101,ModelSizeY=101,ModelSizeZ=0)\n",
    "    end\n",
    "\n",
    "    #endregion\n",
    "\n",
    "    #region Model input - option ii) Read a file (2D or 3D) and define Δs\n",
    "\n",
    "    if modelDefinitionMethod === \"2DimageFile\"\n",
    "\n",
    "        #imagefile=\"../data/model/random/colourful.jpg\"\n",
    "        #imagefile=\"../data/model/artemis/IMG_6098.jpeg\"\n",
    "        #imagefile=\"../data/model/random/tmp.png\"\n",
    "        imagefile = \"../data/model/random/marmousi.png\"\n",
    "        colormap = \"jet\" #colormap can be RGB vector or predefined colormap\n",
    "\n",
    "        #model=read2DimageModel(imagefile,colormap;Nwidth=10,Nheight=10,showRecoveredImage=false)\n",
    "        model=read2DimageModel(imagefile,colormap;showRecoveredImage=false)\n",
    "    end\n",
    "    #endregion\n",
    "\n",
    "    #region Model input - option iii) Read a file (1D spherical planet models)\n",
    "\n",
    "    if modelDefinitionMethod ===\"1DsphericalPlanet\"\n",
    "        # use some programmes that are developed during Xmas 2023\n",
    "        # inputModels.jl\n",
    "    end\n",
    "\n",
    "#endregion\n",
    "end"
   ]
  },
  {
   "cell_type": "code",
   "execution_count": 11,
   "id": "2a2ab3be",
   "metadata": {},
   "outputs": [
    {
     "data": {
      "text/plain": [
       "(x, y, t)"
      ]
     },
     "metadata": {},
     "output_type": "display_data"
    }
   ],
   "source": [
    "coordinates"
   ]
  },
  {
   "cell_type": "code",
   "execution_count": 12,
   "id": "8cd30c3a",
   "metadata": {},
   "outputs": [
    {
     "data": {
      "text/plain": [
       "2"
      ]
     },
     "metadata": {},
     "output_type": "display_data"
    }
   ],
   "source": [
    "Δnum = (1.0,1.0,1.0) # this should be in the same order as coordinates \n",
    "\n",
    "\n",
    "\n",
    "IneedExternalSources = true\n",
    "maskedRegionForSourcesInSpace = nothing\n",
    "\n",
    "#DrWatson configurations\n",
    "\n",
    "orderBtime=1\n",
    "orderBspace=1\n",
    "pointsInSpace=2\n",
    "pointsInTime=2\n",
    "\n",
    "WorderBspace=1\n",
    "WorderBtime=1\n",
    "supplementaryOrder=2"
   ]
  },
  {
   "cell_type": "code",
   "execution_count": 13,
   "id": "98b5b8ba",
   "metadata": {},
   "outputs": [
    {
     "data": {
      "text/plain": [
       "1-element Vector{Any}:\n",
       " [0.4 0.4 … 0.4 0.4; 0.4 0.4 … 0.4 0.4; … ; 0.5138386099547898 0.5163891573813251 … 0.5501948972360029 0.5472638856339349; 0.5300777283024765 0.5308589172720881 … 0.5545259469249547 0.5545259469249547]"
      ]
     },
     "metadata": {},
     "output_type": "display_data"
    }
   ],
   "source": [
    "models=[] # you might need to make this empty tuple first, otherwise one-member tuple can be misinterpreted\n",
    "models=push!(models, (model .* 0.2 .+ 0.4))"
   ]
  },
  {
   "cell_type": "code",
   "execution_count": 14,
   "id": "7f90a668",
   "metadata": {},
   "outputs": [
    {
     "data": {
      "text/plain": [
       "0.6000000000000001"
      ]
     },
     "metadata": {},
     "output_type": "display_data"
    }
   ],
   "source": [
    "maximum(models[1])"
   ]
  },
  {
   "cell_type": "code",
   "execution_count": 15,
   "id": "6596fcab",
   "metadata": {},
   "outputs": [
    {
     "data": {
      "text/plain": [
       "(676, 802, 3)"
      ]
     },
     "metadata": {},
     "output_type": "display_data"
    }
   ],
   "source": [
    "fakeNt = 1\n",
    "timeMarching = any(a -> a === timeDimensionString, string.(coordinates)) \n",
    "if timeMarching\n",
    "    fakeNt = pointsInTime+1\n",
    "    modelPoints = (size(model)...,fakeNt) # Nx, Ny etc thing. Nt is also mentioned and it should be the last element!\n",
    "else\n",
    "    modelPoints = (size(model))\n",
    "end"
   ]
  },
  {
   "cell_type": "code",
   "execution_count": 16,
   "id": "884a4dc6",
   "metadata": {},
   "outputs": [
    {
     "data": {
      "text/plain": [
       "Dict{String, Any} with 16 entries:\n",
       "  \"IneedExternalSources\"          => true\n",
       "  \"models\"                        => Any[[0.4 0.4 … 0.4 0.4; 0.4 0.4 … 0.4 0.4;…\n",
       "  \"maskedRegionForSourcesInSpace\" => CartesianIndex[CartesianIndex(338, 401)]\n",
       "  \"iExperiment\"                   => 1\n",
       "  \"orderBtime\"                    => 1\n",
       "  \"Δnum\"                          => (1.0, 1.0, 1.0)\n",
       "  \"pointsInSpace\"                 => 2\n",
       "  \"WorderBspace\"                  => 1\n",
       "  \"pointsInTime\"                  => 2\n",
       "  \"WorderBtime\"                   => 1\n",
       "  \"supplementaryOrder\"            => 2\n",
       "  \"orderBspace\"                   => 1\n",
       "  \"modelPoints\"                   => (676, 802, 3)\n",
       "  \"forceModels\"                   => 1.0\n",
       "  \"modelName\"                     => \"marmousi\"\n",
       "  \"famousEquationType\"            => \"2DacousticTime\""
      ]
     },
     "metadata": {},
     "output_type": "display_data"
    }
   ],
   "source": [
    "maskedRegionForSourcesInSpace  = Array{CartesianIndex,1}(undef,0) # it is important to decalre the type of this\n",
    "maskedRegionForSourcesInSpace = push!(maskedRegionForSourcesInSpace, CartesianIndex(modelPoints[1:end-1].÷2))# in Ndimension (or Ndimension  - 1 if timeMarching)\n",
    "# in this example, I put a point source at the centre of the model space\n",
    "\n",
    "forceModels =((1.0)) # if your model does not have anything special material parameters then it's how it's written\n",
    "\n",
    "concreteModelParameters = @strdict famousEquationType Δnum orderBtime orderBspace WorderBtime WorderBspace supplementaryOrder pointsInSpace pointsInTime IneedExternalSources modelName models modelPoints forceModels maskedRegionForSourcesInSpace iExperiment"
   ]
  },
  {
   "cell_type": "code",
   "execution_count": null,
   "id": "0a8e6de0",
   "metadata": {},
   "outputs": [],
   "source": [
    "#safeget(A, inds...; default=0) = checkbounds(Bool, A, inds...) ? A[inds...] : default"
   ]
  },
  {
   "cell_type": "code",
   "execution_count": null,
   "id": "d4f145f6",
   "metadata": {},
   "outputs": [],
   "source": [
    "# we need to see what's happening inside makeCompleteCostFunctions"
   ]
  },
  {
   "cell_type": "code",
   "execution_count": 17,
   "id": "3ccec8ec",
   "metadata": {},
   "outputs": [
    {
     "data": {
      "text/plain": [
       "Dict{String, Any} with 11 entries:\n",
       "  \"IneedExternalSources\" => true\n",
       "  \"iExperiment\"          => 1\n",
       "  \"orderBtime\"           => 1\n",
       "  \"Δnum\"                 => (1.0, 1.0, 1.0)\n",
       "  \"pointsInSpace\"        => 2\n",
       "  \"WorderBspace\"         => 1\n",
       "  \"pointsInTime\"         => 2\n",
       "  \"WorderBtime\"          => 1\n",
       "  \"supplementaryOrder\"   => 2\n",
       "  \"orderBspace\"          => 1\n",
       "  \"famousEquationType\"   => \"2DacousticTime\""
      ]
     },
     "metadata": {},
     "output_type": "display_data"
    }
   ],
   "source": [
    "    @unpack famousEquationType, Δnum, orderBtime, orderBspace, WorderBtime,WorderBspace,supplementaryOrder,pointsInSpace, pointsInTime, IneedExternalSources, modelName, models, modelPoints, forceModels,maskedRegionForSourcesInSpace, iExperiment = concreteModelParameters\n",
    "    exprs,fields,vars,extexprs,extfields,extvars,coordinates,∂,∂² = famousEquations(famousEquationType)\n",
    "    global ∂,∂²\n",
    "    \n",
    "    # here we construct semi symbolic operators (with numerical Δnum)\n",
    "    operatorConfigurations = @strdict famousEquationType Δnum orderBtime orderBspace WorderBtime WorderBspace supplementaryOrder pointsInSpace pointsInTime IneedExternalSources iExperiment\n"
   ]
  },
  {
   "cell_type": "code",
   "execution_count": null,
   "id": "521d97bb",
   "metadata": {},
   "outputs": [],
   "source": [
    "#instead of doing below\n",
    "#operators = myProduceOrLoad(OPTobj,operatorConfigurations,\"semiSymbolics\")"
   ]
  },
  {
   "cell_type": "code",
   "execution_count": 18,
   "id": "bc933626",
   "metadata": {},
   "outputs": [
    {
     "data": {
      "text/plain": [
       "(orderBtime = 1, orderBspace = 1, pointsInSpace = 2, pointsInTime = 2)"
      ]
     },
     "metadata": {},
     "output_type": "display_data"
    }
   ],
   "source": [
    " @unpack famousEquationType, Δnum, orderBtime, orderBspace, WorderBtime,WorderBspace,supplementaryOrder,pointsInSpace, pointsInTime,IneedExternalSources, iExperiment= operatorConfigurations\n",
    "\n",
    "exprs,fields,vars,extexprs,extfields,extvars,coordinates,∂,∂² = famousEquations(famousEquationType)\n",
    "\n",
    "TaylorOptions=(WorderBtime=WorderBtime,WorderBspace=WorderBspace,supplementaryOrder=supplementaryOrder)\n",
    "trialFunctionsCharacteristics=(orderBtime=orderBtime,orderBspace=orderBspace,pointsInSpace=pointsInSpace,pointsInTime=pointsInTime)"
   ]
  },
  {
   "cell_type": "code",
   "execution_count": null,
   "id": "723712da",
   "metadata": {},
   "outputs": [],
   "source": [
    "# instead of doing below\n",
    "#@time operatorData=OPTobj(exprs,fields,vars; coordinates=coordinates,trialFunctionsCharacteristics=trialFunctionsCharacteristics,TaylorOptions=TaylorOptions,Δnum = Δnum,iExperiment=iExperiment)"
   ]
  },
  {
   "cell_type": "code",
   "execution_count": null,
   "id": "9612c45a",
   "metadata": {},
   "outputs": [],
   "source": [
    "# here is the internal contents of OPTobj"
   ]
  },
  {
   "cell_type": "code",
   "execution_count": 19,
   "id": "9e670dfe",
   "metadata": {},
   "outputs": [],
   "source": [
    "\n",
    "\n",
    "    timeMarching = any(a -> a === timeDimensionString, string.(coordinates))\n",
    "\n",
    "\n",
    "    @unpack orderBtime, orderBspace, pointsInSpace, pointsInTime = trialFunctionsCharacteristics\n",
    "    @unpack WorderBtime, WorderBspace,supplementaryOrder = TaylorOptions\n",
    "\n",
    "    NtypeofExpr=length(exprs)   # number of governing equations\n",
    "    NtypeofMaterialVariables=length(vars) # number of material coefficients\n",
    "    NtypeofFields=length(fields) # number of unknown fields\n",
    "    \n",
    "    Ndimension = length(coordinates) # we do not change this for the moment, especially for the time-marching scheme\n",
    "    pointsUsed = ones(Int, Ndimension).*(pointsInSpace+1)\n",
    "    if timeMarching\n",
    "        pointsUsed[end]=pointsInTime+1\n",
    "    end\n",
    "\n",
    "\n",
    "    if length(Δnum) !== Ndimension && !CˡηSymbolicInversion\n",
    "        @error \"the numerical delta increment has not the same dimension!\"\n",
    "    end"
   ]
  },
  {
   "cell_type": "code",
   "execution_count": 20,
   "id": "24c896e3",
   "metadata": {},
   "outputs": [
    {
     "data": {
      "text/plain": [
       "3-element Vector{Int64}:\n",
       " 1\n",
       " 1\n",
       " 0"
      ]
     },
     "metadata": {},
     "output_type": "display_data"
    }
   ],
   "source": [
    " #region investigation of all the fields and vars dependencies in terms of x-y-z-t\n",
    "\n",
    "    variableDependency=ones(Int,Ndimension)\n",
    "    fieldDependency=ones(Int,Ndimension)\n",
    "    eachVariableDependency=ones(Int,Ndimension,NtypeofMaterialVariables) \n",
    "    eachFieldDependency=ones(Int,Ndimension,NtypeofFields)\n",
    "  \n",
    "    for iFields in 1:NtypeofFields\n",
    "        eachFieldDependency[:,iFields]=findCartesianDependency(fields[iFields],Ndimension)\n",
    "        fieldDependency = fieldDependency .* (ones(Int,Ndimension).-eachFieldDependency[:,iFields])\n",
    "    end\n",
    "\n",
    "\n",
    "    for iVars in 1:NtypeofMaterialVariables\n",
    "        eachVariableDependency[:,iVars]=findCartesianDependency(vars[iVars],Ndimension)\n",
    "        variableDependency = variableDependency .* (ones(Int,Ndimension).-eachVariableDependency[:,iVars])\n",
    "    end\n",
    "\n",
    "    \n",
    "\n",
    "    fieldDependency = ones(Int,Ndimension).-fieldDependency\n",
    "    variableDependency = ones(Int,Ndimension).-variableDependency\n",
    "\n",
    "    # here we correct variableDependency with fieldDependency: if fieldDependency is zero then we do not take care of that dimension for the variables\n",
    "    variableDependency = variableDependency .* fieldDependency\n",
    "\n",
    "    #endregion"
   ]
  },
  {
   "cell_type": "code",
   "execution_count": 21,
   "id": "0d7f0267",
   "metadata": {},
   "outputs": [
    {
     "data": {
      "text/plain": [
       "3-element Vector{Int64}:\n",
       " 5\n",
       " 5\n",
       " 5"
      ]
     },
     "metadata": {},
     "output_type": "display_data"
    }
   ],
   "source": [
    "#region definition of points in time and space to be used\n",
    "\n",
    "    # heaviside(x) = x > 0 ? 1 : x == 0 ? 0 : -1\n",
    "\n",
    "    # the orders of B-spline functions, depending on fields \n",
    "\n",
    "    orderBspline=zeros(Int,Ndimension)\n",
    "    WorderBspline=zeros(Int,Ndimension)\n",
    "\n",
    "    if timeMarching\n",
    "        orderBspline[Ndimension]=orderBtime*fieldDependency[Ndimension]\n",
    "        orderBspline[1:Ndimension-1]=orderBspace*fieldDependency[1:Ndimension-1]\n",
    "        WorderBspline[Ndimension]=WorderBtime*fieldDependency[Ndimension]\n",
    "        WorderBspline[1:Ndimension-1]=WorderBspace*fieldDependency[1:Ndimension-1]\n",
    "    else\n",
    "        orderBspline[1:Ndimension]=orderBspace*fieldDependency[1:Ndimension]\n",
    "        WorderBspline[1:Ndimension]=WorderBspace*fieldDependency[1:Ndimension]\n",
    "    end\n",
    "    \n",
    "    # the maximum number of points used in the vicinity of the node, which is independent of the order of B-spline functions (see our paper)\n",
    "    pointsUsedForFields=(pointsUsed.-1).*fieldDependency.+1\n",
    "\n",
    "    # orderExpressions is the maximal orders of partials that we could expect in the expressions\n",
    "    orderExpressions=pointsUsedForFields\n",
    "    \n",
    "    # numbers of points to evaluate the integral for the governing equation filtered by the test functions\n",
    "    \n",
    "    # orderU is the maximum orders for the fields that we will use for OPT coefficients' exploration\n",
    "    orderU = (orderExpressions .-1) .+ (supplementaryOrder .*fieldDependency).+1 \n",
    "    # we restore this orderU since we need to control this \n",
    "\n",
    "    #endregion"
   ]
  },
  {
   "cell_type": "code",
   "execution_count": 22,
   "id": "9692ea9e",
   "metadata": {},
   "outputs": [
    {
     "name": "stdout",
     "output_type": "stream",
     "text": [
      "(bigα, varM) = (Any[Any[(node = -(v(x, y)^2), nᶜ = CartesianIndex(1, 1, 1), n = CartesianIndex(3, 1, 1)), (node = -(v(x, y)^2), nᶜ = CartesianIndex(1, 1, 1), n = CartesianIndex(1, 3, 1)), (node = 1, nᶜ = CartesianIndex(1, 1, 1), n = CartesianIndex(1, 1, 3))];;], Any[v₁ v₂ v₃ v₄ v₅ v₆ v₇ v₈ v₉ v₁ v₂ v₃ v₄ v₅ v₆ v₇ v₈ v₉ v₁ v₂ v₃ v₄ v₅ v₆ v₇ v₈ v₉])\n"
     ]
    },
    {
     "data": {
      "text/plain": [
       "1-element Vector{Int64}:\n",
       " 14"
      ]
     },
     "metadata": {},
     "output_type": "display_data"
    }
   ],
   "source": [
    "#region analysis of expressions to obtain the α_{n'nji}\n",
    "\n",
    "    bigα=Array{Any,2}(missing,NtypeofFields,NtypeofExpr)\n",
    "    varM=nothing\n",
    "    for iExpr in eachindex(exprs)\n",
    "        for iField in eachindex(fields)\n",
    "            \n",
    "            tmpNonZeroAlphas=PDECoefFinder(orderExpressions,coordinates,exprs[iExpr],fields[iField],vars) \n",
    "            # we assume that the pointsUsedForFields represent the highest order of partials\n",
    "            bigα[iField,iExpr]=unique(tmpNonZeroAlphas)\n",
    "        end\n",
    "    end\n",
    "    varM=varMmaker(pointsUsedForFields,coordinates,vars)\n",
    "    @show bigα,varM\n",
    "    #endregion\n",
    "\n",
    "    #region Preparation for Taylor expansion\n",
    "    \n",
    "    orderTaylors=Array{Any,Ndimension}(undef,Tuple(orderU))\n",
    "    pointsInSpaceTime=Array{Any,Ndimension}(undef,Tuple(pointsUsedForFields))\n",
    "    \n",
    "    \n",
    "    multiOrdersIndices=CartesianIndices(orderTaylors)\n",
    "\n",
    "    availablePointsConfigurations = Array{Array{Vector{Int64},Ndimension},1}()\n",
    "    centrePointConfigurations=Array{Int64,1}()\n",
    "\n",
    "    #endregion\n",
    "\n",
    "    #region Cartesian indices that can be available to use (normally: iGeometry=1)\n",
    "\n",
    "    multiPointsIndices=CartesianIndices(pointsInSpaceTime)\n",
    "    # this is the whole local Cartesian grids (without any lacking points)\n",
    "    \n",
    "    tmpVecForMiddlePoint = ((car2vec(multiPointsIndices[end]).-1 ).÷2 ).+1 # only valid for testOnlyCentre\n",
    "    midTimeCoord = nothing\n",
    "    if timeMarching\n",
    "        midTimeCoord=car2vec(multiPointsIndices[end])[end]-1\n",
    "        tmpVecForMiddlePoint[end]=midTimeCoord\n",
    "        #AjiννᶜU = Array{Num,2}(undef,length(multiPointsIndices)÷(midTimeCoord+1),NtypeofExpr)\n",
    "    end\n",
    "    #@show tmpVecForMiddlePoint \n",
    "    middleν=vec2car(tmpVecForMiddlePoint)\n",
    "\n",
    "\n",
    "    availablePointsConfigurations=push!(availablePointsConfigurations,car2vec.(multiPointsIndices))\n",
    "    centrePointConfigurations=push!(centrePointConfigurations,LinearIndices(multiPointsIndices)[middleν])\n",
    "\n",
    "    #endregion"
   ]
  },
  {
   "cell_type": "code",
   "execution_count": 23,
   "id": "df9f803d",
   "metadata": {},
   "outputs": [
    {
     "data": {
      "text/plain": [
       "false"
      ]
     },
     "metadata": {},
     "output_type": "display_data"
    }
   ],
   "source": [
    "CˡηSymbolicInversion=false"
   ]
  },
  {
   "cell_type": "code",
   "execution_count": 26,
   "id": "1122af9d",
   "metadata": {},
   "outputs": [
    {
     "name": "stdout",
     "output_type": "stream",
     "text": [
      "pointsIndices = availablePointsConfigurations[iConfigGeometry] = [[1, 1, 1] [1, 2, 1] [1, 3, 1]; [2, 1, 1] [2, 2, 1] [2, 3, 1]; [3, 1, 1] [3, 2, 1] [3, 3, 1];;; [1, 1, 2] [1, 2, 2] [1, 3, 2]; [2, 1, 2] [2, 2, 2] [2, 3, 2]; [3, 1, 2] [3, 2, 2] [3, 3, 2];;; [1, 1, 3] [1, 2, 3] [1, 3, 3]; [2, 1, 3] [2, 2, 3] [2, 3, 3]; [3, 1, 3] [3, 2, 3] [3, 3, 3]]\n",
      "middleLinearν = centrePointConfigurations[iConfigGeometry] = 14\n",
      "integral1DWYYKK[iCoord] = output[\"intKernelforνLΔ\"] = Any[0.08333333333333332870740406406184774823486804962158203125 0.08333333333333332870740406406184774823486804962158203125 0//1; 0.08333333333333332870740406406184774823486804962158203125 0.5000000000000002035408878479453657443324724833170572916666666666666666666667127 0.08333333333333333333333333333333333333333333333333333333333333333333333333333369; 0//1 0.08333333333333333333333333333333333333333333333333333333333333333333333333333369 0.08333333333333332870740406406184774823486804962158203125;;; -0.05000000000000159872115546022541821002960205078125 -0.033333333333334547177173590171150863170623779296875 0//1; -0.033333333333334547177173590171150863170623779296875 -1.154631945610162802040576934814453125000000000000000000000000663257745031253347e-15 0.033333333333333333333333333333333333333333333333333333333333333333333333333536; 0//1 0.033333333333333333333333333333333333333333333333333333333333333333333333333536 0.05000000000000000000000000000000000000000000000000000000000000000000000000016581;;; 0.0166666666666639429195129196159541606903076171875 0.008333333333333303727386009995825588703155517578125 0//1; 0.008333333333333303727386009995825588703155517578125 0.01666666666666441661467009301607807477315266927083333333333333333333333333414398 0.008333333333333333333333333333333333333333333333333333333333333333333333334143982; 0//1 0.008333333333333333333333333333333333333333333333333333333333333333333333334143982 0.0166666666666666666666666666666666666666666666666666666666666666666666666660771;;; -0.003968253968256026572210733623554309209187825520833333333333333333333333333333356 -0.001587301587304394227354957062440613905588785807291666666666666666666666666666661 0//1; -0.001587301587304394227354957062440613905588785807291666666666666666666666666666661 3.853002573080067079336870284307570684523809523809523809523810692406503150303496e-15 0.001587301587301587301587301587301587301587301587301587301587301587301587306216069; 0//1 0.001587301587301587301587301587301587301587301587301587301587301587301587306216069 0.003968253968253968253968253968253968253968253968253968253968253968253968253933161;;; 0.0007440476190444892760448662253717581431070963541666666666666666666666666666666695 0.0002480158730156685938557833045100172360738118489583333333333333333333333333333347 0//1; 0.0002480158730156685938557833045100172360738118489583333333333333333333333333333347 0.0002976190476183809565552131798107265716507321312313988095238095238095238088868715 0.0002480158730158730158730158730158730158730158730158730158730158730158730164695983; 0//1 0.0002480158730158730158730158730158730158730158730158730158730158730158730164695983 0.0007440476190476190476190476190476190476190476190476190476190476190476190479348818;;;; -0.05000000000000159872115546022541821002960205078125 -0.033333333333334547177173590171150863170623779296875 0//1; -0.033333333333334547177173590171150863170623779296875 -1.154631945610162802040576934814453125000000000000000000000000663257745031253347e-15 0.033333333333333333333333333333333333333333333333333333333333333333333333333536; 0//1 0.033333333333333333333333333333333333333333333333333333333333333333333333333536 0.05000000000000000000000000000000000000000000000000000000000000000000000000016581;;; 0.033333333333327885839025839231908321380615234375 0.01666666666666660745477201999165117740631103515625 0//1; 0.01666666666666660745477201999165117740631103515625 0.03333333333332883322934018603215614954630533854166666666666666666666666666828796 0.01666666666666666666666666666666666666666666666666666666666666666666666666828796; 0//1 0.01666666666666666666666666666666666666666666666666666666666666666666666666828796 0.03333333333333333333333333333333333333333333333333333333333333333333333333215421;;; -0.0119047619047680797166322008706629276275634765625 -0.004761904761913182682064871187321841716766357421875 0//1; -0.004761904761913182682064871187321841716766357421875 1.155900771924020123801061085292271205357142857142857142857143207721950945091055e-14 0.004761904761904761904761904761904761904761904761904761904761904761904761918648206; 0//1 0.004761904761904761904761904761904761904761904761904761904761904761904761918648206 0.01190476190476190476190476190476190476190476190476190476190476190476190476179948;;; 0.002976190476177957104179464901487032572428385416666666666666666666666666666666678 0.000992063492062674375423133218040068944295247395833333333333333333333333333333339 0//1; 0.000992063492062674375423133218040068944295247395833333333333333333333333333333339 0.001190476190473523826220852719242906286602928524925595238095238095238095235547486 0.0009920634920634920634920634920634920634920634920634920634920634920634920658783933; 0//1 0.0009920634920634920634920634920634920634920634920634920634920634920634920658783933 0.002976190476190476190476190476190476190476190476190476190476190476190476191739527;;; -0.0005787037037124539059126012337704499562581380208333333333333333333333333333333305 -0.0001653439153549799793078515601033965746561686197916666666666666666666666666666674 0//1; -0.0001653439153549799793078515601033965746561686197916666666666666666666666666666674 -1.208263354154224596824004221214819206762566137566137566137565810616332034858359e-14 0.000165343915343915343915343915343915343915343915343915343915343915343915357639633; 0//1 0.000165343915343915343915343915343915343915343915343915343915343915343915357639633 0.0005787037037037037037037037037037037037037037037037037037037037037037036923218705;;;; 0.0166666666666639429195129196159541606903076171875 0.008333333333333303727386009995825588703155517578125 0//1; 0.008333333333333303727386009995825588703155517578125 0.01666666666666441661467009301607807477315266927083333333333333333333333333414398 0.008333333333333333333333333333333333333333333333333333333333333333333333334143982; 0//1 0.008333333333333333333333333333333333333333333333333333333333333333333333334143982 0.0166666666666666666666666666666666666666666666666666666666666666666666666660771;;; -0.0119047619047680797166322008706629276275634765625 -0.004761904761913182682064871187321841716766357421875 0//1; -0.004761904761913182682064871187321841716766357421875 1.155900771924020123801061085292271205357142857142857142857143207721950945091055e-14 0.004761904761904761904761904761904761904761904761904761904761904761904761918648206; 0//1 0.004761904761904761904761904761904761904761904761904761904761904761904761918648206 0.01190476190476190476190476190476190476190476190476190476190476190476190476179948;;; 0.004464285714266935656269197352230548858642578125 0.00148809523809401156313469982706010341644287109375 0//1; 0.00148809523809401156313469982706010341644287109375 0.001785714285710285739331279078864359429904392787388392857142857142857142853321229 0.001488095238095238095238095238095238095238095238095238095238095238095238098817581; 0//1 0.001488095238095238095238095238095238095238095238095238095238095238095238098817581 0.004464285714285714285714285714285714285714285714285714285714285714285714287609308;;; -0.001157407407424907811825202467540899912516276041666666666666666666666666666666661 -0.0003306878307099599586157031202067931493123372395833333333333333333333333333333347 0//1; -0.0003306878307099599586157031202067931493123372395833333333333333333333333333333347 -2.416526708308449193648008442429638413525132275132275132275131621232664069716718e-14 0.0003306878306878306878306878306878306878306878306878306878306878306878307152792659; 0//1 0.0003306878306878306878306878306878306878306878306878306878306878306878307152792659 0.001157407407407407407407407407407407407407407407407407407407407407407407384643741;;; 0.0002314814815319958067145004558066527048746744791666666666666666666666666666666674 5.787037039528541981781017966568470001220703125e-05 0//1; 5.787037039528541981781017966568470001220703125e-05 4.960317459896491942662766040672385503375341021825396825396825396825395644868208e-05 5.787037037037037037037037037037037037037037037037037037037037037037037844410045e-05; 0//1 5.787037037037037037037037037037037037037037037037037037037037037037037844410045e-05 0.000231481481481481481481481481481481481481481481481481481481481481481481462189689;;;; -0.003968253968256026572210733623554309209187825520833333333333333333333333333333356 -0.001587301587304394227354957062440613905588785807291666666666666666666666666666661 0//1; -0.001587301587304394227354957062440613905588785807291666666666666666666666666666661 3.853002573080067079336870284307570684523809523809523809523810692406503150303496e-15 0.001587301587301587301587301587301587301587301587301587301587301587301587306216069; 0//1 0.001587301587301587301587301587301587301587301587301587301587301587301587306216069 0.003968253968253968253968253968253968253968253968253968253968253968253968253933161;;; 0.002976190476177957104179464901487032572428385416666666666666666666666666666666678 0.000992063492062674375423133218040068944295247395833333333333333333333333333333339 0//1; 0.000992063492062674375423133218040068944295247395833333333333333333333333333333339 0.001190476190473523826220852719242906286602928524925595238095238095238095235547486 0.0009920634920634920634920634920634920634920634920634920634920634920634920658783933; 0//1 0.0009920634920634920634920634920634920634920634920634920634920634920634920658783933 0.002976190476190476190476190476190476190476190476190476190476190476190476191739527;;; -0.001157407407424907811825202467540899912516276041666666666666666666666666666666661 -0.0003306878307099599586157031202067931493123372395833333333333333333333333333333347 0//1; -0.0003306878307099599586157031202067931493123372395833333333333333333333333333333347 -2.416526708308449193648008442429638413525132275132275132275131621232664069716718e-14 0.0003306878306878306878306878306878306878306878306878306878306878306878307152792659; 0//1 0.0003306878306878306878306878306878306878306878306878306878306878306878307152792659 0.001157407407407407407407407407407407407407407407407407407407407407407407384643741;;; 0.0003086419753759944089526672744088702731662326388888888888888888888888888888888884 7.716049386038055975708023955424626668294270833333333333333333333333333333333368e-05 0//1; 7.716049386038055975708023955424626668294270833333333333333333333333333333333368e-05 6.613756613195322590217021387563180671167121362433862433862433862433860859824347e-05 7.716049382716049382716049382716049382716049382716049382716049382716050459213358e-05; 0//1 7.716049382716049382716049382716049382716049382716049382716049382716050459213358e-05 0.0003086419753086419753086419753086419753086419753086419753086419753086419495862506;;; -6.313131314270334668334625247451994154188368055555555555555555555555555555555579e-05 -1.402918065767582649843663805060916476779513888888888888888888888888888888888895e-05 0//1; -1.402918065767582649843663805060916476779513888888888888888888888888888888888895e-05 -3.868031970292693537092369413536405723905723905723905723905727983828541390817416e-14 1.402918069584736251402918069584736251402918069584736251402918069584732320192628e-05; 0//1 1.402918069584736251402918069584736251402918069584736251402918069584732320192628e-05 6.313131313131313131313131313131313131313131313131313131313131313131311653833961e-05;;;; 0.0007440476190444892760448662253717581431070963541666666666666666666666666666666695 0.0002480158730156685938557833045100172360738118489583333333333333333333333333333347 0//1; 0.0002480158730156685938557833045100172360738118489583333333333333333333333333333347 0.0002976190476183809565552131798107265716507321312313988095238095238095238088868715 0.0002480158730158730158730158730158730158730158730158730158730158730158730164695983; 0//1 0.0002480158730158730158730158730158730158730158730158730158730158730158730164695983 0.0007440476190476190476190476190476190476190476190476190476190476190476190479348818;;; -0.0005787037037124539059126012337704499562581380208333333333333333333333333333333305 -0.0001653439153549799793078515601033965746561686197916666666666666666666666666666674 0//1; -0.0001653439153549799793078515601033965746561686197916666666666666666666666666666674 -1.208263354154224596824004221214819206762566137566137566137565810616332034858359e-14 0.000165343915343915343915343915343915343915343915343915343915343915343915357639633; 0//1 0.000165343915343915343915343915343915343915343915343915343915343915343915357639633 0.0005787037037037037037037037037037037037037037037037037037037037037037036923218705;;; 0.0002314814815319958067145004558066527048746744791666666666666666666666666666666674 5.787037039528541981781017966568470001220703125e-05 0//1; 5.787037039528541981781017966568470001220703125e-05 4.960317459896491942662766040672385503375341021825396825396825396825395644868208e-05 5.787037037037037037037037037037037037037037037037037037037037037037037844410045e-05; 0//1 5.787037037037037037037037037037037037037037037037037037037037037037037844410045e-05 0.000231481481481481481481481481481481481481481481481481481481481481481481462189689;;; -6.313131314270334668334625247451994154188368055555555555555555555555555555555579e-05 -1.402918065767582649843663805060916476779513888888888888888888888888888888888895e-05 0//1; -1.402918065767582649843663805060916476779513888888888888888888888888888888888895e-05 -3.868031970292693537092369413536405723905723905723905723905727983828541390817416e-14 1.402918069584736251402918069584736251402918069584736251402918069584732320192628e-05; 0//1 1.402918069584736251402918069584736251402918069584736251402918069584732320192628e-05 6.313131313131313131313131313131313131313131313131313131313131313131311653833961e-05;;; 1.315235689494345352714945976105001237657335069444444444444444444444444444444447e-05 2.630471346816894614069800203045209248860677083333333333333333333333333333333322e-06 0//1; 2.630471346816894614069800203045209248860677083333333333333333333333333333333322e-06 1.753647592773842261351100186107619576716396276129349046015712682379319813048471e-06 2.630471380471380471380471380471380471380471380471380471380471380471361063461352e-06; 0//1 2.630471380471380471380471380471380471380471380471380471380471380471361063461352e-06 1.315235690235690235690235690235690235690235690235690235690235690235688048651793e-05]\n",
      "modifiedμ[iCoord] = output[\"modμ\"] = Num[1 1 1; 3 3 3; 2.0 2.0 2.0;;; 1 1 1; 3 3 3; 2.0 2.0 2.0]\n",
      "integral1DWYYKK[iCoord] = output[\"intKernelforνLΔ\"] = Any[0.08333333333333332870740406406184774823486804962158203125 0.08333333333333332870740406406184774823486804962158203125 0//1; 0.08333333333333332870740406406184774823486804962158203125 0.5000000000000002035408878479453657443324724833170572916666666666666666666667127 0.08333333333333333333333333333333333333333333333333333333333333333333333333333369; 0//1 0.08333333333333333333333333333333333333333333333333333333333333333333333333333369 0.08333333333333332870740406406184774823486804962158203125;;; -0.05000000000000159872115546022541821002960205078125 -0.033333333333334547177173590171150863170623779296875 0//1; -0.033333333333334547177173590171150863170623779296875 -1.154631945610162802040576934814453125000000000000000000000000663257745031253347e-15 0.033333333333333333333333333333333333333333333333333333333333333333333333333536; 0//1 0.033333333333333333333333333333333333333333333333333333333333333333333333333536 0.05000000000000000000000000000000000000000000000000000000000000000000000000016581;;; 0.0166666666666639429195129196159541606903076171875 0.008333333333333303727386009995825588703155517578125 0//1; 0.008333333333333303727386009995825588703155517578125 0.01666666666666441661467009301607807477315266927083333333333333333333333333414398 0.008333333333333333333333333333333333333333333333333333333333333333333333334143982; 0//1 0.008333333333333333333333333333333333333333333333333333333333333333333333334143982 0.0166666666666666666666666666666666666666666666666666666666666666666666666660771;;; -0.003968253968256026572210733623554309209187825520833333333333333333333333333333356 -0.001587301587304394227354957062440613905588785807291666666666666666666666666666661 0//1; -0.001587301587304394227354957062440613905588785807291666666666666666666666666666661 3.853002573080067079336870284307570684523809523809523809523810692406503150303496e-15 0.001587301587301587301587301587301587301587301587301587301587301587301587306216069; 0//1 0.001587301587301587301587301587301587301587301587301587301587301587301587306216069 0.003968253968253968253968253968253968253968253968253968253968253968253968253933161;;; 0.0007440476190444892760448662253717581431070963541666666666666666666666666666666695 0.0002480158730156685938557833045100172360738118489583333333333333333333333333333347 0//1; 0.0002480158730156685938557833045100172360738118489583333333333333333333333333333347 0.0002976190476183809565552131798107265716507321312313988095238095238095238088868715 0.0002480158730158730158730158730158730158730158730158730158730158730158730164695983; 0//1 0.0002480158730158730158730158730158730158730158730158730158730158730158730164695983 0.0007440476190476190476190476190476190476190476190476190476190476190476190479348818;;;; -0.05000000000000159872115546022541821002960205078125 -0.033333333333334547177173590171150863170623779296875 0//1; -0.033333333333334547177173590171150863170623779296875 -1.154631945610162802040576934814453125000000000000000000000000663257745031253347e-15 0.033333333333333333333333333333333333333333333333333333333333333333333333333536; 0//1 0.033333333333333333333333333333333333333333333333333333333333333333333333333536 0.05000000000000000000000000000000000000000000000000000000000000000000000000016581;;; 0.033333333333327885839025839231908321380615234375 0.01666666666666660745477201999165117740631103515625 0//1; 0.01666666666666660745477201999165117740631103515625 0.03333333333332883322934018603215614954630533854166666666666666666666666666828796 0.01666666666666666666666666666666666666666666666666666666666666666666666666828796; 0//1 0.01666666666666666666666666666666666666666666666666666666666666666666666666828796 0.03333333333333333333333333333333333333333333333333333333333333333333333333215421;;; -0.0119047619047680797166322008706629276275634765625 -0.004761904761913182682064871187321841716766357421875 0//1; -0.004761904761913182682064871187321841716766357421875 1.155900771924020123801061085292271205357142857142857142857143207721950945091055e-14 0.004761904761904761904761904761904761904761904761904761904761904761904761918648206; 0//1 0.004761904761904761904761904761904761904761904761904761904761904761904761918648206 0.01190476190476190476190476190476190476190476190476190476190476190476190476179948;;; 0.002976190476177957104179464901487032572428385416666666666666666666666666666666678 0.000992063492062674375423133218040068944295247395833333333333333333333333333333339 0//1; 0.000992063492062674375423133218040068944295247395833333333333333333333333333333339 0.001190476190473523826220852719242906286602928524925595238095238095238095235547486 0.0009920634920634920634920634920634920634920634920634920634920634920634920658783933; 0//1 0.0009920634920634920634920634920634920634920634920634920634920634920634920658783933 0.002976190476190476190476190476190476190476190476190476190476190476190476191739527;;; -0.0005787037037124539059126012337704499562581380208333333333333333333333333333333305 -0.0001653439153549799793078515601033965746561686197916666666666666666666666666666674 0//1; -0.0001653439153549799793078515601033965746561686197916666666666666666666666666666674 -1.208263354154224596824004221214819206762566137566137566137565810616332034858359e-14 0.000165343915343915343915343915343915343915343915343915343915343915343915357639633; 0//1 0.000165343915343915343915343915343915343915343915343915343915343915343915357639633 0.0005787037037037037037037037037037037037037037037037037037037037037037036923218705;;;; 0.0166666666666639429195129196159541606903076171875 0.008333333333333303727386009995825588703155517578125 0//1; 0.008333333333333303727386009995825588703155517578125 0.01666666666666441661467009301607807477315266927083333333333333333333333333414398 0.008333333333333333333333333333333333333333333333333333333333333333333333334143982; 0//1 0.008333333333333333333333333333333333333333333333333333333333333333333333334143982 0.0166666666666666666666666666666666666666666666666666666666666666666666666660771;;; -0.0119047619047680797166322008706629276275634765625 -0.004761904761913182682064871187321841716766357421875 0//1; -0.004761904761913182682064871187321841716766357421875 1.155900771924020123801061085292271205357142857142857142857143207721950945091055e-14 0.004761904761904761904761904761904761904761904761904761904761904761904761918648206; 0//1 0.004761904761904761904761904761904761904761904761904761904761904761904761918648206 0.01190476190476190476190476190476190476190476190476190476190476190476190476179948;;; 0.004464285714266935656269197352230548858642578125 0.00148809523809401156313469982706010341644287109375 0//1; 0.00148809523809401156313469982706010341644287109375 0.001785714285710285739331279078864359429904392787388392857142857142857142853321229 0.001488095238095238095238095238095238095238095238095238095238095238095238098817581; 0//1 0.001488095238095238095238095238095238095238095238095238095238095238095238098817581 0.004464285714285714285714285714285714285714285714285714285714285714285714287609308;;; -0.001157407407424907811825202467540899912516276041666666666666666666666666666666661 -0.0003306878307099599586157031202067931493123372395833333333333333333333333333333347 0//1; -0.0003306878307099599586157031202067931493123372395833333333333333333333333333333347 -2.416526708308449193648008442429638413525132275132275132275131621232664069716718e-14 0.0003306878306878306878306878306878306878306878306878306878306878306878307152792659; 0//1 0.0003306878306878306878306878306878306878306878306878306878306878306878307152792659 0.001157407407407407407407407407407407407407407407407407407407407407407407384643741;;; 0.0002314814815319958067145004558066527048746744791666666666666666666666666666666674 5.787037039528541981781017966568470001220703125e-05 0//1; 5.787037039528541981781017966568470001220703125e-05 4.960317459896491942662766040672385503375341021825396825396825396825395644868208e-05 5.787037037037037037037037037037037037037037037037037037037037037037037844410045e-05; 0//1 5.787037037037037037037037037037037037037037037037037037037037037037037844410045e-05 0.000231481481481481481481481481481481481481481481481481481481481481481481462189689;;;; -0.003968253968256026572210733623554309209187825520833333333333333333333333333333356 -0.001587301587304394227354957062440613905588785807291666666666666666666666666666661 0//1; -0.001587301587304394227354957062440613905588785807291666666666666666666666666666661 3.853002573080067079336870284307570684523809523809523809523810692406503150303496e-15 0.001587301587301587301587301587301587301587301587301587301587301587301587306216069; 0//1 0.001587301587301587301587301587301587301587301587301587301587301587301587306216069 0.003968253968253968253968253968253968253968253968253968253968253968253968253933161;;; 0.002976190476177957104179464901487032572428385416666666666666666666666666666666678 0.000992063492062674375423133218040068944295247395833333333333333333333333333333339 0//1; 0.000992063492062674375423133218040068944295247395833333333333333333333333333333339 0.001190476190473523826220852719242906286602928524925595238095238095238095235547486 0.0009920634920634920634920634920634920634920634920634920634920634920634920658783933; 0//1 0.0009920634920634920634920634920634920634920634920634920634920634920634920658783933 0.002976190476190476190476190476190476190476190476190476190476190476190476191739527;;; -0.001157407407424907811825202467540899912516276041666666666666666666666666666666661 -0.0003306878307099599586157031202067931493123372395833333333333333333333333333333347 0//1; -0.0003306878307099599586157031202067931493123372395833333333333333333333333333333347 -2.416526708308449193648008442429638413525132275132275132275131621232664069716718e-14 0.0003306878306878306878306878306878306878306878306878306878306878306878307152792659; 0//1 0.0003306878306878306878306878306878306878306878306878306878306878306878307152792659 0.001157407407407407407407407407407407407407407407407407407407407407407407384643741;;; 0.0003086419753759944089526672744088702731662326388888888888888888888888888888888884 7.716049386038055975708023955424626668294270833333333333333333333333333333333368e-05 0//1; 7.716049386038055975708023955424626668294270833333333333333333333333333333333368e-05 6.613756613195322590217021387563180671167121362433862433862433862433860859824347e-05 7.716049382716049382716049382716049382716049382716049382716049382716050459213358e-05; 0//1 7.716049382716049382716049382716049382716049382716049382716049382716050459213358e-05 0.0003086419753086419753086419753086419753086419753086419753086419753086419495862506;;; -6.313131314270334668334625247451994154188368055555555555555555555555555555555579e-05 -1.402918065767582649843663805060916476779513888888888888888888888888888888888895e-05 0//1; -1.402918065767582649843663805060916476779513888888888888888888888888888888888895e-05 -3.868031970292693537092369413536405723905723905723905723905727983828541390817416e-14 1.402918069584736251402918069584736251402918069584736251402918069584732320192628e-05; 0//1 1.402918069584736251402918069584736251402918069584736251402918069584732320192628e-05 6.313131313131313131313131313131313131313131313131313131313131313131311653833961e-05;;;; 0.0007440476190444892760448662253717581431070963541666666666666666666666666666666695 0.0002480158730156685938557833045100172360738118489583333333333333333333333333333347 0//1; 0.0002480158730156685938557833045100172360738118489583333333333333333333333333333347 0.0002976190476183809565552131798107265716507321312313988095238095238095238088868715 0.0002480158730158730158730158730158730158730158730158730158730158730158730164695983; 0//1 0.0002480158730158730158730158730158730158730158730158730158730158730158730164695983 0.0007440476190476190476190476190476190476190476190476190476190476190476190479348818;;; -0.0005787037037124539059126012337704499562581380208333333333333333333333333333333305 -0.0001653439153549799793078515601033965746561686197916666666666666666666666666666674 0//1; -0.0001653439153549799793078515601033965746561686197916666666666666666666666666666674 -1.208263354154224596824004221214819206762566137566137566137565810616332034858359e-14 0.000165343915343915343915343915343915343915343915343915343915343915343915357639633; 0//1 0.000165343915343915343915343915343915343915343915343915343915343915343915357639633 0.0005787037037037037037037037037037037037037037037037037037037037037037036923218705;;; 0.0002314814815319958067145004558066527048746744791666666666666666666666666666666674 5.787037039528541981781017966568470001220703125e-05 0//1; 5.787037039528541981781017966568470001220703125e-05 4.960317459896491942662766040672385503375341021825396825396825396825395644868208e-05 5.787037037037037037037037037037037037037037037037037037037037037037037844410045e-05; 0//1 5.787037037037037037037037037037037037037037037037037037037037037037037844410045e-05 0.000231481481481481481481481481481481481481481481481481481481481481481481462189689;;; -6.313131314270334668334625247451994154188368055555555555555555555555555555555579e-05 -1.402918065767582649843663805060916476779513888888888888888888888888888888888895e-05 0//1; -1.402918065767582649843663805060916476779513888888888888888888888888888888888895e-05 -3.868031970292693537092369413536405723905723905723905723905727983828541390817416e-14 1.402918069584736251402918069584736251402918069584736251402918069584732320192628e-05; 0//1 1.402918069584736251402918069584736251402918069584736251402918069584732320192628e-05 6.313131313131313131313131313131313131313131313131313131313131313131311653833961e-05;;; 1.315235689494345352714945976105001237657335069444444444444444444444444444444447e-05 2.630471346816894614069800203045209248860677083333333333333333333333333333333322e-06 0//1; 2.630471346816894614069800203045209248860677083333333333333333333333333333333322e-06 1.753647592773842261351100186107619576716396276129349046015712682379319813048471e-06 2.630471380471380471380471380471380471380471380471380471380471380471361063461352e-06; 0//1 2.630471380471380471380471380471380471380471380471380471380471380471361063461352e-06 1.315235690235690235690235690235690235690235690235690235690235690235688048651793e-05]\n",
      "modifiedμ[iCoord] = output[\"modμ\"] = Num[1 1 1; 3 3 3; 2.0 2.0 2.0;;; 1 1 1; 3 3 3; 2.0 2.0 2.0]\n",
      "integral1DWYYKK[iCoord] = output[\"intKernelforνLΔ\"] = Any[0.08333333333333332870740406406184774823486804962158203125 0.08333333333333332870740406406184774823486804962158203125 0//1; 0.08333333333333332870740406406184774823486804962158203125 0.5000000000000002035408878479453657443324724833170572916666666666666666666667127 0.08333333333333333333333333333333333333333333333333333333333333333333333333333369; 0//1 0.08333333333333333333333333333333333333333333333333333333333333333333333333333369 0.08333333333333332870740406406184774823486804962158203125;;; -0.05000000000000159872115546022541821002960205078125 -0.033333333333334547177173590171150863170623779296875 0//1; -0.033333333333334547177173590171150863170623779296875 -1.154631945610162802040576934814453125000000000000000000000000663257745031253347e-15 0.033333333333333333333333333333333333333333333333333333333333333333333333333536; 0//1 0.033333333333333333333333333333333333333333333333333333333333333333333333333536 0.05000000000000000000000000000000000000000000000000000000000000000000000000016581;;; 0.0166666666666639429195129196159541606903076171875 0.008333333333333303727386009995825588703155517578125 0//1; 0.008333333333333303727386009995825588703155517578125 0.01666666666666441661467009301607807477315266927083333333333333333333333333414398 0.008333333333333333333333333333333333333333333333333333333333333333333333334143982; 0//1 0.008333333333333333333333333333333333333333333333333333333333333333333333334143982 0.0166666666666666666666666666666666666666666666666666666666666666666666666660771;;; -0.003968253968256026572210733623554309209187825520833333333333333333333333333333356 -0.001587301587304394227354957062440613905588785807291666666666666666666666666666661 0//1; -0.001587301587304394227354957062440613905588785807291666666666666666666666666666661 3.853002573080067079336870284307570684523809523809523809523810692406503150303496e-15 0.001587301587301587301587301587301587301587301587301587301587301587301587306216069; 0//1 0.001587301587301587301587301587301587301587301587301587301587301587301587306216069 0.003968253968253968253968253968253968253968253968253968253968253968253968253933161;;; 0.0007440476190444892760448662253717581431070963541666666666666666666666666666666695 0.0002480158730156685938557833045100172360738118489583333333333333333333333333333347 0//1; 0.0002480158730156685938557833045100172360738118489583333333333333333333333333333347 0.0002976190476183809565552131798107265716507321312313988095238095238095238088868715 0.0002480158730158730158730158730158730158730158730158730158730158730158730164695983; 0//1 0.0002480158730158730158730158730158730158730158730158730158730158730158730164695983 0.0007440476190476190476190476190476190476190476190476190476190476190476190479348818;;;; -0.05000000000000159872115546022541821002960205078125 -0.033333333333334547177173590171150863170623779296875 0//1; -0.033333333333334547177173590171150863170623779296875 -1.154631945610162802040576934814453125000000000000000000000000663257745031253347e-15 0.033333333333333333333333333333333333333333333333333333333333333333333333333536; 0//1 0.033333333333333333333333333333333333333333333333333333333333333333333333333536 0.05000000000000000000000000000000000000000000000000000000000000000000000000016581;;; 0.033333333333327885839025839231908321380615234375 0.01666666666666660745477201999165117740631103515625 0//1; 0.01666666666666660745477201999165117740631103515625 0.03333333333332883322934018603215614954630533854166666666666666666666666666828796 0.01666666666666666666666666666666666666666666666666666666666666666666666666828796; 0//1 0.01666666666666666666666666666666666666666666666666666666666666666666666666828796 0.03333333333333333333333333333333333333333333333333333333333333333333333333215421;;; -0.0119047619047680797166322008706629276275634765625 -0.004761904761913182682064871187321841716766357421875 0//1; -0.004761904761913182682064871187321841716766357421875 1.155900771924020123801061085292271205357142857142857142857143207721950945091055e-14 0.004761904761904761904761904761904761904761904761904761904761904761904761918648206; 0//1 0.004761904761904761904761904761904761904761904761904761904761904761904761918648206 0.01190476190476190476190476190476190476190476190476190476190476190476190476179948;;; 0.002976190476177957104179464901487032572428385416666666666666666666666666666666678 0.000992063492062674375423133218040068944295247395833333333333333333333333333333339 0//1; 0.000992063492062674375423133218040068944295247395833333333333333333333333333333339 0.001190476190473523826220852719242906286602928524925595238095238095238095235547486 0.0009920634920634920634920634920634920634920634920634920634920634920634920658783933; 0//1 0.0009920634920634920634920634920634920634920634920634920634920634920634920658783933 0.002976190476190476190476190476190476190476190476190476190476190476190476191739527;;; -0.0005787037037124539059126012337704499562581380208333333333333333333333333333333305 -0.0001653439153549799793078515601033965746561686197916666666666666666666666666666674 0//1; -0.0001653439153549799793078515601033965746561686197916666666666666666666666666666674 -1.208263354154224596824004221214819206762566137566137566137565810616332034858359e-14 0.000165343915343915343915343915343915343915343915343915343915343915343915357639633; 0//1 0.000165343915343915343915343915343915343915343915343915343915343915343915357639633 0.0005787037037037037037037037037037037037037037037037037037037037037037036923218705;;;; 0.0166666666666639429195129196159541606903076171875 0.008333333333333303727386009995825588703155517578125 0//1; 0.008333333333333303727386009995825588703155517578125 0.01666666666666441661467009301607807477315266927083333333333333333333333333414398 0.008333333333333333333333333333333333333333333333333333333333333333333333334143982; 0//1 0.008333333333333333333333333333333333333333333333333333333333333333333333334143982 0.0166666666666666666666666666666666666666666666666666666666666666666666666660771;;; -0.0119047619047680797166322008706629276275634765625 -0.004761904761913182682064871187321841716766357421875 0//1; -0.004761904761913182682064871187321841716766357421875 1.155900771924020123801061085292271205357142857142857142857143207721950945091055e-14 0.004761904761904761904761904761904761904761904761904761904761904761904761918648206; 0//1 0.004761904761904761904761904761904761904761904761904761904761904761904761918648206 0.01190476190476190476190476190476190476190476190476190476190476190476190476179948;;; 0.004464285714266935656269197352230548858642578125 0.00148809523809401156313469982706010341644287109375 0//1; 0.00148809523809401156313469982706010341644287109375 0.001785714285710285739331279078864359429904392787388392857142857142857142853321229 0.001488095238095238095238095238095238095238095238095238095238095238095238098817581; 0//1 0.001488095238095238095238095238095238095238095238095238095238095238095238098817581 0.004464285714285714285714285714285714285714285714285714285714285714285714287609308;;; -0.001157407407424907811825202467540899912516276041666666666666666666666666666666661 -0.0003306878307099599586157031202067931493123372395833333333333333333333333333333347 0//1; -0.0003306878307099599586157031202067931493123372395833333333333333333333333333333347 -2.416526708308449193648008442429638413525132275132275132275131621232664069716718e-14 0.0003306878306878306878306878306878306878306878306878306878306878306878307152792659; 0//1 0.0003306878306878306878306878306878306878306878306878306878306878306878307152792659 0.001157407407407407407407407407407407407407407407407407407407407407407407384643741;;; 0.0002314814815319958067145004558066527048746744791666666666666666666666666666666674 5.787037039528541981781017966568470001220703125e-05 0//1; 5.787037039528541981781017966568470001220703125e-05 4.960317459896491942662766040672385503375341021825396825396825396825395644868208e-05 5.787037037037037037037037037037037037037037037037037037037037037037037844410045e-05; 0//1 5.787037037037037037037037037037037037037037037037037037037037037037037844410045e-05 0.000231481481481481481481481481481481481481481481481481481481481481481481462189689;;;; -0.003968253968256026572210733623554309209187825520833333333333333333333333333333356 -0.001587301587304394227354957062440613905588785807291666666666666666666666666666661 0//1; -0.001587301587304394227354957062440613905588785807291666666666666666666666666666661 3.853002573080067079336870284307570684523809523809523809523810692406503150303496e-15 0.001587301587301587301587301587301587301587301587301587301587301587301587306216069; 0//1 0.001587301587301587301587301587301587301587301587301587301587301587301587306216069 0.003968253968253968253968253968253968253968253968253968253968253968253968253933161;;; 0.002976190476177957104179464901487032572428385416666666666666666666666666666666678 0.000992063492062674375423133218040068944295247395833333333333333333333333333333339 0//1; 0.000992063492062674375423133218040068944295247395833333333333333333333333333333339 0.001190476190473523826220852719242906286602928524925595238095238095238095235547486 0.0009920634920634920634920634920634920634920634920634920634920634920634920658783933; 0//1 0.0009920634920634920634920634920634920634920634920634920634920634920634920658783933 0.002976190476190476190476190476190476190476190476190476190476190476190476191739527;;; -0.001157407407424907811825202467540899912516276041666666666666666666666666666666661 -0.0003306878307099599586157031202067931493123372395833333333333333333333333333333347 0//1; -0.0003306878307099599586157031202067931493123372395833333333333333333333333333333347 -2.416526708308449193648008442429638413525132275132275132275131621232664069716718e-14 0.0003306878306878306878306878306878306878306878306878306878306878306878307152792659; 0//1 0.0003306878306878306878306878306878306878306878306878306878306878306878307152792659 0.001157407407407407407407407407407407407407407407407407407407407407407407384643741;;; 0.0003086419753759944089526672744088702731662326388888888888888888888888888888888884 7.716049386038055975708023955424626668294270833333333333333333333333333333333368e-05 0//1; 7.716049386038055975708023955424626668294270833333333333333333333333333333333368e-05 6.613756613195322590217021387563180671167121362433862433862433862433860859824347e-05 7.716049382716049382716049382716049382716049382716049382716049382716050459213358e-05; 0//1 7.716049382716049382716049382716049382716049382716049382716049382716050459213358e-05 0.0003086419753086419753086419753086419753086419753086419753086419753086419495862506;;; -6.313131314270334668334625247451994154188368055555555555555555555555555555555579e-05 -1.402918065767582649843663805060916476779513888888888888888888888888888888888895e-05 0//1; -1.402918065767582649843663805060916476779513888888888888888888888888888888888895e-05 -3.868031970292693537092369413536405723905723905723905723905727983828541390817416e-14 1.402918069584736251402918069584736251402918069584736251402918069584732320192628e-05; 0//1 1.402918069584736251402918069584736251402918069584736251402918069584732320192628e-05 6.313131313131313131313131313131313131313131313131313131313131313131311653833961e-05;;;; 0.0007440476190444892760448662253717581431070963541666666666666666666666666666666695 0.0002480158730156685938557833045100172360738118489583333333333333333333333333333347 0//1; 0.0002480158730156685938557833045100172360738118489583333333333333333333333333333347 0.0002976190476183809565552131798107265716507321312313988095238095238095238088868715 0.0002480158730158730158730158730158730158730158730158730158730158730158730164695983; 0//1 0.0002480158730158730158730158730158730158730158730158730158730158730158730164695983 0.0007440476190476190476190476190476190476190476190476190476190476190476190479348818;;; -0.0005787037037124539059126012337704499562581380208333333333333333333333333333333305 -0.0001653439153549799793078515601033965746561686197916666666666666666666666666666674 0//1; -0.0001653439153549799793078515601033965746561686197916666666666666666666666666666674 -1.208263354154224596824004221214819206762566137566137566137565810616332034858359e-14 0.000165343915343915343915343915343915343915343915343915343915343915343915357639633; 0//1 0.000165343915343915343915343915343915343915343915343915343915343915343915357639633 0.0005787037037037037037037037037037037037037037037037037037037037037037036923218705;;; 0.0002314814815319958067145004558066527048746744791666666666666666666666666666666674 5.787037039528541981781017966568470001220703125e-05 0//1; 5.787037039528541981781017966568470001220703125e-05 4.960317459896491942662766040672385503375341021825396825396825396825395644868208e-05 5.787037037037037037037037037037037037037037037037037037037037037037037844410045e-05; 0//1 5.787037037037037037037037037037037037037037037037037037037037037037037844410045e-05 0.000231481481481481481481481481481481481481481481481481481481481481481481462189689;;; -6.313131314270334668334625247451994154188368055555555555555555555555555555555579e-05 -1.402918065767582649843663805060916476779513888888888888888888888888888888888895e-05 0//1; -1.402918065767582649843663805060916476779513888888888888888888888888888888888895e-05 -3.868031970292693537092369413536405723905723905723905723905727983828541390817416e-14 1.402918069584736251402918069584736251402918069584736251402918069584732320192628e-05; 0//1 1.402918069584736251402918069584736251402918069584736251402918069584732320192628e-05 6.313131313131313131313131313131313131313131313131313131313131313131311653833961e-05;;; 1.315235689494345352714945976105001237657335069444444444444444444444444444444447e-05 2.630471346816894614069800203045209248860677083333333333333333333333333333333322e-06 0//1; 2.630471346816894614069800203045209248860677083333333333333333333333333333333322e-06 1.753647592773842261351100186107619576716396276129349046015712682379319813048471e-06 2.630471380471380471380471380471380471380471380471380471380471380471361063461352e-06; 0//1 2.630471380471380471380471380471380471380471380471380471380471380471361063461352e-06 1.315235690235690235690235690235690235690235690235690235690235690235688048651793e-05]\n",
      "modifiedμ[iCoord] = output[\"modμ\"] = Num[1 1 1; 3 3 3; 2.0 2.0 2.0;;; 1 1 1; 3 3 3; 2.0 2.0 2.0]\n",
      "(typeof(integral1DWYYKK[1]), typeof(modifiedμ[1])) = (Array{Any, 4}, Array{Num, 3})\n"
     ]
    }
   ],
   "source": [
    " #region obtaining the semi-symbolic expression of cost function based on eqns. 52 and 53.\n",
    "\n",
    "    # before calling AuSymbolic we can manipulate pointsIndices for various boundary configurations\n",
    "\n",
    "\n",
    "    if CˡηSymbolicInversion # this seems super cool but it takes time\n",
    "        #Cˡη,Δ,multiLCar = illposedTaylorCoefficientsInversion(coordinates,multiOrdersIndices,multiPointsIndices;testOnlyCentre=testOnlyCentre,timeMarching=timeMarching)\n",
    "        Δ = Symbolics.variables(:Δ,1:Ndimension)\n",
    "    else\n",
    "        Δ = Δnum\n",
    "    end\n",
    "\n",
    "    AjiννᶜU=[]\n",
    "    Ulocal=[]\n",
    "\n",
    "    for iConfigGeometry in eachindex(availablePointsConfigurations) \n",
    "        @show pointsIndices=availablePointsConfigurations[iConfigGeometry]\n",
    "        @show middleLinearν=centrePointConfigurations[iConfigGeometry]\n",
    "        tmpAjiννᶜU,tmpUlocal=ASymbolic(coordinates,multiOrdersIndices,pointsIndices,multiPointsIndices,middleLinearν,Δ,varM,bigα,orderBspline,WorderBspline,NtypeofExpr,NtypeofFields)\n",
    "\n",
    "\n",
    "\n",
    "        #varM is given above for the max number of points used \n",
    "        #tmpAjiννᶜU,tmpUlocal=AuSymbolic(coordinates,multiOrdersIndices,pointsIndices,multiPointsIndices,middleLinearν,Δ,varM,bigα,orderBspline,WorderBspline,NtypeofExpr,NtypeofFields)\n",
    "        AjiννᶜU=push!(AjiννᶜU,tmpAjiννᶜU)\n",
    "        Ulocal=push!(Ulocal,tmpUlocal)\n",
    "    end\n",
    "\n",
    "\n",
    "    #endregion\n"
   ]
  },
  {
   "cell_type": "code",
   "execution_count": null,
   "id": "efaa915f",
   "metadata": {},
   "outputs": [],
   "source": [
    "typeof(AjiννᶜU)"
   ]
  },
  {
   "cell_type": "code",
   "execution_count": null,
   "id": "82221aca",
   "metadata": {},
   "outputs": [],
   "source": []
  },
  {
   "cell_type": "code",
   "execution_count": null,
   "id": "fd2555da",
   "metadata": {},
   "outputs": [],
   "source": []
  },
  {
   "cell_type": "code",
   "execution_count": null,
   "id": "87bfd3cb",
   "metadata": {},
   "outputs": [],
   "source": []
  },
  {
   "cell_type": "code",
   "execution_count": null,
   "id": "2094e67a",
   "metadata": {},
   "outputs": [],
   "source": [
    "@profilehtml opt = myProduceOrLoad(makeCompleteCostFunctions,concreteModelParameters,\"numOperators\",\"quasiNum\")\n"
   ]
  },
  {
   "cell_type": "code",
   "execution_count": null,
   "id": "b607b0e4",
   "metadata": {},
   "outputs": [],
   "source": [
    "statprofilehtml()"
   ]
  },
  {
   "cell_type": "code",
   "execution_count": null,
   "id": "36896bb6",
   "metadata": {},
   "outputs": [],
   "source": [
    "using InteractiveUtils\n",
    "run(`open /Users/nobuaki/Documents/Github/flexibleDSM/OPTmotors/myOwnApplications/statprof/index.html`)  "
   ]
  },
  {
   "cell_type": "code",
   "execution_count": null,
   "id": "9182caf9",
   "metadata": {},
   "outputs": [],
   "source": []
  },
  {
   "cell_type": "code",
   "execution_count": null,
   "id": "98210640",
   "metadata": {},
   "outputs": [],
   "source": [
    "function buggy_function()\n",
    "    s = 0\n",
    "    for i in 1:10^7\n",
    "        s += sin(i)\n",
    "        if i == 5_000_000\n",
    "            error(\"boom!\")\n",
    "        end\n",
    "    end\n",
    "    return s\n",
    "end\n",
    "\n",
    "try\n",
    "    @profilehtml buggy_function()\n",
    "catch err\n",
    "    @warn \"Crashed\" err\n",
    "end\n",
    "\n",
    "# Show the flamegraph in your browser\n",
    "statprofilehtml()"
   ]
  },
  {
   "cell_type": "code",
   "execution_count": null,
   "id": "a04dd5b1",
   "metadata": {},
   "outputs": [],
   "source": [
    "using InteractiveUtils\n",
    "run(`open /Users/nobuaki/Documents/Github/flexibleDSM/OPTmotors/myOwnApplications/statprof/index.html`)  "
   ]
  }
 ],
 "metadata": {
  "kernelspec": {
   "display_name": "Julia 1.11.7",
   "language": "julia",
   "name": "julia-1.11"
  },
  "language_info": {
   "file_extension": ".jl",
   "mimetype": "application/julia",
   "name": "julia",
   "version": "1.11.7"
  }
 },
 "nbformat": 4,
 "nbformat_minor": 5
}
