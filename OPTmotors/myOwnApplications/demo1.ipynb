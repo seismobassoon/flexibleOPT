{
 "cells": [
  {
   "cell_type": "code",
   "execution_count": 23,
   "id": "85b7f81f",
   "metadata": {},
   "outputs": [
    {
     "name": "stderr",
     "output_type": "stream",
     "text": [
      "\u001b[32m\u001b[1m  Activating\u001b[22m\u001b[39m project at `~/Documents/Github/flexibleDSM`\n"
     ]
    },
    {
     "data": {
      "text/plain": [
       "quasiNumericalOperatorConstruction (generic function with 1 method)"
      ]
     },
     "metadata": {},
     "output_type": "display_data"
    }
   ],
   "source": [
    "\n",
    "using Pkg, BenchmarkTools\n",
    "\n",
    "\n",
    "cd(@__DIR__)\n",
    "Pkg.activate(\"../..\")\n",
    "\n",
    "using Revise\n",
    "\n",
    "\n",
    "\n",
    "include(\"../src/imageReader.jl\") # read 2D images for models\n",
    "\n",
    "include(\"../src/OPTwrappers.jl\") \n"
   ]
  },
  {
   "cell_type": "code",
   "execution_count": 5,
   "id": "0ae67625",
   "metadata": {},
   "outputs": [
    {
     "data": {
      "text/plain": [
       "1"
      ]
     },
     "metadata": {},
     "output_type": "display_data"
    }
   ],
   "source": [
    "iExperiment = 1\n",
    "\n",
    "# 'iExperiment' can be fixed to be 1 if the user does not need to perform benchmark tests\n",
    "# (which should be the case for the most of the time when the software gets stabilised)"
   ]
  },
  {
   "cell_type": "code",
   "execution_count": 6,
   "id": "abcee459",
   "metadata": {},
   "outputs": [],
   "source": [
    "\n",
    "#region Choose backend depending on environment\n",
    "if isdefined(Main, :IJulia) || get(ENV, \"JULIA_EDITOR\", \"\") == \"code\"\n",
    "    # Use CairoMakie for inline if in notebook or VS Code\n",
    "    using CairoMakie\n",
    "else\n",
    "    using GLMakie\n",
    "end"
   ]
  },
  {
   "cell_type": "code",
   "execution_count": 10,
   "id": "29587f11",
   "metadata": {},
   "outputs": [
    {
     "data": {
      "text/plain": [
       "(Differential(t)(Differential(t)(u(x, y, t))) - (Differential(x)(Differential(x)(u(x, y, t))) + Differential(y)(Differential(y)(u(x, y, t))))*(v(x, y)^2), u(x, y, t), v(x, y), f(x, y, t), f(x, y, t), 1, (x, y, t), Any[Differential(x), Differential(y), Differential(t)], Any[Differential(x) ∘ Differential(x), Differential(y) ∘ Differential(y), Differential(t) ∘ Differential(t)])"
      ]
     },
     "metadata": {},
     "output_type": "display_data"
    }
   ],
   "source": [
    "famousEquationType=\"2DacousticTime\"\n",
    "exprs,fields,vars,extexprs,extfields,extvars,coordinates,∂,∂²=famousEquations(famousEquationType)"
   ]
  },
  {
   "cell_type": "code",
   "execution_count": 8,
   "id": "7bedc499",
   "metadata": {},
   "outputs": [],
   "source": [
    "modelName=\"marmousi\"\n",
    "\n",
    "modelDefinitionMethod=\"2DimageFile\" # ToyModel or 2DimageFile (or 1DsphericalPlanet)\n",
    "model =nothing\n",
    "\n",
    "\n",
    "if modelDefinitionMethod !== nothing\n",
    "        \n",
    "    #region Model input - option i) Model domain definition\n",
    "\n",
    "    if modelDefinitionMethod === \"ToyModel\"\n",
    "        DomainWindow=(DomainWindowT=1.0,DomainWindowX=1.0,DomainWindowY=1.0,DomainWindowZ=1.0)\n",
    "        ModelSizeTXYZ=(ModelSizeT=101,ModelSizeX=101,ModelSizeY=101,ModelSizeZ=0)\n",
    "    end\n",
    "\n",
    "    #endregion\n",
    "\n",
    "    #region Model input - option ii) Read a file (2D or 3D) and define Δs\n",
    "\n",
    "    if modelDefinitionMethod === \"2DimageFile\"\n",
    "\n",
    "        #imagefile=\"../data/model/random/colourful.jpg\"\n",
    "        #imagefile=\"../data/model/artemis/IMG_6098.jpeg\"\n",
    "        #imagefile=\"../data/model/random/tmp.png\"\n",
    "        imagefile = \"../data/model/random/marmousi.png\"\n",
    "        colormap = \"jet\" #colormap can be RGB vector or predefined colormap\n",
    "\n",
    "        #model=read2DimageModel(imagefile,colormap;Nwidth=10,Nheight=10,showRecoveredImage=false)\n",
    "        model=read2DimageModel(imagefile,colormap;showRecoveredImage=false)\n",
    "    end\n",
    "    #endregion\n",
    "\n",
    "    #region Model input - option iii) Read a file (1D spherical planet models)\n",
    "\n",
    "    if modelDefinitionMethod ===\"1DsphericalPlanet\"\n",
    "        # use some programmes that are developed during Xmas 2023\n",
    "        # inputModels.jl\n",
    "    end\n",
    "\n",
    "#endregion\n",
    "end"
   ]
  },
  {
   "cell_type": "code",
   "execution_count": 11,
   "id": "2a2ab3be",
   "metadata": {},
   "outputs": [
    {
     "data": {
      "text/plain": [
       "(x, y, t)"
      ]
     },
     "metadata": {},
     "output_type": "display_data"
    }
   ],
   "source": [
    "coordinates"
   ]
  },
  {
   "cell_type": "code",
   "execution_count": 12,
   "id": "8cd30c3a",
   "metadata": {},
   "outputs": [
    {
     "data": {
      "text/plain": [
       "2"
      ]
     },
     "metadata": {},
     "output_type": "display_data"
    }
   ],
   "source": [
    "Δnum = (1.0,1.0,1.0) # this should be in the same order as coordinates \n",
    "\n",
    "\n",
    "\n",
    "IneedExternalSources = true\n",
    "maskedRegionForSourcesInSpace = nothing\n",
    "\n",
    "#DrWatson configurations\n",
    "\n",
    "orderBtime=1\n",
    "orderBspace=1\n",
    "pointsInSpace=2\n",
    "pointsInTime=2\n",
    "\n",
    "WorderBspace=1\n",
    "WorderBtime=1\n",
    "supplementaryOrder=2"
   ]
  },
  {
   "cell_type": "code",
   "execution_count": 13,
   "id": "98b5b8ba",
   "metadata": {},
   "outputs": [
    {
     "data": {
      "text/plain": [
       "1-element Vector{Any}:\n",
       " [0.4 0.4 … 0.4 0.4; 0.4 0.4 … 0.4 0.4; … ; 0.5138386099547898 0.5163891573813251 … 0.5501948972360029 0.5472638856339349; 0.5300777283024765 0.5308589172720881 … 0.5545259469249547 0.5545259469249547]"
      ]
     },
     "metadata": {},
     "output_type": "display_data"
    }
   ],
   "source": [
    "models=[] # you might need to make this empty tuple first, otherwise one-member tuple can be misinterpreted\n",
    "models=push!(models, (model .* 0.2 .+ 0.4))"
   ]
  },
  {
   "cell_type": "code",
   "execution_count": 14,
   "id": "6596fcab",
   "metadata": {},
   "outputs": [
    {
     "data": {
      "text/plain": [
       "(676, 802, 3)"
      ]
     },
     "metadata": {},
     "output_type": "display_data"
    }
   ],
   "source": [
    "fakeNt = 1\n",
    "timeMarching = any(a -> a === timeDimensionString, string.(coordinates)) \n",
    "if timeMarching\n",
    "    fakeNt = pointsInTime+1\n",
    "    modelPoints = (size(model)...,fakeNt) # Nx, Ny etc thing. Nt is also mentioned and it should be the last element!\n",
    "else\n",
    "    modelPoints = (size(model))\n",
    "end"
   ]
  },
  {
   "cell_type": "code",
   "execution_count": 15,
   "id": "13ddcb3b",
   "metadata": {},
   "outputs": [
    {
     "data": {
      "text/plain": [
       "3"
      ]
     },
     "metadata": {},
     "output_type": "display_data"
    }
   ],
   "source": [
    "fakeNt"
   ]
  },
  {
   "cell_type": "code",
   "execution_count": 16,
   "id": "8861235b",
   "metadata": {},
   "outputs": [
    {
     "data": {
      "text/plain": [
       "Dict{String, Any} with 16 entries:\n",
       "  \"IneedExternalSources\"          => true\n",
       "  \"models\"                        => Any[[0.4 0.4 … 0.4 0.4; 0.4 0.4 … 0.4 0.4;…\n",
       "  \"maskedRegionForSourcesInSpace\" => CartesianIndex[CartesianIndex(338, 401)]\n",
       "  \"iExperiment\"                   => 1\n",
       "  \"orderBtime\"                    => 1\n",
       "  \"Δnum\"                          => (1.0, 1.0, 1.0)\n",
       "  \"pointsInSpace\"                 => 2\n",
       "  \"WorderBspace\"                  => 1\n",
       "  \"pointsInTime\"                  => 2\n",
       "  \"WorderBtime\"                   => 1\n",
       "  \"supplementaryOrder\"            => 2\n",
       "  \"orderBspace\"                   => 1\n",
       "  \"modelPoints\"                   => (676, 802, 3)\n",
       "  \"forceModels\"                   => 1.0\n",
       "  \"modelName\"                     => \"marmousi\"\n",
       "  \"famousEquationType\"            => \"2DacousticTime\""
      ]
     },
     "metadata": {},
     "output_type": "display_data"
    }
   ],
   "source": [
    "maskedRegionForSourcesInSpace  = Array{CartesianIndex,1}(undef,0) # it is important to decalre the type of this\n",
    "maskedRegionForSourcesInSpace = push!(maskedRegionForSourcesInSpace, CartesianIndex(modelPoints[1:end-1].÷2))# in Ndimension (or Ndimension  - 1 if timeMarching)\n",
    "# in this example, I put a point source at the centre of the model space\n",
    "\n",
    "forceModels =((1.0)) # if your model does not have anything special material parameters then it's how it's written\n",
    "\n",
    "concreteModelParameters = @strdict famousEquationType Δnum orderBtime orderBspace WorderBtime WorderBspace supplementaryOrder pointsInSpace pointsInTime IneedExternalSources modelName models modelPoints forceModels maskedRegionForSourcesInSpace iExperiment"
   ]
  },
  {
   "cell_type": "code",
   "execution_count": 20,
   "id": "0a8e6de0",
   "metadata": {},
   "outputs": [
    {
     "data": {
      "text/plain": [
       "safeget (generic function with 3 methods)"
      ]
     },
     "metadata": {},
     "output_type": "display_data"
    }
   ],
   "source": [
    "safeget(A, inds...; default=0) = checkbounds(Bool, A, inds...) ? A[inds...] : default"
   ]
  },
  {
   "cell_type": "code",
   "execution_count": null,
   "id": "2094e67a",
   "metadata": {},
   "outputs": [],
   "source": [
    "opt = myProduceOrLoad(makeCompleteCostFunctions,concreteModelParameters,\"numOperators\",\"quasiNum\")"
   ]
  }
 ],
 "metadata": {
  "kernelspec": {
   "display_name": "Julia 1.11.7",
   "language": "julia",
   "name": "julia-1.11"
  },
  "language_info": {
   "file_extension": ".jl",
   "mimetype": "application/julia",
   "name": "julia",
   "version": "1.11.7"
  }
 },
 "nbformat": 4,
 "nbformat_minor": 5
}
