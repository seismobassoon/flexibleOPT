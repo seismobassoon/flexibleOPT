{
 "cells": [
  {
   "cell_type": "markdown",
   "id": "d07f51ef",
   "metadata": {},
   "source": [
    "# make a new function to make a 2D slice based on 1D Earth model (or 2D or 3D)"
   ]
  },
  {
   "cell_type": "markdown",
   "id": "2c0fd73f",
   "metadata": {},
   "source": []
  },
  {
   "cell_type": "code",
   "execution_count": 5,
   "id": "0d0cc909",
   "metadata": {},
   "outputs": [
    {
     "name": "stderr",
     "output_type": "stream",
     "text": [
      "\u001b[32m\u001b[1m  Activating\u001b[22m\u001b[39m project at `~/Documents/Github/flexibleDSM`\n",
      "┌ Info: Including with Revise: ../src/batchDrWatson.jl\n",
      "└ @ Main /Users/nobuaki/Documents/Github/flexibleDSM/OPTmotors/src/batchRevise.jl:25\n",
      "┌ Info: Including with Revise: ../src/DSM1D.jl\n",
      "└ @ Main /Users/nobuaki/Documents/Github/flexibleDSM/OPTmotors/src/batchRevise.jl:25\n",
      "┌ Info: Including with Revise: ../src/batchGMT.jl\n",
      "└ @ Main /Users/nobuaki/Documents/Github/flexibleDSM/OPTmotors/src/batchRevise.jl:25\n"
     ]
    }
   ],
   "source": [
    "# Nobuaki Fuji Oct 2025\n",
    "\n",
    "# breaking news! confirmed by Lorette and Stéphanie, the CMB is ellipsoidal! \n",
    "# when working with geodetic earth models, r_PREM should be corrected as a function of latitude!\n",
    "\n",
    "using Pkg\n",
    "\n",
    "\n",
    "cd(@__DIR__)\n",
    "Pkg.activate(\"../..\")\n",
    "ParamFile = \"../test/testparam.csv\"\n",
    "include(\"../src/batchRevise.jl\") \n",
    "\n",
    "myInclude(\"../src/batchDrWatson.jl\")\n",
    "myInclude(\"../src/DSM1D.jl\")\n",
    "myInclude(\"../src/batchGMT.jl\")\n",
    "using .DSM1D"
   ]
  },
  {
   "cell_type": "code",
   "execution_count": 3,
   "id": "26b1e2bf",
   "metadata": {},
   "outputs": [],
   "source": [
    "using Geodesy, Interpolations, StaticArrays, GMT, LinearAlgebra"
   ]
  },
  {
   "cell_type": "code",
   "execution_count": 4,
   "id": "7195ef07",
   "metadata": {},
   "outputs": [
    {
     "data": {
      "text/plain": [
       "effectiveRadius (generic function with 1 method)"
      ]
     },
     "metadata": {},
     "output_type": "display_data"
    }
   ],
   "source": [
    "import Base: +,-,/,*\n",
    "struct GeoPoint\n",
    "    lat::Float64 # in degree\n",
    "    lon::Float64 # in degree\n",
    "    alt::Float64 # in metre\n",
    "    ecef::SVector{3,Float64}\n",
    "    radius::Float64 # in metre\n",
    "    #effectiveRadius::Float64 # in metre (useful to get values from 1D averaged model)\n",
    "end\n",
    "\n",
    "struct localCoord2D\n",
    "    ix::Int64\n",
    "    iz::Int64\n",
    "    x::Float64\n",
    "    z::Float64\n",
    "    horizontalVector::SVector{2,Float64}\n",
    "    normalVector::SVector{2,Float64}\n",
    "end\n",
    "\n",
    "struct localCoord3D\n",
    "    ix::Int64\n",
    "    iy::Int64\n",
    "    iz::Int64\n",
    "    x::Float64\n",
    "    y::Float64\n",
    "    z::Float64\n",
    "    horizontalVector1::SVector{3,Float64}\n",
    "    horizontalVector2::SVector{3,Float64}\n",
    "    normalVector::SVector{3,Float64}\n",
    "end\n",
    "\n",
    "function localCoord2D(ix,iz,x,z)\n",
    "    localCoord2D(ix,iz,x,z,(0.0,0.0),(0.0,0.0))\n",
    "end\n",
    "\n",
    "function GeoPoint(lat::Float64, lon::Float64; alt=0.0, ell=wgs84)\n",
    "    lla = LLA(lat,lon, alt) # be careful LLA uses degrees by default!!\n",
    "    ecef_coords = ECEF(lla,ell)\n",
    "    radius = norm([ecef_coords.x,ecef_coords.y,ecef_coords.z])\n",
    "    GeoPoint(lat, lon, alt, SVector(ecef_coords.x, ecef_coords.y, ecef_coords.z),radius)\n",
    "end\n",
    "\n",
    "\n",
    "function GeoPoint(ecef::SVector{3,Float64}; ell=wgs84)\n",
    "    lla = LLA(ECEF(ecef...),ell)\n",
    "    radius = norm(ecef)\n",
    "    GeoPoint(lla.lat,lla.lon,lla.alt,ecef,radius)\n",
    "end\n",
    "\n",
    "function +(a::GeoPoint,b::GeoPoint; ell=wgs84)\n",
    "    ecef=a.ecef + b.ecef\n",
    "    lla = LLA(ECEF(ecef...),ell)\n",
    "    radius = norm(ecef)\n",
    "    GeoPoint(lla.lat,lla.lon,lla.alt,ecef,radius)\n",
    "end\n",
    "\n",
    "function -(a::GeoPoint,b::GeoPoint; ell=wgs84)\n",
    "    ecef=a.ecef - b.ecef\n",
    "    lla = LLA(ECEF(ecef...),ell)\n",
    "    radius = norm(ecef)\n",
    "    GeoPoint(lla.lat,lla.lon,lla.alt,ecef,radius)\n",
    "end\n",
    "\n",
    "function /(a::GeoPoint,c::Real; ell=wgs84)\n",
    "    ecef=a.ecef / c\n",
    "    lla = LLA(ECEF(ecef...),ell)\n",
    "    radius = norm(ecef)\n",
    "    GeoPoint(lla.lat,lla.lon,lla.alt,ecef,radius)\n",
    "end\n",
    "\n",
    "\n",
    "function *(a::GeoPoint,c::Real; ell=wgs84)\n",
    "    ecef=a.ecef * c\n",
    "    lla = LLA(ECEF(ecef...),ell)\n",
    "    radius = norm(ecef)\n",
    "    GeoPoint(lla.lat,lla.lon,lla.alt,ecef,radius)\n",
    "end\n",
    "\n",
    "\n",
    "function effectiveRadius(a::GeoPoint,r0::Float64; ell=wgs84)\n",
    "    radiusPlanetHere = GeoPoint(a.lat,a.lon).radius \n",
    "    ratio = r0/radiusPlanetHere\n",
    "    return a.radius*ratio\n",
    "end\n",
    "\n",
    "\n"
   ]
  },
  {
   "cell_type": "code",
   "execution_count": null,
   "id": "299be0a5",
   "metadata": {},
   "outputs": [],
   "source": [
    "# Example 1-D model (toy). Replace with your actual model arrays.\n",
    "# r_model in meters from Earth center (0..R_ref), assume sorted ascending\n",
    "R_ref = DSM1D.my1DDSMmodel.averagedPlanetRadiusInKilometer*1.e3                   # model reference radius (m)\n"
   ]
  },
  {
   "cell_type": "code",
   "execution_count": null,
   "id": "a30a73c7",
   "metadata": {},
   "outputs": [],
   "source": [
    "# create an interpolator in radius space (ensure interpolation domain covers used r)\n",
    "#r_model = collect(0.0:1000.0:R_ref)  # example radius grid\n",
    "#v_model = 5000 .- 0.5 .* (R_ref .- r_model) ./ 1000;  # dummy profile\n",
    "#itp = LinearInterpolation(r_model, v_model; extrapolation_bc=Flat())"
   ]
  },
  {
   "cell_type": "code",
   "execution_count": null,
   "id": "4bedf956",
   "metadata": {},
   "outputs": [],
   "source": [
    "p1 = GeoPoint(48.8566,2.3522) # Paris\n",
    "p2 = GeoPoint(42.8,1.5) # Tarascon (à peu près)\n",
    "#topographyFromGeoPoint(p1)\n",
    "@show GeoPoint(p1.ecef)\n",
    "@show p0 = (p1 + p2)/2.0\n"
   ]
  },
  {
   "cell_type": "code",
   "execution_count": null,
   "id": "adcbda93",
   "metadata": {},
   "outputs": [],
   "source": [
    "# pre-definition of x-axis vector p1->p2 (normally this is not the one we want)\n",
    "p2_1 = p2-p1\n",
    "x_axis_tentative = (p2_1/p2_1.radius).ecef\n"
   ]
  },
  {
   "cell_type": "code",
   "execution_count": null,
   "id": "45025ca4",
   "metadata": {},
   "outputs": [],
   "source": [
    "# definition of z-axis vector centre -> p0\n",
    "\n",
    "z_axis = normalize(p0.ecef)"
   ]
  },
  {
   "cell_type": "code",
   "execution_count": null,
   "id": "72039663",
   "metadata": {},
   "outputs": [],
   "source": [
    "# y-axis: complete right-handed system\n",
    "y_axis = normalize(cross(z_axis, x_axis_tentative))"
   ]
  },
  {
   "cell_type": "code",
   "execution_count": null,
   "id": "b1cb69ac",
   "metadata": {},
   "outputs": [],
   "source": [
    "x_axis = cross(y_axis, z_axis)  # now perfectly orthogonal"
   ]
  },
  {
   "cell_type": "code",
   "execution_count": null,
   "id": "7feea3e8",
   "metadata": {},
   "outputs": [],
   "source": [
    "#Rotation matrix\n",
    "R = SMatrix{3,3,Float64}(\n",
    "    x_axis[1], x_axis[2], x_axis[3],\n",
    "    y_axis[1], y_axis[2], y_axis[3],\n",
    "    z_axis[1], z_axis[2], z_axis[3]\n",
    ")"
   ]
  },
  {
   "cell_type": "code",
   "execution_count": null,
   "id": "d89375fa",
   "metadata": {},
   "outputs": [],
   "source": [
    "R*R'"
   ]
  },
  {
   "cell_type": "code",
   "execution_count": null,
   "id": "1777feca",
   "metadata": {},
   "outputs": [],
   "source": [
    "p_2D_to_ECEF(x_2D,z_2D,pOrigin::SVector{3,Float64},R::SMatrix{3,3,Float64}) = pOrigin+R*SVector(x_2D,0.e0,z_2D)"
   ]
  },
  {
   "cell_type": "code",
   "execution_count": null,
   "id": "eec1a7f9",
   "metadata": {},
   "outputs": [],
   "source": [
    "p_ECEF_to_2D(p_3D::SVector{3,Float64},pOrigin::SVector{3,Float64},R::SMatrix{3,3,Float64}) = R' * (p_3D - pOrigin)"
   ]
  },
  {
   "cell_type": "code",
   "execution_count": null,
   "id": "538ed170",
   "metadata": {},
   "outputs": [],
   "source": [
    "p_ECEF_to_2D(p0.ecef, p1.ecef,R)"
   ]
  },
  {
   "cell_type": "code",
   "execution_count": null,
   "id": "87ae3110",
   "metadata": {},
   "outputs": [],
   "source": [
    "p0.ecef - p_2D_to_ECEF(p_ECEF_to_2D(p0.ecef,p1.ecef,R)[1],p_ECEF_to_2D(p0.ecef,p1.ecef,R)[3],p1.ecef,R)"
   ]
  },
  {
   "cell_type": "code",
   "execution_count": null,
   "id": "06d45b25",
   "metadata": {},
   "outputs": [],
   "source": [
    "p0_0_above=p_2D_to_ECEF(0,0,p1.ecef,R)"
   ]
  },
  {
   "cell_type": "code",
   "execution_count": null,
   "id": "fa555934",
   "metadata": {},
   "outputs": [],
   "source": [
    "p0_1m_above=p_2D_to_ECEF(0,1,p1.ecef,R)"
   ]
  },
  {
   "cell_type": "code",
   "execution_count": null,
   "id": "6dae34a0",
   "metadata": {},
   "outputs": [],
   "source": [
    "p_ECEF_to_2D(p0_1m_above, p1.ecef,R)"
   ]
  },
  {
   "cell_type": "code",
   "execution_count": null,
   "id": "e9bb26a9",
   "metadata": {},
   "outputs": [],
   "source": [
    "Δx = 50 # in metre\n",
    "Δz = 50\n",
    "\n",
    "altMax = 20000 # in metre\n",
    "altMin = -100.e3 # in metre\n",
    "#altMin = -5000\n",
    "\n",
    "# since p1 and p2 can be even out of the solid Earth or inside the Earth\n",
    "# I define that p1 and p2 should be the left and right limits\n",
    "\n",
    "leftLimit = 0 # in metre so x is always non-negative\n",
    "rightLimit = p2_1.radius # it is bigger than what we need ....|\n"
   ]
  },
  {
   "cell_type": "code",
   "execution_count": null,
   "id": "c40352eb",
   "metadata": {},
   "outputs": [],
   "source": [
    "@show Nx = Int64((rightLimit-leftLimit) ÷ Δx+1) \n",
    "@show Nz = Int64((altMax-altMin) ÷ Δz + 1 ) "
   ]
  },
  {
   "cell_type": "code",
   "execution_count": null,
   "id": "e0173df5",
   "metadata": {},
   "outputs": [],
   "source": [
    "allGridsInGeoPoints=Array{GeoPoint,2}(undef,Nx,Nz)\n",
    "\n",
    "effectiveRadii=Array{Float64,2}(undef,Nx,Nz)\n",
    "\n",
    "allGridsInCartesian2D=Array{localCoord2D,2}(undef,Nx,Nz)\n",
    "\n",
    "seismicModel2D=(ρ=zeros(Float64,Nx,Nz),Vpv=zeros(Float64,Nx,Nz),Vph=zeros(Float64,Nx,Nz),Vsv=zeros(Float64,Nx,Nz),Vsh=zeros(Float64,Nx,Nz),Qμ=zeros(Float64,Nx,Nz),Qκ=zeros(Float64,Nx,Nz),QμPower=zeros(Float64,Nx,Nz),QκPower=zeros(Float64,Nx,Nz),η=zeros(Float64,Nx,Nz))\n",
    "\n",
    "for iXZ in CartesianIndices(allGridsInGeoPoints)\n",
    "    ix, iz = Tuple(iXZ)\n",
    "    x = leftLimit+(ix-1)*Δx\n",
    "    z = altMin+(iz-1)*Δz \n",
    "    tmpGeoPoint=GeoPoint(p_2D_to_ECEF(x,z,p1.ecef,R))\n",
    "    \n",
    "    allGridsInGeoPoints[iXZ]=tmpGeoPoint\n",
    "\n",
    "    allGridsInCartesian2D[iXZ]=localCoord2D(ix,iz,x,z)\n",
    "  \n",
    "    effectiveRadii[iXZ]=effectiveRadius(tmpGeoPoint,DSM1D.my1DDSMmodel.averagedPlanetRadiusInKilometer*1.e3 )\n",
    "end\n"
   ]
  },
  {
   "cell_type": "code",
   "execution_count": null,
   "id": "b98f97ff",
   "metadata": {},
   "outputs": [],
   "source": [
    "DSM1D.my1DDSMmodel.C_Qκ"
   ]
  },
  {
   "cell_type": "markdown",
   "id": "ed6412fd",
   "metadata": {},
   "source": [
    "# about effectiveRadii corrections\n",
    "\n",
    "In fact, there are three types of parameter modification, based on 1D planet models. \n",
    "\n",
    "(i) Changing effectiveRadii by the function effectiveRadius, considering the ellipticity of the planet (which is done above).\n",
    "\n",
    "(ii) changing a topography of discontinuity (CMB, 410 or 660-km, solid-air surface), which can be further be done by changing effectiveRadii locally.\n",
    "\n",
    "(iii) introducing a new layer (ocean or something that could exist only at some region in terms of lat and lon).\n",
    "\n",
    "\n",
    "Reading the topo file can give the solid-air surface (option ii) and solid-liquid surface (option iii) so we need to separate the two of them.\n"
   ]
  },
  {
   "cell_type": "markdown",
   "id": "bfa9c416",
   "metadata": {},
   "source": [
    "The idea is to read topo for (ii) and (iii) and provide a interpolator for effectiveRadii first. Then (iii) can be done by overwriting the params matrix."
   ]
  },
  {
   "cell_type": "code",
   "execution_count": null,
   "id": "cc026d44",
   "metadata": {},
   "outputs": [],
   "source": [
    "# now I need to use GMT.jl to get the topography\n",
    "\n",
    "lats = [p.lat for p in allGridsInGeoPoints]\n",
    "lons = [p.lon for p in allGridsInGeoPoints]\n",
    "\n",
    "lat_min, lat_max = extrema(lats)\n",
    "lon_min, lon_max = extrema(lons)\n",
    "if lat_min === lat_max\n",
    "    if lat_min > 1.0\n",
    "        lat_min = lat_min - 0.5\n",
    "    else\n",
    "        lat_max = lat_max + 0.5\n",
    "    end\n",
    "end\n",
    "\n",
    "if lon_min === lon_max\n",
    "    if lon_min > 1.0\n",
    "        lon_min = lon_min - 0.5\n",
    "    else\n",
    "        lon_max = lon_max + 0.5\n",
    "    end\n",
    "end\n",
    "\n",
    "lat_min, lat_max,lon_min,lon_max"
   ]
  },
  {
   "cell_type": "code",
   "execution_count": null,
   "id": "000ca4f3",
   "metadata": {},
   "outputs": [],
   "source": [
    "function GMTprecision(requiredResolutionInKmÀPeuPrès::Float64)\n",
    "    if requiredResolutionInKmÀPeuPrès > 55.0\n",
    "        return \"@earth_relief_30m\"\n",
    "    elseif  18.0 < requiredResolutionInKmÀPeuPrès <= 55.0\n",
    "        return \"@earth_relief_10m\"\n",
    "    elseif  9.0 < requiredResolutionInKmÀPeuPrès <= 18.0\n",
    "        return \"@earth_relief_05m\"\n",
    "    elseif 3.6 < requiredResolutionInKmÀPeuPrès <= 9.0\n",
    "        return \"@earth_relief_02m\"\n",
    "    elseif 1.8 < requiredResolutionInKmÀPeuPrès <= 3.6\n",
    "        return \"@earth_relief_01m\"\n",
    "    elseif 0.45 < requiredResolutionInKmÀPeuPrès <= 1.8\n",
    "        return \"@earth_relief_15s\"\n",
    "    elseif 0.30 < requiredResolutionInKmÀPeuPrès <= 0.45\n",
    "        return \"@earth_relief_10s\"\n",
    "    elseif 0.15 < requiredResolutionInKmÀPeuPrès <= 0.30\n",
    "        return \"@earth_relief_02s\"\n",
    "    elseif 0.09 < requiredResolutionInKmÀPeuPrès <= 0.15\n",
    "        return \"@earth_relief_03s\"\n",
    "    elseif 0.06 < requiredResolutionInKmÀPeuPrès <= 0.09\n",
    "        return \"@earth_relief_02s\"\n",
    "    else\n",
    "        return \"@earth_relief_01s\"\n",
    "        # after this\n",
    "        \"\"\"\n",
    "        # Load your own local DEM (GeoTIFF, etc.)\n",
    "        topo = GMT.read(\"Copernicus_DSM_30m_Europe.tif\")\n",
    "\n",
    "        # Cut a region and maybe downsample\n",
    "        region = [-5, 0, 43, 47]\n",
    "        topo_sub = GMT.grdcut(topo, region=region)\n",
    "\n",
    "        # Optional resampling (to ~10 m)\n",
    "        topo_10m = GMT.grdsample(topo_sub, inc=\"10m\")\n",
    "\n",
    "        \"\"\"\n",
    "    end\n",
    "end\n",
    "\n",
    "                  "
   ]
  },
  {
   "cell_type": "code",
   "execution_count": null,
   "id": "c0090fa0",
   "metadata": {},
   "outputs": [],
   "source": [
    "\n",
    "\n",
    "using GMT,CairoMakie\n",
    "\n",
    "#region = [lon_min, lon_max, lat_min, lat_max]\n",
    "region = [-10,20,35,60]\n",
    "precision = GMTprecision(0.5) # this should be in Km\n",
    "\n",
    "\n",
    "\n",
    "# resolution can be @earth_relief_01m (≈2 km), @earth_relief_03m, or coarser like 10m, 30m, etc.\n",
    "topoEuro = GMT.grdcut(precision, region=region)\n",
    "\n",
    "topoEuro_surface = copy(topoEuro.z)\n",
    "topoEuro_bathymetry = copy(topoEuro.z)\n"
   ]
  },
  {
   "cell_type": "code",
   "execution_count": null,
   "id": "2e53e043",
   "metadata": {},
   "outputs": [],
   "source": [
    "topoEuro_surface[topoEuro_surface .< 0.0 ] .= 0.0\n",
    "topoEuro_bathymetry[topoEuro_bathymetry .> 0.0 ] .= 0.0"
   ]
  },
  {
   "cell_type": "code",
   "execution_count": null,
   "id": "59415e50",
   "metadata": {},
   "outputs": [],
   "source": [
    "\n",
    "\n",
    "fig, ax, hm = heatmap(\n",
    "    #topo.x,topo.y,topo.z';\n",
    "    topoEuro.x,topoEuro.y,topoEuro_surface';\n",
    "    colormap = :terrain,\n",
    "    colorrange=(-1000,1000),\n",
    "    axis = (aspect = DataAspect(), xlabel = \"Longitude\", ylabel = \"Latitude\", title = \"Topography (m)\")\n",
    ")\n",
    "Colorbar(fig[1,2], hm, label=\"Elevation (m)\")\n",
    "fig"
   ]
  },
  {
   "cell_type": "code",
   "execution_count": null,
   "id": "a356de81",
   "metadata": {},
   "outputs": [],
   "source": [
    "\n",
    "\n",
    "fig, ax, hm = heatmap(\n",
    "    #topo.x,topo.y,topo.z';\n",
    "    topoEuro.x,topoEuro.y,topoEuro_bathymetry';\n",
    "    colormap = :terrain,\n",
    "    colorrange=(-3000,0),\n",
    "    axis = (aspect = DataAspect(), xlabel = \"Longitude\", ylabel = \"Latitude\", title = \"Topography (m)\")\n",
    ")\n",
    "Colorbar(fig[1,2], hm, label=\"Elevation (m)\")\n",
    "fig"
   ]
  },
  {
   "cell_type": "code",
   "execution_count": null,
   "id": "f671d528",
   "metadata": {},
   "outputs": [],
   "source": [
    "using GMT,CairoMakie\n",
    "\n",
    "region = [lon_min, lon_max, lat_min, lat_max]\n",
    "\n",
    "precision = GMTprecision(0.03)\n",
    "# resolution can be @earth_relief_01m (≈2 km), @earth_relief_03m, or coarser like 10m, 30m, etc.\n",
    "topo = GMT.grdcut(precision, region=region)\n",
    "topo_surface = copy(topo.z)\n",
    "topo_bathymetry = copy(topo.z)\n",
    "fig, ax, hm = heatmap(\n",
    "    topo.x,topo.y,topo.z';\n",
    "    colormap = :terrain,\n",
    "    colorrange=(0,800),\n",
    "    axis = (aspect = DataAspect(), xlabel = \"Longitude\", ylabel = \"Latitude\", title = \"Topography (m)\")\n",
    ")\n",
    "Colorbar(fig[1,2], hm, label=\"Elevation (m)\")\n",
    "fig"
   ]
  },
  {
   "cell_type": "code",
   "execution_count": null,
   "id": "b6af6596",
   "metadata": {},
   "outputs": [],
   "source": [
    "topo.y"
   ]
  },
  {
   "cell_type": "code",
   "execution_count": null,
   "id": "35874fdc",
   "metadata": {},
   "outputs": [],
   "source": [
    "# First we take care of topo_surface\n",
    "\n",
    "topoInterpolater = interpolate((topo.y,topo.x),topo_surface,Gridded(Linear()));"
   ]
  },
  {
   "cell_type": "code",
   "execution_count": null,
   "id": "2486172b",
   "metadata": {},
   "outputs": [],
   "source": [
    "eps = 100.0 # in metre \"below\" option should be enough but who knows\n",
    "for iXZ in CartesianIndices(allGridsInGeoPoints)\n",
    "    tmpPoint = allGridsInGeoPoints[iXZ]\n",
    "    if 0.0 <= tmpPoint.alt <= topoInterpolater(tmpPoint.lat,tmpPoint.lon) \n",
    "        # it might be very time-consuming if we do this for 3D Cartesian points ...\n",
    "        effectiveRadii[iXZ]=DSM1D.my1DDSMmodel.averagedPlanetRadiusInKilometer*1.e3 - eps\n",
    "    end\n",
    "end"
   ]
  },
  {
   "cell_type": "markdown",
   "id": "03a2f7ac",
   "metadata": {},
   "source": [
    "# note\n",
    "\n",
    "in order to remove eps above, I need to understand interpolate.jl bit more (in the presence of discontinuities)"
   ]
  },
  {
   "cell_type": "code",
   "execution_count": null,
   "id": "f778054e",
   "metadata": {},
   "outputs": [],
   "source": []
  },
  {
   "cell_type": "code",
   "execution_count": null,
   "id": "6027b66a",
   "metadata": {},
   "outputs": [],
   "source": []
  },
  {
   "cell_type": "code",
   "execution_count": null,
   "id": "fa2c6a4b",
   "metadata": {},
   "outputs": [],
   "source": [
    "# make a regular grid for the necessary radii\n",
    "NradiusNodes =500 # I don't know how to make this number reasonable\n",
    "tmpNradiusNodes = NradiusNodes\n",
    "if NradiusNodes === 1\n",
    "    tmpNradiusNodes = 1\n",
    "end\n",
    "\n",
    "ΔradiusIncrementInKm = (maximum(effectiveRadii)-minimum(effectiveRadii))/(tmpNradiusNodes-1) *1.e-3\n",
    "linearRadiiInKm =(collect(1:1:NradiusNodes) .- 1)*ΔradiusIncrementInKm .+ minimum(effectiveRadii)*1.e-3\n",
    "\n",
    "push!(linearRadiiInKm, DSM1D.my1DDSMmodel.averagedPlanetRadiusInKilometer) # here I put the most important discontinuity but maybe I need to add all vmin inside, the order will be sorted so we don't\n"
   ]
  },
  {
   "cell_type": "code",
   "execution_count": null,
   "id": "0e54bc95",
   "metadata": {},
   "outputs": [],
   "source": [
    "newRadii,params=DSM1D.compute1DseismicParamtersFromPolynomialCoefficientsWithGivenRadiiArray(DSM1D.my1DDSMmodel,linearRadiiInKm,\"below\")"
   ]
  },
  {
   "cell_type": "code",
   "execution_count": null,
   "id": "746789af",
   "metadata": {},
   "outputs": [],
   "source": [
    "itp_ρ = LinearInterpolation(newRadii.*1.e3,params.ρ; extrapolation_bc=Flat())\n",
    "# I know that I don't have to copy this for all the parameters, Hesaneh, you can find an elegant way to do this for vpv, vph etc. with one line!"
   ]
  },
  {
   "cell_type": "code",
   "execution_count": null,
   "id": "0683e91f",
   "metadata": {},
   "outputs": [],
   "source": [
    "#seismicModel2D=(ρ=zeros(Float64,Nx,Nz),Vpv=zeros(Float64,Nx,Nz),Vph=zeros(Float64,Nx,Nz),Vsv=zeros(Float64,Nx,Nz),Vsh=zeros(Float64,Nx,Nz),Qμ=zeros(Float64,Nx,Nz),Qκ=zeros(Float64,Nx,Nz),QμPower=zeros(Float64,Nx,Nz),QκPower=zeros(Float64,Nx,Nz),η=zeros(Float64,Nx,Nz))\n",
    "for iXZ in CartesianIndices(allGridsInGeoPoints)\n",
    "    seismicModel2D.ρ[iXZ]= itp_ρ(effectiveRadii[iXZ])\n",
    "end"
   ]
  },
  {
   "cell_type": "code",
   "execution_count": null,
   "id": "fb729d48",
   "metadata": {},
   "outputs": [],
   "source": [
    "fig, ax, hm = heatmap(\n",
    "    #topo.x,topo.y,topo.z';\n",
    "    collect((0:1:(Nx-1)).*Δx).*1.e-3,(collect(0:1:(Nz-1)).*Δz.+altMin).*1.e-3, seismicModel2D.ρ;\n",
    "    colormap = :seismic,\n",
    "    colorrange=(0,4),\n",
    "    axis = (aspect = DataAspect(), xlabel = \"horizontal\", ylabel = \"depth from p1\", title = \"density model\")\n",
    ")\n",
    "Colorbar(fig[1,2], hm, label=\"density\")\n",
    "#ylims!(ax,-50,50)\n",
    "#xlims!(ax,600,700)\n",
    "fig"
   ]
  },
  {
   "cell_type": "markdown",
   "id": "2432b4e5",
   "metadata": {},
   "source": [
    "# I need to do (iii) for the water"
   ]
  },
  {
   "cell_type": "code",
   "execution_count": null,
   "id": "013266df",
   "metadata": {},
   "outputs": [],
   "source": []
  },
  {
   "cell_type": "code",
   "execution_count": null,
   "id": "50261379",
   "metadata": {},
   "outputs": [],
   "source": []
  },
  {
   "cell_type": "code",
   "execution_count": null,
   "id": "65835a2b",
   "metadata": {},
   "outputs": [],
   "source": []
  },
  {
   "cell_type": "code",
   "execution_count": null,
   "id": "a3523059",
   "metadata": {},
   "outputs": [],
   "source": [
    "radii,params=DSM1D.compute1DseismicParamtersFromPolynomialCoefficientsWithGivenRadiiArray(DSM1D.my1DDSMmodel,myRadiiArray,\"below\")\n",
    "params.Vph"
   ]
  },
  {
   "cell_type": "code",
   "execution_count": null,
   "id": "284400ed",
   "metadata": {},
   "outputs": [],
   "source": [
    "allGridsInGeoPoints[1,1]"
   ]
  },
  {
   "cell_type": "code",
   "execution_count": null,
   "id": "280a4f86",
   "metadata": {},
   "outputs": [],
   "source": [
    "effectiveRadii[200,1]"
   ]
  },
  {
   "cell_type": "code",
   "execution_count": null,
   "id": "ac176bab",
   "metadata": {},
   "outputs": [],
   "source": [
    "params.ρ"
   ]
  },
  {
   "cell_type": "code",
   "execution_count": null,
   "id": "417d2be5",
   "metadata": {},
   "outputs": [],
   "source": []
  },
  {
   "cell_type": "code",
   "execution_count": null,
   "id": "33df2728",
   "metadata": {},
   "outputs": [],
   "source": [
    "# resolution can be @earth_relief_01m (≈2 km), @earth_relief_03m, or coarser like 10m, 30m, etc."
   ]
  },
  {
   "cell_type": "markdown",
   "id": "d1a7fa3c",
   "metadata": {},
   "source": [
    "# I need to : \n",
    "add local coordinates and normals at each point as options to GeoPoint\n"
   ]
  },
  {
   "cell_type": "code",
   "execution_count": null,
   "id": "a4d59fad",
   "metadata": {},
   "outputs": [],
   "source": []
  },
  {
   "cell_type": "code",
   "execution_count": null,
   "id": "b171f7d5",
   "metadata": {},
   "outputs": [],
   "source": [
    "\n",
    "# Extract coordinates from GeoPoints\n",
    "lons = [p.lon for p in allGridsInGeoPoints[:]]\n",
    "lats = [p.lat for p in allGridsInGeoPoints[:]]\n"
   ]
  },
  {
   "cell_type": "code",
   "execution_count": null,
   "id": "185606f6",
   "metadata": {},
   "outputs": [],
   "source": [
    "\n",
    "# Query the topography via grdtrack using the file path\n",
    "topo_vals = GMT.grdtrack(lons, lats; G=tmpfile,show=false)"
   ]
  },
  {
   "cell_type": "code",
   "execution_count": null,
   "id": "d9b4b390",
   "metadata": {},
   "outputs": [],
   "source": [
    "\n",
    "\n",
    "# Reshape back to 2D\n",
    "Nx, Nz = size(allGridsInGeoPoints)\n",
    "topo_vals_2D = reshape(topo_vals, Nx, Nz)\n"
   ]
  }
 ],
 "metadata": {
  "kernelspec": {
   "display_name": "Julia 1.11.7",
   "language": "julia",
   "name": "julia-1.11"
  },
  "language_info": {
   "file_extension": ".jl",
   "mimetype": "application/julia",
   "name": "julia",
   "version": "1.11.7"
  }
 },
 "nbformat": 4,
 "nbformat_minor": 5
}
