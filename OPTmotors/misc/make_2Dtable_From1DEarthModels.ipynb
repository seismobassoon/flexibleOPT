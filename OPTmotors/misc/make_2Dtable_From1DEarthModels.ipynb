{
 "cells": [
  {
   "cell_type": "markdown",
   "id": "d07f51ef",
   "metadata": {},
   "source": [
    "# make a new function to make a 2D slice based on 1D Earth model (or 2D or 3D)"
   ]
  },
  {
   "cell_type": "markdown",
   "id": "2c0fd73f",
   "metadata": {},
   "source": []
  },
  {
   "cell_type": "code",
   "execution_count": 8,
   "id": "0d0cc909",
   "metadata": {},
   "outputs": [
    {
     "name": "stderr",
     "output_type": "stream",
     "text": [
      "\u001b[32m\u001b[1m  Activating\u001b[22m\u001b[39m project at `~/Documents/Github/flexibleDSM`\n",
      "┌ Info: Including with Revise: ../src/DSM1D.jl\n",
      "└ @ Main /Users/nobuaki/Documents/Github/flexibleDSM/OPTmotors/src/batchRevise.jl:25\n",
      "\u001b[91mERROR: \u001b[39mUndefVarError: `myInclude` not defined in `Main.DSM1D`\n",
      "Suggestion: check for spelling errors or missing imports.\n",
      "Stacktrace:\n",
      " [1] top-level scope\n",
      "\u001b[90m   @\u001b[39m \u001b[90m~/Documents/Github/flexibleDSM/OPTmotors/src/\u001b[39m\u001b[90m\u001b[4mDSM1D.jl:24\u001b[24m\u001b[39m\n",
      "in expression starting at /Users/nobuaki/Documents/Github/flexibleDSM/OPTmotors/src/DSM1D.jl:24\n"
     ]
    }
   ],
   "source": [
    "# Nobuaki Fuji Oct 2025\n",
    "\n",
    "# breaking news! confirmed by Lorette and Stéphanie, the CMB is ellipsoidal! \n",
    "# when working with geodetic earth models, r_PREM should be corrected as a function of latitude!\n",
    "\n",
    "using Pkg\n",
    "\n",
    "\n",
    "cd(@__DIR__)\n",
    "Pkg.activate(\"../..\")\n",
    "ParamFile = \"../test/testparam.csv\"\n",
    "include(\"../src/batchRevise.jl\") \n",
    "myInclude(\"../src/DSM1D.jl\")"
   ]
  },
  {
   "cell_type": "code",
   "execution_count": 4,
   "id": "26b1e2bf",
   "metadata": {},
   "outputs": [],
   "source": [
    "using Geodesy, Interpolations"
   ]
  },
  {
   "cell_type": "code",
   "execution_count": 3,
   "id": "299be0a5",
   "metadata": {},
   "outputs": [
    {
     "data": {
      "text/plain": [
       "6372-element Vector{Float64}:\n",
       " 1814.5\n",
       " 1815.0\n",
       " 1815.5\n",
       " 1816.0\n",
       " 1816.5\n",
       " 1817.0\n",
       " 1817.5\n",
       " 1818.0\n",
       " 1818.5\n",
       " 1819.0\n",
       "    ⋮\n",
       " 4996.0\n",
       " 4996.5\n",
       " 4997.0\n",
       " 4997.5\n",
       " 4998.0\n",
       " 4998.5\n",
       " 4999.0\n",
       " 4999.5\n",
       " 5000.0"
      ]
     },
     "metadata": {},
     "output_type": "display_data"
    }
   ],
   "source": [
    "# Example 1-D model (toy). Replace with your actual model arrays.\n",
    "# r_model in meters from Earth center (0..R_ref), assume sorted ascending\n",
    "R_ref = 6371e3                     # model reference radius (m)\n",
    "r_model = collect(0.0:1000.0:R_ref)  # example radius grid\n",
    "v_model = 5000 .- 0.5 .* (R_ref .- r_model) ./ 1000  # dummy profile"
   ]
  },
  {
   "cell_type": "code",
   "execution_count": 5,
   "id": "a30a73c7",
   "metadata": {},
   "outputs": [
    {
     "data": {
      "text/plain": [
       "6372-element extrapolate(interpolate((::Vector{Float64},), ::Vector{Float64}, Gridded(Linear())), Flat()) with element type Float64:\n",
       " 1814.5\n",
       " 1815.0\n",
       " 1815.5\n",
       " 1816.0\n",
       " 1816.5\n",
       " 1817.0\n",
       " 1817.5\n",
       " 1818.0\n",
       " 1818.5\n",
       " 1819.0\n",
       "    ⋮\n",
       " 4996.0\n",
       " 4996.5\n",
       " 4997.0\n",
       " 4997.5\n",
       " 4998.0\n",
       " 4998.5\n",
       " 4999.0\n",
       " 4999.5\n",
       " 5000.0"
      ]
     },
     "metadata": {},
     "output_type": "display_data"
    }
   ],
   "source": [
    "# create an interpolator in radius space (ensure interpolation domain covers used r)\n",
    "itp = LinearInterpolation(r_model, v_model; extrapolation_bc=Flat())"
   ]
  },
  {
   "cell_type": "code",
   "execution_count": 6,
   "id": "0371922d",
   "metadata": {},
   "outputs": [
    {
     "data": {
      "text/plain": [
       "ellipsoid_surface_radius (generic function with 1 method)"
      ]
     },
     "metadata": {},
     "output_type": "display_data"
    }
   ],
   "source": [
    "function ellipsoid_surface_radius(lat_deg, lon_deg)\n",
    "    # Geodesy.jl uses geodetic coordinates:\n",
    "    g = Geodesy.DEFAULT_GEODESY  # uses WGS84\n",
    "    gd = Geodesy.LatLon(lat_deg, lon_deg, 0.0) # altitude=0 -> ellipsoid surface\n",
    "    ecef = Geodesy.cartesian(gd) # returns ECEF Point3\n",
    "    return norm([ecef.x, ecef.y, ecef.z])  # meters\n",
    "end"
   ]
  },
  {
   "cell_type": "code",
   "execution_count": null,
   "id": "cbea704c",
   "metadata": {},
   "outputs": [],
   "source": []
  }
 ],
 "metadata": {
  "kernelspec": {
   "display_name": "Julia 1.11.7",
   "language": "julia",
   "name": "julia-1.11"
  },
  "language_info": {
   "file_extension": ".jl",
   "mimetype": "application/julia",
   "name": "julia",
   "version": "1.11.7"
  }
 },
 "nbformat": 4,
 "nbformat_minor": 5
}
