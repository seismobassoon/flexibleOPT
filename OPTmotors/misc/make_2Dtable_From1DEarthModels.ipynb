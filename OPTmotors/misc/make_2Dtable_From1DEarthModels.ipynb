{
 "cells": [
  {
   "cell_type": "markdown",
   "id": "d07f51ef",
   "metadata": {},
   "source": [
    "# make a new function to make a 2D slice based on 1D Earth model (or 2D or 3D)"
   ]
  },
  {
   "cell_type": "markdown",
   "id": "2c0fd73f",
   "metadata": {},
   "source": []
  },
  {
   "cell_type": "code",
   "execution_count": 1,
   "id": "0d0cc909",
   "metadata": {},
   "outputs": [
    {
     "name": "stderr",
     "output_type": "stream",
     "text": [
      "\u001b[32m\u001b[1m  Activating\u001b[22m\u001b[39m project at `~/Documents/Github/flexibleDSM`\n",
      "┌ Info: Including with Revise: ../src/DSM1D.jl\n",
      "└ @ Main /Users/nobuaki/Documents/Github/flexibleDSM/OPTmotors/src/batchRevise.jl:25\n"
     ]
    },
    {
     "name": "stdout",
     "output_type": "stream",
     "text": [
      "  0.004139 seconds (2.17 k allocations: 108.156 KiB, 90.99% compilation time)\n"
     ]
    }
   ],
   "source": [
    "# Nobuaki Fuji Oct 2025\n",
    "\n",
    "# breaking news! confirmed by Lorette and Stéphanie, the CMB is ellipsoidal! \n",
    "# when working with geodetic earth models, r_PREM should be corrected as a function of latitude!\n",
    "\n",
    "using Pkg\n",
    "\n",
    "\n",
    "cd(@__DIR__)\n",
    "Pkg.activate(\"../..\")\n",
    "ParamFile = \"../test/testparam.csv\"\n",
    "include(\"../src/batchRevise.jl\") \n",
    "\n",
    "myInclude(\"../src/DSM1D.jl\")\n",
    "using .DSM1D"
   ]
  },
  {
   "cell_type": "code",
   "execution_count": 2,
   "id": "26b1e2bf",
   "metadata": {},
   "outputs": [],
   "source": [
    "using Geodesy, Interpolations, StaticArrays, GMT, LinearAlgebra"
   ]
  },
  {
   "cell_type": "code",
   "execution_count": 19,
   "id": "c341e944",
   "metadata": {},
   "outputs": [
    {
     "data": {
      "text/plain": [
       "6371.0"
      ]
     },
     "metadata": {},
     "output_type": "display_data"
    }
   ],
   "source": [
    "DSM1D.my1DDSMmodel.averagedPlanetRadiusInKilometer"
   ]
  },
  {
   "cell_type": "code",
   "execution_count": 20,
   "id": "299be0a5",
   "metadata": {},
   "outputs": [
    {
     "data": {
      "text/plain": [
       "6372-element Vector{Float64}:\n",
       " 1814.5\n",
       " 1815.0\n",
       " 1815.5\n",
       " 1816.0\n",
       " 1816.5\n",
       " 1817.0\n",
       " 1817.5\n",
       " 1818.0\n",
       " 1818.5\n",
       " 1819.0\n",
       "    ⋮\n",
       " 4996.0\n",
       " 4996.5\n",
       " 4997.0\n",
       " 4997.5\n",
       " 4998.0\n",
       " 4998.5\n",
       " 4999.0\n",
       " 4999.5\n",
       " 5000.0"
      ]
     },
     "metadata": {},
     "output_type": "display_data"
    }
   ],
   "source": [
    "# Example 1-D model (toy). Replace with your actual model arrays.\n",
    "# r_model in meters from Earth center (0..R_ref), assume sorted ascending\n",
    "R_ref = DSM1D.my1DDSMmodel.averagedPlanetRadiusInKilometer*1.e3                   # model reference radius (m)\n",
    "r_model = collect(0.0:1000.0:R_ref)  # example radius grid\n",
    "v_model = 5000 .- 0.5 .* (R_ref .- r_model) ./ 1000  # dummy profile"
   ]
  },
  {
   "cell_type": "code",
   "execution_count": 5,
   "id": "a30a73c7",
   "metadata": {},
   "outputs": [
    {
     "data": {
      "text/plain": [
       "6372-element extrapolate(interpolate((::Vector{Float64},), ::Vector{Float64}, Gridded(Linear())), Flat()) with element type Float64:\n",
       " 1814.5\n",
       " 1815.0\n",
       " 1815.5\n",
       " 1816.0\n",
       " 1816.5\n",
       " 1817.0\n",
       " 1817.5\n",
       " 1818.0\n",
       " 1818.5\n",
       " 1819.0\n",
       "    ⋮\n",
       " 4996.0\n",
       " 4996.5\n",
       " 4997.0\n",
       " 4997.5\n",
       " 4998.0\n",
       " 4998.5\n",
       " 4999.0\n",
       " 4999.5\n",
       " 5000.0"
      ]
     },
     "metadata": {},
     "output_type": "display_data"
    }
   ],
   "source": [
    "# create an interpolator in radius space (ensure interpolation domain covers used r)\n",
    "itp = LinearInterpolation(r_model, v_model; extrapolation_bc=Flat())"
   ]
  },
  {
   "cell_type": "code",
   "execution_count": 118,
   "id": "7195ef07",
   "metadata": {},
   "outputs": [
    {
     "data": {
      "text/plain": [
       "topographyFromGeoPoint (generic function with 1 method)"
      ]
     },
     "metadata": {},
     "output_type": "display_data"
    }
   ],
   "source": [
    "import Base: +,-,/\n",
    "struct GeoPoint\n",
    "    lat::Float64 # in degree\n",
    "    lon::Float64 # in degree\n",
    "    alt::Float64 # in metre\n",
    "    ecef::SVector{3,Float64}\n",
    "    radius::Float64 # in metre\n",
    "    #effectiveRadius::Float64 # in metre (useful to get values from 1D averaged model)\n",
    "end\n",
    "\n",
    "function GeoPoint(lat::Float64, lon::Float64; alt=0.0, ell=wgs84)\n",
    "    lla = LLA(lat,lon, alt) # be careful LLA uses degrees by default!!\n",
    "    ecef_coords = ECEF(lla,ell)\n",
    "    radius = norm([ecef_coords.x,ecef_coords.y,ecef_coords.z])\n",
    "    GeoPoint(lat, lon, alt, SVector(ecef_coords.x, ecef_coords.y, ecef_coords.z),radius)\n",
    "end\n",
    "\n",
    "\n",
    "function GeoPoint(ecef::SVector{3,Float64}; ell=wgs84)\n",
    "    lla = LLA(ECEF(ecef...),ell)\n",
    "    radius = norm(ecef)\n",
    "    GeoPoint(lla.lat,lla.lon,lla.alt,ecef,radius)\n",
    "end\n",
    "\n",
    "function +(a::GeoPoint,b::GeoPoint; ell=wgs84)\n",
    "    ecef=a.ecef + b.ecef\n",
    "    lla = LLA(ECEF(ecef...),ell)\n",
    "    radius = norm(ecef)\n",
    "    GeoPoint(lla.lat,lla.lon,lla.alt,ecef,radius)\n",
    "end\n",
    "\n",
    "function -(a::GeoPoint,b::GeoPoint; ell=wgs84)\n",
    "    ecef=a.ecef - b.ecef\n",
    "    lla = LLA(ECEF(ecef...),ell)\n",
    "    radius = norm(ecef)\n",
    "    GeoPoint(lla.lat,lla.lon,lla.alt,ecef,radius)\n",
    "end\n",
    "\n",
    "function /(a::GeoPoint,c::Real; ell=wgs84)\n",
    "    ecef=a.ecef / c\n",
    "    lla = LLA(ECEF(ecef...),ell)\n",
    "    radius = norm(ecef)\n",
    "    GeoPoint(lla.lat,lla.lon,lla.alt,ecef,radius)\n",
    "end\n",
    "\n",
    "\n",
    "function effectiveRadius(a::GeoPoint,r0::Float64; ell=wgs84)\n",
    "    radiusPlanetHere = GeoPoint(a.lat,a.lon).radius \n",
    "    ratio = r0/radiusPlanetHere\n",
    "    return a.radius*ratio\n",
    "end\n",
    "\n",
    "function topographyFromGeoPoint(p::GeoPoint; dlon=0.01, dlat=0.01, precision=\"@earth_relief_01m\")\n",
    "    region = [p.lon - dlon, p.lon + dlon, p.lat - dlat, p.lat + dlat]\n",
    "    topo = GMT.grdcut(precision, region=region)\n",
    "    return GMT.grd2xyz(topo).z[1]  # or mean(topo.z) if you prefer\n",
    "end\n"
   ]
  },
  {
   "cell_type": "code",
   "execution_count": 83,
   "id": "4bedf956",
   "metadata": {},
   "outputs": [
    {
     "name": "stdout",
     "output_type": "stream",
     "text": [
      "GeoPoint(p1.ecef) = GeoPoint(48.8566, 2.3522000000000003, 7.047140324999535e-10, [4.200914795649138e6, 172559.77631070156, 4.780081341967356e6], 6.366053693814456e6)\n",
      "p0 = (p1 + p2) / 2.0 = GeoPoint(45.82989800475024, 1.9029714540760907, -8978.352692728113, [4.443193158578102e6, 147626.58304377226, 4.545653677986095e6], 6.358201507709939e6)\n"
     ]
    },
    {
     "data": {
      "text/plain": [
       "GeoPoint(45.82989800475024, 1.9029714540760907, -8978.352692728113, [4.443193158578102e6, 147626.58304377226, 4.545653677986095e6], 6.358201507709939e6)"
      ]
     },
     "metadata": {},
     "output_type": "display_data"
    }
   ],
   "source": [
    "p1 = GeoPoint(48.8566,2.3522) # Paris\n",
    "p2 = GeoPoint(42.8,1.5) # Tarascon (à peu près)\n",
    "#topographyFromGeoPoint(p1)\n",
    "@show GeoPoint(p1.ecef)\n",
    "@show p0 = (p1 + p2)/2.0\n"
   ]
  },
  {
   "cell_type": "code",
   "execution_count": 84,
   "id": "adcbda93",
   "metadata": {},
   "outputs": [
    {
     "data": {
      "text/plain": [
       "3-element SVector{3, Float64} with indices SOneTo(3):\n",
       "  0.7166970175507206\n",
       " -0.07375625720924696\n",
       " -0.693473431038555"
      ]
     },
     "metadata": {},
     "output_type": "display_data"
    }
   ],
   "source": [
    "# pre-definition of x-axis vector p1->p2 (normally this is not the one we want)\n",
    "p2_1 = p2-p1\n",
    "x_axis_tentative = (p2_1/p2_1.radius).ecef\n"
   ]
  },
  {
   "cell_type": "code",
   "execution_count": 85,
   "id": "45025ca4",
   "metadata": {},
   "outputs": [
    {
     "data": {
      "text/plain": [
       "3-element SVector{3, Float64} with indices SOneTo(3):\n",
       " 0.698812888076966\n",
       " 0.023218292604404035\n",
       " 0.7149275895823759"
      ]
     },
     "metadata": {},
     "output_type": "display_data"
    }
   ],
   "source": [
    "# definition of z-axis vector p0 -> p0_surface\n",
    "\n",
    "z_axis = (p0/p0.radius).ecef"
   ]
  },
  {
   "cell_type": "code",
   "execution_count": 86,
   "id": "72039663",
   "metadata": {},
   "outputs": [
    {
     "data": {
      "text/plain": [
       "3-element SVector{3, Float64} with indices SOneTo(3):\n",
       "  0.036629318622305354\n",
       "  0.9970002078796852\n",
       " -0.06818268478968828"
      ]
     },
     "metadata": {},
     "output_type": "display_data"
    }
   ],
   "source": [
    "# y-axis: complete right-handed system\n",
    "y_axis = normalize(cross(z_axis, x_axis_tentative))"
   ]
  },
  {
   "cell_type": "code",
   "execution_count": 87,
   "id": "b1cb69ac",
   "metadata": {},
   "outputs": [
    {
     "data": {
      "text/plain": [
       "3-element SVector{3, Float64} with indices SOneTo(3):\n",
       "  0.7143660409585519\n",
       " -0.07383424934541309\n",
       " -0.6958661244440657"
      ]
     },
     "metadata": {},
     "output_type": "display_data"
    }
   ],
   "source": [
    "x_axis = cross(y_axis, z_axis)  # now perfectly orthogonal"
   ]
  },
  {
   "cell_type": "code",
   "execution_count": 88,
   "id": "7feea3e8",
   "metadata": {},
   "outputs": [
    {
     "data": {
      "text/plain": [
       "3×3 SMatrix{3, 3, Float64, 9} with indices SOneTo(3)×SOneTo(3):\n",
       " 0.714366   -0.0738342  -0.695866\n",
       " 0.0366293   0.997      -0.0681827\n",
       " 0.698813    0.0232183   0.714928"
      ]
     },
     "metadata": {},
     "output_type": "display_data"
    }
   ],
   "source": [
    "#Rotation matrix\n",
    "R = SMatrix{3,3,Float64}(\n",
    "    x_axis[1], y_axis[1], z_axis[1],\n",
    "    x_axis[2], y_axis[2], z_axis[2],\n",
    "    x_axis[3], y_axis[3], z_axis[3]\n",
    ")"
   ]
  },
  {
   "cell_type": "code",
   "execution_count": 89,
   "id": "1777feca",
   "metadata": {},
   "outputs": [
    {
     "data": {
      "text/plain": [
       "p_2D_to_ECEF (generic function with 1 method)"
      ]
     },
     "metadata": {},
     "output_type": "display_data"
    }
   ],
   "source": [
    "p_2D_to_ECEF(x_2D,z_2D,pOrigin::SVector{3,Float64},R::SMatrix{3,3,Float64}) = pOrigin+R*SVector(x_2D,0.e0,z_2D)"
   ]
  },
  {
   "cell_type": "code",
   "execution_count": 90,
   "id": "eec1a7f9",
   "metadata": {},
   "outputs": [
    {
     "data": {
      "text/plain": [
       "p_ECEF_to_2D (generic function with 1 method)"
      ]
     },
     "metadata": {},
     "output_type": "display_data"
    }
   ],
   "source": [
    "p_ECEF_to_2D(p_3D::SVector{3,Float64},pOrigin::SVector{3,Float64},R::SMatrix{3,3,Float64}) = R' * (p_3D - pOrigin)"
   ]
  },
  {
   "cell_type": "code",
   "execution_count": null,
   "id": "b55f2301",
   "metadata": {},
   "outputs": [],
   "source": []
  },
  {
   "cell_type": "code",
   "execution_count": 91,
   "id": "538ed170",
   "metadata": {},
   "outputs": [
    {
     "data": {
      "text/plain": [
       "3-element SVector{3, Float64} with indices SOneTo(3):\n",
       "    8341.076143154814\n",
       "  -48189.85002661229\n",
       " -334492.0981322616"
      ]
     },
     "metadata": {},
     "output_type": "display_data"
    }
   ],
   "source": [
    "p_ECEF_to_2D(p0.ecef, p1.ecef,R)"
   ]
  },
  {
   "cell_type": "code",
   "execution_count": 96,
   "id": "fa555934",
   "metadata": {},
   "outputs": [
    {
     "data": {
      "text/plain": [
       "3-element SVector{3, Float64} with indices SOneTo(3):\n",
       "      4.200914099783014e6\n",
       " 172559.70812801676\n",
       "      4.780082056894946e6"
      ]
     },
     "metadata": {},
     "output_type": "display_data"
    }
   ],
   "source": [
    "p0_1m_above=p_2D_to_ECEF(0,1,p1.ecef,R)"
   ]
  },
  {
   "cell_type": "code",
   "execution_count": 97,
   "id": "6dae34a0",
   "metadata": {},
   "outputs": [
    {
     "data": {
      "text/plain": [
       "3-element SVector{3, Float64} with indices SOneTo(3):\n",
       " -2.2947774760174783e-10\n",
       "  6.235097495158809e-12\n",
       "  1.0000000001379907"
      ]
     },
     "metadata": {},
     "output_type": "display_data"
    }
   ],
   "source": [
    "p_ECEF_to_2D(p0_1m_above, p1.ecef,R)"
   ]
  },
  {
   "cell_type": "code",
   "execution_count": 99,
   "id": "e9bb26a9",
   "metadata": {},
   "outputs": [
    {
     "data": {
      "text/plain": [
       "-400000.0"
      ]
     },
     "metadata": {},
     "output_type": "display_data"
    }
   ],
   "source": [
    "Δx = 500 # in metre\n",
    "Δz = 500\n",
    "\n",
    "altMax = 5000 # in metre\n",
    "altMin = -400.e3 # in metre"
   ]
  },
  {
   "cell_type": "code",
   "execution_count": 100,
   "id": "2fc45c28",
   "metadata": {},
   "outputs": [],
   "source": [
    "# since p1 and p2 can be even out of the solid Earth or inside the Earth\n",
    "# I define that p1 and p2 should be the left and right limits"
   ]
  },
  {
   "cell_type": "code",
   "execution_count": 101,
   "id": "6254253a",
   "metadata": {},
   "outputs": [
    {
     "data": {
      "text/plain": [
       "676097.0312306838"
      ]
     },
     "metadata": {},
     "output_type": "display_data"
    }
   ],
   "source": [
    "leftLimit = 0 # in metre so x is always non-negative\n",
    "rightLimit = p2_1.radius\n"
   ]
  },
  {
   "cell_type": "code",
   "execution_count": 109,
   "id": "c40352eb",
   "metadata": {},
   "outputs": [
    {
     "name": "stdout",
     "output_type": "stream",
     "text": [
      "Nx = Int64((rightLimit - leftLimit) ÷ Δx + 1) = 1353\n",
      "Nz = Int64((altMax - altMin) ÷ Δz + 1) = 811\n"
     ]
    },
    {
     "data": {
      "text/plain": [
       "811"
      ]
     },
     "metadata": {},
     "output_type": "display_data"
    }
   ],
   "source": [
    "@show Nx = Int64((rightLimit-leftLimit) ÷ Δx+1) \n",
    "@show Nz = Int64((altMax-altMin) ÷ Δz + 1 ) "
   ]
  },
  {
   "cell_type": "code",
   "execution_count": 125,
   "id": "e0173df5",
   "metadata": {},
   "outputs": [],
   "source": [
    "allGridsInGeoPoints=Array{GeoPoint,2}(undef,Nx,Nz)\n",
    "effectiveRadii=Array{Float64,2}(undef,Nx,Nz)\n",
    "for iXZ in CartesianIndices(allGridsInGeoPoints)\n",
    "    ix, iz = Tuple(iXZ)\n",
    "    x = leftLimit+(ix-1)*Δx\n",
    "    z = altMin+(iz-1)*Δz \n",
    "    tmpGeoPoint=GeoPoint(p_2D_to_ECEF(x,z,p1.ecef,R))\n",
    "    allGridsInGeoPoints[iXZ]=tmpGeoPoint\n",
    "    effectiveRadii[iXZ]=effectiveRadius(tmpGeoPoint,DSM1D.my1DDSMmodel.averagedPlanetRadiusInKilometer*1.e3 )\n",
    "end"
   ]
  },
  {
   "cell_type": "code",
   "execution_count": 126,
   "id": "284400ed",
   "metadata": {},
   "outputs": [
    {
     "data": {
      "text/plain": [
       "GeoPoint(45.26820230196961, 2.5540239364680706, -18090.050762195096, [4.479279745343279e6, 199801.2968604095, 4.495524046612065e6], 6.349299492773748e6)"
      ]
     },
     "metadata": {},
     "output_type": "display_data"
    }
   ],
   "source": [
    "allGridsInGeoPoints[3,3]"
   ]
  },
  {
   "cell_type": "code",
   "execution_count": 127,
   "id": "280a4f86",
   "metadata": {},
   "outputs": [
    {
     "data": {
      "text/plain": [
       "6.4514247701887805e6"
      ]
     },
     "metadata": {},
     "output_type": "display_data"
    }
   ],
   "source": [
    "effectiveRadii[200,1]"
   ]
  },
  {
   "cell_type": "code",
   "execution_count": 128,
   "id": "fa2c6a4b",
   "metadata": {},
   "outputs": [
    {
     "data": {
      "text/plain": [
       "6.351882957945972e6"
      ]
     },
     "metadata": {},
     "output_type": "display_data"
    }
   ],
   "source": [
    "minimum(effectiveRadii)"
   ]
  },
  {
   "cell_type": "code",
   "execution_count": null,
   "id": "cc026d44",
   "metadata": {},
   "outputs": [],
   "source": []
  }
 ],
 "metadata": {
  "kernelspec": {
   "display_name": "Julia 1.11.7",
   "language": "julia",
   "name": "julia-1.11"
  },
  "language_info": {
   "file_extension": ".jl",
   "mimetype": "application/julia",
   "name": "julia",
   "version": "1.11.7"
  }
 },
 "nbformat": 4,
 "nbformat_minor": 5
}
