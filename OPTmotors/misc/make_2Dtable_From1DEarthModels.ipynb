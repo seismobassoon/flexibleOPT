{
 "cells": [
  {
   "cell_type": "markdown",
   "id": "d07f51ef",
   "metadata": {},
   "source": [
    "# make a new function to make a 2D slice based on 1D Earth model (or 2D or 3D)"
   ]
  },
  {
   "cell_type": "markdown",
   "id": "2c0fd73f",
   "metadata": {},
   "source": []
  },
  {
   "cell_type": "code",
   "execution_count": null,
   "id": "0d0cc909",
   "metadata": {},
   "outputs": [
    {
     "name": "stderr",
     "output_type": "stream",
     "text": [
      "\u001b[32m\u001b[1m  Activating\u001b[22m\u001b[39m "
     ]
    }
   ],
   "source": [
    "# Nobuaki Fuji Oct 2025\n",
    "\n",
    "# breaking news! confirmed by Lorette and Stéphanie, the CMB is ellipsoidal! \n",
    "# when working with geodetic earth models, r_PREM should be corrected as a function of latitude!\n",
    "\n",
    "using Pkg\n",
    "\n",
    "\n",
    "cd(@__DIR__)\n",
    "Pkg.activate(\"../..\")\n",
    "ParamFile = \"../test/testparam.csv\"\n",
    "include(\"../src/batchRevise.jl\") \n",
    "\n",
    "myInclude(\"../src/DSM1D.jl\")\n",
    "using .DSM1D"
   ]
  },
  {
   "cell_type": "code",
   "execution_count": null,
   "id": "26b1e2bf",
   "metadata": {},
   "outputs": [],
   "source": [
    "using Geodesy, Interpolations, StaticArrays, GMT, LinearAlgebra"
   ]
  },
  {
   "cell_type": "code",
   "execution_count": null,
   "id": "c341e944",
   "metadata": {},
   "outputs": [],
   "source": [
    "DSM1D.my1DDSMmodel.averagedPlanetRadiusInKilometer"
   ]
  },
  {
   "cell_type": "code",
   "execution_count": null,
   "id": "299be0a5",
   "metadata": {},
   "outputs": [],
   "source": [
    "# Example 1-D model (toy). Replace with your actual model arrays.\n",
    "# r_model in meters from Earth center (0..R_ref), assume sorted ascending\n",
    "R_ref = DSM1D.my1DDSMmodel.averagedPlanetRadiusInKilometer*1.e3                   # model reference radius (m)\n",
    "r_model = collect(0.0:1000.0:R_ref)  # example radius grid\n",
    "v_model = 5000 .- 0.5 .* (R_ref .- r_model) ./ 1000  # dummy profile"
   ]
  },
  {
   "cell_type": "code",
   "execution_count": null,
   "id": "a30a73c7",
   "metadata": {},
   "outputs": [],
   "source": [
    "# create an interpolator in radius space (ensure interpolation domain covers used r)\n",
    "itp = LinearInterpolation(r_model, v_model; extrapolation_bc=Flat())"
   ]
  },
  {
   "cell_type": "code",
   "execution_count": null,
   "id": "7195ef07",
   "metadata": {},
   "outputs": [],
   "source": [
    "import Base: +,-,/\n",
    "struct GeoPoint\n",
    "    lat::Float64 # in degree\n",
    "    lon::Float64 # in degree\n",
    "    alt::Float64 # in metre\n",
    "    ecef::SVector{3,Float64}\n",
    "    radius::Float64 # in metre\n",
    "    #effectiveRadius::Float64 # in metre (useful to get values from 1D averaged model)\n",
    "end\n",
    "\n",
    "function GeoPoint(lat::Float64, lon::Float64; alt=0.0, ell=wgs84)\n",
    "    lla = LLA(lat,lon, alt) # be careful LLA uses degrees by default!!\n",
    "    ecef_coords = ECEF(lla,ell)\n",
    "    radius = norm([ecef_coords.x,ecef_coords.y,ecef_coords.z])\n",
    "    GeoPoint(lat, lon, alt, SVector(ecef_coords.x, ecef_coords.y, ecef_coords.z),radius)\n",
    "end\n",
    "\n",
    "\n",
    "function GeoPoint(ecef::SVector{3,Float64}; ell=wgs84)\n",
    "    lla = LLA(ECEF(ecef...),ell)\n",
    "    radius = norm(ecef)\n",
    "    GeoPoint(lla.lat,lla.lon,lla.alt,ecef,radius)\n",
    "end\n",
    "\n",
    "function +(a::GeoPoint,b::GeoPoint; ell=wgs84)\n",
    "    ecef=a.ecef + b.ecef\n",
    "    lla = LLA(ECEF(ecef...),ell)\n",
    "    radius = norm(ecef)\n",
    "    GeoPoint(lla.lat,lla.lon,lla.alt,ecef,radius)\n",
    "end\n",
    "\n",
    "function -(a::GeoPoint,b::GeoPoint; ell=wgs84)\n",
    "    ecef=a.ecef - b.ecef\n",
    "    lla = LLA(ECEF(ecef...),ell)\n",
    "    radius = norm(ecef)\n",
    "    GeoPoint(lla.lat,lla.lon,lla.alt,ecef,radius)\n",
    "end\n",
    "\n",
    "function /(a::GeoPoint,c::Real; ell=wgs84)\n",
    "    ecef=a.ecef / c\n",
    "    lla = LLA(ECEF(ecef...),ell)\n",
    "    radius = norm(ecef)\n",
    "    GeoPoint(lla.lat,lla.lon,lla.alt,ecef,radius)\n",
    "end\n",
    "\n",
    "\n",
    "function effectiveRadius(a::GeoPoint,r0::Float64; ell=wgs84)\n",
    "    radiusPlanetHere = GeoPoint(a.lat,a.lon).radius \n",
    "    ratio = r0/radiusPlanetHere\n",
    "    return a.radius*ratio\n",
    "end\n",
    "\n",
    "function topographyFromGeoPoint(p::GeoPoint; dlon=0.01, dlat=0.01, precision=\"@earth_relief_01m\")\n",
    "    region = [p.lon - dlon, p.lon + dlon, p.lat - dlat, p.lat + dlat]\n",
    "    topo = GMT.grdcut(precision, region=region)\n",
    "    return GMT.grd2xyz(topo).z[1]  # or mean(topo.z) if you prefer\n",
    "end\n"
   ]
  },
  {
   "cell_type": "code",
   "execution_count": null,
   "id": "4bedf956",
   "metadata": {},
   "outputs": [],
   "source": [
    "p1 = GeoPoint(48.8566,2.3522) # Paris\n",
    "p2 = GeoPoint(42.8,1.5) # Tarascon (à peu près)\n",
    "#topographyFromGeoPoint(p1)\n",
    "@show GeoPoint(p1.ecef)\n",
    "@show p0 = (p1 + p2)/2.0\n"
   ]
  },
  {
   "cell_type": "code",
   "execution_count": null,
   "id": "adcbda93",
   "metadata": {},
   "outputs": [],
   "source": [
    "# pre-definition of x-axis vector p1->p2 (normally this is not the one we want)\n",
    "p2_1 = p2-p1\n",
    "x_axis_tentative = (p2_1/p2_1.radius).ecef\n"
   ]
  },
  {
   "cell_type": "code",
   "execution_count": null,
   "id": "45025ca4",
   "metadata": {},
   "outputs": [],
   "source": [
    "# definition of z-axis vector p0 -> p0_surface\n",
    "\n",
    "z_axis = (p0/p0.radius).ecef"
   ]
  },
  {
   "cell_type": "code",
   "execution_count": null,
   "id": "72039663",
   "metadata": {},
   "outputs": [],
   "source": [
    "# y-axis: complete right-handed system\n",
    "y_axis = normalize(cross(z_axis, x_axis_tentative))"
   ]
  },
  {
   "cell_type": "code",
   "execution_count": null,
   "id": "b1cb69ac",
   "metadata": {},
   "outputs": [],
   "source": [
    "x_axis = cross(y_axis, z_axis)  # now perfectly orthogonal"
   ]
  },
  {
   "cell_type": "code",
   "execution_count": null,
   "id": "7feea3e8",
   "metadata": {},
   "outputs": [],
   "source": [
    "#Rotation matrix\n",
    "R = SMatrix{3,3,Float64}(\n",
    "    x_axis[1], y_axis[1], z_axis[1],\n",
    "    x_axis[2], y_axis[2], z_axis[2],\n",
    "    x_axis[3], y_axis[3], z_axis[3]\n",
    ")"
   ]
  },
  {
   "cell_type": "code",
   "execution_count": null,
   "id": "1777feca",
   "metadata": {},
   "outputs": [],
   "source": [
    "p_2D_to_ECEF(x_2D,z_2D,pOrigin::SVector{3,Float64},R::SMatrix{3,3,Float64}) = pOrigin+R*SVector(x_2D,0.e0,z_2D)"
   ]
  },
  {
   "cell_type": "code",
   "execution_count": null,
   "id": "eec1a7f9",
   "metadata": {},
   "outputs": [],
   "source": [
    "p_ECEF_to_2D(p_3D::SVector{3,Float64},pOrigin::SVector{3,Float64},R::SMatrix{3,3,Float64}) = R' * (p_3D - pOrigin)"
   ]
  },
  {
   "cell_type": "code",
   "execution_count": null,
   "id": "b55f2301",
   "metadata": {},
   "outputs": [],
   "source": []
  },
  {
   "cell_type": "code",
   "execution_count": null,
   "id": "538ed170",
   "metadata": {},
   "outputs": [],
   "source": [
    "p_ECEF_to_2D(p0.ecef, p1.ecef,R)"
   ]
  },
  {
   "cell_type": "code",
   "execution_count": null,
   "id": "fa555934",
   "metadata": {},
   "outputs": [],
   "source": [
    "p0_1m_above=p_2D_to_ECEF(0,1,p1.ecef,R)"
   ]
  },
  {
   "cell_type": "code",
   "execution_count": null,
   "id": "6dae34a0",
   "metadata": {},
   "outputs": [],
   "source": [
    "p_ECEF_to_2D(p0_1m_above, p1.ecef,R)"
   ]
  },
  {
   "cell_type": "code",
   "execution_count": null,
   "id": "e9bb26a9",
   "metadata": {},
   "outputs": [],
   "source": [
    "Δx = 500 # in metre\n",
    "Δz = 500\n",
    "\n",
    "altMax = 5000 # in metre\n",
    "altMin = -400.e3 # in metre"
   ]
  },
  {
   "cell_type": "code",
   "execution_count": null,
   "id": "2fc45c28",
   "metadata": {},
   "outputs": [],
   "source": [
    "# since p1 and p2 can be even out of the solid Earth or inside the Earth\n",
    "# I define that p1 and p2 should be the left and right limits"
   ]
  },
  {
   "cell_type": "code",
   "execution_count": null,
   "id": "6254253a",
   "metadata": {},
   "outputs": [],
   "source": [
    "leftLimit = 0 # in metre so x is always non-negative\n",
    "rightLimit = p2_1.radius\n"
   ]
  },
  {
   "cell_type": "code",
   "execution_count": null,
   "id": "c40352eb",
   "metadata": {},
   "outputs": [],
   "source": [
    "@show Nx = Int64((rightLimit-leftLimit) ÷ Δx+1) \n",
    "@show Nz = Int64((altMax-altMin) ÷ Δz + 1 ) "
   ]
  },
  {
   "cell_type": "code",
   "execution_count": null,
   "id": "b98f97ff",
   "metadata": {},
   "outputs": [],
   "source": [
    "DSM1D.my1DDSMmodel.C_Qκ"
   ]
  },
  {
   "cell_type": "code",
   "execution_count": null,
   "id": "21df6ddb",
   "metadata": {},
   "outputs": [],
   "source": [
    "myRadiiArray=[5330.0,7330.0]"
   ]
  },
  {
   "cell_type": "code",
   "execution_count": null,
   "id": "a3523059",
   "metadata": {},
   "outputs": [],
   "source": [
    "radii,params=DSM1D.compute1DseismicParamtersFromPolynomialCoefficientsWithGivenRadiiArray(DSM1D.my1DDSMmodel,myRadiiArray,\"below\")\n",
    "params.Vph"
   ]
  },
  {
   "cell_type": "code",
   "execution_count": null,
   "id": "e0173df5",
   "metadata": {},
   "outputs": [],
   "source": [
    "allGridsInGeoPoints=Array{GeoPoint,2}(undef,Nx,Nz)\n",
    "effectiveRadii=Array{Float64,2}(undef,Nx,Nz)\n",
    "for iXZ in CartesianIndices(allGridsInGeoPoints)\n",
    "    ix, iz = Tuple(iXZ)\n",
    "    x = leftLimit+(ix-1)*Δx\n",
    "    z = altMin+(iz-1)*Δz \n",
    "    tmpGeoPoint=GeoPoint(p_2D_to_ECEF(x,z,p1.ecef,R))\n",
    "    allGridsInGeoPoints[iXZ]=tmpGeoPoint\n",
    "    effectiveRadii[iXZ]=effectiveRadius(tmpGeoPoint,DSM1D.my1DDSMmodel.averagedPlanetRadiusInKilometer*1.e3 )\n",
    "end"
   ]
  },
  {
   "cell_type": "code",
   "execution_count": null,
   "id": "284400ed",
   "metadata": {},
   "outputs": [],
   "source": [
    "allGridsInGeoPoints[3,3]"
   ]
  },
  {
   "cell_type": "code",
   "execution_count": null,
   "id": "280a4f86",
   "metadata": {},
   "outputs": [],
   "source": [
    "effectiveRadii[200,1]"
   ]
  },
  {
   "cell_type": "code",
   "execution_count": null,
   "id": "fa2c6a4b",
   "metadata": {},
   "outputs": [],
   "source": [
    "minimum(effectiveRadii)"
   ]
  },
  {
   "cell_type": "code",
   "execution_count": null,
   "id": "cc026d44",
   "metadata": {},
   "outputs": [],
   "source": [
    "# now I need to use "
   ]
  }
 ],
 "metadata": {
  "kernelspec": {
   "display_name": "Julia 1.11.7",
   "language": "julia",
   "name": "julia-1.11"
  },
  "language_info": {
   "file_extension": ".jl",
   "mimetype": "application/julia",
   "name": "julia",
   "version": "1.11.7"
  }
 },
 "nbformat": 4,
 "nbformat_minor": 5
}
