{
 "cells": [
  {
   "cell_type": "markdown",
   "id": "d07f51ef",
   "metadata": {},
   "source": [
    "# make a new function to make a 2D slice based on 1D Earth model (or 2D or 3D)"
   ]
  },
  {
   "cell_type": "markdown",
   "id": "2c0fd73f",
   "metadata": {},
   "source": []
  },
  {
   "cell_type": "code",
   "execution_count": 1,
   "id": "0d0cc909",
   "metadata": {},
   "outputs": [
    {
     "name": "stderr",
     "output_type": "stream",
     "text": [
      "\u001b[32m\u001b[1m  Activating\u001b[22m\u001b[39m project at `~/Documents/Github/flexibleDSM`\n",
      "┌ Info: Including with Revise: ../src/DSM1D.jl\n",
      "└ @ Main /Users/nobuaki/Documents/Github/flexibleDSM/OPTmotors/src/batchRevise.jl:25\n"
     ]
    },
    {
     "name": "stdout",
     "output_type": "stream",
     "text": [
      "  0.004688 seconds (2.17 k allocations: 108.156 KiB, 84.99% compilation time)\n"
     ]
    }
   ],
   "source": [
    "# Nobuaki Fuji Oct 2025\n",
    "\n",
    "# breaking news! confirmed by Lorette and Stéphanie, the CMB is ellipsoidal! \n",
    "# when working with geodetic earth models, r_PREM should be corrected as a function of latitude!\n",
    "\n",
    "using Pkg\n",
    "\n",
    "\n",
    "cd(@__DIR__)\n",
    "Pkg.activate(\"../..\")\n",
    "ParamFile = \"../test/testparam.csv\"\n",
    "include(\"../src/batchRevise.jl\") \n",
    "\n",
    "myInclude(\"../src/DSM1D.jl\")\n",
    "using .DSM1D"
   ]
  },
  {
   "cell_type": "code",
   "execution_count": 9,
   "id": "26b1e2bf",
   "metadata": {},
   "outputs": [],
   "source": [
    "using Geodesy, Interpolations, StaticArrays, GMT, LinearAlgebra"
   ]
  },
  {
   "cell_type": "code",
   "execution_count": 3,
   "id": "299be0a5",
   "metadata": {},
   "outputs": [
    {
     "data": {
      "text/plain": [
       "6372-element Vector{Float64}:\n",
       " 1814.5\n",
       " 1815.0\n",
       " 1815.5\n",
       " 1816.0\n",
       " 1816.5\n",
       " 1817.0\n",
       " 1817.5\n",
       " 1818.0\n",
       " 1818.5\n",
       " 1819.0\n",
       "    ⋮\n",
       " 4996.0\n",
       " 4996.5\n",
       " 4997.0\n",
       " 4997.5\n",
       " 4998.0\n",
       " 4998.5\n",
       " 4999.0\n",
       " 4999.5\n",
       " 5000.0"
      ]
     },
     "metadata": {},
     "output_type": "display_data"
    }
   ],
   "source": [
    "# Example 1-D model (toy). Replace with your actual model arrays.\n",
    "# r_model in meters from Earth center (0..R_ref), assume sorted ascending\n",
    "R_ref = 6371e3                     # model reference radius (m)\n",
    "r_model = collect(0.0:1000.0:R_ref)  # example radius grid\n",
    "v_model = 5000 .- 0.5 .* (R_ref .- r_model) ./ 1000  # dummy profile"
   ]
  },
  {
   "cell_type": "code",
   "execution_count": 4,
   "id": "a30a73c7",
   "metadata": {},
   "outputs": [
    {
     "data": {
      "text/plain": [
       "6372-element extrapolate(interpolate((::Vector{Float64},), ::Vector{Float64}, Gridded(Linear())), Flat()) with element type Float64:\n",
       " 1814.5\n",
       " 1815.0\n",
       " 1815.5\n",
       " 1816.0\n",
       " 1816.5\n",
       " 1817.0\n",
       " 1817.5\n",
       " 1818.0\n",
       " 1818.5\n",
       " 1819.0\n",
       "    ⋮\n",
       " 4996.0\n",
       " 4996.5\n",
       " 4997.0\n",
       " 4997.5\n",
       " 4998.0\n",
       " 4998.5\n",
       " 4999.0\n",
       " 4999.5\n",
       " 5000.0"
      ]
     },
     "metadata": {},
     "output_type": "display_data"
    }
   ],
   "source": [
    "# create an interpolator in radius space (ensure interpolation domain covers used r)\n",
    "itp = LinearInterpolation(r_model, v_model; extrapolation_bc=Flat())"
   ]
  },
  {
   "cell_type": "code",
   "execution_count": 25,
   "id": "7195ef07",
   "metadata": {},
   "outputs": [
    {
     "data": {
      "text/plain": [
       "topographyFromGeoPoint (generic function with 1 method)"
      ]
     },
     "metadata": {},
     "output_type": "display_data"
    }
   ],
   "source": [
    "struct GeoPoint\n",
    "    lat::Float64 # in degree\n",
    "    lon::Float64 # in degree\n",
    "    alt::Float64 # in metre\n",
    "    ecef::SVector{3,Float64}\n",
    "    radius::Float64 # in metre\n",
    "end\n",
    "\n",
    "function GeoPoint(lat, lon; alt=0.0)\n",
    "    lla = LLA(deg2rad(lat), deg2rad(lon), alt)\n",
    "    ecef_coords = ECEF(lla,wgs84)\n",
    "    radius = norm([ecef_coords.x,ecef_coords.y,ecef_coords.z])\n",
    "    GeoPoint(lat, lon, alt, SVector(ecef_coords.x, ecef_coords.y, ecef_coords.z),radius)\n",
    "end\n",
    "\n",
    "\n",
    "\n",
    "function topographyFromGeoPoint(p::GeoPoint; dlon=0.01, dlat=0.01)\n",
    "    region = [p.lon - dlon, p.lon + dlon, p.lat - dlat, p.lat + dlat]\n",
    "    topo = GMT.grdcut(\"@earth_relief_01m\", region=region)\n",
    "    return GMT.grd2xyz(topo).z[1]  # or mean(topo.z) if you prefer\n",
    "end"
   ]
  },
  {
   "cell_type": "code",
   "execution_count": 32,
   "id": "9292b208",
   "metadata": {},
   "outputs": [
    {
     "ename": "DimensionMismatch",
     "evalue": "DimensionMismatch: No precise constructor for ECEF found. Length of input was 4.",
     "output_type": "error",
     "traceback": [
      "DimensionMismatch: No precise constructor for ECEF found. Length of input was 4.\n",
      "\n",
      "Stacktrace:\n",
      " [1] _no_precise_size(SA::Type, x::Tuple{Float64, Float64, Float64, WGS84{Nothing}})\n",
      "   @ StaticArrays ~/.julia/packages/StaticArrays/DsPgf/src/convert.jl:169\n",
      " [2] _no_precise_size(SA::Type, x::StaticArrays.Args{Tuple{Float64, Float64, Float64, WGS84{Nothing}}})\n",
      "   @ StaticArrays ~/.julia/packages/StaticArrays/DsPgf/src/convert.jl:168\n",
      " [3] length_match_size(::Type{ECEF}, x::StaticArrays.Args{Tuple{Float64, Float64, Float64, WGS84{Nothing}}})\n",
      "   @ StaticArrays ~/.julia/packages/StaticArrays/DsPgf/src/convert.jl:138\n",
      " [4] construct_type(::Type{ECEF}, x::StaticArrays.Args{Tuple{Float64, Float64, Float64, WGS84{Nothing}}})\n",
      "   @ StaticArrays ~/.julia/packages/StaticArrays/DsPgf/src/FieldArray.jl:6\n",
      " [5] ECEF(::Float64, ::Vararg{Any})\n",
      "   @ StaticArrays ~/.julia/packages/StaticArrays/DsPgf/src/convert.jl:173\n",
      " [6] top-level scope\n",
      "   @ ~/Documents/Github/flexibleDSM/OPTmotors/misc/jl_notebook_cell_df34fa98e69747e1a8f8a730347b8e2f_X16sZmlsZQ==.jl:2"
     ]
    }
   ],
   "source": [
    "p1 = GeoPoint(48.8566,2.3522) # Paris\n",
    "LLAfromECEF(ECEF(collect(p1.ecef)...,wgs84))"
   ]
  },
  {
   "cell_type": "code",
   "execution_count": 21,
   "id": "4bedf956",
   "metadata": {},
   "outputs": [
    {
     "name": "stderr",
     "output_type": "stream",
     "text": [
      "grdblend [NOTICE]: Remote data courtesy of GMT data server oceania [http://oceania.generic-mapping-tools.org]\n",
      "\n",
      "grdblend [NOTICE]: SRTM15 Earth Relief v2.7 at 01x01 arc minutes reduced by Gaussian Cartesian filtering (5.2 km fullwidth) [Tozer et al., 2019].\n",
      "grdblend [NOTICE]:   -> Download 30x30 degree grid tile (earth_relief_01m_g): N30E000\n"
     ]
    },
    {
     "ename": "ErrorException",
     "evalue": "type GMTdataset has no field z",
     "output_type": "error",
     "traceback": [
      "type GMTdataset has no field z\n",
      "\n",
      "Stacktrace:\n",
      " [1] getproperty\n",
      "   @ ./Base.jl:49 [inlined]\n",
      " [2] topographyFromGeoPoint(p::GeoPoint; dlon::Float64, dlat::Float64)\n",
      "   @ Main ~/Documents/Github/flexibleDSM/OPTmotors/misc/jl_notebook_cell_df34fa98e69747e1a8f8a730347b8e2f_X15sZmlsZQ==.jl:21\n",
      " [3] topographyFromGeoPoint(p::GeoPoint)\n",
      "   @ Main ~/Documents/Github/flexibleDSM/OPTmotors/misc/jl_notebook_cell_df34fa98e69747e1a8f8a730347b8e2f_X15sZmlsZQ==.jl:18\n",
      " [4] top-level scope\n",
      "   @ ~/Documents/Github/flexibleDSM/OPTmotors/misc/jl_notebook_cell_df34fa98e69747e1a8f8a730347b8e2f_X11sZmlsZQ==.jl:3"
     ]
    }
   ],
   "source": [
    "p1 = GeoPoint(48.8566,2.3522) # Paris\n",
    "p2 = GeoPoint(42.8,1.5) # Tarascon (à peu près)\n",
    "topographyFromGeoPoint(p1)"
   ]
  },
  {
   "cell_type": "code",
   "execution_count": null,
   "id": "adcbda93",
   "metadata": {},
   "outputs": [],
   "source": []
  },
  {
   "cell_type": "code",
   "execution_count": null,
   "id": "45025ca4",
   "metadata": {},
   "outputs": [],
   "source": []
  }
 ],
 "metadata": {
  "kernelspec": {
   "display_name": "Julia 1.11.7",
   "language": "julia",
   "name": "julia-1.11"
  },
  "language_info": {
   "file_extension": ".jl",
   "mimetype": "application/julia",
   "name": "julia",
   "version": "1.11.7"
  }
 },
 "nbformat": 4,
 "nbformat_minor": 5
}
