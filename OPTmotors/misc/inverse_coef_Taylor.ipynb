{
 "cells": [
  {
   "cell_type": "code",
   "execution_count": 1,
   "metadata": {},
   "outputs": [],
   "source": [
    "using Symbolics\n",
    "#import Pkg; Pkg.add(\"Tullio\")"
   ]
  },
  {
   "cell_type": "code",
   "execution_count": 2,
   "metadata": {},
   "outputs": [
    {
     "data": {
      "text/plain": [
       "integrateTaylorPolynomials (generic function with 1 method)"
      ]
     },
     "metadata": {},
     "output_type": "display_data"
    }
   ],
   "source": [
    "include(\"../src/batchSymbolics.jl\")"
   ]
  },
  {
   "cell_type": "code",
   "execution_count": 3,
   "metadata": {},
   "outputs": [],
   "source": [
    "# in fact inverse of symbolic matrix is suuuuper costly\n"
   ]
  },
  {
   "cell_type": "code",
   "execution_count": 5,
   "metadata": {},
   "outputs": [
    {
     "data": {
      "text/latex": [
       "$$ \\begin{equation}\n",
       "\\left[\n",
       "\\begin{array}{ccc}\n",
       "0 & 1 & 0 \\\\\n",
       "\\frac{\\frac{-1}{2}}{dx} & 0 & \\frac{\\frac{1}{2}}{dx} \\\\\n",
       "\\frac{1}{dx^{2}} & \\frac{-2}{dx^{2}} & \\frac{1}{dx^{2}} \\\\\n",
       "\\end{array}\n",
       "\\right]\n",
       "\\end{equation}\n",
       " $$"
      ],
      "text/plain": [
       "3×3 Matrix{Num}:\n",
       "            0            1            0\n",
       " (-1//2) / dx            0  (1//2) / dx\n",
       "   1 / (dx^2)  -2 / (dx^2)   1 / (dx^2)"
      ]
     },
     "metadata": {},
     "output_type": "display_data"
    }
   ],
   "source": [
    "@variables dx\n",
    "matrixA=[1 -dx dx^2//2; 1 0 0 ; 1 dx dx^2//2]\n",
    "inv(matrixA)"
   ]
  },
  {
   "cell_type": "code",
   "execution_count": 6,
   "metadata": {},
   "outputs": [
    {
     "data": {
      "text/latex": [
       "$$ \\begin{equation}\n",
       "\\left[\n",
       "\\begin{array}{ccc}\n",
       "0 & 0 & 1 \\\\\n",
       "\\frac{\\frac{1}{2}}{dx} & \\frac{-2}{dx} & \\frac{\\frac{3}{2}}{dx} \\\\\n",
       "\\frac{1}{dx^{2}} & \\frac{-2}{dx^{2}} & \\frac{1}{dx^{2}} \\\\\n",
       "\\end{array}\n",
       "\\right]\n",
       "\\end{equation}\n",
       " $$"
      ],
      "text/plain": [
       "3×3 Matrix{Num}:\n",
       "           0             0            1\n",
       " (1//2) / dx  (-2//1) / dx  (3//2) / dx\n",
       "  1 / (dx^2)   -2 / (dx^2)   1 / (dx^2)"
      ]
     },
     "metadata": {},
     "output_type": "display_data"
    }
   ],
   "source": [
    "matrixA=[1 -2*dx 4*dx^2//2; 1 -dx dx^2//2 ; 1 0 0]\n",
    "inv(matrixA)"
   ]
  },
  {
   "cell_type": "code",
   "execution_count": 7,
   "metadata": {},
   "outputs": [
    {
     "data": {
      "text/latex": [
       "$$ \\begin{equation}\n",
       "\\left[\n",
       "\\begin{array}{ccc}\n",
       "1 & 0 & 0 \\\\\n",
       "\\frac{\\frac{-3}{2}}{dx} & \\frac{2}{dx} & \\frac{\\frac{-1}{2}}{dx} \\\\\n",
       "\\frac{1}{dx^{2}} & \\frac{-2}{dx^{2}} & \\frac{1}{dx^{2}} \\\\\n",
       "\\end{array}\n",
       "\\right]\n",
       "\\end{equation}\n",
       " $$"
      ],
      "text/plain": [
       "3×3 Matrix{Num}:\n",
       "            1            0             0\n",
       " (-3//2) / dx  (2//1) / dx  (-1//2) / dx\n",
       "   1 / (dx^2)  -2 / (dx^2)    1 / (dx^2)"
      ]
     },
     "metadata": {},
     "output_type": "display_data"
    }
   ],
   "source": [
    "matrixA=[ 1 0 0;  1 dx dx^2//2  ;1 2*dx 4*dx^2//2 ]\n",
    "inv(matrixA)"
   ]
  },
  {
   "cell_type": "code",
   "execution_count": 10,
   "metadata": {},
   "outputs": [
    {
     "data": {
      "text/plain": [
       "500×500 Matrix{Float64}:\n",
       " 0.733623  0.678965   0.292076   0.276631   …  0.297259   0.211224  0.668627\n",
       " 0.196414  0.140997   0.562846   0.209272      0.0179697  0.281621  0.933231\n",
       " 0.246059  0.770486   0.496071   0.153217      0.117414   0.342212  0.374992\n",
       " 0.665363  0.0559678  0.899487   0.36161       0.297128   0.488577  0.862122\n",
       " 0.91238   0.70549    0.471176   0.576988      0.818615   0.258128  0.908585\n",
       " 0.681299  0.603588   0.828282   0.64599    …  0.422534   0.360471  0.856909\n",
       " 0.4323    0.422696   0.142108   0.365121      0.982311   0.921821  0.623476\n",
       " 0.942463  0.760295   0.361739   0.315103      0.669026   0.892801  0.399697\n",
       " 0.186851  0.884662   0.655467   0.699237      0.942236   0.188485  0.677516\n",
       " 0.96097   0.358283   0.0124161  0.583707      0.865112   0.640058  0.788547\n",
       " ⋮                                          ⋱                       \n",
       " 0.334412  0.49335    0.893722   0.163863      0.534107   0.168082  0.55155\n",
       " 0.296695  0.932877   0.617829   0.344542      0.471216   0.541263  0.804864\n",
       " 0.617989  0.162753   0.165746   0.317959      0.848803   0.417263  0.804939\n",
       " 0.460263  0.141616   0.563462   0.169752      0.918044   0.507365  0.608282\n",
       " 0.498518  0.510177   0.182426   0.915536   …  0.257378   0.395138  0.1836\n",
       " 0.239434  0.48216    0.0260311  0.194135      0.0993057  0.727218  0.705352\n",
       " 0.7912    0.674886   0.817755   0.599883      0.44186    0.156745  0.769094\n",
       " 0.828916  0.399725   0.682023   0.0940115     0.0110491  0.966666  0.461342\n",
       " 0.455659  0.885599   0.14225    0.944831      0.724222   0.390335  0.359086"
      ]
     },
     "metadata": {},
     "output_type": "display_data"
    }
   ],
   "source": [
    "a=rand(500,500)"
   ]
  },
  {
   "cell_type": "code",
   "execution_count": 11,
   "metadata": {},
   "outputs": [
    {
     "data": {
      "text/plain": [
       "500×500 Matrix{Float64}:\n",
       "  0.0355794     0.0946794    -0.636798    …   0.214171     -0.0545574\n",
       " -0.0349989    -0.00708275    0.386632       -0.188979      0.0469537\n",
       " -0.045021     -0.129647      0.413555       -0.157529     -0.00236282\n",
       " -0.0462048    -0.0334175     0.128376       -0.064966     -0.0950489\n",
       " -0.0623531     0.0181754     0.050426       -0.0311631    -0.10561\n",
       " -0.00249914    0.0530014     0.296436    …   0.000486943   0.076022\n",
       "  0.0774606     0.0192975     0.157807       -0.15297       0.0306994\n",
       "  0.0534137     0.135335     -0.0346152       0.0987333     0.0891986\n",
       "  0.0317629     0.128907      0.382495       -0.217569      0.050502\n",
       " -0.0391707    -0.0567354    -0.771964        0.297596     -0.129959\n",
       "  ⋮                                       ⋱                \n",
       " -0.000886068   0.0180129    -0.123605        0.0642344    -0.0472948\n",
       "  0.036511      0.000891403   0.184739       -0.159557      0.00481332\n",
       " -0.0339296    -0.0346266    -0.500446        0.314069     -0.00478423\n",
       " -0.0674417    -0.315364     -0.164535       -0.0446205    -0.301248\n",
       "  0.0240601     0.0363082     0.00730183  …   0.142828      0.132333\n",
       " -0.00172853    3.27018e-5   -0.182268        0.0508263    -0.061818\n",
       "  0.0879976    -0.0777606     0.32489        -0.266173      0.0756995\n",
       " -0.110727     -0.0236558     0.644809       -0.205979      0.00468801\n",
       "  0.0969834     0.10182       0.0581176      -0.0218199     0.0776303"
      ]
     },
     "metadata": {},
     "output_type": "display_data"
    }
   ],
   "source": [
    "inv(a)"
   ]
  },
  {
   "cell_type": "code",
   "execution_count": null,
   "metadata": {},
   "outputs": [],
   "source": []
  },
  {
   "cell_type": "code",
   "execution_count": 23,
   "metadata": {},
   "outputs": [],
   "source": [
    "using LinearAlgebra"
   ]
  },
  {
   "cell_type": "code",
   "execution_count": 27,
   "metadata": {},
   "outputs": [
    {
     "data": {
      "text/latex": [
       "$$ \\begin{equation}\n",
       "\\left[\n",
       "\\begin{array}{ccc}\n",
       "0 & 1 & 0 \\\\\n",
       "\\frac{\\frac{1}{2}}{{\\Delta}x} & 0 & \\frac{\\frac{-1}{2}}{{\\Delta}x} \\\\\n",
       "\\frac{1}{{\\Delta}x^{2}} & \\frac{-2}{{\\Delta}x^{2}} & \\frac{1}{{\\Delta}x^{2}} \\\\\n",
       "\\end{array}\n",
       "\\right]\n",
       "\\end{equation}\n",
       " $$"
      ],
      "text/plain": [
       "3×3 Matrix{Num}:\n",
       "           0            1             0\n",
       " (1//2) / Δx            0  (-1//2) / Δx\n",
       "  1 / (Δx^2)  -2 / (Δx^2)    1 / (Δx^2)"
      ]
     },
     "metadata": {},
     "output_type": "display_data"
    }
   ],
   "source": [
    "@variables Δx\n",
    "#matrixA=[1 Δx*2 4*Δx^2//2 8*Δx^3//6 16*Δx^4//24; 1 Δx Δx^2//2 Δx^3//6 Δx^4//24; 1 0 0 0 0; 1 -Δx Δx^2//2 -Δx^3//6 Δx^4//24; 1 -2*Δx 4*Δx^2//2 -8*Δx^3//6 16*Δx^4//24]\n",
    "#matrixA=[ 1 Δx Δx^2//2 Δx^3//6 Δx^4//24; 1 0 0 0 0; 1 -Δx Δx^2//2 -Δx^3//6 Δx^4//24]\n",
    "matrixA=[ 1 Δx Δx^2//2 ; 1 0 0 ; 1 -Δx Δx^2//2 ]\n",
    "#@show transpose(matrixA)*matrixA\n",
    "#@show (inv(transpose(matrixA)*matrixA))\n",
    "#Cⁿη=(inv(transpose(matrixA)*matrixA))*transpose(matrixA)\n",
    "\n",
    "invA=inv(matrixA)\n",
    "#Cⁿη[1:5,1:3]=invA[1:5,2:4]"
   ]
  },
  {
   "cell_type": "code",
   "execution_count": null,
   "metadata": {},
   "outputs": [],
   "source": []
  },
  {
   "cell_type": "code",
   "execution_count": 30,
   "metadata": {},
   "outputs": [
    {
     "data": {
      "text/latex": [
       "$$ \\begin{equation}\n",
       "\\left[\n",
       "\\begin{array}{ccc}\n",
       "1 & 0 & 0 \\\\\n",
       "0 & 1 & 0 \\\\\n",
       "0 & 0 & 1 \\\\\n",
       "\\end{array}\n",
       "\\right]\n",
       "\\end{equation}\n",
       " $$"
      ],
      "text/plain": [
       "3×3 Matrix{Num}:\n",
       " 1//1  0//1  0//1\n",
       "    0     1     0\n",
       " 0//1  0//1  1//1"
      ]
     },
     "metadata": {},
     "output_type": "display_data"
    }
   ],
   "source": [
    "matrixA*invA"
   ]
  },
  {
   "cell_type": "code",
   "execution_count": 199,
   "metadata": {},
   "outputs": [
    {
     "data": {
      "text/latex": [
       "$$ \\begin{equation}\n",
       "\\left[\n",
       "\\begin{array}{ccccc}\n",
       "1 & 0 & 0 & 0 & 0 \\\\\n",
       "1 & {\\Delta}x & \\frac{1}{2} {\\Delta}x^{2} & \\frac{1}{6} {\\Delta}x^{3} & \\frac{1}{24} {\\Delta}x^{4} \\\\\n",
       "1 & 2 {\\Delta}x & 2 {\\Delta}x^{2} & \\frac{4}{3} {\\Delta}x^{3} & \\frac{2}{3} {\\Delta}x^{4} \\\\\n",
       "\\end{array}\n",
       "\\right]\n",
       "\\end{equation}\n",
       " $$"
      ],
      "text/plain": [
       "3×5 Matrix{Num}:\n",
       " 1    0              0              0               0\n",
       " 1   Δx  (1//2)*(Δx^2)  (1//6)*(Δx^3)  (1//24)*(Δx^4)\n",
       " 1  2Δx  (2//1)*(Δx^2)  (4//3)*(Δx^3)   (2//3)*(Δx^4)"
      ]
     },
     "metadata": {},
     "output_type": "display_data"
    }
   ],
   "source": [
    "# then for higher order, we need to control iteratively\n",
    "\n",
    "@variables nodeValues[1:3]\n",
    "biggerA1=[ 1 Δx Δx^2//2 Δx^3//6 ; 1 0 0 0 ; 1 -Δx Δx^2//2 -Δx^3//6 ]\n",
    "biggerA2=[ 1 Δx Δx^2//2 Δx^3//6 Δx^4//24; 1 0 0 0 0; 1 -Δx Δx^2//2 -Δx^3//6 Δx^4//24]\n",
    "\n",
    "\n",
    "bigALeft= [1 0 0 0 0;1 Δx Δx^2//2 Δx^3//6 Δx^4//24;  1 2*Δx 4*Δx^2//2 8*Δx^3//6 16*Δx^4//24]"
   ]
  },
  {
   "cell_type": "code",
   "execution_count": 209,
   "metadata": {},
   "outputs": [
    {
     "data": {
      "text/latex": [
       "$$ \\begin{equation}\n",
       "\\left[\n",
       "\\begin{array}{ccc}\n",
       "1 + {\\Delta}x^{2} + \\frac{1}{4} {\\Delta}x^{4} + \\frac{1}{36} {\\Delta}x^{6} + \\frac{1}{576} {\\Delta}x^{8} & 1 & 1 - {\\Delta}x^{2} + \\frac{1}{4} {\\Delta}x^{4} - \\frac{1}{36} {\\Delta}x^{6} + \\frac{1}{576} {\\Delta}x^{8} \\\\\n",
       "1 & 1 & 1 \\\\\n",
       "1 - {\\Delta}x^{2} + \\frac{1}{4} {\\Delta}x^{4} - \\frac{1}{36} {\\Delta}x^{6} + \\frac{1}{576} {\\Delta}x^{8} & 1 & 1 + {\\Delta}x^{2} + \\frac{1}{4} {\\Delta}x^{4} + \\frac{1}{36} {\\Delta}x^{6} + \\frac{1}{576} {\\Delta}x^{8} \\\\\n",
       "\\end{array}\n",
       "\\right]\n",
       "\\end{equation}\n",
       " $$"
      ],
      "text/plain": [
       "3×3 Matrix{Num}:\n",
       "   1 + Δx^2 + (1//4)*(Δx^4) + (1//36)*(Δx^6) + (1//576)*(Δx^8)  …  1 - (Δx^2) + (1//4)*(Δx^4) - (1//36)*(Δx^6) + (1//576)*(Δx^8)\n",
       "                                                             1                                                                 1\n",
       " 1 - (Δx^2) + (1//4)*(Δx^4) - (1//36)*(Δx^6) + (1//576)*(Δx^8)       1 + Δx^2 + (1//4)*(Δx^4) + (1//36)*(Δx^6) + (1//576)*(Δx^8)"
      ]
     },
     "metadata": {},
     "output_type": "display_data"
    }
   ],
   "source": [
    "AA=biggerA2*transpose(biggerA2)"
   ]
  },
  {
   "cell_type": "code",
   "execution_count": null,
   "metadata": {},
   "outputs": [
    {
     "data": {
      "text/latex": [
       "$$ \\begin{equation}\n",
       "\\left[\n",
       "\\begin{array}{ccc}\n",
       "1 & 1 & 1 \\\\\n",
       "1 & 1 + {\\Delta}x^{2} + \\frac{1}{4} {\\Delta}x^{4} + \\frac{1}{36} {\\Delta}x^{6} + \\frac{1}{576} {\\Delta}x^{8} & 1 + 2 {\\Delta}x^{2} + {\\Delta}x^{4} + \\frac{2}{9} {\\Delta}x^{6} + \\frac{1}{36} {\\Delta}x^{8} \\\\\n",
       "1 & 1 + 2 {\\Delta}x^{2} + {\\Delta}x^{4} + \\frac{2}{9} {\\Delta}x^{6} + \\frac{1}{36} {\\Delta}x^{8} & 1 + 4 {\\Delta}x^{2} + 4 {\\Delta}x^{4} + \\frac{16}{9} {\\Delta}x^{6} + \\frac{4}{9} {\\Delta}x^{8} \\\\\n",
       "\\end{array}\n",
       "\\right]\n",
       "\\end{equation}\n",
       " $$"
      ],
      "text/plain": [
       "3×3 Matrix{Num}:\n",
       " 1  …                                                             1\n",
       " 1              1 + 2(Δx^2) + Δx^4 + (2//9)*(Δx^6) + (1//36)*(Δx^8)\n",
       " 1     1 + 4(Δx^2) + (4//1)*(Δx^4) + (16//9)*(Δx^6) + (4//9)*(Δx^8)"
      ]
     },
     "metadata": {},
     "output_type": "display_data"
    }
   ],
   "source": [
    "\n",
    "AALeft=bigALeft*transpose(bigALeft)"
   ]
  },
  {
   "cell_type": "code",
   "execution_count": null,
   "metadata": {},
   "outputs": [
    {
     "data": {
      "text/latex": [
       "$$ \\begin{equation}\n",
       "\\left[\n",
       "\\begin{array}{ccc}\n",
       "\\frac{ - \\left( 1 + 2 {\\Delta}x^{2} + {\\Delta}x^{4} + \\frac{2}{9} {\\Delta}x^{6} + \\frac{1}{36} {\\Delta}x^{8} \\right)^{2} + \\left( 1 + 4 {\\Delta}x^{2} + 4 {\\Delta}x^{4} + \\frac{16}{9} {\\Delta}x^{6} + \\frac{4}{9} {\\Delta}x^{8} \\right) \\left( 1 + {\\Delta}x^{2} + \\frac{1}{4} {\\Delta}x^{4} + \\frac{1}{36} {\\Delta}x^{6} + \\frac{1}{576} {\\Delta}x^{8} \\right)}{ - {\\Delta}x^{2} - \\frac{9}{4} {\\Delta}x^{4} - \\frac{49}{36} {\\Delta}x^{6} - \\frac{25}{64} {\\Delta}x^{8} - \\left( 1 + 2 {\\Delta}x^{2} + {\\Delta}x^{4} + \\frac{2}{9} {\\Delta}x^{6} + \\frac{1}{36} {\\Delta}x^{8} \\right)^{2} + \\left( 1 + 4 {\\Delta}x^{2} + 4 {\\Delta}x^{4} + \\frac{16}{9} {\\Delta}x^{6} + \\frac{4}{9} {\\Delta}x^{8} \\right) \\left( 1 + {\\Delta}x^{2} + \\frac{1}{4} {\\Delta}x^{4} + \\frac{1}{36} {\\Delta}x^{6} + \\frac{1}{576} {\\Delta}x^{8} \\right)} & \\frac{ - 2 {\\Delta}x^{2} - 3 {\\Delta}x^{4} - \\frac{14}{9} {\\Delta}x^{6} - \\frac{5}{12} {\\Delta}x^{8}}{ - {\\Delta}x^{2} - \\frac{9}{4} {\\Delta}x^{4} - \\frac{49}{36} {\\Delta}x^{6} - \\frac{25}{64} {\\Delta}x^{8} - \\left( 1 + 2 {\\Delta}x^{2} + {\\Delta}x^{4} + \\frac{2}{9} {\\Delta}x^{6} + \\frac{1}{36} {\\Delta}x^{8} \\right)^{2} + \\left( 1 + 4 {\\Delta}x^{2} + 4 {\\Delta}x^{4} + \\frac{16}{9} {\\Delta}x^{6} + \\frac{4}{9} {\\Delta}x^{8} \\right) \\left( 1 + {\\Delta}x^{2} + \\frac{1}{4} {\\Delta}x^{4} + \\frac{1}{36} {\\Delta}x^{6} + \\frac{1}{576} {\\Delta}x^{8} \\right)} & \\frac{{\\Delta}x^{2} + \\frac{3}{4} {\\Delta}x^{4} + \\frac{7}{36} {\\Delta}x^{6} + \\frac{5}{192} {\\Delta}x^{8}}{ - {\\Delta}x^{2} - \\frac{9}{4} {\\Delta}x^{4} - \\frac{49}{36} {\\Delta}x^{6} - \\frac{25}{64} {\\Delta}x^{8} - \\left( 1 + 2 {\\Delta}x^{2} + {\\Delta}x^{4} + \\frac{2}{9} {\\Delta}x^{6} + \\frac{1}{36} {\\Delta}x^{8} \\right)^{2} + \\left( 1 + 4 {\\Delta}x^{2} + 4 {\\Delta}x^{4} + \\frac{16}{9} {\\Delta}x^{6} + \\frac{4}{9} {\\Delta}x^{8} \\right) \\left( 1 + {\\Delta}x^{2} + \\frac{1}{4} {\\Delta}x^{4} + \\frac{1}{36} {\\Delta}x^{6} + \\frac{1}{576} {\\Delta}x^{8} \\right)} \\\\\n",
       "\\frac{ - 2 {\\Delta}x^{2} - 3 {\\Delta}x^{4} - \\frac{14}{9} {\\Delta}x^{6} - \\frac{5}{12} {\\Delta}x^{8}}{ - {\\Delta}x^{2} - \\frac{9}{4} {\\Delta}x^{4} - \\frac{49}{36} {\\Delta}x^{6} - \\frac{25}{64} {\\Delta}x^{8} - \\left( 1 + 2 {\\Delta}x^{2} + {\\Delta}x^{4} + \\frac{2}{9} {\\Delta}x^{6} + \\frac{1}{36} {\\Delta}x^{8} \\right)^{2} + \\left( 1 + 4 {\\Delta}x^{2} + 4 {\\Delta}x^{4} + \\frac{16}{9} {\\Delta}x^{6} + \\frac{4}{9} {\\Delta}x^{8} \\right) \\left( 1 + {\\Delta}x^{2} + \\frac{1}{4} {\\Delta}x^{4} + \\frac{1}{36} {\\Delta}x^{6} + \\frac{1}{576} {\\Delta}x^{8} \\right)} & \\frac{4 {\\Delta}x^{2} + 4 {\\Delta}x^{4} + \\frac{16}{9} {\\Delta}x^{6} + \\frac{4}{9} {\\Delta}x^{8}}{ - {\\Delta}x^{2} - \\frac{9}{4} {\\Delta}x^{4} - \\frac{49}{36} {\\Delta}x^{6} - \\frac{25}{64} {\\Delta}x^{8} - \\left( 1 + 2 {\\Delta}x^{2} + {\\Delta}x^{4} + \\frac{2}{9} {\\Delta}x^{6} + \\frac{1}{36} {\\Delta}x^{8} \\right)^{2} + \\left( 1 + 4 {\\Delta}x^{2} + 4 {\\Delta}x^{4} + \\frac{16}{9} {\\Delta}x^{6} + \\frac{4}{9} {\\Delta}x^{8} \\right) \\left( 1 + {\\Delta}x^{2} + \\frac{1}{4} {\\Delta}x^{4} + \\frac{1}{36} {\\Delta}x^{6} + \\frac{1}{576} {\\Delta}x^{8} \\right)} & \\frac{ - 2 {\\Delta}x^{2} - {\\Delta}x^{4} - \\frac{2}{9} {\\Delta}x^{6} - \\frac{1}{36} {\\Delta}x^{8}}{ - {\\Delta}x^{2} - \\frac{9}{4} {\\Delta}x^{4} - \\frac{49}{36} {\\Delta}x^{6} - \\frac{25}{64} {\\Delta}x^{8} - \\left( 1 + 2 {\\Delta}x^{2} + {\\Delta}x^{4} + \\frac{2}{9} {\\Delta}x^{6} + \\frac{1}{36} {\\Delta}x^{8} \\right)^{2} + \\left( 1 + 4 {\\Delta}x^{2} + 4 {\\Delta}x^{4} + \\frac{16}{9} {\\Delta}x^{6} + \\frac{4}{9} {\\Delta}x^{8} \\right) \\left( 1 + {\\Delta}x^{2} + \\frac{1}{4} {\\Delta}x^{4} + \\frac{1}{36} {\\Delta}x^{6} + \\frac{1}{576} {\\Delta}x^{8} \\right)} \\\\\n",
       "\\frac{{\\Delta}x^{2} + \\frac{3}{4} {\\Delta}x^{4} + \\frac{7}{36} {\\Delta}x^{6} + \\frac{5}{192} {\\Delta}x^{8}}{ - {\\Delta}x^{2} - \\frac{9}{4} {\\Delta}x^{4} - \\frac{49}{36} {\\Delta}x^{6} - \\frac{25}{64} {\\Delta}x^{8} - \\left( 1 + 2 {\\Delta}x^{2} + {\\Delta}x^{4} + \\frac{2}{9} {\\Delta}x^{6} + \\frac{1}{36} {\\Delta}x^{8} \\right)^{2} + \\left( 1 + 4 {\\Delta}x^{2} + 4 {\\Delta}x^{4} + \\frac{16}{9} {\\Delta}x^{6} + \\frac{4}{9} {\\Delta}x^{8} \\right) \\left( 1 + {\\Delta}x^{2} + \\frac{1}{4} {\\Delta}x^{4} + \\frac{1}{36} {\\Delta}x^{6} + \\frac{1}{576} {\\Delta}x^{8} \\right)} & \\frac{ - 2 {\\Delta}x^{2} - {\\Delta}x^{4} - \\frac{2}{9} {\\Delta}x^{6} - \\frac{1}{36} {\\Delta}x^{8}}{ - {\\Delta}x^{2} - \\frac{9}{4} {\\Delta}x^{4} - \\frac{49}{36} {\\Delta}x^{6} - \\frac{25}{64} {\\Delta}x^{8} - \\left( 1 + 2 {\\Delta}x^{2} + {\\Delta}x^{4} + \\frac{2}{9} {\\Delta}x^{6} + \\frac{1}{36} {\\Delta}x^{8} \\right)^{2} + \\left( 1 + 4 {\\Delta}x^{2} + 4 {\\Delta}x^{4} + \\frac{16}{9} {\\Delta}x^{6} + \\frac{4}{9} {\\Delta}x^{8} \\right) \\left( 1 + {\\Delta}x^{2} + \\frac{1}{4} {\\Delta}x^{4} + \\frac{1}{36} {\\Delta}x^{6} + \\frac{1}{576} {\\Delta}x^{8} \\right)} & \\frac{{\\Delta}x^{2} + \\frac{1}{4} {\\Delta}x^{4} + \\frac{1}{36} {\\Delta}x^{6} + \\frac{1}{576} {\\Delta}x^{8}}{ - {\\Delta}x^{2} - \\frac{9}{4} {\\Delta}x^{4} - \\frac{49}{36} {\\Delta}x^{6} - \\frac{25}{64} {\\Delta}x^{8} - \\left( 1 + 2 {\\Delta}x^{2} + {\\Delta}x^{4} + \\frac{2}{9} {\\Delta}x^{6} + \\frac{1}{36} {\\Delta}x^{8} \\right)^{2} + \\left( 1 + 4 {\\Delta}x^{2} + 4 {\\Delta}x^{4} + \\frac{16}{9} {\\Delta}x^{6} + \\frac{4}{9} {\\Delta}x^{8} \\right) \\left( 1 + {\\Delta}x^{2} + \\frac{1}{4} {\\Delta}x^{4} + \\frac{1}{36} {\\Delta}x^{6} + \\frac{1}{576} {\\Delta}x^{8} \\right)} \\\\\n",
       "\\end{array}\n",
       "\\right]\n",
       "\\end{equation}\n",
       " $$"
      ],
      "text/plain": [
       "3×3 Matrix{Num}:\n",
       " (-((1 + 2(Δx^2) + Δx^4 + (2//9)*(Δx^6) + (1//36)*(Δx^8))^2) + (1 + 4(Δx^2) + (4//1)*(Δx^4) + (16//9)*(Δx^6) + (4//9)*(Δx^8))*(1 + Δx^2 + (1//4)*(Δx^4) + (1//36)*(Δx^6) + (1//576)*(Δx^8))) / (-(Δx^2) - (9//4)*(Δx^4) - (49//36)*(Δx^6) - (25//64)*(Δx^8) - ((1 + 2(Δx^2) + Δx^4 + (2//9)*(Δx^6) + (1//36)*(Δx^8))^2) + (1 + 4(Δx^2) + (4//1)*(Δx^4) + (16//9)*(Δx^6) + (4//9)*(Δx^8))*(1 + Δx^2 + (1//4)*(Δx^4) + (1//36)*(Δx^6) + (1//576)*(Δx^8)))  …  (Δx^2 + (3//4)*(Δx^4) + (7//36)*(Δx^6) + (5//192)*(Δx^8)) / (-(Δx^2) - (9//4)*(Δx^4) - (49//36)*(Δx^6) - (25//64)*(Δx^8) - ((1 + 2(Δx^2) + Δx^4 + (2//9)*(Δx^6) + (1//36)*(Δx^8))^2) + (1 + 4(Δx^2) + (4//1)*(Δx^4) + (16//9)*(Δx^6) + (4//9)*(Δx^8))*(1 + Δx^2 + (1//4)*(Δx^4) + (1//36)*(Δx^6) + (1//576)*(Δx^8)))\n",
       "                                                                                                                                (-2(Δx^2) - (3//1)*(Δx^4) - (14//9)*(Δx^6) - (5//12)*(Δx^8)) / (-(Δx^2) - (9//4)*(Δx^4) - (49//36)*(Δx^6) - (25//64)*(Δx^8) - ((1 + 2(Δx^2) + Δx^4 + (2//9)*(Δx^6) + (1//36)*(Δx^8))^2) + (1 + 4(Δx^2) + (4//1)*(Δx^4) + (16//9)*(Δx^6) + (4//9)*(Δx^8))*(1 + Δx^2 + (1//4)*(Δx^4) + (1//36)*(Δx^6) + (1//576)*(Δx^8)))          (-2(Δx^2) - (Δx^4) - (2//9)*(Δx^6) - (1//36)*(Δx^8)) / (-(Δx^2) - (9//4)*(Δx^4) - (49//36)*(Δx^6) - (25//64)*(Δx^8) - ((1 + 2(Δx^2) + Δx^4 + (2//9)*(Δx^6) + (1//36)*(Δx^8))^2) + (1 + 4(Δx^2) + (4//1)*(Δx^4) + (16//9)*(Δx^6) + (4//9)*(Δx^8))*(1 + Δx^2 + (1//4)*(Δx^4) + (1//36)*(Δx^6) + (1//576)*(Δx^8)))\n",
       "                                                                                                                                   (Δx^2 + (3//4)*(Δx^4) + (7//36)*(Δx^6) + (5//192)*(Δx^8)) / (-(Δx^2) - (9//4)*(Δx^4) - (49//36)*(Δx^6) - (25//64)*(Δx^8) - ((1 + 2(Δx^2) + Δx^4 + (2//9)*(Δx^6) + (1//36)*(Δx^8))^2) + (1 + 4(Δx^2) + (4//1)*(Δx^4) + (16//9)*(Δx^6) + (4//9)*(Δx^8))*(1 + Δx^2 + (1//4)*(Δx^4) + (1//36)*(Δx^6) + (1//576)*(Δx^8)))     (Δx^2 + (1//4)*(Δx^4) + (1//36)*(Δx^6) + (1//576)*(Δx^8)) / (-(Δx^2) - (9//4)*(Δx^4) - (49//36)*(Δx^6) - (25//64)*(Δx^8) - ((1 + 2(Δx^2) + Δx^4 + (2//9)*(Δx^6) + (1//36)*(Δx^8))^2) + (1 + 4(Δx^2) + (4//1)*(Δx^4) + (16//9)*(Δx^6) + (4//9)*(Δx^8))*(1 + Δx^2 + (1//4)*(Δx^4) + (1//36)*(Δx^6) + (1//576)*(Δx^8)))"
      ]
     },
     "metadata": {},
     "output_type": "display_data"
    }
   ],
   "source": [
    "Ainv=mySimplify(inv(AA))\n",
    "ALeftinv=(inv(AALeft))"
   ]
  },
  {
   "cell_type": "code",
   "execution_count": 242,
   "metadata": {},
   "outputs": [
    {
     "data": {
      "text/latex": [
       "$$ \\begin{equation}\n",
       "\\left[\n",
       "\\begin{array}{ccc}\n",
       "0 & 1 & 0 \\\\\n",
       "\\frac{1}{288 \\left( \\frac{1}{144} {\\Delta}x + \\frac{1}{5184} {\\Delta}x^{5} \\right)} & 0 & \\frac{1}{288 \\left(  - \\frac{1}{144} {\\Delta}x - \\frac{1}{5184} {\\Delta}x^{5} \\right)} \\\\\n",
       "\\frac{1}{36 \\left( \\frac{1}{36} {\\Delta}x^{2} + \\frac{1}{5184} {\\Delta}x^{6} \\right)} & \\frac{\\frac{1}{18}}{ - \\frac{1}{36} {\\Delta}x^{2} - \\frac{1}{5184} {\\Delta}x^{6}} & \\frac{1}{36 \\left( \\frac{1}{36} {\\Delta}x^{2} + \\frac{1}{5184} {\\Delta}x^{6} \\right)} \\\\\n",
       "\\frac{{\\Delta}x}{1728 \\left( \\frac{1}{144} + \\frac{1}{5184} {\\Delta}x^{4} \\right)} & 0 & \\frac{{\\Delta}x}{1728 \\left( \\frac{-1}{144} - \\frac{1}{5184} {\\Delta}x^{4} \\right)} \\\\\n",
       "\\frac{1}{432 \\left( \\frac{1}{36} + \\frac{1}{5184} {\\Delta}x^{4} \\right)} & \\frac{\\frac{1}{216}}{\\frac{-1}{36} - \\frac{1}{5184} {\\Delta}x^{4}} & \\frac{1}{432 \\left( \\frac{1}{36} + \\frac{1}{5184} {\\Delta}x^{4} \\right)} \\\\\n",
       "\\end{array}\n",
       "\\right]\n",
       "\\end{equation}\n",
       " $$"
      ],
      "text/plain": [
       "5×3 Matrix{Num}:\n",
       "                                           0  …                                            0\n",
       "   1 / (288((1//144)*Δx + (1//5184)*(Δx^5)))      1 / (288(-(1//144)*Δx - (1//5184)*(Δx^5)))\n",
       " 1 / (36((1//36)*(Δx^2) + (1//5184)*(Δx^6)))     1 / (36((1//36)*(Δx^2) + (1//5184)*(Δx^6)))\n",
       "    Δx / (1728((1//144) + (1//5184)*(Δx^4)))       Δx / (1728(-(1//144) - (1//5184)*(Δx^4)))\n",
       "       1 / (432((1//36) + (1//5184)*(Δx^4)))           1 / (432((1//36) + (1//5184)*(Δx^4)))"
      ]
     },
     "metadata": {},
     "output_type": "display_data"
    }
   ],
   "source": [
    "\n",
    "theMatrix=mySimplify(transpose(biggerA2)*Ainv)"
   ]
  },
  {
   "cell_type": "code",
   "execution_count": 216,
   "metadata": {},
   "outputs": [
    {
     "data": {
      "text/latex": [
       "$$ \\begin{equation}\n",
       "\\left[\n",
       "\\begin{array}{ccc}\n",
       "\\frac{ - \\left( 1 + 2 {\\Delta}x^{2} + {\\Delta}x^{4} + \\frac{2}{9} {\\Delta}x^{6} + \\frac{1}{36} {\\Delta}x^{8} \\right)^{2} + \\left( 1 + 4 {\\Delta}x^{2} + 4 {\\Delta}x^{4} + \\frac{16}{9} {\\Delta}x^{6} + \\frac{4}{9} {\\Delta}x^{8} \\right) \\left( 1 + {\\Delta}x^{2} + \\frac{1}{4} {\\Delta}x^{4} + \\frac{1}{36} {\\Delta}x^{6} + \\frac{1}{576} {\\Delta}x^{8} \\right)}{ - {\\Delta}x^{2} - \\frac{9}{4} {\\Delta}x^{4} - \\frac{49}{36} {\\Delta}x^{6} - \\frac{25}{64} {\\Delta}x^{8} - \\left( 1 + 2 {\\Delta}x^{2} + {\\Delta}x^{4} + \\frac{2}{9} {\\Delta}x^{6} + \\frac{1}{36} {\\Delta}x^{8} \\right)^{2} + \\left( 1 + 4 {\\Delta}x^{2} + 4 {\\Delta}x^{4} + \\frac{16}{9} {\\Delta}x^{6} + \\frac{4}{9} {\\Delta}x^{8} \\right) \\left( 1 + {\\Delta}x^{2} + \\frac{1}{4} {\\Delta}x^{4} + \\frac{1}{36} {\\Delta}x^{6} + \\frac{1}{576} {\\Delta}x^{8} \\right)} + \\frac{{\\Delta}x^{2} + \\frac{3}{4} {\\Delta}x^{4} + \\frac{7}{36} {\\Delta}x^{6} + \\frac{5}{192} {\\Delta}x^{8}}{ - {\\Delta}x^{2} - \\frac{9}{4} {\\Delta}x^{4} - \\frac{49}{36} {\\Delta}x^{6} - \\frac{25}{64} {\\Delta}x^{8} - \\left( 1 + 2 {\\Delta}x^{2} + {\\Delta}x^{4} + \\frac{2}{9} {\\Delta}x^{6} + \\frac{1}{36} {\\Delta}x^{8} \\right)^{2} + \\left( 1 + 4 {\\Delta}x^{2} + 4 {\\Delta}x^{4} + \\frac{16}{9} {\\Delta}x^{6} + \\frac{4}{9} {\\Delta}x^{8} \\right) \\left( 1 + {\\Delta}x^{2} + \\frac{1}{4} {\\Delta}x^{4} + \\frac{1}{36} {\\Delta}x^{6} + \\frac{1}{576} {\\Delta}x^{8} \\right)} + \\frac{ - 2 {\\Delta}x^{2} - 3 {\\Delta}x^{4} - \\frac{14}{9} {\\Delta}x^{6} - \\frac{5}{12} {\\Delta}x^{8}}{ - {\\Delta}x^{2} - \\frac{9}{4} {\\Delta}x^{4} - \\frac{49}{36} {\\Delta}x^{6} - \\frac{25}{64} {\\Delta}x^{8} - \\left( 1 + 2 {\\Delta}x^{2} + {\\Delta}x^{4} + \\frac{2}{9} {\\Delta}x^{6} + \\frac{1}{36} {\\Delta}x^{8} \\right)^{2} + \\left( 1 + 4 {\\Delta}x^{2} + 4 {\\Delta}x^{4} + \\frac{16}{9} {\\Delta}x^{6} + \\frac{4}{9} {\\Delta}x^{8} \\right) \\left( 1 + {\\Delta}x^{2} + \\frac{1}{4} {\\Delta}x^{4} + \\frac{1}{36} {\\Delta}x^{6} + \\frac{1}{576} {\\Delta}x^{8} \\right)} & \\frac{4 {\\Delta}x^{2} + 4 {\\Delta}x^{4} + \\frac{16}{9} {\\Delta}x^{6} + \\frac{4}{9} {\\Delta}x^{8}}{ - {\\Delta}x^{2} - \\frac{9}{4} {\\Delta}x^{4} - \\frac{49}{36} {\\Delta}x^{6} - \\frac{25}{64} {\\Delta}x^{8} - \\left( 1 + 2 {\\Delta}x^{2} + {\\Delta}x^{4} + \\frac{2}{9} {\\Delta}x^{6} + \\frac{1}{36} {\\Delta}x^{8} \\right)^{2} + \\left( 1 + 4 {\\Delta}x^{2} + 4 {\\Delta}x^{4} + \\frac{16}{9} {\\Delta}x^{6} + \\frac{4}{9} {\\Delta}x^{8} \\right) \\left( 1 + {\\Delta}x^{2} + \\frac{1}{4} {\\Delta}x^{4} + \\frac{1}{36} {\\Delta}x^{6} + \\frac{1}{576} {\\Delta}x^{8} \\right)} + \\frac{ - 2 {\\Delta}x^{2} - {\\Delta}x^{4} - \\frac{2}{9} {\\Delta}x^{6} - \\frac{1}{36} {\\Delta}x^{8}}{ - {\\Delta}x^{2} - \\frac{9}{4} {\\Delta}x^{4} - \\frac{49}{36} {\\Delta}x^{6} - \\frac{25}{64} {\\Delta}x^{8} - \\left( 1 + 2 {\\Delta}x^{2} + {\\Delta}x^{4} + \\frac{2}{9} {\\Delta}x^{6} + \\frac{1}{36} {\\Delta}x^{8} \\right)^{2} + \\left( 1 + 4 {\\Delta}x^{2} + 4 {\\Delta}x^{4} + \\frac{16}{9} {\\Delta}x^{6} + \\frac{4}{9} {\\Delta}x^{8} \\right) \\left( 1 + {\\Delta}x^{2} + \\frac{1}{4} {\\Delta}x^{4} + \\frac{1}{36} {\\Delta}x^{6} + \\frac{1}{576} {\\Delta}x^{8} \\right)} + \\frac{ - 2 {\\Delta}x^{2} - 3 {\\Delta}x^{4} - \\frac{14}{9} {\\Delta}x^{6} - \\frac{5}{12} {\\Delta}x^{8}}{ - {\\Delta}x^{2} - \\frac{9}{4} {\\Delta}x^{4} - \\frac{49}{36} {\\Delta}x^{6} - \\frac{25}{64} {\\Delta}x^{8} - \\left( 1 + 2 {\\Delta}x^{2} + {\\Delta}x^{4} + \\frac{2}{9} {\\Delta}x^{6} + \\frac{1}{36} {\\Delta}x^{8} \\right)^{2} + \\left( 1 + 4 {\\Delta}x^{2} + 4 {\\Delta}x^{4} + \\frac{16}{9} {\\Delta}x^{6} + \\frac{4}{9} {\\Delta}x^{8} \\right) \\left( 1 + {\\Delta}x^{2} + \\frac{1}{4} {\\Delta}x^{4} + \\frac{1}{36} {\\Delta}x^{6} + \\frac{1}{576} {\\Delta}x^{8} \\right)} & \\frac{{\\Delta}x^{2} + \\frac{1}{4} {\\Delta}x^{4} + \\frac{1}{36} {\\Delta}x^{6} + \\frac{1}{576} {\\Delta}x^{8}}{ - {\\Delta}x^{2} - \\frac{9}{4} {\\Delta}x^{4} - \\frac{49}{36} {\\Delta}x^{6} - \\frac{25}{64} {\\Delta}x^{8} - \\left( 1 + 2 {\\Delta}x^{2} + {\\Delta}x^{4} + \\frac{2}{9} {\\Delta}x^{6} + \\frac{1}{36} {\\Delta}x^{8} \\right)^{2} + \\left( 1 + 4 {\\Delta}x^{2} + 4 {\\Delta}x^{4} + \\frac{16}{9} {\\Delta}x^{6} + \\frac{4}{9} {\\Delta}x^{8} \\right) \\left( 1 + {\\Delta}x^{2} + \\frac{1}{4} {\\Delta}x^{4} + \\frac{1}{36} {\\Delta}x^{6} + \\frac{1}{576} {\\Delta}x^{8} \\right)} + \\frac{{\\Delta}x^{2} + \\frac{3}{4} {\\Delta}x^{4} + \\frac{7}{36} {\\Delta}x^{6} + \\frac{5}{192} {\\Delta}x^{8}}{ - {\\Delta}x^{2} - \\frac{9}{4} {\\Delta}x^{4} - \\frac{49}{36} {\\Delta}x^{6} - \\frac{25}{64} {\\Delta}x^{8} - \\left( 1 + 2 {\\Delta}x^{2} + {\\Delta}x^{4} + \\frac{2}{9} {\\Delta}x^{6} + \\frac{1}{36} {\\Delta}x^{8} \\right)^{2} + \\left( 1 + 4 {\\Delta}x^{2} + 4 {\\Delta}x^{4} + \\frac{16}{9} {\\Delta}x^{6} + \\frac{4}{9} {\\Delta}x^{8} \\right) \\left( 1 + {\\Delta}x^{2} + \\frac{1}{4} {\\Delta}x^{4} + \\frac{1}{36} {\\Delta}x^{6} + \\frac{1}{576} {\\Delta}x^{8} \\right)} + \\frac{ - 2 {\\Delta}x^{2} - {\\Delta}x^{4} - \\frac{2}{9} {\\Delta}x^{6} - \\frac{1}{36} {\\Delta}x^{8}}{ - {\\Delta}x^{2} - \\frac{9}{4} {\\Delta}x^{4} - \\frac{49}{36} {\\Delta}x^{6} - \\frac{25}{64} {\\Delta}x^{8} - \\left( 1 + 2 {\\Delta}x^{2} + {\\Delta}x^{4} + \\frac{2}{9} {\\Delta}x^{6} + \\frac{1}{36} {\\Delta}x^{8} \\right)^{2} + \\left( 1 + 4 {\\Delta}x^{2} + 4 {\\Delta}x^{4} + \\frac{16}{9} {\\Delta}x^{6} + \\frac{4}{9} {\\Delta}x^{8} \\right) \\left( 1 + {\\Delta}x^{2} + \\frac{1}{4} {\\Delta}x^{4} + \\frac{1}{36} {\\Delta}x^{6} + \\frac{1}{576} {\\Delta}x^{8} \\right)} \\\\\n",
       "\\frac{{\\Delta}x \\left(  - 2 {\\Delta}x^{2} - 3 {\\Delta}x^{4} - \\frac{14}{9} {\\Delta}x^{6} - \\frac{5}{12} {\\Delta}x^{8} \\right)}{ - {\\Delta}x^{2} - \\frac{9}{4} {\\Delta}x^{4} - \\frac{49}{36} {\\Delta}x^{6} - \\frac{25}{64} {\\Delta}x^{8} - \\left( 1 + 2 {\\Delta}x^{2} + {\\Delta}x^{4} + \\frac{2}{9} {\\Delta}x^{6} + \\frac{1}{36} {\\Delta}x^{8} \\right)^{2} + \\left( 1 + 4 {\\Delta}x^{2} + 4 {\\Delta}x^{4} + \\frac{16}{9} {\\Delta}x^{6} + \\frac{4}{9} {\\Delta}x^{8} \\right) \\left( 1 + {\\Delta}x^{2} + \\frac{1}{4} {\\Delta}x^{4} + \\frac{1}{36} {\\Delta}x^{6} + \\frac{1}{576} {\\Delta}x^{8} \\right)} + \\frac{2 {\\Delta}x \\left( {\\Delta}x^{2} + \\frac{3}{4} {\\Delta}x^{4} + \\frac{7}{36} {\\Delta}x^{6} + \\frac{5}{192} {\\Delta}x^{8} \\right)}{ - {\\Delta}x^{2} - \\frac{9}{4} {\\Delta}x^{4} - \\frac{49}{36} {\\Delta}x^{6} - \\frac{25}{64} {\\Delta}x^{8} - \\left( 1 + 2 {\\Delta}x^{2} + {\\Delta}x^{4} + \\frac{2}{9} {\\Delta}x^{6} + \\frac{1}{36} {\\Delta}x^{8} \\right)^{2} + \\left( 1 + 4 {\\Delta}x^{2} + 4 {\\Delta}x^{4} + \\frac{16}{9} {\\Delta}x^{6} + \\frac{4}{9} {\\Delta}x^{8} \\right) \\left( 1 + {\\Delta}x^{2} + \\frac{1}{4} {\\Delta}x^{4} + \\frac{1}{36} {\\Delta}x^{6} + \\frac{1}{576} {\\Delta}x^{8} \\right)} & \\frac{{\\Delta}x \\left( 4 {\\Delta}x^{2} + 4 {\\Delta}x^{4} + \\frac{16}{9} {\\Delta}x^{6} + \\frac{4}{9} {\\Delta}x^{8} \\right)}{ - {\\Delta}x^{2} - \\frac{9}{4} {\\Delta}x^{4} - \\frac{49}{36} {\\Delta}x^{6} - \\frac{25}{64} {\\Delta}x^{8} - \\left( 1 + 2 {\\Delta}x^{2} + {\\Delta}x^{4} + \\frac{2}{9} {\\Delta}x^{6} + \\frac{1}{36} {\\Delta}x^{8} \\right)^{2} + \\left( 1 + 4 {\\Delta}x^{2} + 4 {\\Delta}x^{4} + \\frac{16}{9} {\\Delta}x^{6} + \\frac{4}{9} {\\Delta}x^{8} \\right) \\left( 1 + {\\Delta}x^{2} + \\frac{1}{4} {\\Delta}x^{4} + \\frac{1}{36} {\\Delta}x^{6} + \\frac{1}{576} {\\Delta}x^{8} \\right)} + \\frac{2 {\\Delta}x \\left(  - 2 {\\Delta}x^{2} - {\\Delta}x^{4} - \\frac{2}{9} {\\Delta}x^{6} - \\frac{1}{36} {\\Delta}x^{8} \\right)}{ - {\\Delta}x^{2} - \\frac{9}{4} {\\Delta}x^{4} - \\frac{49}{36} {\\Delta}x^{6} - \\frac{25}{64} {\\Delta}x^{8} - \\left( 1 + 2 {\\Delta}x^{2} + {\\Delta}x^{4} + \\frac{2}{9} {\\Delta}x^{6} + \\frac{1}{36} {\\Delta}x^{8} \\right)^{2} + \\left( 1 + 4 {\\Delta}x^{2} + 4 {\\Delta}x^{4} + \\frac{16}{9} {\\Delta}x^{6} + \\frac{4}{9} {\\Delta}x^{8} \\right) \\left( 1 + {\\Delta}x^{2} + \\frac{1}{4} {\\Delta}x^{4} + \\frac{1}{36} {\\Delta}x^{6} + \\frac{1}{576} {\\Delta}x^{8} \\right)} & \\frac{2 {\\Delta}x \\left( {\\Delta}x^{2} + \\frac{1}{4} {\\Delta}x^{4} + \\frac{1}{36} {\\Delta}x^{6} + \\frac{1}{576} {\\Delta}x^{8} \\right)}{ - {\\Delta}x^{2} - \\frac{9}{4} {\\Delta}x^{4} - \\frac{49}{36} {\\Delta}x^{6} - \\frac{25}{64} {\\Delta}x^{8} - \\left( 1 + 2 {\\Delta}x^{2} + {\\Delta}x^{4} + \\frac{2}{9} {\\Delta}x^{6} + \\frac{1}{36} {\\Delta}x^{8} \\right)^{2} + \\left( 1 + 4 {\\Delta}x^{2} + 4 {\\Delta}x^{4} + \\frac{16}{9} {\\Delta}x^{6} + \\frac{4}{9} {\\Delta}x^{8} \\right) \\left( 1 + {\\Delta}x^{2} + \\frac{1}{4} {\\Delta}x^{4} + \\frac{1}{36} {\\Delta}x^{6} + \\frac{1}{576} {\\Delta}x^{8} \\right)} + \\frac{{\\Delta}x \\left(  - 2 {\\Delta}x^{2} - {\\Delta}x^{4} - \\frac{2}{9} {\\Delta}x^{6} - \\frac{1}{36} {\\Delta}x^{8} \\right)}{ - {\\Delta}x^{2} - \\frac{9}{4} {\\Delta}x^{4} - \\frac{49}{36} {\\Delta}x^{6} - \\frac{25}{64} {\\Delta}x^{8} - \\left( 1 + 2 {\\Delta}x^{2} + {\\Delta}x^{4} + \\frac{2}{9} {\\Delta}x^{6} + \\frac{1}{36} {\\Delta}x^{8} \\right)^{2} + \\left( 1 + 4 {\\Delta}x^{2} + 4 {\\Delta}x^{4} + \\frac{16}{9} {\\Delta}x^{6} + \\frac{4}{9} {\\Delta}x^{8} \\right) \\left( 1 + {\\Delta}x^{2} + \\frac{1}{4} {\\Delta}x^{4} + \\frac{1}{36} {\\Delta}x^{6} + \\frac{1}{576} {\\Delta}x^{8} \\right)} \\\\\n",
       "\\frac{2 {\\Delta}x^{2} \\left( {\\Delta}x^{2} + \\frac{3}{4} {\\Delta}x^{4} + \\frac{7}{36} {\\Delta}x^{6} + \\frac{5}{192} {\\Delta}x^{8} \\right)}{ - {\\Delta}x^{2} - \\frac{9}{4} {\\Delta}x^{4} - \\frac{49}{36} {\\Delta}x^{6} - \\frac{25}{64} {\\Delta}x^{8} - \\left( 1 + 2 {\\Delta}x^{2} + {\\Delta}x^{4} + \\frac{2}{9} {\\Delta}x^{6} + \\frac{1}{36} {\\Delta}x^{8} \\right)^{2} + \\left( 1 + 4 {\\Delta}x^{2} + 4 {\\Delta}x^{4} + \\frac{16}{9} {\\Delta}x^{6} + \\frac{4}{9} {\\Delta}x^{8} \\right) \\left( 1 + {\\Delta}x^{2} + \\frac{1}{4} {\\Delta}x^{4} + \\frac{1}{36} {\\Delta}x^{6} + \\frac{1}{576} {\\Delta}x^{8} \\right)} + \\frac{\\frac{1}{2} {\\Delta}x^{2} \\left(  - 2 {\\Delta}x^{2} - 3 {\\Delta}x^{4} - \\frac{14}{9} {\\Delta}x^{6} - \\frac{5}{12} {\\Delta}x^{8} \\right)}{ - {\\Delta}x^{2} - \\frac{9}{4} {\\Delta}x^{4} - \\frac{49}{36} {\\Delta}x^{6} - \\frac{25}{64} {\\Delta}x^{8} - \\left( 1 + 2 {\\Delta}x^{2} + {\\Delta}x^{4} + \\frac{2}{9} {\\Delta}x^{6} + \\frac{1}{36} {\\Delta}x^{8} \\right)^{2} + \\left( 1 + 4 {\\Delta}x^{2} + 4 {\\Delta}x^{4} + \\frac{16}{9} {\\Delta}x^{6} + \\frac{4}{9} {\\Delta}x^{8} \\right) \\left( 1 + {\\Delta}x^{2} + \\frac{1}{4} {\\Delta}x^{4} + \\frac{1}{36} {\\Delta}x^{6} + \\frac{1}{576} {\\Delta}x^{8} \\right)} & \\frac{2 {\\Delta}x^{2} \\left(  - 2 {\\Delta}x^{2} - {\\Delta}x^{4} - \\frac{2}{9} {\\Delta}x^{6} - \\frac{1}{36} {\\Delta}x^{8} \\right)}{ - {\\Delta}x^{2} - \\frac{9}{4} {\\Delta}x^{4} - \\frac{49}{36} {\\Delta}x^{6} - \\frac{25}{64} {\\Delta}x^{8} - \\left( 1 + 2 {\\Delta}x^{2} + {\\Delta}x^{4} + \\frac{2}{9} {\\Delta}x^{6} + \\frac{1}{36} {\\Delta}x^{8} \\right)^{2} + \\left( 1 + 4 {\\Delta}x^{2} + 4 {\\Delta}x^{4} + \\frac{16}{9} {\\Delta}x^{6} + \\frac{4}{9} {\\Delta}x^{8} \\right) \\left( 1 + {\\Delta}x^{2} + \\frac{1}{4} {\\Delta}x^{4} + \\frac{1}{36} {\\Delta}x^{6} + \\frac{1}{576} {\\Delta}x^{8} \\right)} + \\frac{\\frac{1}{2} {\\Delta}x^{2} \\left( 4 {\\Delta}x^{2} + 4 {\\Delta}x^{4} + \\frac{16}{9} {\\Delta}x^{6} + \\frac{4}{9} {\\Delta}x^{8} \\right)}{ - {\\Delta}x^{2} - \\frac{9}{4} {\\Delta}x^{4} - \\frac{49}{36} {\\Delta}x^{6} - \\frac{25}{64} {\\Delta}x^{8} - \\left( 1 + 2 {\\Delta}x^{2} + {\\Delta}x^{4} + \\frac{2}{9} {\\Delta}x^{6} + \\frac{1}{36} {\\Delta}x^{8} \\right)^{2} + \\left( 1 + 4 {\\Delta}x^{2} + 4 {\\Delta}x^{4} + \\frac{16}{9} {\\Delta}x^{6} + \\frac{4}{9} {\\Delta}x^{8} \\right) \\left( 1 + {\\Delta}x^{2} + \\frac{1}{4} {\\Delta}x^{4} + \\frac{1}{36} {\\Delta}x^{6} + \\frac{1}{576} {\\Delta}x^{8} \\right)} & \\frac{\\frac{1}{2} {\\Delta}x^{2} \\left(  - 2 {\\Delta}x^{2} - {\\Delta}x^{4} - \\frac{2}{9} {\\Delta}x^{6} - \\frac{1}{36} {\\Delta}x^{8} \\right)}{ - {\\Delta}x^{2} - \\frac{9}{4} {\\Delta}x^{4} - \\frac{49}{36} {\\Delta}x^{6} - \\frac{25}{64} {\\Delta}x^{8} - \\left( 1 + 2 {\\Delta}x^{2} + {\\Delta}x^{4} + \\frac{2}{9} {\\Delta}x^{6} + \\frac{1}{36} {\\Delta}x^{8} \\right)^{2} + \\left( 1 + 4 {\\Delta}x^{2} + 4 {\\Delta}x^{4} + \\frac{16}{9} {\\Delta}x^{6} + \\frac{4}{9} {\\Delta}x^{8} \\right) \\left( 1 + {\\Delta}x^{2} + \\frac{1}{4} {\\Delta}x^{4} + \\frac{1}{36} {\\Delta}x^{6} + \\frac{1}{576} {\\Delta}x^{8} \\right)} + \\frac{2 {\\Delta}x^{2} \\left( {\\Delta}x^{2} + \\frac{1}{4} {\\Delta}x^{4} + \\frac{1}{36} {\\Delta}x^{6} + \\frac{1}{576} {\\Delta}x^{8} \\right)}{ - {\\Delta}x^{2} - \\frac{9}{4} {\\Delta}x^{4} - \\frac{49}{36} {\\Delta}x^{6} - \\frac{25}{64} {\\Delta}x^{8} - \\left( 1 + 2 {\\Delta}x^{2} + {\\Delta}x^{4} + \\frac{2}{9} {\\Delta}x^{6} + \\frac{1}{36} {\\Delta}x^{8} \\right)^{2} + \\left( 1 + 4 {\\Delta}x^{2} + 4 {\\Delta}x^{4} + \\frac{16}{9} {\\Delta}x^{6} + \\frac{4}{9} {\\Delta}x^{8} \\right) \\left( 1 + {\\Delta}x^{2} + \\frac{1}{4} {\\Delta}x^{4} + \\frac{1}{36} {\\Delta}x^{6} + \\frac{1}{576} {\\Delta}x^{8} \\right)} \\\\\n",
       "\\frac{\\frac{1}{6} {\\Delta}x^{3} \\left(  - 2 {\\Delta}x^{2} - 3 {\\Delta}x^{4} - \\frac{14}{9} {\\Delta}x^{6} - \\frac{5}{12} {\\Delta}x^{8} \\right)}{ - {\\Delta}x^{2} - \\frac{9}{4} {\\Delta}x^{4} - \\frac{49}{36} {\\Delta}x^{6} - \\frac{25}{64} {\\Delta}x^{8} - \\left( 1 + 2 {\\Delta}x^{2} + {\\Delta}x^{4} + \\frac{2}{9} {\\Delta}x^{6} + \\frac{1}{36} {\\Delta}x^{8} \\right)^{2} + \\left( 1 + 4 {\\Delta}x^{2} + 4 {\\Delta}x^{4} + \\frac{16}{9} {\\Delta}x^{6} + \\frac{4}{9} {\\Delta}x^{8} \\right) \\left( 1 + {\\Delta}x^{2} + \\frac{1}{4} {\\Delta}x^{4} + \\frac{1}{36} {\\Delta}x^{6} + \\frac{1}{576} {\\Delta}x^{8} \\right)} + \\frac{\\frac{4}{3} {\\Delta}x^{3} \\left( {\\Delta}x^{2} + \\frac{3}{4} {\\Delta}x^{4} + \\frac{7}{36} {\\Delta}x^{6} + \\frac{5}{192} {\\Delta}x^{8} \\right)}{ - {\\Delta}x^{2} - \\frac{9}{4} {\\Delta}x^{4} - \\frac{49}{36} {\\Delta}x^{6} - \\frac{25}{64} {\\Delta}x^{8} - \\left( 1 + 2 {\\Delta}x^{2} + {\\Delta}x^{4} + \\frac{2}{9} {\\Delta}x^{6} + \\frac{1}{36} {\\Delta}x^{8} \\right)^{2} + \\left( 1 + 4 {\\Delta}x^{2} + 4 {\\Delta}x^{4} + \\frac{16}{9} {\\Delta}x^{6} + \\frac{4}{9} {\\Delta}x^{8} \\right) \\left( 1 + {\\Delta}x^{2} + \\frac{1}{4} {\\Delta}x^{4} + \\frac{1}{36} {\\Delta}x^{6} + \\frac{1}{576} {\\Delta}x^{8} \\right)} & \\frac{\\frac{4}{3} {\\Delta}x^{3} \\left(  - 2 {\\Delta}x^{2} - {\\Delta}x^{4} - \\frac{2}{9} {\\Delta}x^{6} - \\frac{1}{36} {\\Delta}x^{8} \\right)}{ - {\\Delta}x^{2} - \\frac{9}{4} {\\Delta}x^{4} - \\frac{49}{36} {\\Delta}x^{6} - \\frac{25}{64} {\\Delta}x^{8} - \\left( 1 + 2 {\\Delta}x^{2} + {\\Delta}x^{4} + \\frac{2}{9} {\\Delta}x^{6} + \\frac{1}{36} {\\Delta}x^{8} \\right)^{2} + \\left( 1 + 4 {\\Delta}x^{2} + 4 {\\Delta}x^{4} + \\frac{16}{9} {\\Delta}x^{6} + \\frac{4}{9} {\\Delta}x^{8} \\right) \\left( 1 + {\\Delta}x^{2} + \\frac{1}{4} {\\Delta}x^{4} + \\frac{1}{36} {\\Delta}x^{6} + \\frac{1}{576} {\\Delta}x^{8} \\right)} + \\frac{\\frac{1}{6} {\\Delta}x^{3} \\left( 4 {\\Delta}x^{2} + 4 {\\Delta}x^{4} + \\frac{16}{9} {\\Delta}x^{6} + \\frac{4}{9} {\\Delta}x^{8} \\right)}{ - {\\Delta}x^{2} - \\frac{9}{4} {\\Delta}x^{4} - \\frac{49}{36} {\\Delta}x^{6} - \\frac{25}{64} {\\Delta}x^{8} - \\left( 1 + 2 {\\Delta}x^{2} + {\\Delta}x^{4} + \\frac{2}{9} {\\Delta}x^{6} + \\frac{1}{36} {\\Delta}x^{8} \\right)^{2} + \\left( 1 + 4 {\\Delta}x^{2} + 4 {\\Delta}x^{4} + \\frac{16}{9} {\\Delta}x^{6} + \\frac{4}{9} {\\Delta}x^{8} \\right) \\left( 1 + {\\Delta}x^{2} + \\frac{1}{4} {\\Delta}x^{4} + \\frac{1}{36} {\\Delta}x^{6} + \\frac{1}{576} {\\Delta}x^{8} \\right)} & \\frac{\\frac{4}{3} {\\Delta}x^{3} \\left( {\\Delta}x^{2} + \\frac{1}{4} {\\Delta}x^{4} + \\frac{1}{36} {\\Delta}x^{6} + \\frac{1}{576} {\\Delta}x^{8} \\right)}{ - {\\Delta}x^{2} - \\frac{9}{4} {\\Delta}x^{4} - \\frac{49}{36} {\\Delta}x^{6} - \\frac{25}{64} {\\Delta}x^{8} - \\left( 1 + 2 {\\Delta}x^{2} + {\\Delta}x^{4} + \\frac{2}{9} {\\Delta}x^{6} + \\frac{1}{36} {\\Delta}x^{8} \\right)^{2} + \\left( 1 + 4 {\\Delta}x^{2} + 4 {\\Delta}x^{4} + \\frac{16}{9} {\\Delta}x^{6} + \\frac{4}{9} {\\Delta}x^{8} \\right) \\left( 1 + {\\Delta}x^{2} + \\frac{1}{4} {\\Delta}x^{4} + \\frac{1}{36} {\\Delta}x^{6} + \\frac{1}{576} {\\Delta}x^{8} \\right)} + \\frac{\\frac{1}{6} {\\Delta}x^{3} \\left(  - 2 {\\Delta}x^{2} - {\\Delta}x^{4} - \\frac{2}{9} {\\Delta}x^{6} - \\frac{1}{36} {\\Delta}x^{8} \\right)}{ - {\\Delta}x^{2} - \\frac{9}{4} {\\Delta}x^{4} - \\frac{49}{36} {\\Delta}x^{6} - \\frac{25}{64} {\\Delta}x^{8} - \\left( 1 + 2 {\\Delta}x^{2} + {\\Delta}x^{4} + \\frac{2}{9} {\\Delta}x^{6} + \\frac{1}{36} {\\Delta}x^{8} \\right)^{2} + \\left( 1 + 4 {\\Delta}x^{2} + 4 {\\Delta}x^{4} + \\frac{16}{9} {\\Delta}x^{6} + \\frac{4}{9} {\\Delta}x^{8} \\right) \\left( 1 + {\\Delta}x^{2} + \\frac{1}{4} {\\Delta}x^{4} + \\frac{1}{36} {\\Delta}x^{6} + \\frac{1}{576} {\\Delta}x^{8} \\right)} \\\\\n",
       "\\frac{\\frac{2}{3} {\\Delta}x^{4} \\left( {\\Delta}x^{2} + \\frac{3}{4} {\\Delta}x^{4} + \\frac{7}{36} {\\Delta}x^{6} + \\frac{5}{192} {\\Delta}x^{8} \\right)}{ - {\\Delta}x^{2} - \\frac{9}{4} {\\Delta}x^{4} - \\frac{49}{36} {\\Delta}x^{6} - \\frac{25}{64} {\\Delta}x^{8} - \\left( 1 + 2 {\\Delta}x^{2} + {\\Delta}x^{4} + \\frac{2}{9} {\\Delta}x^{6} + \\frac{1}{36} {\\Delta}x^{8} \\right)^{2} + \\left( 1 + 4 {\\Delta}x^{2} + 4 {\\Delta}x^{4} + \\frac{16}{9} {\\Delta}x^{6} + \\frac{4}{9} {\\Delta}x^{8} \\right) \\left( 1 + {\\Delta}x^{2} + \\frac{1}{4} {\\Delta}x^{4} + \\frac{1}{36} {\\Delta}x^{6} + \\frac{1}{576} {\\Delta}x^{8} \\right)} + \\frac{\\frac{1}{24} {\\Delta}x^{4} \\left(  - 2 {\\Delta}x^{2} - 3 {\\Delta}x^{4} - \\frac{14}{9} {\\Delta}x^{6} - \\frac{5}{12} {\\Delta}x^{8} \\right)}{ - {\\Delta}x^{2} - \\frac{9}{4} {\\Delta}x^{4} - \\frac{49}{36} {\\Delta}x^{6} - \\frac{25}{64} {\\Delta}x^{8} - \\left( 1 + 2 {\\Delta}x^{2} + {\\Delta}x^{4} + \\frac{2}{9} {\\Delta}x^{6} + \\frac{1}{36} {\\Delta}x^{8} \\right)^{2} + \\left( 1 + 4 {\\Delta}x^{2} + 4 {\\Delta}x^{4} + \\frac{16}{9} {\\Delta}x^{6} + \\frac{4}{9} {\\Delta}x^{8} \\right) \\left( 1 + {\\Delta}x^{2} + \\frac{1}{4} {\\Delta}x^{4} + \\frac{1}{36} {\\Delta}x^{6} + \\frac{1}{576} {\\Delta}x^{8} \\right)} & \\frac{\\frac{1}{24} {\\Delta}x^{4} \\left( 4 {\\Delta}x^{2} + 4 {\\Delta}x^{4} + \\frac{16}{9} {\\Delta}x^{6} + \\frac{4}{9} {\\Delta}x^{8} \\right)}{ - {\\Delta}x^{2} - \\frac{9}{4} {\\Delta}x^{4} - \\frac{49}{36} {\\Delta}x^{6} - \\frac{25}{64} {\\Delta}x^{8} - \\left( 1 + 2 {\\Delta}x^{2} + {\\Delta}x^{4} + \\frac{2}{9} {\\Delta}x^{6} + \\frac{1}{36} {\\Delta}x^{8} \\right)^{2} + \\left( 1 + 4 {\\Delta}x^{2} + 4 {\\Delta}x^{4} + \\frac{16}{9} {\\Delta}x^{6} + \\frac{4}{9} {\\Delta}x^{8} \\right) \\left( 1 + {\\Delta}x^{2} + \\frac{1}{4} {\\Delta}x^{4} + \\frac{1}{36} {\\Delta}x^{6} + \\frac{1}{576} {\\Delta}x^{8} \\right)} + \\frac{\\frac{2}{3} {\\Delta}x^{4} \\left(  - 2 {\\Delta}x^{2} - {\\Delta}x^{4} - \\frac{2}{9} {\\Delta}x^{6} - \\frac{1}{36} {\\Delta}x^{8} \\right)}{ - {\\Delta}x^{2} - \\frac{9}{4} {\\Delta}x^{4} - \\frac{49}{36} {\\Delta}x^{6} - \\frac{25}{64} {\\Delta}x^{8} - \\left( 1 + 2 {\\Delta}x^{2} + {\\Delta}x^{4} + \\frac{2}{9} {\\Delta}x^{6} + \\frac{1}{36} {\\Delta}x^{8} \\right)^{2} + \\left( 1 + 4 {\\Delta}x^{2} + 4 {\\Delta}x^{4} + \\frac{16}{9} {\\Delta}x^{6} + \\frac{4}{9} {\\Delta}x^{8} \\right) \\left( 1 + {\\Delta}x^{2} + \\frac{1}{4} {\\Delta}x^{4} + \\frac{1}{36} {\\Delta}x^{6} + \\frac{1}{576} {\\Delta}x^{8} \\right)} & \\frac{\\frac{2}{3} {\\Delta}x^{4} \\left( {\\Delta}x^{2} + \\frac{1}{4} {\\Delta}x^{4} + \\frac{1}{36} {\\Delta}x^{6} + \\frac{1}{576} {\\Delta}x^{8} \\right)}{ - {\\Delta}x^{2} - \\frac{9}{4} {\\Delta}x^{4} - \\frac{49}{36} {\\Delta}x^{6} - \\frac{25}{64} {\\Delta}x^{8} - \\left( 1 + 2 {\\Delta}x^{2} + {\\Delta}x^{4} + \\frac{2}{9} {\\Delta}x^{6} + \\frac{1}{36} {\\Delta}x^{8} \\right)^{2} + \\left( 1 + 4 {\\Delta}x^{2} + 4 {\\Delta}x^{4} + \\frac{16}{9} {\\Delta}x^{6} + \\frac{4}{9} {\\Delta}x^{8} \\right) \\left( 1 + {\\Delta}x^{2} + \\frac{1}{4} {\\Delta}x^{4} + \\frac{1}{36} {\\Delta}x^{6} + \\frac{1}{576} {\\Delta}x^{8} \\right)} + \\frac{\\frac{1}{24} {\\Delta}x^{4} \\left(  - 2 {\\Delta}x^{2} - {\\Delta}x^{4} - \\frac{2}{9} {\\Delta}x^{6} - \\frac{1}{36} {\\Delta}x^{8} \\right)}{ - {\\Delta}x^{2} - \\frac{9}{4} {\\Delta}x^{4} - \\frac{49}{36} {\\Delta}x^{6} - \\frac{25}{64} {\\Delta}x^{8} - \\left( 1 + 2 {\\Delta}x^{2} + {\\Delta}x^{4} + \\frac{2}{9} {\\Delta}x^{6} + \\frac{1}{36} {\\Delta}x^{8} \\right)^{2} + \\left( 1 + 4 {\\Delta}x^{2} + 4 {\\Delta}x^{4} + \\frac{16}{9} {\\Delta}x^{6} + \\frac{4}{9} {\\Delta}x^{8} \\right) \\left( 1 + {\\Delta}x^{2} + \\frac{1}{4} {\\Delta}x^{4} + \\frac{1}{36} {\\Delta}x^{6} + \\frac{1}{576} {\\Delta}x^{8} \\right)} \\\\\n",
       "\\end{array}\n",
       "\\right]\n",
       "\\end{equation}\n",
       " $$"
      ],
      "text/plain": [
       "5×3 Matrix{Num}:\n",
       " (-((1 + 2(Δx^2) + Δx^4 + (2//9)*(Δx^6) + (1//36)*(Δx^8))^2) + (1 + 4(Δx^2) + (4//1)*(Δx^4) + (16//9)*(Δx^6) + (4//9)*(Δx^8))*(1 + Δx^2 + (1//4)*(Δx^4) + (1//36)*(Δx^6) + (1//576)*(Δx^8))) / (-(Δx^2) - (9//4)*(Δx^4) - (49//36)*(Δx^6) - (25//64)*(Δx^8) - ((1 + 2(Δx^2) + Δx^4 + (2//9)*(Δx^6) + (1//36)*(Δx^8))^2) + (1 + 4(Δx^2) + (4//1)*(Δx^4) + (16//9)*(Δx^6) + (4//9)*(Δx^8))*(1 + Δx^2 + (1//4)*(Δx^4) + (1//36)*(Δx^6) + (1//576)*(Δx^8))) + (Δx^2 + (3//4)*(Δx^4) + (7//36)*(Δx^6) + (5//192)*(Δx^8)) / (-(Δx^2) - (9//4)*(Δx^4) - (49//36)*(Δx^6) - (25//64)*(Δx^8) - ((1 + 2(Δx^2) + Δx^4 + (2//9)*(Δx^6) + (1//36)*(Δx^8))^2) + (1 + 4(Δx^2) + (4//1)*(Δx^4) + (16//9)*(Δx^6) + (4//9)*(Δx^8))*(1 + Δx^2 + (1//4)*(Δx^4) + (1//36)*(Δx^6) + (1//576)*(Δx^8))) + (-2(Δx^2) - (3//1)*(Δx^4) - (14//9)*(Δx^6) - (5//12)*(Δx^8)) / (-(Δx^2) - (9//4)*(Δx^4) - (49//36)*(Δx^6) - (25//64)*(Δx^8) - ((1 + 2(Δx^2) + Δx^4 + (2//9)*(Δx^6) + (1//36)*(Δx^8))^2) + (1 + 4(Δx^2) + (4//1)*(Δx^4) + (16//9)*(Δx^6) + (4//9)*(Δx^8))*(1 + Δx^2 + (1//4)*(Δx^4) + (1//36)*(Δx^6) + (1//576)*(Δx^8)))  …  (Δx^2 + (1//4)*(Δx^4) + (1//36)*(Δx^6) + (1//576)*(Δx^8)) / (-(Δx^2) - (9//4)*(Δx^4) - (49//36)*(Δx^6) - (25//64)*(Δx^8) - ((1 + 2(Δx^2) + Δx^4 + (2//9)*(Δx^6) + (1//36)*(Δx^8))^2) + (1 + 4(Δx^2) + (4//1)*(Δx^4) + (16//9)*(Δx^6) + (4//9)*(Δx^8))*(1 + Δx^2 + (1//4)*(Δx^4) + (1//36)*(Δx^6) + (1//576)*(Δx^8))) + (Δx^2 + (3//4)*(Δx^4) + (7//36)*(Δx^6) + (5//192)*(Δx^8)) / (-(Δx^2) - (9//4)*(Δx^4) - (49//36)*(Δx^6) - (25//64)*(Δx^8) - ((1 + 2(Δx^2) + Δx^4 + (2//9)*(Δx^6) + (1//36)*(Δx^8))^2) + (1 + 4(Δx^2) + (4//1)*(Δx^4) + (16//9)*(Δx^6) + (4//9)*(Δx^8))*(1 + Δx^2 + (1//4)*(Δx^4) + (1//36)*(Δx^6) + (1//576)*(Δx^8))) + (-2(Δx^2) - (Δx^4) - (2//9)*(Δx^6) - (1//36)*(Δx^8)) / (-(Δx^2) - (9//4)*(Δx^4) - (49//36)*(Δx^6) - (25//64)*(Δx^8) - ((1 + 2(Δx^2) + Δx^4 + (2//9)*(Δx^6) + (1//36)*(Δx^8))^2) + (1 + 4(Δx^2) + (4//1)*(Δx^4) + (16//9)*(Δx^6) + (4//9)*(Δx^8))*(1 + Δx^2 + (1//4)*(Δx^4) + (1//36)*(Δx^6) + (1//576)*(Δx^8)))\n",
       "                                                                                                                                                                                                                                                                                                                                                                                                                                               (Δx*(-2(Δx^2) - (3//1)*(Δx^4) - (14//9)*(Δx^6) - (5//12)*(Δx^8))) / (-(Δx^2) - (9//4)*(Δx^4) - (49//36)*(Δx^6) - (25//64)*(Δx^8) - ((1 + 2(Δx^2) + Δx^4 + (2//9)*(Δx^6) + (1//36)*(Δx^8))^2) + (1 + 4(Δx^2) + (4//1)*(Δx^4) + (16//9)*(Δx^6) + (4//9)*(Δx^8))*(1 + Δx^2 + (1//4)*(Δx^4) + (1//36)*(Δx^6) + (1//576)*(Δx^8))) + (2Δx*(Δx^2 + (3//4)*(Δx^4) + (7//36)*(Δx^6) + (5//192)*(Δx^8))) / (-(Δx^2) - (9//4)*(Δx^4) - (49//36)*(Δx^6) - (25//64)*(Δx^8) - ((1 + 2(Δx^2) + Δx^4 + (2//9)*(Δx^6) + (1//36)*(Δx^8))^2) + (1 + 4(Δx^2) + (4//1)*(Δx^4) + (16//9)*(Δx^6) + (4//9)*(Δx^8))*(1 + Δx^2 + (1//4)*(Δx^4) + (1//36)*(Δx^6) + (1//576)*(Δx^8)))                                                                                                                                                                                                                                                                                                                 (2Δx*(Δx^2 + (1//4)*(Δx^4) + (1//36)*(Δx^6) + (1//576)*(Δx^8))) / (-(Δx^2) - (9//4)*(Δx^4) - (49//36)*(Δx^6) - (25//64)*(Δx^8) - ((1 + 2(Δx^2) + Δx^4 + (2//9)*(Δx^6) + (1//36)*(Δx^8))^2) + (1 + 4(Δx^2) + (4//1)*(Δx^4) + (16//9)*(Δx^6) + (4//9)*(Δx^8))*(1 + Δx^2 + (1//4)*(Δx^4) + (1//36)*(Δx^6) + (1//576)*(Δx^8))) + (Δx*(-2(Δx^2) - (Δx^4) - (2//9)*(Δx^6) - (1//36)*(Δx^8))) / (-(Δx^2) - (9//4)*(Δx^4) - (49//36)*(Δx^6) - (25//64)*(Δx^8) - ((1 + 2(Δx^2) + Δx^4 + (2//9)*(Δx^6) + (1//36)*(Δx^8))^2) + (1 + 4(Δx^2) + (4//1)*(Δx^4) + (16//9)*(Δx^6) + (4//9)*(Δx^8))*(1 + Δx^2 + (1//4)*(Δx^4) + (1//36)*(Δx^6) + (1//576)*(Δx^8)))\n",
       "                                                                                                                                                                                                                                                                                                                                                                                                                          ((2//1)*(Δx^2)*(Δx^2 + (3//4)*(Δx^4) + (7//36)*(Δx^6) + (5//192)*(Δx^8))) / (-(Δx^2) - (9//4)*(Δx^4) - (49//36)*(Δx^6) - (25//64)*(Δx^8) - ((1 + 2(Δx^2) + Δx^4 + (2//9)*(Δx^6) + (1//36)*(Δx^8))^2) + (1 + 4(Δx^2) + (4//1)*(Δx^4) + (16//9)*(Δx^6) + (4//9)*(Δx^8))*(1 + Δx^2 + (1//4)*(Δx^4) + (1//36)*(Δx^6) + (1//576)*(Δx^8))) + ((1//2)*(Δx^2)*(-2(Δx^2) - (3//1)*(Δx^4) - (14//9)*(Δx^6) - (5//12)*(Δx^8))) / (-(Δx^2) - (9//4)*(Δx^4) - (49//36)*(Δx^6) - (25//64)*(Δx^8) - ((1 + 2(Δx^2) + Δx^4 + (2//9)*(Δx^6) + (1//36)*(Δx^8))^2) + (1 + 4(Δx^2) + (4//1)*(Δx^4) + (16//9)*(Δx^6) + (4//9)*(Δx^8))*(1 + Δx^2 + (1//4)*(Δx^4) + (1//36)*(Δx^6) + (1//576)*(Δx^8)))                                                                                                                                                                                                                                                                                            ((1//2)*(Δx^2)*(-2(Δx^2) - (Δx^4) - (2//9)*(Δx^6) - (1//36)*(Δx^8))) / (-(Δx^2) - (9//4)*(Δx^4) - (49//36)*(Δx^6) - (25//64)*(Δx^8) - ((1 + 2(Δx^2) + Δx^4 + (2//9)*(Δx^6) + (1//36)*(Δx^8))^2) + (1 + 4(Δx^2) + (4//1)*(Δx^4) + (16//9)*(Δx^6) + (4//9)*(Δx^8))*(1 + Δx^2 + (1//4)*(Δx^4) + (1//36)*(Δx^6) + (1//576)*(Δx^8))) + ((2//1)*(Δx^2)*(Δx^2 + (1//4)*(Δx^4) + (1//36)*(Δx^6) + (1//576)*(Δx^8))) / (-(Δx^2) - (9//4)*(Δx^4) - (49//36)*(Δx^6) - (25//64)*(Δx^8) - ((1 + 2(Δx^2) + Δx^4 + (2//9)*(Δx^6) + (1//36)*(Δx^8))^2) + (1 + 4(Δx^2) + (4//1)*(Δx^4) + (16//9)*(Δx^6) + (4//9)*(Δx^8))*(1 + Δx^2 + (1//4)*(Δx^4) + (1//36)*(Δx^6) + (1//576)*(Δx^8)))\n",
       "                                                                                                                                                                                                                                                                                                                                                                                                                          ((1//6)*(Δx^3)*(-2(Δx^2) - (3//1)*(Δx^4) - (14//9)*(Δx^6) - (5//12)*(Δx^8))) / (-(Δx^2) - (9//4)*(Δx^4) - (49//36)*(Δx^6) - (25//64)*(Δx^8) - ((1 + 2(Δx^2) + Δx^4 + (2//9)*(Δx^6) + (1//36)*(Δx^8))^2) + (1 + 4(Δx^2) + (4//1)*(Δx^4) + (16//9)*(Δx^6) + (4//9)*(Δx^8))*(1 + Δx^2 + (1//4)*(Δx^4) + (1//36)*(Δx^6) + (1//576)*(Δx^8))) + ((4//3)*(Δx^3)*(Δx^2 + (3//4)*(Δx^4) + (7//36)*(Δx^6) + (5//192)*(Δx^8))) / (-(Δx^2) - (9//4)*(Δx^4) - (49//36)*(Δx^6) - (25//64)*(Δx^8) - ((1 + 2(Δx^2) + Δx^4 + (2//9)*(Δx^6) + (1//36)*(Δx^8))^2) + (1 + 4(Δx^2) + (4//1)*(Δx^4) + (16//9)*(Δx^6) + (4//9)*(Δx^8))*(1 + Δx^2 + (1//4)*(Δx^4) + (1//36)*(Δx^6) + (1//576)*(Δx^8)))                                                                                                                                                                                                                                                                                            ((4//3)*(Δx^3)*(Δx^2 + (1//4)*(Δx^4) + (1//36)*(Δx^6) + (1//576)*(Δx^8))) / (-(Δx^2) - (9//4)*(Δx^4) - (49//36)*(Δx^6) - (25//64)*(Δx^8) - ((1 + 2(Δx^2) + Δx^4 + (2//9)*(Δx^6) + (1//36)*(Δx^8))^2) + (1 + 4(Δx^2) + (4//1)*(Δx^4) + (16//9)*(Δx^6) + (4//9)*(Δx^8))*(1 + Δx^2 + (1//4)*(Δx^4) + (1//36)*(Δx^6) + (1//576)*(Δx^8))) + ((1//6)*(Δx^3)*(-2(Δx^2) - (Δx^4) - (2//9)*(Δx^6) - (1//36)*(Δx^8))) / (-(Δx^2) - (9//4)*(Δx^4) - (49//36)*(Δx^6) - (25//64)*(Δx^8) - ((1 + 2(Δx^2) + Δx^4 + (2//9)*(Δx^6) + (1//36)*(Δx^8))^2) + (1 + 4(Δx^2) + (4//1)*(Δx^4) + (16//9)*(Δx^6) + (4//9)*(Δx^8))*(1 + Δx^2 + (1//4)*(Δx^4) + (1//36)*(Δx^6) + (1//576)*(Δx^8)))\n",
       "                                                                                                                                                                                                                                                                                                                                                                                                                         ((2//3)*(Δx^4)*(Δx^2 + (3//4)*(Δx^4) + (7//36)*(Δx^6) + (5//192)*(Δx^8))) / (-(Δx^2) - (9//4)*(Δx^4) - (49//36)*(Δx^6) - (25//64)*(Δx^8) - ((1 + 2(Δx^2) + Δx^4 + (2//9)*(Δx^6) + (1//36)*(Δx^8))^2) + (1 + 4(Δx^2) + (4//1)*(Δx^4) + (16//9)*(Δx^6) + (4//9)*(Δx^8))*(1 + Δx^2 + (1//4)*(Δx^4) + (1//36)*(Δx^6) + (1//576)*(Δx^8))) + ((1//24)*(Δx^4)*(-2(Δx^2) - (3//1)*(Δx^4) - (14//9)*(Δx^6) - (5//12)*(Δx^8))) / (-(Δx^2) - (9//4)*(Δx^4) - (49//36)*(Δx^6) - (25//64)*(Δx^8) - ((1 + 2(Δx^2) + Δx^4 + (2//9)*(Δx^6) + (1//36)*(Δx^8))^2) + (1 + 4(Δx^2) + (4//1)*(Δx^4) + (16//9)*(Δx^6) + (4//9)*(Δx^8))*(1 + Δx^2 + (1//4)*(Δx^4) + (1//36)*(Δx^6) + (1//576)*(Δx^8)))                                                                                                                                                                                                                                                                                           ((2//3)*(Δx^4)*(Δx^2 + (1//4)*(Δx^4) + (1//36)*(Δx^6) + (1//576)*(Δx^8))) / (-(Δx^2) - (9//4)*(Δx^4) - (49//36)*(Δx^6) - (25//64)*(Δx^8) - ((1 + 2(Δx^2) + Δx^4 + (2//9)*(Δx^6) + (1//36)*(Δx^8))^2) + (1 + 4(Δx^2) + (4//1)*(Δx^4) + (16//9)*(Δx^6) + (4//9)*(Δx^8))*(1 + Δx^2 + (1//4)*(Δx^4) + (1//36)*(Δx^6) + (1//576)*(Δx^8))) + ((1//24)*(Δx^4)*(-2(Δx^2) - (Δx^4) - (2//9)*(Δx^6) - (1//36)*(Δx^8))) / (-(Δx^2) - (9//4)*(Δx^4) - (49//36)*(Δx^6) - (25//64)*(Δx^8) - ((1 + 2(Δx^2) + Δx^4 + (2//9)*(Δx^6) + (1//36)*(Δx^8))^2) + (1 + 4(Δx^2) + (4//1)*(Δx^4) + (16//9)*(Δx^6) + (4//9)*(Δx^8))*(1 + Δx^2 + (1//4)*(Δx^4) + (1//36)*(Δx^6) + (1//576)*(Δx^8)))"
      ]
     },
     "metadata": {},
     "output_type": "display_data"
    }
   ],
   "source": [
    "theMatrix=mySimplify(transpose(biggerA2)*Ainv)\n",
    "theMatrixLeft=transpose(bigALeft)*ALeftinv\n",
    "Symbolics.simplify(Symbolics.expand(theMatrixLeft))"
   ]
  },
  {
   "cell_type": "code",
   "execution_count": 223,
   "metadata": {},
   "outputs": [
    {
     "data": {
      "text/latex": [
       "$$ \\begin{equation}\n",
       "{\\Delta}x^{6} + {\\Delta}x^{8} + 0.45139 {\\Delta}x^{10} + 0.0625 {\\Delta}x^{12} + 0.0030864 {\\Delta}x^{14}\n",
       "\\end{equation}\n",
       " $$"
      ],
      "text/plain": [
       "Δx^6 + Δx^8 + 0.45138888888888884(Δx^10) + 0.0625(Δx^12) + 0.0030864197530864196(Δx^14)"
      ]
     },
     "metadata": {},
     "output_type": "display_data"
    }
   ],
   "source": [
    "denom=mySimplify(-Δx^2-9/4*Δx^4-49/36*Δx^6-25//64*Δx^8 -(1+2*Δx^2 +Δx^4+2/9*Δx^6+1//36*Δx^8)*(1+2*Δx^2 +Δx^4+2/9*Δx^6+1/36*Δx^8) + (1+4*Δx^2+4*Δx^4+16/9*Δx^6+4/9*Δx^8)*(1+Δx^2+1/4*Δx^4+1//36*Δx^6+1//576*Δx^8))"
   ]
  },
  {
   "cell_type": "code",
   "execution_count": 235,
   "metadata": {},
   "outputs": [
    {
     "data": {
      "text/latex": [
       "$$ \\begin{equation}\n",
       "1\n",
       "\\end{equation}\n",
       " $$"
      ],
      "text/plain": [
       "1"
      ]
     },
     "metadata": {},
     "output_type": "display_data"
    }
   ],
   "source": [
    "simplify(theMatrixLeft[1,1])"
   ]
  },
  {
   "cell_type": "code",
   "execution_count": 229,
   "metadata": {},
   "outputs": [
    {
     "data": {
      "text/latex": [
       "$$ \\begin{equation}\n",
       "0\n",
       "\\end{equation}\n",
       " $$"
      ],
      "text/plain": [
       "0"
      ]
     },
     "metadata": {},
     "output_type": "display_data"
    }
   ],
   "source": [
    "simplify(theMatrixLeft[1,2]*denom)"
   ]
  },
  {
   "cell_type": "code",
   "execution_count": 230,
   "metadata": {},
   "outputs": [
    {
     "data": {
      "text/latex": [
       "$$ \\begin{equation}\n",
       "0\n",
       "\\end{equation}\n",
       " $$"
      ],
      "text/plain": [
       "0"
      ]
     },
     "metadata": {},
     "output_type": "display_data"
    }
   ],
   "source": [
    "simplify(theMatrixLeft[1,3]*denom)"
   ]
  },
  {
   "cell_type": "code",
   "execution_count": 236,
   "metadata": {},
   "outputs": [
    {
     "data": {
      "text/latex": [
       "$$ \\begin{equation}\n",
       "\\frac{-1.5 - 1.1667 {\\Delta}x^{2} - 0.36458 {\\Delta}x^{4}}{{\\Delta}x + 1 {\\Delta}x^{3} + 0.45139 {\\Delta}x^{5} + 0.0625 {\\Delta}x^{7} + 0.0030864 {\\Delta}x^{9}}\n",
       "\\end{equation}\n",
       " $$"
      ],
      "text/plain": [
       "(-1.5000000000000202 - 1.1666666666666659(Δx^2) - 0.36458333333333337(Δx^4)) / (Δx + 1.0000000000000002(Δx^3) + 0.45138888888888884(Δx^5) + 0.0625(Δx^7) + 0.0030864197530864196(Δx^9))"
      ]
     },
     "metadata": {},
     "output_type": "display_data"
    }
   ],
   "source": [
    "simplify(theMatrixLeft[2,1])"
   ]
  },
  {
   "cell_type": "code",
   "execution_count": 237,
   "metadata": {},
   "outputs": [
    {
     "data": {
      "text/latex": [
       "$$ \\begin{equation}\n",
       "\\frac{2 + 1.3333 {\\Delta}x^{2} + 0.38889 {\\Delta}x^{4}}{{\\Delta}x + 1 {\\Delta}x^{3} + 0.45139 {\\Delta}x^{5} + 0.0625 {\\Delta}x^{7} + 0.0030864 {\\Delta}x^{9}}\n",
       "\\end{equation}\n",
       " $$"
      ],
      "text/plain": [
       "(1.999999999999991 + 1.333333333333333(Δx^2) + 0.3888888888888889(Δx^4)) / (Δx + 1.0000000000000002(Δx^3) + 0.45138888888888884(Δx^5) + 0.0625(Δx^7) + 0.0030864197530864196(Δx^9))"
      ]
     },
     "metadata": {},
     "output_type": "display_data"
    }
   ],
   "source": [
    "simplify(theMatrixLeft[2,2])"
   ]
  },
  {
   "cell_type": "code",
   "execution_count": 238,
   "metadata": {},
   "outputs": [
    {
     "data": {
      "text/latex": [
       "$$ \\begin{equation}\n",
       "\\frac{-0.5 - 0.16667 {\\Delta}x^{2} - 0.024306 {\\Delta}x^{4}}{{\\Delta}x + 1 {\\Delta}x^{3} + 0.45139 {\\Delta}x^{5} + 0.0625 {\\Delta}x^{7} + 0.0030864 {\\Delta}x^{9}}\n",
       "\\end{equation}\n",
       " $$"
      ],
      "text/plain": [
       "(-0.5 - 0.16666666666666669(Δx^2) - 0.024305555555555556(Δx^4)) / (Δx + 1.0000000000000002(Δx^3) + 0.45138888888888884(Δx^5) + 0.0625(Δx^7) + 0.0030864197530864196(Δx^9))"
      ]
     },
     "metadata": {},
     "output_type": "display_data"
    }
   ],
   "source": [
    "simplify(theMatrixLeft[2,3])"
   ]
  },
  {
   "cell_type": "code",
   "execution_count": 239,
   "metadata": {},
   "outputs": [
    {
     "data": {
      "text/latex": [
       "$$ \\begin{equation}\n",
       "\\frac{1 - 0.38889 {\\Delta}x^{4} - 0.15625 {\\Delta}x^{6}}{{\\Delta}x^{2} + 1 {\\Delta}x^{4} + 0.45139 {\\Delta}x^{6} + 0.0625 {\\Delta}x^{8} + 0.0030864 {\\Delta}x^{10}}\n",
       "\\end{equation}\n",
       " $$"
      ],
      "text/plain": [
       "(1.0000000000000135 - 0.388888888888889(Δx^4) - 0.15625(Δx^6)) / (Δx^2 + 1.0000000000000002(Δx^4) + 0.45138888888888884(Δx^6) + 0.0625(Δx^8) + 0.0030864197530864196(Δx^10))"
      ]
     },
     "metadata": {},
     "output_type": "display_data"
    }
   ],
   "source": [
    "simplify(theMatrixLeft[3,1])"
   ]
  },
  {
   "cell_type": "code",
   "execution_count": 240,
   "metadata": {},
   "outputs": [
    {
     "data": {
      "text/latex": [
       "$$ \\begin{equation}\n",
       "\\frac{-2 + 0.44444 {\\Delta}x^{4} + 0.16667 {\\Delta}x^{6}}{{\\Delta}x^{2} + 1 {\\Delta}x^{4} + 0.45139 {\\Delta}x^{6} + 0.0625 {\\Delta}x^{8} + 0.0030864 {\\Delta}x^{10}}\n",
       "\\end{equation}\n",
       " $$"
      ],
      "text/plain": [
       "(-2.0 + 0.44444444444444453(Δx^4) + 0.16666666666666666(Δx^6)) / (Δx^2 + 1.0000000000000002(Δx^4) + 0.45138888888888884(Δx^6) + 0.0625(Δx^8) + 0.0030864197530864196(Δx^10))"
      ]
     },
     "metadata": {},
     "output_type": "display_data"
    }
   ],
   "source": [
    "simplify(theMatrixLeft[3,2])"
   ]
  },
  {
   "cell_type": "code",
   "execution_count": null,
   "metadata": {},
   "outputs": [],
   "source": [
    "simplify(theMatrixLeft[1,1]*denom)"
   ]
  },
  {
   "cell_type": "code",
   "execution_count": 205,
   "metadata": {},
   "outputs": [
    {
     "data": {
      "text/latex": [
       "$$ \\begin{equation}\n",
       "\\left[\n",
       "\\begin{array}{c}\n",
       "u_0 \\left( \\frac{ - \\left( 1 + 2 {\\Delta}x^{2} + {\\Delta}x^{4} + \\frac{2}{9} {\\Delta}x^{6} + \\frac{1}{36} {\\Delta}x^{8} \\right)^{2} + \\left( 1 + 4 {\\Delta}x^{2} + 4 {\\Delta}x^{4} + \\frac{16}{9} {\\Delta}x^{6} + \\frac{4}{9} {\\Delta}x^{8} \\right) \\left( 1 + {\\Delta}x^{2} + \\frac{1}{4} {\\Delta}x^{4} + \\frac{1}{36} {\\Delta}x^{6} + \\frac{1}{576} {\\Delta}x^{8} \\right)}{ - {\\Delta}x^{2} - \\frac{9}{4} {\\Delta}x^{4} - \\frac{49}{36} {\\Delta}x^{6} - \\frac{25}{64} {\\Delta}x^{8} - \\left( 1 + 2 {\\Delta}x^{2} + {\\Delta}x^{4} + \\frac{2}{9} {\\Delta}x^{6} + \\frac{1}{36} {\\Delta}x^{8} \\right)^{2} + \\left( 1 + 4 {\\Delta}x^{2} + 4 {\\Delta}x^{4} + \\frac{16}{9} {\\Delta}x^{6} + \\frac{4}{9} {\\Delta}x^{8} \\right) \\left( 1 + {\\Delta}x^{2} + \\frac{1}{4} {\\Delta}x^{4} + \\frac{1}{36} {\\Delta}x^{6} + \\frac{1}{576} {\\Delta}x^{8} \\right)} + \\frac{{\\Delta}x^{2} + \\frac{3}{4} {\\Delta}x^{4} + \\frac{7}{36} {\\Delta}x^{6} + \\frac{5}{192} {\\Delta}x^{8}}{ - {\\Delta}x^{2} - \\frac{9}{4} {\\Delta}x^{4} - \\frac{49}{36} {\\Delta}x^{6} - \\frac{25}{64} {\\Delta}x^{8} - \\left( 1 + 2 {\\Delta}x^{2} + {\\Delta}x^{4} + \\frac{2}{9} {\\Delta}x^{6} + \\frac{1}{36} {\\Delta}x^{8} \\right)^{2} + \\left( 1 + 4 {\\Delta}x^{2} + 4 {\\Delta}x^{4} + \\frac{16}{9} {\\Delta}x^{6} + \\frac{4}{9} {\\Delta}x^{8} \\right) \\left( 1 + {\\Delta}x^{2} + \\frac{1}{4} {\\Delta}x^{4} + \\frac{1}{36} {\\Delta}x^{6} + \\frac{1}{576} {\\Delta}x^{8} \\right)} + \\frac{ - 2 {\\Delta}x^{2} - 3 {\\Delta}x^{4} - \\frac{14}{9} {\\Delta}x^{6} - \\frac{5}{12} {\\Delta}x^{8}}{ - {\\Delta}x^{2} - \\frac{9}{4} {\\Delta}x^{4} - \\frac{49}{36} {\\Delta}x^{6} - \\frac{25}{64} {\\Delta}x^{8} - \\left( 1 + 2 {\\Delta}x^{2} + {\\Delta}x^{4} + \\frac{2}{9} {\\Delta}x^{6} + \\frac{1}{36} {\\Delta}x^{8} \\right)^{2} + \\left( 1 + 4 {\\Delta}x^{2} + 4 {\\Delta}x^{4} + \\frac{16}{9} {\\Delta}x^{6} + \\frac{4}{9} {\\Delta}x^{8} \\right) \\left( 1 + {\\Delta}x^{2} + \\frac{1}{4} {\\Delta}x^{4} + \\frac{1}{36} {\\Delta}x^{6} + \\frac{1}{576} {\\Delta}x^{8} \\right)} \\right) + u_+ \\left( \\frac{4 {\\Delta}x^{2} + 4 {\\Delta}x^{4} + \\frac{16}{9} {\\Delta}x^{6} + \\frac{4}{9} {\\Delta}x^{8}}{ - {\\Delta}x^{2} - \\frac{9}{4} {\\Delta}x^{4} - \\frac{49}{36} {\\Delta}x^{6} - \\frac{25}{64} {\\Delta}x^{8} - \\left( 1 + 2 {\\Delta}x^{2} + {\\Delta}x^{4} + \\frac{2}{9} {\\Delta}x^{6} + \\frac{1}{36} {\\Delta}x^{8} \\right)^{2} + \\left( 1 + 4 {\\Delta}x^{2} + 4 {\\Delta}x^{4} + \\frac{16}{9} {\\Delta}x^{6} + \\frac{4}{9} {\\Delta}x^{8} \\right) \\left( 1 + {\\Delta}x^{2} + \\frac{1}{4} {\\Delta}x^{4} + \\frac{1}{36} {\\Delta}x^{6} + \\frac{1}{576} {\\Delta}x^{8} \\right)} + \\frac{ - 2 {\\Delta}x^{2} - {\\Delta}x^{4} - \\frac{2}{9} {\\Delta}x^{6} - \\frac{1}{36} {\\Delta}x^{8}}{ - {\\Delta}x^{2} - \\frac{9}{4} {\\Delta}x^{4} - \\frac{49}{36} {\\Delta}x^{6} - \\frac{25}{64} {\\Delta}x^{8} - \\left( 1 + 2 {\\Delta}x^{2} + {\\Delta}x^{4} + \\frac{2}{9} {\\Delta}x^{6} + \\frac{1}{36} {\\Delta}x^{8} \\right)^{2} + \\left( 1 + 4 {\\Delta}x^{2} + 4 {\\Delta}x^{4} + \\frac{16}{9} {\\Delta}x^{6} + \\frac{4}{9} {\\Delta}x^{8} \\right) \\left( 1 + {\\Delta}x^{2} + \\frac{1}{4} {\\Delta}x^{4} + \\frac{1}{36} {\\Delta}x^{6} + \\frac{1}{576} {\\Delta}x^{8} \\right)} + \\frac{ - 2 {\\Delta}x^{2} - 3 {\\Delta}x^{4} - \\frac{14}{9} {\\Delta}x^{6} - \\frac{5}{12} {\\Delta}x^{8}}{ - {\\Delta}x^{2} - \\frac{9}{4} {\\Delta}x^{4} - \\frac{49}{36} {\\Delta}x^{6} - \\frac{25}{64} {\\Delta}x^{8} - \\left( 1 + 2 {\\Delta}x^{2} + {\\Delta}x^{4} + \\frac{2}{9} {\\Delta}x^{6} + \\frac{1}{36} {\\Delta}x^{8} \\right)^{2} + \\left( 1 + 4 {\\Delta}x^{2} + 4 {\\Delta}x^{4} + \\frac{16}{9} {\\Delta}x^{6} + \\frac{4}{9} {\\Delta}x^{8} \\right) \\left( 1 + {\\Delta}x^{2} + \\frac{1}{4} {\\Delta}x^{4} + \\frac{1}{36} {\\Delta}x^{6} + \\frac{1}{576} {\\Delta}x^{8} \\right)} \\right) + u_{+ +} \\left( \\frac{{\\Delta}x^{2} + \\frac{1}{4} {\\Delta}x^{4} + \\frac{1}{36} {\\Delta}x^{6} + \\frac{1}{576} {\\Delta}x^{8}}{ - {\\Delta}x^{2} - \\frac{9}{4} {\\Delta}x^{4} - \\frac{49}{36} {\\Delta}x^{6} - \\frac{25}{64} {\\Delta}x^{8} - \\left( 1 + 2 {\\Delta}x^{2} + {\\Delta}x^{4} + \\frac{2}{9} {\\Delta}x^{6} + \\frac{1}{36} {\\Delta}x^{8} \\right)^{2} + \\left( 1 + 4 {\\Delta}x^{2} + 4 {\\Delta}x^{4} + \\frac{16}{9} {\\Delta}x^{6} + \\frac{4}{9} {\\Delta}x^{8} \\right) \\left( 1 + {\\Delta}x^{2} + \\frac{1}{4} {\\Delta}x^{4} + \\frac{1}{36} {\\Delta}x^{6} + \\frac{1}{576} {\\Delta}x^{8} \\right)} + \\frac{{\\Delta}x^{2} + \\frac{3}{4} {\\Delta}x^{4} + \\frac{7}{36} {\\Delta}x^{6} + \\frac{5}{192} {\\Delta}x^{8}}{ - {\\Delta}x^{2} - \\frac{9}{4} {\\Delta}x^{4} - \\frac{49}{36} {\\Delta}x^{6} - \\frac{25}{64} {\\Delta}x^{8} - \\left( 1 + 2 {\\Delta}x^{2} + {\\Delta}x^{4} + \\frac{2}{9} {\\Delta}x^{6} + \\frac{1}{36} {\\Delta}x^{8} \\right)^{2} + \\left( 1 + 4 {\\Delta}x^{2} + 4 {\\Delta}x^{4} + \\frac{16}{9} {\\Delta}x^{6} + \\frac{4}{9} {\\Delta}x^{8} \\right) \\left( 1 + {\\Delta}x^{2} + \\frac{1}{4} {\\Delta}x^{4} + \\frac{1}{36} {\\Delta}x^{6} + \\frac{1}{576} {\\Delta}x^{8} \\right)} + \\frac{ - 2 {\\Delta}x^{2} - {\\Delta}x^{4} - \\frac{2}{9} {\\Delta}x^{6} - \\frac{1}{36} {\\Delta}x^{8}}{ - {\\Delta}x^{2} - \\frac{9}{4} {\\Delta}x^{4} - \\frac{49}{36} {\\Delta}x^{6} - \\frac{25}{64} {\\Delta}x^{8} - \\left( 1 + 2 {\\Delta}x^{2} + {\\Delta}x^{4} + \\frac{2}{9} {\\Delta}x^{6} + \\frac{1}{36} {\\Delta}x^{8} \\right)^{2} + \\left( 1 + 4 {\\Delta}x^{2} + 4 {\\Delta}x^{4} + \\frac{16}{9} {\\Delta}x^{6} + \\frac{4}{9} {\\Delta}x^{8} \\right) \\left( 1 + {\\Delta}x^{2} + \\frac{1}{4} {\\Delta}x^{4} + \\frac{1}{36} {\\Delta}x^{6} + \\frac{1}{576} {\\Delta}x^{8} \\right)} \\right) \\\\\n",
       "u_0 \\left( \\frac{{\\Delta}x \\left(  - 2 {\\Delta}x^{2} - 3 {\\Delta}x^{4} - \\frac{14}{9} {\\Delta}x^{6} - \\frac{5}{12} {\\Delta}x^{8} \\right)}{ - {\\Delta}x^{2} - \\frac{9}{4} {\\Delta}x^{4} - \\frac{49}{36} {\\Delta}x^{6} - \\frac{25}{64} {\\Delta}x^{8} - \\left( 1 + 2 {\\Delta}x^{2} + {\\Delta}x^{4} + \\frac{2}{9} {\\Delta}x^{6} + \\frac{1}{36} {\\Delta}x^{8} \\right)^{2} + \\left( 1 + 4 {\\Delta}x^{2} + 4 {\\Delta}x^{4} + \\frac{16}{9} {\\Delta}x^{6} + \\frac{4}{9} {\\Delta}x^{8} \\right) \\left( 1 + {\\Delta}x^{2} + \\frac{1}{4} {\\Delta}x^{4} + \\frac{1}{36} {\\Delta}x^{6} + \\frac{1}{576} {\\Delta}x^{8} \\right)} + \\frac{2 {\\Delta}x \\left( {\\Delta}x^{2} + \\frac{3}{4} {\\Delta}x^{4} + \\frac{7}{36} {\\Delta}x^{6} + \\frac{5}{192} {\\Delta}x^{8} \\right)}{ - {\\Delta}x^{2} - \\frac{9}{4} {\\Delta}x^{4} - \\frac{49}{36} {\\Delta}x^{6} - \\frac{25}{64} {\\Delta}x^{8} - \\left( 1 + 2 {\\Delta}x^{2} + {\\Delta}x^{4} + \\frac{2}{9} {\\Delta}x^{6} + \\frac{1}{36} {\\Delta}x^{8} \\right)^{2} + \\left( 1 + 4 {\\Delta}x^{2} + 4 {\\Delta}x^{4} + \\frac{16}{9} {\\Delta}x^{6} + \\frac{4}{9} {\\Delta}x^{8} \\right) \\left( 1 + {\\Delta}x^{2} + \\frac{1}{4} {\\Delta}x^{4} + \\frac{1}{36} {\\Delta}x^{6} + \\frac{1}{576} {\\Delta}x^{8} \\right)} \\right) + u_+ \\left( \\frac{{\\Delta}x \\left( 4 {\\Delta}x^{2} + 4 {\\Delta}x^{4} + \\frac{16}{9} {\\Delta}x^{6} + \\frac{4}{9} {\\Delta}x^{8} \\right)}{ - {\\Delta}x^{2} - \\frac{9}{4} {\\Delta}x^{4} - \\frac{49}{36} {\\Delta}x^{6} - \\frac{25}{64} {\\Delta}x^{8} - \\left( 1 + 2 {\\Delta}x^{2} + {\\Delta}x^{4} + \\frac{2}{9} {\\Delta}x^{6} + \\frac{1}{36} {\\Delta}x^{8} \\right)^{2} + \\left( 1 + 4 {\\Delta}x^{2} + 4 {\\Delta}x^{4} + \\frac{16}{9} {\\Delta}x^{6} + \\frac{4}{9} {\\Delta}x^{8} \\right) \\left( 1 + {\\Delta}x^{2} + \\frac{1}{4} {\\Delta}x^{4} + \\frac{1}{36} {\\Delta}x^{6} + \\frac{1}{576} {\\Delta}x^{8} \\right)} + \\frac{2 {\\Delta}x \\left(  - 2 {\\Delta}x^{2} - {\\Delta}x^{4} - \\frac{2}{9} {\\Delta}x^{6} - \\frac{1}{36} {\\Delta}x^{8} \\right)}{ - {\\Delta}x^{2} - \\frac{9}{4} {\\Delta}x^{4} - \\frac{49}{36} {\\Delta}x^{6} - \\frac{25}{64} {\\Delta}x^{8} - \\left( 1 + 2 {\\Delta}x^{2} + {\\Delta}x^{4} + \\frac{2}{9} {\\Delta}x^{6} + \\frac{1}{36} {\\Delta}x^{8} \\right)^{2} + \\left( 1 + 4 {\\Delta}x^{2} + 4 {\\Delta}x^{4} + \\frac{16}{9} {\\Delta}x^{6} + \\frac{4}{9} {\\Delta}x^{8} \\right) \\left( 1 + {\\Delta}x^{2} + \\frac{1}{4} {\\Delta}x^{4} + \\frac{1}{36} {\\Delta}x^{6} + \\frac{1}{576} {\\Delta}x^{8} \\right)} \\right) + u_{+ +} \\left( \\frac{2 {\\Delta}x \\left( {\\Delta}x^{2} + \\frac{1}{4} {\\Delta}x^{4} + \\frac{1}{36} {\\Delta}x^{6} + \\frac{1}{576} {\\Delta}x^{8} \\right)}{ - {\\Delta}x^{2} - \\frac{9}{4} {\\Delta}x^{4} - \\frac{49}{36} {\\Delta}x^{6} - \\frac{25}{64} {\\Delta}x^{8} - \\left( 1 + 2 {\\Delta}x^{2} + {\\Delta}x^{4} + \\frac{2}{9} {\\Delta}x^{6} + \\frac{1}{36} {\\Delta}x^{8} \\right)^{2} + \\left( 1 + 4 {\\Delta}x^{2} + 4 {\\Delta}x^{4} + \\frac{16}{9} {\\Delta}x^{6} + \\frac{4}{9} {\\Delta}x^{8} \\right) \\left( 1 + {\\Delta}x^{2} + \\frac{1}{4} {\\Delta}x^{4} + \\frac{1}{36} {\\Delta}x^{6} + \\frac{1}{576} {\\Delta}x^{8} \\right)} + \\frac{{\\Delta}x \\left(  - 2 {\\Delta}x^{2} - {\\Delta}x^{4} - \\frac{2}{9} {\\Delta}x^{6} - \\frac{1}{36} {\\Delta}x^{8} \\right)}{ - {\\Delta}x^{2} - \\frac{9}{4} {\\Delta}x^{4} - \\frac{49}{36} {\\Delta}x^{6} - \\frac{25}{64} {\\Delta}x^{8} - \\left( 1 + 2 {\\Delta}x^{2} + {\\Delta}x^{4} + \\frac{2}{9} {\\Delta}x^{6} + \\frac{1}{36} {\\Delta}x^{8} \\right)^{2} + \\left( 1 + 4 {\\Delta}x^{2} + 4 {\\Delta}x^{4} + \\frac{16}{9} {\\Delta}x^{6} + \\frac{4}{9} {\\Delta}x^{8} \\right) \\left( 1 + {\\Delta}x^{2} + \\frac{1}{4} {\\Delta}x^{4} + \\frac{1}{36} {\\Delta}x^{6} + \\frac{1}{576} {\\Delta}x^{8} \\right)} \\right) \\\\\n",
       "u_0 \\left( \\frac{2 {\\Delta}x^{2} \\left( {\\Delta}x^{2} + \\frac{3}{4} {\\Delta}x^{4} + \\frac{7}{36} {\\Delta}x^{6} + \\frac{5}{192} {\\Delta}x^{8} \\right)}{ - {\\Delta}x^{2} - \\frac{9}{4} {\\Delta}x^{4} - \\frac{49}{36} {\\Delta}x^{6} - \\frac{25}{64} {\\Delta}x^{8} - \\left( 1 + 2 {\\Delta}x^{2} + {\\Delta}x^{4} + \\frac{2}{9} {\\Delta}x^{6} + \\frac{1}{36} {\\Delta}x^{8} \\right)^{2} + \\left( 1 + 4 {\\Delta}x^{2} + 4 {\\Delta}x^{4} + \\frac{16}{9} {\\Delta}x^{6} + \\frac{4}{9} {\\Delta}x^{8} \\right) \\left( 1 + {\\Delta}x^{2} + \\frac{1}{4} {\\Delta}x^{4} + \\frac{1}{36} {\\Delta}x^{6} + \\frac{1}{576} {\\Delta}x^{8} \\right)} + \\frac{\\frac{1}{2} {\\Delta}x^{2} \\left(  - 2 {\\Delta}x^{2} - 3 {\\Delta}x^{4} - \\frac{14}{9} {\\Delta}x^{6} - \\frac{5}{12} {\\Delta}x^{8} \\right)}{ - {\\Delta}x^{2} - \\frac{9}{4} {\\Delta}x^{4} - \\frac{49}{36} {\\Delta}x^{6} - \\frac{25}{64} {\\Delta}x^{8} - \\left( 1 + 2 {\\Delta}x^{2} + {\\Delta}x^{4} + \\frac{2}{9} {\\Delta}x^{6} + \\frac{1}{36} {\\Delta}x^{8} \\right)^{2} + \\left( 1 + 4 {\\Delta}x^{2} + 4 {\\Delta}x^{4} + \\frac{16}{9} {\\Delta}x^{6} + \\frac{4}{9} {\\Delta}x^{8} \\right) \\left( 1 + {\\Delta}x^{2} + \\frac{1}{4} {\\Delta}x^{4} + \\frac{1}{36} {\\Delta}x^{6} + \\frac{1}{576} {\\Delta}x^{8} \\right)} \\right) + u_+ \\left( \\frac{2 {\\Delta}x^{2} \\left(  - 2 {\\Delta}x^{2} - {\\Delta}x^{4} - \\frac{2}{9} {\\Delta}x^{6} - \\frac{1}{36} {\\Delta}x^{8} \\right)}{ - {\\Delta}x^{2} - \\frac{9}{4} {\\Delta}x^{4} - \\frac{49}{36} {\\Delta}x^{6} - \\frac{25}{64} {\\Delta}x^{8} - \\left( 1 + 2 {\\Delta}x^{2} + {\\Delta}x^{4} + \\frac{2}{9} {\\Delta}x^{6} + \\frac{1}{36} {\\Delta}x^{8} \\right)^{2} + \\left( 1 + 4 {\\Delta}x^{2} + 4 {\\Delta}x^{4} + \\frac{16}{9} {\\Delta}x^{6} + \\frac{4}{9} {\\Delta}x^{8} \\right) \\left( 1 + {\\Delta}x^{2} + \\frac{1}{4} {\\Delta}x^{4} + \\frac{1}{36} {\\Delta}x^{6} + \\frac{1}{576} {\\Delta}x^{8} \\right)} + \\frac{\\frac{1}{2} {\\Delta}x^{2} \\left( 4 {\\Delta}x^{2} + 4 {\\Delta}x^{4} + \\frac{16}{9} {\\Delta}x^{6} + \\frac{4}{9} {\\Delta}x^{8} \\right)}{ - {\\Delta}x^{2} - \\frac{9}{4} {\\Delta}x^{4} - \\frac{49}{36} {\\Delta}x^{6} - \\frac{25}{64} {\\Delta}x^{8} - \\left( 1 + 2 {\\Delta}x^{2} + {\\Delta}x^{4} + \\frac{2}{9} {\\Delta}x^{6} + \\frac{1}{36} {\\Delta}x^{8} \\right)^{2} + \\left( 1 + 4 {\\Delta}x^{2} + 4 {\\Delta}x^{4} + \\frac{16}{9} {\\Delta}x^{6} + \\frac{4}{9} {\\Delta}x^{8} \\right) \\left( 1 + {\\Delta}x^{2} + \\frac{1}{4} {\\Delta}x^{4} + \\frac{1}{36} {\\Delta}x^{6} + \\frac{1}{576} {\\Delta}x^{8} \\right)} \\right) + u_{+ +} \\left( \\frac{\\frac{1}{2} {\\Delta}x^{2} \\left(  - 2 {\\Delta}x^{2} - {\\Delta}x^{4} - \\frac{2}{9} {\\Delta}x^{6} - \\frac{1}{36} {\\Delta}x^{8} \\right)}{ - {\\Delta}x^{2} - \\frac{9}{4} {\\Delta}x^{4} - \\frac{49}{36} {\\Delta}x^{6} - \\frac{25}{64} {\\Delta}x^{8} - \\left( 1 + 2 {\\Delta}x^{2} + {\\Delta}x^{4} + \\frac{2}{9} {\\Delta}x^{6} + \\frac{1}{36} {\\Delta}x^{8} \\right)^{2} + \\left( 1 + 4 {\\Delta}x^{2} + 4 {\\Delta}x^{4} + \\frac{16}{9} {\\Delta}x^{6} + \\frac{4}{9} {\\Delta}x^{8} \\right) \\left( 1 + {\\Delta}x^{2} + \\frac{1}{4} {\\Delta}x^{4} + \\frac{1}{36} {\\Delta}x^{6} + \\frac{1}{576} {\\Delta}x^{8} \\right)} + \\frac{2 {\\Delta}x^{2} \\left( {\\Delta}x^{2} + \\frac{1}{4} {\\Delta}x^{4} + \\frac{1}{36} {\\Delta}x^{6} + \\frac{1}{576} {\\Delta}x^{8} \\right)}{ - {\\Delta}x^{2} - \\frac{9}{4} {\\Delta}x^{4} - \\frac{49}{36} {\\Delta}x^{6} - \\frac{25}{64} {\\Delta}x^{8} - \\left( 1 + 2 {\\Delta}x^{2} + {\\Delta}x^{4} + \\frac{2}{9} {\\Delta}x^{6} + \\frac{1}{36} {\\Delta}x^{8} \\right)^{2} + \\left( 1 + 4 {\\Delta}x^{2} + 4 {\\Delta}x^{4} + \\frac{16}{9} {\\Delta}x^{6} + \\frac{4}{9} {\\Delta}x^{8} \\right) \\left( 1 + {\\Delta}x^{2} + \\frac{1}{4} {\\Delta}x^{4} + \\frac{1}{36} {\\Delta}x^{6} + \\frac{1}{576} {\\Delta}x^{8} \\right)} \\right) \\\\\n",
       "u_0 \\left( \\frac{\\frac{1}{6} {\\Delta}x^{3} \\left(  - 2 {\\Delta}x^{2} - 3 {\\Delta}x^{4} - \\frac{14}{9} {\\Delta}x^{6} - \\frac{5}{12} {\\Delta}x^{8} \\right)}{ - {\\Delta}x^{2} - \\frac{9}{4} {\\Delta}x^{4} - \\frac{49}{36} {\\Delta}x^{6} - \\frac{25}{64} {\\Delta}x^{8} - \\left( 1 + 2 {\\Delta}x^{2} + {\\Delta}x^{4} + \\frac{2}{9} {\\Delta}x^{6} + \\frac{1}{36} {\\Delta}x^{8} \\right)^{2} + \\left( 1 + 4 {\\Delta}x^{2} + 4 {\\Delta}x^{4} + \\frac{16}{9} {\\Delta}x^{6} + \\frac{4}{9} {\\Delta}x^{8} \\right) \\left( 1 + {\\Delta}x^{2} + \\frac{1}{4} {\\Delta}x^{4} + \\frac{1}{36} {\\Delta}x^{6} + \\frac{1}{576} {\\Delta}x^{8} \\right)} + \\frac{\\frac{4}{3} {\\Delta}x^{3} \\left( {\\Delta}x^{2} + \\frac{3}{4} {\\Delta}x^{4} + \\frac{7}{36} {\\Delta}x^{6} + \\frac{5}{192} {\\Delta}x^{8} \\right)}{ - {\\Delta}x^{2} - \\frac{9}{4} {\\Delta}x^{4} - \\frac{49}{36} {\\Delta}x^{6} - \\frac{25}{64} {\\Delta}x^{8} - \\left( 1 + 2 {\\Delta}x^{2} + {\\Delta}x^{4} + \\frac{2}{9} {\\Delta}x^{6} + \\frac{1}{36} {\\Delta}x^{8} \\right)^{2} + \\left( 1 + 4 {\\Delta}x^{2} + 4 {\\Delta}x^{4} + \\frac{16}{9} {\\Delta}x^{6} + \\frac{4}{9} {\\Delta}x^{8} \\right) \\left( 1 + {\\Delta}x^{2} + \\frac{1}{4} {\\Delta}x^{4} + \\frac{1}{36} {\\Delta}x^{6} + \\frac{1}{576} {\\Delta}x^{8} \\right)} \\right) + u_+ \\left( \\frac{\\frac{4}{3} {\\Delta}x^{3} \\left(  - 2 {\\Delta}x^{2} - {\\Delta}x^{4} - \\frac{2}{9} {\\Delta}x^{6} - \\frac{1}{36} {\\Delta}x^{8} \\right)}{ - {\\Delta}x^{2} - \\frac{9}{4} {\\Delta}x^{4} - \\frac{49}{36} {\\Delta}x^{6} - \\frac{25}{64} {\\Delta}x^{8} - \\left( 1 + 2 {\\Delta}x^{2} + {\\Delta}x^{4} + \\frac{2}{9} {\\Delta}x^{6} + \\frac{1}{36} {\\Delta}x^{8} \\right)^{2} + \\left( 1 + 4 {\\Delta}x^{2} + 4 {\\Delta}x^{4} + \\frac{16}{9} {\\Delta}x^{6} + \\frac{4}{9} {\\Delta}x^{8} \\right) \\left( 1 + {\\Delta}x^{2} + \\frac{1}{4} {\\Delta}x^{4} + \\frac{1}{36} {\\Delta}x^{6} + \\frac{1}{576} {\\Delta}x^{8} \\right)} + \\frac{\\frac{1}{6} {\\Delta}x^{3} \\left( 4 {\\Delta}x^{2} + 4 {\\Delta}x^{4} + \\frac{16}{9} {\\Delta}x^{6} + \\frac{4}{9} {\\Delta}x^{8} \\right)}{ - {\\Delta}x^{2} - \\frac{9}{4} {\\Delta}x^{4} - \\frac{49}{36} {\\Delta}x^{6} - \\frac{25}{64} {\\Delta}x^{8} - \\left( 1 + 2 {\\Delta}x^{2} + {\\Delta}x^{4} + \\frac{2}{9} {\\Delta}x^{6} + \\frac{1}{36} {\\Delta}x^{8} \\right)^{2} + \\left( 1 + 4 {\\Delta}x^{2} + 4 {\\Delta}x^{4} + \\frac{16}{9} {\\Delta}x^{6} + \\frac{4}{9} {\\Delta}x^{8} \\right) \\left( 1 + {\\Delta}x^{2} + \\frac{1}{4} {\\Delta}x^{4} + \\frac{1}{36} {\\Delta}x^{6} + \\frac{1}{576} {\\Delta}x^{8} \\right)} \\right) + u_{+ +} \\left( \\frac{\\frac{4}{3} {\\Delta}x^{3} \\left( {\\Delta}x^{2} + \\frac{1}{4} {\\Delta}x^{4} + \\frac{1}{36} {\\Delta}x^{6} + \\frac{1}{576} {\\Delta}x^{8} \\right)}{ - {\\Delta}x^{2} - \\frac{9}{4} {\\Delta}x^{4} - \\frac{49}{36} {\\Delta}x^{6} - \\frac{25}{64} {\\Delta}x^{8} - \\left( 1 + 2 {\\Delta}x^{2} + {\\Delta}x^{4} + \\frac{2}{9} {\\Delta}x^{6} + \\frac{1}{36} {\\Delta}x^{8} \\right)^{2} + \\left( 1 + 4 {\\Delta}x^{2} + 4 {\\Delta}x^{4} + \\frac{16}{9} {\\Delta}x^{6} + \\frac{4}{9} {\\Delta}x^{8} \\right) \\left( 1 + {\\Delta}x^{2} + \\frac{1}{4} {\\Delta}x^{4} + \\frac{1}{36} {\\Delta}x^{6} + \\frac{1}{576} {\\Delta}x^{8} \\right)} + \\frac{\\frac{1}{6} {\\Delta}x^{3} \\left(  - 2 {\\Delta}x^{2} - {\\Delta}x^{4} - \\frac{2}{9} {\\Delta}x^{6} - \\frac{1}{36} {\\Delta}x^{8} \\right)}{ - {\\Delta}x^{2} - \\frac{9}{4} {\\Delta}x^{4} - \\frac{49}{36} {\\Delta}x^{6} - \\frac{25}{64} {\\Delta}x^{8} - \\left( 1 + 2 {\\Delta}x^{2} + {\\Delta}x^{4} + \\frac{2}{9} {\\Delta}x^{6} + \\frac{1}{36} {\\Delta}x^{8} \\right)^{2} + \\left( 1 + 4 {\\Delta}x^{2} + 4 {\\Delta}x^{4} + \\frac{16}{9} {\\Delta}x^{6} + \\frac{4}{9} {\\Delta}x^{8} \\right) \\left( 1 + {\\Delta}x^{2} + \\frac{1}{4} {\\Delta}x^{4} + \\frac{1}{36} {\\Delta}x^{6} + \\frac{1}{576} {\\Delta}x^{8} \\right)} \\right) \\\\\n",
       "u_0 \\left( \\frac{\\frac{2}{3} {\\Delta}x^{4} \\left( {\\Delta}x^{2} + \\frac{3}{4} {\\Delta}x^{4} + \\frac{7}{36} {\\Delta}x^{6} + \\frac{5}{192} {\\Delta}x^{8} \\right)}{ - {\\Delta}x^{2} - \\frac{9}{4} {\\Delta}x^{4} - \\frac{49}{36} {\\Delta}x^{6} - \\frac{25}{64} {\\Delta}x^{8} - \\left( 1 + 2 {\\Delta}x^{2} + {\\Delta}x^{4} + \\frac{2}{9} {\\Delta}x^{6} + \\frac{1}{36} {\\Delta}x^{8} \\right)^{2} + \\left( 1 + 4 {\\Delta}x^{2} + 4 {\\Delta}x^{4} + \\frac{16}{9} {\\Delta}x^{6} + \\frac{4}{9} {\\Delta}x^{8} \\right) \\left( 1 + {\\Delta}x^{2} + \\frac{1}{4} {\\Delta}x^{4} + \\frac{1}{36} {\\Delta}x^{6} + \\frac{1}{576} {\\Delta}x^{8} \\right)} + \\frac{\\frac{1}{24} {\\Delta}x^{4} \\left(  - 2 {\\Delta}x^{2} - 3 {\\Delta}x^{4} - \\frac{14}{9} {\\Delta}x^{6} - \\frac{5}{12} {\\Delta}x^{8} \\right)}{ - {\\Delta}x^{2} - \\frac{9}{4} {\\Delta}x^{4} - \\frac{49}{36} {\\Delta}x^{6} - \\frac{25}{64} {\\Delta}x^{8} - \\left( 1 + 2 {\\Delta}x^{2} + {\\Delta}x^{4} + \\frac{2}{9} {\\Delta}x^{6} + \\frac{1}{36} {\\Delta}x^{8} \\right)^{2} + \\left( 1 + 4 {\\Delta}x^{2} + 4 {\\Delta}x^{4} + \\frac{16}{9} {\\Delta}x^{6} + \\frac{4}{9} {\\Delta}x^{8} \\right) \\left( 1 + {\\Delta}x^{2} + \\frac{1}{4} {\\Delta}x^{4} + \\frac{1}{36} {\\Delta}x^{6} + \\frac{1}{576} {\\Delta}x^{8} \\right)} \\right) + u_+ \\left( \\frac{\\frac{1}{24} {\\Delta}x^{4} \\left( 4 {\\Delta}x^{2} + 4 {\\Delta}x^{4} + \\frac{16}{9} {\\Delta}x^{6} + \\frac{4}{9} {\\Delta}x^{8} \\right)}{ - {\\Delta}x^{2} - \\frac{9}{4} {\\Delta}x^{4} - \\frac{49}{36} {\\Delta}x^{6} - \\frac{25}{64} {\\Delta}x^{8} - \\left( 1 + 2 {\\Delta}x^{2} + {\\Delta}x^{4} + \\frac{2}{9} {\\Delta}x^{6} + \\frac{1}{36} {\\Delta}x^{8} \\right)^{2} + \\left( 1 + 4 {\\Delta}x^{2} + 4 {\\Delta}x^{4} + \\frac{16}{9} {\\Delta}x^{6} + \\frac{4}{9} {\\Delta}x^{8} \\right) \\left( 1 + {\\Delta}x^{2} + \\frac{1}{4} {\\Delta}x^{4} + \\frac{1}{36} {\\Delta}x^{6} + \\frac{1}{576} {\\Delta}x^{8} \\right)} + \\frac{\\frac{2}{3} {\\Delta}x^{4} \\left(  - 2 {\\Delta}x^{2} - {\\Delta}x^{4} - \\frac{2}{9} {\\Delta}x^{6} - \\frac{1}{36} {\\Delta}x^{8} \\right)}{ - {\\Delta}x^{2} - \\frac{9}{4} {\\Delta}x^{4} - \\frac{49}{36} {\\Delta}x^{6} - \\frac{25}{64} {\\Delta}x^{8} - \\left( 1 + 2 {\\Delta}x^{2} + {\\Delta}x^{4} + \\frac{2}{9} {\\Delta}x^{6} + \\frac{1}{36} {\\Delta}x^{8} \\right)^{2} + \\left( 1 + 4 {\\Delta}x^{2} + 4 {\\Delta}x^{4} + \\frac{16}{9} {\\Delta}x^{6} + \\frac{4}{9} {\\Delta}x^{8} \\right) \\left( 1 + {\\Delta}x^{2} + \\frac{1}{4} {\\Delta}x^{4} + \\frac{1}{36} {\\Delta}x^{6} + \\frac{1}{576} {\\Delta}x^{8} \\right)} \\right) + u_{+ +} \\left( \\frac{\\frac{2}{3} {\\Delta}x^{4} \\left( {\\Delta}x^{2} + \\frac{1}{4} {\\Delta}x^{4} + \\frac{1}{36} {\\Delta}x^{6} + \\frac{1}{576} {\\Delta}x^{8} \\right)}{ - {\\Delta}x^{2} - \\frac{9}{4} {\\Delta}x^{4} - \\frac{49}{36} {\\Delta}x^{6} - \\frac{25}{64} {\\Delta}x^{8} - \\left( 1 + 2 {\\Delta}x^{2} + {\\Delta}x^{4} + \\frac{2}{9} {\\Delta}x^{6} + \\frac{1}{36} {\\Delta}x^{8} \\right)^{2} + \\left( 1 + 4 {\\Delta}x^{2} + 4 {\\Delta}x^{4} + \\frac{16}{9} {\\Delta}x^{6} + \\frac{4}{9} {\\Delta}x^{8} \\right) \\left( 1 + {\\Delta}x^{2} + \\frac{1}{4} {\\Delta}x^{4} + \\frac{1}{36} {\\Delta}x^{6} + \\frac{1}{576} {\\Delta}x^{8} \\right)} + \\frac{\\frac{1}{24} {\\Delta}x^{4} \\left(  - 2 {\\Delta}x^{2} - {\\Delta}x^{4} - \\frac{2}{9} {\\Delta}x^{6} - \\frac{1}{36} {\\Delta}x^{8} \\right)}{ - {\\Delta}x^{2} - \\frac{9}{4} {\\Delta}x^{4} - \\frac{49}{36} {\\Delta}x^{6} - \\frac{25}{64} {\\Delta}x^{8} - \\left( 1 + 2 {\\Delta}x^{2} + {\\Delta}x^{4} + \\frac{2}{9} {\\Delta}x^{6} + \\frac{1}{36} {\\Delta}x^{8} \\right)^{2} + \\left( 1 + 4 {\\Delta}x^{2} + 4 {\\Delta}x^{4} + \\frac{16}{9} {\\Delta}x^{6} + \\frac{4}{9} {\\Delta}x^{8} \\right) \\left( 1 + {\\Delta}x^{2} + \\frac{1}{4} {\\Delta}x^{4} + \\frac{1}{36} {\\Delta}x^{6} + \\frac{1}{576} {\\Delta}x^{8} \\right)} \\right) \\\\\n",
       "\\end{array}\n",
       "\\right]\n",
       "\\end{equation}\n",
       " $$"
      ],
      "text/plain": [
       "5-element Vector{Num}:\n",
       " u₀*((-((1 + 2(Δx^2) + Δx^4 + (2//9)*(Δx^6) + (1//36)*(Δx^8))^2) + (1 + 4(Δx^2) + (4//1)*(Δx^4) + (16//9)*(Δx^6) + (4//9)*(Δx^8))*(1 + Δx^2 + (1//4)*(Δx^4) + (1//36)*(Δx^6) + (1//576)*(Δx^8))) / (-(Δx^2) - (9//4)*(Δx^4) - (49//36)*(Δx^6) - (25//64)*(Δx^8) - ((1 + 2(Δx^2) + Δx^4 + (2//9)*(Δx^6) + (1//36)*(Δx^8))^2) + (1 + 4(Δx^2) + (4//1)*(Δx^4) + (16//9)*(Δx^6) + (4//9)*(Δx^8))*(1 + Δx^2 + (1//4)*(Δx^4) + (1//36)*(Δx^6) + (1//576)*(Δx^8))) + (Δx^2 + (3//4)*(Δx^4) + (7//36)*(Δx^6) + (5//192)*(Δx^8)) / (-(Δx^2) - (9//4)*(Δx^4) - (49//36)*(Δx^6) - (25//64)*(Δx^8) - ((1 + 2(Δx^2) + Δx^4 + (2//9)*(Δx^6) + (1//36)*(Δx^8))^2) + (1 + 4(Δx^2) + (4//1)*(Δx^4) + (16//9)*(Δx^6) + (4//9)*(Δx^8))*(1 + Δx^2 + (1//4)*(Δx^4) + (1//36)*(Δx^6) + (1//576)*(Δx^8))) + (-2(Δx^2) - (3//1)*(Δx^4) - (14//9)*(Δx^6) - (5//12)*(Δx^8)) / (-(Δx^2) - (9//4)*(Δx^4) - (49//36)*(Δx^6) - (25//64)*(Δx^8) - ((1 + 2(Δx^2) + Δx^4 + (2//9)*(Δx^6) + (1//36)*(Δx^8))^2) + (1 + 4(Δx^2) + (4//1)*(Δx^4) + (16//9)*(Δx^6) + (4//9)*(Δx^8))*(1 + Δx^2 + (1//4)*(Δx^4) + (1//36)*(Δx^6) + (1//576)*(Δx^8)))) + u₊*((4(Δx^2) + (4//1)*(Δx^4) + (16//9)*(Δx^6) + (4//9)*(Δx^8)) / (-(Δx^2) - (9//4)*(Δx^4) - (49//36)*(Δx^6) - (25//64)*(Δx^8) - ((1 + 2(Δx^2) + Δx^4 + (2//9)*(Δx^6) + (1//36)*(Δx^8))^2) + (1 + 4(Δx^2) + (4//1)*(Δx^4) + (16//9)*(Δx^6) + (4//9)*(Δx^8))*(1 + Δx^2 + (1//4)*(Δx^4) + (1//36)*(Δx^6) + (1//576)*(Δx^8))) + (-2(Δx^2) - (Δx^4) - (2//9)*(Δx^6) - (1//36)*(Δx^8)) / (-(Δx^2) - (9//4)*(Δx^4) - (49//36)*(Δx^6) - (25//64)*(Δx^8) - ((1 + 2(Δx^2) + Δx^4 + (2//9)*(Δx^6) + (1//36)*(Δx^8))^2) + (1 + 4(Δx^2) + (4//1)*(Δx^4) + (16//9)*(Δx^6) + (4//9)*(Δx^8))*(1 + Δx^2 + (1//4)*(Δx^4) + (1//36)*(Δx^6) + (1//576)*(Δx^8))) + (-2(Δx^2) - (3//1)*(Δx^4) - (14//9)*(Δx^6) - (5//12)*(Δx^8)) / (-(Δx^2) - (9//4)*(Δx^4) - (49//36)*(Δx^6) - (25//64)*(Δx^8) - ((1 + 2(Δx^2) + Δx^4 + (2//9)*(Δx^6) + (1//36)*(Δx^8))^2) + (1 + 4(Δx^2) + (4//1)*(Δx^4) + (16//9)*(Δx^6) + (4//9)*(Δx^8))*(1 + Δx^2 + (1//4)*(Δx^4) + (1//36)*(Δx^6) + (1//576)*(Δx^8)))) + u₊₊*((Δx^2 + (1//4)*(Δx^4) + (1//36)*(Δx^6) + (1//576)*(Δx^8)) / (-(Δx^2) - (9//4)*(Δx^4) - (49//36)*(Δx^6) - (25//64)*(Δx^8) - ((1 + 2(Δx^2) + Δx^4 + (2//9)*(Δx^6) + (1//36)*(Δx^8))^2) + (1 + 4(Δx^2) + (4//1)*(Δx^4) + (16//9)*(Δx^6) + (4//9)*(Δx^8))*(1 + Δx^2 + (1//4)*(Δx^4) + (1//36)*(Δx^6) + (1//576)*(Δx^8))) + (Δx^2 + (3//4)*(Δx^4) + (7//36)*(Δx^6) + (5//192)*(Δx^8)) / (-(Δx^2) - (9//4)*(Δx^4) - (49//36)*(Δx^6) - (25//64)*(Δx^8) - ((1 + 2(Δx^2) + Δx^4 + (2//9)*(Δx^6) + (1//36)*(Δx^8))^2) + (1 + 4(Δx^2) + (4//1)*(Δx^4) + (16//9)*(Δx^6) + (4//9)*(Δx^8))*(1 + Δx^2 + (1//4)*(Δx^4) + (1//36)*(Δx^6) + (1//576)*(Δx^8))) + (-2(Δx^2) - (Δx^4) - (2//9)*(Δx^6) - (1//36)*(Δx^8)) / (-(Δx^2) - (9//4)*(Δx^4) - (49//36)*(Δx^6) - (25//64)*(Δx^8) - ((1 + 2(Δx^2) + Δx^4 + (2//9)*(Δx^6) + (1//36)*(Δx^8))^2) + (1 + 4(Δx^2) + (4//1)*(Δx^4) + (16//9)*(Δx^6) + (4//9)*(Δx^8))*(1 + Δx^2 + (1//4)*(Δx^4) + (1//36)*(Δx^6) + (1//576)*(Δx^8))))\n",
       "                                                                                                                                                                                                                                                                                                                                                                                                                                                                                                                                                                                                                                                                                                                                                                                                                                                                                                                                                                                                                                                                          u₀*((Δx*(-2(Δx^2) - (3//1)*(Δx^4) - (14//9)*(Δx^6) - (5//12)*(Δx^8))) / (-(Δx^2) - (9//4)*(Δx^4) - (49//36)*(Δx^6) - (25//64)*(Δx^8) - ((1 + 2(Δx^2) + Δx^4 + (2//9)*(Δx^6) + (1//36)*(Δx^8))^2) + (1 + 4(Δx^2) + (4//1)*(Δx^4) + (16//9)*(Δx^6) + (4//9)*(Δx^8))*(1 + Δx^2 + (1//4)*(Δx^4) + (1//36)*(Δx^6) + (1//576)*(Δx^8))) + (2Δx*(Δx^2 + (3//4)*(Δx^4) + (7//36)*(Δx^6) + (5//192)*(Δx^8))) / (-(Δx^2) - (9//4)*(Δx^4) - (49//36)*(Δx^6) - (25//64)*(Δx^8) - ((1 + 2(Δx^2) + Δx^4 + (2//9)*(Δx^6) + (1//36)*(Δx^8))^2) + (1 + 4(Δx^2) + (4//1)*(Δx^4) + (16//9)*(Δx^6) + (4//9)*(Δx^8))*(1 + Δx^2 + (1//4)*(Δx^4) + (1//36)*(Δx^6) + (1//576)*(Δx^8)))) + u₊*((Δx*(4(Δx^2) + (4//1)*(Δx^4) + (16//9)*(Δx^6) + (4//9)*(Δx^8))) / (-(Δx^2) - (9//4)*(Δx^4) - (49//36)*(Δx^6) - (25//64)*(Δx^8) - ((1 + 2(Δx^2) + Δx^4 + (2//9)*(Δx^6) + (1//36)*(Δx^8))^2) + (1 + 4(Δx^2) + (4//1)*(Δx^4) + (16//9)*(Δx^6) + (4//9)*(Δx^8))*(1 + Δx^2 + (1//4)*(Δx^4) + (1//36)*(Δx^6) + (1//576)*(Δx^8))) + (2Δx*(-2(Δx^2) - (Δx^4) - (2//9)*(Δx^6) - (1//36)*(Δx^8))) / (-(Δx^2) - (9//4)*(Δx^4) - (49//36)*(Δx^6) - (25//64)*(Δx^8) - ((1 + 2(Δx^2) + Δx^4 + (2//9)*(Δx^6) + (1//36)*(Δx^8))^2) + (1 + 4(Δx^2) + (4//1)*(Δx^4) + (16//9)*(Δx^6) + (4//9)*(Δx^8))*(1 + Δx^2 + (1//4)*(Δx^4) + (1//36)*(Δx^6) + (1//576)*(Δx^8)))) + u₊₊*((2Δx*(Δx^2 + (1//4)*(Δx^4) + (1//36)*(Δx^6) + (1//576)*(Δx^8))) / (-(Δx^2) - (9//4)*(Δx^4) - (49//36)*(Δx^6) - (25//64)*(Δx^8) - ((1 + 2(Δx^2) + Δx^4 + (2//9)*(Δx^6) + (1//36)*(Δx^8))^2) + (1 + 4(Δx^2) + (4//1)*(Δx^4) + (16//9)*(Δx^6) + (4//9)*(Δx^8))*(1 + Δx^2 + (1//4)*(Δx^4) + (1//36)*(Δx^6) + (1//576)*(Δx^8))) + (Δx*(-2(Δx^2) - (Δx^4) - (2//9)*(Δx^6) - (1//36)*(Δx^8))) / (-(Δx^2) - (9//4)*(Δx^4) - (49//36)*(Δx^6) - (25//64)*(Δx^8) - ((1 + 2(Δx^2) + Δx^4 + (2//9)*(Δx^6) + (1//36)*(Δx^8))^2) + (1 + 4(Δx^2) + (4//1)*(Δx^4) + (16//9)*(Δx^6) + (4//9)*(Δx^8))*(1 + Δx^2 + (1//4)*(Δx^4) + (1//36)*(Δx^6) + (1//576)*(Δx^8))))\n",
       "                                                                                                                                                                                                                                                                                                                                                                                                                                                                                                                                                                                                                                                                                                                                                                                                                                                                                                                                                                                                           u₀*(((2//1)*(Δx^2)*(Δx^2 + (3//4)*(Δx^4) + (7//36)*(Δx^6) + (5//192)*(Δx^8))) / (-(Δx^2) - (9//4)*(Δx^4) - (49//36)*(Δx^6) - (25//64)*(Δx^8) - ((1 + 2(Δx^2) + Δx^4 + (2//9)*(Δx^6) + (1//36)*(Δx^8))^2) + (1 + 4(Δx^2) + (4//1)*(Δx^4) + (16//9)*(Δx^6) + (4//9)*(Δx^8))*(1 + Δx^2 + (1//4)*(Δx^4) + (1//36)*(Δx^6) + (1//576)*(Δx^8))) + ((1//2)*(Δx^2)*(-2(Δx^2) - (3//1)*(Δx^4) - (14//9)*(Δx^6) - (5//12)*(Δx^8))) / (-(Δx^2) - (9//4)*(Δx^4) - (49//36)*(Δx^6) - (25//64)*(Δx^8) - ((1 + 2(Δx^2) + Δx^4 + (2//9)*(Δx^6) + (1//36)*(Δx^8))^2) + (1 + 4(Δx^2) + (4//1)*(Δx^4) + (16//9)*(Δx^6) + (4//9)*(Δx^8))*(1 + Δx^2 + (1//4)*(Δx^4) + (1//36)*(Δx^6) + (1//576)*(Δx^8)))) + u₊*(((2//1)*(Δx^2)*(-2(Δx^2) - (Δx^4) - (2//9)*(Δx^6) - (1//36)*(Δx^8))) / (-(Δx^2) - (9//4)*(Δx^4) - (49//36)*(Δx^6) - (25//64)*(Δx^8) - ((1 + 2(Δx^2) + Δx^4 + (2//9)*(Δx^6) + (1//36)*(Δx^8))^2) + (1 + 4(Δx^2) + (4//1)*(Δx^4) + (16//9)*(Δx^6) + (4//9)*(Δx^8))*(1 + Δx^2 + (1//4)*(Δx^4) + (1//36)*(Δx^6) + (1//576)*(Δx^8))) + ((1//2)*(Δx^2)*(4(Δx^2) + (4//1)*(Δx^4) + (16//9)*(Δx^6) + (4//9)*(Δx^8))) / (-(Δx^2) - (9//4)*(Δx^4) - (49//36)*(Δx^6) - (25//64)*(Δx^8) - ((1 + 2(Δx^2) + Δx^4 + (2//9)*(Δx^6) + (1//36)*(Δx^8))^2) + (1 + 4(Δx^2) + (4//1)*(Δx^4) + (16//9)*(Δx^6) + (4//9)*(Δx^8))*(1 + Δx^2 + (1//4)*(Δx^4) + (1//36)*(Δx^6) + (1//576)*(Δx^8)))) + u₊₊*(((1//2)*(Δx^2)*(-2(Δx^2) - (Δx^4) - (2//9)*(Δx^6) - (1//36)*(Δx^8))) / (-(Δx^2) - (9//4)*(Δx^4) - (49//36)*(Δx^6) - (25//64)*(Δx^8) - ((1 + 2(Δx^2) + Δx^4 + (2//9)*(Δx^6) + (1//36)*(Δx^8))^2) + (1 + 4(Δx^2) + (4//1)*(Δx^4) + (16//9)*(Δx^6) + (4//9)*(Δx^8))*(1 + Δx^2 + (1//4)*(Δx^4) + (1//36)*(Δx^6) + (1//576)*(Δx^8))) + ((2//1)*(Δx^2)*(Δx^2 + (1//4)*(Δx^4) + (1//36)*(Δx^6) + (1//576)*(Δx^8))) / (-(Δx^2) - (9//4)*(Δx^4) - (49//36)*(Δx^6) - (25//64)*(Δx^8) - ((1 + 2(Δx^2) + Δx^4 + (2//9)*(Δx^6) + (1//36)*(Δx^8))^2) + (1 + 4(Δx^2) + (4//1)*(Δx^4) + (16//9)*(Δx^6) + (4//9)*(Δx^8))*(1 + Δx^2 + (1//4)*(Δx^4) + (1//36)*(Δx^6) + (1//576)*(Δx^8))))\n",
       "                                                                                                                                                                                                                                                                                                                                                                                                                                                                                                                                                                                                                                                                                                                                                                                                                                                                                                                                                                                                           u₀*(((1//6)*(Δx^3)*(-2(Δx^2) - (3//1)*(Δx^4) - (14//9)*(Δx^6) - (5//12)*(Δx^8))) / (-(Δx^2) - (9//4)*(Δx^4) - (49//36)*(Δx^6) - (25//64)*(Δx^8) - ((1 + 2(Δx^2) + Δx^4 + (2//9)*(Δx^6) + (1//36)*(Δx^8))^2) + (1 + 4(Δx^2) + (4//1)*(Δx^4) + (16//9)*(Δx^6) + (4//9)*(Δx^8))*(1 + Δx^2 + (1//4)*(Δx^4) + (1//36)*(Δx^6) + (1//576)*(Δx^8))) + ((4//3)*(Δx^3)*(Δx^2 + (3//4)*(Δx^4) + (7//36)*(Δx^6) + (5//192)*(Δx^8))) / (-(Δx^2) - (9//4)*(Δx^4) - (49//36)*(Δx^6) - (25//64)*(Δx^8) - ((1 + 2(Δx^2) + Δx^4 + (2//9)*(Δx^6) + (1//36)*(Δx^8))^2) + (1 + 4(Δx^2) + (4//1)*(Δx^4) + (16//9)*(Δx^6) + (4//9)*(Δx^8))*(1 + Δx^2 + (1//4)*(Δx^4) + (1//36)*(Δx^6) + (1//576)*(Δx^8)))) + u₊*(((4//3)*(Δx^3)*(-2(Δx^2) - (Δx^4) - (2//9)*(Δx^6) - (1//36)*(Δx^8))) / (-(Δx^2) - (9//4)*(Δx^4) - (49//36)*(Δx^6) - (25//64)*(Δx^8) - ((1 + 2(Δx^2) + Δx^4 + (2//9)*(Δx^6) + (1//36)*(Δx^8))^2) + (1 + 4(Δx^2) + (4//1)*(Δx^4) + (16//9)*(Δx^6) + (4//9)*(Δx^8))*(1 + Δx^2 + (1//4)*(Δx^4) + (1//36)*(Δx^6) + (1//576)*(Δx^8))) + ((1//6)*(Δx^3)*(4(Δx^2) + (4//1)*(Δx^4) + (16//9)*(Δx^6) + (4//9)*(Δx^8))) / (-(Δx^2) - (9//4)*(Δx^4) - (49//36)*(Δx^6) - (25//64)*(Δx^8) - ((1 + 2(Δx^2) + Δx^4 + (2//9)*(Δx^6) + (1//36)*(Δx^8))^2) + (1 + 4(Δx^2) + (4//1)*(Δx^4) + (16//9)*(Δx^6) + (4//9)*(Δx^8))*(1 + Δx^2 + (1//4)*(Δx^4) + (1//36)*(Δx^6) + (1//576)*(Δx^8)))) + u₊₊*(((4//3)*(Δx^3)*(Δx^2 + (1//4)*(Δx^4) + (1//36)*(Δx^6) + (1//576)*(Δx^8))) / (-(Δx^2) - (9//4)*(Δx^4) - (49//36)*(Δx^6) - (25//64)*(Δx^8) - ((1 + 2(Δx^2) + Δx^4 + (2//9)*(Δx^6) + (1//36)*(Δx^8))^2) + (1 + 4(Δx^2) + (4//1)*(Δx^4) + (16//9)*(Δx^6) + (4//9)*(Δx^8))*(1 + Δx^2 + (1//4)*(Δx^4) + (1//36)*(Δx^6) + (1//576)*(Δx^8))) + ((1//6)*(Δx^3)*(-2(Δx^2) - (Δx^4) - (2//9)*(Δx^6) - (1//36)*(Δx^8))) / (-(Δx^2) - (9//4)*(Δx^4) - (49//36)*(Δx^6) - (25//64)*(Δx^8) - ((1 + 2(Δx^2) + Δx^4 + (2//9)*(Δx^6) + (1//36)*(Δx^8))^2) + (1 + 4(Δx^2) + (4//1)*(Δx^4) + (16//9)*(Δx^6) + (4//9)*(Δx^8))*(1 + Δx^2 + (1//4)*(Δx^4) + (1//36)*(Δx^6) + (1//576)*(Δx^8))))\n",
       "                                                                                                                                                                                                                                                                                                                                                                                                                                                                                                                                                                                                                                                                                                                                                                                                                                                                                                                                                                                                        u₀*(((2//3)*(Δx^4)*(Δx^2 + (3//4)*(Δx^4) + (7//36)*(Δx^6) + (5//192)*(Δx^8))) / (-(Δx^2) - (9//4)*(Δx^4) - (49//36)*(Δx^6) - (25//64)*(Δx^8) - ((1 + 2(Δx^2) + Δx^4 + (2//9)*(Δx^6) + (1//36)*(Δx^8))^2) + (1 + 4(Δx^2) + (4//1)*(Δx^4) + (16//9)*(Δx^6) + (4//9)*(Δx^8))*(1 + Δx^2 + (1//4)*(Δx^4) + (1//36)*(Δx^6) + (1//576)*(Δx^8))) + ((1//24)*(Δx^4)*(-2(Δx^2) - (3//1)*(Δx^4) - (14//9)*(Δx^6) - (5//12)*(Δx^8))) / (-(Δx^2) - (9//4)*(Δx^4) - (49//36)*(Δx^6) - (25//64)*(Δx^8) - ((1 + 2(Δx^2) + Δx^4 + (2//9)*(Δx^6) + (1//36)*(Δx^8))^2) + (1 + 4(Δx^2) + (4//1)*(Δx^4) + (16//9)*(Δx^6) + (4//9)*(Δx^8))*(1 + Δx^2 + (1//4)*(Δx^4) + (1//36)*(Δx^6) + (1//576)*(Δx^8)))) + u₊*(((1//24)*(Δx^4)*(4(Δx^2) + (4//1)*(Δx^4) + (16//9)*(Δx^6) + (4//9)*(Δx^8))) / (-(Δx^2) - (9//4)*(Δx^4) - (49//36)*(Δx^6) - (25//64)*(Δx^8) - ((1 + 2(Δx^2) + Δx^4 + (2//9)*(Δx^6) + (1//36)*(Δx^8))^2) + (1 + 4(Δx^2) + (4//1)*(Δx^4) + (16//9)*(Δx^6) + (4//9)*(Δx^8))*(1 + Δx^2 + (1//4)*(Δx^4) + (1//36)*(Δx^6) + (1//576)*(Δx^8))) + ((2//3)*(Δx^4)*(-2(Δx^2) - (Δx^4) - (2//9)*(Δx^6) - (1//36)*(Δx^8))) / (-(Δx^2) - (9//4)*(Δx^4) - (49//36)*(Δx^6) - (25//64)*(Δx^8) - ((1 + 2(Δx^2) + Δx^4 + (2//9)*(Δx^6) + (1//36)*(Δx^8))^2) + (1 + 4(Δx^2) + (4//1)*(Δx^4) + (16//9)*(Δx^6) + (4//9)*(Δx^8))*(1 + Δx^2 + (1//4)*(Δx^4) + (1//36)*(Δx^6) + (1//576)*(Δx^8)))) + u₊₊*(((2//3)*(Δx^4)*(Δx^2 + (1//4)*(Δx^4) + (1//36)*(Δx^6) + (1//576)*(Δx^8))) / (-(Δx^2) - (9//4)*(Δx^4) - (49//36)*(Δx^6) - (25//64)*(Δx^8) - ((1 + 2(Δx^2) + Δx^4 + (2//9)*(Δx^6) + (1//36)*(Δx^8))^2) + (1 + 4(Δx^2) + (4//1)*(Δx^4) + (16//9)*(Δx^6) + (4//9)*(Δx^8))*(1 + Δx^2 + (1//4)*(Δx^4) + (1//36)*(Δx^6) + (1//576)*(Δx^8))) + ((1//24)*(Δx^4)*(-2(Δx^2) - (Δx^4) - (2//9)*(Δx^6) - (1//36)*(Δx^8))) / (-(Δx^2) - (9//4)*(Δx^4) - (49//36)*(Δx^6) - (25//64)*(Δx^8) - ((1 + 2(Δx^2) + Δx^4 + (2//9)*(Δx^6) + (1//36)*(Δx^8))^2) + (1 + 4(Δx^2) + (4//1)*(Δx^4) + (16//9)*(Δx^6) + (4//9)*(Δx^8))*(1 + Δx^2 + (1//4)*(Δx^4) + (1//36)*(Δx^6) + (1//576)*(Δx^8))))"
      ]
     },
     "metadata": {},
     "output_type": "display_data"
    }
   ],
   "source": [
    "@variables u₋ u₀ u₊\n",
    "@variables u₊₊\n",
    "u_deriv=theMatrix*[u₋; u₀ ; u₊]\n",
    "u_deriv_Left=theMatrixLeft*[u₀;u₊; u₊₊] "
   ]
  },
  {
   "cell_type": "code",
   "execution_count": 207,
   "metadata": {},
   "outputs": [
    {
     "ename": "OverflowError",
     "evalue": "OverflowError: 429981696 * 34828517376 overflowed for type Int64",
     "output_type": "error",
     "traceback": [
      "OverflowError: 429981696 * 34828517376 overflowed for type Int64\n",
      "\n",
      "Stacktrace:\n",
      "  [1] throw_overflowerr_binaryop(op::Symbol, x::Int64, y::Int64)\n",
      "    @ Base.Checked ./checked.jl:163\n",
      "  [2] checked_mul\n",
      "    @ ./checked.jl:297 [inlined]\n",
      "  [3] *\n",
      "    @ ./rational.jl:396 [inlined]\n",
      "  [4] _mul(::Type{Rational{Int64}}, p::DynamicPolynomials.Polynomial{DynamicPolynomials.Commutative{DynamicPolynomials.CreationOrder}, MultivariatePolynomials.Graded{MultivariatePolynomials.LexOrder}, Rational{Int64}}, q::DynamicPolynomials.Polynomial{DynamicPolynomials.Commutative{DynamicPolynomials.CreationOrder}, MultivariatePolynomials.Graded{MultivariatePolynomials.LexOrder}, Rational{Int64}})\n",
      "    @ DynamicPolynomials ~/.julia/packages/DynamicPolynomials/pO5G0/src/mult.jl:119\n",
      "  [5] *(p::DynamicPolynomials.Polynomial{DynamicPolynomials.Commutative{DynamicPolynomials.CreationOrder}, MultivariatePolynomials.Graded{MultivariatePolynomials.LexOrder}, Rational{Int64}}, q::DynamicPolynomials.Polynomial{DynamicPolynomials.Commutative{DynamicPolynomials.CreationOrder}, MultivariatePolynomials.Graded{MultivariatePolynomials.LexOrder}, Rational{Int64}})\n",
      "    @ DynamicPolynomials ~/.julia/packages/DynamicPolynomials/pO5G0/src/mult.jl:132\n",
      "  [6] power_by_squaring(x_::DynamicPolynomials.Polynomial{DynamicPolynomials.Commutative{DynamicPolynomials.CreationOrder}, MultivariatePolynomials.Graded{MultivariatePolynomials.LexOrder}, Rational{Int64}}, p::Int64; mul::typeof(*))\n",
      "    @ Base ./intfuncs.jl:329\n",
      "  [7] power_by_squaring\n",
      "    @ ./intfuncs.jl:313 [inlined]\n",
      "  [8] ^(x::DynamicPolynomials.Polynomial{DynamicPolynomials.Commutative{DynamicPolynomials.CreationOrder}, MultivariatePolynomials.Graded{MultivariatePolynomials.LexOrder}, Rational{Int64}}, p::Int64)\n",
      "    @ MultivariatePolynomials ~/.julia/packages/MultivariatePolynomials/iTfZE/src/operators.jl:501\n",
      "  [9] polyize(x::SymbolicUtils.BasicSymbolic{Real}, pvar2sym::Bijections.Bijection{Any, Any}, sym2term::Dict{SymbolicUtils.BasicSymbolic, Any}, vtype::Type, pow::Function, Fs::Type, recurse::Bool)\n",
      "    @ SymbolicUtils ~/.julia/packages/SymbolicUtils/GAkMJ/src/polyform.jl:116\n",
      " [10] (::SymbolicUtils.var\"#local_polyize#114\"{Bijections.Bijection{Any, Any}, Dict{SymbolicUtils.BasicSymbolic, Any}, DataType, typeof(SymbolicUtils.pow), Union, Bool})(y::SymbolicUtils.BasicSymbolic{Real})\n",
      "    @ SymbolicUtils ~/.julia/packages/SymbolicUtils/GAkMJ/src/polyform.jl:108\n",
      " [11] _mapreduce(f::SymbolicUtils.var\"#local_polyize#114\"{Bijections.Bijection{Any, Any}, Dict{SymbolicUtils.BasicSymbolic, Any}, DataType, typeof(SymbolicUtils.pow), Union, Bool}, op::typeof(Base.mul_prod), ::IndexLinear, A::Vector{Any})\n",
      "    @ Base ./reduce.jl:437\n",
      " [12] _mapreduce_dim(f::Function, op::Function, ::Base._InitialValue, A::Vector{Any}, ::Colon)\n",
      "    @ Base ./reducedim.jl:337\n",
      " [13] mapreduce\n",
      "    @ ./reducedim.jl:329 [inlined]\n",
      " [14] _prod\n",
      "    @ ./reducedim.jl:987 [inlined]\n",
      " [15] prod(f::Function, a::Vector{Any}; dims::Function, kw::@Kwargs{})\n",
      "    @ Base ./reducedim.jl:983\n",
      " [16] prod\n",
      "    @ ./reducedim.jl:983 [inlined]\n",
      " [17] polyize(x::SymbolicUtils.BasicSymbolic{Real}, pvar2sym::Bijections.Bijection{Any, Any}, sym2term::Dict{SymbolicUtils.BasicSymbolic, Any}, vtype::Type, pow::Function, Fs::Type, recurse::Bool)\n",
      "    @ SymbolicUtils ~/.julia/packages/SymbolicUtils/GAkMJ/src/polyform.jl:113\n",
      " [18] (::SymbolicUtils.var\"#local_polyize#114\"{Bijections.Bijection{Any, Any}, Dict{SymbolicUtils.BasicSymbolic, Any}, DataType, typeof(SymbolicUtils.pow), Union, Bool})(y::SymbolicUtils.BasicSymbolic{Real})\n",
      "    @ SymbolicUtils ~/.julia/packages/SymbolicUtils/GAkMJ/src/polyform.jl:108\n",
      " [19] _mapreduce(f::SymbolicUtils.var\"#local_polyize#114\"{Bijections.Bijection{Any, Any}, Dict{SymbolicUtils.BasicSymbolic, Any}, DataType, typeof(SymbolicUtils.pow), Union, Bool}, op::typeof(Base.add_sum), ::IndexLinear, A::Vector{Any})\n",
      "    @ Base ./reduce.jl:437\n",
      " [20] _mapreduce_dim(f::Function, op::Function, ::Base._InitialValue, A::Vector{Any}, ::Colon)\n",
      "    @ Base ./reducedim.jl:337\n",
      " [21] mapreduce\n",
      "    @ ./reducedim.jl:329 [inlined]\n",
      " [22] _sum\n",
      "    @ ./reducedim.jl:987 [inlined]\n",
      " [23] sum(f::Function, a::Vector{Any}; dims::Function, kw::@Kwargs{})\n",
      "    @ Base ./reducedim.jl:983\n",
      " [24] sum\n",
      "    @ ./reducedim.jl:983 [inlined]\n",
      " [25] polyize(x::SymbolicUtils.BasicSymbolic{Real}, pvar2sym::Bijections.Bijection{Any, Any}, sym2term::Dict{SymbolicUtils.BasicSymbolic, Any}, vtype::Type, pow::Function, Fs::Type, recurse::Bool)\n",
      "    @ SymbolicUtils ~/.julia/packages/SymbolicUtils/GAkMJ/src/polyform.jl:111\n",
      " [26] PolyForm(x::SymbolicUtils.BasicSymbolic{Real}, pvar2sym::Bijections.Bijection{Any, Any}, sym2term::Dict{SymbolicUtils.BasicSymbolic, Any}, vtype::Type; Fs::Type, recurse::Bool, metadata::Nothing)\n",
      "    @ SymbolicUtils ~/.julia/packages/SymbolicUtils/GAkMJ/src/polyform.jl:169\n",
      " [27] PolyForm (repeats 2 times)\n",
      "    @ ~/.julia/packages/SymbolicUtils/GAkMJ/src/polyform.jl:156 [inlined]\n",
      " [28] (::SymbolicUtils.var\"#132#134\"{Bijections.Bijection{Any, Any}, Dict{SymbolicUtils.BasicSymbolic, Any}})(x::SymbolicUtils.BasicSymbolic{Real})\n",
      "    @ SymbolicUtils ~/.julia/packages/SymbolicUtils/GAkMJ/src/polyform.jl:270\n",
      " [29] iterate\n",
      "    @ ./generator.jl:48 [inlined]\n",
      " [30] _collect(c::Vector{Any}, itr::Base.Generator{Vector{Any}, SymbolicUtils.var\"#132#134\"{Bijections.Bijection{Any, Any}, Dict{SymbolicUtils.BasicSymbolic, Any}}}, ::Base.EltypeUnknown, isz::Base.HasShape{1})\n",
      "    @ Base ./array.jl:811\n",
      " [31] collect_similar\n",
      "    @ ./array.jl:720 [inlined]\n",
      " [32] map\n",
      "    @ ./abstractarray.jl:3371 [inlined]\n",
      " [33] (::SymbolicUtils.var\"#make#133\"{Bijections.Bijection{Any, Any}, Dict{SymbolicUtils.BasicSymbolic, Any}})(xs::Vector{Any})\n",
      "    @ SymbolicUtils ~/.julia/packages/SymbolicUtils/GAkMJ/src/polyform.jl:264\n",
      " [34] polyform_factors(d::SymbolicUtils.BasicSymbolic{Real}, pvar2sym::Bijections.Bijection{Any, Any}, sym2term::Dict{SymbolicUtils.BasicSymbolic, Any})\n",
      "    @ SymbolicUtils ~/.julia/packages/SymbolicUtils/GAkMJ/src/polyform.jl:274\n",
      " [35] simplify_div(d::SymbolicUtils.BasicSymbolic{Real})\n",
      "    @ SymbolicUtils ~/.julia/packages/SymbolicUtils/GAkMJ/src/polyform.jl:281\n",
      " [36] (::SymbolicUtils.var\"#sdiv#136\")(a::SymbolicUtils.BasicSymbolic{Real})\n",
      "    @ SymbolicUtils ~/.julia/packages/SymbolicUtils/GAkMJ/src/polyform.jl:336\n",
      " [37] call_composed\n",
      "    @ ./operators.jl:1053 [inlined]\n",
      " [38] (::ComposedFunction{SymbolicUtils.var\"#sdiv#136\", typeof(quick_cancel)})(x::SymbolicUtils.BasicSymbolic{Real}; kw::@Kwargs{})\n",
      "    @ Base ./operators.jl:1050\n",
      " [39] (::SymbolicUtils.Rewriters.Walk{:post, ComposedFunction{SymbolicUtils.var\"#sdiv#136\", typeof(quick_cancel)}, typeof(SymbolicUtils.frac_maketerm), false})(x::SymbolicUtils.BasicSymbolic{Real})\n",
      "    @ SymbolicUtils.Rewriters ~/.julia/packages/SymbolicUtils/GAkMJ/src/rewriters.jl:211\n",
      " [40] simplify_fractions(x::SymbolicUtils.BasicSymbolic{Real}; polyform::Bool)\n",
      "    @ SymbolicUtils ~/.julia/packages/SymbolicUtils/GAkMJ/src/polyform.jl:338\n",
      " [41] simplify_fractions(x::SymbolicUtils.BasicSymbolic{Real})\n",
      "    @ SymbolicUtils ~/.julia/packages/SymbolicUtils/GAkMJ/src/polyform.jl:330\n",
      " [42] simplify_fractions(n::Num; kw::@Kwargs{})\n",
      "    @ Symbolics ~/.julia/packages/Symbolics/m153y/src/Symbolics.jl:177\n",
      " [43] simplify_fractions\n",
      "    @ ~/.julia/packages/Symbolics/m153y/src/Symbolics.jl:177 [inlined]\n",
      " [44] _broadcast_getindex_evalf\n",
      "    @ ./broadcast.jl:678 [inlined]\n",
      " [45] _broadcast_getindex\n",
      "    @ ./broadcast.jl:651 [inlined]\n",
      " [46] getindex\n",
      "    @ ./broadcast.jl:610 [inlined]\n",
      " [47] copy\n",
      "    @ ./broadcast.jl:887 [inlined]\n",
      " [48] materialize(bc::Base.Broadcast.Broadcasted{Base.Broadcast.DefaultArrayStyle{0}, Nothing, typeof(simplify_fractions), Tuple{Num}})\n",
      "    @ Base.Broadcast ./broadcast.jl:872\n",
      " [49] mySimplify(eq::Num)\n",
      "    @ Main ~/Documents/Github/flexibleDSM/DSM1D/src/batchSymbolics.jl:58\n",
      " [50] top-level scope\n",
      "    @ ~/Documents/Github/flexibleDSM/DSM1D/misc/jl_notebook_cell_df34fa98e69747e1a8f8a730347b8e2f_Y100sZmlsZQ==.jl:1"
     ]
    }
   ],
   "source": [
    "mySimplify(u_deriv_Left[1]+Δx*u_deriv_Left[2]+Δx^2/2*u_deriv_Left[3]+Δx^3/6*u_deriv_Left[4]+Δx^4/24*u_deriv_Left[5])"
   ]
  },
  {
   "cell_type": "code",
   "execution_count": 115,
   "metadata": {},
   "outputs": [
    {
     "data": {
      "text/latex": [
       "$$ \\begin{equation}\n",
       "u_-\n",
       "\\end{equation}\n",
       " $$"
      ],
      "text/plain": [
       "u₋"
      ]
     },
     "metadata": {},
     "output_type": "display_data"
    }
   ],
   "source": [
    "mySimplify(u_deriv[1]+Δx*u_deriv[2]+Δx^2/2*u_deriv[3]+Δx^3/6*u_deriv[4]+Δx^4/24*u_deriv[5])"
   ]
  },
  {
   "cell_type": "code",
   "execution_count": 116,
   "metadata": {},
   "outputs": [
    {
     "data": {
      "text/latex": [
       "$$ \\begin{equation}\n",
       "\\frac{1}{24} {\\Delta}x^{4} \\left( \\frac{u_-}{432 \\left( \\frac{1}{36} + \\frac{1}{5184} {\\Delta}x^{4} \\right)} + \\frac{\\frac{1}{216} u_0}{\\frac{-1}{36} - \\frac{1}{5184} {\\Delta}x^{4}} + \\frac{u_+}{432 \\left( \\frac{1}{36} + \\frac{1}{5184} {\\Delta}x^{4} \\right)} \\right)\n",
       "\\end{equation}\n",
       " $$"
      ],
      "text/plain": [
       "(1//24)*(u₋ / (432((1//36) + (1//5184)*(Δx^4))) + ((1//216)*u₀) / (-(1//36) - (1//5184)*(Δx^4)) + u₊ / (432((1//36) + (1//5184)*(Δx^4))))*(Δx^4)"
      ]
     },
     "metadata": {},
     "output_type": "display_data"
    }
   ],
   "source": [
    "Δx^4/24*u_deriv[5]"
   ]
  },
  {
   "cell_type": "code",
   "execution_count": 117,
   "metadata": {},
   "outputs": [
    {
     "data": {
      "text/latex": [
       "$$ \\begin{equation}\n",
       "\\frac{u_-}{288 \\left( \\frac{1}{144} {\\Delta}x + \\frac{1}{5184} {\\Delta}x^{5} \\right)} + \\frac{u_+}{288 \\left(  - \\frac{1}{144} {\\Delta}x - \\frac{1}{5184} {\\Delta}x^{5} \\right)}\n",
       "\\end{equation}\n",
       " $$"
      ],
      "text/plain": [
       "u₋ / (288((1//144)*Δx + (1//5184)*(Δx^5))) + u₊ / (288(-(1//144)*Δx - (1//5184)*(Δx^5)))"
      ]
     },
     "metadata": {},
     "output_type": "display_data"
    }
   ],
   "source": [
    "u_deriv[2]"
   ]
  },
  {
   "cell_type": "code",
   "execution_count": 182,
   "metadata": {},
   "outputs": [
    {
     "data": {
      "text/latex": [
       "$$ \\begin{equation}\n",
       "\\left[\n",
       "\\begin{array}{ccc}\n",
       "0 & 1 & 0 \\\\\n",
       "\\frac{1}{2 {\\Delta}x + \\frac{1}{18} {\\Delta}x^{5}} & 0 & \\frac{-1}{2 {\\Delta}x + \\frac{1}{18} {\\Delta}x^{5}} \\\\\n",
       "\\frac{1}{{\\Delta}x^{2} + \\frac{1}{144} {\\Delta}x^{6}} & \\frac{-2}{{\\Delta}x^{2} + \\frac{1}{144} {\\Delta}x^{6}} & \\frac{1}{{\\Delta}x^{2} + \\frac{1}{144} {\\Delta}x^{6}} \\\\\n",
       "\\frac{1}{\\frac{12}{{\\Delta}x} + \\frac{1}{3} {\\Delta}x^{3}} & 0 & \\frac{-1}{\\frac{12}{{\\Delta}x} + \\frac{1}{3} {\\Delta}x^{3}} \\\\\n",
       "\\frac{1}{12 + \\frac{1}{12} {\\Delta}x^{4}} & \\frac{-2}{12 + \\frac{1}{12} {\\Delta}x^{4}} & \\frac{1}{12 + \\frac{1}{12} {\\Delta}x^{4}} \\\\\n",
       "\\end{array}\n",
       "\\right]\n",
       "\\end{equation}\n",
       " $$"
      ],
      "text/plain": [
       "5×3 Matrix{Num}:\n",
       "                             0  …                               0\n",
       "    1 / (2Δx + (1//18)*(Δx^5))        -1 / (2Δx + (1//18)*(Δx^5))\n",
       "  1 / (Δx^2 + (1//144)*(Δx^6))       1 / (Δx^2 + (1//144)*(Δx^6))\n",
       " 1 / (12 / Δx + (1//3)*(Δx^3))     -1 / (12 / Δx + (1//3)*(Δx^3))\n",
       "     1 / (12 + (1//12)*(Δx^4))          1 / (12 + (1//12)*(Δx^4))"
      ]
     },
     "metadata": {},
     "output_type": "display_data"
    }
   ],
   "source": [
    "Cⁿη=[0 1 0; 1/(2*Δx + Δx^5/18) 0 -1/(2*Δx + Δx^5/18 ); 1/(Δx^2+Δx^6/ 144) -2/(Δx^2+Δx^6 / 144)  1/(Δx^2+Δx^6/ 144); 1/(12/Δx + Δx^3/3)  0  -1/(12/Δx + Δx^3/3);  1/(12+Δx^4/12) -2/(12+Δx^4/12) 1/(12+Δx^4/12)]"
   ]
  },
  {
   "cell_type": "code",
   "execution_count": 128,
   "metadata": {},
   "outputs": [
    {
     "data": {
      "text/latex": [
       "$$ \\begin{equation}\n",
       "u_-\n",
       "\\end{equation}\n",
       " $$"
      ],
      "text/plain": [
       "u₋"
      ]
     },
     "metadata": {},
     "output_type": "display_data"
    }
   ],
   "source": [
    "u_deriv=Cⁿη*[u₋; u₀ ; u₊]\n",
    "mySimplify(u_deriv[1]+Δx*u_deriv[2]+Δx^2/2*u_deriv[3]+Δx^3/6*u_deriv[4]+Δx^4/24*u_deriv[5])"
   ]
  },
  {
   "cell_type": "code",
   "execution_count": null,
   "metadata": {},
   "outputs": [],
   "source": []
  },
  {
   "cell_type": "code",
   "execution_count": 119,
   "metadata": {},
   "outputs": [
    {
     "data": {
      "text/latex": [
       "$$ \\begin{equation}\n",
       "\\left[\n",
       "\\begin{array}{ccc}\n",
       "0 & 1 & 0 \\\\\n",
       "\\frac{1}{2 {\\Delta}x} & 0 & \\frac{-1}{2 {\\Delta}x} \\\\\n",
       "\\frac{1}{{\\Delta}x^{2}} & \\frac{-2}{{\\Delta}x^{2}} & \\frac{1}{{\\Delta}x^{2}} \\\\\n",
       "\\frac{{\\Delta}x}{12} & 0 & \\frac{ - {\\Delta}x}{12} \\\\\n",
       "\\frac{1}{12} & \\frac{-1}{6} & \\frac{1}{12} \\\\\n",
       "\\end{array}\n",
       "\\right]\n",
       "\\end{equation}\n",
       " $$"
      ],
      "text/plain": [
       "5×3 Matrix{Num}:\n",
       "          0            1           0\n",
       "  1 / (2Δx)            0  -1 / (2Δx)\n",
       " 1 / (Δx^2)  -2 / (Δx^2)  1 / (Δx^2)\n",
       "    Δx / 12            0  (-Δx) / 12\n",
       "      1//12        -1//6       1//12"
      ]
     },
     "metadata": {},
     "output_type": "display_data"
    }
   ],
   "source": [
    "CⁿηSimple=[0 1 0; 1/(2*Δx) 0 -1/(2*Δx  ); 1/(Δx^2) -2/(Δx^2)  1/(Δx^2); 1/(12/Δx )  0  -1/(12/Δx );  1//(12) -2//(12) 1//(12)]"
   ]
  },
  {
   "cell_type": "code",
   "execution_count": 120,
   "metadata": {},
   "outputs": [
    {
     "data": {
      "text/latex": [
       "$$ \\begin{equation}\n",
       "\\left[\n",
       "\\begin{array}{c}\n",
       "u_0 \\\\\n",
       "\\frac{ - u_+}{2 {\\Delta}x} + \\frac{u_-}{2 {\\Delta}x} \\\\\n",
       "\\frac{u_-}{{\\Delta}x^{2}} + \\frac{u_+}{{\\Delta}x^{2}} + \\frac{ - 2 u_0}{{\\Delta}x^{2}} \\\\\n",
       "\\frac{ - u_+ {\\Delta}x}{12} + \\frac{u_- {\\Delta}x}{12} \\\\\n",
       " - \\frac{1}{6} u_0 + \\frac{1}{12} u_+ + \\frac{1}{12} u_- \\\\\n",
       "\\end{array}\n",
       "\\right]\n",
       "\\end{equation}\n",
       " $$"
      ],
      "text/plain": [
       "5-element Vector{Num}:\n",
       "                                          u₀\n",
       "                  (-u₊) / (2Δx) + u₋ / (2Δx)\n",
       " u₋ / (Δx^2) + u₊ / (Δx^2) + (-2u₀) / (Δx^2)\n",
       "                (-u₊*Δx) / 12 + (u₋*Δx) / 12\n",
       "        -(1//6)*u₀ + (1//12)*u₊ + (1//12)*u₋"
      ]
     },
     "metadata": {},
     "output_type": "display_data"
    }
   ],
   "source": [
    "u_derivSimple=CⁿηSimple*[u₋; u₀ ; u₊]"
   ]
  },
  {
   "cell_type": "code",
   "execution_count": 121,
   "metadata": {},
   "outputs": [
    {
     "data": {
      "text/latex": [
       "$$ \\begin{equation}\n",
       "u_- - \\frac{1}{144} {\\Delta}x^{4} u_0 - \\frac{1}{96} {\\Delta}x^{4} u_+ + \\frac{5}{288} {\\Delta}x^{4} u_-\n",
       "\\end{equation}\n",
       " $$"
      ],
      "text/plain": [
       "u₋ - (1//144)*u₀*(Δx^4) - (1//96)*u₊*(Δx^4) + (5//288)*u₋*(Δx^4)"
      ]
     },
     "metadata": {},
     "output_type": "display_data"
    }
   ],
   "source": [
    "mySimplify(u_derivSimple[1]+Δx*u_derivSimple[2]+Δx^2/2*u_derivSimple[3]+Δx^3/6*u_derivSimple[4]+Δx^4/24*u_derivSimple[5])"
   ]
  },
  {
   "cell_type": "code",
   "execution_count": 130,
   "metadata": {},
   "outputs": [
    {
     "data": {
      "text/latex": [
       "$$ \\begin{equation}\n",
       "\\left[\n",
       "\\begin{array}{ccc}\n",
       "0 & 1 & 0 \\\\\n",
       "\\frac{1}{2 {\\Delta}x} & 0 & \\frac{-1}{2 {\\Delta}x} \\\\\n",
       "\\frac{1}{{\\Delta}x^{2}} & \\frac{-2}{{\\Delta}x^{2}} & \\frac{1}{{\\Delta}x^{2}} \\\\\n",
       "\\frac{{\\Delta}x}{12} & 0 & \\frac{ - {\\Delta}x}{12} \\\\\n",
       "\\frac{1}{12} & \\frac{-1}{6} & \\frac{1}{12} \\\\\n",
       "\\end{array}\n",
       "\\right]\n",
       "\\end{equation}\n",
       " $$"
      ],
      "text/plain": [
       "5×3 Matrix{Num}:\n",
       "          0            1           0\n",
       "  1 / (2Δx)            0  -1 / (2Δx)\n",
       " 1 / (Δx^2)  -2 / (Δx^2)  1 / (Δx^2)\n",
       "    Δx / 12            0  (-Δx) / 12\n",
       "      1//12        -1//6       1//12"
      ]
     },
     "metadata": {},
     "output_type": "display_data"
    }
   ],
   "source": [
    "Cⁿη=CⁿηSimple"
   ]
  },
  {
   "cell_type": "code",
   "execution_count": 185,
   "metadata": {},
   "outputs": [
    {
     "data": {
      "text/latex": [
       "$$ \\begin{equation}\n",
       "\\frac{-2}{12 + \\frac{1}{12} {\\Delta}x^{4}}\n",
       "\\end{equation}\n",
       " $$"
      ],
      "text/plain": [
       "-2 / (12 + (1//12)*(Δx^4))"
      ]
     },
     "metadata": {},
     "output_type": "display_data"
    }
   ],
   "source": [
    "Cⁿη[5,2] #  the order is ( n, η ) but n from 0 to 2 and η from -1 to 1 here"
   ]
  },
  {
   "cell_type": "code",
   "execution_count": 183,
   "metadata": {},
   "outputs": [
    {
     "data": {
      "text/plain": [
       "0:2"
      ]
     },
     "metadata": {},
     "output_type": "display_data"
    }
   ],
   "source": [
    "lᶜ = 0:2 # l prime\n",
    "n_minus_l=0:2\n",
    "l = 0:2"
   ]
  },
  {
   "cell_type": "code",
   "execution_count": null,
   "metadata": {},
   "outputs": [],
   "source": []
  },
  {
   "cell_type": "code",
   "execution_count": 248,
   "metadata": {},
   "outputs": [
    {
     "data": {
      "text/latex": [
       "$$ \\begin{equation}\n",
       "\\frac{u_- {\\Delta}x \\alpha^0_{1}}{\\left( 2 {\\Delta}x + \\frac{1}{18} {\\Delta}x^{5} \\right)^{2}} + \\frac{{\\Delta}x^{3} u_- \\alpha^0_{1}}{12 \\left( \\frac{12}{{\\Delta}x} + \\frac{1}{3} {\\Delta}x^{3} \\right) \\left( 2 {\\Delta}x + \\frac{1}{18} {\\Delta}x^{5} \\right)} + \\frac{ - {\\Delta}x^{3} u_- \\alpha^0_{1}}{12 \\left( \\frac{12}{{\\Delta}x} + \\frac{1}{3} {\\Delta}x^{3} \\right) \\left( 2 {\\Delta}x + \\frac{1}{18} {\\Delta}x^{5} \\right)} + \\frac{ - {\\Delta}x^{3} u_+ \\alpha^0_{3}}{12 \\left( \\frac{12}{{\\Delta}x} + \\frac{1}{3} {\\Delta}x^{3} \\right) \\left( 2 {\\Delta}x + \\frac{1}{18} {\\Delta}x^{5} \\right)} + \\frac{{\\Delta}x^{3} u_+ \\alpha^0_{3}}{12 \\left( \\frac{12}{{\\Delta}x} + \\frac{1}{3} {\\Delta}x^{3} \\right) \\left( 2 {\\Delta}x + \\frac{1}{18} {\\Delta}x^{5} \\right)} + \\frac{u_+ {\\Delta}x \\alpha^0_{3}}{\\left( 2 {\\Delta}x + \\frac{1}{18} {\\Delta}x^{5} \\right)^{2}} + \\frac{ - u_+ {\\Delta}x \\alpha^0_{3}}{\\left( 2 {\\Delta}x + \\frac{1}{18} {\\Delta}x^{5} \\right)^{2}} + \\frac{ - u_- {\\Delta}x \\alpha^0_{1}}{\\left( 2 {\\Delta}x + \\frac{1}{18} {\\Delta}x^{5} \\right)^{2}}\n",
       "\\end{equation}\n",
       " $$"
      ],
      "text/plain": [
       "(u₋*Δx*α⁰[1]) / ((2Δx + (1//18)*(Δx^5))^2) + (u₋*(Δx^3)*α⁰[1]) / (12(12 / Δx + (1//3)*(Δx^3))*(2Δx + (1//18)*(Δx^5))) + (-u₋*(Δx^3)*α⁰[1]) / (12(12 / Δx + (1//3)*(Δx^3))*(2Δx + (1//18)*(Δx^5))) + (-u₊*(Δx^3)*α⁰[3]) / (12(12 / Δx + (1//3)*(Δx^3))*(2Δx + (1//18)*(Δx^5))) + (u₊*(Δx^3)*α⁰[3]) / (12(12 / Δx + (1//3)*(Δx^3))*(2Δx + (1//18)*(Δx^5))) + (u₊*Δx*α⁰[3]) / ((2Δx + (1//18)*(Δx^5))^2) + (-u₊*Δx*α⁰[3]) / ((2Δx + (1//18)*(Δx^5))^2) + (-u₋*Δx*α⁰[1]) / ((2Δx + (1//18)*(Δx^5))^2)"
      ]
     },
     "metadata": {},
     "output_type": "display_data"
    }
   ],
   "source": [
    "# computing eq. 58 for \\alpha = constant\n",
    "\n",
    "@variables Δx\n",
    "@variables α⁰[1:3]\n",
    "@variables u[1:3]\n",
    "\n",
    "lᶜmax = 0\n",
    "n_minus_l_max = 2\n",
    "\n",
    "objectFunction = 0\n",
    "nᶜ = 1\n",
    "\n",
    "for ηᶜ in -1:1:1 # the neighbouring points\n",
    "    if ηᶜ == -1\n",
    "        uuu = u₋\n",
    "    elseif ηᶜ == 0\n",
    "        uuu = u₀\n",
    "    elseif ηᶜ == 1\n",
    "        uuu = u₊\n",
    "    end\n",
    "\n",
    "    for lᶜ in 0:lᶜmax # the degree of derivatives of material variables to be considered\n",
    "        for n_minus_l in 0:n_minus_l_max\n",
    "            #for l in 0:2\n",
    "\n",
    "            for ηmaterial in -1:1:1\n",
    "            l =1\n",
    "                n = n_minus_l + l\n",
    "                power = lᶜ+n_minus_l+1\n",
    "                denominator = (power+1)*power*factorial(lᶜ)*factorial(n_minus_l)\n",
    "                integralOfWandTaylor=mySimplify(Δx^power/ denominator-((-Δx)^power)/denominator)\n",
    "                if n <=4\n",
    "                    objectFunction+=α⁰[ηᶜ+2]*Cⁿη[n+1,ηᶜ+2]*Cⁿη[nᶜ+1,ηmaterial+2]* uuu*integralOfWandTaylor\n",
    "                end \n",
    "            #end\n",
    "            end\n",
    "        end\n",
    "    end\n",
    "end\n",
    "\n",
    "\n",
    "objectFunction"
   ]
  },
  {
   "cell_type": "code",
   "execution_count": null,
   "metadata": {},
   "outputs": [],
   "source": []
  },
  {
   "cell_type": "code",
   "execution_count": null,
   "metadata": {},
   "outputs": [
    {
     "data": {
      "text/latex": [
       "$$ \\begin{equation}\n",
       "\\frac{\\frac{1}{30} {\\Delta}x^{5} u_+ \\alpha_{1,3}}{\\left( {\\Delta}x^{2} + \\frac{1}{144} {\\Delta}x^{6} \\right)^{2}} + \\frac{ - \\frac{1}{30} {\\Delta}x^{5} u_+ \\alpha_{1,3}}{\\left( {\\Delta}x^{2} + \\frac{1}{144} {\\Delta}x^{6} \\right)^{2}} + \\frac{ - \\frac{1}{30} {\\Delta}x^{5} u_- \\alpha_{1,1}}{\\left( {\\Delta}x^{2} + \\frac{1}{144} {\\Delta}x^{6} \\right)^{2}} + \\frac{ - \\frac{1}{6} {\\Delta}x^{3} u_- \\alpha_{1,1}}{\\left( 2 {\\Delta}x + \\frac{1}{18} {\\Delta}x^{5} \\right)^{2}} + \\frac{\\frac{1}{6} {\\Delta}x^{3} u_+ \\alpha_{1,3}}{\\left( 2 {\\Delta}x + \\frac{1}{18} {\\Delta}x^{5} \\right)^{2}} + \\frac{\\frac{1}{6} {\\Delta}x^{3} u_- \\alpha_{1,1}}{\\left( 2 {\\Delta}x + \\frac{1}{18} {\\Delta}x^{5} \\right)^{2}} + \\frac{\\frac{1}{12} {\\Delta}x^{3} u_- \\alpha_{1,1}}{{\\Delta}x^{2} + \\frac{1}{144} {\\Delta}x^{6}} + \\frac{\\frac{1}{30} {\\Delta}x^{5} u_- \\alpha_{1,1}}{\\left( {\\Delta}x^{2} + \\frac{1}{144} {\\Delta}x^{6} \\right)^{2}} + \\frac{ - \\frac{1}{6} {\\Delta}x^{3} u_+ \\alpha_{1,3}}{\\left( 2 {\\Delta}x + \\frac{1}{18} {\\Delta}x^{5} \\right)^{2}} + \\frac{\\frac{1}{15} {\\Delta}x^{5} u_0 \\alpha_{1,2}}{\\left( {\\Delta}x^{2} + \\frac{1}{144} {\\Delta}x^{6} \\right)^{2}} + \\frac{ - \\frac{1}{3} {\\Delta}x^{3} u_0 \\alpha_{1,2}}{{\\Delta}x^{2} + \\frac{1}{144} {\\Delta}x^{6}} + \\frac{ - \\frac{1}{15} {\\Delta}x^{5} u_0 \\alpha_{1,2}}{\\left( {\\Delta}x^{2} + \\frac{1}{144} {\\Delta}x^{6} \\right)^{2}} + \\frac{\\frac{1}{6} {\\Delta}x^{3} u_0 \\alpha_{1,2}}{{\\Delta}x^{2} + \\frac{1}{144} {\\Delta}x^{6}} + \\frac{\\frac{1}{12} {\\Delta}x^{3} u_+ \\alpha_{1,3}}{{\\Delta}x^{2} + \\frac{1}{144} {\\Delta}x^{6}} + u_0 {\\Delta}x \\alpha_{1,2}\n",
       "\\end{equation}\n",
       " $$"
      ],
      "text/plain": [
       "((1//30)*u₊*(Δx^5)*α[1, 3]) / ((Δx^2 + (1//144)*(Δx^6))^2) + ((-1//30)*u₊*(Δx^5)*α[1, 3]) / ((Δx^2 + (1//144)*(Δx^6))^2) + ((-1//30)*u₋*(Δx^5)*α[1, 1]) / ((Δx^2 + (1//144)*(Δx^6))^2) + ((-1//6)*u₋*(Δx^3)*α[1, 1]) / ((2Δx + (1//18)*(Δx^5))^2) + ((1//6)*u₊*(Δx^3)*α[1, 3]) / ((2Δx + (1//18)*(Δx^5))^2) + ((1//6)*u₋*(Δx^3)*α[1, 1]) / ((2Δx + (1//18)*(Δx^5))^2) + ((1//12)*u₋*(Δx^3)*α[1, 1]) / (Δx^2 + (1//144)*(Δx^6)) + ((1//30)*u₋*(Δx^5)*α[1, 1]) / ((Δx^2 + (1//144)*(Δx^6))^2) + ((-1//6)*u₊*(Δx^3)*α[1, 3]) / ((2Δx + (1//18)*(Δx^5))^2) + ((1//15)*u₀*(Δx^5)*α[1, 2]) / ((Δx^2 + (1//144)*(Δx^6))^2) + ((-1//3)*u₀*(Δx^3)*α[1, 2]) / (Δx^2 + (1//144)*(Δx^6)) + ((-1//15)*u₀*(Δx^5)*α[1, 2]) / ((Δx^2 + (1//144)*(Δx^6))^2) + ((1//6)*u₀*(Δx^3)*α[1, 2]) / (Δx^2 + (1//144)*(Δx^6)) + ((1//12)*u₊*(Δx^3)*α[1, 3]) / (Δx^2 + (1//144)*(Δx^6)) + u₀*Δx*α[1, 2]"
      ]
     },
     "metadata": {},
     "output_type": "display_data"
    }
   ],
   "source": [
    "# computing eq. 56 for \\alpha that changes\n",
    "\n",
    "@variables Δx\n",
    "@variables α[1:3,1:3] # l, \\eta order\n",
    "@variables u[1:3]\n",
    "\n",
    "lᶜmax = 2\n",
    "n_minus_l_max = 2\n",
    "\n",
    "objectFunction = 0\n",
    "\n",
    "for ηᶜ in -1:1:1 # the neighbouring points (u)\n",
    "    if ηᶜ == -1\n",
    "        uuu = u₋\n",
    "    elseif ηᶜ == 0\n",
    "        uuu = u₀\n",
    "    elseif ηᶜ == 1\n",
    "        uuu = u₊\n",
    "    end\n",
    "\n",
    "    for η in -1:1:1 # the neighbouring points (α)\n",
    "\n",
    "        for lᶜ in 0:lᶜmax # the degree of derivatives of material variables to be considered\n",
    "            for n_minus_l in 0:n_minus_l_max\n",
    "                #for l in 0:2\n",
    "\n",
    "                l =0\n",
    "\n",
    "                \n",
    "\n",
    "                    n = n_minus_l + l\n",
    "                    power = lᶜ+n_minus_l+1\n",
    "                    denominator = (power+1)*power*factorial(lᶜ)*factorial(n_minus_l)\n",
    "                    integralOfWandTaylor=mySimplify(Δx^power/ denominator-((-Δx)^power)/denominator)\n",
    "                    if n <=4 && lᶜ<=4\n",
    "                        objectFunction+=α[l+1,ηᶜ+2]*Cⁿη[lᶜ+1,η+2]*Cⁿη[n+1,ηᶜ+2]*uuu*integralOfWandTaylor\n",
    "                    end \n",
    "                #end\n",
    "            end\n",
    "        end\n",
    "    end\n",
    "end\n",
    "\n",
    "\n",
    "objectFunction"
   ]
  },
  {
   "cell_type": "code",
   "execution_count": 193,
   "metadata": {},
   "outputs": [
    {
     "data": {
      "text/latex": [
       "$$ \\begin{equation}\n",
       "\\frac{\\frac{1}{15} {\\Delta}x^{5} u_0 \\alpha_{2,1}}{\\left( {\\Delta}x^{2} + \\frac{1}{144} {\\Delta}x^{6} \\right)^{2}} + \\frac{\\frac{1}{6} {\\Delta}x^{3} u_+ \\alpha_{3,1}}{\\left( 2 {\\Delta}x + \\frac{1}{18} {\\Delta}x^{5} \\right)^{2}} + \\frac{ - \\frac{1}{6} {\\Delta}x^{3} u_0 \\alpha_{2,3}}{12 + \\frac{1}{12} {\\Delta}x^{4}} + \\frac{u_- {\\Delta}x \\alpha_{1,3}}{{\\Delta}x^{2} + \\frac{1}{144} {\\Delta}x^{6}} + \\frac{ - \\frac{1}{3} {\\Delta}x^{3} u_0 \\alpha_{2,3}}{\\left( {\\Delta}x^{2} + \\frac{1}{144} {\\Delta}x^{6} \\right)^{2}} + \\frac{\\frac{1}{12} {\\Delta}x^{3} u_- \\alpha_{1,3}}{12 + \\frac{1}{12} {\\Delta}x^{4}} + \\frac{ - \\frac{1}{6} {\\Delta}x^{3} u_+ \\alpha_{3,1}}{\\left( 2 {\\Delta}x + \\frac{1}{18} {\\Delta}x^{5} \\right)^{2}} + \\frac{ - \\frac{1}{6} {\\Delta}x^{3} u_- \\alpha_{1,3}}{\\left( {\\Delta}x^{2} + \\frac{1}{144} {\\Delta}x^{6} \\right)^{2}} + \\frac{ - \\frac{1}{6} {\\Delta}x^{3} u_+ \\alpha_{3,3}}{\\left( {\\Delta}x^{2} + \\frac{1}{144} {\\Delta}x^{6} \\right)^{2}} + \\frac{ - \\frac{1}{30} {\\Delta}x^{5} u_- \\alpha_{1,1}}{\\left( {\\Delta}x^{2} + \\frac{1}{144} {\\Delta}x^{6} \\right)^{2}} + \\frac{ - \\frac{1}{6} {\\Delta}x^{3} u_- \\alpha_{1,1}}{\\left( 2 {\\Delta}x + \\frac{1}{18} {\\Delta}x^{5} \\right)^{2}} + \\frac{u_+ {\\Delta}x \\alpha_{3,3}}{{\\Delta}x^{2} + \\frac{1}{144} {\\Delta}x^{6}} + \\frac{ - {\\Delta}x^{3} u_0 \\alpha_{2,2}}{3 \\left( 2 {\\Delta}x + \\frac{1}{18} {\\Delta}x^{5} \\right) \\left( {\\Delta}x^{2} + \\frac{1}{144} {\\Delta}x^{6} \\right)} + \\frac{ - {\\Delta}x^{5} u_0 \\alpha_{2,3}}{15 \\left( 12 + \\frac{1}{12} {\\Delta}x^{4} \\right) \\left( {\\Delta}x^{2} + \\frac{1}{144} {\\Delta}x^{6} \\right)} + \\frac{{\\Delta}x^{5} u_0 \\alpha_{2,3}}{15 \\left( 12 + \\frac{1}{12} {\\Delta}x^{4} \\right) \\left( {\\Delta}x^{2} + \\frac{1}{144} {\\Delta}x^{6} \\right)} + \\frac{{\\Delta}x^{3} u_- \\alpha_{1,2}}{6 \\left( 2 {\\Delta}x + \\frac{1}{18} {\\Delta}x^{5} \\right) \\left( {\\Delta}x^{2} + \\frac{1}{144} {\\Delta}x^{6} \\right)} + \\frac{{\\Delta}x^{3} u_- \\alpha_{1,3}}{6 \\left( \\frac{12}{{\\Delta}x} + \\frac{1}{3} {\\Delta}x^{3} \\right) \\left( 2 {\\Delta}x + \\frac{1}{18} {\\Delta}x^{5} \\right)} + \\frac{{\\Delta}x^{3} u_- \\alpha_{1,2}}{6 \\left( 2 {\\Delta}x + \\frac{1}{18} {\\Delta}x^{5} \\right) \\left( {\\Delta}x^{2} + \\frac{1}{144} {\\Delta}x^{6} \\right)} + \\frac{{\\Delta}x^{5} u_- \\alpha_{1,2}}{30 \\left( \\frac{12}{{\\Delta}x} + \\frac{1}{3} {\\Delta}x^{3} \\right) \\left( {\\Delta}x^{2} + \\frac{1}{144} {\\Delta}x^{6} \\right)} + \\frac{{\\Delta}x^{5} u_- \\alpha_{1,3}}{30 \\left( 12 + \\frac{1}{12} {\\Delta}x^{4} \\right) \\left( {\\Delta}x^{2} + \\frac{1}{144} {\\Delta}x^{6} \\right)} + \\frac{ - {\\Delta}x^{3} u_- \\alpha_{1,2}}{3 \\left( 2 {\\Delta}x + \\frac{1}{18} {\\Delta}x^{5} \\right) \\left( {\\Delta}x^{2} + \\frac{1}{144} {\\Delta}x^{6} \\right)} + \\frac{ - {\\Delta}x^{5} u_- \\alpha_{1,2}}{30 \\left( \\frac{12}{{\\Delta}x} + \\frac{1}{3} {\\Delta}x^{3} \\right) \\left( {\\Delta}x^{2} + \\frac{1}{144} {\\Delta}x^{6} \\right)} + \\frac{ - {\\Delta}x^{5} u_- \\alpha_{1,3}}{30 \\left( 12 + \\frac{1}{12} {\\Delta}x^{4} \\right) \\left( {\\Delta}x^{2} + \\frac{1}{144} {\\Delta}x^{6} \\right)} + \\frac{ - {\\Delta}x^{3} u_- \\alpha_{1,3}}{6 \\left( \\frac{12}{{\\Delta}x} + \\frac{1}{3} {\\Delta}x^{3} \\right) \\left( 2 {\\Delta}x + \\frac{1}{18} {\\Delta}x^{5} \\right)} + \\frac{{\\Delta}x^{3} u_0 \\alpha_{2,2}}{3 \\left( 2 {\\Delta}x + \\frac{1}{18} {\\Delta}x^{5} \\right) \\left( {\\Delta}x^{2} + \\frac{1}{144} {\\Delta}x^{6} \\right)} + \\frac{{\\Delta}x^{3} u_+ \\alpha_{3,2}}{3 \\left( 2 {\\Delta}x + \\frac{1}{18} {\\Delta}x^{5} \\right) \\left( {\\Delta}x^{2} + \\frac{1}{144} {\\Delta}x^{6} \\right)} + \\frac{ - {\\Delta}x^{3} u_+ \\alpha_{3,3}}{6 \\left( \\frac{12}{{\\Delta}x} + \\frac{1}{3} {\\Delta}x^{3} \\right) \\left( 2 {\\Delta}x + \\frac{1}{18} {\\Delta}x^{5} \\right)} + \\frac{ - {\\Delta}x^{3} u_+ \\alpha_{3,2}}{6 \\left( 2 {\\Delta}x + \\frac{1}{18} {\\Delta}x^{5} \\right) \\left( {\\Delta}x^{2} + \\frac{1}{144} {\\Delta}x^{6} \\right)} + \\frac{ - {\\Delta}x^{5} u_+ \\alpha_{3,2}}{30 \\left( \\frac{12}{{\\Delta}x} + \\frac{1}{3} {\\Delta}x^{3} \\right) \\left( {\\Delta}x^{2} + \\frac{1}{144} {\\Delta}x^{6} \\right)} + \\frac{{\\Delta}x^{5} u_+ \\alpha_{3,3}}{30 \\left( 12 + \\frac{1}{12} {\\Delta}x^{4} \\right) \\left( {\\Delta}x^{2} + \\frac{1}{144} {\\Delta}x^{6} \\right)} + \\frac{{\\Delta}x^{5} u_+ \\alpha_{3,2}}{30 \\left( \\frac{12}{{\\Delta}x} + \\frac{1}{3} {\\Delta}x^{3} \\right) \\left( {\\Delta}x^{2} + \\frac{1}{144} {\\Delta}x^{6} \\right)} + \\frac{ - {\\Delta}x^{5} u_+ \\alpha_{3,3}}{30 \\left( 12 + \\frac{1}{12} {\\Delta}x^{4} \\right) \\left( {\\Delta}x^{2} + \\frac{1}{144} {\\Delta}x^{6} \\right)} + \\frac{ - {\\Delta}x^{3} u_+ \\alpha_{3,2}}{6 \\left( 2 {\\Delta}x + \\frac{1}{18} {\\Delta}x^{5} \\right) \\left( {\\Delta}x^{2} + \\frac{1}{144} {\\Delta}x^{6} \\right)} + \\frac{{\\Delta}x^{3} u_+ \\alpha_{3,3}}{6 \\left( \\frac{12}{{\\Delta}x} + \\frac{1}{3} {\\Delta}x^{3} \\right) \\left( 2 {\\Delta}x + \\frac{1}{18} {\\Delta}x^{5} \\right)} + \\frac{\\frac{1}{6} {\\Delta}x^{3} u_+ \\alpha_{3,3}}{\\left( {\\Delta}x^{2} + \\frac{1}{144} {\\Delta}x^{6} \\right)^{2}} + \\frac{ - \\frac{1}{15} {\\Delta}x^{5} u_0 \\alpha_{2,1}}{\\left( {\\Delta}x^{2} + \\frac{1}{144} {\\Delta}x^{6} \\right)^{2}} + \\frac{\\frac{1}{6} {\\Delta}x^{3} u_- \\alpha_{1,1}}{\\left( 2 {\\Delta}x + \\frac{1}{18} {\\Delta}x^{5} \\right)^{2}} + \\frac{\\frac{1}{12} {\\Delta}x^{3} u_- \\alpha_{1,1}}{{\\Delta}x^{2} + \\frac{1}{144} {\\Delta}x^{6}} + \\frac{ - \\frac{1}{12} {\\Delta}x^{3} u_+ \\alpha_{3,2}}{\\frac{12}{{\\Delta}x} + \\frac{1}{3} {\\Delta}x^{3}} + \\frac{\\frac{1}{30} {\\Delta}x^{5} u_- \\alpha_{1,1}}{\\left( {\\Delta}x^{2} + \\frac{1}{144} {\\Delta}x^{6} \\right)^{2}} + \\frac{ - \\frac{1}{30} {\\Delta}x^{5} u_+ \\alpha_{3,1}}{\\left( {\\Delta}x^{2} + \\frac{1}{144} {\\Delta}x^{6} \\right)^{2}} + \\frac{\\frac{1}{3} {\\Delta}x^{3} u_0 \\alpha_{2,3}}{\\left( {\\Delta}x^{2} + \\frac{1}{144} {\\Delta}x^{6} \\right)^{2}} + \\frac{\\frac{1}{12} {\\Delta}x^{3} u_+ \\alpha_{3,3}}{12 + \\frac{1}{12} {\\Delta}x^{4}} + \\frac{\\frac{1}{6} {\\Delta}x^{3} u_0 \\alpha_{2,1}}{{\\Delta}x^{2} + \\frac{1}{144} {\\Delta}x^{6}} + \\frac{ - u_+ {\\Delta}x \\alpha_{3,2}}{2 {\\Delta}x + \\frac{1}{18} {\\Delta}x^{5}} + \\frac{\\frac{1}{30} {\\Delta}x^{5} u_+ \\alpha_{3,1}}{\\left( {\\Delta}x^{2} + \\frac{1}{144} {\\Delta}x^{6} \\right)^{2}} + \\frac{ - 2 u_0 {\\Delta}x \\alpha_{2,3}}{{\\Delta}x^{2} + \\frac{1}{144} {\\Delta}x^{6}} + \\frac{\\frac{1}{12} {\\Delta}x^{3} u_- \\alpha_{1,2}}{\\frac{12}{{\\Delta}x} + \\frac{1}{3} {\\Delta}x^{3}} + \\frac{u_- {\\Delta}x \\alpha_{1,2}}{2 {\\Delta}x + \\frac{1}{18} {\\Delta}x^{5}} + \\frac{\\frac{1}{12} {\\Delta}x^{3} u_+ \\alpha_{3,1}}{{\\Delta}x^{2} + \\frac{1}{144} {\\Delta}x^{6}} + \\frac{ - \\frac{1}{3} {\\Delta}x^{3} u_0 \\alpha_{2,1}}{{\\Delta}x^{2} + \\frac{1}{144} {\\Delta}x^{6}} + \\frac{\\frac{1}{6} {\\Delta}x^{3} u_- \\alpha_{1,3}}{\\left( {\\Delta}x^{2} + \\frac{1}{144} {\\Delta}x^{6} \\right)^{2}} + u_0 {\\Delta}x \\alpha_{2,1}\n",
       "\\end{equation}\n",
       " $$"
      ],
      "text/plain": [
       "((1//15)*u₀*(Δx^5)*α[2, 1]) / ((Δx^2 + (1//144)*(Δx^6))^2) + ((1//6)*u₊*(Δx^3)*α[3, 1]) / ((2Δx + (1//18)*(Δx^5))^2) + ((-1//6)*u₀*(Δx^3)*α[2, 3]) / (12 + (1//12)*(Δx^4)) + (u₋*Δx*α[1, 3]) / (Δx^2 + (1//144)*(Δx^6)) + ((-1//3)*u₀*(Δx^3)*α[2, 3]) / ((Δx^2 + (1//144)*(Δx^6))^2) + ((1//12)*u₋*(Δx^3)*α[1, 3]) / (12 + (1//12)*(Δx^4)) + ((-1//6)*u₊*(Δx^3)*α[3, 1]) / ((2Δx + (1//18)*(Δx^5))^2) + ((-1//6)*u₋*(Δx^3)*α[1, 3]) / ((Δx^2 + (1//144)*(Δx^6))^2) + ((-1//6)*u₊*(Δx^3)*α[3, 3]) / ((Δx^2 + (1//144)*(Δx^6))^2) + ((-1//30)*u₋*(Δx^5)*α[1, 1]) / ((Δx^2 + (1//144)*(Δx^6))^2) + ((-1//6)*u₋*(Δx^3)*α[1, 1]) / ((2Δx + (1//18)*(Δx^5))^2) + (u₊*Δx*α[3, 3]) / (Δx^2 + (1//144)*(Δx^6)) + (-u₀*(Δx^3)*α[2, 2]) / (3(2Δx + (1//18)*(Δx^5))*(Δx^2 + (1//144)*(Δx^6))) + (-u₀*(Δx^5)*α[2, 3]) / (15(12 + (1//12)*(Δx^4))*(Δx^2 + (1//144)*(Δx^6))) + (u₀*(Δx^5)*α[2, 3]) / (15(12 + (1//12)*(Δx^4))*(Δx^2 + (1//144)*(Δx^6))) + (u₋*(Δx^3)*α[1, 2]) / (6(2Δx + (1//18)*(Δx^5))*(Δx^2 + (1//144)*(Δx^6))) + (u₋*(Δx^3)*α[1, 3]) / (6(12 / Δx + (1//3)*(Δx^3))*(2Δx + (1//18)*(Δx^5))) + (u₋*(Δx^3)*α[1, 2]) / (6(2Δx + (1//18)*(Δx^5))*(Δx^2 + (1//144)*(Δx^6))) + (u₋*(Δx^5)*α[1, 2]) / (30(12 / Δx + (1//3)*(Δx^3))*(Δx^2 + (1//144)*(Δx^6))) + (u₋*(Δx^5)*α[1, 3]) / (30(12 + (1//12)*(Δx^4))*(Δx^2 + (1//144)*(Δx^6))) + (-u₋*(Δx^3)*α[1, 2]) / (3(2Δx + (1//18)*(Δx^5))*(Δx^2 + (1//144)*(Δx^6))) + (-u₋*(Δx^5)*α[1, 2]) / (30(12 / Δx + (1//3)*(Δx^3))*(Δx^2 + (1//144)*(Δx^6))) + (-u₋*(Δx^5)*α[1, 3]) / (30(12 + (1//12)*(Δx^4))*(Δx^2 + (1//144)*(Δx^6))) + (-u₋*(Δx^3)*α[1, 3]) / (6(12 / Δx + (1//3)*(Δx^3))*(2Δx + (1//18)*(Δx^5))) + (u₀*(Δx^3)*α[2, 2]) / (3(2Δx + (1//18)*(Δx^5))*(Δx^2 + (1//144)*(Δx^6))) + (u₊*(Δx^3)*α[3, 2]) / (3(2Δx + (1//18)*(Δx^5))*(Δx^2 + (1//144)*(Δx^6))) + (-u₊*(Δx^3)*α[3, 3]) / (6(12 / Δx + (1//3)*(Δx^3))*(2Δx + (1//18)*(Δx^5))) + (-u₊*(Δx^3)*α[3, 2]) / (6(2Δx + (1//18)*(Δx^5))*(Δx^2 + (1//144)*(Δx^6))) + (-u₊*(Δx^5)*α[3, 2]) / (30(12 / Δx + (1//3)*(Δx^3))*(Δx^2 + (1//144)*(Δx^6))) + (u₊*(Δx^5)*α[3, 3]) / (30(12 + (1//12)*(Δx^4))*(Δx^2 + (1//144)*(Δx^6))) + (u₊*(Δx^5)*α[3, 2]) / (30(12 / Δx + (1//3)*(Δx^3))*(Δx^2 + (1//144)*(Δx^6))) + (-u₊*(Δx^5)*α[3, 3]) / (30(12 + (1//12)*(Δx^4))*(Δx^2 + (1//144)*(Δx^6))) + (-u₊*(Δx^3)*α[3, 2]) / (6(2Δx + (1//18)*(Δx^5))*(Δx^2 + (1//144)*(Δx^6))) + (u₊*(Δx^3)*α[3, 3]) / (6(12 / Δx + (1//3)*(Δx^3))*(2Δx + (1//18)*(Δx^5))) + ((1//6)*u₊*(Δx^3)*α[3, 3]) / ((Δx^2 + (1//144)*(Δx^6))^2) + ((-1//15)*u₀*(Δx^5)*α[2, 1]) / ((Δx^2 + (1//144)*(Δx^6))^2) + ((1//6)*u₋*(Δx^3)*α[1, 1]) / ((2Δx + (1//18)*(Δx^5))^2) + ((1//12)*u₋*(Δx^3)*α[1, 1]) / (Δx^2 + (1//144)*(Δx^6)) + ((-1//12)*u₊*(Δx^3)*α[3, 2]) / (12 / Δx + (1//3)*(Δx^3)) + ((1//30)*u₋*(Δx^5)*α[1, 1]) / ((Δx^2 + (1//144)*(Δx^6))^2) + ((-1//30)*u₊*(Δx^5)*α[3, 1]) / ((Δx^2 + (1//144)*(Δx^6))^2) + ((1//3)*u₀*(Δx^3)*α[2, 3]) / ((Δx^2 + (1//144)*(Δx^6))^2) + ((1//12)*u₊*(Δx^3)*α[3, 3]) / (12 + (1//12)*(Δx^4)) + ((1//6)*u₀*(Δx^3)*α[2, 1]) / (Δx^2 + (1//144)*(Δx^6)) + (-u₊*Δx*α[3, 2]) / (2Δx + (1//18)*(Δx^5)) + ((1//30)*u₊*(Δx^5)*α[3, 1]) / ((Δx^2 + (1//144)*(Δx^6))^2) + (-2u₀*Δx*α[2, 3]) / (Δx^2 + (1//144)*(Δx^6)) + ((1//12)*u₋*(Δx^3)*α[1, 2]) / (12 / Δx + (1//3)*(Δx^3)) + (u₋*Δx*α[1, 2]) / (2Δx + (1//18)*(Δx^5)) + ((1//12)*u₊*(Δx^3)*α[3, 1]) / (Δx^2 + (1//144)*(Δx^6)) + ((-1//3)*u₀*(Δx^3)*α[2, 1]) / (Δx^2 + (1//144)*(Δx^6)) + ((1//6)*u₋*(Δx^3)*α[1, 3]) / ((Δx^2 + (1//144)*(Δx^6))^2) + u₀*Δx*α[2, 1]"
      ]
     },
     "metadata": {},
     "output_type": "display_data"
    }
   ],
   "source": [
    "display(objectFunction)"
   ]
  },
  {
   "cell_type": "code",
   "execution_count": 171,
   "metadata": {},
   "outputs": [
    {
     "data": {
      "text/latex": [
       "$$ \\begin{equation}\n",
       "\\frac{1}{3} \\alpha^0_{2} + 0.16667 {\\Delta}x \\alpha^0_{1} + 0.027778 {\\Delta}x^{3} \\alpha^0_{3}\n",
       "\\end{equation}\n",
       " $$"
      ],
      "text/plain": [
       "(1//3)*α⁰[2] + 0.16666666666666666Δx*α⁰[1] + 0.027777777777777776(Δx^3)*α⁰[3]"
      ]
     },
     "metadata": {},
     "output_type": "display_data"
    }
   ],
   "source": [
    "D₋ =  Differential(u₋)\n",
    "expand_derivatives(Differential(u₋)(objectFunction))"
   ]
  },
  {
   "cell_type": "code",
   "execution_count": 125,
   "metadata": {},
   "outputs": [
    {
     "name": "stdout",
     "output_type": "stream",
     "text": [
      "mySimplify(a) = (1//72)*((24//1)*u[1]*α⁰[2] - (48//1)*u[2]*α⁰[2] + (24//1)*u[3]*α⁰[2] + (12//1)*u[1]*Δx*α⁰[1] - (12//1)*u[3]*Δx*α⁰[1] + u[1]*(Δx^3)*α⁰[3] - u[3]*(Δx^3)*α⁰[3])\n"
     ]
    },
    {
     "data": {
      "text/latex": [
       "$$ \\begin{equation}\n",
       "\\frac{1}{72} \\left( 24 u_{1} \\alpha^0_{2} - 48 u_{2} \\alpha^0_{2} + 24 u_{3} \\alpha^0_{2} + 12 u_{1} {\\Delta}x \\alpha^0_{1} - 12 u_{3} {\\Delta}x \\alpha^0_{1} + {\\Delta}x^{3} u_{1} \\alpha^0_{3} - {\\Delta}x^{3} u_{3} \\alpha^0_{3} \\right)\n",
       "\\end{equation}\n",
       " $$"
      ],
      "text/plain": [
       "(1//72)*((24//1)*u[1]*α⁰[2] - (48//1)*u[2]*α⁰[2] + (24//1)*u[3]*α⁰[2] + (12//1)*u[1]*Δx*α⁰[1] - (12//1)*u[3]*Δx*α⁰[1] + u[1]*(Δx^3)*α⁰[3] - u[3]*(Δx^3)*α⁰[3])"
      ]
     },
     "metadata": {},
     "output_type": "display_data"
    }
   ],
   "source": [
    "\n",
    "# computing eq. 58\n",
    "\n",
    "@variables Δx\n",
    "@variables α[1:3,1:3] # in the order of ( η, l )\n",
    "@variables α⁰[1:3]\n",
    "@variables Aννᶜ[1:3]\n",
    "@variables u[1:3]\n",
    "ν =2\n",
    "\n",
    "\n",
    "\n",
    "a=0\n",
    "\n",
    "\n",
    "\n",
    "for νᶜ in -1:1:1\n",
    "    for η in -1:1:1 # from -1 to 0 normally\n",
    "        for l_tmp in l\n",
    "            for lᶜ_tmp in lᶜ\n",
    "                for n_minus_l_tmp in n_minus_l\n",
    "                    n=l_tmp+n_minus_l_tmp\n",
    "                    power=lᶜ_tmp + n_minus_l_tmp + 1\n",
    "                    denominator=(power+1)*power*factorial(n_minus_l_tmp)*factorial(l_tmp)\n",
    "                    #@show l_tmp, lᶜ_tmp, n_minus_l_tmp\n",
    "                    #print(mySimplify(Δx^power/ denominator+((-Δx)^power)/denominator))\n",
    "                    #print('\\n')\n",
    "                    integralOfWandTaylor=mySimplify(Δx^power/ denominator+((-Δx)^power)/denominator)\n",
    "                    if n+1 <=5\n",
    "                        #tmp = mySimplify(Cⁿη[lᶜ_tmp+1,η+2]*Cⁿη[n+1,νᶜ+2]* α[η+2,l_tmp+1] * integralOfWandTaylor)\n",
    "                        tmp=mySimplify(Cⁿη[lᶜ_tmp+1,η+2]*Cⁿη[n+1,νᶜ+2]* α⁰[l_tmp+1] * integralOfWandTaylor)\n",
    "                        #@show Aννᶜ[νᶜ+2]\n",
    "                        a=a+tmp*u[νᶜ+2]\n",
    "                        #Aννᶜ[νᶜ+2]+=  Cⁿη[lᶜ_tmp+1,η+2]*Cⁿη[n+1,νᶜ+2]* α[η+2,l_tmp+1] * integralOfWandTaylor\n",
    "                    end\n",
    "                end\n",
    "            end\n",
    "        end\n",
    "    end\n",
    "end\n",
    "@show mySimplify(a)\n"
   ]
  },
  {
   "cell_type": "code",
   "execution_count": null,
   "metadata": {},
   "outputs": [],
   "source": []
  },
  {
   "cell_type": "code",
   "execution_count": 12,
   "metadata": {},
   "outputs": [
    {
     "data": {
      "text/plain": [
       "4-element Vector{Symbolics.Arr{Num, 1}}:\n",
       " Δt[1:3]\n",
       " Δx[1:1]\n",
       " Δy[1:1]\n",
       " Δz[1:1]"
      ]
     },
     "metadata": {},
     "output_type": "display_data"
    }
   ],
   "source": [
    "@variables t,x,y,z\n",
    "L=[3 1 1 1]\n",
    "@variables whatsoever[1:L[1],1:L[2],1:L[3],1:L[4]]\n",
    "@variables ∂whatsoever[1:L[1],1:L[2],1:L[3],1:L[4]]\n",
    "@variables Δt[1:L[1]] Δx[1:L[2]] Δy[1:L[3]] Δz[1:L[4]]\n"
   ]
  },
  {
   "cell_type": "code",
   "execution_count": 13,
   "metadata": {},
   "outputs": [],
   "source": [
    "\n",
    "eqns=[]\n",
    "for jz in 1:L[4]\n",
    "    for jy in 1:L[3]\n",
    "        for jx in 1:L[2]\n",
    "            for jt in 1:L[1]\n",
    "                t=Δt[jt]\n",
    "                x=Δx[jx]\n",
    "                y=Δy[jy]\n",
    "                z=Δz[jz]\n",
    "                eqns=push!(eqns,whatsoever[jt,jx,jy,jz]~sum(sum(sum(sum(∂whatsoever[it,ix,iy,iz]*t^(it-1)*x^(ix-1)*y^(iy-1)*z^(iz-1)\n",
    "    // factorial(BigInt(it-1)) // factorial(BigInt(ix-1)) // factorial(BigInt(iy-1)) // factorial(BigInt(iz-1)) \n",
    "    for it in 1:L[1]; init=0) for ix in 1:L[2]; init=0) for iy in 1:L[3]; init=0) for iz in 1:L[4]; init=0))\n",
    "            end\n",
    "        end\n",
    "    end\n",
    "end\n",
    "\n"
   ]
  },
  {
   "cell_type": "code",
   "execution_count": 14,
   "metadata": {},
   "outputs": [
    {
     "data": {
      "text/plain": [
       "3-element Vector{Any}:\n",
       " whatsoever[1, 1, 1, 1] ~ ∂whatsoever[1, 1, 1, 1] + Δt[1]*∂whatsoever[2, 1, 1, 1] + (1//2)*(Δt[1]^2)*∂whatsoever[3, 1, 1, 1]\n",
       " whatsoever[2, 1, 1, 1] ~ ∂whatsoever[1, 1, 1, 1] + Δt[2]*∂whatsoever[2, 1, 1, 1] + (1//2)*(Δt[2]^2)*∂whatsoever[3, 1, 1, 1]\n",
       " whatsoever[3, 1, 1, 1] ~ ∂whatsoever[1, 1, 1, 1] + Δt[3]*∂whatsoever[2, 1, 1, 1] + (1//2)*(Δt[3]^2)*∂whatsoever[3, 1, 1, 1]"
      ]
     },
     "metadata": {},
     "output_type": "display_data"
    }
   ],
   "source": [
    "eqns"
   ]
  },
  {
   "cell_type": "code",
   "execution_count": 15,
   "metadata": {},
   "outputs": [
    {
     "data": {
      "text/plain": [
       "3-element Vector{SymbolicUtils.BasicSymbolic{Real}}:\n",
       " (-(1//4)*whatsoever[1, 1, 1, 1]*(Δt[2]^2)*Δt[3] + (1//4)*whatsoever[1, 1, 1, 1]*Δt[2]*(Δt[3]^2) + (1//4)*whatsoever[2, 1, 1, 1]*(Δt[1]^2)*Δt[3] - (1//4)*whatsoever[2, 1, 1, 1]*Δt[1]*(Δt[3]^2) - (1//4)*whatsoever[3, 1, 1, 1]*(Δt[1]^2)*Δt[2] + (1//4)*whatsoever[3, 1, 1, 1]*Δt[1]*(Δt[2]^2)) / ((1//2)*(-Δt[1] + Δt[2])*((1//2)*Δt[1]*Δt[2] - (1//2)*Δt[1]*Δt[3] - (1//2)*Δt[2]*Δt[3] + (1//2)*(Δt[3]^2)))\n",
       " ((1//2)*whatsoever[1, 1, 1, 1]*(Δt[2]^2) - (1//2)*whatsoever[1, 1, 1, 1]*(Δt[3]^2) - (1//2)*whatsoever[2, 1, 1, 1]*(Δt[1]^2) + (1//2)*whatsoever[2, 1, 1, 1]*(Δt[3]^2) + (1//2)*whatsoever[3, 1, 1, 1]*(Δt[1]^2) - (1//2)*whatsoever[3, 1, 1, 1]*(Δt[2]^2)) / ((-Δt[1] + Δt[2])*((1//2)*Δt[1]*Δt[2] - (1//2)*Δt[1]*Δt[3] - (1//2)*Δt[2]*Δt[3] + (1//2)*(Δt[3]^2)))\n",
       " (-whatsoever[1, 1, 1, 1]*Δt[2] + whatsoever[1, 1, 1, 1]*Δt[3] + whatsoever[2, 1, 1, 1]*Δt[1] - whatsoever[2, 1, 1, 1]*Δt[3] - whatsoever[3, 1, 1, 1]*Δt[1] + whatsoever[3, 1, 1, 1]*Δt[2]) / (-(1//2)*(Δt[1]^2)*Δt[2] + (1//2)*(Δt[1]^2)*Δt[3] + (1//2)*Δt[1]*(Δt[2]^2) - (1//2)*Δt[1]*(Δt[3]^2) - (1//2)*(Δt[2]^2)*Δt[3] + (1//2)*Δt[2]*(Δt[3]^2))"
      ]
     },
     "metadata": {},
     "output_type": "display_data"
    }
   ],
   "source": [
    "tmp=mySolvefor(eqns,∂whatsoever)"
   ]
  },
  {
   "cell_type": "code",
   "execution_count": 16,
   "metadata": {},
   "outputs": [
    {
     "data": {
      "text/plain": [
       "3×1×1×1 Array{SymbolicUtils.BasicSymbolic{Real}, 4}:\n",
       "[:, :, 1, 1] =\n",
       " (-(1//4)*whatsoever[1, 1, 1, 1]*(Δt[2]^2)*Δt[3] + (1//4)*whatsoever[1, 1, 1, 1]*Δt[2]*(Δt[3]^2) + (1//4)*whatsoever[2, 1, 1, 1]*(Δt[1]^2)*Δt[3] - (1//4)*whatsoever[2, 1, 1, 1]*Δt[1]*(Δt[3]^2) - (1//4)*whatsoever[3, 1, 1, 1]*(Δt[1]^2)*Δt[2] + (1//4)*whatsoever[3, 1, 1, 1]*Δt[1]*(Δt[2]^2)) / ((1//2)*(-Δt[1] + Δt[2])*((1//2)*Δt[1]*Δt[2] - (1//2)*Δt[1]*Δt[3] - (1//2)*Δt[2]*Δt[3] + (1//2)*(Δt[3]^2)))\n",
       " ((1//2)*whatsoever[1, 1, 1, 1]*(Δt[2]^2) - (1//2)*whatsoever[1, 1, 1, 1]*(Δt[3]^2) - (1//2)*whatsoever[2, 1, 1, 1]*(Δt[1]^2) + (1//2)*whatsoever[2, 1, 1, 1]*(Δt[3]^2) + (1//2)*whatsoever[3, 1, 1, 1]*(Δt[1]^2) - (1//2)*whatsoever[3, 1, 1, 1]*(Δt[2]^2)) / ((-Δt[1] + Δt[2])*((1//2)*Δt[1]*Δt[2] - (1//2)*Δt[1]*Δt[3] - (1//2)*Δt[2]*Δt[3] + (1//2)*(Δt[3]^2)))\n",
       " (-whatsoever[1, 1, 1, 1]*Δt[2] + whatsoever[1, 1, 1, 1]*Δt[3] + whatsoever[2, 1, 1, 1]*Δt[1] - whatsoever[2, 1, 1, 1]*Δt[3] - whatsoever[3, 1, 1, 1]*Δt[1] + whatsoever[3, 1, 1, 1]*Δt[2]) / (-(1//2)*(Δt[1]^2)*Δt[2] + (1//2)*(Δt[1]^2)*Δt[3] + (1//2)*Δt[1]*(Δt[2]^2) - (1//2)*Δt[1]*(Δt[3]^2) - (1//2)*(Δt[2]^2)*Δt[3] + (1//2)*Δt[2]*(Δt[3]^2))"
      ]
     },
     "metadata": {},
     "output_type": "display_data"
    }
   ],
   "source": [
    "new∂whatsoever=reshape(tmp,(L[1],L[2],L[3],L[4]))"
   ]
  },
  {
   "cell_type": "code",
   "execution_count": null,
   "metadata": {},
   "outputs": [
    {
     "data": {
      "text/latex": [
       "$$ \\begin{equation}\n",
       "\\left[\n",
       "\\begin{array}{cccccccccc}\n",
       "C_{1}ˏ_1 & C_{1}ˏ_2 & C_{1}ˏ_3 & C_{1}ˏ_4 & C_{1}ˏ_5 & C_{1}ˏ_6 & C_{1}ˏ_7 & C_{1}ˏ_8 & C_{1}ˏ_9 & C_{1}ˏ_{1 0} \\\\\n",
       "C_{2}ˏ_1 & C_{2}ˏ_2 & C_{2}ˏ_3 & C_{2}ˏ_4 & C_{2}ˏ_5 & C_{2}ˏ_6 & C_{2}ˏ_7 & C_{2}ˏ_8 & C_{2}ˏ_9 & C_{2}ˏ_{1 0} \\\\\n",
       "C_{3}ˏ_1 & C_{3}ˏ_2 & C_{3}ˏ_3 & C_{3}ˏ_4 & C_{3}ˏ_5 & C_{3}ˏ_6 & C_{3}ˏ_7 & C_{3}ˏ_8 & C_{3}ˏ_9 & C_{3}ˏ_{1 0} \\\\\n",
       "C_{4}ˏ_1 & C_{4}ˏ_2 & C_{4}ˏ_3 & C_{4}ˏ_4 & C_{4}ˏ_5 & C_{4}ˏ_6 & C_{4}ˏ_7 & C_{4}ˏ_8 & C_{4}ˏ_9 & C_{4}ˏ_{1 0} \\\\\n",
       "C_{5}ˏ_1 & C_{5}ˏ_2 & C_{5}ˏ_3 & C_{5}ˏ_4 & C_{5}ˏ_5 & C_{5}ˏ_6 & C_{5}ˏ_7 & C_{5}ˏ_8 & C_{5}ˏ_9 & C_{5}ˏ_{1 0} \\\\\n",
       "C_{6}ˏ_1 & C_{6}ˏ_2 & C_{6}ˏ_3 & C_{6}ˏ_4 & C_{6}ˏ_5 & C_{6}ˏ_6 & C_{6}ˏ_7 & C_{6}ˏ_8 & C_{6}ˏ_9 & C_{6}ˏ_{1 0} \\\\\n",
       "C_{7}ˏ_1 & C_{7}ˏ_2 & C_{7}ˏ_3 & C_{7}ˏ_4 & C_{7}ˏ_5 & C_{7}ˏ_6 & C_{7}ˏ_7 & C_{7}ˏ_8 & C_{7}ˏ_9 & C_{7}ˏ_{1 0} \\\\\n",
       "C_{8}ˏ_1 & C_{8}ˏ_2 & C_{8}ˏ_3 & C_{8}ˏ_4 & C_{8}ˏ_5 & C_{8}ˏ_6 & C_{8}ˏ_7 & C_{8}ˏ_8 & C_{8}ˏ_9 & C_{8}ˏ_{1 0} \\\\\n",
       "C_{9}ˏ_1 & C_{9}ˏ_2 & C_{9}ˏ_3 & C_{9}ˏ_4 & C_{9}ˏ_5 & C_{9}ˏ_6 & C_{9}ˏ_7 & C_{9}ˏ_8 & C_{9}ˏ_9 & C_{9}ˏ_{1 0} \\\\\n",
       "C_1_{0}ˏ_1 & C_1_{0}ˏ_2 & C_1_{0}ˏ_3 & C_1_{0}ˏ_4 & C_1_{0}ˏ_5 & C_1_{0}ˏ_6 & C_1_{0}ˏ_7 & C_1_{0}ˏ_8 & C_1_{0}ˏ_9 & C_1_{0}ˏ_{1 0} \\\\\n",
       "\\end{array}\n",
       "\\right]\n",
       "\\end{equation}\n",
       " $$"
      ],
      "text/plain": [
       "10×10 Matrix{Num}:\n",
       "  C₁ˏ₁   C₁ˏ₂   C₁ˏ₃   C₁ˏ₄   C₁ˏ₅   C₁ˏ₆   C₁ˏ₇   C₁ˏ₈   C₁ˏ₉   C₁ˏ₁₀\n",
       "  C₂ˏ₁   C₂ˏ₂   C₂ˏ₃   C₂ˏ₄   C₂ˏ₅   C₂ˏ₆   C₂ˏ₇   C₂ˏ₈   C₂ˏ₉   C₂ˏ₁₀\n",
       "  C₃ˏ₁   C₃ˏ₂   C₃ˏ₃   C₃ˏ₄   C₃ˏ₅   C₃ˏ₆   C₃ˏ₇   C₃ˏ₈   C₃ˏ₉   C₃ˏ₁₀\n",
       "  C₄ˏ₁   C₄ˏ₂   C₄ˏ₃   C₄ˏ₄   C₄ˏ₅   C₄ˏ₆   C₄ˏ₇   C₄ˏ₈   C₄ˏ₉   C₄ˏ₁₀\n",
       "  C₅ˏ₁   C₅ˏ₂   C₅ˏ₃   C₅ˏ₄   C₅ˏ₅   C₅ˏ₆   C₅ˏ₇   C₅ˏ₈   C₅ˏ₉   C₅ˏ₁₀\n",
       "  C₆ˏ₁   C₆ˏ₂   C₆ˏ₃   C₆ˏ₄   C₆ˏ₅   C₆ˏ₆   C₆ˏ₇   C₆ˏ₈   C₆ˏ₉   C₆ˏ₁₀\n",
       "  C₇ˏ₁   C₇ˏ₂   C₇ˏ₃   C₇ˏ₄   C₇ˏ₅   C₇ˏ₆   C₇ˏ₇   C₇ˏ₈   C₇ˏ₉   C₇ˏ₁₀\n",
       "  C₈ˏ₁   C₈ˏ₂   C₈ˏ₃   C₈ˏ₄   C₈ˏ₅   C₈ˏ₆   C₈ˏ₇   C₈ˏ₈   C₈ˏ₉   C₈ˏ₁₀\n",
       "  C₉ˏ₁   C₉ˏ₂   C₉ˏ₃   C₉ˏ₄   C₉ˏ₅   C₉ˏ₆   C₉ˏ₇   C₉ˏ₈   C₉ˏ₉   C₉ˏ₁₀\n",
       " C₁₀ˏ₁  C₁₀ˏ₂  C₁₀ˏ₃  C₁₀ˏ₄  C₁₀ˏ₅  C₁₀ˏ₆  C₁₀ˏ₇  C₁₀ˏ₈  C₁₀ˏ₉  C₁₀ˏ₁₀"
      ]
     },
     "metadata": {},
     "output_type": "display_data"
    }
   ],
   "source": [
    "C=Symbolics.variables(:C,1:4,1:4)"
   ]
  },
  {
   "cell_type": "code",
   "execution_count": null,
   "metadata": {},
   "outputs": [],
   "source": [
    "\n",
    "\n"
   ]
  }
 ],
 "metadata": {
  "kernelspec": {
   "display_name": "Julia 1.11.3",
   "language": "julia",
   "name": "julia-1.11"
  },
  "language_info": {
   "file_extension": ".jl",
   "mimetype": "application/julia",
   "name": "julia",
   "version": "1.11.3"
  }
 },
 "nbformat": 4,
 "nbformat_minor": 2
}
