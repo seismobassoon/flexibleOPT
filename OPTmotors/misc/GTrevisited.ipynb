{
 "cells": [
  {
   "cell_type": "markdown",
   "metadata": {},
   "source": [
    "# GT98 revisited\n"
   ]
  },
  {
   "cell_type": "code",
   "execution_count": 1,
   "metadata": {},
   "outputs": [],
   "source": [
    "using Symbolics\n",
    "\n",
    "#using ModelingToolkit\n",
    "# https://stackoverflow.com/questions/70706263/how-to-convert-reduce-output-to-julia-symbolic-expression"
   ]
  },
  {
   "cell_type": "markdown",
   "metadata": {},
   "source": [
    "Here I need to write Symbolic integration (analytical one) since all the julia packages are not working for me properly!"
   ]
  },
  {
   "cell_type": "code",
   "execution_count": 100,
   "metadata": {},
   "outputs": [
    {
     "data": {
      "text/plain": [
       "integrateTaylorPolynomials (generic function with 1 method)"
      ]
     },
     "metadata": {},
     "output_type": "display_data"
    }
   ],
   "source": [
    "function integrateTaylorPolynomials(eq::Num, x::Num)\n",
    "    # this function works only for (positive) polynomials \n",
    "    #\n",
    "    # the function needs only Symbolics.jl\n",
    "    #\n",
    "    # Since the Symbolics.coeff does not support expression with division, lowestNegativeOrder::Int option should be implemented afterwards\n",
    "\n",
    "    lowestNegativeOrder::Int=0\n",
    "    eq = simplify(eq;expand=true,polynorm=true)\n",
    "    eqval=Symbolics.value(eq)\n",
    "    \n",
    "\n",
    "    # The above statement is to switch off the negative orders integral\n",
    "   \n",
    "    if Symbolics.isdiv(eqval)\n",
    "        eq=eqval.num \n",
    "        denominator=eqval.den \n",
    "    else \n",
    "        denominator =1\n",
    "    end\n",
    "    highestOrder=Symbolics.degree(eq,x)\n",
    "   \n",
    "    tmpeq = eq\n",
    "    neweq = 0\n",
    "    if highestOrder>0\n",
    "        for i in 1:highestOrder\n",
    "            old_coef=Symbolics.coeff(eq,x^i)\n",
    "            tmpeq-=old_coef*x^i\n",
    "            new_coef=old_coef//(i+1)\n",
    "            neweq+=new_coef*x^(i+1)        \n",
    "        end\n",
    "    end\n",
    "    \n",
    "    if lowestNegativeOrder<0\n",
    "        old_coef=Symbolics.coeff(eq,x^(-1))\n",
    "        tmpeq-=old_coef*x^(-1)\n",
    "        new_coef=old_coef\n",
    "        neweq+=new_coef*log(x)\n",
    "\n",
    "        if lowestNegativeOrder<1\n",
    "            for i in lowestNegativeOrder:-2\n",
    "                old_coef=Symbolics.coeff(eq,x^i)\n",
    "                tmpeq-=old_coef*x^i\n",
    "                new_coef=old_coef//(i+1)\n",
    "                neweq+=new_coef*x^(i+1)\n",
    "            end\n",
    "        end\n",
    "    end\n",
    "\n",
    "    # the rest of tmpeq should be the constant\n",
    "    neweq+=tmpeq*x\n",
    "    neweq/=denominator\n",
    "    return simplify(neweq;expand=true)\n",
    "end"
   ]
  },
  {
   "cell_type": "code",
   "execution_count": 101,
   "metadata": {},
   "outputs": [
    {
     "data": {
      "text/plain": [
       "ignoreHigherOrderTerms (generic function with 1 method)"
      ]
     },
     "metadata": {},
     "output_type": "display_data"
    }
   ],
   "source": [
    "function ignoreHigherOrderTerms(eq::Num,x::Num,highestOrderForConsideration::Int)\n",
    "    eq = simplify(eq;expand=true,polynorm=true)\n",
    "    eqval=Symbolics.value(eq)\n",
    "\n",
    "\n",
    "    # The above statement is to switch off the negative orders integral\n",
    "    \n",
    "    if Symbolics.isdiv(eqval)\n",
    "        eq=eqval.num \n",
    "        denominator=eqval.den \n",
    "    else \n",
    "        denominator =1\n",
    "    end\n",
    "    highestOrder=Symbolics.degree(eq,x)\n",
    "\n",
    "    highestOrderForConsideration > 0 || error(\"highestOrderForConsideration should be positive\")\n",
    "    highestOrderForConsideration<highestOrder || return eq/denominator\n",
    "    tmpeq=eq\n",
    "    for i in highestOrderForConsideration+1:highestOrder\n",
    "\n",
    "        old_coef=Symbolics.coeff(eq,x^i)\n",
    "\n",
    "        tmpeq-=old_coef*x^i\n",
    "    end\n",
    "    neweq=tmpeq/denominator\n",
    "    return simplify(neweq; expand=true)\n",
    "end\n",
    "        "
   ]
  },
  {
   "cell_type": "code",
   "execution_count": 102,
   "metadata": {},
   "outputs": [
    {
     "data": {
      "text/latex": [
       "$$ \\begin{equation}\n",
       "\\frac{z^{2} + {\\Delta}x^{2} x + 2 x^{2} z {\\Delta}x + 6 x^{3} z {\\Delta}x + 2 z^{2} x y {\\Delta}x + {\\Delta}x^{2} x^{4} + 6 {\\Delta}x^{2} x^{5} + 2 {\\Delta}x^{2} x^{3} y z + 9 {\\Delta}x^{2} x^{6} + 6 {\\Delta}x^{2} x^{4} y z + {\\Delta}x^{2} z^{2} y^{2} x^{2}}{{\\Delta}x^{2}}\n",
       "\\end{equation}\n",
       " $$"
      ],
      "text/plain": [
       "(z^2 + x*(Δx^2) + (2//1)*(x^2)*z*Δx + (6//1)*(x^3)*z*Δx + (2//1)*x*y*(z^2)*Δx + (x^4)*(Δx^2) + (6//1)*(x^5)*(Δx^2) + (2//1)*(x^3)*y*z*(Δx^2) + (9//1)*(x^6)*(Δx^2) + (6//1)*(x^4)*y*z*(Δx^2) + (x^2)*(y^2)*(z^2)*(Δx^2)) / (Δx^2)"
      ]
     },
     "metadata": {},
     "output_type": "display_data"
    }
   ],
   "source": [
    "@variables x  y z Δx\n",
    "f=(3*x^3+x^2+y*z*x+z/Δx)^2+x\n",
    "simplify(f;expand=true)\n",
    "#Symbolics.degree(f,x)\n"
   ]
  },
  {
   "cell_type": "code",
   "execution_count": 103,
   "metadata": {},
   "outputs": [
    {
     "data": {
      "text/latex": [
       "$$ \\begin{equation}\n",
       "\\frac{\\frac{1}{12} z^{2} + \\frac{1}{6} x^{2} z {\\Delta}x + \\frac{1}{2} x^{3} z {\\Delta}x + \\frac{1}{6} z^{2} x y {\\Delta}x}{{\\Delta}x^{2}}\n",
       "\\end{equation}\n",
       " $$"
      ],
      "text/plain": [
       "((1//12)*(z^2) + (1//6)*(x^2)*z*Δx + (1//2)*(x^3)*z*Δx + (1//6)*x*y*(z^2)*Δx) / (Δx^2)"
      ]
     },
     "metadata": {},
     "output_type": "display_data"
    }
   ],
   "source": [
    "ignoreHigherOrderTerms(1//12*f,Δx,1)"
   ]
  },
  {
   "cell_type": "code",
   "execution_count": 104,
   "metadata": {},
   "outputs": [
    {
     "data": {
      "text/latex": [
       "$$ \\begin{equation}\n",
       "\\frac{\\frac{1}{12} z^{2} x + \\frac{1}{24} {\\Delta}x^{2} x^{2} + \\frac{1}{18} x^{3} z {\\Delta}x + \\frac{1}{8} x^{4} z {\\Delta}x + \\frac{1}{12} z^{2} x^{2} y {\\Delta}x + \\frac{1}{60} {\\Delta}x^{2} x^{5} + \\frac{1}{12} {\\Delta}x^{2} x^{6} + \\frac{1}{24} {\\Delta}x^{2} x^{4} y z + \\frac{3}{28} {\\Delta}x^{2} x^{7} + \\frac{1}{10} {\\Delta}x^{2} x^{5} y z + \\frac{1}{36} {\\Delta}x^{2} z^{2} y^{2} x^{3}}{{\\Delta}x^{2}}\n",
       "\\end{equation}\n",
       " $$"
      ],
      "text/plain": [
       "((1//12)*x*(z^2) + (1//24)*(x^2)*(Δx^2) + (1//18)*(x^3)*z*Δx + (1//8)*(x^4)*z*Δx + (1//12)*(x^2)*y*(z^2)*Δx + (1//60)*(x^5)*(Δx^2) + (1//12)*(x^6)*(Δx^2) + (1//24)*(x^4)*y*z*(Δx^2) + (3//28)*(x^7)*(Δx^2) + (1//10)*(x^5)*y*z*(Δx^2) + (1//36)*(x^3)*(y^2)*(z^2)*(Δx^2)) / (Δx^2)"
      ]
     },
     "metadata": {},
     "output_type": "display_data"
    }
   ],
   "source": [
    "integrateTaylorPolynomials(1//12*f,x)"
   ]
  },
  {
   "cell_type": "code",
   "execution_count": 105,
   "metadata": {},
   "outputs": [],
   "source": [
    "# SymbolicNumericIntegration usage \n",
    "#@variables x a b Δx A B\n",
    "#F, dummy, dummy2=integrate(cosh(a * x) * exp(b * x), x; symbolic = true)\n",
    "#f(x,xa,xb)\n",
    "#G, dummy, dummy2=integrate(F,x; symbolic=true)\n",
    "#substitute(G, Dict([x=>Δx,a=>A,b=>B]))"
   ]
  },
  {
   "cell_type": "markdown",
   "metadata": {},
   "source": [
    "We are looking for the expression for \n",
    "\\begin{equation}\n",
    "\\int dt \\psi^{(n)} \\int dx \\phi^{(m)} \\left [ \\rho (x) \\frac{\\partial^2}{\\partial t^2} u(x,t) - \\frac{\\partial}{\\partial x} \\left ( \\mu (x) \\frac{\\partial}{\\partial x} u(x,t) \\right ) \\right ]\n",
    "\\end{equation}\n",
    "as the inner product:\n",
    "\n",
    "\\begin{equation}\n",
    "\\sum_{m^\\prime = m-1}^{m+1} \\sum_{n^\\prime = n-1}^{n+1} A_{m^\\prime n^\\prime} u (x_{m^\\prime}, t_{n^\\prime})\n",
    "\\end{equation}\n",
    "\n"
   ]
  },
  {
   "cell_type": "markdown",
   "metadata": {},
   "source": [
    "We use this integration by parts in order to prepare the spatial and temporal integration symbolically.\n",
    "\n",
    "\\begin{equation}\n",
    "\\int_{y_1}^{y_2} dy f(y) w(y) = \\left [F(y) w(y) \\right ]_{y_1}^{y_2} - \\int_{y_1}^{y_2} dy \\frac{\\partial w(y)}{\\partial y} F(y)\n",
    "\\end{equation}\n",
    "with\n",
    "\\begin{equation}\n",
    "F(y)=\\int dy f(y)\n",
    "\\end{equation}\n",
    "Since $F(y)$ can be obtained analytically with the aid of Taylor expansion, this symbolic computation is feasible."
   ]
  },
  {
   "cell_type": "markdown",
   "metadata": {},
   "source": [
    "If we use spline functions, the above equation can be further developed as:\n",
    "\\begin{align}\n",
    "\\int_{y_1}^{y_2} dy f(y) w(y) &=& \\left [F^{(1)}(y) w(y) \\right ]_{y_1}^{y_2} - \\int_{y_1}^{y_2} dy  F^{(1)}(y) \\frac{\\partial w(y)}{\\partial y} \\\\\n",
    "&=& \\left [F^{(1)}(y) w(y) \\right ]_{y_1}^{y_2} -  \\left [F^{(2)}(y) \\frac{\\partial w(y)}{\\partial y} \\right ]_{y_1}^{y_2} + \\int_{y_1}^{y_2} dy F^{(2)}(y) \\frac{\\partial^2 w(y)}{\\partial y^2} \\\\\n",
    "&=& \\left [F^{(1)}(y) w(y) \\right ]_{y_1}^{y_2} -  \\left [F^{(2)}(y) \\frac{\\partial w(y)}{\\partial y} \\right ]_{y_1}^{y_2} + \\left [F^{(3)}(y) \\frac{\\partial^2 w(y)}{\\partial y^2} \\right ]_{y_1}^{y_2} - \\cdots \n",
    "\\end{align}"
   ]
  },
  {
   "cell_type": "markdown",
   "metadata": {},
   "source": [
    "# specific simplification\n",
    "Apart from the edges, normally we (prefer to) use weighting functions that have zero at the end point/curve/surfaces. This will finally make the above expression simpler, if $w$ is $N$-times derivable.\n",
    "\n",
    "\\begin{equation}\n",
    "\\int_{y_1}^{y_2} dy f(y) w(y) = \\sum_{i=1 \\ \\textrm{or} \\ 2}^{N} (-1)^{(i-1)}\\left [ F^{(i)}(y) \\frac{\\partial^{(i-1)}}{\\partial y^{(i-1)}}w(y)\\right ]_{y_1}^{y_2}\n",
    "\\end{equation}\n"
   ]
  },
  {
   "cell_type": "markdown",
   "metadata": {},
   "source": []
  },
  {
   "cell_type": "code",
   "execution_count": 106,
   "metadata": {},
   "outputs": [
    {
     "data": {
      "text/plain": [
       "u (generic function with 1 method)"
      ]
     },
     "metadata": {},
     "output_type": "display_data"
    }
   ],
   "source": [
    "orderUtime=4\n",
    "orderUspace=4\n",
    "#m = 15 # the midpoint to evaluate the operator at\n",
    "L₁ₗ = 1 # the leftmost point for x1 direction\n",
    "L₁ᵣ = 1 # the rightmost point\n",
    "Lₜₗ = 1 # the leftmost point for t direction\n",
    "Lₜᵣ = 1 # the rightmost point\n",
    "\n",
    "\n",
    "orderStructure=L₁ₗ+L₁ᵣ # number of nodes minus one\n",
    "\n",
    "@variables dx₁ dt   \n",
    "@variables Cᴾ[1:orderStructure+1] Cᴹ[1:orderStructure+1] Cᵘ[1:orderUspace+1,1:orderUtime+1] # These are the derivatives at the node point xₘ, tₙ\n",
    "#@variables x¹ t\n",
    "\n",
    "\n",
    "\n",
    "\n",
    "#@variables ξ¹[1:L₁ₗ+L₁ᵣ+1]  τ[1:Lₜₗ+Lₜᵣ+1] # These are the node points in the spatial and time domain\n",
    "#@variables ξ¹ₘ[-L₁ₗ:L₁ᵣ] τₙ[-L₁ₗ:L₁ᵣ] ρₘ[-L₁ₗ:L₁ᵣ] μₘ[-L₁ₗ:L₁ᵣ]\n",
    "ξ¹ₘ = Symbolics.variables(:ξ¹ₘ,-L₁ₗ:L₁ᵣ) # nodes in space (x₁ direction)\n",
    "τₙ = Symbolics.variables(:τₙ,-Lₜₗ:Lₜᵣ) # nodes in time\n",
    "ρₘ = Symbolics.variables(:ρₘ,-L₁ₗ:L₁ᵣ)\n",
    "μₘ = Symbolics.variables(:μₘ,-L₁ₗ:L₁ᵣ)\n",
    "uₘₙ= Symbolics.variables(:uₘₙ,-L₁ₗ:L₁ᵣ,-Lₜₗ:Lₜᵣ)\n",
    "Aₘₙ= Symbolics.variables(:Aₘₙ,-L₁ₗ:L₁ᵣ,-Lₜₗ:Lₜᵣ)\n",
    "A_GT98=Symbolics.variables(:A_GT98,-L₁ₗ:L₁ᵣ,-Lₜₗ:Lₜᵣ)\n",
    "A_classic=Symbolics.variables(:A_classic,-L₁ₗ:L₁ᵣ,-Lₜₗ:Lₜᵣ)\n",
    "\n",
    "ρ(dx₁) = sum(Cᴾ[i] * dx₁^(i-1) / factorial(BigInt(i-1)) for i in 1:orderStructure+1)\n",
    "μ(dx₁) = sum(Cᴹ[i] * dx₁^(i-1) / factorial(BigInt(i-1)) for i in 1:orderStructure+1)\n",
    "u(dx₁,dt) = sum(sum(Cᵘ[i,j] * dx₁^(i-1) * dt^(j-1) / factorial(BigInt(i-1)) / factorial(BigInt(j-1)) for i in 1:orderUspace+1) for j in 1:orderUtime+1)"
   ]
  },
  {
   "cell_type": "markdown",
   "metadata": {},
   "source": [
    "## First step\n",
    "We need to construct the Taylor expansion coefficients for $\\rho$ and $\\mu$ from nodes"
   ]
  },
  {
   "cell_type": "code",
   "execution_count": 107,
   "metadata": {},
   "outputs": [
    {
     "data": {
      "text/plain": [
       "Differential(X) ∘ Differential(X)"
      ]
     },
     "metadata": {},
     "output_type": "display_data"
    }
   ],
   "source": [
    "# dummy X and T for X = x-xₘ T = t-tₘ\n",
    "@variables X,T # (continuous) x and t from xₘ and tₙ\n",
    "# define derivatives\n",
    "∂ₜ=Differential(T)\n",
    "∂ₓ=Differential(X)\n",
    "∂ₜ²=∂ₜ^2\n",
    "∂ₓ²=∂ₓ^2"
   ]
  },
  {
   "cell_type": "code",
   "execution_count": 108,
   "metadata": {},
   "outputs": [
    {
     "data": {
      "text/latex": [
       "$$ \\begin{equation}\n",
       "C^P_1 + C^P_2 \\left( \\xi^1_{m 0} - \\xi^1_{m - 1} \\right) + \\frac{1}{2} \\left( \\xi^1_{m 0} - \\xi^1_{m - 1} \\right)^{2} C^P_3\n",
       "\\end{equation}\n",
       " $$"
      ],
      "text/plain": [
       "Cᴾ[1] + Cᴾ[2]*(ξ¹ₘ₀ - ξ¹ₘ₋₁) + (1//2)*Cᴾ[3]*((ξ¹ₘ₀ - ξ¹ₘ₋₁)^2)"
      ]
     },
     "metadata": {},
     "output_type": "display_data"
    }
   ],
   "source": [
    "ρ(ξ¹ₘ[2]-ξ¹ₘ[1])"
   ]
  },
  {
   "cell_type": "markdown",
   "metadata": {},
   "source": [
    "If we use an arregular mesh:"
   ]
  },
  {
   "cell_type": "code",
   "execution_count": 109,
   "metadata": {},
   "outputs": [],
   "source": [
    "# This should be used for an irregular mesh\n",
    "eqsρ=[]\n",
    "eqsμ=[]\n",
    "eqsu=[]\n",
    "for i¹ in 1:L₁ₗ+L₁ᵣ+1\n",
    "    dx¹=ξ¹ₘ[i¹]-ξ¹ₘ[L₁ₗ+1]\n",
    "    eqsρ = push!(eqsρ, ρₘ[i¹]~ ρ(dx¹))\n",
    "    eqsμ = push!(eqsμ, μₘ[i¹]~ μ(dx¹))\n",
    "    #for iᵗ in 1:Lₜₗ+Lₜᵣ+1\n",
    "    #    dt = τₙ[iᵗ]-τₙ[Lₜₗ+1]\n",
    "    #    #eqsu = push!(eqsu, uₘₙ[i¹,iᵗ]~u(dx¹,dt))\n",
    "    #end\n",
    "end\n",
    "\n"
   ]
  },
  {
   "cell_type": "markdown",
   "metadata": {},
   "source": [
    "If we use a regular mesh:\n"
   ]
  },
  {
   "cell_type": "code",
   "execution_count": 110,
   "metadata": {},
   "outputs": [],
   "source": [
    "# Here we can also think about a regular mesh\n",
    "@variables dx Δx dt Δt\n",
    "eqsρ=[]\n",
    "eqsμ=[]\n",
    "eqsu=[]\n",
    "for i¹ in 1:L₁ₗ+L₁ᵣ+1\n",
    "    dx¹=Δx*(i¹-L₁ₗ-1)\n",
    "    eqsρ = push!(eqsρ, ρₘ[i¹]~ ρ(dx¹))\n",
    "    eqsμ = push!(eqsμ, μₘ[i¹]~ μ(dx¹))\n",
    "    #for iᵗ in 1:Lₜₗ+Lₜᵣ+1\n",
    "    #    dt = Δt*(iᵗ-Lₜₗ-1)\n",
    "    #    eqsu = push!(eqsu, uₘₙ[i¹,iᵗ]~u(dx¹,dt))\n",
    "    #end\n",
    "end"
   ]
  },
  {
   "cell_type": "code",
   "execution_count": 111,
   "metadata": {},
   "outputs": [
    {
     "data": {
      "text/plain": [
       "newμ (generic function with 1 method)"
      ]
     },
     "metadata": {},
     "output_type": "display_data"
    }
   ],
   "source": [
    "newCᴾ=Symbolics.solve_for(eqsρ,Cᴾ)\n",
    "newCᴹ=Symbolics.solve_for(eqsμ,Cᴹ) # if I do simplify here, it doesn't do a good job\n",
    "#newCᵘ=reshape(Symbolics.solve_for(eqsu,Cᵘ),(L₁ₗ+L₁ᵣ+1,Lₜₗ+Lₜᵣ+1))\n",
    "simplify(newCᴹ[2]) # maybe for the moment simplify should work only for an element\n",
    "# this newCᴹ and newCᴾ are the derivatives to reconstruct polynomial expressions for continuous ρ and μ\n",
    "\n",
    "newρ(dx₁) = sum(newCᴾ[i] * dx₁^(i-1) / factorial(BigInt(i-1)) for i in 1:orderStructure+1)\n",
    "newμ(dx₁) = sum(newCᴹ[i] * dx₁^(i-1) / factorial(BigInt(i-1)) for i in 1:orderStructure+1)\n",
    "#newu(dx₁,dt) = sum(sum(newCᵘ[i,j] * dx₁^(i-1) * dt^(j-1) / factorial(BigInt(i-1)) / factorial(BigInt(j-1)) for i in 1:orderUspace+1) for j in 1:orderUtime+1)"
   ]
  },
  {
   "cell_type": "code",
   "execution_count": 112,
   "metadata": {},
   "outputs": [
    {
     "data": {
      "text/latex": [
       "$$ \\begin{equation}\n",
       "\\frac{ - X^{2} \\mu_{m 0} + \\frac{1}{2} X^{2} \\mu_{m 1} + \\frac{1}{2} X^{2} \\mu_{m - 1} + \\frac{1}{2} X {\\Delta}x \\mu_{m 1} - \\frac{1}{2} X {\\Delta}x \\mu_{m - 1} + {\\Delta}x^{2} \\mu_{m 0}}{{\\Delta}x^{2}}\n",
       "\\end{equation}\n",
       " $$"
      ],
      "text/plain": [
       "(-(X^2)*μₘ₀ + (1//2)*(X^2)*μₘ₁ + (1//2)*(X^2)*μₘ₋₁ + (1//2)*X*Δx*μₘ₁ - (1//2)*X*Δx*μₘ₋₁ + (Δx^2)*μₘ₀) / (Δx^2)"
      ]
     },
     "metadata": {},
     "output_type": "display_data"
    }
   ],
   "source": [
    "simplify(newμ(X))\n",
    "#Symbolics.coeff(X^2+2*X,X)"
   ]
  },
  {
   "cell_type": "code",
   "execution_count": 113,
   "metadata": {},
   "outputs": [
    {
     "data": {
      "text/latex": [
       "$$ \\begin{equation}\n",
       "C^u_{1}ˏ_1 + C^u_{1}ˏ_2 T + C^u_{2}ˏ_1 X + \\frac{1}{2} T^{2} C^u_{1}ˏ_3 + C^u_{2}ˏ_2 T X + \\frac{1}{2} X^{2} C^u_{3}ˏ_1 + \\frac{1}{6} T^{3} C^u_{1}ˏ_4 + \\frac{1}{2} T^{2} C^u_{2}ˏ_3 X + \\frac{1}{2} X^{2} C^u_{3}ˏ_2 T + \\frac{1}{6} X^{3} C^u_{4}ˏ_1 + \\frac{1}{24} T^{4} C^u_{1}ˏ_5 + \\frac{1}{6} T^{3} C^u_{2}ˏ_4 X + \\frac{1}{4} X^{2} T^{2} C^u_{3}ˏ_3 + \\frac{1}{6} X^{3} C^u_{4}ˏ_2 T + \\frac{1}{24} X^{4} C^u_{5}ˏ_1 + \\frac{1}{24} T^{4} C^u_{2}ˏ_5 X + \\frac{1}{12} X^{2} T^{3} C^u_{3}ˏ_4 + \\frac{1}{12} X^{3} T^{2} C^u_{4}ˏ_3 + \\frac{1}{24} X^{4} C^u_{5}ˏ_2 T + \\frac{1}{48} X^{2} T^{4} C^u_{3}ˏ_5 + \\frac{1}{36} X^{3} T^{3} C^u_{4}ˏ_4 + \\frac{1}{48} X^{4} T^{2} C^u_{5}ˏ_3 + \\frac{1}{144} X^{3} T^{4} C^u_{4}ˏ_5 + \\frac{1}{144} X^{4} T^{3} C^u_{5}ˏ_4 + \\frac{1}{576} X^{4} T^{4} C^u_{5}ˏ_5\n",
       "\\end{equation}\n",
       " $$"
      ],
      "text/plain": [
       "Cᵘ[1, 1] + Cᵘ[1, 2]*T + Cᵘ[2, 1]*X + (1//2)*Cᵘ[1, 3]*(T^2) + Cᵘ[2, 2]*T*X + (1//2)*Cᵘ[3, 1]*(X^2) + (1//6)*Cᵘ[1, 4]*(T^3) + (1//2)*Cᵘ[2, 3]*(T^2)*X + (1//2)*Cᵘ[3, 2]*T*(X^2) + (1//6)*Cᵘ[4, 1]*(X^3) + (1//24)*Cᵘ[1, 5]*(T^4) + (1//6)*Cᵘ[2, 4]*(T^3)*X + (1//4)*Cᵘ[3, 3]*(T^2)*(X^2) + (1//6)*Cᵘ[4, 2]*T*(X^3) + (1//24)*Cᵘ[5, 1]*(X^4) + (1//24)*Cᵘ[2, 5]*(T^4)*X + (1//12)*Cᵘ[3, 4]*(T^3)*(X^2) + (1//12)*Cᵘ[4, 3]*(T^2)*(X^3) + (1//24)*Cᵘ[5, 2]*T*(X^4) + (1//48)*Cᵘ[3, 5]*(T^4)*(X^2) + (1//36)*Cᵘ[4, 4]*(T^3)*(X^3) + (1//48)*Cᵘ[5, 3]*(T^2)*(X^4) + (1//144)*Cᵘ[4, 5]*(T^4)*(X^3) + (1//144)*Cᵘ[5, 4]*(T^3)*(X^4) + (1//576)*Cᵘ[5, 5]*(T^4)*(X^4)"
      ]
     },
     "metadata": {},
     "output_type": "display_data"
    }
   ],
   "source": [
    "simplify(u(X,T))"
   ]
  },
  {
   "cell_type": "markdown",
   "metadata": {},
   "source": [
    "# Second step: but in a homogeneous medium"
   ]
  },
  {
   "cell_type": "code",
   "execution_count": 114,
   "metadata": {},
   "outputs": [
    {
     "data": {
      "text/latex": [
       "$$ \\begin{equation}\n",
       "C^u_{1}ˏ_3 \\rho_o + C^u_{1}ˏ_4 T \\rho_o + C^u_{2}ˏ_3 X \\rho_o + \\frac{1}{2} T^{2} C^u_{1}ˏ_5 \\rho_o + C^u_{2}ˏ_4 T X \\rho_o + \\frac{1}{2} X^{2} C^u_{3}ˏ_3 \\rho_o + \\frac{1}{2} T^{2} C^u_{2}ˏ_5 X \\rho_o + \\frac{1}{2} X^{2} C^u_{3}ˏ_4 T \\rho_o + \\frac{1}{6} X^{3} C^u_{4}ˏ_3 \\rho_o + \\frac{1}{4} X^{2} T^{2} C^u_{3}ˏ_5 \\rho_o + \\frac{1}{6} X^{3} C^u_{4}ˏ_4 T \\rho_o + \\frac{1}{24} X^{4} C^u_{5}ˏ_3 \\rho_o + \\frac{1}{12} X^{3} T^{2} C^u_{4}ˏ_5 \\rho_o + \\frac{1}{24} X^{4} C^u_{5}ˏ_4 T \\rho_o + \\frac{1}{48} X^{4} T^{2} C^u_{5}ˏ_5 \\rho_o\n",
       "\\end{equation}\n",
       " $$"
      ],
      "text/plain": [
       "Cᵘ[1, 3]*ρₒ + Cᵘ[1, 4]*T*ρₒ + Cᵘ[2, 3]*X*ρₒ + (1//2)*Cᵘ[1, 5]*(T^2)*ρₒ + Cᵘ[2, 4]*T*X*ρₒ + (1//2)*Cᵘ[3, 3]*(X^2)*ρₒ + (1//2)*Cᵘ[2, 5]*(T^2)*X*ρₒ + (1//2)*Cᵘ[3, 4]*T*(X^2)*ρₒ + (1//6)*Cᵘ[4, 3]*(X^3)*ρₒ + (1//4)*Cᵘ[3, 5]*(T^2)*(X^2)*ρₒ + (1//6)*Cᵘ[4, 4]*T*(X^3)*ρₒ + (1//24)*Cᵘ[5, 3]*(X^4)*ρₒ + (1//12)*Cᵘ[4, 5]*(T^2)*(X^3)*ρₒ + (1//24)*Cᵘ[5, 4]*T*(X^4)*ρₒ + (1//48)*Cᵘ[5, 5]*(T^2)*(X^4)*ρₒ"
      ]
     },
     "metadata": {},
     "output_type": "display_data"
    }
   ],
   "source": [
    "# expression of acceleration:\n",
    "@variables ρₒ μₒ\n",
    "ρü=ρₒ* expand_derivatives(∂ₜ²(u(X,T)))\n",
    "ρü=simplify(ρü;expand=true,threaded=false)\n"
   ]
  },
  {
   "cell_type": "code",
   "execution_count": 115,
   "metadata": {},
   "outputs": [
    {
     "data": {
      "text/latex": [
       "$$ \\begin{equation}\n",
       "C^u_{3}ˏ_1 \\mu_o + C^u_{3}ˏ_2 T \\mu_o + C^u_{4}ˏ_1 X \\mu_o + \\frac{1}{2} T^{2} C^u_{3}ˏ_3 \\mu_o + C^u_{4}ˏ_2 T X \\mu_o + \\frac{1}{2} X^{2} C^u_{5}ˏ_1 \\mu_o + \\frac{1}{6} T^{3} C^u_{3}ˏ_4 \\mu_o + \\frac{1}{2} T^{2} C^u_{4}ˏ_3 X \\mu_o + \\frac{1}{2} X^{2} C^u_{5}ˏ_2 T \\mu_o + \\frac{1}{24} T^{4} C^u_{3}ˏ_5 \\mu_o + \\frac{1}{6} T^{3} C^u_{4}ˏ_4 X \\mu_o + \\frac{1}{4} X^{2} T^{2} C^u_{5}ˏ_3 \\mu_o + \\frac{1}{24} T^{4} C^u_{4}ˏ_5 X \\mu_o + \\frac{1}{12} X^{2} T^{3} C^u_{5}ˏ_4 \\mu_o + \\frac{1}{48} X^{2} T^{4} C^u_{5}ˏ_5 \\mu_o\n",
       "\\end{equation}\n",
       " $$"
      ],
      "text/plain": [
       "Cᵘ[3, 1]*μₒ + Cᵘ[3, 2]*T*μₒ + Cᵘ[4, 1]*X*μₒ + (1//2)*Cᵘ[3, 3]*(T^2)*μₒ + Cᵘ[4, 2]*T*X*μₒ + (1//2)*Cᵘ[5, 1]*(X^2)*μₒ + (1//6)*Cᵘ[3, 4]*(T^3)*μₒ + (1//2)*Cᵘ[4, 3]*(T^2)*X*μₒ + (1//2)*Cᵘ[5, 2]*T*(X^2)*μₒ + (1//24)*Cᵘ[3, 5]*(T^4)*μₒ + (1//6)*Cᵘ[4, 4]*(T^3)*X*μₒ + (1//4)*Cᵘ[5, 3]*(T^2)*(X^2)*μₒ + (1//24)*Cᵘ[4, 5]*(T^4)*X*μₒ + (1//12)*Cᵘ[5, 4]*(T^3)*(X^2)*μₒ + (1//48)*Cᵘ[5, 5]*(T^4)*(X^2)*μₒ"
      ]
     },
     "metadata": {},
     "output_type": "display_data"
    }
   ],
   "source": [
    "# expression of (μu′)′\n",
    "\n",
    "μu′ = simplify(μₒ*expand_derivatives(∂ₓ(u(X,T)));expand=true)\n",
    "kinematics= simplify(expand_derivatives(∂ₓ(μu′));expand=true)"
   ]
  },
  {
   "cell_type": "code",
   "execution_count": 116,
   "metadata": {},
   "outputs": [
    {
     "data": {
      "text/latex": [
       "$$ \\begin{equation}\n",
       "C^u_{1}ˏ_3 \\rho_o - C^u_{3}ˏ_1 \\mu_o + C^u_{1}ˏ_4 T \\rho_o + C^u_{2}ˏ_3 X \\rho_o - C^u_{3}ˏ_2 T \\mu_o - C^u_{4}ˏ_1 X \\mu_o + \\frac{1}{2} T^{2} C^u_{1}ˏ_5 \\rho_o + C^u_{2}ˏ_4 T X \\rho_o - \\frac{1}{2} T^{2} C^u_{3}ˏ_3 \\mu_o + \\frac{1}{2} X^{2} C^u_{3}ˏ_3 \\rho_o - C^u_{4}ˏ_2 T X \\mu_o - \\frac{1}{2} X^{2} C^u_{5}ˏ_1 \\mu_o + \\frac{1}{2} T^{2} C^u_{2}ˏ_5 X \\rho_o - \\frac{1}{6} T^{3} C^u_{3}ˏ_4 \\mu_o + \\frac{1}{2} X^{2} C^u_{3}ˏ_4 T \\rho_o - \\frac{1}{2} T^{2} C^u_{4}ˏ_3 X \\mu_o + \\frac{1}{6} X^{3} C^u_{4}ˏ_3 \\rho_o - \\frac{1}{2} X^{2} C^u_{5}ˏ_2 T \\mu_o - \\frac{1}{24} T^{4} C^u_{3}ˏ_5 \\mu_o + \\frac{1}{4} X^{2} T^{2} C^u_{3}ˏ_5 \\rho_o - \\frac{1}{6} T^{3} C^u_{4}ˏ_4 X \\mu_o + \\frac{1}{6} X^{3} C^u_{4}ˏ_4 T \\rho_o - \\frac{1}{4} X^{2} T^{2} C^u_{5}ˏ_3 \\mu_o + \\frac{1}{24} X^{4} C^u_{5}ˏ_3 \\rho_o - \\frac{1}{24} T^{4} C^u_{4}ˏ_5 X \\mu_o + \\frac{1}{12} X^{3} T^{2} C^u_{4}ˏ_5 \\rho_o - \\frac{1}{12} X^{2} T^{3} C^u_{5}ˏ_4 \\mu_o + \\frac{1}{24} X^{4} C^u_{5}ˏ_4 T \\rho_o - \\frac{1}{48} X^{2} T^{4} C^u_{5}ˏ_5 \\mu_o + \\frac{1}{48} X^{4} T^{2} C^u_{5}ˏ_5 \\rho_o\n",
       "\\end{equation}\n",
       " $$"
      ],
      "text/plain": [
       "Cᵘ[1, 3]*ρₒ - Cᵘ[3, 1]*μₒ + Cᵘ[1, 4]*T*ρₒ + Cᵘ[2, 3]*X*ρₒ - Cᵘ[3, 2]*T*μₒ - Cᵘ[4, 1]*X*μₒ + (1//2)*Cᵘ[1, 5]*(T^2)*ρₒ + Cᵘ[2, 4]*T*X*ρₒ - (1//2)*Cᵘ[3, 3]*(T^2)*μₒ + (1//2)*Cᵘ[3, 3]*(X^2)*ρₒ - Cᵘ[4, 2]*T*X*μₒ - (1//2)*Cᵘ[5, 1]*(X^2)*μₒ + (1//2)*Cᵘ[2, 5]*(T^2)*X*ρₒ - (1//6)*Cᵘ[3, 4]*(T^3)*μₒ + (1//2)*Cᵘ[3, 4]*T*(X^2)*ρₒ - (1//2)*Cᵘ[4, 3]*(T^2)*X*μₒ + (1//6)*Cᵘ[4, 3]*(X^3)*ρₒ - (1//2)*Cᵘ[5, 2]*T*(X^2)*μₒ - (1//24)*Cᵘ[3, 5]*(T^4)*μₒ + (1//4)*Cᵘ[3, 5]*(T^2)*(X^2)*ρₒ - (1//6)*Cᵘ[4, 4]*(T^3)*X*μₒ + (1//6)*Cᵘ[4, 4]*T*(X^3)*ρₒ - (1//4)*Cᵘ[5, 3]*(T^2)*(X^2)*μₒ + (1//24)*Cᵘ[5, 3]*(X^4)*ρₒ - (1//24)*Cᵘ[4, 5]*(T^4)*X*μₒ + (1//12)*Cᵘ[4, 5]*(T^2)*(X^3)*ρₒ - (1//12)*Cᵘ[5, 4]*(T^3)*(X^2)*μₒ + (1//24)*Cᵘ[5, 4]*T*(X^4)*ρₒ - (1//48)*Cᵘ[5, 5]*(T^4)*(X^2)*μₒ + (1//48)*Cᵘ[5, 5]*(T^2)*(X^4)*ρₒ"
      ]
     },
     "metadata": {},
     "output_type": "display_data"
    }
   ],
   "source": [
    "# here we give the integrand\n",
    "integrand=ρü-kinematics"
   ]
  },
  {
   "cell_type": "code",
   "execution_count": 117,
   "metadata": {},
   "outputs": [
    {
     "data": {
      "text/latex": [
       "$$ \\begin{equation}\n",
       "C^u_{2}ˏ_3 \\rho_o - C^u_{4}ˏ_1 \\mu_o + C^u_{2}ˏ_4 T \\rho_o - C^u_{4}ˏ_2 T \\mu_o + \\frac{1}{2} T^{2} C^u_{2}ˏ_5 \\rho_o - \\frac{1}{2} T^{2} C^u_{4}ˏ_3 \\mu_o - \\frac{1}{6} T^{3} C^u_{4}ˏ_4 \\mu_o - \\frac{1}{24} T^{4} C^u_{4}ˏ_5 \\mu_o\n",
       "\\end{equation}\n",
       " $$"
      ],
      "text/plain": [
       "Cᵘ[2, 3]*ρₒ - Cᵘ[4, 1]*μₒ + Cᵘ[2, 4]*T*ρₒ - Cᵘ[4, 2]*T*μₒ + (1//2)*Cᵘ[2, 5]*(T^2)*ρₒ - (1//2)*Cᵘ[4, 3]*(T^2)*μₒ - (1//6)*Cᵘ[4, 4]*(T^3)*μₒ - (1//24)*Cᵘ[4, 5]*(T^4)*μₒ"
      ]
     },
     "metadata": {},
     "output_type": "display_data"
    }
   ],
   "source": [
    "Symbolics.coeff(integrand,X)"
   ]
  },
  {
   "cell_type": "code",
   "execution_count": 118,
   "metadata": {},
   "outputs": [
    {
     "data": {
      "text/latex": [
       "$$ \\begin{equation}\n",
       "C^u_{1}ˏ_3 X \\rho_o - C^u_{3}ˏ_1 X \\mu_o + C^u_{1}ˏ_4 T X \\rho_o + \\frac{1}{2} X^{2} C^u_{2}ˏ_3 \\rho_o - C^u_{3}ˏ_2 T X \\mu_o - \\frac{1}{2} X^{2} C^u_{4}ˏ_1 \\mu_o + \\frac{1}{2} T^{2} C^u_{1}ˏ_5 X \\rho_o + \\frac{1}{2} X^{2} C^u_{2}ˏ_4 T \\rho_o - \\frac{1}{2} T^{2} C^u_{3}ˏ_3 X \\mu_o + \\frac{1}{6} X^{3} C^u_{3}ˏ_3 \\rho_o - \\frac{1}{2} X^{2} C^u_{4}ˏ_2 T \\mu_o - \\frac{1}{6} X^{3} C^u_{5}ˏ_1 \\mu_o + \\frac{1}{4} X^{2} T^{2} C^u_{2}ˏ_5 \\rho_o - \\frac{1}{6} T^{3} C^u_{3}ˏ_4 X \\mu_o + \\frac{1}{6} X^{3} C^u_{3}ˏ_4 T \\rho_o - \\frac{1}{4} X^{2} T^{2} C^u_{4}ˏ_3 \\mu_o + \\frac{1}{24} X^{4} C^u_{4}ˏ_3 \\rho_o - \\frac{1}{6} X^{3} C^u_{5}ˏ_2 T \\mu_o - \\frac{1}{24} T^{4} C^u_{3}ˏ_5 X \\mu_o + \\frac{1}{12} X^{3} T^{2} C^u_{3}ˏ_5 \\rho_o - \\frac{1}{12} X^{2} T^{3} C^u_{4}ˏ_4 \\mu_o + \\frac{1}{24} X^{4} C^u_{4}ˏ_4 T \\rho_o - \\frac{1}{12} X^{3} T^{2} C^u_{5}ˏ_3 \\mu_o + \\frac{1}{120} X^{5} C^u_{5}ˏ_3 \\rho_o - \\frac{1}{48} X^{2} T^{4} C^u_{4}ˏ_5 \\mu_o + \\frac{1}{48} X^{4} T^{2} C^u_{4}ˏ_5 \\rho_o - \\frac{1}{36} X^{3} T^{3} C^u_{5}ˏ_4 \\mu_o + \\frac{1}{120} X^{5} C^u_{5}ˏ_4 T \\rho_o - \\frac{1}{144} X^{3} T^{4} C^u_{5}ˏ_5 \\mu_o + \\frac{1}{240} X^{5} T^{2} C^u_{5}ˏ_5 \\rho_o\n",
       "\\end{equation}\n",
       " $$"
      ],
      "text/plain": [
       "Cᵘ[1, 3]*X*ρₒ - Cᵘ[3, 1]*X*μₒ + Cᵘ[1, 4]*T*X*ρₒ + (1//2)*Cᵘ[2, 3]*(X^2)*ρₒ - Cᵘ[3, 2]*T*X*μₒ - (1//2)*Cᵘ[4, 1]*(X^2)*μₒ + (1//2)*Cᵘ[1, 5]*(T^2)*X*ρₒ + (1//2)*Cᵘ[2, 4]*T*(X^2)*ρₒ - (1//2)*Cᵘ[3, 3]*(T^2)*X*μₒ + (1//6)*Cᵘ[3, 3]*(X^3)*ρₒ - (1//2)*Cᵘ[4, 2]*T*(X^2)*μₒ - (1//6)*Cᵘ[5, 1]*(X^3)*μₒ + (1//4)*Cᵘ[2, 5]*(T^2)*(X^2)*ρₒ - (1//6)*Cᵘ[3, 4]*(T^3)*X*μₒ + (1//6)*Cᵘ[3, 4]*T*(X^3)*ρₒ - (1//4)*Cᵘ[4, 3]*(T^2)*(X^2)*μₒ + (1//24)*Cᵘ[4, 3]*(X^4)*ρₒ - (1//6)*Cᵘ[5, 2]*T*(X^3)*μₒ - (1//24)*Cᵘ[3, 5]*(T^4)*X*μₒ + (1//12)*Cᵘ[3, 5]*(T^2)*(X^3)*ρₒ - (1//12)*Cᵘ[4, 4]*(T^3)*(X^2)*μₒ + (1//24)*Cᵘ[4, 4]*T*(X^4)*ρₒ - (1//12)*Cᵘ[5, 3]*(T^2)*(X^3)*μₒ + (1//120)*Cᵘ[5, 3]*(X^5)*ρₒ - (1//48)*Cᵘ[4, 5]*(T^4)*(X^2)*μₒ + (1//48)*Cᵘ[4, 5]*(T^2)*(X^4)*ρₒ - (1//36)*Cᵘ[5, 4]*(T^3)*(X^3)*μₒ + (1//120)*Cᵘ[5, 4]*T*(X^5)*ρₒ - (1//144)*Cᵘ[5, 5]*(T^4)*(X^3)*μₒ + (1//240)*Cᵘ[5, 5]*(T^2)*(X^5)*ρₒ"
      ]
     },
     "metadata": {},
     "output_type": "display_data"
    }
   ],
   "source": [
    "f1_space=integrateTaylorPolynomials(integrand,X)\n"
   ]
  },
  {
   "cell_type": "code",
   "execution_count": 119,
   "metadata": {},
   "outputs": [
    {
     "data": {
      "text/latex": [
       "$$ \\begin{equation}\n",
       "\\frac{1}{2} X^{2} C^u_{1}ˏ_3 \\rho_o - \\frac{1}{2} X^{2} C^u_{3}ˏ_1 \\mu_o + \\frac{1}{2} X^{2} C^u_{1}ˏ_4 T \\rho_o + \\frac{1}{6} X^{3} C^u_{2}ˏ_3 \\rho_o - \\frac{1}{2} X^{2} C^u_{3}ˏ_2 T \\mu_o - \\frac{1}{6} X^{3} C^u_{4}ˏ_1 \\mu_o + \\frac{1}{4} X^{2} T^{2} C^u_{1}ˏ_5 \\rho_o + \\frac{1}{6} X^{3} C^u_{2}ˏ_4 T \\rho_o - \\frac{1}{4} X^{2} T^{2} C^u_{3}ˏ_3 \\mu_o + \\frac{1}{24} X^{4} C^u_{3}ˏ_3 \\rho_o - \\frac{1}{6} X^{3} C^u_{4}ˏ_2 T \\mu_o - \\frac{1}{24} X^{4} C^u_{5}ˏ_1 \\mu_o + \\frac{1}{12} X^{3} T^{2} C^u_{2}ˏ_5 \\rho_o - \\frac{1}{12} X^{2} T^{3} C^u_{3}ˏ_4 \\mu_o + \\frac{1}{24} X^{4} C^u_{3}ˏ_4 T \\rho_o - \\frac{1}{12} X^{3} T^{2} C^u_{4}ˏ_3 \\mu_o + \\frac{1}{120} X^{5} C^u_{4}ˏ_3 \\rho_o - \\frac{1}{24} X^{4} C^u_{5}ˏ_2 T \\mu_o - \\frac{1}{48} X^{2} T^{4} C^u_{3}ˏ_5 \\mu_o + \\frac{1}{48} X^{4} T^{2} C^u_{3}ˏ_5 \\rho_o - \\frac{1}{36} X^{3} T^{3} C^u_{4}ˏ_4 \\mu_o + \\frac{1}{120} X^{5} C^u_{4}ˏ_4 T \\rho_o - \\frac{1}{48} X^{4} T^{2} C^u_{5}ˏ_3 \\mu_o + \\frac{1}{720} X^{6} C^u_{5}ˏ_3 \\rho_o - \\frac{1}{144} X^{3} T^{4} C^u_{4}ˏ_5 \\mu_o + \\frac{1}{240} X^{5} T^{2} C^u_{4}ˏ_5 \\rho_o - \\frac{1}{144} X^{4} T^{3} C^u_{5}ˏ_4 \\mu_o + \\frac{1}{720} X^{6} C^u_{5}ˏ_4 T \\rho_o - \\frac{1}{576} X^{4} T^{4} C^u_{5}ˏ_5 \\mu_o + \\frac{1}{1440} X^{6} T^{2} C^u_{5}ˏ_5 \\rho_o\n",
       "\\end{equation}\n",
       " $$"
      ],
      "text/plain": [
       "(1//2)*Cᵘ[1, 3]*(X^2)*ρₒ - (1//2)*Cᵘ[3, 1]*(X^2)*μₒ + (1//2)*Cᵘ[1, 4]*T*(X^2)*ρₒ + (1//6)*Cᵘ[2, 3]*(X^3)*ρₒ - (1//2)*Cᵘ[3, 2]*T*(X^2)*μₒ - (1//6)*Cᵘ[4, 1]*(X^3)*μₒ + (1//4)*Cᵘ[1, 5]*(T^2)*(X^2)*ρₒ + (1//6)*Cᵘ[2, 4]*T*(X^3)*ρₒ - (1//4)*Cᵘ[3, 3]*(T^2)*(X^2)*μₒ + (1//24)*Cᵘ[3, 3]*(X^4)*ρₒ - (1//6)*Cᵘ[4, 2]*T*(X^3)*μₒ - (1//24)*Cᵘ[5, 1]*(X^4)*μₒ + (1//12)*Cᵘ[2, 5]*(T^2)*(X^3)*ρₒ - (1//12)*Cᵘ[3, 4]*(T^3)*(X^2)*μₒ + (1//24)*Cᵘ[3, 4]*T*(X^4)*ρₒ - (1//12)*Cᵘ[4, 3]*(T^2)*(X^3)*μₒ + (1//120)*Cᵘ[4, 3]*(X^5)*ρₒ - (1//24)*Cᵘ[5, 2]*T*(X^4)*μₒ - (1//48)*Cᵘ[3, 5]*(T^4)*(X^2)*μₒ + (1//48)*Cᵘ[3, 5]*(T^2)*(X^4)*ρₒ - (1//36)*Cᵘ[4, 4]*(T^3)*(X^3)*μₒ + (1//120)*Cᵘ[4, 4]*T*(X^5)*ρₒ - (1//48)*Cᵘ[5, 3]*(T^2)*(X^4)*μₒ + (1//720)*Cᵘ[5, 3]*(X^6)*ρₒ - (1//144)*Cᵘ[4, 5]*(T^4)*(X^3)*μₒ + (1//240)*Cᵘ[4, 5]*(T^2)*(X^5)*ρₒ - (1//144)*Cᵘ[5, 4]*(T^3)*(X^4)*μₒ + (1//720)*Cᵘ[5, 4]*T*(X^6)*ρₒ - (1//576)*Cᵘ[5, 5]*(T^4)*(X^4)*μₒ + (1//1440)*Cᵘ[5, 5]*(T^2)*(X^6)*ρₒ"
      ]
     },
     "metadata": {},
     "output_type": "display_data"
    }
   ],
   "source": [
    "\n",
    "f2_space=integrateTaylorPolynomials(f1_space,X)"
   ]
  },
  {
   "cell_type": "code",
   "execution_count": null,
   "metadata": {},
   "outputs": [],
   "source": []
  },
  {
   "cell_type": "code",
   "execution_count": 120,
   "metadata": {},
   "outputs": [
    {
     "data": {
      "text/latex": [
       "$$ \\begin{equation}\n",
       "\\frac{1}{2} {\\Delta}x^{2} C^u_{1}ˏ_3 \\rho_o - \\frac{1}{2} {\\Delta}x^{2} C^u_{3}ˏ_1 \\mu_o + \\frac{1}{2} {\\Delta}x^{2} C^u_{1}ˏ_4 T \\rho_o - \\frac{1}{6} {\\Delta}x^{3} C^u_{2}ˏ_3 \\rho_o - \\frac{1}{2} {\\Delta}x^{2} C^u_{3}ˏ_2 T \\mu_o + \\frac{1}{6} {\\Delta}x^{3} C^u_{4}ˏ_1 \\mu_o + \\frac{1}{4} {\\Delta}x^{2} T^{2} C^u_{1}ˏ_5 \\rho_o - \\frac{1}{6} {\\Delta}x^{3} C^u_{2}ˏ_4 T \\rho_o - \\frac{1}{4} {\\Delta}x^{2} T^{2} C^u_{3}ˏ_3 \\mu_o + \\frac{1}{24} {\\Delta}x^{4} C^u_{3}ˏ_3 \\rho_o + \\frac{1}{6} {\\Delta}x^{3} C^u_{4}ˏ_2 T \\mu_o - \\frac{1}{24} {\\Delta}x^{4} C^u_{5}ˏ_1 \\mu_o - \\frac{1}{12} {\\Delta}x^{3} T^{2} C^u_{2}ˏ_5 \\rho_o - \\frac{1}{12} {\\Delta}x^{2} T^{3} C^u_{3}ˏ_4 \\mu_o + \\frac{1}{24} {\\Delta}x^{4} C^u_{3}ˏ_4 T \\rho_o + \\frac{1}{12} {\\Delta}x^{3} T^{2} C^u_{4}ˏ_3 \\mu_o - \\frac{1}{120} {\\Delta}x^{5} C^u_{4}ˏ_3 \\rho_o - \\frac{1}{24} {\\Delta}x^{4} C^u_{5}ˏ_2 T \\mu_o - \\frac{1}{48} {\\Delta}x^{2} T^{4} C^u_{3}ˏ_5 \\mu_o + \\frac{1}{48} {\\Delta}x^{4} T^{2} C^u_{3}ˏ_5 \\rho_o + \\frac{1}{36} {\\Delta}x^{3} T^{3} C^u_{4}ˏ_4 \\mu_o - \\frac{1}{120} {\\Delta}x^{5} C^u_{4}ˏ_4 T \\rho_o - \\frac{1}{48} {\\Delta}x^{4} T^{2} C^u_{5}ˏ_3 \\mu_o + \\frac{1}{720} {\\Delta}x^{6} C^u_{5}ˏ_3 \\rho_o + \\frac{1}{144} {\\Delta}x^{3} T^{4} C^u_{4}ˏ_5 \\mu_o - \\frac{1}{240} {\\Delta}x^{5} T^{2} C^u_{4}ˏ_5 \\rho_o - \\frac{1}{144} {\\Delta}x^{4} T^{3} C^u_{5}ˏ_4 \\mu_o + \\frac{1}{720} {\\Delta}x^{6} C^u_{5}ˏ_4 T \\rho_o - \\frac{1}{576} {\\Delta}x^{4} T^{4} C^u_{5}ˏ_5 \\mu_o + \\frac{1}{1440} {\\Delta}x^{6} T^{2} C^u_{5}ˏ_5 \\rho_o\n",
       "\\end{equation}\n",
       " $$"
      ],
      "text/plain": [
       "(1//2)*Cᵘ[1, 3]*(Δx^2)*ρₒ - (1//2)*Cᵘ[3, 1]*(Δx^2)*μₒ + (1//2)*Cᵘ[1, 4]*T*(Δx^2)*ρₒ - (1//6)*Cᵘ[2, 3]*(Δx^3)*ρₒ - (1//2)*Cᵘ[3, 2]*T*(Δx^2)*μₒ + (1//6)*Cᵘ[4, 1]*(Δx^3)*μₒ + (1//4)*Cᵘ[1, 5]*(T^2)*(Δx^2)*ρₒ - (1//6)*Cᵘ[2, 4]*T*(Δx^3)*ρₒ - (1//4)*Cᵘ[3, 3]*(T^2)*(Δx^2)*μₒ + (1//24)*Cᵘ[3, 3]*(Δx^4)*ρₒ + (1//6)*Cᵘ[4, 2]*T*(Δx^3)*μₒ - (1//24)*Cᵘ[5, 1]*(Δx^4)*μₒ - (1//12)*Cᵘ[2, 5]*(T^2)*(Δx^3)*ρₒ - (1//12)*Cᵘ[3, 4]*(T^3)*(Δx^2)*μₒ + (1//24)*Cᵘ[3, 4]*T*(Δx^4)*ρₒ + (1//12)*Cᵘ[4, 3]*(T^2)*(Δx^3)*μₒ - (1//120)*Cᵘ[4, 3]*(Δx^5)*ρₒ - (1//24)*Cᵘ[5, 2]*T*(Δx^4)*μₒ - (1//48)*Cᵘ[3, 5]*(T^4)*(Δx^2)*μₒ + (1//48)*Cᵘ[3, 5]*(T^2)*(Δx^4)*ρₒ + (1//36)*Cᵘ[4, 4]*(T^3)*(Δx^3)*μₒ - (1//120)*Cᵘ[4, 4]*T*(Δx^5)*ρₒ - (1//48)*Cᵘ[5, 3]*(T^2)*(Δx^4)*μₒ + (1//720)*Cᵘ[5, 3]*(Δx^6)*ρₒ + (1//144)*Cᵘ[4, 5]*(T^4)*(Δx^3)*μₒ - (1//240)*Cᵘ[4, 5]*(T^2)*(Δx^5)*ρₒ - (1//144)*Cᵘ[5, 4]*(T^3)*(Δx^4)*μₒ + (1//720)*Cᵘ[5, 4]*T*(Δx^6)*ρₒ - (1//576)*Cᵘ[5, 5]*(T^4)*(Δx^4)*μₒ + (1//1440)*Cᵘ[5, 5]*(T^2)*(Δx^6)*ρₒ"
      ]
     },
     "metadata": {},
     "output_type": "display_data"
    }
   ],
   "source": [
    "# this is F^{[2]} \n",
    "f2_space_right=substitute(f2_space,Dict([X=>Δx]))\n",
    "f2_space_left=substitute(f2_space,Dict([X=>(-Δx)]))"
   ]
  },
  {
   "cell_type": "code",
   "execution_count": 121,
   "metadata": {},
   "outputs": [
    {
     "data": {
      "text/latex": [
       "$$ \\begin{equation}\n",
       "0\n",
       "\\end{equation}\n",
       " $$"
      ],
      "text/plain": [
       "0"
      ]
     },
     "metadata": {},
     "output_type": "display_data"
    }
   ],
   "source": [
    "f2_space_zero=substitute(f2_space,Dict([X=>0]))"
   ]
  },
  {
   "cell_type": "markdown",
   "metadata": {},
   "source": [
    "Here we want to evaluate:\n",
    "\\begin{equation}\n",
    "-\\left [ F^{[2]}(x) \\phi^{(1)}(x) \\right ]^{\\Delta x}_{-\\Delta  x}\n",
    "\\end{equation}\n",
    "where we have \n",
    "\\begin{align}\n",
    "\\phi^{(1)}(\\Delta x) &=& -\\frac{1}{\\Delta x}\\\\\n",
    "\\phi^{(1)}(-\\Delta x) &=& \\frac{1}{\\Delta x}\n",
    "\\end{align}\n"
   ]
  },
  {
   "cell_type": "code",
   "execution_count": 122,
   "metadata": {},
   "outputs": [
    {
     "data": {
      "text/latex": [
       "$$ \\begin{equation}\n",
       "\\frac{\\frac{1}{2} {\\Delta}x^{2} C^u_{1}ˏ_3 \\rho_o - \\frac{1}{2} {\\Delta}x^{2} C^u_{3}ˏ_1 \\mu_o + \\frac{1}{2} {\\Delta}x^{2} C^u_{1}ˏ_4 T \\rho_o + \\frac{1}{6} {\\Delta}x^{3} C^u_{2}ˏ_3 \\rho_o - \\frac{1}{2} {\\Delta}x^{2} C^u_{3}ˏ_2 T \\mu_o - \\frac{1}{6} {\\Delta}x^{3} C^u_{4}ˏ_1 \\mu_o + \\frac{1}{4} {\\Delta}x^{2} T^{2} C^u_{1}ˏ_5 \\rho_o + \\frac{1}{6} {\\Delta}x^{3} C^u_{2}ˏ_4 T \\rho_o - \\frac{1}{4} {\\Delta}x^{2} T^{2} C^u_{3}ˏ_3 \\mu_o + \\frac{1}{24} {\\Delta}x^{4} C^u_{3}ˏ_3 \\rho_o - \\frac{1}{6} {\\Delta}x^{3} C^u_{4}ˏ_2 T \\mu_o - \\frac{1}{24} {\\Delta}x^{4} C^u_{5}ˏ_1 \\mu_o + \\frac{1}{12} {\\Delta}x^{3} T^{2} C^u_{2}ˏ_5 \\rho_o - \\frac{1}{12} {\\Delta}x^{2} T^{3} C^u_{3}ˏ_4 \\mu_o + \\frac{1}{24} {\\Delta}x^{4} C^u_{3}ˏ_4 T \\rho_o - \\frac{1}{12} {\\Delta}x^{3} T^{2} C^u_{4}ˏ_3 \\mu_o + \\frac{1}{120} {\\Delta}x^{5} C^u_{4}ˏ_3 \\rho_o - \\frac{1}{24} {\\Delta}x^{4} C^u_{5}ˏ_2 T \\mu_o - \\frac{1}{48} {\\Delta}x^{2} T^{4} C^u_{3}ˏ_5 \\mu_o + \\frac{1}{48} {\\Delta}x^{4} T^{2} C^u_{3}ˏ_5 \\rho_o - \\frac{1}{36} {\\Delta}x^{3} T^{3} C^u_{4}ˏ_4 \\mu_o + \\frac{1}{120} {\\Delta}x^{5} C^u_{4}ˏ_4 T \\rho_o - \\frac{1}{48} {\\Delta}x^{4} T^{2} C^u_{5}ˏ_3 \\mu_o + \\frac{1}{720} {\\Delta}x^{6} C^u_{5}ˏ_3 \\rho_o - \\frac{1}{144} {\\Delta}x^{3} T^{4} C^u_{4}ˏ_5 \\mu_o + \\frac{1}{240} {\\Delta}x^{5} T^{2} C^u_{4}ˏ_5 \\rho_o - \\frac{1}{144} {\\Delta}x^{4} T^{3} C^u_{5}ˏ_4 \\mu_o + \\frac{1}{720} {\\Delta}x^{6} C^u_{5}ˏ_4 T \\rho_o - \\frac{1}{576} {\\Delta}x^{4} T^{4} C^u_{5}ˏ_5 \\mu_o + \\frac{1}{1440} {\\Delta}x^{6} T^{2} C^u_{5}ˏ_5 \\rho_o}{{\\Delta}x} + \\frac{\\frac{1}{2} {\\Delta}x^{2} C^u_{1}ˏ_3 \\rho_o - \\frac{1}{2} {\\Delta}x^{2} C^u_{3}ˏ_1 \\mu_o + \\frac{1}{2} {\\Delta}x^{2} C^u_{1}ˏ_4 T \\rho_o - \\frac{1}{6} {\\Delta}x^{3} C^u_{2}ˏ_3 \\rho_o - \\frac{1}{2} {\\Delta}x^{2} C^u_{3}ˏ_2 T \\mu_o + \\frac{1}{6} {\\Delta}x^{3} C^u_{4}ˏ_1 \\mu_o + \\frac{1}{4} {\\Delta}x^{2} T^{2} C^u_{1}ˏ_5 \\rho_o - \\frac{1}{6} {\\Delta}x^{3} C^u_{2}ˏ_4 T \\rho_o - \\frac{1}{4} {\\Delta}x^{2} T^{2} C^u_{3}ˏ_3 \\mu_o + \\frac{1}{24} {\\Delta}x^{4} C^u_{3}ˏ_3 \\rho_o + \\frac{1}{6} {\\Delta}x^{3} C^u_{4}ˏ_2 T \\mu_o - \\frac{1}{24} {\\Delta}x^{4} C^u_{5}ˏ_1 \\mu_o - \\frac{1}{12} {\\Delta}x^{3} T^{2} C^u_{2}ˏ_5 \\rho_o - \\frac{1}{12} {\\Delta}x^{2} T^{3} C^u_{3}ˏ_4 \\mu_o + \\frac{1}{24} {\\Delta}x^{4} C^u_{3}ˏ_4 T \\rho_o + \\frac{1}{12} {\\Delta}x^{3} T^{2} C^u_{4}ˏ_3 \\mu_o - \\frac{1}{120} {\\Delta}x^{5} C^u_{4}ˏ_3 \\rho_o - \\frac{1}{24} {\\Delta}x^{4} C^u_{5}ˏ_2 T \\mu_o - \\frac{1}{48} {\\Delta}x^{2} T^{4} C^u_{3}ˏ_5 \\mu_o + \\frac{1}{48} {\\Delta}x^{4} T^{2} C^u_{3}ˏ_5 \\rho_o + \\frac{1}{36} {\\Delta}x^{3} T^{3} C^u_{4}ˏ_4 \\mu_o - \\frac{1}{120} {\\Delta}x^{5} C^u_{4}ˏ_4 T \\rho_o - \\frac{1}{48} {\\Delta}x^{4} T^{2} C^u_{5}ˏ_3 \\mu_o + \\frac{1}{720} {\\Delta}x^{6} C^u_{5}ˏ_3 \\rho_o + \\frac{1}{144} {\\Delta}x^{3} T^{4} C^u_{4}ˏ_5 \\mu_o - \\frac{1}{240} {\\Delta}x^{5} T^{2} C^u_{4}ˏ_5 \\rho_o - \\frac{1}{144} {\\Delta}x^{4} T^{3} C^u_{5}ˏ_4 \\mu_o + \\frac{1}{720} {\\Delta}x^{6} C^u_{5}ˏ_4 T \\rho_o - \\frac{1}{576} {\\Delta}x^{4} T^{4} C^u_{5}ˏ_5 \\mu_o + \\frac{1}{1440} {\\Delta}x^{6} T^{2} C^u_{5}ˏ_5 \\rho_o}{{\\Delta}x}\n",
       "\\end{equation}\n",
       " $$"
      ],
      "text/plain": [
       "((1//2)*Cᵘ[1, 3]*(Δx^2)*ρₒ - (1//2)*Cᵘ[3, 1]*(Δx^2)*μₒ + (1//2)*Cᵘ[1, 4]*T*(Δx^2)*ρₒ + (1//6)*Cᵘ[2, 3]*(Δx^3)*ρₒ - (1//2)*Cᵘ[3, 2]*T*(Δx^2)*μₒ - (1//6)*Cᵘ[4, 1]*(Δx^3)*μₒ + (1//4)*Cᵘ[1, 5]*(T^2)*(Δx^2)*ρₒ + (1//6)*Cᵘ[2, 4]*T*(Δx^3)*ρₒ - (1//4)*Cᵘ[3, 3]*(T^2)*(Δx^2)*μₒ + (1//24)*Cᵘ[3, 3]*(Δx^4)*ρₒ - (1//6)*Cᵘ[4, 2]*T*(Δx^3)*μₒ - (1//24)*Cᵘ[5, 1]*(Δx^4)*μₒ + (1//12)*Cᵘ[2, 5]*(T^2)*(Δx^3)*ρₒ - (1//12)*Cᵘ[3, 4]*(T^3)*(Δx^2)*μₒ + (1//24)*Cᵘ[3, 4]*T*(Δx^4)*ρₒ - (1//12)*Cᵘ[4, 3]*(T^2)*(Δx^3)*μₒ + (1//120)*Cᵘ[4, 3]*(Δx^5)*ρₒ - (1//24)*Cᵘ[5, 2]*T*(Δx^4)*μₒ - (1//48)*Cᵘ[3, 5]*(T^4)*(Δx^2)*μₒ + (1//48)*Cᵘ[3, 5]*(T^2)*(Δx^4)*ρₒ - (1//36)*Cᵘ[4, 4]*(T^3)*(Δx^3)*μₒ + (1//120)*Cᵘ[4, 4]*T*(Δx^5)*ρₒ - (1//48)*Cᵘ[5, 3]*(T^2)*(Δx^4)*μₒ + (1//720)*Cᵘ[5, 3]*(Δx^6)*ρₒ - (1//144)*Cᵘ[4, 5]*(T^4)*(Δx^3)*μₒ + (1//240)*Cᵘ[4, 5]*(T^2)*(Δx^5)*ρₒ - (1//144)*Cᵘ[5, 4]*(T^3)*(Δx^4)*μₒ + (1//720)*Cᵘ[5, 4]*T*(Δx^6)*ρₒ - (1//576)*Cᵘ[5, 5]*(T^4)*(Δx^4)*μₒ + (1//1440)*Cᵘ[5, 5]*(T^2)*(Δx^6)*ρₒ) / Δx + ((1//2)*Cᵘ[1, 3]*(Δx^2)*ρₒ - (1//2)*Cᵘ[3, 1]*(Δx^2)*μₒ + (1//2)*Cᵘ[1, 4]*T*(Δx^2)*ρₒ - (1//6)*Cᵘ[2, 3]*(Δx^3)*ρₒ - (1//2)*Cᵘ[3, 2]*T*(Δx^2)*μₒ + (1//6)*Cᵘ[4, 1]*(Δx^3)*μₒ + (1//4)*Cᵘ[1, 5]*(T^2)*(Δx^2)*ρₒ - (1//6)*Cᵘ[2, 4]*T*(Δx^3)*ρₒ - (1//4)*Cᵘ[3, 3]*(T^2)*(Δx^2)*μₒ + (1//24)*Cᵘ[3, 3]*(Δx^4)*ρₒ + (1//6)*Cᵘ[4, 2]*T*(Δx^3)*μₒ - (1//24)*Cᵘ[5, 1]*(Δx^4)*μₒ - (1//12)*Cᵘ[2, 5]*(T^2)*(Δx^3)*ρₒ - (1//12)*Cᵘ[3, 4]*(T^3)*(Δx^2)*μₒ + (1//24)*Cᵘ[3, 4]*T*(Δx^4)*ρₒ + (1//12)*Cᵘ[4, 3]*(T^2)*(Δx^3)*μₒ - (1//120)*Cᵘ[4, 3]*(Δx^5)*ρₒ - (1//24)*Cᵘ[5, 2]*T*(Δx^4)*μₒ - (1//48)*Cᵘ[3, 5]*(T^4)*(Δx^2)*μₒ + (1//48)*Cᵘ[3, 5]*(T^2)*(Δx^4)*ρₒ + (1//36)*Cᵘ[4, 4]*(T^3)*(Δx^3)*μₒ - (1//120)*Cᵘ[4, 4]*T*(Δx^5)*ρₒ - (1//48)*Cᵘ[5, 3]*(T^2)*(Δx^4)*μₒ + (1//720)*Cᵘ[5, 3]*(Δx^6)*ρₒ + (1//144)*Cᵘ[4, 5]*(T^4)*(Δx^3)*μₒ - (1//240)*Cᵘ[4, 5]*(T^2)*(Δx^5)*ρₒ - (1//144)*Cᵘ[5, 4]*(T^3)*(Δx^4)*μₒ + (1//720)*Cᵘ[5, 4]*T*(Δx^6)*ρₒ - (1//576)*Cᵘ[5, 5]*(T^4)*(Δx^4)*μₒ + (1//1440)*Cᵘ[5, 5]*(T^2)*(Δx^6)*ρₒ) / Δx"
      ]
     },
     "metadata": {},
     "output_type": "display_data"
    }
   ],
   "source": [
    "ϕ_deriv_right=-1//Δx\n",
    "ϕ_deriv_left = 1//Δx\n",
    "desired_value_in_space=-(ϕ_deriv_right*f2_space_right-ϕ_deriv_left*f2_space_left)"
   ]
  },
  {
   "cell_type": "code",
   "execution_count": 123,
   "metadata": {},
   "outputs": [
    {
     "data": {
      "text/latex": [
       "$$ \\begin{equation}\n",
       "\\frac{1}{2} T^{2} C^u_{1}ˏ_3 {\\Delta}x \\rho_o - \\frac{1}{2} T^{2} C^u_{3}ˏ_1 {\\Delta}x \\mu_o + \\frac{1}{6} T^{3} C^u_{1}ˏ_4 {\\Delta}x \\rho_o - \\frac{1}{6} T^{3} C^u_{3}ˏ_2 {\\Delta}x \\mu_o + \\frac{1}{24} T^{4} C^u_{1}ˏ_5 {\\Delta}x \\rho_o - \\frac{1}{24} T^{4} C^u_{3}ˏ_3 {\\Delta}x \\mu_o + \\frac{1}{24} {\\Delta}x^{3} T^{2} C^u_{3}ˏ_3 \\rho_o - \\frac{1}{24} {\\Delta}x^{3} T^{2} C^u_{5}ˏ_1 \\mu_o - \\frac{1}{120} T^{5} C^u_{3}ˏ_4 {\\Delta}x \\mu_o + \\frac{1}{72} {\\Delta}x^{3} T^{3} C^u_{3}ˏ_4 \\rho_o - \\frac{1}{72} {\\Delta}x^{3} T^{3} C^u_{5}ˏ_2 \\mu_o - \\frac{1}{720} T^{6} C^u_{3}ˏ_5 {\\Delta}x \\mu_o + \\frac{1}{288} {\\Delta}x^{3} T^{4} C^u_{3}ˏ_5 \\rho_o - \\frac{1}{288} {\\Delta}x^{3} T^{4} C^u_{5}ˏ_3 \\mu_o + \\frac{1}{720} {\\Delta}x^{5} T^{2} C^u_{5}ˏ_3 \\rho_o - \\frac{1}{1440} {\\Delta}x^{3} T^{5} C^u_{5}ˏ_4 \\mu_o + \\frac{1}{2160} {\\Delta}x^{5} T^{3} C^u_{5}ˏ_4 \\rho_o - \\frac{1}{8640} {\\Delta}x^{3} T^{6} C^u_{5}ˏ_5 \\mu_o + \\frac{1}{8640} {\\Delta}x^{5} T^{4} C^u_{5}ˏ_5 \\rho_o\n",
       "\\end{equation}\n",
       " $$"
      ],
      "text/plain": [
       "(1//2)*Cᵘ[1, 3]*(T^2)*Δx*ρₒ - (1//2)*Cᵘ[3, 1]*(T^2)*Δx*μₒ + (1//6)*Cᵘ[1, 4]*(T^3)*Δx*ρₒ - (1//6)*Cᵘ[3, 2]*(T^3)*Δx*μₒ + (1//24)*Cᵘ[1, 5]*(T^4)*Δx*ρₒ - (1//24)*Cᵘ[3, 3]*(T^4)*Δx*μₒ + (1//24)*Cᵘ[3, 3]*(T^2)*(Δx^3)*ρₒ - (1//24)*Cᵘ[5, 1]*(T^2)*(Δx^3)*μₒ - (1//120)*Cᵘ[3, 4]*(T^5)*Δx*μₒ + (1//72)*Cᵘ[3, 4]*(T^3)*(Δx^3)*ρₒ - (1//72)*Cᵘ[5, 2]*(T^3)*(Δx^3)*μₒ - (1//720)*Cᵘ[3, 5]*(T^6)*Δx*μₒ + (1//288)*Cᵘ[3, 5]*(T^4)*(Δx^3)*ρₒ - (1//288)*Cᵘ[5, 3]*(T^4)*(Δx^3)*μₒ + (1//720)*Cᵘ[5, 3]*(T^2)*(Δx^5)*ρₒ - (1//1440)*Cᵘ[5, 4]*(T^5)*(Δx^3)*μₒ + (1//2160)*Cᵘ[5, 4]*(T^3)*(Δx^5)*ρₒ - (1//8640)*Cᵘ[5, 5]*(T^6)*(Δx^3)*μₒ + (1//8640)*Cᵘ[5, 5]*(T^4)*(Δx^5)*ρₒ"
      ]
     },
     "metadata": {},
     "output_type": "display_data"
    }
   ],
   "source": [
    "# now time integral\n",
    "\n",
    "f1_time=integrateTaylorPolynomials(desired_value_in_space,T)\n",
    "f2_time=integrateTaylorPolynomials(f1_time,T)\n"
   ]
  },
  {
   "cell_type": "code",
   "execution_count": 124,
   "metadata": {},
   "outputs": [
    {
     "data": {
      "text/latex": [
       "$$ \\begin{equation}\n",
       "\\frac{1}{2} {\\Delta}t^{2} C^u_{1}ˏ_3 {\\Delta}x \\rho_o - \\frac{1}{2} {\\Delta}t^{2} C^u_{3}ˏ_1 {\\Delta}x \\mu_o - \\frac{1}{6} {\\Delta}t^{3} C^u_{1}ˏ_4 {\\Delta}x \\rho_o + \\frac{1}{6} {\\Delta}t^{3} C^u_{3}ˏ_2 {\\Delta}x \\mu_o + \\frac{1}{24} {\\Delta}t^{4} C^u_{1}ˏ_5 {\\Delta}x \\rho_o - \\frac{1}{24} {\\Delta}t^{4} C^u_{3}ˏ_3 {\\Delta}x \\mu_o + \\frac{1}{24} {\\Delta}x^{3} {\\Delta}t^{2} C^u_{3}ˏ_3 \\rho_o - \\frac{1}{24} {\\Delta}x^{3} {\\Delta}t^{2} C^u_{5}ˏ_1 \\mu_o + \\frac{1}{120} {\\Delta}t^{5} C^u_{3}ˏ_4 {\\Delta}x \\mu_o - \\frac{1}{72} {\\Delta}x^{3} {\\Delta}t^{3} C^u_{3}ˏ_4 \\rho_o + \\frac{1}{72} {\\Delta}x^{3} {\\Delta}t^{3} C^u_{5}ˏ_2 \\mu_o - \\frac{1}{720} {\\Delta}t^{6} C^u_{3}ˏ_5 {\\Delta}x \\mu_o + \\frac{1}{288} {\\Delta}x^{3} {\\Delta}t^{4} C^u_{3}ˏ_5 \\rho_o - \\frac{1}{288} {\\Delta}x^{3} {\\Delta}t^{4} C^u_{5}ˏ_3 \\mu_o + \\frac{1}{720} {\\Delta}x^{5} {\\Delta}t^{2} C^u_{5}ˏ_3 \\rho_o + \\frac{1}{1440} {\\Delta}x^{3} {\\Delta}t^{5} C^u_{5}ˏ_4 \\mu_o - \\frac{1}{2160} {\\Delta}x^{5} {\\Delta}t^{3} C^u_{5}ˏ_4 \\rho_o - \\frac{1}{8640} {\\Delta}x^{3} {\\Delta}t^{6} C^u_{5}ˏ_5 \\mu_o + \\frac{1}{8640} {\\Delta}x^{5} {\\Delta}t^{4} C^u_{5}ˏ_5 \\rho_o\n",
       "\\end{equation}\n",
       " $$"
      ],
      "text/plain": [
       "(1//2)*Cᵘ[1, 3]*(Δt^2)*Δx*ρₒ - (1//2)*Cᵘ[3, 1]*(Δt^2)*Δx*μₒ - (1//6)*Cᵘ[1, 4]*(Δt^3)*Δx*ρₒ + (1//6)*Cᵘ[3, 2]*(Δt^3)*Δx*μₒ + (1//24)*Cᵘ[1, 5]*(Δt^4)*Δx*ρₒ - (1//24)*Cᵘ[3, 3]*(Δt^4)*Δx*μₒ + (1//24)*Cᵘ[3, 3]*(Δt^2)*(Δx^3)*ρₒ - (1//24)*Cᵘ[5, 1]*(Δt^2)*(Δx^3)*μₒ + (1//120)*Cᵘ[3, 4]*(Δt^5)*Δx*μₒ - (1//72)*Cᵘ[3, 4]*(Δt^3)*(Δx^3)*ρₒ + (1//72)*Cᵘ[5, 2]*(Δt^3)*(Δx^3)*μₒ - (1//720)*Cᵘ[3, 5]*(Δt^6)*Δx*μₒ + (1//288)*Cᵘ[3, 5]*(Δt^4)*(Δx^3)*ρₒ - (1//288)*Cᵘ[5, 3]*(Δt^4)*(Δx^3)*μₒ + (1//720)*Cᵘ[5, 3]*(Δt^2)*(Δx^5)*ρₒ + (1//1440)*Cᵘ[5, 4]*(Δt^5)*(Δx^3)*μₒ - (1//2160)*Cᵘ[5, 4]*(Δt^3)*(Δx^5)*ρₒ - (1//8640)*Cᵘ[5, 5]*(Δt^6)*(Δx^3)*μₒ + (1//8640)*Cᵘ[5, 5]*(Δt^4)*(Δx^5)*ρₒ"
      ]
     },
     "metadata": {},
     "output_type": "display_data"
    }
   ],
   "source": [
    "f2_time_right=substitute(f2_time,Dict([T=>Δt]))\n",
    "f2_time_left=substitute(f2_time,Dict([T=>(-Δt)]))"
   ]
  },
  {
   "cell_type": "code",
   "execution_count": 125,
   "metadata": {},
   "outputs": [
    {
     "data": {
      "text/latex": [
       "$$ \\begin{equation}\n",
       "C^u_{1}ˏ_3 {\\Delta}t {\\Delta}x \\rho_o - C^u_{3}ˏ_1 {\\Delta}t {\\Delta}x \\mu_o + \\frac{1}{12} {\\Delta}t^{3} C^u_{1}ˏ_5 {\\Delta}x \\rho_o - \\frac{1}{12} {\\Delta}t^{3} C^u_{3}ˏ_3 {\\Delta}x \\mu_o + \\frac{1}{12} {\\Delta}x^{3} C^u_{3}ˏ_3 {\\Delta}t \\rho_o - \\frac{1}{12} {\\Delta}x^{3} C^u_{5}ˏ_1 {\\Delta}t \\mu_o - \\frac{1}{360} {\\Delta}t^{5} C^u_{3}ˏ_5 {\\Delta}x \\mu_o + \\frac{1}{144} {\\Delta}x^{3} {\\Delta}t^{3} C^u_{3}ˏ_5 \\rho_o - \\frac{1}{144} {\\Delta}x^{3} {\\Delta}t^{3} C^u_{5}ˏ_3 \\mu_o + \\frac{1}{360} {\\Delta}x^{5} C^u_{5}ˏ_3 {\\Delta}t \\rho_o - \\frac{1}{4320} {\\Delta}x^{3} {\\Delta}t^{5} C^u_{5}ˏ_5 \\mu_o + \\frac{1}{4320} {\\Delta}x^{5} {\\Delta}t^{3} C^u_{5}ˏ_5 \\rho_o\n",
       "\\end{equation}\n",
       " $$"
      ],
      "text/plain": [
       "Cᵘ[1, 3]*Δt*Δx*ρₒ - Cᵘ[3, 1]*Δt*Δx*μₒ + (1//12)*Cᵘ[1, 5]*(Δt^3)*Δx*ρₒ - (1//12)*Cᵘ[3, 3]*(Δt^3)*Δx*μₒ + (1//12)*Cᵘ[3, 3]*Δt*(Δx^3)*ρₒ - (1//12)*Cᵘ[5, 1]*Δt*(Δx^3)*μₒ - (1//360)*Cᵘ[3, 5]*(Δt^5)*Δx*μₒ + (1//144)*Cᵘ[3, 5]*(Δt^3)*(Δx^3)*ρₒ - (1//144)*Cᵘ[5, 3]*(Δt^3)*(Δx^3)*μₒ + (1//360)*Cᵘ[5, 3]*Δt*(Δx^5)*ρₒ - (1//4320)*Cᵘ[5, 5]*(Δt^5)*(Δx^3)*μₒ + (1//4320)*Cᵘ[5, 5]*(Δt^3)*(Δx^5)*ρₒ"
      ]
     },
     "metadata": {},
     "output_type": "display_data"
    }
   ],
   "source": [
    "ψ_deriv_right=-1//Δt\n",
    "ψ_deriv_left = 1//Δt\n",
    "desired_value_in_time=-(ψ_deriv_right*f2_time_right-ψ_deriv_left*f2_time_left)\n",
    "desired_value_in_time=simplify(desired_value_in_time;expand=true)"
   ]
  },
  {
   "cell_type": "markdown",
   "metadata": {},
   "source": [
    "\\begin{equation}\n",
    " \\sum_{m,n} A_{mn} u_{mn}\n",
    " \\end{equation}"
   ]
  },
  {
   "cell_type": "code",
   "execution_count": 126,
   "metadata": {},
   "outputs": [
    {
     "data": {
      "text/latex": [
       "$$ \\begin{equation}\n",
       "\\frac{1}{2} {\\Delta}t^{2} A_{m n 0}ˏ_1 + \\frac{1}{2} {\\Delta}t^{2} A_{m n 0}ˏ_{- 1} + \\frac{1}{2} {\\Delta}t^{2} A_{m n 1}ˏ_1 + \\frac{1}{2} {\\Delta}t^{2} A_{m n 1}ˏ_{- 1} + \\frac{1}{2} {\\Delta}t^{2} A_{m n - 1}ˏ_1 + \\frac{1}{2} {\\Delta}t^{2} A_{m n - 1}ˏ_{- 1} - {\\Delta}t {\\Delta}x \\rho_o\n",
       "\\end{equation}\n",
       " $$"
      ],
      "text/plain": [
       "(1//2)*Aₘₙ₀ˏ₁*(Δt^2) + (1//2)*Aₘₙ₀ˏ₋₁*(Δt^2) + (1//2)*Aₘₙ₁ˏ₁*(Δt^2) + (1//2)*Aₘₙ₁ˏ₋₁*(Δt^2) + (1//2)*Aₘₙ₋₁ˏ₁*(Δt^2) + (1//2)*Aₘₙ₋₁ˏ₋₁*(Δt^2) - Δt*Δx*ρₒ"
      ]
     },
     "metadata": {},
     "output_type": "display_data"
    }
   ],
   "source": [
    "innerProduct=0\n",
    "for i¹ in 1:L₁ₗ+L₁ᵣ+1\n",
    "    dx¹=Δx*(i¹-L₁ₗ-1)\n",
    "    for iᵗ in 1:Lₜₗ+Lₜᵣ+1\n",
    "        dt = Δt*(iᵗ-Lₜₗ-1)\n",
    "        innerProduct+=Aₘₙ[i¹,iᵗ]*u(dx¹,dt)\n",
    "    end\n",
    "end\n",
    "difference_between_matrix_strongform=simplify(innerProduct-desired_value_in_time;expand=true)\n",
    "Symbolics.coeff(difference_between_matrix_strongform,Cᵘ[1,3])"
   ]
  },
  {
   "cell_type": "code",
   "execution_count": null,
   "metadata": {},
   "outputs": [],
   "source": [
    "innerProduct"
   ]
  },
  {
   "cell_type": "code",
   "execution_count": 127,
   "metadata": {},
   "outputs": [
    {
     "data": {
      "text/latex": [
       "$$ \\begin{equation}\n",
       "\\frac{{\\Delta}t^{2} \\mu_o - {\\Delta}x^{2} \\rho_o}{ - 12 {\\Delta}t {\\Delta}x}\n",
       "\\end{equation}\n",
       " $$"
      ],
      "text/plain": [
       "((Δt^2)*μₒ - (Δx^2)*ρₒ) / (-12Δt*Δx)"
      ]
     },
     "metadata": {},
     "output_type": "display_data"
    }
   ],
   "source": [
    "hierarchical_equations=[]\n",
    "for i¹ in 1:L₁ₗ+L₁ᵣ+1   \n",
    "    for iᵗ in 1:Lₜₗ+Lₜᵣ+1  \n",
    "        push!(hierarchical_equations,Symbolics.coeff(difference_between_matrix_strongform,Cᵘ[i¹,iᵗ])~0)\n",
    "    end\n",
    "end\n",
    "newA=reshape(Symbolics.solve_for(hierarchical_equations,Aₘₙ),(L₁ₗ+L₁ᵣ+1,Lₜₗ+Lₜᵣ+1))\n",
    "simplify(newA[1,3])"
   ]
  },
  {
   "cell_type": "code",
   "execution_count": 128,
   "metadata": {},
   "outputs": [
    {
     "data": {
      "text/latex": [
       "$$ \\begin{equation}\n",
       "A_{m n 0}ˏ_0 + A_{m n 0}ˏ_1 + A_{m n 0}ˏ_{- 1} + A_{m n 1}ˏ_0 + A_{m n 1}ˏ_1 + A_{m n 1}ˏ_{- 1} + A_{m n - 1}ˏ_0 + A_{m n - 1}ˏ_1 + A_{m n - 1}ˏ_{- 1} = 0\n",
       "\\end{equation}\n",
       " $$"
      ],
      "text/plain": [
       "Aₘₙ₀ˏ₀ + Aₘₙ₀ˏ₁ + Aₘₙ₀ˏ₋₁ + Aₘₙ₁ˏ₀ + Aₘₙ₁ˏ₁ + Aₘₙ₁ˏ₋₁ + Aₘₙ₋₁ˏ₀ + Aₘₙ₋₁ˏ₁ + Aₘₙ₋₁ˏ₋₁ ~ 0"
      ]
     },
     "metadata": {},
     "output_type": "display_data"
    },
    {
     "data": {
      "text/latex": [
       "$$ \\begin{equation}\n",
       "\\left( A_{m n 0}ˏ_1 + A_{m n 1}ˏ_1 + A_{m n - 1}ˏ_1 \\right) {\\Delta}t - A_{m n 0}ˏ_{- 1} {\\Delta}t - A_{m n 1}ˏ_{- 1} {\\Delta}t - A_{m n - 1}ˏ_{- 1} {\\Delta}t = 0\n",
       "\\end{equation}\n",
       " $$"
      ],
      "text/plain": [
       "(Aₘₙ₀ˏ₁ + Aₘₙ₁ˏ₁ + Aₘₙ₋₁ˏ₁)*Δt - Aₘₙ₀ˏ₋₁*Δt - Aₘₙ₁ˏ₋₁*Δt - Aₘₙ₋₁ˏ₋₁*Δt ~ 0"
      ]
     },
     "metadata": {},
     "output_type": "display_data"
    },
    {
     "data": {
      "text/latex": [
       "$$ \\begin{equation}\n",
       "\\frac{1}{2} {\\Delta}t^{2} A_{m n 0}ˏ_1 + \\frac{1}{2} {\\Delta}t^{2} A_{m n 0}ˏ_{- 1} + \\frac{1}{2} {\\Delta}t^{2} A_{m n 1}ˏ_1 + \\frac{1}{2} {\\Delta}t^{2} A_{m n 1}ˏ_{- 1} + \\frac{1}{2} {\\Delta}t^{2} A_{m n - 1}ˏ_1 + \\frac{1}{2} {\\Delta}t^{2} A_{m n - 1}ˏ_{- 1} - {\\Delta}t {\\Delta}x \\rho_o = 0\n",
       "\\end{equation}\n",
       " $$"
      ],
      "text/plain": [
       "(1//2)*Aₘₙ₀ˏ₁*(Δt^2) + (1//2)*Aₘₙ₀ˏ₋₁*(Δt^2) + (1//2)*Aₘₙ₁ˏ₁*(Δt^2) + (1//2)*Aₘₙ₁ˏ₋₁*(Δt^2) + (1//2)*Aₘₙ₋₁ˏ₁*(Δt^2) + (1//2)*Aₘₙ₋₁ˏ₋₁*(Δt^2) - Δt*Δx*ρₒ ~ 0"
      ]
     },
     "metadata": {},
     "output_type": "display_data"
    },
    {
     "data": {
      "text/latex": [
       "$$ \\begin{equation}\n",
       "\\left( A_{m n 1}ˏ_0 + A_{m n 1}ˏ_1 + A_{m n 1}ˏ_{- 1} \\right) {\\Delta}x - A_{m n - 1}ˏ_0 {\\Delta}x - A_{m n - 1}ˏ_1 {\\Delta}x - A_{m n - 1}ˏ_{- 1} {\\Delta}x = 0\n",
       "\\end{equation}\n",
       " $$"
      ],
      "text/plain": [
       "(Aₘₙ₁ˏ₀ + Aₘₙ₁ˏ₁ + Aₘₙ₁ˏ₋₁)*Δx - Aₘₙ₋₁ˏ₀*Δx - Aₘₙ₋₁ˏ₁*Δx - Aₘₙ₋₁ˏ₋₁*Δx ~ 0"
      ]
     },
     "metadata": {},
     "output_type": "display_data"
    },
    {
     "data": {
      "text/latex": [
       "$$ \\begin{equation}\n",
       "\\left( A_{m n 1}ˏ_1 + A_{m n - 1}ˏ_{- 1} \\right) {\\Delta}t {\\Delta}x - A_{m n 1}ˏ_{- 1} {\\Delta}t {\\Delta}x - A_{m n - 1}ˏ_1 {\\Delta}t {\\Delta}x = 0\n",
       "\\end{equation}\n",
       " $$"
      ],
      "text/plain": [
       "(Aₘₙ₁ˏ₁ + Aₘₙ₋₁ˏ₋₁)*Δt*Δx - Aₘₙ₁ˏ₋₁*Δt*Δx - Aₘₙ₋₁ˏ₁*Δt*Δx ~ 0"
      ]
     },
     "metadata": {},
     "output_type": "display_data"
    },
    {
     "data": {
      "text/latex": [
       "$$ \\begin{equation}\n",
       "\\frac{1}{2} {\\Delta}t^{2} A_{m n 1}ˏ_1 {\\Delta}x + \\frac{1}{2} {\\Delta}t^{2} A_{m n 1}ˏ_{- 1} {\\Delta}x - \\frac{1}{2} {\\Delta}t^{2} A_{m n - 1}ˏ_1 {\\Delta}x - \\frac{1}{2} {\\Delta}t^{2} A_{m n - 1}ˏ_{- 1} {\\Delta}x = 0\n",
       "\\end{equation}\n",
       " $$"
      ],
      "text/plain": [
       "(1//2)*Aₘₙ₁ˏ₁*(Δt^2)*Δx + (1//2)*Aₘₙ₁ˏ₋₁*(Δt^2)*Δx - (1//2)*Aₘₙ₋₁ˏ₁*(Δt^2)*Δx - (1//2)*Aₘₙ₋₁ˏ₋₁*(Δt^2)*Δx ~ 0"
      ]
     },
     "metadata": {},
     "output_type": "display_data"
    },
    {
     "data": {
      "text/latex": [
       "$$ \\begin{equation}\n",
       "\\frac{1}{2} {\\Delta}x^{2} A_{m n 1}ˏ_0 + \\frac{1}{2} {\\Delta}x^{2} A_{m n 1}ˏ_1 + \\frac{1}{2} {\\Delta}x^{2} A_{m n 1}ˏ_{- 1} + \\frac{1}{2} {\\Delta}x^{2} A_{m n - 1}ˏ_0 + \\frac{1}{2} {\\Delta}x^{2} A_{m n - 1}ˏ_1 + \\frac{1}{2} {\\Delta}x^{2} A_{m n - 1}ˏ_{- 1} + {\\Delta}t {\\Delta}x \\mu_o = 0\n",
       "\\end{equation}\n",
       " $$"
      ],
      "text/plain": [
       "(1//2)*Aₘₙ₁ˏ₀*(Δx^2) + (1//2)*Aₘₙ₁ˏ₁*(Δx^2) + (1//2)*Aₘₙ₁ˏ₋₁*(Δx^2) + (1//2)*Aₘₙ₋₁ˏ₀*(Δx^2) + (1//2)*Aₘₙ₋₁ˏ₁*(Δx^2) + (1//2)*Aₘₙ₋₁ˏ₋₁*(Δx^2) + Δt*Δx*μₒ ~ 0"
      ]
     },
     "metadata": {},
     "output_type": "display_data"
    },
    {
     "data": {
      "text/latex": [
       "$$ \\begin{equation}\n",
       "\\frac{1}{2} {\\Delta}x^{2} A_{m n 1}ˏ_1 {\\Delta}t - \\frac{1}{2} {\\Delta}x^{2} A_{m n 1}ˏ_{- 1} {\\Delta}t + \\frac{1}{2} {\\Delta}x^{2} A_{m n - 1}ˏ_1 {\\Delta}t - \\frac{1}{2} {\\Delta}x^{2} A_{m n - 1}ˏ_{- 1} {\\Delta}t = 0\n",
       "\\end{equation}\n",
       " $$"
      ],
      "text/plain": [
       "(1//2)*Aₘₙ₁ˏ₁*Δt*(Δx^2) - (1//2)*Aₘₙ₁ˏ₋₁*Δt*(Δx^2) + (1//2)*Aₘₙ₋₁ˏ₁*Δt*(Δx^2) - (1//2)*Aₘₙ₋₁ˏ₋₁*Δt*(Δx^2) ~ 0"
      ]
     },
     "metadata": {},
     "output_type": "display_data"
    },
    {
     "data": {
      "text/latex": [
       "$$ \\begin{equation}\n",
       "\\frac{1}{4} {\\Delta}x^{2} {\\Delta}t^{2} A_{m n 1}ˏ_1 + \\frac{1}{4} {\\Delta}x^{2} {\\Delta}t^{2} A_{m n 1}ˏ_{- 1} + \\frac{1}{4} {\\Delta}x^{2} {\\Delta}t^{2} A_{m n - 1}ˏ_1 + \\frac{1}{4} {\\Delta}x^{2} {\\Delta}t^{2} A_{m n - 1}ˏ_{- 1} + \\frac{1}{12} {\\Delta}t^{3} {\\Delta}x \\mu_o - \\frac{1}{12} {\\Delta}x^{3} {\\Delta}t \\rho_o = 0\n",
       "\\end{equation}\n",
       " $$"
      ],
      "text/plain": [
       "(1//4)*Aₘₙ₁ˏ₁*(Δt^2)*(Δx^2) + (1//4)*Aₘₙ₁ˏ₋₁*(Δt^2)*(Δx^2) + (1//4)*Aₘₙ₋₁ˏ₁*(Δt^2)*(Δx^2) + (1//4)*Aₘₙ₋₁ˏ₋₁*(Δt^2)*(Δx^2) + (1//12)*(Δt^3)*Δx*μₒ - (1//12)*Δt*(Δx^3)*ρₒ ~ 0"
      ]
     },
     "metadata": {},
     "output_type": "display_data"
    }
   ],
   "source": [
    "\n",
    "for i¹ in 1:L₁ₗ+L₁ᵣ+1\n",
    "    for iᵗ in 1:Lₜₗ+Lₜᵣ+1\n",
    "        display(simplify(hierarchical_equations[(i¹-1)*(Lₜₗ+Lₜᵣ+1)+iᵗ]))\n",
    "    end\n",
    "end"
   ]
  },
  {
   "cell_type": "code",
   "execution_count": 129,
   "metadata": {},
   "outputs": [
    {
     "data": {
      "text/latex": [
       "$$ \\begin{equation}\n",
       "\\frac{ - \\frac{1}{12} {\\Delta}t^{2} \\mu_o + \\frac{1}{12} {\\Delta}x^{2} \\rho_o}{{\\Delta}t {\\Delta}x}\n",
       "\\end{equation}\n",
       " $$"
      ],
      "text/plain": [
       "(-(1//12)*(Δt^2)*μₒ + (1//12)*(Δx^2)*ρₒ) / (Δt*Δx)"
      ]
     },
     "metadata": {},
     "output_type": "display_data"
    },
    {
     "data": {
      "text/latex": [
       "$$ \\begin{equation}\n",
       "\\frac{5 {\\Delta}t^{2} \\mu_o + {\\Delta}x^{2} \\rho_o}{ - 6 {\\Delta}t {\\Delta}x}\n",
       "\\end{equation}\n",
       " $$"
      ],
      "text/plain": [
       "((5//1)*(Δt^2)*μₒ + (Δx^2)*ρₒ) / (-6Δt*Δx)"
      ]
     },
     "metadata": {},
     "output_type": "display_data"
    },
    {
     "data": {
      "text/latex": [
       "$$ \\begin{equation}\n",
       "\\frac{{\\Delta}t^{2} \\mu_o - {\\Delta}x^{2} \\rho_o}{ - 12 {\\Delta}t {\\Delta}x}\n",
       "\\end{equation}\n",
       " $$"
      ],
      "text/plain": [
       "((Δt^2)*μₒ - (Δx^2)*ρₒ) / (-12Δt*Δx)"
      ]
     },
     "metadata": {},
     "output_type": "display_data"
    },
    {
     "data": {
      "text/latex": [
       "$$ \\begin{equation}\n",
       "\\frac{ - {\\Delta}t^{2} \\mu_o - 5 {\\Delta}x^{2} \\rho_o}{ - 6 {\\Delta}t {\\Delta}x}\n",
       "\\end{equation}\n",
       " $$"
      ],
      "text/plain": [
       "(-(Δt^2)*μₒ - (5//1)*(Δx^2)*ρₒ) / (-6Δt*Δx)"
      ]
     },
     "metadata": {},
     "output_type": "display_data"
    },
    {
     "data": {
      "text/latex": [
       "$$ \\begin{equation}\n",
       "\\frac{ - 5 {\\Delta}t^{2} \\mu_o + 5 {\\Delta}x^{2} \\rho_o}{ - 3 {\\Delta}t {\\Delta}x}\n",
       "\\end{equation}\n",
       " $$"
      ],
      "text/plain": [
       "(-(5//1)*(Δt^2)*μₒ + (5//1)*(Δx^2)*ρₒ) / (-3Δt*Δx)"
      ]
     },
     "metadata": {},
     "output_type": "display_data"
    },
    {
     "data": {
      "text/latex": [
       "$$ \\begin{equation}\n",
       "\\frac{ - {\\Delta}t^{2} \\mu_o - 5 {\\Delta}x^{2} \\rho_o}{ - 6 {\\Delta}t {\\Delta}x}\n",
       "\\end{equation}\n",
       " $$"
      ],
      "text/plain": [
       "(-(Δt^2)*μₒ - (5//1)*(Δx^2)*ρₒ) / (-6Δt*Δx)"
      ]
     },
     "metadata": {},
     "output_type": "display_data"
    },
    {
     "data": {
      "text/latex": [
       "$$ \\begin{equation}\n",
       "\\frac{{\\Delta}t^{2} \\mu_o - {\\Delta}x^{2} \\rho_o}{ - 12 {\\Delta}t {\\Delta}x}\n",
       "\\end{equation}\n",
       " $$"
      ],
      "text/plain": [
       "((Δt^2)*μₒ - (Δx^2)*ρₒ) / (-12Δt*Δx)"
      ]
     },
     "metadata": {},
     "output_type": "display_data"
    },
    {
     "data": {
      "text/latex": [
       "$$ \\begin{equation}\n",
       "\\frac{\\frac{5}{6} {\\Delta}t^{2} \\mu_o + \\frac{1}{6} {\\Delta}x^{2} \\rho_o}{ - {\\Delta}t {\\Delta}x}\n",
       "\\end{equation}\n",
       " $$"
      ],
      "text/plain": [
       "((5//6)*(Δt^2)*μₒ + (1//6)*(Δx^2)*ρₒ) / (-Δt*Δx)"
      ]
     },
     "metadata": {},
     "output_type": "display_data"
    },
    {
     "data": {
      "text/latex": [
       "$$ \\begin{equation}\n",
       "\\frac{\\frac{1}{12} {\\Delta}t^{2} \\mu_o - \\frac{1}{12} {\\Delta}x^{2} \\rho_o}{ - {\\Delta}t {\\Delta}x}\n",
       "\\end{equation}\n",
       " $$"
      ],
      "text/plain": [
       "((1//12)*(Δt^2)*μₒ - (1//12)*(Δx^2)*ρₒ) / (-Δt*Δx)"
      ]
     },
     "metadata": {},
     "output_type": "display_data"
    }
   ],
   "source": [
    "for i¹ in 1:L₁ₗ+L₁ᵣ+1\n",
    "    for iᵗ in 1:Lₜₗ+Lₜᵣ+1\n",
    "        display(simplify(newA[i¹,iᵗ];expand=true))\n",
    "    end\n",
    "end"
   ]
  },
  {
   "cell_type": "markdown",
   "metadata": {},
   "source": [
    "# check errors"
   ]
  },
  {
   "cell_type": "code",
   "execution_count": 130,
   "metadata": {},
   "outputs": [
    {
     "data": {
      "text/latex": [
       "$$ \\begin{equation}\n",
       "\\frac{1}{2880} \\left(  - 12 {\\Delta}t^{5} C^u_{3}ˏ_5 {\\Delta}x \\mu_o + 12 {\\Delta}x^{5} C^u_{5}ˏ_3 {\\Delta}t \\rho_o - {\\Delta}x^{3} {\\Delta}t^{5} C^u_{5}ˏ_5 \\mu_o + {\\Delta}x^{5} {\\Delta}t^{3} C^u_{5}ˏ_5 \\rho_o \\right)\n",
       "\\end{equation}\n",
       " $$"
      ],
      "text/plain": [
       "(1//2880)*(-(12//1)*Cᵘ[3, 5]*(Δt^5)*Δx*μₒ + (12//1)*Cᵘ[5, 3]*Δt*(Δx^5)*ρₒ - Cᵘ[5, 5]*(Δt^5)*(Δx^3)*μₒ + Cᵘ[5, 5]*(Δt^3)*(Δx^5)*ρₒ)"
      ]
     },
     "metadata": {},
     "output_type": "display_data"
    },
    {
     "data": {
      "text/latex": [
       "$$ \\begin{equation}\n",
       "0\n",
       "\\end{equation}\n",
       " $$"
      ],
      "text/plain": [
       "0"
      ]
     },
     "metadata": {},
     "output_type": "display_data"
    }
   ],
   "source": [
    "innerProduct=0\n",
    "for i¹ in 1:L₁ₗ+L₁ᵣ+1\n",
    "    dx¹=Δx*(i¹-L₁ₗ-1)\n",
    "    for iᵗ in 1:Lₜₗ+Lₜᵣ+1\n",
    "        dt = Δt*(iᵗ-Lₜₗ-1)\n",
    "        innerProduct+=newA[i¹,iᵗ]*u(dx¹,dt)\n",
    "    end\n",
    "end\n",
    "difference=simplify((innerProduct-desired_value_in_time);expand=true)\n",
    "display(difference)\n",
    "truncated_difference=ignoreHigherOrderTerms(difference,Δx,3)\n",
    "truncated_difference=ignoreHigherOrderTerms(truncated_difference,Δt,3)\n",
    "display(truncated_difference)"
   ]
  },
  {
   "cell_type": "code",
   "execution_count": 131,
   "metadata": {},
   "outputs": [
    {
     "data": {
      "text/latex": [
       "$$ \\begin{equation}\n",
       "0\n",
       "\\end{equation}\n",
       " $$"
      ],
      "text/plain": [
       "0"
      ]
     },
     "metadata": {},
     "output_type": "display_data"
    },
    {
     "data": {
      "text/latex": [
       "$$ \\begin{equation}\n",
       "\\frac{ - {\\Delta}t \\mu_o}{{\\Delta}x}\n",
       "\\end{equation}\n",
       " $$"
      ],
      "text/plain": [
       "(-Δt*μₒ) / Δx"
      ]
     },
     "metadata": {},
     "output_type": "display_data"
    },
    {
     "data": {
      "text/latex": [
       "$$ \\begin{equation}\n",
       "0\n",
       "\\end{equation}\n",
       " $$"
      ],
      "text/plain": [
       "0"
      ]
     },
     "metadata": {},
     "output_type": "display_data"
    },
    {
     "data": {
      "text/latex": [
       "$$ \\begin{equation}\n",
       "\\frac{{\\Delta}x \\rho_o}{{\\Delta}t}\n",
       "\\end{equation}\n",
       " $$"
      ],
      "text/plain": [
       "(Δx*ρₒ) / Δt"
      ]
     },
     "metadata": {},
     "output_type": "display_data"
    },
    {
     "data": {
      "text/latex": [
       "$$ \\begin{equation}\n",
       "\\frac{2 {\\Delta}t^{2} \\mu_o - 2 {\\Delta}x^{2} \\rho_o}{{\\Delta}t {\\Delta}x}\n",
       "\\end{equation}\n",
       " $$"
      ],
      "text/plain": [
       "(2(Δt^2)*μₒ - 2(Δx^2)*ρₒ) / (Δt*Δx)"
      ]
     },
     "metadata": {},
     "output_type": "display_data"
    },
    {
     "data": {
      "text/latex": [
       "$$ \\begin{equation}\n",
       "\\frac{{\\Delta}x \\rho_o}{{\\Delta}t}\n",
       "\\end{equation}\n",
       " $$"
      ],
      "text/plain": [
       "(Δx*ρₒ) / Δt"
      ]
     },
     "metadata": {},
     "output_type": "display_data"
    },
    {
     "data": {
      "text/latex": [
       "$$ \\begin{equation}\n",
       "0\n",
       "\\end{equation}\n",
       " $$"
      ],
      "text/plain": [
       "0"
      ]
     },
     "metadata": {},
     "output_type": "display_data"
    },
    {
     "data": {
      "text/latex": [
       "$$ \\begin{equation}\n",
       "\\frac{ - {\\Delta}t \\mu_o}{{\\Delta}x}\n",
       "\\end{equation}\n",
       " $$"
      ],
      "text/plain": [
       "(-Δt*μₒ) / Δx"
      ]
     },
     "metadata": {},
     "output_type": "display_data"
    },
    {
     "data": {
      "text/latex": [
       "$$ \\begin{equation}\n",
       "0\n",
       "\\end{equation}\n",
       " $$"
      ],
      "text/plain": [
       "0"
      ]
     },
     "metadata": {},
     "output_type": "display_data"
    },
    {
     "data": {
      "text/latex": [
       "$$ \\begin{equation}\n",
       "C^u_{1}ˏ_1 - C^u_{1}ˏ_2 {\\Delta}t - C^u_{2}ˏ_1 {\\Delta}x + \\frac{1}{2} {\\Delta}t^{2} C^u_{1}ˏ_3 + C^u_{2}ˏ_2 {\\Delta}t {\\Delta}x + \\frac{1}{2} {\\Delta}x^{2} C^u_{3}ˏ_1 - \\frac{1}{6} {\\Delta}t^{3} C^u_{1}ˏ_4 - \\frac{1}{2} {\\Delta}t^{2} C^u_{2}ˏ_3 {\\Delta}x - \\frac{1}{2} {\\Delta}x^{2} C^u_{3}ˏ_2 {\\Delta}t - \\frac{1}{6} {\\Delta}x^{3} C^u_{4}ˏ_1 + \\frac{1}{24} {\\Delta}t^{4} C^u_{1}ˏ_5 + \\frac{1}{6} {\\Delta}t^{3} C^u_{2}ˏ_4 {\\Delta}x + \\frac{1}{4} {\\Delta}x^{2} {\\Delta}t^{2} C^u_{3}ˏ_3 + \\frac{1}{6} {\\Delta}x^{3} C^u_{4}ˏ_2 {\\Delta}t + \\frac{1}{24} {\\Delta}x^{4} C^u_{5}ˏ_1 - \\frac{1}{24} {\\Delta}t^{4} C^u_{2}ˏ_5 {\\Delta}x - \\frac{1}{12} {\\Delta}x^{2} {\\Delta}t^{3} C^u_{3}ˏ_4 - \\frac{1}{12} {\\Delta}x^{3} {\\Delta}t^{2} C^u_{4}ˏ_3 - \\frac{1}{24} {\\Delta}x^{4} C^u_{5}ˏ_2 {\\Delta}t + \\frac{1}{48} {\\Delta}x^{2} {\\Delta}t^{4} C^u_{3}ˏ_5 + \\frac{1}{36} {\\Delta}x^{3} {\\Delta}t^{3} C^u_{4}ˏ_4 + \\frac{1}{48} {\\Delta}x^{4} {\\Delta}t^{2} C^u_{5}ˏ_3 - \\frac{1}{144} {\\Delta}x^{3} {\\Delta}t^{4} C^u_{4}ˏ_5 - \\frac{1}{144} {\\Delta}x^{4} {\\Delta}t^{3} C^u_{5}ˏ_4 + \\frac{1}{576} {\\Delta}x^{4} {\\Delta}t^{4} C^u_{5}ˏ_5\n",
       "\\end{equation}\n",
       " $$"
      ],
      "text/plain": [
       "Cᵘ[1, 1] - Cᵘ[1, 2]*Δt - Cᵘ[2, 1]*Δx + (1//2)*Cᵘ[1, 3]*(Δt^2) + Cᵘ[2, 2]*Δt*Δx + (1//2)*Cᵘ[3, 1]*(Δx^2) - (1//6)*Cᵘ[1, 4]*(Δt^3) - (1//2)*Cᵘ[2, 3]*(Δt^2)*Δx - (1//2)*Cᵘ[3, 2]*Δt*(Δx^2) - (1//6)*Cᵘ[4, 1]*(Δx^3) + (1//24)*Cᵘ[1, 5]*(Δt^4) + (1//6)*Cᵘ[2, 4]*(Δt^3)*Δx + (1//4)*Cᵘ[3, 3]*(Δt^2)*(Δx^2) + (1//6)*Cᵘ[4, 2]*Δt*(Δx^3) + (1//24)*Cᵘ[5, 1]*(Δx^4) - (1//24)*Cᵘ[2, 5]*(Δt^4)*Δx - (1//12)*Cᵘ[3, 4]*(Δt^3)*(Δx^2) - (1//12)*Cᵘ[4, 3]*(Δt^2)*(Δx^3) - (1//24)*Cᵘ[5, 2]*Δt*(Δx^4) + (1//48)*Cᵘ[3, 5]*(Δt^4)*(Δx^2) + (1//36)*Cᵘ[4, 4]*(Δt^3)*(Δx^3) + (1//48)*Cᵘ[5, 3]*(Δt^2)*(Δx^4) - (1//144)*Cᵘ[4, 5]*(Δt^4)*(Δx^3) - (1//144)*Cᵘ[5, 4]*(Δt^3)*(Δx^4) + (1//576)*Cᵘ[5, 5]*(Δt^4)*(Δx^4)"
      ]
     },
     "metadata": {},
     "output_type": "display_data"
    },
    {
     "data": {
      "text/latex": [
       "$$ \\begin{equation}\n",
       "C^u_{1}ˏ_1 - C^u_{2}ˏ_1 {\\Delta}x + \\frac{1}{2} {\\Delta}x^{2} C^u_{3}ˏ_1 - \\frac{1}{6} {\\Delta}x^{3} C^u_{4}ˏ_1 + \\frac{1}{24} {\\Delta}x^{4} C^u_{5}ˏ_1\n",
       "\\end{equation}\n",
       " $$"
      ],
      "text/plain": [
       "Cᵘ[1, 1] - Cᵘ[2, 1]*Δx + (1//2)*Cᵘ[3, 1]*(Δx^2) - (1//6)*Cᵘ[4, 1]*(Δx^3) + (1//24)*Cᵘ[5, 1]*(Δx^4)"
      ]
     },
     "metadata": {},
     "output_type": "display_data"
    },
    {
     "data": {
      "text/latex": [
       "$$ \\begin{equation}\n",
       "C^u_{1}ˏ_1 + C^u_{1}ˏ_2 {\\Delta}t - C^u_{2}ˏ_1 {\\Delta}x + \\frac{1}{2} {\\Delta}t^{2} C^u_{1}ˏ_3 - C^u_{2}ˏ_2 {\\Delta}t {\\Delta}x + \\frac{1}{2} {\\Delta}x^{2} C^u_{3}ˏ_1 + \\frac{1}{6} {\\Delta}t^{3} C^u_{1}ˏ_4 - \\frac{1}{2} {\\Delta}t^{2} C^u_{2}ˏ_3 {\\Delta}x + \\frac{1}{2} {\\Delta}x^{2} C^u_{3}ˏ_2 {\\Delta}t - \\frac{1}{6} {\\Delta}x^{3} C^u_{4}ˏ_1 + \\frac{1}{24} {\\Delta}t^{4} C^u_{1}ˏ_5 - \\frac{1}{6} {\\Delta}t^{3} C^u_{2}ˏ_4 {\\Delta}x + \\frac{1}{4} {\\Delta}x^{2} {\\Delta}t^{2} C^u_{3}ˏ_3 - \\frac{1}{6} {\\Delta}x^{3} C^u_{4}ˏ_2 {\\Delta}t + \\frac{1}{24} {\\Delta}x^{4} C^u_{5}ˏ_1 - \\frac{1}{24} {\\Delta}t^{4} C^u_{2}ˏ_5 {\\Delta}x + \\frac{1}{12} {\\Delta}x^{2} {\\Delta}t^{3} C^u_{3}ˏ_4 - \\frac{1}{12} {\\Delta}x^{3} {\\Delta}t^{2} C^u_{4}ˏ_3 + \\frac{1}{24} {\\Delta}x^{4} C^u_{5}ˏ_2 {\\Delta}t + \\frac{1}{48} {\\Delta}x^{2} {\\Delta}t^{4} C^u_{3}ˏ_5 - \\frac{1}{36} {\\Delta}x^{3} {\\Delta}t^{3} C^u_{4}ˏ_4 + \\frac{1}{48} {\\Delta}x^{4} {\\Delta}t^{2} C^u_{5}ˏ_3 - \\frac{1}{144} {\\Delta}x^{3} {\\Delta}t^{4} C^u_{4}ˏ_5 + \\frac{1}{144} {\\Delta}x^{4} {\\Delta}t^{3} C^u_{5}ˏ_4 + \\frac{1}{576} {\\Delta}x^{4} {\\Delta}t^{4} C^u_{5}ˏ_5\n",
       "\\end{equation}\n",
       " $$"
      ],
      "text/plain": [
       "Cᵘ[1, 1] + Cᵘ[1, 2]*Δt - Cᵘ[2, 1]*Δx + (1//2)*Cᵘ[1, 3]*(Δt^2) - Cᵘ[2, 2]*Δt*Δx + (1//2)*Cᵘ[3, 1]*(Δx^2) + (1//6)*Cᵘ[1, 4]*(Δt^3) - (1//2)*Cᵘ[2, 3]*(Δt^2)*Δx + (1//2)*Cᵘ[3, 2]*Δt*(Δx^2) - (1//6)*Cᵘ[4, 1]*(Δx^3) + (1//24)*Cᵘ[1, 5]*(Δt^4) - (1//6)*Cᵘ[2, 4]*(Δt^3)*Δx + (1//4)*Cᵘ[3, 3]*(Δt^2)*(Δx^2) - (1//6)*Cᵘ[4, 2]*Δt*(Δx^3) + (1//24)*Cᵘ[5, 1]*(Δx^4) - (1//24)*Cᵘ[2, 5]*(Δt^4)*Δx + (1//12)*Cᵘ[3, 4]*(Δt^3)*(Δx^2) - (1//12)*Cᵘ[4, 3]*(Δt^2)*(Δx^3) + (1//24)*Cᵘ[5, 2]*Δt*(Δx^4) + (1//48)*Cᵘ[3, 5]*(Δt^4)*(Δx^2) - (1//36)*Cᵘ[4, 4]*(Δt^3)*(Δx^3) + (1//48)*Cᵘ[5, 3]*(Δt^2)*(Δx^4) - (1//144)*Cᵘ[4, 5]*(Δt^4)*(Δx^3) + (1//144)*Cᵘ[5, 4]*(Δt^3)*(Δx^4) + (1//576)*Cᵘ[5, 5]*(Δt^4)*(Δx^4)"
      ]
     },
     "metadata": {},
     "output_type": "display_data"
    },
    {
     "data": {
      "text/latex": [
       "$$ \\begin{equation}\n",
       "C^u_{1}ˏ_1 - C^u_{1}ˏ_2 {\\Delta}t + \\frac{1}{2} {\\Delta}t^{2} C^u_{1}ˏ_3 - \\frac{1}{6} {\\Delta}t^{3} C^u_{1}ˏ_4 + \\frac{1}{24} {\\Delta}t^{4} C^u_{1}ˏ_5\n",
       "\\end{equation}\n",
       " $$"
      ],
      "text/plain": [
       "Cᵘ[1, 1] - Cᵘ[1, 2]*Δt + (1//2)*Cᵘ[1, 3]*(Δt^2) - (1//6)*Cᵘ[1, 4]*(Δt^3) + (1//24)*Cᵘ[1, 5]*(Δt^4)"
      ]
     },
     "metadata": {},
     "output_type": "display_data"
    },
    {
     "data": {
      "text/latex": [
       "$$ \\begin{equation}\n",
       "C^u_{1}ˏ_1\n",
       "\\end{equation}\n",
       " $$"
      ],
      "text/plain": [
       "Cᵘ[1, 1]"
      ]
     },
     "metadata": {},
     "output_type": "display_data"
    },
    {
     "data": {
      "text/latex": [
       "$$ \\begin{equation}\n",
       "C^u_{1}ˏ_1 + C^u_{1}ˏ_2 {\\Delta}t + \\frac{1}{2} {\\Delta}t^{2} C^u_{1}ˏ_3 + \\frac{1}{6} {\\Delta}t^{3} C^u_{1}ˏ_4 + \\frac{1}{24} {\\Delta}t^{4} C^u_{1}ˏ_5\n",
       "\\end{equation}\n",
       " $$"
      ],
      "text/plain": [
       "Cᵘ[1, 1] + Cᵘ[1, 2]*Δt + (1//2)*Cᵘ[1, 3]*(Δt^2) + (1//6)*Cᵘ[1, 4]*(Δt^3) + (1//24)*Cᵘ[1, 5]*(Δt^4)"
      ]
     },
     "metadata": {},
     "output_type": "display_data"
    },
    {
     "data": {
      "text/latex": [
       "$$ \\begin{equation}\n",
       "C^u_{1}ˏ_1 - C^u_{1}ˏ_2 {\\Delta}t + C^u_{2}ˏ_1 {\\Delta}x + \\frac{1}{2} {\\Delta}t^{2} C^u_{1}ˏ_3 - C^u_{2}ˏ_2 {\\Delta}t {\\Delta}x + \\frac{1}{2} {\\Delta}x^{2} C^u_{3}ˏ_1 - \\frac{1}{6} {\\Delta}t^{3} C^u_{1}ˏ_4 + \\frac{1}{2} {\\Delta}t^{2} C^u_{2}ˏ_3 {\\Delta}x - \\frac{1}{2} {\\Delta}x^{2} C^u_{3}ˏ_2 {\\Delta}t + \\frac{1}{6} {\\Delta}x^{3} C^u_{4}ˏ_1 + \\frac{1}{24} {\\Delta}t^{4} C^u_{1}ˏ_5 - \\frac{1}{6} {\\Delta}t^{3} C^u_{2}ˏ_4 {\\Delta}x + \\frac{1}{4} {\\Delta}x^{2} {\\Delta}t^{2} C^u_{3}ˏ_3 - \\frac{1}{6} {\\Delta}x^{3} C^u_{4}ˏ_2 {\\Delta}t + \\frac{1}{24} {\\Delta}x^{4} C^u_{5}ˏ_1 + \\frac{1}{24} {\\Delta}t^{4} C^u_{2}ˏ_5 {\\Delta}x - \\frac{1}{12} {\\Delta}x^{2} {\\Delta}t^{3} C^u_{3}ˏ_4 + \\frac{1}{12} {\\Delta}x^{3} {\\Delta}t^{2} C^u_{4}ˏ_3 - \\frac{1}{24} {\\Delta}x^{4} C^u_{5}ˏ_2 {\\Delta}t + \\frac{1}{48} {\\Delta}x^{2} {\\Delta}t^{4} C^u_{3}ˏ_5 - \\frac{1}{36} {\\Delta}x^{3} {\\Delta}t^{3} C^u_{4}ˏ_4 + \\frac{1}{48} {\\Delta}x^{4} {\\Delta}t^{2} C^u_{5}ˏ_3 + \\frac{1}{144} {\\Delta}x^{3} {\\Delta}t^{4} C^u_{4}ˏ_5 - \\frac{1}{144} {\\Delta}x^{4} {\\Delta}t^{3} C^u_{5}ˏ_4 + \\frac{1}{576} {\\Delta}x^{4} {\\Delta}t^{4} C^u_{5}ˏ_5\n",
       "\\end{equation}\n",
       " $$"
      ],
      "text/plain": [
       "Cᵘ[1, 1] - Cᵘ[1, 2]*Δt + Cᵘ[2, 1]*Δx + (1//2)*Cᵘ[1, 3]*(Δt^2) - Cᵘ[2, 2]*Δt*Δx + (1//2)*Cᵘ[3, 1]*(Δx^2) - (1//6)*Cᵘ[1, 4]*(Δt^3) + (1//2)*Cᵘ[2, 3]*(Δt^2)*Δx - (1//2)*Cᵘ[3, 2]*Δt*(Δx^2) + (1//6)*Cᵘ[4, 1]*(Δx^3) + (1//24)*Cᵘ[1, 5]*(Δt^4) - (1//6)*Cᵘ[2, 4]*(Δt^3)*Δx + (1//4)*Cᵘ[3, 3]*(Δt^2)*(Δx^2) - (1//6)*Cᵘ[4, 2]*Δt*(Δx^3) + (1//24)*Cᵘ[5, 1]*(Δx^4) + (1//24)*Cᵘ[2, 5]*(Δt^4)*Δx - (1//12)*Cᵘ[3, 4]*(Δt^3)*(Δx^2) + (1//12)*Cᵘ[4, 3]*(Δt^2)*(Δx^3) - (1//24)*Cᵘ[5, 2]*Δt*(Δx^4) + (1//48)*Cᵘ[3, 5]*(Δt^4)*(Δx^2) - (1//36)*Cᵘ[4, 4]*(Δt^3)*(Δx^3) + (1//48)*Cᵘ[5, 3]*(Δt^2)*(Δx^4) + (1//144)*Cᵘ[4, 5]*(Δt^4)*(Δx^3) - (1//144)*Cᵘ[5, 4]*(Δt^3)*(Δx^4) + (1//576)*Cᵘ[5, 5]*(Δt^4)*(Δx^4)"
      ]
     },
     "metadata": {},
     "output_type": "display_data"
    },
    {
     "data": {
      "text/latex": [
       "$$ \\begin{equation}\n",
       "C^u_{1}ˏ_1 + C^u_{2}ˏ_1 {\\Delta}x + \\frac{1}{2} {\\Delta}x^{2} C^u_{3}ˏ_1 + \\frac{1}{6} {\\Delta}x^{3} C^u_{4}ˏ_1 + \\frac{1}{24} {\\Delta}x^{4} C^u_{5}ˏ_1\n",
       "\\end{equation}\n",
       " $$"
      ],
      "text/plain": [
       "Cᵘ[1, 1] + Cᵘ[2, 1]*Δx + (1//2)*Cᵘ[3, 1]*(Δx^2) + (1//6)*Cᵘ[4, 1]*(Δx^3) + (1//24)*Cᵘ[5, 1]*(Δx^4)"
      ]
     },
     "metadata": {},
     "output_type": "display_data"
    },
    {
     "data": {
      "text/latex": [
       "$$ \\begin{equation}\n",
       "C^u_{1}ˏ_1 + C^u_{1}ˏ_2 {\\Delta}t + C^u_{2}ˏ_1 {\\Delta}x + \\frac{1}{2} {\\Delta}t^{2} C^u_{1}ˏ_3 + C^u_{2}ˏ_2 {\\Delta}t {\\Delta}x + \\frac{1}{2} {\\Delta}x^{2} C^u_{3}ˏ_1 + \\frac{1}{6} {\\Delta}t^{3} C^u_{1}ˏ_4 + \\frac{1}{2} {\\Delta}t^{2} C^u_{2}ˏ_3 {\\Delta}x + \\frac{1}{2} {\\Delta}x^{2} C^u_{3}ˏ_2 {\\Delta}t + \\frac{1}{6} {\\Delta}x^{3} C^u_{4}ˏ_1 + \\frac{1}{24} {\\Delta}t^{4} C^u_{1}ˏ_5 + \\frac{1}{6} {\\Delta}t^{3} C^u_{2}ˏ_4 {\\Delta}x + \\frac{1}{4} {\\Delta}x^{2} {\\Delta}t^{2} C^u_{3}ˏ_3 + \\frac{1}{6} {\\Delta}x^{3} C^u_{4}ˏ_2 {\\Delta}t + \\frac{1}{24} {\\Delta}x^{4} C^u_{5}ˏ_1 + \\frac{1}{24} {\\Delta}t^{4} C^u_{2}ˏ_5 {\\Delta}x + \\frac{1}{12} {\\Delta}x^{2} {\\Delta}t^{3} C^u_{3}ˏ_4 + \\frac{1}{12} {\\Delta}x^{3} {\\Delta}t^{2} C^u_{4}ˏ_3 + \\frac{1}{24} {\\Delta}x^{4} C^u_{5}ˏ_2 {\\Delta}t + \\frac{1}{48} {\\Delta}x^{2} {\\Delta}t^{4} C^u_{3}ˏ_5 + \\frac{1}{36} {\\Delta}x^{3} {\\Delta}t^{3} C^u_{4}ˏ_4 + \\frac{1}{48} {\\Delta}x^{4} {\\Delta}t^{2} C^u_{5}ˏ_3 + \\frac{1}{144} {\\Delta}x^{3} {\\Delta}t^{4} C^u_{4}ˏ_5 + \\frac{1}{144} {\\Delta}x^{4} {\\Delta}t^{3} C^u_{5}ˏ_4 + \\frac{1}{576} {\\Delta}x^{4} {\\Delta}t^{4} C^u_{5}ˏ_5\n",
       "\\end{equation}\n",
       " $$"
      ],
      "text/plain": [
       "Cᵘ[1, 1] + Cᵘ[1, 2]*Δt + Cᵘ[2, 1]*Δx + (1//2)*Cᵘ[1, 3]*(Δt^2) + Cᵘ[2, 2]*Δt*Δx + (1//2)*Cᵘ[3, 1]*(Δx^2) + (1//6)*Cᵘ[1, 4]*(Δt^3) + (1//2)*Cᵘ[2, 3]*(Δt^2)*Δx + (1//2)*Cᵘ[3, 2]*Δt*(Δx^2) + (1//6)*Cᵘ[4, 1]*(Δx^3) + (1//24)*Cᵘ[1, 5]*(Δt^4) + (1//6)*Cᵘ[2, 4]*(Δt^3)*Δx + (1//4)*Cᵘ[3, 3]*(Δt^2)*(Δx^2) + (1//6)*Cᵘ[4, 2]*Δt*(Δx^3) + (1//24)*Cᵘ[5, 1]*(Δx^4) + (1//24)*Cᵘ[2, 5]*(Δt^4)*Δx + (1//12)*Cᵘ[3, 4]*(Δt^3)*(Δx^2) + (1//12)*Cᵘ[4, 3]*(Δt^2)*(Δx^3) + (1//24)*Cᵘ[5, 2]*Δt*(Δx^4) + (1//48)*Cᵘ[3, 5]*(Δt^4)*(Δx^2) + (1//36)*Cᵘ[4, 4]*(Δt^3)*(Δx^3) + (1//48)*Cᵘ[5, 3]*(Δt^2)*(Δx^4) + (1//144)*Cᵘ[4, 5]*(Δt^4)*(Δx^3) + (1//144)*Cᵘ[5, 4]*(Δt^3)*(Δx^4) + (1//576)*Cᵘ[5, 5]*(Δt^4)*(Δx^4)"
      ]
     },
     "metadata": {},
     "output_type": "display_data"
    },
    {
     "data": {
      "text/latex": [
       "$$ \\begin{equation}\n",
       "\\frac{1}{12} {\\Delta}t^{3} C^u_{3}ˏ_3 {\\Delta}x \\mu_o - \\frac{1}{12} {\\Delta}x^{3} C^u_{3}ˏ_3 {\\Delta}t \\rho_o + \\frac{1}{360} {\\Delta}t^{5} C^u_{3}ˏ_5 {\\Delta}x \\mu_o - \\frac{1}{144} {\\Delta}x^{3} {\\Delta}t^{3} C^u_{3}ˏ_5 \\rho_o + \\frac{1}{144} {\\Delta}x^{3} {\\Delta}t^{3} C^u_{5}ˏ_3 \\mu_o - \\frac{1}{360} {\\Delta}x^{5} C^u_{5}ˏ_3 {\\Delta}t \\rho_o + \\frac{1}{4320} {\\Delta}x^{3} {\\Delta}t^{5} C^u_{5}ˏ_5 \\mu_o - \\frac{1}{4320} {\\Delta}x^{5} {\\Delta}t^{3} C^u_{5}ˏ_5 \\rho_o\n",
       "\\end{equation}\n",
       " $$"
      ],
      "text/plain": [
       "(1//12)*Cᵘ[3, 3]*(Δt^3)*Δx*μₒ - (1//12)*Cᵘ[3, 3]*Δt*(Δx^3)*ρₒ + (1//360)*Cᵘ[3, 5]*(Δt^5)*Δx*μₒ - (1//144)*Cᵘ[3, 5]*(Δt^3)*(Δx^3)*ρₒ + (1//144)*Cᵘ[5, 3]*(Δt^3)*(Δx^3)*μₒ - (1//360)*Cᵘ[5, 3]*Δt*(Δx^5)*ρₒ + (1//4320)*Cᵘ[5, 5]*(Δt^5)*(Δx^3)*μₒ - (1//4320)*Cᵘ[5, 5]*(Δt^3)*(Δx^5)*ρₒ"
      ]
     },
     "metadata": {},
     "output_type": "display_data"
    },
    {
     "data": {
      "text/latex": [
       "$$ \\begin{equation}\n",
       "\\frac{1}{12} {\\Delta}t^{3} C^u_{3}ˏ_3 {\\Delta}x \\mu_o - \\frac{1}{12} {\\Delta}x^{3} C^u_{3}ˏ_3 {\\Delta}t \\rho_o - \\frac{1}{144} {\\Delta}x^{3} {\\Delta}t^{3} C^u_{3}ˏ_5 \\rho_o + \\frac{1}{144} {\\Delta}x^{3} {\\Delta}t^{3} C^u_{5}ˏ_3 \\mu_o\n",
       "\\end{equation}\n",
       " $$"
      ],
      "text/plain": [
       "(1//12)*Cᵘ[3, 3]*(Δt^3)*Δx*μₒ - (1//12)*Cᵘ[3, 3]*Δt*(Δx^3)*ρₒ - (1//144)*Cᵘ[3, 5]*(Δt^3)*(Δx^3)*ρₒ + (1//144)*Cᵘ[5, 3]*(Δt^3)*(Δx^3)*μₒ"
      ]
     },
     "metadata": {},
     "output_type": "display_data"
    }
   ],
   "source": [
    "\n",
    "A_classic.=0\n",
    "A_classic[2,1]=ρₒ//Δt^2\n",
    "A_classic[2,2]=-2*ρₒ//Δt^2 + 2*μₒ//(Δx^2)\n",
    "A_classic[2,3]=ρₒ//Δt^2\n",
    "\n",
    "A_classic[1,2] = -μₒ//(Δx^2)\n",
    "A_classic[3,2] = -μₒ//(Δx^2)\n",
    "\n",
    "A_classic=A_classic*Δx*Δt\n",
    "\n",
    "for i¹ in 1:L₁ₗ+L₁ᵣ+1\n",
    "    for iᵗ in 1:Lₜₗ+Lₜᵣ+1\n",
    "        display(simplify(A_classic[i¹,iᵗ];expand=true))\n",
    "    end\n",
    "end\n",
    "\n",
    "innerProduct=0\n",
    "for i¹ in 1:L₁ₗ+L₁ᵣ+1\n",
    "    dx¹=Δx*(i¹-L₁ₗ-1)\n",
    "    for iᵗ in 1:Lₜₗ+Lₜᵣ+1\n",
    "        dt = Δt*(iᵗ-Lₜₗ-1)\n",
    "        innerProduct+=A_classic[i¹,iᵗ]*u(dx¹,dt)\n",
    "        display(u(dx¹,dt))\n",
    "    end\n",
    "end\n",
    "differenceC=simplify(innerProduct-desired_value_in_time,expand=true)\n",
    "display(differenceC)\n",
    "truncated_differenceC=ignoreHigherOrderTerms(differenceC,Δx,3)\n",
    "truncated_differenceC=ignoreHigherOrderTerms(truncated_differenceC,Δt,3)\n",
    "display(truncated_differenceC)"
   ]
  },
  {
   "cell_type": "markdown",
   "metadata": {},
   "source": [
    "Don't be fooled by this bizarre denominators in $A_{mn}$. $A \\mathbf{u} = \\mathbf{F}$ with $\\mathbf{u}$ discretised displacements whereas $\\mathbf{F}$ is $\\int dt \\int dx f(x,t) \\phi(x) \\psi(t)$ which has $\\Delta x \\Delta x$ factor."
   ]
  },
  {
   "cell_type": "markdown",
   "metadata": {},
   "source": [
    "# Challenge : heterogeneous medium\n"
   ]
  },
  {
   "cell_type": "code",
   "execution_count": 79,
   "metadata": {},
   "outputs": [
    {
     "data": {
      "text/latex": [
       "$$ \\begin{equation}\n",
       "\\frac{ - X^{2} \\rho_{m 0} + \\frac{1}{2} X^{2} \\rho_{m 1} + \\frac{1}{2} X^{2} \\rho_{m - 1} + \\frac{1}{2} X {\\Delta}x \\rho_{m 1} - \\frac{1}{2} X {\\Delta}x \\rho_{m - 1} + {\\Delta}x^{2} \\rho_{m 0}}{{\\Delta}x^{2}}\n",
       "\\end{equation}\n",
       " $$"
      ],
      "text/plain": [
       "(-(X^2)*ρₘ₀ + (1//2)*(X^2)*ρₘ₁ + (1//2)*(X^2)*ρₘ₋₁ + (1//2)*X*Δx*ρₘ₁ - (1//2)*X*Δx*ρₘ₋₁ + (Δx^2)*ρₘ₀) / (Δx^2)"
      ]
     },
     "metadata": {},
     "output_type": "display_data"
    },
    {
     "data": {
      "text/latex": [
       "$$ \\begin{equation}\n",
       "\\frac{ - X^{2} \\mu_{m 0} + \\frac{1}{2} X^{2} \\mu_{m 1} + \\frac{1}{2} X^{2} \\mu_{m - 1} + \\frac{1}{2} X {\\Delta}x \\mu_{m 1} - \\frac{1}{2} X {\\Delta}x \\mu_{m - 1} + {\\Delta}x^{2} \\mu_{m 0}}{{\\Delta}x^{2}}\n",
       "\\end{equation}\n",
       " $$"
      ],
      "text/plain": [
       "(-(X^2)*μₘ₀ + (1//2)*(X^2)*μₘ₁ + (1//2)*(X^2)*μₘ₋₁ + (1//2)*X*Δx*μₘ₁ - (1//2)*X*Δx*μₘ₋₁ + (Δx^2)*μₘ₀) / (Δx^2)"
      ]
     },
     "metadata": {},
     "output_type": "display_data"
    }
   ],
   "source": [
    "display(newρ(X)|>simplify)\n",
    "display(newμ(X)|>simplify)"
   ]
  },
  {
   "cell_type": "code",
   "execution_count": null,
   "metadata": {},
   "outputs": [],
   "source": [
    "newρ(X)= ρₘ[2]+X/2/Δx*(ρₘ[3]-ρₘ[1])\n",
    "newμ(X)=μₘ[2]+X/2/Δx*(μₘ[3]-μₘ[1])\n"
   ]
  },
  {
   "cell_type": "code",
   "execution_count": 80,
   "metadata": {},
   "outputs": [
    {
     "data": {
      "text/latex": [
       "$$ \\begin{equation}\n",
       "\\frac{ - X^{2} C^u_{1}ˏ_3 \\rho_{m 0} + \\frac{1}{2} X^{2} C^u_{1}ˏ_3 \\rho_{m 1} + \\frac{1}{2} X^{2} C^u_{1}ˏ_3 \\rho_{m - 1} + \\frac{1}{2} C^u_{1}ˏ_3 X {\\Delta}x \\rho_{m 1} - \\frac{1}{2} C^u_{1}ˏ_3 X {\\Delta}x \\rho_{m - 1} + {\\Delta}x^{2} C^u_{1}ˏ_3 \\rho_{m 0} - X^{2} C^u_{1}ˏ_4 T \\rho_{m 0} + \\frac{1}{2} X^{2} C^u_{1}ˏ_4 T \\rho_{m 1} + \\frac{1}{2} X^{2} C^u_{1}ˏ_4 T \\rho_{m - 1} + \\frac{1}{2} C^u_{1}ˏ_4 T X {\\Delta}x \\rho_{m 1} - \\frac{1}{2} C^u_{1}ˏ_4 T X {\\Delta}x \\rho_{m - 1} + {\\Delta}x^{2} C^u_{1}ˏ_4 T \\rho_{m 0} - X^{3} C^u_{2}ˏ_3 \\rho_{m 0} + \\frac{1}{2} X^{3} C^u_{2}ˏ_3 \\rho_{m 1} + \\frac{1}{2} X^{3} C^u_{2}ˏ_3 \\rho_{m - 1} + \\frac{1}{2} X^{2} C^u_{2}ˏ_3 {\\Delta}x \\rho_{m 1} - \\frac{1}{2} X^{2} C^u_{2}ˏ_3 {\\Delta}x \\rho_{m - 1} + {\\Delta}x^{2} C^u_{2}ˏ_3 X \\rho_{m 0} - \\frac{1}{2} X^{2} T^{2} C^u_{1}ˏ_5 \\rho_{m 0} + \\frac{1}{4} X^{2} T^{2} C^u_{1}ˏ_5 \\rho_{m 1} + \\frac{1}{4} X^{2} T^{2} C^u_{1}ˏ_5 \\rho_{m - 1} + \\frac{1}{4} T^{2} C^u_{1}ˏ_5 X {\\Delta}x \\rho_{m 1} - \\frac{1}{4} T^{2} C^u_{1}ˏ_5 X {\\Delta}x \\rho_{m - 1} + \\frac{1}{2} {\\Delta}x^{2} T^{2} C^u_{1}ˏ_5 \\rho_{m 0} - X^{3} C^u_{2}ˏ_4 T \\rho_{m 0} + \\frac{1}{2} X^{3} C^u_{2}ˏ_4 T \\rho_{m 1} + \\frac{1}{2} X^{3} C^u_{2}ˏ_4 T \\rho_{m - 1} + \\frac{1}{2} X^{2} C^u_{2}ˏ_4 T {\\Delta}x \\rho_{m 1} - \\frac{1}{2} X^{2} C^u_{2}ˏ_4 T {\\Delta}x \\rho_{m - 1} + {\\Delta}x^{2} C^u_{2}ˏ_4 T X \\rho_{m 0} - \\frac{1}{2} X^{4} C^u_{3}ˏ_3 \\rho_{m 0} + \\frac{1}{4} X^{4} C^u_{3}ˏ_3 \\rho_{m 1} + \\frac{1}{4} X^{4} C^u_{3}ˏ_3 \\rho_{m - 1} + \\frac{1}{4} X^{3} C^u_{3}ˏ_3 {\\Delta}x \\rho_{m 1} - \\frac{1}{4} X^{3} C^u_{3}ˏ_3 {\\Delta}x \\rho_{m - 1} + \\frac{1}{2} {\\Delta}x^{2} X^{2} C^u_{3}ˏ_3 \\rho_{m 0} - \\frac{1}{2} X^{3} T^{2} C^u_{2}ˏ_5 \\rho_{m 0} + \\frac{1}{4} X^{3} T^{2} C^u_{2}ˏ_5 \\rho_{m 1} + \\frac{1}{4} X^{3} T^{2} C^u_{2}ˏ_5 \\rho_{m - 1} + \\frac{1}{4} X^{2} T^{2} C^u_{2}ˏ_5 {\\Delta}x \\rho_{m 1} - \\frac{1}{4} X^{2} T^{2} C^u_{2}ˏ_5 {\\Delta}x \\rho_{m - 1} + \\frac{1}{2} {\\Delta}x^{2} T^{2} C^u_{2}ˏ_5 X \\rho_{m 0} - \\frac{1}{2} X^{4} C^u_{3}ˏ_4 T \\rho_{m 0} + \\frac{1}{4} X^{4} C^u_{3}ˏ_4 T \\rho_{m 1} + \\frac{1}{4} X^{4} C^u_{3}ˏ_4 T \\rho_{m - 1} + \\frac{1}{4} X^{3} C^u_{3}ˏ_4 T {\\Delta}x \\rho_{m 1} - \\frac{1}{4} X^{3} C^u_{3}ˏ_4 T {\\Delta}x \\rho_{m - 1} + \\frac{1}{2} {\\Delta}x^{2} X^{2} C^u_{3}ˏ_4 T \\rho_{m 0} - \\frac{1}{6} X^{5} C^u_{4}ˏ_3 \\rho_{m 0} + \\frac{1}{12} X^{5} C^u_{4}ˏ_3 \\rho_{m 1} + \\frac{1}{12} X^{5} C^u_{4}ˏ_3 \\rho_{m - 1} + \\frac{1}{12} X^{4} C^u_{4}ˏ_3 {\\Delta}x \\rho_{m 1} - \\frac{1}{12} X^{4} C^u_{4}ˏ_3 {\\Delta}x \\rho_{m - 1} + \\frac{1}{6} {\\Delta}x^{2} X^{3} C^u_{4}ˏ_3 \\rho_{m 0} - \\frac{1}{4} X^{4} T^{2} C^u_{3}ˏ_5 \\rho_{m 0} + \\frac{1}{8} X^{4} T^{2} C^u_{3}ˏ_5 \\rho_{m 1} + \\frac{1}{8} X^{4} T^{2} C^u_{3}ˏ_5 \\rho_{m - 1} + \\frac{1}{8} X^{3} T^{2} C^u_{3}ˏ_5 {\\Delta}x \\rho_{m 1} - \\frac{1}{8} X^{3} T^{2} C^u_{3}ˏ_5 {\\Delta}x \\rho_{m - 1} + \\frac{1}{4} {\\Delta}x^{2} X^{2} T^{2} C^u_{3}ˏ_5 \\rho_{m 0} - \\frac{1}{6} X^{5} C^u_{4}ˏ_4 T \\rho_{m 0} + \\frac{1}{12} X^{5} C^u_{4}ˏ_4 T \\rho_{m 1} + \\frac{1}{12} X^{5} C^u_{4}ˏ_4 T \\rho_{m - 1} + \\frac{1}{12} X^{4} C^u_{4}ˏ_4 T {\\Delta}x \\rho_{m 1} - \\frac{1}{12} X^{4} C^u_{4}ˏ_4 T {\\Delta}x \\rho_{m - 1} + \\frac{1}{6} {\\Delta}x^{2} X^{3} C^u_{4}ˏ_4 T \\rho_{m 0} - \\frac{1}{24} X^{6} C^u_{5}ˏ_3 \\rho_{m 0} + \\frac{1}{48} X^{6} C^u_{5}ˏ_3 \\rho_{m 1} + \\frac{1}{48} X^{6} C^u_{5}ˏ_3 \\rho_{m - 1} + \\frac{1}{48} X^{5} C^u_{5}ˏ_3 {\\Delta}x \\rho_{m 1} - \\frac{1}{48} X^{5} C^u_{5}ˏ_3 {\\Delta}x \\rho_{m - 1} + \\frac{1}{24} {\\Delta}x^{2} X^{4} C^u_{5}ˏ_3 \\rho_{m 0} - \\frac{1}{12} X^{5} T^{2} C^u_{4}ˏ_5 \\rho_{m 0} + \\frac{1}{24} X^{5} T^{2} C^u_{4}ˏ_5 \\rho_{m 1} + \\frac{1}{24} X^{5} T^{2} C^u_{4}ˏ_5 \\rho_{m - 1} + \\frac{1}{24} X^{4} T^{2} C^u_{4}ˏ_5 {\\Delta}x \\rho_{m 1} - \\frac{1}{24} X^{4} T^{2} C^u_{4}ˏ_5 {\\Delta}x \\rho_{m - 1} + \\frac{1}{12} {\\Delta}x^{2} X^{3} T^{2} C^u_{4}ˏ_5 \\rho_{m 0} - \\frac{1}{24} X^{6} C^u_{5}ˏ_4 T \\rho_{m 0} + \\frac{1}{48} X^{6} C^u_{5}ˏ_4 T \\rho_{m 1} + \\frac{1}{48} X^{6} C^u_{5}ˏ_4 T \\rho_{m - 1} + \\frac{1}{48} X^{5} C^u_{5}ˏ_4 T {\\Delta}x \\rho_{m 1} - \\frac{1}{48} X^{5} C^u_{5}ˏ_4 T {\\Delta}x \\rho_{m - 1} + \\frac{1}{24} {\\Delta}x^{2} X^{4} C^u_{5}ˏ_4 T \\rho_{m 0} - \\frac{1}{48} X^{6} T^{2} C^u_{5}ˏ_5 \\rho_{m 0} + \\frac{1}{96} X^{6} T^{2} C^u_{5}ˏ_5 \\rho_{m 1} + \\frac{1}{96} X^{6} T^{2} C^u_{5}ˏ_5 \\rho_{m - 1} + \\frac{1}{96} X^{5} T^{2} C^u_{5}ˏ_5 {\\Delta}x \\rho_{m 1} - \\frac{1}{96} X^{5} T^{2} C^u_{5}ˏ_5 {\\Delta}x \\rho_{m - 1} + \\frac{1}{48} {\\Delta}x^{2} X^{4} T^{2} C^u_{5}ˏ_5 \\rho_{m 0}}{{\\Delta}x^{2}}\n",
       "\\end{equation}\n",
       " $$"
      ],
      "text/plain": [
       "(-Cᵘ[1, 3]*(X^2)*ρₘ₀ + (1//2)*Cᵘ[1, 3]*(X^2)*ρₘ₁ + (1//2)*Cᵘ[1, 3]*(X^2)*ρₘ₋₁ + (1//2)*Cᵘ[1, 3]*X*Δx*ρₘ₁ - (1//2)*Cᵘ[1, 3]*X*Δx*ρₘ₋₁ + Cᵘ[1, 3]*(Δx^2)*ρₘ₀ - Cᵘ[1, 4]*T*(X^2)*ρₘ₀ + (1//2)*Cᵘ[1, 4]*T*(X^2)*ρₘ₁ + (1//2)*Cᵘ[1, 4]*T*(X^2)*ρₘ₋₁ + (1//2)*Cᵘ[1, 4]*T*X*Δx*ρₘ₁ - (1//2)*Cᵘ[1, 4]*T*X*Δx*ρₘ₋₁ + Cᵘ[1, 4]*T*(Δx^2)*ρₘ₀ - Cᵘ[2, 3]*(X^3)*ρₘ₀ + (1//2)*Cᵘ[2, 3]*(X^3)*ρₘ₁ + (1//2)*Cᵘ[2, 3]*(X^3)*ρₘ₋₁ + (1//2)*Cᵘ[2, 3]*(X^2)*Δx*ρₘ₁ - (1//2)*Cᵘ[2, 3]*(X^2)*Δx*ρₘ₋₁ + Cᵘ[2, 3]*X*(Δx^2)*ρₘ₀ - (1//2)*Cᵘ[1, 5]*(T^2)*(X^2)*ρₘ₀ + (1//4)*Cᵘ[1, 5]*(T^2)*(X^2)*ρₘ₁ + (1//4)*Cᵘ[1, 5]*(T^2)*(X^2)*ρₘ₋₁ + (1//4)*Cᵘ[1, 5]*(T^2)*X*Δx*ρₘ₁ - (1//4)*Cᵘ[1, 5]*(T^2)*X*Δx*ρₘ₋₁ + (1//2)*Cᵘ[1, 5]*(T^2)*(Δx^2)*ρₘ₀ - Cᵘ[2, 4]*T*(X^3)*ρₘ₀ + (1//2)*Cᵘ[2, 4]*T*(X^3)*ρₘ₁ + (1//2)*Cᵘ[2, 4]*T*(X^3)*ρₘ₋₁ + (1//2)*Cᵘ[2, 4]*T*(X^2)*Δx*ρₘ₁ - (1//2)*Cᵘ[2, 4]*T*(X^2)*Δx*ρₘ₋₁ + Cᵘ[2, 4]*T*X*(Δx^2)*ρₘ₀ - (1//2)*Cᵘ[3, 3]*(X^4)*ρₘ₀ + (1//4)*Cᵘ[3, 3]*(X^4)*ρₘ₁ + (1//4)*Cᵘ[3, 3]*(X^4)*ρₘ₋₁ + (1//4)*Cᵘ[3, 3]*(X^3)*Δx*ρₘ₁ - (1//4)*Cᵘ[3, 3]*(X^3)*Δx*ρₘ₋₁ + (1//2)*Cᵘ[3, 3]*(X^2)*(Δx^2)*ρₘ₀ - (1//2)*Cᵘ[2, 5]*(T^2)*(X^3)*ρₘ₀ + (1//4)*Cᵘ[2, 5]*(T^2)*(X^3)*ρₘ₁ + (1//4)*Cᵘ[2, 5]*(T^2)*(X^3)*ρₘ₋₁ + (1//4)*Cᵘ[2, 5]*(T^2)*(X^2)*Δx*ρₘ₁ - (1//4)*Cᵘ[2, 5]*(T^2)*(X^2)*Δx*ρₘ₋₁ + (1//2)*Cᵘ[2, 5]*(T^2)*X*(Δx^2)*ρₘ₀ - (1//2)*Cᵘ[3, 4]*T*(X^4)*ρₘ₀ + (1//4)*Cᵘ[3, 4]*T*(X^4)*ρₘ₁ + (1//4)*Cᵘ[3, 4]*T*(X^4)*ρₘ₋₁ + (1//4)*Cᵘ[3, 4]*T*(X^3)*Δx*ρₘ₁ - (1//4)*Cᵘ[3, 4]*T*(X^3)*Δx*ρₘ₋₁ + (1//2)*Cᵘ[3, 4]*T*(X^2)*(Δx^2)*ρₘ₀ - (1//6)*Cᵘ[4, 3]*(X^5)*ρₘ₀ + (1//12)*Cᵘ[4, 3]*(X^5)*ρₘ₁ + (1//12)*Cᵘ[4, 3]*(X^5)*ρₘ₋₁ + (1//12)*Cᵘ[4, 3]*(X^4)*Δx*ρₘ₁ - (1//12)*Cᵘ[4, 3]*(X^4)*Δx*ρₘ₋₁ + (1//6)*Cᵘ[4, 3]*(X^3)*(Δx^2)*ρₘ₀ - (1//4)*Cᵘ[3, 5]*(T^2)*(X^4)*ρₘ₀ + (1//8)*Cᵘ[3, 5]*(T^2)*(X^4)*ρₘ₁ + (1//8)*Cᵘ[3, 5]*(T^2)*(X^4)*ρₘ₋₁ + (1//8)*Cᵘ[3, 5]*(T^2)*(X^3)*Δx*ρₘ₁ - (1//8)*Cᵘ[3, 5]*(T^2)*(X^3)*Δx*ρₘ₋₁ + (1//4)*Cᵘ[3, 5]*(T^2)*(X^2)*(Δx^2)*ρₘ₀ - (1//6)*Cᵘ[4, 4]*T*(X^5)*ρₘ₀ + (1//12)*Cᵘ[4, 4]*T*(X^5)*ρₘ₁ + (1//12)*Cᵘ[4, 4]*T*(X^5)*ρₘ₋₁ + (1//12)*Cᵘ[4, 4]*T*(X^4)*Δx*ρₘ₁ - (1//12)*Cᵘ[4, 4]*T*(X^4)*Δx*ρₘ₋₁ + (1//6)*Cᵘ[4, 4]*T*(X^3)*(Δx^2)*ρₘ₀ - (1//24)*Cᵘ[5, 3]*(X^6)*ρₘ₀ + (1//48)*Cᵘ[5, 3]*(X^6)*ρₘ₁ + (1//48)*Cᵘ[5, 3]*(X^6)*ρₘ₋₁ + (1//48)*Cᵘ[5, 3]*(X^5)*Δx*ρₘ₁ - (1//48)*Cᵘ[5, 3]*(X^5)*Δx*ρₘ₋₁ + (1//24)*Cᵘ[5, 3]*(X^4)*(Δx^2)*ρₘ₀ - (1//12)*Cᵘ[4, 5]*(T^2)*(X^5)*ρₘ₀ + (1//24)*Cᵘ[4, 5]*(T^2)*(X^5)*ρₘ₁ + (1//24)*Cᵘ[4, 5]*(T^2)*(X^5)*ρₘ₋₁ + (1//24)*Cᵘ[4, 5]*(T^2)*(X^4)*Δx*ρₘ₁ - (1//24)*Cᵘ[4, 5]*(T^2)*(X^4)*Δx*ρₘ₋₁ + (1//12)*Cᵘ[4, 5]*(T^2)*(X^3)*(Δx^2)*ρₘ₀ - (1//24)*Cᵘ[5, 4]*T*(X^6)*ρₘ₀ + (1//48)*Cᵘ[5, 4]*T*(X^6)*ρₘ₁ + (1//48)*Cᵘ[5, 4]*T*(X^6)*ρₘ₋₁ + (1//48)*Cᵘ[5, 4]*T*(X^5)*Δx*ρₘ₁ - (1//48)*Cᵘ[5, 4]*T*(X^5)*Δx*ρₘ₋₁ + (1//24)*Cᵘ[5, 4]*T*(X^4)*(Δx^2)*ρₘ₀ - (1//48)*Cᵘ[5, 5]*(T^2)*(X^6)*ρₘ₀ + (1//96)*Cᵘ[5, 5]*(T^2)*(X^6)*ρₘ₁ + (1//96)*Cᵘ[5, 5]*(T^2)*(X^6)*ρₘ₋₁ + (1//96)*Cᵘ[5, 5]*(T^2)*(X^5)*Δx*ρₘ₁ - (1//96)*Cᵘ[5, 5]*(T^2)*(X^5)*Δx*ρₘ₋₁ + (1//48)*Cᵘ[5, 5]*(T^2)*(X^4)*(Δx^2)*ρₘ₀) / (Δx^2)"
      ]
     },
     "metadata": {},
     "output_type": "display_data"
    }
   ],
   "source": [
    "# expression of acceleration:\n",
    "\n",
    "ρü=newρ(X)* expand_derivatives(∂ₜ²(u(X,T)))\n",
    "ρü=simplify(ρü;expand=true)\n"
   ]
  },
  {
   "cell_type": "code",
   "execution_count": 81,
   "metadata": {},
   "outputs": [
    {
     "data": {
      "text/latex": [
       "$$ \\begin{equation}\n",
       "\\frac{ - 2 C^u_{2}ˏ_1 X \\mu_{m 0} + C^u_{2}ˏ_1 X \\mu_{m 1} + C^u_{2}ˏ_1 X \\mu_{m - 1} + \\frac{1}{2} C^u_{2}ˏ_1 {\\Delta}x \\mu_{m 1} - \\frac{1}{2} C^u_{2}ˏ_1 {\\Delta}x \\mu_{m - 1} - 2 C^u_{2}ˏ_2 T X \\mu_{m 0} + C^u_{2}ˏ_2 T X \\mu_{m 1} + C^u_{2}ˏ_2 T X \\mu_{m - 1} + \\frac{1}{2} C^u_{2}ˏ_2 T {\\Delta}x \\mu_{m 1} - \\frac{1}{2} C^u_{2}ˏ_2 T {\\Delta}x \\mu_{m - 1} - 3 X^{2} C^u_{3}ˏ_1 \\mu_{m 0} + \\frac{3}{2} X^{2} C^u_{3}ˏ_1 \\mu_{m 1} + \\frac{3}{2} X^{2} C^u_{3}ˏ_1 \\mu_{m - 1} + C^u_{3}ˏ_1 X {\\Delta}x \\mu_{m 1} - C^u_{3}ˏ_1 X {\\Delta}x \\mu_{m - 1} + {\\Delta}x^{2} C^u_{3}ˏ_1 \\mu_{m 0} - T^{2} C^u_{2}ˏ_3 X \\mu_{m 0} + \\frac{1}{2} T^{2} C^u_{2}ˏ_3 X \\mu_{m 1} + \\frac{1}{2} T^{2} C^u_{2}ˏ_3 X \\mu_{m - 1} + \\frac{1}{4} T^{2} C^u_{2}ˏ_3 {\\Delta}x \\mu_{m 1} - \\frac{1}{4} T^{2} C^u_{2}ˏ_3 {\\Delta}x \\mu_{m - 1} - 3 X^{2} C^u_{3}ˏ_2 T \\mu_{m 0} + \\frac{3}{2} X^{2} C^u_{3}ˏ_2 T \\mu_{m 1} + \\frac{3}{2} X^{2} C^u_{3}ˏ_2 T \\mu_{m - 1} + C^u_{3}ˏ_2 T X {\\Delta}x \\mu_{m 1} - C^u_{3}ˏ_2 T X {\\Delta}x \\mu_{m - 1} + {\\Delta}x^{2} C^u_{3}ˏ_2 T \\mu_{m 0} - 2 X^{3} C^u_{4}ˏ_1 \\mu_{m 0} + X^{3} C^u_{4}ˏ_1 \\mu_{m 1} + X^{3} C^u_{4}ˏ_1 \\mu_{m - 1} + \\frac{3}{4} X^{2} C^u_{4}ˏ_1 {\\Delta}x \\mu_{m 1} - \\frac{3}{4} X^{2} C^u_{4}ˏ_1 {\\Delta}x \\mu_{m - 1} + {\\Delta}x^{2} C^u_{4}ˏ_1 X \\mu_{m 0} - \\frac{1}{3} T^{3} C^u_{2}ˏ_4 X \\mu_{m 0} + \\frac{1}{6} T^{3} C^u_{2}ˏ_4 X \\mu_{m 1} + \\frac{1}{6} T^{3} C^u_{2}ˏ_4 X \\mu_{m - 1} + \\frac{1}{12} T^{3} C^u_{2}ˏ_4 {\\Delta}x \\mu_{m 1} - \\frac{1}{12} T^{3} C^u_{2}ˏ_4 {\\Delta}x \\mu_{m - 1} - \\frac{3}{2} X^{2} T^{2} C^u_{3}ˏ_3 \\mu_{m 0} + \\frac{3}{4} X^{2} T^{2} C^u_{3}ˏ_3 \\mu_{m 1} + \\frac{3}{4} X^{2} T^{2} C^u_{3}ˏ_3 \\mu_{m - 1} + \\frac{1}{2} T^{2} C^u_{3}ˏ_3 X {\\Delta}x \\mu_{m 1} - \\frac{1}{2} T^{2} C^u_{3}ˏ_3 X {\\Delta}x \\mu_{m - 1} + \\frac{1}{2} {\\Delta}x^{2} T^{2} C^u_{3}ˏ_3 \\mu_{m 0} - 2 X^{3} C^u_{4}ˏ_2 T \\mu_{m 0} + X^{3} C^u_{4}ˏ_2 T \\mu_{m 1} + X^{3} C^u_{4}ˏ_2 T \\mu_{m - 1} + \\frac{3}{4} X^{2} C^u_{4}ˏ_2 T {\\Delta}x \\mu_{m 1} - \\frac{3}{4} X^{2} C^u_{4}ˏ_2 T {\\Delta}x \\mu_{m - 1} + {\\Delta}x^{2} C^u_{4}ˏ_2 T X \\mu_{m 0} - \\frac{5}{6} X^{4} C^u_{5}ˏ_1 \\mu_{m 0} + \\frac{5}{12} X^{4} C^u_{5}ˏ_1 \\mu_{m 1} + \\frac{5}{12} X^{4} C^u_{5}ˏ_1 \\mu_{m - 1} + \\frac{1}{3} X^{3} C^u_{5}ˏ_1 {\\Delta}x \\mu_{m 1} - \\frac{1}{3} X^{3} C^u_{5}ˏ_1 {\\Delta}x \\mu_{m - 1} + \\frac{1}{2} {\\Delta}x^{2} X^{2} C^u_{5}ˏ_1 \\mu_{m 0} - \\frac{1}{12} T^{4} C^u_{2}ˏ_5 X \\mu_{m 0} + \\frac{1}{24} T^{4} C^u_{2}ˏ_5 X \\mu_{m 1} + \\frac{1}{24} T^{4} C^u_{2}ˏ_5 X \\mu_{m - 1} + \\frac{1}{48} T^{4} C^u_{2}ˏ_5 {\\Delta}x \\mu_{m 1} - \\frac{1}{48} T^{4} C^u_{2}ˏ_5 {\\Delta}x \\mu_{m - 1} - \\frac{1}{2} X^{2} T^{3} C^u_{3}ˏ_4 \\mu_{m 0} + \\frac{1}{4} X^{2} T^{3} C^u_{3}ˏ_4 \\mu_{m 1} + \\frac{1}{4} X^{2} T^{3} C^u_{3}ˏ_4 \\mu_{m - 1} + \\frac{1}{6} T^{3} C^u_{3}ˏ_4 X {\\Delta}x \\mu_{m 1} - \\frac{1}{6} T^{3} C^u_{3}ˏ_4 X {\\Delta}x \\mu_{m - 1} + \\frac{1}{6} {\\Delta}x^{2} T^{3} C^u_{3}ˏ_4 \\mu_{m 0} - X^{3} T^{2} C^u_{4}ˏ_3 \\mu_{m 0} + \\frac{1}{2} X^{3} T^{2} C^u_{4}ˏ_3 \\mu_{m 1} + \\frac{1}{2} X^{3} T^{2} C^u_{4}ˏ_3 \\mu_{m - 1} + \\frac{3}{8} X^{2} T^{2} C^u_{4}ˏ_3 {\\Delta}x \\mu_{m 1} - \\frac{3}{8} X^{2} T^{2} C^u_{4}ˏ_3 {\\Delta}x \\mu_{m - 1} + \\frac{1}{2} {\\Delta}x^{2} T^{2} C^u_{4}ˏ_3 X \\mu_{m 0} - \\frac{5}{6} X^{4} C^u_{5}ˏ_2 T \\mu_{m 0} + \\frac{5}{12} X^{4} C^u_{5}ˏ_2 T \\mu_{m 1} + \\frac{5}{12} X^{4} C^u_{5}ˏ_2 T \\mu_{m - 1} + \\frac{1}{3} X^{3} C^u_{5}ˏ_2 T {\\Delta}x \\mu_{m 1} - \\frac{1}{3} X^{3} C^u_{5}ˏ_2 T {\\Delta}x \\mu_{m - 1} + \\frac{1}{2} {\\Delta}x^{2} X^{2} C^u_{5}ˏ_2 T \\mu_{m 0} - \\frac{1}{8} X^{2} T^{4} C^u_{3}ˏ_5 \\mu_{m 0} + \\frac{1}{16} X^{2} T^{4} C^u_{3}ˏ_5 \\mu_{m 1} + \\frac{1}{16} X^{2} T^{4} C^u_{3}ˏ_5 \\mu_{m - 1} + \\frac{1}{24} T^{4} C^u_{3}ˏ_5 X {\\Delta}x \\mu_{m 1} - \\frac{1}{24} T^{4} C^u_{3}ˏ_5 X {\\Delta}x \\mu_{m - 1} + \\frac{1}{24} {\\Delta}x^{2} T^{4} C^u_{3}ˏ_5 \\mu_{m 0} - \\frac{1}{3} X^{3} T^{3} C^u_{4}ˏ_4 \\mu_{m 0} + \\frac{1}{6} X^{3} T^{3} C^u_{4}ˏ_4 \\mu_{m 1} + \\frac{1}{6} X^{3} T^{3} C^u_{4}ˏ_4 \\mu_{m - 1} + \\frac{1}{8} X^{2} T^{3} C^u_{4}ˏ_4 {\\Delta}x \\mu_{m 1} - \\frac{1}{8} X^{2} T^{3} C^u_{4}ˏ_4 {\\Delta}x \\mu_{m - 1} + \\frac{1}{6} {\\Delta}x^{2} T^{3} C^u_{4}ˏ_4 X \\mu_{m 0} - \\frac{5}{12} X^{4} T^{2} C^u_{5}ˏ_3 \\mu_{m 0} + \\frac{5}{24} X^{4} T^{2} C^u_{5}ˏ_3 \\mu_{m 1} + \\frac{5}{24} X^{4} T^{2} C^u_{5}ˏ_3 \\mu_{m - 1} + \\frac{1}{6} X^{3} T^{2} C^u_{5}ˏ_3 {\\Delta}x \\mu_{m 1} - \\frac{1}{6} X^{3} T^{2} C^u_{5}ˏ_3 {\\Delta}x \\mu_{m - 1} + \\frac{1}{4} {\\Delta}x^{2} X^{2} T^{2} C^u_{5}ˏ_3 \\mu_{m 0} - \\frac{1}{12} X^{3} T^{4} C^u_{4}ˏ_5 \\mu_{m 0} + \\frac{1}{24} X^{3} T^{4} C^u_{4}ˏ_5 \\mu_{m 1} + \\frac{1}{24} X^{3} T^{4} C^u_{4}ˏ_5 \\mu_{m - 1} + \\frac{1}{32} X^{2} T^{4} C^u_{4}ˏ_5 {\\Delta}x \\mu_{m 1} - \\frac{1}{32} X^{2} T^{4} C^u_{4}ˏ_5 {\\Delta}x \\mu_{m - 1} + \\frac{1}{24} {\\Delta}x^{2} T^{4} C^u_{4}ˏ_5 X \\mu_{m 0} - \\frac{5}{36} X^{4} T^{3} C^u_{5}ˏ_4 \\mu_{m 0} + \\frac{5}{72} X^{4} T^{3} C^u_{5}ˏ_4 \\mu_{m 1} + \\frac{5}{72} X^{4} T^{3} C^u_{5}ˏ_4 \\mu_{m - 1} + \\frac{1}{18} X^{3} T^{3} C^u_{5}ˏ_4 {\\Delta}x \\mu_{m 1} - \\frac{1}{18} X^{3} T^{3} C^u_{5}ˏ_4 {\\Delta}x \\mu_{m - 1} + \\frac{1}{12} {\\Delta}x^{2} X^{2} T^{3} C^u_{5}ˏ_4 \\mu_{m 0} - \\frac{5}{144} X^{4} T^{4} C^u_{5}ˏ_5 \\mu_{m 0} + \\frac{5}{288} X^{4} T^{4} C^u_{5}ˏ_5 \\mu_{m 1} + \\frac{5}{288} X^{4} T^{4} C^u_{5}ˏ_5 \\mu_{m - 1} + \\frac{1}{72} X^{3} T^{4} C^u_{5}ˏ_5 {\\Delta}x \\mu_{m 1} - \\frac{1}{72} X^{3} T^{4} C^u_{5}ˏ_5 {\\Delta}x \\mu_{m - 1} + \\frac{1}{48} {\\Delta}x^{2} X^{2} T^{4} C^u_{5}ˏ_5 \\mu_{m 0}}{{\\Delta}x^{2}}\n",
       "\\end{equation}\n",
       " $$"
      ],
      "text/plain": [
       "(-(2//1)*Cᵘ[2, 1]*X*μₘ₀ + Cᵘ[2, 1]*X*μₘ₁ + Cᵘ[2, 1]*X*μₘ₋₁ + (1//2)*Cᵘ[2, 1]*Δx*μₘ₁ - (1//2)*Cᵘ[2, 1]*Δx*μₘ₋₁ - (2//1)*Cᵘ[2, 2]*T*X*μₘ₀ + Cᵘ[2, 2]*T*X*μₘ₁ + Cᵘ[2, 2]*T*X*μₘ₋₁ + (1//2)*Cᵘ[2, 2]*T*Δx*μₘ₁ - (1//2)*Cᵘ[2, 2]*T*Δx*μₘ₋₁ - (3//1)*Cᵘ[3, 1]*(X^2)*μₘ₀ + (3//2)*Cᵘ[3, 1]*(X^2)*μₘ₁ + (3//2)*Cᵘ[3, 1]*(X^2)*μₘ₋₁ + Cᵘ[3, 1]*X*Δx*μₘ₁ - Cᵘ[3, 1]*X*Δx*μₘ₋₁ + Cᵘ[3, 1]*(Δx^2)*μₘ₀ - Cᵘ[2, 3]*(T^2)*X*μₘ₀ + (1//2)*Cᵘ[2, 3]*(T^2)*X*μₘ₁ + (1//2)*Cᵘ[2, 3]*(T^2)*X*μₘ₋₁ + (1//4)*Cᵘ[2, 3]*(T^2)*Δx*μₘ₁ - (1//4)*Cᵘ[2, 3]*(T^2)*Δx*μₘ₋₁ - (3//1)*Cᵘ[3, 2]*T*(X^2)*μₘ₀ + (3//2)*Cᵘ[3, 2]*T*(X^2)*μₘ₁ + (3//2)*Cᵘ[3, 2]*T*(X^2)*μₘ₋₁ + Cᵘ[3, 2]*T*X*Δx*μₘ₁ - Cᵘ[3, 2]*T*X*Δx*μₘ₋₁ + Cᵘ[3, 2]*T*(Δx^2)*μₘ₀ - (2//1)*Cᵘ[4, 1]*(X^3)*μₘ₀ + Cᵘ[4, 1]*(X^3)*μₘ₁ + Cᵘ[4, 1]*(X^3)*μₘ₋₁ + (3//4)*Cᵘ[4, 1]*(X^2)*Δx*μₘ₁ - (3//4)*Cᵘ[4, 1]*(X^2)*Δx*μₘ₋₁ + Cᵘ[4, 1]*X*(Δx^2)*μₘ₀ - (1//3)*Cᵘ[2, 4]*(T^3)*X*μₘ₀ + (1//6)*Cᵘ[2, 4]*(T^3)*X*μₘ₁ + (1//6)*Cᵘ[2, 4]*(T^3)*X*μₘ₋₁ + (1//12)*Cᵘ[2, 4]*(T^3)*Δx*μₘ₁ - (1//12)*Cᵘ[2, 4]*(T^3)*Δx*μₘ₋₁ - (3//2)*Cᵘ[3, 3]*(T^2)*(X^2)*μₘ₀ + (3//4)*Cᵘ[3, 3]*(T^2)*(X^2)*μₘ₁ + (3//4)*Cᵘ[3, 3]*(T^2)*(X^2)*μₘ₋₁ + (1//2)*Cᵘ[3, 3]*(T^2)*X*Δx*μₘ₁ - (1//2)*Cᵘ[3, 3]*(T^2)*X*Δx*μₘ₋₁ + (1//2)*Cᵘ[3, 3]*(T^2)*(Δx^2)*μₘ₀ - (2//1)*Cᵘ[4, 2]*T*(X^3)*μₘ₀ + Cᵘ[4, 2]*T*(X^3)*μₘ₁ + Cᵘ[4, 2]*T*(X^3)*μₘ₋₁ + (3//4)*Cᵘ[4, 2]*T*(X^2)*Δx*μₘ₁ - (3//4)*Cᵘ[4, 2]*T*(X^2)*Δx*μₘ₋₁ + Cᵘ[4, 2]*T*X*(Δx^2)*μₘ₀ - (5//6)*Cᵘ[5, 1]*(X^4)*μₘ₀ + (5//12)*Cᵘ[5, 1]*(X^4)*μₘ₁ + (5//12)*Cᵘ[5, 1]*(X^4)*μₘ₋₁ + (1//3)*Cᵘ[5, 1]*(X^3)*Δx*μₘ₁ - (1//3)*Cᵘ[5, 1]*(X^3)*Δx*μₘ₋₁ + (1//2)*Cᵘ[5, 1]*(X^2)*(Δx^2)*μₘ₀ - (1//12)*Cᵘ[2, 5]*(T^4)*X*μₘ₀ + (1//24)*Cᵘ[2, 5]*(T^4)*X*μₘ₁ + (1//24)*Cᵘ[2, 5]*(T^4)*X*μₘ₋₁ + (1//48)*Cᵘ[2, 5]*(T^4)*Δx*μₘ₁ - (1//48)*Cᵘ[2, 5]*(T^4)*Δx*μₘ₋₁ - (1//2)*Cᵘ[3, 4]*(T^3)*(X^2)*μₘ₀ + (1//4)*Cᵘ[3, 4]*(T^3)*(X^2)*μₘ₁ + (1//4)*Cᵘ[3, 4]*(T^3)*(X^2)*μₘ₋₁ + (1//6)*Cᵘ[3, 4]*(T^3)*X*Δx*μₘ₁ - (1//6)*Cᵘ[3, 4]*(T^3)*X*Δx*μₘ₋₁ + (1//6)*Cᵘ[3, 4]*(T^3)*(Δx^2)*μₘ₀ - Cᵘ[4, 3]*(T^2)*(X^3)*μₘ₀ + (1//2)*Cᵘ[4, 3]*(T^2)*(X^3)*μₘ₁ + (1//2)*Cᵘ[4, 3]*(T^2)*(X^3)*μₘ₋₁ + (3//8)*Cᵘ[4, 3]*(T^2)*(X^2)*Δx*μₘ₁ - (3//8)*Cᵘ[4, 3]*(T^2)*(X^2)*Δx*μₘ₋₁ + (1//2)*Cᵘ[4, 3]*(T^2)*X*(Δx^2)*μₘ₀ - (5//6)*Cᵘ[5, 2]*T*(X^4)*μₘ₀ + (5//12)*Cᵘ[5, 2]*T*(X^4)*μₘ₁ + (5//12)*Cᵘ[5, 2]*T*(X^4)*μₘ₋₁ + (1//3)*Cᵘ[5, 2]*T*(X^3)*Δx*μₘ₁ - (1//3)*Cᵘ[5, 2]*T*(X^3)*Δx*μₘ₋₁ + (1//2)*Cᵘ[5, 2]*T*(X^2)*(Δx^2)*μₘ₀ - (1//8)*Cᵘ[3, 5]*(T^4)*(X^2)*μₘ₀ + (1//16)*Cᵘ[3, 5]*(T^4)*(X^2)*μₘ₁ + (1//16)*Cᵘ[3, 5]*(T^4)*(X^2)*μₘ₋₁ + (1//24)*Cᵘ[3, 5]*(T^4)*X*Δx*μₘ₁ - (1//24)*Cᵘ[3, 5]*(T^4)*X*Δx*μₘ₋₁ + (1//24)*Cᵘ[3, 5]*(T^4)*(Δx^2)*μₘ₀ - (1//3)*Cᵘ[4, 4]*(T^3)*(X^3)*μₘ₀ + (1//6)*Cᵘ[4, 4]*(T^3)*(X^3)*μₘ₁ + (1//6)*Cᵘ[4, 4]*(T^3)*(X^3)*μₘ₋₁ + (1//8)*Cᵘ[4, 4]*(T^3)*(X^2)*Δx*μₘ₁ - (1//8)*Cᵘ[4, 4]*(T^3)*(X^2)*Δx*μₘ₋₁ + (1//6)*Cᵘ[4, 4]*(T^3)*X*(Δx^2)*μₘ₀ - (5//12)*Cᵘ[5, 3]*(T^2)*(X^4)*μₘ₀ + (5//24)*Cᵘ[5, 3]*(T^2)*(X^4)*μₘ₁ + (5//24)*Cᵘ[5, 3]*(T^2)*(X^4)*μₘ₋₁ + (1//6)*Cᵘ[5, 3]*(T^2)*(X^3)*Δx*μₘ₁ - (1//6)*Cᵘ[5, 3]*(T^2)*(X^3)*Δx*μₘ₋₁ + (1//4)*Cᵘ[5, 3]*(T^2)*(X^2)*(Δx^2)*μₘ₀ - (1//12)*Cᵘ[4, 5]*(T^4)*(X^3)*μₘ₀ + (1//24)*Cᵘ[4, 5]*(T^4)*(X^3)*μₘ₁ + (1//24)*Cᵘ[4, 5]*(T^4)*(X^3)*μₘ₋₁ + (1//32)*Cᵘ[4, 5]*(T^4)*(X^2)*Δx*μₘ₁ - (1//32)*Cᵘ[4, 5]*(T^4)*(X^2)*Δx*μₘ₋₁ + (1//24)*Cᵘ[4, 5]*(T^4)*X*(Δx^2)*μₘ₀ - (5//36)*Cᵘ[5, 4]*(T^3)*(X^4)*μₘ₀ + (5//72)*Cᵘ[5, 4]*(T^3)*(X^4)*μₘ₁ + (5//72)*Cᵘ[5, 4]*(T^3)*(X^4)*μₘ₋₁ + (1//18)*Cᵘ[5, 4]*(T^3)*(X^3)*Δx*μₘ₁ - (1//18)*Cᵘ[5, 4]*(T^3)*(X^3)*Δx*μₘ₋₁ + (1//12)*Cᵘ[5, 4]*(T^3)*(X^2)*(Δx^2)*μₘ₀ - (5//144)*Cᵘ[5, 5]*(T^4)*(X^4)*μₘ₀ + (5//288)*Cᵘ[5, 5]*(T^4)*(X^4)*μₘ₁ + (5//288)*Cᵘ[5, 5]*(T^4)*(X^4)*μₘ₋₁ + (1//72)*Cᵘ[5, 5]*(T^4)*(X^3)*Δx*μₘ₁ - (1//72)*Cᵘ[5, 5]*(T^4)*(X^3)*Δx*μₘ₋₁ + (1//48)*Cᵘ[5, 5]*(T^4)*(X^2)*(Δx^2)*μₘ₀) / (Δx^2)"
      ]
     },
     "metadata": {},
     "output_type": "display_data"
    }
   ],
   "source": [
    "# expression of (μu′)′\n",
    "\n",
    "μu′ = simplify(newμ(X)*expand_derivatives(∂ₓ(u(X,T)));expand=true)\n",
    "kinematics= simplify(expand_derivatives(∂ₓ(μu′));expand=true)"
   ]
  },
  {
   "cell_type": "code",
   "execution_count": 82,
   "metadata": {},
   "outputs": [
    {
     "data": {
      "text/latex": [
       "$$ \\begin{equation}\n",
       "\\frac{2 C^u_{2}ˏ_1 X \\mu_{m 0} - C^u_{2}ˏ_1 X \\mu_{m 1} - C^u_{2}ˏ_1 X \\mu_{m - 1} - \\frac{1}{2} C^u_{2}ˏ_1 {\\Delta}x \\mu_{m 1} + \\frac{1}{2} C^u_{2}ˏ_1 {\\Delta}x \\mu_{m - 1} + 2 C^u_{2}ˏ_2 T X \\mu_{m 0} - C^u_{2}ˏ_2 T X \\mu_{m 1} - C^u_{2}ˏ_2 T X \\mu_{m - 1} - \\frac{1}{2} C^u_{2}ˏ_2 T {\\Delta}x \\mu_{m 1} + \\frac{1}{2} C^u_{2}ˏ_2 T {\\Delta}x \\mu_{m - 1} + 3 X^{2} C^u_{3}ˏ_1 \\mu_{m 0} - \\frac{3}{2} X^{2} C^u_{3}ˏ_1 \\mu_{m 1} - \\frac{3}{2} X^{2} C^u_{3}ˏ_1 \\mu_{m - 1} - C^u_{3}ˏ_1 X {\\Delta}x \\mu_{m 1} + C^u_{3}ˏ_1 X {\\Delta}x \\mu_{m - 1} - {\\Delta}x^{2} C^u_{3}ˏ_1 \\mu_{m 0} + T^{2} C^u_{2}ˏ_3 X \\mu_{m 0} - \\frac{1}{2} T^{2} C^u_{2}ˏ_3 X \\mu_{m 1} - \\frac{1}{2} T^{2} C^u_{2}ˏ_3 X \\mu_{m - 1} - \\frac{1}{4} T^{2} C^u_{2}ˏ_3 {\\Delta}x \\mu_{m 1} + \\frac{1}{4} T^{2} C^u_{2}ˏ_3 {\\Delta}x \\mu_{m - 1} + 3 X^{2} C^u_{3}ˏ_2 T \\mu_{m 0} - \\frac{3}{2} X^{2} C^u_{3}ˏ_2 T \\mu_{m 1} - \\frac{3}{2} X^{2} C^u_{3}ˏ_2 T \\mu_{m - 1} - C^u_{3}ˏ_2 T X {\\Delta}x \\mu_{m 1} + C^u_{3}ˏ_2 T X {\\Delta}x \\mu_{m - 1} - {\\Delta}x^{2} C^u_{3}ˏ_2 T \\mu_{m 0} + 2 X^{3} C^u_{4}ˏ_1 \\mu_{m 0} - X^{3} C^u_{4}ˏ_1 \\mu_{m 1} - X^{3} C^u_{4}ˏ_1 \\mu_{m - 1} - \\frac{3}{4} X^{2} C^u_{4}ˏ_1 {\\Delta}x \\mu_{m 1} + \\frac{3}{4} X^{2} C^u_{4}ˏ_1 {\\Delta}x \\mu_{m - 1} - {\\Delta}x^{2} C^u_{4}ˏ_1 X \\mu_{m 0} + \\frac{1}{3} T^{3} C^u_{2}ˏ_4 X \\mu_{m 0} - \\frac{1}{6} T^{3} C^u_{2}ˏ_4 X \\mu_{m 1} - \\frac{1}{6} T^{3} C^u_{2}ˏ_4 X \\mu_{m - 1} - \\frac{1}{12} T^{3} C^u_{2}ˏ_4 {\\Delta}x \\mu_{m 1} + \\frac{1}{12} T^{3} C^u_{2}ˏ_4 {\\Delta}x \\mu_{m - 1} + \\frac{3}{2} X^{2} T^{2} C^u_{3}ˏ_3 \\mu_{m 0} - \\frac{3}{4} X^{2} T^{2} C^u_{3}ˏ_3 \\mu_{m 1} - \\frac{3}{4} X^{2} T^{2} C^u_{3}ˏ_3 \\mu_{m - 1} - \\frac{1}{2} T^{2} C^u_{3}ˏ_3 X {\\Delta}x \\mu_{m 1} + \\frac{1}{2} T^{2} C^u_{3}ˏ_3 X {\\Delta}x \\mu_{m - 1} - \\frac{1}{2} {\\Delta}x^{2} T^{2} C^u_{3}ˏ_3 \\mu_{m 0} + 2 X^{3} C^u_{4}ˏ_2 T \\mu_{m 0} - X^{3} C^u_{4}ˏ_2 T \\mu_{m 1} - X^{3} C^u_{4}ˏ_2 T \\mu_{m - 1} - \\frac{3}{4} X^{2} C^u_{4}ˏ_2 T {\\Delta}x \\mu_{m 1} + \\frac{3}{4} X^{2} C^u_{4}ˏ_2 T {\\Delta}x \\mu_{m - 1} - {\\Delta}x^{2} C^u_{4}ˏ_2 T X \\mu_{m 0} + \\frac{5}{6} X^{4} C^u_{5}ˏ_1 \\mu_{m 0} - \\frac{5}{12} X^{4} C^u_{5}ˏ_1 \\mu_{m 1} - \\frac{5}{12} X^{4} C^u_{5}ˏ_1 \\mu_{m - 1} - \\frac{1}{3} X^{3} C^u_{5}ˏ_1 {\\Delta}x \\mu_{m 1} + \\frac{1}{3} X^{3} C^u_{5}ˏ_1 {\\Delta}x \\mu_{m - 1} - \\frac{1}{2} {\\Delta}x^{2} X^{2} C^u_{5}ˏ_1 \\mu_{m 0} + \\frac{1}{12} T^{4} C^u_{2}ˏ_5 X \\mu_{m 0} - \\frac{1}{24} T^{4} C^u_{2}ˏ_5 X \\mu_{m 1} - \\frac{1}{24} T^{4} C^u_{2}ˏ_5 X \\mu_{m - 1} - \\frac{1}{48} T^{4} C^u_{2}ˏ_5 {\\Delta}x \\mu_{m 1} + \\frac{1}{48} T^{4} C^u_{2}ˏ_5 {\\Delta}x \\mu_{m - 1} + \\frac{1}{2} X^{2} T^{3} C^u_{3}ˏ_4 \\mu_{m 0} - \\frac{1}{4} X^{2} T^{3} C^u_{3}ˏ_4 \\mu_{m 1} - \\frac{1}{4} X^{2} T^{3} C^u_{3}ˏ_4 \\mu_{m - 1} - \\frac{1}{6} T^{3} C^u_{3}ˏ_4 X {\\Delta}x \\mu_{m 1} + \\frac{1}{6} T^{3} C^u_{3}ˏ_4 X {\\Delta}x \\mu_{m - 1} - \\frac{1}{6} {\\Delta}x^{2} T^{3} C^u_{3}ˏ_4 \\mu_{m 0} + X^{3} T^{2} C^u_{4}ˏ_3 \\mu_{m 0} - \\frac{1}{2} X^{3} T^{2} C^u_{4}ˏ_3 \\mu_{m 1} - \\frac{1}{2} X^{3} T^{2} C^u_{4}ˏ_3 \\mu_{m - 1} - \\frac{3}{8} X^{2} T^{2} C^u_{4}ˏ_3 {\\Delta}x \\mu_{m 1} + \\frac{3}{8} X^{2} T^{2} C^u_{4}ˏ_3 {\\Delta}x \\mu_{m - 1} - \\frac{1}{2} {\\Delta}x^{2} T^{2} C^u_{4}ˏ_3 X \\mu_{m 0} + \\frac{5}{6} X^{4} C^u_{5}ˏ_2 T \\mu_{m 0} - \\frac{5}{12} X^{4} C^u_{5}ˏ_2 T \\mu_{m 1} - \\frac{5}{12} X^{4} C^u_{5}ˏ_2 T \\mu_{m - 1} - \\frac{1}{3} X^{3} C^u_{5}ˏ_2 T {\\Delta}x \\mu_{m 1} + \\frac{1}{3} X^{3} C^u_{5}ˏ_2 T {\\Delta}x \\mu_{m - 1} - \\frac{1}{2} {\\Delta}x^{2} X^{2} C^u_{5}ˏ_2 T \\mu_{m 0} + \\frac{1}{8} X^{2} T^{4} C^u_{3}ˏ_5 \\mu_{m 0} - \\frac{1}{16} X^{2} T^{4} C^u_{3}ˏ_5 \\mu_{m 1} - \\frac{1}{16} X^{2} T^{4} C^u_{3}ˏ_5 \\mu_{m - 1} - \\frac{1}{24} T^{4} C^u_{3}ˏ_5 X {\\Delta}x \\mu_{m 1} + \\frac{1}{24} T^{4} C^u_{3}ˏ_5 X {\\Delta}x \\mu_{m - 1} - \\frac{1}{24} {\\Delta}x^{2} T^{4} C^u_{3}ˏ_5 \\mu_{m 0} + \\frac{1}{3} X^{3} T^{3} C^u_{4}ˏ_4 \\mu_{m 0} - \\frac{1}{6} X^{3} T^{3} C^u_{4}ˏ_4 \\mu_{m 1} - \\frac{1}{6} X^{3} T^{3} C^u_{4}ˏ_4 \\mu_{m - 1} - \\frac{1}{8} X^{2} T^{3} C^u_{4}ˏ_4 {\\Delta}x \\mu_{m 1} + \\frac{1}{8} X^{2} T^{3} C^u_{4}ˏ_4 {\\Delta}x \\mu_{m - 1} - \\frac{1}{6} {\\Delta}x^{2} T^{3} C^u_{4}ˏ_4 X \\mu_{m 0} + \\frac{5}{12} X^{4} T^{2} C^u_{5}ˏ_3 \\mu_{m 0} - \\frac{5}{24} X^{4} T^{2} C^u_{5}ˏ_3 \\mu_{m 1} - \\frac{5}{24} X^{4} T^{2} C^u_{5}ˏ_3 \\mu_{m - 1} - \\frac{1}{6} X^{3} T^{2} C^u_{5}ˏ_3 {\\Delta}x \\mu_{m 1} + \\frac{1}{6} X^{3} T^{2} C^u_{5}ˏ_3 {\\Delta}x \\mu_{m - 1} - \\frac{1}{4} {\\Delta}x^{2} X^{2} T^{2} C^u_{5}ˏ_3 \\mu_{m 0} + \\frac{1}{12} X^{3} T^{4} C^u_{4}ˏ_5 \\mu_{m 0} - \\frac{1}{24} X^{3} T^{4} C^u_{4}ˏ_5 \\mu_{m 1} - \\frac{1}{24} X^{3} T^{4} C^u_{4}ˏ_5 \\mu_{m - 1} - \\frac{1}{32} X^{2} T^{4} C^u_{4}ˏ_5 {\\Delta}x \\mu_{m 1} + \\frac{1}{32} X^{2} T^{4} C^u_{4}ˏ_5 {\\Delta}x \\mu_{m - 1} - \\frac{1}{24} {\\Delta}x^{2} T^{4} C^u_{4}ˏ_5 X \\mu_{m 0} + \\frac{5}{36} X^{4} T^{3} C^u_{5}ˏ_4 \\mu_{m 0} - \\frac{5}{72} X^{4} T^{3} C^u_{5}ˏ_4 \\mu_{m 1} - \\frac{5}{72} X^{4} T^{3} C^u_{5}ˏ_4 \\mu_{m - 1} - \\frac{1}{18} X^{3} T^{3} C^u_{5}ˏ_4 {\\Delta}x \\mu_{m 1} + \\frac{1}{18} X^{3} T^{3} C^u_{5}ˏ_4 {\\Delta}x \\mu_{m - 1} - \\frac{1}{12} {\\Delta}x^{2} X^{2} T^{3} C^u_{5}ˏ_4 \\mu_{m 0} + \\frac{5}{144} X^{4} T^{4} C^u_{5}ˏ_5 \\mu_{m 0} - \\frac{5}{288} X^{4} T^{4} C^u_{5}ˏ_5 \\mu_{m 1} - \\frac{5}{288} X^{4} T^{4} C^u_{5}ˏ_5 \\mu_{m - 1} - \\frac{1}{72} X^{3} T^{4} C^u_{5}ˏ_5 {\\Delta}x \\mu_{m 1} + \\frac{1}{72} X^{3} T^{4} C^u_{5}ˏ_5 {\\Delta}x \\mu_{m - 1} - \\frac{1}{48} {\\Delta}x^{2} X^{2} T^{4} C^u_{5}ˏ_5 \\mu_{m 0}}{{\\Delta}x^{2}} + \\frac{ - X^{2} C^u_{1}ˏ_3 \\rho_{m 0} + \\frac{1}{2} X^{2} C^u_{1}ˏ_3 \\rho_{m 1} + \\frac{1}{2} X^{2} C^u_{1}ˏ_3 \\rho_{m - 1} + \\frac{1}{2} C^u_{1}ˏ_3 X {\\Delta}x \\rho_{m 1} - \\frac{1}{2} C^u_{1}ˏ_3 X {\\Delta}x \\rho_{m - 1} + {\\Delta}x^{2} C^u_{1}ˏ_3 \\rho_{m 0} - X^{2} C^u_{1}ˏ_4 T \\rho_{m 0} + \\frac{1}{2} X^{2} C^u_{1}ˏ_4 T \\rho_{m 1} + \\frac{1}{2} X^{2} C^u_{1}ˏ_4 T \\rho_{m - 1} + \\frac{1}{2} C^u_{1}ˏ_4 T X {\\Delta}x \\rho_{m 1} - \\frac{1}{2} C^u_{1}ˏ_4 T X {\\Delta}x \\rho_{m - 1} + {\\Delta}x^{2} C^u_{1}ˏ_4 T \\rho_{m 0} - X^{3} C^u_{2}ˏ_3 \\rho_{m 0} + \\frac{1}{2} X^{3} C^u_{2}ˏ_3 \\rho_{m 1} + \\frac{1}{2} X^{3} C^u_{2}ˏ_3 \\rho_{m - 1} + \\frac{1}{2} X^{2} C^u_{2}ˏ_3 {\\Delta}x \\rho_{m 1} - \\frac{1}{2} X^{2} C^u_{2}ˏ_3 {\\Delta}x \\rho_{m - 1} + {\\Delta}x^{2} C^u_{2}ˏ_3 X \\rho_{m 0} - \\frac{1}{2} X^{2} T^{2} C^u_{1}ˏ_5 \\rho_{m 0} + \\frac{1}{4} X^{2} T^{2} C^u_{1}ˏ_5 \\rho_{m 1} + \\frac{1}{4} X^{2} T^{2} C^u_{1}ˏ_5 \\rho_{m - 1} + \\frac{1}{4} T^{2} C^u_{1}ˏ_5 X {\\Delta}x \\rho_{m 1} - \\frac{1}{4} T^{2} C^u_{1}ˏ_5 X {\\Delta}x \\rho_{m - 1} + \\frac{1}{2} {\\Delta}x^{2} T^{2} C^u_{1}ˏ_5 \\rho_{m 0} - X^{3} C^u_{2}ˏ_4 T \\rho_{m 0} + \\frac{1}{2} X^{3} C^u_{2}ˏ_4 T \\rho_{m 1} + \\frac{1}{2} X^{3} C^u_{2}ˏ_4 T \\rho_{m - 1} + \\frac{1}{2} X^{2} C^u_{2}ˏ_4 T {\\Delta}x \\rho_{m 1} - \\frac{1}{2} X^{2} C^u_{2}ˏ_4 T {\\Delta}x \\rho_{m - 1} + {\\Delta}x^{2} C^u_{2}ˏ_4 T X \\rho_{m 0} - \\frac{1}{2} X^{4} C^u_{3}ˏ_3 \\rho_{m 0} + \\frac{1}{4} X^{4} C^u_{3}ˏ_3 \\rho_{m 1} + \\frac{1}{4} X^{4} C^u_{3}ˏ_3 \\rho_{m - 1} + \\frac{1}{4} X^{3} C^u_{3}ˏ_3 {\\Delta}x \\rho_{m 1} - \\frac{1}{4} X^{3} C^u_{3}ˏ_3 {\\Delta}x \\rho_{m - 1} + \\frac{1}{2} {\\Delta}x^{2} X^{2} C^u_{3}ˏ_3 \\rho_{m 0} - \\frac{1}{2} X^{3} T^{2} C^u_{2}ˏ_5 \\rho_{m 0} + \\frac{1}{4} X^{3} T^{2} C^u_{2}ˏ_5 \\rho_{m 1} + \\frac{1}{4} X^{3} T^{2} C^u_{2}ˏ_5 \\rho_{m - 1} + \\frac{1}{4} X^{2} T^{2} C^u_{2}ˏ_5 {\\Delta}x \\rho_{m 1} - \\frac{1}{4} X^{2} T^{2} C^u_{2}ˏ_5 {\\Delta}x \\rho_{m - 1} + \\frac{1}{2} {\\Delta}x^{2} T^{2} C^u_{2}ˏ_5 X \\rho_{m 0} - \\frac{1}{2} X^{4} C^u_{3}ˏ_4 T \\rho_{m 0} + \\frac{1}{4} X^{4} C^u_{3}ˏ_4 T \\rho_{m 1} + \\frac{1}{4} X^{4} C^u_{3}ˏ_4 T \\rho_{m - 1} + \\frac{1}{4} X^{3} C^u_{3}ˏ_4 T {\\Delta}x \\rho_{m 1} - \\frac{1}{4} X^{3} C^u_{3}ˏ_4 T {\\Delta}x \\rho_{m - 1} + \\frac{1}{2} {\\Delta}x^{2} X^{2} C^u_{3}ˏ_4 T \\rho_{m 0} - \\frac{1}{6} X^{5} C^u_{4}ˏ_3 \\rho_{m 0} + \\frac{1}{12} X^{5} C^u_{4}ˏ_3 \\rho_{m 1} + \\frac{1}{12} X^{5} C^u_{4}ˏ_3 \\rho_{m - 1} + \\frac{1}{12} X^{4} C^u_{4}ˏ_3 {\\Delta}x \\rho_{m 1} - \\frac{1}{12} X^{4} C^u_{4}ˏ_3 {\\Delta}x \\rho_{m - 1} + \\frac{1}{6} {\\Delta}x^{2} X^{3} C^u_{4}ˏ_3 \\rho_{m 0} - \\frac{1}{4} X^{4} T^{2} C^u_{3}ˏ_5 \\rho_{m 0} + \\frac{1}{8} X^{4} T^{2} C^u_{3}ˏ_5 \\rho_{m 1} + \\frac{1}{8} X^{4} T^{2} C^u_{3}ˏ_5 \\rho_{m - 1} + \\frac{1}{8} X^{3} T^{2} C^u_{3}ˏ_5 {\\Delta}x \\rho_{m 1} - \\frac{1}{8} X^{3} T^{2} C^u_{3}ˏ_5 {\\Delta}x \\rho_{m - 1} + \\frac{1}{4} {\\Delta}x^{2} X^{2} T^{2} C^u_{3}ˏ_5 \\rho_{m 0} - \\frac{1}{6} X^{5} C^u_{4}ˏ_4 T \\rho_{m 0} + \\frac{1}{12} X^{5} C^u_{4}ˏ_4 T \\rho_{m 1} + \\frac{1}{12} X^{5} C^u_{4}ˏ_4 T \\rho_{m - 1} + \\frac{1}{12} X^{4} C^u_{4}ˏ_4 T {\\Delta}x \\rho_{m 1} - \\frac{1}{12} X^{4} C^u_{4}ˏ_4 T {\\Delta}x \\rho_{m - 1} + \\frac{1}{6} {\\Delta}x^{2} X^{3} C^u_{4}ˏ_4 T \\rho_{m 0} - \\frac{1}{24} X^{6} C^u_{5}ˏ_3 \\rho_{m 0} + \\frac{1}{48} X^{6} C^u_{5}ˏ_3 \\rho_{m 1} + \\frac{1}{48} X^{6} C^u_{5}ˏ_3 \\rho_{m - 1} + \\frac{1}{48} X^{5} C^u_{5}ˏ_3 {\\Delta}x \\rho_{m 1} - \\frac{1}{48} X^{5} C^u_{5}ˏ_3 {\\Delta}x \\rho_{m - 1} + \\frac{1}{24} {\\Delta}x^{2} X^{4} C^u_{5}ˏ_3 \\rho_{m 0} - \\frac{1}{12} X^{5} T^{2} C^u_{4}ˏ_5 \\rho_{m 0} + \\frac{1}{24} X^{5} T^{2} C^u_{4}ˏ_5 \\rho_{m 1} + \\frac{1}{24} X^{5} T^{2} C^u_{4}ˏ_5 \\rho_{m - 1} + \\frac{1}{24} X^{4} T^{2} C^u_{4}ˏ_5 {\\Delta}x \\rho_{m 1} - \\frac{1}{24} X^{4} T^{2} C^u_{4}ˏ_5 {\\Delta}x \\rho_{m - 1} + \\frac{1}{12} {\\Delta}x^{2} X^{3} T^{2} C^u_{4}ˏ_5 \\rho_{m 0} - \\frac{1}{24} X^{6} C^u_{5}ˏ_4 T \\rho_{m 0} + \\frac{1}{48} X^{6} C^u_{5}ˏ_4 T \\rho_{m 1} + \\frac{1}{48} X^{6} C^u_{5}ˏ_4 T \\rho_{m - 1} + \\frac{1}{48} X^{5} C^u_{5}ˏ_4 T {\\Delta}x \\rho_{m 1} - \\frac{1}{48} X^{5} C^u_{5}ˏ_4 T {\\Delta}x \\rho_{m - 1} + \\frac{1}{24} {\\Delta}x^{2} X^{4} C^u_{5}ˏ_4 T \\rho_{m 0} - \\frac{1}{48} X^{6} T^{2} C^u_{5}ˏ_5 \\rho_{m 0} + \\frac{1}{96} X^{6} T^{2} C^u_{5}ˏ_5 \\rho_{m 1} + \\frac{1}{96} X^{6} T^{2} C^u_{5}ˏ_5 \\rho_{m - 1} + \\frac{1}{96} X^{5} T^{2} C^u_{5}ˏ_5 {\\Delta}x \\rho_{m 1} - \\frac{1}{96} X^{5} T^{2} C^u_{5}ˏ_5 {\\Delta}x \\rho_{m - 1} + \\frac{1}{48} {\\Delta}x^{2} X^{4} T^{2} C^u_{5}ˏ_5 \\rho_{m 0}}{{\\Delta}x^{2}}\n",
       "\\end{equation}\n",
       " $$"
      ],
      "text/plain": [
       "((2//1)*Cᵘ[2, 1]*X*μₘ₀ - Cᵘ[2, 1]*X*μₘ₁ - Cᵘ[2, 1]*X*μₘ₋₁ - (1//2)*Cᵘ[2, 1]*Δx*μₘ₁ + (1//2)*Cᵘ[2, 1]*Δx*μₘ₋₁ + (2//1)*Cᵘ[2, 2]*T*X*μₘ₀ - Cᵘ[2, 2]*T*X*μₘ₁ - Cᵘ[2, 2]*T*X*μₘ₋₁ - (1//2)*Cᵘ[2, 2]*T*Δx*μₘ₁ + (1//2)*Cᵘ[2, 2]*T*Δx*μₘ₋₁ + (3//1)*Cᵘ[3, 1]*(X^2)*μₘ₀ - (3//2)*Cᵘ[3, 1]*(X^2)*μₘ₁ - (3//2)*Cᵘ[3, 1]*(X^2)*μₘ₋₁ - Cᵘ[3, 1]*X*Δx*μₘ₁ + Cᵘ[3, 1]*X*Δx*μₘ₋₁ - Cᵘ[3, 1]*(Δx^2)*μₘ₀ + Cᵘ[2, 3]*(T^2)*X*μₘ₀ - (1//2)*Cᵘ[2, 3]*(T^2)*X*μₘ₁ - (1//2)*Cᵘ[2, 3]*(T^2)*X*μₘ₋₁ - (1//4)*Cᵘ[2, 3]*(T^2)*Δx*μₘ₁ + (1//4)*Cᵘ[2, 3]*(T^2)*Δx*μₘ₋₁ + (3//1)*Cᵘ[3, 2]*T*(X^2)*μₘ₀ - (3//2)*Cᵘ[3, 2]*T*(X^2)*μₘ₁ - (3//2)*Cᵘ[3, 2]*T*(X^2)*μₘ₋₁ - Cᵘ[3, 2]*T*X*Δx*μₘ₁ + Cᵘ[3, 2]*T*X*Δx*μₘ₋₁ - Cᵘ[3, 2]*T*(Δx^2)*μₘ₀ + (2//1)*Cᵘ[4, 1]*(X^3)*μₘ₀ - Cᵘ[4, 1]*(X^3)*μₘ₁ - Cᵘ[4, 1]*(X^3)*μₘ₋₁ - (3//4)*Cᵘ[4, 1]*(X^2)*Δx*μₘ₁ + (3//4)*Cᵘ[4, 1]*(X^2)*Δx*μₘ₋₁ - Cᵘ[4, 1]*X*(Δx^2)*μₘ₀ + (1//3)*Cᵘ[2, 4]*(T^3)*X*μₘ₀ - (1//6)*Cᵘ[2, 4]*(T^3)*X*μₘ₁ - (1//6)*Cᵘ[2, 4]*(T^3)*X*μₘ₋₁ - (1//12)*Cᵘ[2, 4]*(T^3)*Δx*μₘ₁ + (1//12)*Cᵘ[2, 4]*(T^3)*Δx*μₘ₋₁ + (3//2)*Cᵘ[3, 3]*(T^2)*(X^2)*μₘ₀ - (3//4)*Cᵘ[3, 3]*(T^2)*(X^2)*μₘ₁ - (3//4)*Cᵘ[3, 3]*(T^2)*(X^2)*μₘ₋₁ - (1//2)*Cᵘ[3, 3]*(T^2)*X*Δx*μₘ₁ + (1//2)*Cᵘ[3, 3]*(T^2)*X*Δx*μₘ₋₁ - (1//2)*Cᵘ[3, 3]*(T^2)*(Δx^2)*μₘ₀ + (2//1)*Cᵘ[4, 2]*T*(X^3)*μₘ₀ - Cᵘ[4, 2]*T*(X^3)*μₘ₁ - Cᵘ[4, 2]*T*(X^3)*μₘ₋₁ - (3//4)*Cᵘ[4, 2]*T*(X^2)*Δx*μₘ₁ + (3//4)*Cᵘ[4, 2]*T*(X^2)*Δx*μₘ₋₁ - Cᵘ[4, 2]*T*X*(Δx^2)*μₘ₀ + (5//6)*Cᵘ[5, 1]*(X^4)*μₘ₀ - (5//12)*Cᵘ[5, 1]*(X^4)*μₘ₁ - (5//12)*Cᵘ[5, 1]*(X^4)*μₘ₋₁ - (1//3)*Cᵘ[5, 1]*(X^3)*Δx*μₘ₁ + (1//3)*Cᵘ[5, 1]*(X^3)*Δx*μₘ₋₁ - (1//2)*Cᵘ[5, 1]*(X^2)*(Δx^2)*μₘ₀ + (1//12)*Cᵘ[2, 5]*(T^4)*X*μₘ₀ - (1//24)*Cᵘ[2, 5]*(T^4)*X*μₘ₁ - (1//24)*Cᵘ[2, 5]*(T^4)*X*μₘ₋₁ - (1//48)*Cᵘ[2, 5]*(T^4)*Δx*μₘ₁ + (1//48)*Cᵘ[2, 5]*(T^4)*Δx*μₘ₋₁ + (1//2)*Cᵘ[3, 4]*(T^3)*(X^2)*μₘ₀ - (1//4)*Cᵘ[3, 4]*(T^3)*(X^2)*μₘ₁ - (1//4)*Cᵘ[3, 4]*(T^3)*(X^2)*μₘ₋₁ - (1//6)*Cᵘ[3, 4]*(T^3)*X*Δx*μₘ₁ + (1//6)*Cᵘ[3, 4]*(T^3)*X*Δx*μₘ₋₁ - (1//6)*Cᵘ[3, 4]*(T^3)*(Δx^2)*μₘ₀ + Cᵘ[4, 3]*(T^2)*(X^3)*μₘ₀ - (1//2)*Cᵘ[4, 3]*(T^2)*(X^3)*μₘ₁ - (1//2)*Cᵘ[4, 3]*(T^2)*(X^3)*μₘ₋₁ - (3//8)*Cᵘ[4, 3]*(T^2)*(X^2)*Δx*μₘ₁ + (3//8)*Cᵘ[4, 3]*(T^2)*(X^2)*Δx*μₘ₋₁ - (1//2)*Cᵘ[4, 3]*(T^2)*X*(Δx^2)*μₘ₀ + (5//6)*Cᵘ[5, 2]*T*(X^4)*μₘ₀ - (5//12)*Cᵘ[5, 2]*T*(X^4)*μₘ₁ - (5//12)*Cᵘ[5, 2]*T*(X^4)*μₘ₋₁ - (1//3)*Cᵘ[5, 2]*T*(X^3)*Δx*μₘ₁ + (1//3)*Cᵘ[5, 2]*T*(X^3)*Δx*μₘ₋₁ - (1//2)*Cᵘ[5, 2]*T*(X^2)*(Δx^2)*μₘ₀ + (1//8)*Cᵘ[3, 5]*(T^4)*(X^2)*μₘ₀ - (1//16)*Cᵘ[3, 5]*(T^4)*(X^2)*μₘ₁ - (1//16)*Cᵘ[3, 5]*(T^4)*(X^2)*μₘ₋₁ - (1//24)*Cᵘ[3, 5]*(T^4)*X*Δx*μₘ₁ + (1//24)*Cᵘ[3, 5]*(T^4)*X*Δx*μₘ₋₁ - (1//24)*Cᵘ[3, 5]*(T^4)*(Δx^2)*μₘ₀ + (1//3)*Cᵘ[4, 4]*(T^3)*(X^3)*μₘ₀ - (1//6)*Cᵘ[4, 4]*(T^3)*(X^3)*μₘ₁ - (1//6)*Cᵘ[4, 4]*(T^3)*(X^3)*μₘ₋₁ - (1//8)*Cᵘ[4, 4]*(T^3)*(X^2)*Δx*μₘ₁ + (1//8)*Cᵘ[4, 4]*(T^3)*(X^2)*Δx*μₘ₋₁ - (1//6)*Cᵘ[4, 4]*(T^3)*X*(Δx^2)*μₘ₀ + (5//12)*Cᵘ[5, 3]*(T^2)*(X^4)*μₘ₀ - (5//24)*Cᵘ[5, 3]*(T^2)*(X^4)*μₘ₁ - (5//24)*Cᵘ[5, 3]*(T^2)*(X^4)*μₘ₋₁ - (1//6)*Cᵘ[5, 3]*(T^2)*(X^3)*Δx*μₘ₁ + (1//6)*Cᵘ[5, 3]*(T^2)*(X^3)*Δx*μₘ₋₁ - (1//4)*Cᵘ[5, 3]*(T^2)*(X^2)*(Δx^2)*μₘ₀ + (1//12)*Cᵘ[4, 5]*(T^4)*(X^3)*μₘ₀ - (1//24)*Cᵘ[4, 5]*(T^4)*(X^3)*μₘ₁ - (1//24)*Cᵘ[4, 5]*(T^4)*(X^3)*μₘ₋₁ - (1//32)*Cᵘ[4, 5]*(T^4)*(X^2)*Δx*μₘ₁ + (1//32)*Cᵘ[4, 5]*(T^4)*(X^2)*Δx*μₘ₋₁ - (1//24)*Cᵘ[4, 5]*(T^4)*X*(Δx^2)*μₘ₀ + (5//36)*Cᵘ[5, 4]*(T^3)*(X^4)*μₘ₀ - (5//72)*Cᵘ[5, 4]*(T^3)*(X^4)*μₘ₁ - (5//72)*Cᵘ[5, 4]*(T^3)*(X^4)*μₘ₋₁ - (1//18)*Cᵘ[5, 4]*(T^3)*(X^3)*Δx*μₘ₁ + (1//18)*Cᵘ[5, 4]*(T^3)*(X^3)*Δx*μₘ₋₁ - (1//12)*Cᵘ[5, 4]*(T^3)*(X^2)*(Δx^2)*μₘ₀ + (5//144)*Cᵘ[5, 5]*(T^4)*(X^4)*μₘ₀ - (5//288)*Cᵘ[5, 5]*(T^4)*(X^4)*μₘ₁ - (5//288)*Cᵘ[5, 5]*(T^4)*(X^4)*μₘ₋₁ - (1//72)*Cᵘ[5, 5]*(T^4)*(X^3)*Δx*μₘ₁ + (1//72)*Cᵘ[5, 5]*(T^4)*(X^3)*Δx*μₘ₋₁ - (1//48)*Cᵘ[5, 5]*(T^4)*(X^2)*(Δx^2)*μₘ₀) / (Δx^2) + (-Cᵘ[1, 3]*(X^2)*ρₘ₀ + (1//2)*Cᵘ[1, 3]*(X^2)*ρₘ₁ + (1//2)*Cᵘ[1, 3]*(X^2)*ρₘ₋₁ + (1//2)*Cᵘ[1, 3]*X*Δx*ρₘ₁ - (1//2)*Cᵘ[1, 3]*X*Δx*ρₘ₋₁ + Cᵘ[1, 3]*(Δx^2)*ρₘ₀ - Cᵘ[1, 4]*T*(X^2)*ρₘ₀ + (1//2)*Cᵘ[1, 4]*T*(X^2)*ρₘ₁ + (1//2)*Cᵘ[1, 4]*T*(X^2)*ρₘ₋₁ + (1//2)*Cᵘ[1, 4]*T*X*Δx*ρₘ₁ - (1//2)*Cᵘ[1, 4]*T*X*Δx*ρₘ₋₁ + Cᵘ[1, 4]*T*(Δx^2)*ρₘ₀ - Cᵘ[2, 3]*(X^3)*ρₘ₀ + (1//2)*Cᵘ[2, 3]*(X^3)*ρₘ₁ + (1//2)*Cᵘ[2, 3]*(X^3)*ρₘ₋₁ + (1//2)*Cᵘ[2, 3]*(X^2)*Δx*ρₘ₁ - (1//2)*Cᵘ[2, 3]*(X^2)*Δx*ρₘ₋₁ + Cᵘ[2, 3]*X*(Δx^2)*ρₘ₀ - (1//2)*Cᵘ[1, 5]*(T^2)*(X^2)*ρₘ₀ + (1//4)*Cᵘ[1, 5]*(T^2)*(X^2)*ρₘ₁ + (1//4)*Cᵘ[1, 5]*(T^2)*(X^2)*ρₘ₋₁ + (1//4)*Cᵘ[1, 5]*(T^2)*X*Δx*ρₘ₁ - (1//4)*Cᵘ[1, 5]*(T^2)*X*Δx*ρₘ₋₁ + (1//2)*Cᵘ[1, 5]*(T^2)*(Δx^2)*ρₘ₀ - Cᵘ[2, 4]*T*(X^3)*ρₘ₀ + (1//2)*Cᵘ[2, 4]*T*(X^3)*ρₘ₁ + (1//2)*Cᵘ[2, 4]*T*(X^3)*ρₘ₋₁ + (1//2)*Cᵘ[2, 4]*T*(X^2)*Δx*ρₘ₁ - (1//2)*Cᵘ[2, 4]*T*(X^2)*Δx*ρₘ₋₁ + Cᵘ[2, 4]*T*X*(Δx^2)*ρₘ₀ - (1//2)*Cᵘ[3, 3]*(X^4)*ρₘ₀ + (1//4)*Cᵘ[3, 3]*(X^4)*ρₘ₁ + (1//4)*Cᵘ[3, 3]*(X^4)*ρₘ₋₁ + (1//4)*Cᵘ[3, 3]*(X^3)*Δx*ρₘ₁ - (1//4)*Cᵘ[3, 3]*(X^3)*Δx*ρₘ₋₁ + (1//2)*Cᵘ[3, 3]*(X^2)*(Δx^2)*ρₘ₀ - (1//2)*Cᵘ[2, 5]*(T^2)*(X^3)*ρₘ₀ + (1//4)*Cᵘ[2, 5]*(T^2)*(X^3)*ρₘ₁ + (1//4)*Cᵘ[2, 5]*(T^2)*(X^3)*ρₘ₋₁ + (1//4)*Cᵘ[2, 5]*(T^2)*(X^2)*Δx*ρₘ₁ - (1//4)*Cᵘ[2, 5]*(T^2)*(X^2)*Δx*ρₘ₋₁ + (1//2)*Cᵘ[2, 5]*(T^2)*X*(Δx^2)*ρₘ₀ - (1//2)*Cᵘ[3, 4]*T*(X^4)*ρₘ₀ + (1//4)*Cᵘ[3, 4]*T*(X^4)*ρₘ₁ + (1//4)*Cᵘ[3, 4]*T*(X^4)*ρₘ₋₁ + (1//4)*Cᵘ[3, 4]*T*(X^3)*Δx*ρₘ₁ - (1//4)*Cᵘ[3, 4]*T*(X^3)*Δx*ρₘ₋₁ + (1//2)*Cᵘ[3, 4]*T*(X^2)*(Δx^2)*ρₘ₀ - (1//6)*Cᵘ[4, 3]*(X^5)*ρₘ₀ + (1//12)*Cᵘ[4, 3]*(X^5)*ρₘ₁ + (1//12)*Cᵘ[4, 3]*(X^5)*ρₘ₋₁ + (1//12)*Cᵘ[4, 3]*(X^4)*Δx*ρₘ₁ - (1//12)*Cᵘ[4, 3]*(X^4)*Δx*ρₘ₋₁ + (1//6)*Cᵘ[4, 3]*(X^3)*(Δx^2)*ρₘ₀ - (1//4)*Cᵘ[3, 5]*(T^2)*(X^4)*ρₘ₀ + (1//8)*Cᵘ[3, 5]*(T^2)*(X^4)*ρₘ₁ + (1//8)*Cᵘ[3, 5]*(T^2)*(X^4)*ρₘ₋₁ + (1//8)*Cᵘ[3, 5]*(T^2)*(X^3)*Δx*ρₘ₁ - (1//8)*Cᵘ[3, 5]*(T^2)*(X^3)*Δx*ρₘ₋₁ + (1//4)*Cᵘ[3, 5]*(T^2)*(X^2)*(Δx^2)*ρₘ₀ - (1//6)*Cᵘ[4, 4]*T*(X^5)*ρₘ₀ + (1//12)*Cᵘ[4, 4]*T*(X^5)*ρₘ₁ + (1//12)*Cᵘ[4, 4]*T*(X^5)*ρₘ₋₁ + (1//12)*Cᵘ[4, 4]*T*(X^4)*Δx*ρₘ₁ - (1//12)*Cᵘ[4, 4]*T*(X^4)*Δx*ρₘ₋₁ + (1//6)*Cᵘ[4, 4]*T*(X^3)*(Δx^2)*ρₘ₀ - (1//24)*Cᵘ[5, 3]*(X^6)*ρₘ₀ + (1//48)*Cᵘ[5, 3]*(X^6)*ρₘ₁ + (1//48)*Cᵘ[5, 3]*(X^6)*ρₘ₋₁ + (1//48)*Cᵘ[5, 3]*(X^5)*Δx*ρₘ₁ - (1//48)*Cᵘ[5, 3]*(X^5)*Δx*ρₘ₋₁ + (1//24)*Cᵘ[5, 3]*(X^4)*(Δx^2)*ρₘ₀ - (1//12)*Cᵘ[4, 5]*(T^2)*(X^5)*ρₘ₀ + (1//24)*Cᵘ[4, 5]*(T^2)*(X^5)*ρₘ₁ + (1//24)*Cᵘ[4, 5]*(T^2)*(X^5)*ρₘ₋₁ + (1//24)*Cᵘ[4, 5]*(T^2)*(X^4)*Δx*ρₘ₁ - (1//24)*Cᵘ[4, 5]*(T^2)*(X^4)*Δx*ρₘ₋₁ + (1//12)*Cᵘ[4, 5]*(T^2)*(X^3)*(Δx^2)*ρₘ₀ - (1//24)*Cᵘ[5, 4]*T*(X^6)*ρₘ₀ + (1//48)*Cᵘ[5, 4]*T*(X^6)*ρₘ₁ + (1//48)*Cᵘ[5, 4]*T*(X^6)*ρₘ₋₁ + (1//48)*Cᵘ[5, 4]*T*(X^5)*Δx*ρₘ₁ - (1//48)*Cᵘ[5, 4]*T*(X^5)*Δx*ρₘ₋₁ + (1//24)*Cᵘ[5, 4]*T*(X^4)*(Δx^2)*ρₘ₀ - (1//48)*Cᵘ[5, 5]*(T^2)*(X^6)*ρₘ₀ + (1//96)*Cᵘ[5, 5]*(T^2)*(X^6)*ρₘ₁ + (1//96)*Cᵘ[5, 5]*(T^2)*(X^6)*ρₘ₋₁ + (1//96)*Cᵘ[5, 5]*(T^2)*(X^5)*Δx*ρₘ₁ - (1//96)*Cᵘ[5, 5]*(T^2)*(X^5)*Δx*ρₘ₋₁ + (1//48)*Cᵘ[5, 5]*(T^2)*(X^4)*(Δx^2)*ρₘ₀) / (Δx^2)"
      ]
     },
     "metadata": {},
     "output_type": "display_data"
    }
   ],
   "source": [
    "# here we give the integrand\n",
    "integrand=ρü-kinematics"
   ]
  },
  {
   "cell_type": "code",
   "execution_count": 83,
   "metadata": {},
   "outputs": [
    {
     "data": {
      "text/latex": [
       "$$ \\begin{equation}\n",
       "\\frac{\\frac{1}{3} X^{3} C^u_{2}ˏ_1 \\mu_{m 0} - \\frac{1}{6} X^{3} C^u_{2}ˏ_1 \\mu_{m 1} - \\frac{1}{6} X^{3} C^u_{2}ˏ_1 \\mu_{m - 1} - \\frac{1}{4} X^{2} C^u_{2}ˏ_1 {\\Delta}x \\mu_{m 1} + \\frac{1}{4} X^{2} C^u_{2}ˏ_1 {\\Delta}x \\mu_{m - 1} - \\frac{1}{12} X^{4} C^u_{1}ˏ_3 \\rho_{m 0} + \\frac{1}{24} X^{4} C^u_{1}ˏ_3 \\rho_{m 1} + \\frac{1}{24} X^{4} C^u_{1}ˏ_3 \\rho_{m - 1} + \\frac{1}{12} X^{3} C^u_{1}ˏ_3 {\\Delta}x \\rho_{m 1} - \\frac{1}{12} X^{3} C^u_{1}ˏ_3 {\\Delta}x \\rho_{m - 1} + \\frac{1}{2} {\\Delta}x^{2} X^{2} C^u_{1}ˏ_3 \\rho_{m 0} + \\frac{1}{3} X^{3} C^u_{2}ˏ_2 T \\mu_{m 0} - \\frac{1}{6} X^{3} C^u_{2}ˏ_2 T \\mu_{m 1} - \\frac{1}{6} X^{3} C^u_{2}ˏ_2 T \\mu_{m - 1} - \\frac{1}{4} X^{2} C^u_{2}ˏ_2 T {\\Delta}x \\mu_{m 1} + \\frac{1}{4} X^{2} C^u_{2}ˏ_2 T {\\Delta}x \\mu_{m - 1} + \\frac{1}{4} X^{4} C^u_{3}ˏ_1 \\mu_{m 0} - \\frac{1}{8} X^{4} C^u_{3}ˏ_1 \\mu_{m 1} - \\frac{1}{8} X^{4} C^u_{3}ˏ_1 \\mu_{m - 1} - \\frac{1}{6} X^{3} C^u_{3}ˏ_1 {\\Delta}x \\mu_{m 1} + \\frac{1}{6} X^{3} C^u_{3}ˏ_1 {\\Delta}x \\mu_{m - 1} - \\frac{1}{2} {\\Delta}x^{2} X^{2} C^u_{3}ˏ_1 \\mu_{m 0} - \\frac{1}{12} X^{4} C^u_{1}ˏ_4 T \\rho_{m 0} + \\frac{1}{24} X^{4} C^u_{1}ˏ_4 T \\rho_{m 1} + \\frac{1}{24} X^{4} C^u_{1}ˏ_4 T \\rho_{m - 1} + \\frac{1}{12} X^{3} C^u_{1}ˏ_4 T {\\Delta}x \\rho_{m 1} - \\frac{1}{12} X^{3} C^u_{1}ˏ_4 T {\\Delta}x \\rho_{m - 1} + \\frac{1}{2} {\\Delta}x^{2} X^{2} C^u_{1}ˏ_4 T \\rho_{m 0} + \\frac{1}{6} X^{3} T^{2} C^u_{2}ˏ_3 \\mu_{m 0} - \\frac{1}{12} X^{3} T^{2} C^u_{2}ˏ_3 \\mu_{m 1} - \\frac{1}{12} X^{3} T^{2} C^u_{2}ˏ_3 \\mu_{m - 1} - \\frac{1}{8} X^{2} T^{2} C^u_{2}ˏ_3 {\\Delta}x \\mu_{m 1} + \\frac{1}{8} X^{2} T^{2} C^u_{2}ˏ_3 {\\Delta}x \\mu_{m - 1} - \\frac{1}{20} X^{5} C^u_{2}ˏ_3 \\rho_{m 0} + \\frac{1}{40} X^{5} C^u_{2}ˏ_3 \\rho_{m 1} + \\frac{1}{40} X^{5} C^u_{2}ˏ_3 \\rho_{m - 1} + \\frac{1}{24} X^{4} C^u_{2}ˏ_3 {\\Delta}x \\rho_{m 1} - \\frac{1}{24} X^{4} C^u_{2}ˏ_3 {\\Delta}x \\rho_{m - 1} + \\frac{1}{6} {\\Delta}x^{2} X^{3} C^u_{2}ˏ_3 \\rho_{m 0} + \\frac{1}{4} X^{4} C^u_{3}ˏ_2 T \\mu_{m 0} - \\frac{1}{8} X^{4} C^u_{3}ˏ_2 T \\mu_{m 1} - \\frac{1}{8} X^{4} C^u_{3}ˏ_2 T \\mu_{m - 1} - \\frac{1}{6} X^{3} C^u_{3}ˏ_2 T {\\Delta}x \\mu_{m 1} + \\frac{1}{6} X^{3} C^u_{3}ˏ_2 T {\\Delta}x \\mu_{m - 1} - \\frac{1}{2} {\\Delta}x^{2} X^{2} C^u_{3}ˏ_2 T \\mu_{m 0} + \\frac{1}{10} X^{5} C^u_{4}ˏ_1 \\mu_{m 0} - \\frac{1}{20} X^{5} C^u_{4}ˏ_1 \\mu_{m 1} - \\frac{1}{20} X^{5} C^u_{4}ˏ_1 \\mu_{m - 1} - \\frac{1}{16} X^{4} C^u_{4}ˏ_1 {\\Delta}x \\mu_{m 1} + \\frac{1}{16} X^{4} C^u_{4}ˏ_1 {\\Delta}x \\mu_{m - 1} - \\frac{1}{6} {\\Delta}x^{2} X^{3} C^u_{4}ˏ_1 \\mu_{m 0} - \\frac{1}{24} X^{4} T^{2} C^u_{1}ˏ_5 \\rho_{m 0} + \\frac{1}{48} X^{4} T^{2} C^u_{1}ˏ_5 \\rho_{m 1} + \\frac{1}{48} X^{4} T^{2} C^u_{1}ˏ_5 \\rho_{m - 1} + \\frac{1}{24} X^{3} T^{2} C^u_{1}ˏ_5 {\\Delta}x \\rho_{m 1} - \\frac{1}{24} X^{3} T^{2} C^u_{1}ˏ_5 {\\Delta}x \\rho_{m - 1} + \\frac{1}{4} {\\Delta}x^{2} X^{2} T^{2} C^u_{1}ˏ_5 \\rho_{m 0} + \\frac{1}{18} X^{3} T^{3} C^u_{2}ˏ_4 \\mu_{m 0} - \\frac{1}{36} X^{3} T^{3} C^u_{2}ˏ_4 \\mu_{m 1} - \\frac{1}{36} X^{3} T^{3} C^u_{2}ˏ_4 \\mu_{m - 1} - \\frac{1}{24} X^{2} T^{3} C^u_{2}ˏ_4 {\\Delta}x \\mu_{m 1} + \\frac{1}{24} X^{2} T^{3} C^u_{2}ˏ_4 {\\Delta}x \\mu_{m - 1} - \\frac{1}{20} X^{5} C^u_{2}ˏ_4 T \\rho_{m 0} + \\frac{1}{40} X^{5} C^u_{2}ˏ_4 T \\rho_{m 1} + \\frac{1}{40} X^{5} C^u_{2}ˏ_4 T \\rho_{m - 1} + \\frac{1}{24} X^{4} C^u_{2}ˏ_4 T {\\Delta}x \\rho_{m 1} - \\frac{1}{24} X^{4} C^u_{2}ˏ_4 T {\\Delta}x \\rho_{m - 1} + \\frac{1}{6} {\\Delta}x^{2} X^{3} C^u_{2}ˏ_4 T \\rho_{m 0} + \\frac{1}{8} X^{4} T^{2} C^u_{3}ˏ_3 \\mu_{m 0} - \\frac{1}{16} X^{4} T^{2} C^u_{3}ˏ_3 \\mu_{m 1} - \\frac{1}{16} X^{4} T^{2} C^u_{3}ˏ_3 \\mu_{m - 1} - \\frac{1}{12} X^{3} T^{2} C^u_{3}ˏ_3 {\\Delta}x \\mu_{m 1} + \\frac{1}{12} X^{3} T^{2} C^u_{3}ˏ_3 {\\Delta}x \\mu_{m - 1} - \\frac{1}{4} {\\Delta}x^{2} X^{2} T^{2} C^u_{3}ˏ_3 \\mu_{m 0} - \\frac{1}{60} X^{6} C^u_{3}ˏ_3 \\rho_{m 0} + \\frac{1}{120} X^{6} C^u_{3}ˏ_3 \\rho_{m 1} + \\frac{1}{120} X^{6} C^u_{3}ˏ_3 \\rho_{m - 1} + \\frac{1}{80} X^{5} C^u_{3}ˏ_3 {\\Delta}x \\rho_{m 1} - \\frac{1}{80} X^{5} C^u_{3}ˏ_3 {\\Delta}x \\rho_{m - 1} + \\frac{1}{24} {\\Delta}x^{2} X^{4} C^u_{3}ˏ_3 \\rho_{m 0} + \\frac{1}{10} X^{5} C^u_{4}ˏ_2 T \\mu_{m 0} - \\frac{1}{20} X^{5} C^u_{4}ˏ_2 T \\mu_{m 1} - \\frac{1}{20} X^{5} C^u_{4}ˏ_2 T \\mu_{m - 1} - \\frac{1}{16} X^{4} C^u_{4}ˏ_2 T {\\Delta}x \\mu_{m 1} + \\frac{1}{16} X^{4} C^u_{4}ˏ_2 T {\\Delta}x \\mu_{m - 1} - \\frac{1}{6} {\\Delta}x^{2} X^{3} C^u_{4}ˏ_2 T \\mu_{m 0} + \\frac{1}{36} X^{6} C^u_{5}ˏ_1 \\mu_{m 0} - \\frac{1}{72} X^{6} C^u_{5}ˏ_1 \\mu_{m 1} - \\frac{1}{72} X^{6} C^u_{5}ˏ_1 \\mu_{m - 1} - \\frac{1}{60} X^{5} C^u_{5}ˏ_1 {\\Delta}x \\mu_{m 1} + \\frac{1}{60} X^{5} C^u_{5}ˏ_1 {\\Delta}x \\mu_{m - 1} - \\frac{1}{24} {\\Delta}x^{2} X^{4} C^u_{5}ˏ_1 \\mu_{m 0} + \\frac{1}{72} X^{3} T^{4} C^u_{2}ˏ_5 \\mu_{m 0} - \\frac{1}{144} X^{3} T^{4} C^u_{2}ˏ_5 \\mu_{m 1} - \\frac{1}{144} X^{3} T^{4} C^u_{2}ˏ_5 \\mu_{m - 1} - \\frac{1}{96} X^{2} T^{4} C^u_{2}ˏ_5 {\\Delta}x \\mu_{m 1} + \\frac{1}{96} X^{2} T^{4} C^u_{2}ˏ_5 {\\Delta}x \\mu_{m - 1} - \\frac{1}{40} X^{5} T^{2} C^u_{2}ˏ_5 \\rho_{m 0} + \\frac{1}{80} X^{5} T^{2} C^u_{2}ˏ_5 \\rho_{m 1} + \\frac{1}{80} X^{5} T^{2} C^u_{2}ˏ_5 \\rho_{m - 1} + \\frac{1}{48} X^{4} T^{2} C^u_{2}ˏ_5 {\\Delta}x \\rho_{m 1} - \\frac{1}{48} X^{4} T^{2} C^u_{2}ˏ_5 {\\Delta}x \\rho_{m - 1} + \\frac{1}{12} {\\Delta}x^{2} X^{3} T^{2} C^u_{2}ˏ_5 \\rho_{m 0} + \\frac{1}{24} X^{4} T^{3} C^u_{3}ˏ_4 \\mu_{m 0} - \\frac{1}{48} X^{4} T^{3} C^u_{3}ˏ_4 \\mu_{m 1} - \\frac{1}{48} X^{4} T^{3} C^u_{3}ˏ_4 \\mu_{m - 1} - \\frac{1}{36} X^{3} T^{3} C^u_{3}ˏ_4 {\\Delta}x \\mu_{m 1} + \\frac{1}{36} X^{3} T^{3} C^u_{3}ˏ_4 {\\Delta}x \\mu_{m - 1} - \\frac{1}{12} {\\Delta}x^{2} X^{2} T^{3} C^u_{3}ˏ_4 \\mu_{m 0} - \\frac{1}{60} X^{6} C^u_{3}ˏ_4 T \\rho_{m 0} + \\frac{1}{120} X^{6} C^u_{3}ˏ_4 T \\rho_{m 1} + \\frac{1}{120} X^{6} C^u_{3}ˏ_4 T \\rho_{m - 1} + \\frac{1}{80} X^{5} C^u_{3}ˏ_4 T {\\Delta}x \\rho_{m 1} - \\frac{1}{80} X^{5} C^u_{3}ˏ_4 T {\\Delta}x \\rho_{m - 1} + \\frac{1}{24} {\\Delta}x^{2} X^{4} C^u_{3}ˏ_4 T \\rho_{m 0} + \\frac{1}{20} X^{5} T^{2} C^u_{4}ˏ_3 \\mu_{m 0} - \\frac{1}{40} X^{5} T^{2} C^u_{4}ˏ_3 \\mu_{m 1} - \\frac{1}{40} X^{5} T^{2} C^u_{4}ˏ_3 \\mu_{m - 1} - \\frac{1}{32} X^{4} T^{2} C^u_{4}ˏ_3 {\\Delta}x \\mu_{m 1} + \\frac{1}{32} X^{4} T^{2} C^u_{4}ˏ_3 {\\Delta}x \\mu_{m - 1} - \\frac{1}{12} {\\Delta}x^{2} X^{3} T^{2} C^u_{4}ˏ_3 \\mu_{m 0} - \\frac{1}{252} X^{7} C^u_{4}ˏ_3 \\rho_{m 0} + \\frac{1}{504} X^{7} C^u_{4}ˏ_3 \\rho_{m 1} + \\frac{1}{504} X^{7} C^u_{4}ˏ_3 \\rho_{m - 1} + \\frac{1}{360} X^{6} C^u_{4}ˏ_3 {\\Delta}x \\rho_{m 1} - \\frac{1}{360} X^{6} C^u_{4}ˏ_3 {\\Delta}x \\rho_{m - 1} + \\frac{1}{120} {\\Delta}x^{2} X^{5} C^u_{4}ˏ_3 \\rho_{m 0} + \\frac{1}{36} X^{6} C^u_{5}ˏ_2 T \\mu_{m 0} - \\frac{1}{72} X^{6} C^u_{5}ˏ_2 T \\mu_{m 1} - \\frac{1}{72} X^{6} C^u_{5}ˏ_2 T \\mu_{m - 1} - \\frac{1}{60} X^{5} C^u_{5}ˏ_2 T {\\Delta}x \\mu_{m 1} + \\frac{1}{60} X^{5} C^u_{5}ˏ_2 T {\\Delta}x \\mu_{m - 1} - \\frac{1}{24} {\\Delta}x^{2} X^{4} C^u_{5}ˏ_2 T \\mu_{m 0} + \\frac{1}{96} X^{4} T^{4} C^u_{3}ˏ_5 \\mu_{m 0} - \\frac{1}{192} X^{4} T^{4} C^u_{3}ˏ_5 \\mu_{m 1} - \\frac{1}{192} X^{4} T^{4} C^u_{3}ˏ_5 \\mu_{m - 1} - \\frac{1}{144} X^{3} T^{4} C^u_{3}ˏ_5 {\\Delta}x \\mu_{m 1} + \\frac{1}{144} X^{3} T^{4} C^u_{3}ˏ_5 {\\Delta}x \\mu_{m - 1} - \\frac{1}{48} {\\Delta}x^{2} X^{2} T^{4} C^u_{3}ˏ_5 \\mu_{m 0} - \\frac{1}{120} X^{6} T^{2} C^u_{3}ˏ_5 \\rho_{m 0} + \\frac{1}{240} X^{6} T^{2} C^u_{3}ˏ_5 \\rho_{m 1} + \\frac{1}{240} X^{6} T^{2} C^u_{3}ˏ_5 \\rho_{m - 1} + \\frac{1}{160} X^{5} T^{2} C^u_{3}ˏ_5 {\\Delta}x \\rho_{m 1} - \\frac{1}{160} X^{5} T^{2} C^u_{3}ˏ_5 {\\Delta}x \\rho_{m - 1} + \\frac{1}{48} {\\Delta}x^{2} X^{4} T^{2} C^u_{3}ˏ_5 \\rho_{m 0} + \\frac{1}{60} X^{5} T^{3} C^u_{4}ˏ_4 \\mu_{m 0} - \\frac{1}{120} X^{5} T^{3} C^u_{4}ˏ_4 \\mu_{m 1} - \\frac{1}{120} X^{5} T^{3} C^u_{4}ˏ_4 \\mu_{m - 1} - \\frac{1}{96} X^{4} T^{3} C^u_{4}ˏ_4 {\\Delta}x \\mu_{m 1} + \\frac{1}{96} X^{4} T^{3} C^u_{4}ˏ_4 {\\Delta}x \\mu_{m - 1} - \\frac{1}{36} {\\Delta}x^{2} X^{3} T^{3} C^u_{4}ˏ_4 \\mu_{m 0} - \\frac{1}{252} X^{7} C^u_{4}ˏ_4 T \\rho_{m 0} + \\frac{1}{504} X^{7} C^u_{4}ˏ_4 T \\rho_{m 1} + \\frac{1}{504} X^{7} C^u_{4}ˏ_4 T \\rho_{m - 1} + \\frac{1}{360} X^{6} C^u_{4}ˏ_4 T {\\Delta}x \\rho_{m 1} - \\frac{1}{360} X^{6} C^u_{4}ˏ_4 T {\\Delta}x \\rho_{m - 1} + \\frac{1}{120} {\\Delta}x^{2} X^{5} C^u_{4}ˏ_4 T \\rho_{m 0} + \\frac{1}{72} X^{6} T^{2} C^u_{5}ˏ_3 \\mu_{m 0} - \\frac{1}{144} X^{6} T^{2} C^u_{5}ˏ_3 \\mu_{m 1} - \\frac{1}{144} X^{6} T^{2} C^u_{5}ˏ_3 \\mu_{m - 1} - \\frac{1}{120} X^{5} T^{2} C^u_{5}ˏ_3 {\\Delta}x \\mu_{m 1} + \\frac{1}{120} X^{5} T^{2} C^u_{5}ˏ_3 {\\Delta}x \\mu_{m - 1} - \\frac{1}{48} {\\Delta}x^{2} X^{4} T^{2} C^u_{5}ˏ_3 \\mu_{m 0} - \\frac{1}{1344} X^{8} C^u_{5}ˏ_3 \\rho_{m 0} + \\frac{1}{2688} X^{8} C^u_{5}ˏ_3 \\rho_{m 1} + \\frac{1}{2688} X^{8} C^u_{5}ˏ_3 \\rho_{m - 1} + \\frac{1}{2016} X^{7} C^u_{5}ˏ_3 {\\Delta}x \\rho_{m 1} - \\frac{1}{2016} X^{7} C^u_{5}ˏ_3 {\\Delta}x \\rho_{m - 1} + \\frac{1}{720} {\\Delta}x^{2} X^{6} C^u_{5}ˏ_3 \\rho_{m 0} + \\frac{1}{240} X^{5} T^{4} C^u_{4}ˏ_5 \\mu_{m 0} - \\frac{1}{480} X^{5} T^{4} C^u_{4}ˏ_5 \\mu_{m 1} - \\frac{1}{480} X^{5} T^{4} C^u_{4}ˏ_5 \\mu_{m - 1} - \\frac{1}{384} X^{4} T^{4} C^u_{4}ˏ_5 {\\Delta}x \\mu_{m 1} + \\frac{1}{384} X^{4} T^{4} C^u_{4}ˏ_5 {\\Delta}x \\mu_{m - 1} - \\frac{1}{144} {\\Delta}x^{2} X^{3} T^{4} C^u_{4}ˏ_5 \\mu_{m 0} - \\frac{1}{504} X^{7} T^{2} C^u_{4}ˏ_5 \\rho_{m 0} + \\frac{1}{1008} X^{7} T^{2} C^u_{4}ˏ_5 \\rho_{m 1} + \\frac{1}{1008} X^{7} T^{2} C^u_{4}ˏ_5 \\rho_{m - 1} + \\frac{1}{720} X^{6} T^{2} C^u_{4}ˏ_5 {\\Delta}x \\rho_{m 1} - \\frac{1}{720} X^{6} T^{2} C^u_{4}ˏ_5 {\\Delta}x \\rho_{m - 1} + \\frac{1}{240} {\\Delta}x^{2} X^{5} T^{2} C^u_{4}ˏ_5 \\rho_{m 0} + \\frac{1}{216} X^{6} T^{3} C^u_{5}ˏ_4 \\mu_{m 0} - \\frac{1}{432} X^{6} T^{3} C^u_{5}ˏ_4 \\mu_{m 1} - \\frac{1}{432} X^{6} T^{3} C^u_{5}ˏ_4 \\mu_{m - 1} - \\frac{1}{360} X^{5} T^{3} C^u_{5}ˏ_4 {\\Delta}x \\mu_{m 1} + \\frac{1}{360} X^{5} T^{3} C^u_{5}ˏ_4 {\\Delta}x \\mu_{m - 1} - \\frac{1}{144} {\\Delta}x^{2} X^{4} T^{3} C^u_{5}ˏ_4 \\mu_{m 0} - \\frac{1}{1344} X^{8} C^u_{5}ˏ_4 T \\rho_{m 0} + \\frac{1}{2688} X^{8} C^u_{5}ˏ_4 T \\rho_{m 1} + \\frac{1}{2688} X^{8} C^u_{5}ˏ_4 T \\rho_{m - 1} + \\frac{1}{2016} X^{7} C^u_{5}ˏ_4 T {\\Delta}x \\rho_{m 1} - \\frac{1}{2016} X^{7} C^u_{5}ˏ_4 T {\\Delta}x \\rho_{m - 1} + \\frac{1}{720} {\\Delta}x^{2} X^{6} C^u_{5}ˏ_4 T \\rho_{m 0} + \\frac{1}{864} X^{6} T^{4} C^u_{5}ˏ_5 \\mu_{m 0} - \\frac{1}{1728} X^{6} T^{4} C^u_{5}ˏ_5 \\mu_{m 1} - \\frac{1}{1728} X^{6} T^{4} C^u_{5}ˏ_5 \\mu_{m - 1} - \\frac{1}{1440} X^{5} T^{4} C^u_{5}ˏ_5 {\\Delta}x \\mu_{m 1} + \\frac{1}{1440} X^{5} T^{4} C^u_{5}ˏ_5 {\\Delta}x \\mu_{m - 1} - \\frac{1}{576} {\\Delta}x^{2} X^{4} T^{4} C^u_{5}ˏ_5 \\mu_{m 0} - \\frac{1}{2688} X^{8} T^{2} C^u_{5}ˏ_5 \\rho_{m 0} + \\frac{1}{5376} X^{8} T^{2} C^u_{5}ˏ_5 \\rho_{m 1} + \\frac{1}{5376} X^{8} T^{2} C^u_{5}ˏ_5 \\rho_{m - 1} + \\frac{1}{4032} X^{7} T^{2} C^u_{5}ˏ_5 {\\Delta}x \\rho_{m 1} - \\frac{1}{4032} X^{7} T^{2} C^u_{5}ˏ_5 {\\Delta}x \\rho_{m - 1} + \\frac{1}{1440} {\\Delta}x^{2} X^{6} T^{2} C^u_{5}ˏ_5 \\rho_{m 0}}{{\\Delta}x^{2}}\n",
       "\\end{equation}\n",
       " $$"
      ],
      "text/plain": [
       "((1//3)*Cᵘ[2, 1]*(X^3)*μₘ₀ - (1//6)*Cᵘ[2, 1]*(X^3)*μₘ₁ - (1//6)*Cᵘ[2, 1]*(X^3)*μₘ₋₁ - (1//4)*Cᵘ[2, 1]*(X^2)*Δx*μₘ₁ + (1//4)*Cᵘ[2, 1]*(X^2)*Δx*μₘ₋₁ - (1//12)*Cᵘ[1, 3]*(X^4)*ρₘ₀ + (1//24)*Cᵘ[1, 3]*(X^4)*ρₘ₁ + (1//24)*Cᵘ[1, 3]*(X^4)*ρₘ₋₁ + (1//12)*Cᵘ[1, 3]*(X^3)*Δx*ρₘ₁ - (1//12)*Cᵘ[1, 3]*(X^3)*Δx*ρₘ₋₁ + (1//2)*Cᵘ[1, 3]*(X^2)*(Δx^2)*ρₘ₀ + (1//3)*Cᵘ[2, 2]*T*(X^3)*μₘ₀ - (1//6)*Cᵘ[2, 2]*T*(X^3)*μₘ₁ - (1//6)*Cᵘ[2, 2]*T*(X^3)*μₘ₋₁ - (1//4)*Cᵘ[2, 2]*T*(X^2)*Δx*μₘ₁ + (1//4)*Cᵘ[2, 2]*T*(X^2)*Δx*μₘ₋₁ + (1//4)*Cᵘ[3, 1]*(X^4)*μₘ₀ - (1//8)*Cᵘ[3, 1]*(X^4)*μₘ₁ - (1//8)*Cᵘ[3, 1]*(X^4)*μₘ₋₁ - (1//6)*Cᵘ[3, 1]*(X^3)*Δx*μₘ₁ + (1//6)*Cᵘ[3, 1]*(X^3)*Δx*μₘ₋₁ - (1//2)*Cᵘ[3, 1]*(X^2)*(Δx^2)*μₘ₀ - (1//12)*Cᵘ[1, 4]*T*(X^4)*ρₘ₀ + (1//24)*Cᵘ[1, 4]*T*(X^4)*ρₘ₁ + (1//24)*Cᵘ[1, 4]*T*(X^4)*ρₘ₋₁ + (1//12)*Cᵘ[1, 4]*T*(X^3)*Δx*ρₘ₁ - (1//12)*Cᵘ[1, 4]*T*(X^3)*Δx*ρₘ₋₁ + (1//2)*Cᵘ[1, 4]*T*(X^2)*(Δx^2)*ρₘ₀ + (1//6)*Cᵘ[2, 3]*(T^2)*(X^3)*μₘ₀ - (1//12)*Cᵘ[2, 3]*(T^2)*(X^3)*μₘ₁ - (1//12)*Cᵘ[2, 3]*(T^2)*(X^3)*μₘ₋₁ - (1//8)*Cᵘ[2, 3]*(T^2)*(X^2)*Δx*μₘ₁ + (1//8)*Cᵘ[2, 3]*(T^2)*(X^2)*Δx*μₘ₋₁ - (1//20)*Cᵘ[2, 3]*(X^5)*ρₘ₀ + (1//40)*Cᵘ[2, 3]*(X^5)*ρₘ₁ + (1//40)*Cᵘ[2, 3]*(X^5)*ρₘ₋₁ + (1//24)*Cᵘ[2, 3]*(X^4)*Δx*ρₘ₁ - (1//24)*Cᵘ[2, 3]*(X^4)*Δx*ρₘ₋₁ + (1//6)*Cᵘ[2, 3]*(X^3)*(Δx^2)*ρₘ₀ + (1//4)*Cᵘ[3, 2]*T*(X^4)*μₘ₀ - (1//8)*Cᵘ[3, 2]*T*(X^4)*μₘ₁ - (1//8)*Cᵘ[3, 2]*T*(X^4)*μₘ₋₁ - (1//6)*Cᵘ[3, 2]*T*(X^3)*Δx*μₘ₁ + (1//6)*Cᵘ[3, 2]*T*(X^3)*Δx*μₘ₋₁ - (1//2)*Cᵘ[3, 2]*T*(X^2)*(Δx^2)*μₘ₀ + (1//10)*Cᵘ[4, 1]*(X^5)*μₘ₀ - (1//20)*Cᵘ[4, 1]*(X^5)*μₘ₁ - (1//20)*Cᵘ[4, 1]*(X^5)*μₘ₋₁ - (1//16)*Cᵘ[4, 1]*(X^4)*Δx*μₘ₁ + (1//16)*Cᵘ[4, 1]*(X^4)*Δx*μₘ₋₁ - (1//6)*Cᵘ[4, 1]*(X^3)*(Δx^2)*μₘ₀ - (1//24)*Cᵘ[1, 5]*(T^2)*(X^4)*ρₘ₀ + (1//48)*Cᵘ[1, 5]*(T^2)*(X^4)*ρₘ₁ + (1//48)*Cᵘ[1, 5]*(T^2)*(X^4)*ρₘ₋₁ + (1//24)*Cᵘ[1, 5]*(T^2)*(X^3)*Δx*ρₘ₁ - (1//24)*Cᵘ[1, 5]*(T^2)*(X^3)*Δx*ρₘ₋₁ + (1//4)*Cᵘ[1, 5]*(T^2)*(X^2)*(Δx^2)*ρₘ₀ + (1//18)*Cᵘ[2, 4]*(T^3)*(X^3)*μₘ₀ - (1//36)*Cᵘ[2, 4]*(T^3)*(X^3)*μₘ₁ - (1//36)*Cᵘ[2, 4]*(T^3)*(X^3)*μₘ₋₁ - (1//24)*Cᵘ[2, 4]*(T^3)*(X^2)*Δx*μₘ₁ + (1//24)*Cᵘ[2, 4]*(T^3)*(X^2)*Δx*μₘ₋₁ - (1//20)*Cᵘ[2, 4]*T*(X^5)*ρₘ₀ + (1//40)*Cᵘ[2, 4]*T*(X^5)*ρₘ₁ + (1//40)*Cᵘ[2, 4]*T*(X^5)*ρₘ₋₁ + (1//24)*Cᵘ[2, 4]*T*(X^4)*Δx*ρₘ₁ - (1//24)*Cᵘ[2, 4]*T*(X^4)*Δx*ρₘ₋₁ + (1//6)*Cᵘ[2, 4]*T*(X^3)*(Δx^2)*ρₘ₀ + (1//8)*Cᵘ[3, 3]*(T^2)*(X^4)*μₘ₀ - (1//16)*Cᵘ[3, 3]*(T^2)*(X^4)*μₘ₁ - (1//16)*Cᵘ[3, 3]*(T^2)*(X^4)*μₘ₋₁ - (1//12)*Cᵘ[3, 3]*(T^2)*(X^3)*Δx*μₘ₁ + (1//12)*Cᵘ[3, 3]*(T^2)*(X^3)*Δx*μₘ₋₁ - (1//4)*Cᵘ[3, 3]*(T^2)*(X^2)*(Δx^2)*μₘ₀ - (1//60)*Cᵘ[3, 3]*(X^6)*ρₘ₀ + (1//120)*Cᵘ[3, 3]*(X^6)*ρₘ₁ + (1//120)*Cᵘ[3, 3]*(X^6)*ρₘ₋₁ + (1//80)*Cᵘ[3, 3]*(X^5)*Δx*ρₘ₁ - (1//80)*Cᵘ[3, 3]*(X^5)*Δx*ρₘ₋₁ + (1//24)*Cᵘ[3, 3]*(X^4)*(Δx^2)*ρₘ₀ + (1//10)*Cᵘ[4, 2]*T*(X^5)*μₘ₀ - (1//20)*Cᵘ[4, 2]*T*(X^5)*μₘ₁ - (1//20)*Cᵘ[4, 2]*T*(X^5)*μₘ₋₁ - (1//16)*Cᵘ[4, 2]*T*(X^4)*Δx*μₘ₁ + (1//16)*Cᵘ[4, 2]*T*(X^4)*Δx*μₘ₋₁ - (1//6)*Cᵘ[4, 2]*T*(X^3)*(Δx^2)*μₘ₀ + (1//36)*Cᵘ[5, 1]*(X^6)*μₘ₀ - (1//72)*Cᵘ[5, 1]*(X^6)*μₘ₁ - (1//72)*Cᵘ[5, 1]*(X^6)*μₘ₋₁ - (1//60)*Cᵘ[5, 1]*(X^5)*Δx*μₘ₁ + (1//60)*Cᵘ[5, 1]*(X^5)*Δx*μₘ₋₁ - (1//24)*Cᵘ[5, 1]*(X^4)*(Δx^2)*μₘ₀ + (1//72)*Cᵘ[2, 5]*(T^4)*(X^3)*μₘ₀ - (1//144)*Cᵘ[2, 5]*(T^4)*(X^3)*μₘ₁ - (1//144)*Cᵘ[2, 5]*(T^4)*(X^3)*μₘ₋₁ - (1//96)*Cᵘ[2, 5]*(T^4)*(X^2)*Δx*μₘ₁ + (1//96)*Cᵘ[2, 5]*(T^4)*(X^2)*Δx*μₘ₋₁ - (1//40)*Cᵘ[2, 5]*(T^2)*(X^5)*ρₘ₀ + (1//80)*Cᵘ[2, 5]*(T^2)*(X^5)*ρₘ₁ + (1//80)*Cᵘ[2, 5]*(T^2)*(X^5)*ρₘ₋₁ + (1//48)*Cᵘ[2, 5]*(T^2)*(X^4)*Δx*ρₘ₁ - (1//48)*Cᵘ[2, 5]*(T^2)*(X^4)*Δx*ρₘ₋₁ + (1//12)*Cᵘ[2, 5]*(T^2)*(X^3)*(Δx^2)*ρₘ₀ + (1//24)*Cᵘ[3, 4]*(T^3)*(X^4)*μₘ₀ - (1//48)*Cᵘ[3, 4]*(T^3)*(X^4)*μₘ₁ - (1//48)*Cᵘ[3, 4]*(T^3)*(X^4)*μₘ₋₁ - (1//36)*Cᵘ[3, 4]*(T^3)*(X^3)*Δx*μₘ₁ + (1//36)*Cᵘ[3, 4]*(T^3)*(X^3)*Δx*μₘ₋₁ - (1//12)*Cᵘ[3, 4]*(T^3)*(X^2)*(Δx^2)*μₘ₀ - (1//60)*Cᵘ[3, 4]*T*(X^6)*ρₘ₀ + (1//120)*Cᵘ[3, 4]*T*(X^6)*ρₘ₁ + (1//120)*Cᵘ[3, 4]*T*(X^6)*ρₘ₋₁ + (1//80)*Cᵘ[3, 4]*T*(X^5)*Δx*ρₘ₁ - (1//80)*Cᵘ[3, 4]*T*(X^5)*Δx*ρₘ₋₁ + (1//24)*Cᵘ[3, 4]*T*(X^4)*(Δx^2)*ρₘ₀ + (1//20)*Cᵘ[4, 3]*(T^2)*(X^5)*μₘ₀ - (1//40)*Cᵘ[4, 3]*(T^2)*(X^5)*μₘ₁ - (1//40)*Cᵘ[4, 3]*(T^2)*(X^5)*μₘ₋₁ - (1//32)*Cᵘ[4, 3]*(T^2)*(X^4)*Δx*μₘ₁ + (1//32)*Cᵘ[4, 3]*(T^2)*(X^4)*Δx*μₘ₋₁ - (1//12)*Cᵘ[4, 3]*(T^2)*(X^3)*(Δx^2)*μₘ₀ - (1//252)*Cᵘ[4, 3]*(X^7)*ρₘ₀ + (1//504)*Cᵘ[4, 3]*(X^7)*ρₘ₁ + (1//504)*Cᵘ[4, 3]*(X^7)*ρₘ₋₁ + (1//360)*Cᵘ[4, 3]*(X^6)*Δx*ρₘ₁ - (1//360)*Cᵘ[4, 3]*(X^6)*Δx*ρₘ₋₁ + (1//120)*Cᵘ[4, 3]*(X^5)*(Δx^2)*ρₘ₀ + (1//36)*Cᵘ[5, 2]*T*(X^6)*μₘ₀ - (1//72)*Cᵘ[5, 2]*T*(X^6)*μₘ₁ - (1//72)*Cᵘ[5, 2]*T*(X^6)*μₘ₋₁ - (1//60)*Cᵘ[5, 2]*T*(X^5)*Δx*μₘ₁ + (1//60)*Cᵘ[5, 2]*T*(X^5)*Δx*μₘ₋₁ - (1//24)*Cᵘ[5, 2]*T*(X^4)*(Δx^2)*μₘ₀ + (1//96)*Cᵘ[3, 5]*(T^4)*(X^4)*μₘ₀ - (1//192)*Cᵘ[3, 5]*(T^4)*(X^4)*μₘ₁ - (1//192)*Cᵘ[3, 5]*(T^4)*(X^4)*μₘ₋₁ - (1//144)*Cᵘ[3, 5]*(T^4)*(X^3)*Δx*μₘ₁ + (1//144)*Cᵘ[3, 5]*(T^4)*(X^3)*Δx*μₘ₋₁ - (1//48)*Cᵘ[3, 5]*(T^4)*(X^2)*(Δx^2)*μₘ₀ - (1//120)*Cᵘ[3, 5]*(T^2)*(X^6)*ρₘ₀ + (1//240)*Cᵘ[3, 5]*(T^2)*(X^6)*ρₘ₁ + (1//240)*Cᵘ[3, 5]*(T^2)*(X^6)*ρₘ₋₁ + (1//160)*Cᵘ[3, 5]*(T^2)*(X^5)*Δx*ρₘ₁ - (1//160)*Cᵘ[3, 5]*(T^2)*(X^5)*Δx*ρₘ₋₁ + (1//48)*Cᵘ[3, 5]*(T^2)*(X^4)*(Δx^2)*ρₘ₀ + (1//60)*Cᵘ[4, 4]*(T^3)*(X^5)*μₘ₀ - (1//120)*Cᵘ[4, 4]*(T^3)*(X^5)*μₘ₁ - (1//120)*Cᵘ[4, 4]*(T^3)*(X^5)*μₘ₋₁ - (1//96)*Cᵘ[4, 4]*(T^3)*(X^4)*Δx*μₘ₁ + (1//96)*Cᵘ[4, 4]*(T^3)*(X^4)*Δx*μₘ₋₁ - (1//36)*Cᵘ[4, 4]*(T^3)*(X^3)*(Δx^2)*μₘ₀ - (1//252)*Cᵘ[4, 4]*T*(X^7)*ρₘ₀ + (1//504)*Cᵘ[4, 4]*T*(X^7)*ρₘ₁ + (1//504)*Cᵘ[4, 4]*T*(X^7)*ρₘ₋₁ + (1//360)*Cᵘ[4, 4]*T*(X^6)*Δx*ρₘ₁ - (1//360)*Cᵘ[4, 4]*T*(X^6)*Δx*ρₘ₋₁ + (1//120)*Cᵘ[4, 4]*T*(X^5)*(Δx^2)*ρₘ₀ + (1//72)*Cᵘ[5, 3]*(T^2)*(X^6)*μₘ₀ - (1//144)*Cᵘ[5, 3]*(T^2)*(X^6)*μₘ₁ - (1//144)*Cᵘ[5, 3]*(T^2)*(X^6)*μₘ₋₁ - (1//120)*Cᵘ[5, 3]*(T^2)*(X^5)*Δx*μₘ₁ + (1//120)*Cᵘ[5, 3]*(T^2)*(X^5)*Δx*μₘ₋₁ - (1//48)*Cᵘ[5, 3]*(T^2)*(X^4)*(Δx^2)*μₘ₀ - (1//1344)*Cᵘ[5, 3]*(X^8)*ρₘ₀ + (1//2688)*Cᵘ[5, 3]*(X^8)*ρₘ₁ + (1//2688)*Cᵘ[5, 3]*(X^8)*ρₘ₋₁ + (1//2016)*Cᵘ[5, 3]*(X^7)*Δx*ρₘ₁ - (1//2016)*Cᵘ[5, 3]*(X^7)*Δx*ρₘ₋₁ + (1//720)*Cᵘ[5, 3]*(X^6)*(Δx^2)*ρₘ₀ + (1//240)*Cᵘ[4, 5]*(T^4)*(X^5)*μₘ₀ - (1//480)*Cᵘ[4, 5]*(T^4)*(X^5)*μₘ₁ - (1//480)*Cᵘ[4, 5]*(T^4)*(X^5)*μₘ₋₁ - (1//384)*Cᵘ[4, 5]*(T^4)*(X^4)*Δx*μₘ₁ + (1//384)*Cᵘ[4, 5]*(T^4)*(X^4)*Δx*μₘ₋₁ - (1//144)*Cᵘ[4, 5]*(T^4)*(X^3)*(Δx^2)*μₘ₀ - (1//504)*Cᵘ[4, 5]*(T^2)*(X^7)*ρₘ₀ + (1//1008)*Cᵘ[4, 5]*(T^2)*(X^7)*ρₘ₁ + (1//1008)*Cᵘ[4, 5]*(T^2)*(X^7)*ρₘ₋₁ + (1//720)*Cᵘ[4, 5]*(T^2)*(X^6)*Δx*ρₘ₁ - (1//720)*Cᵘ[4, 5]*(T^2)*(X^6)*Δx*ρₘ₋₁ + (1//240)*Cᵘ[4, 5]*(T^2)*(X^5)*(Δx^2)*ρₘ₀ + (1//216)*Cᵘ[5, 4]*(T^3)*(X^6)*μₘ₀ - (1//432)*Cᵘ[5, 4]*(T^3)*(X^6)*μₘ₁ - (1//432)*Cᵘ[5, 4]*(T^3)*(X^6)*μₘ₋₁ - (1//360)*Cᵘ[5, 4]*(T^3)*(X^5)*Δx*μₘ₁ + (1//360)*Cᵘ[5, 4]*(T^3)*(X^5)*Δx*μₘ₋₁ - (1//144)*Cᵘ[5, 4]*(T^3)*(X^4)*(Δx^2)*μₘ₀ - (1//1344)*Cᵘ[5, 4]*T*(X^8)*ρₘ₀ + (1//2688)*Cᵘ[5, 4]*T*(X^8)*ρₘ₁ + (1//2688)*Cᵘ[5, 4]*T*(X^8)*ρₘ₋₁ + (1//2016)*Cᵘ[5, 4]*T*(X^7)*Δx*ρₘ₁ - (1//2016)*Cᵘ[5, 4]*T*(X^7)*Δx*ρₘ₋₁ + (1//720)*Cᵘ[5, 4]*T*(X^6)*(Δx^2)*ρₘ₀ + (1//864)*Cᵘ[5, 5]*(T^4)*(X^6)*μₘ₀ - (1//1728)*Cᵘ[5, 5]*(T^4)*(X^6)*μₘ₁ - (1//1728)*Cᵘ[5, 5]*(T^4)*(X^6)*μₘ₋₁ - (1//1440)*Cᵘ[5, 5]*(T^4)*(X^5)*Δx*μₘ₁ + (1//1440)*Cᵘ[5, 5]*(T^4)*(X^5)*Δx*μₘ₋₁ - (1//576)*Cᵘ[5, 5]*(T^4)*(X^4)*(Δx^2)*μₘ₀ - (1//2688)*Cᵘ[5, 5]*(T^2)*(X^8)*ρₘ₀ + (1//5376)*Cᵘ[5, 5]*(T^2)*(X^8)*ρₘ₁ + (1//5376)*Cᵘ[5, 5]*(T^2)*(X^8)*ρₘ₋₁ + (1//4032)*Cᵘ[5, 5]*(T^2)*(X^7)*Δx*ρₘ₁ - (1//4032)*Cᵘ[5, 5]*(T^2)*(X^7)*Δx*ρₘ₋₁ + (1//1440)*Cᵘ[5, 5]*(T^2)*(X^6)*(Δx^2)*ρₘ₀) / (Δx^2)"
      ]
     },
     "metadata": {},
     "output_type": "display_data"
    }
   ],
   "source": [
    "f1_space=integrateTaylorPolynomials(integrand,X)\n",
    "f2_space=integrateTaylorPolynomials(f1_space,X)"
   ]
  },
  {
   "cell_type": "code",
   "execution_count": 84,
   "metadata": {},
   "outputs": [
    {
     "data": {
      "text/latex": [
       "$$ \\begin{equation}\n",
       " - \\frac{1}{3} C^u_{2}ˏ_1 {\\Delta}x \\mu_{m 0} - \\frac{1}{12} C^u_{2}ˏ_1 {\\Delta}x \\mu_{m 1} + \\frac{5}{12} C^u_{2}ˏ_1 {\\Delta}x \\mu_{m - 1} + \\frac{5}{12} {\\Delta}x^{2} C^u_{1}ˏ_3 \\rho_{m 0} - \\frac{1}{24} {\\Delta}x^{2} C^u_{1}ˏ_3 \\rho_{m 1} + \\frac{1}{8} {\\Delta}x^{2} C^u_{1}ˏ_3 \\rho_{m - 1} - \\frac{1}{3} C^u_{2}ˏ_2 T {\\Delta}x \\mu_{m 0} - \\frac{1}{12} C^u_{2}ˏ_2 T {\\Delta}x \\mu_{m 1} + \\frac{5}{12} C^u_{2}ˏ_2 T {\\Delta}x \\mu_{m - 1} - \\frac{1}{4} {\\Delta}x^{2} C^u_{3}ˏ_1 \\mu_{m 0} + \\frac{1}{24} {\\Delta}x^{2} C^u_{3}ˏ_1 \\mu_{m 1} - \\frac{7}{24} {\\Delta}x^{2} C^u_{3}ˏ_1 \\mu_{m - 1} + \\frac{5}{12} {\\Delta}x^{2} C^u_{1}ˏ_4 T \\rho_{m 0} - \\frac{1}{24} {\\Delta}x^{2} C^u_{1}ˏ_4 T \\rho_{m 1} + \\frac{1}{8} {\\Delta}x^{2} C^u_{1}ˏ_4 T \\rho_{m - 1} - \\frac{1}{6} T^{2} C^u_{2}ˏ_3 {\\Delta}x \\mu_{m 0} - \\frac{1}{24} T^{2} C^u_{2}ˏ_3 {\\Delta}x \\mu_{m 1} + \\frac{5}{24} T^{2} C^u_{2}ˏ_3 {\\Delta}x \\mu_{m - 1} - \\frac{7}{60} {\\Delta}x^{3} C^u_{2}ˏ_3 \\rho_{m 0} + \\frac{1}{60} {\\Delta}x^{3} C^u_{2}ˏ_3 \\rho_{m 1} - \\frac{1}{15} {\\Delta}x^{3} C^u_{2}ˏ_3 \\rho_{m - 1} - \\frac{1}{4} {\\Delta}x^{2} C^u_{3}ˏ_2 T \\mu_{m 0} + \\frac{1}{24} {\\Delta}x^{2} C^u_{3}ˏ_2 T \\mu_{m 1} - \\frac{7}{24} {\\Delta}x^{2} C^u_{3}ˏ_2 T \\mu_{m - 1} + \\frac{1}{15} {\\Delta}x^{3} C^u_{4}ˏ_1 \\mu_{m 0} - \\frac{1}{80} {\\Delta}x^{3} C^u_{4}ˏ_1 \\mu_{m 1} + \\frac{9}{80} {\\Delta}x^{3} C^u_{4}ˏ_1 \\mu_{m - 1} + \\frac{5}{24} {\\Delta}x^{2} T^{2} C^u_{1}ˏ_5 \\rho_{m 0} - \\frac{1}{48} {\\Delta}x^{2} T^{2} C^u_{1}ˏ_5 \\rho_{m 1} + \\frac{1}{16} {\\Delta}x^{2} T^{2} C^u_{1}ˏ_5 \\rho_{m - 1} - \\frac{1}{18} T^{3} C^u_{2}ˏ_4 {\\Delta}x \\mu_{m 0} - \\frac{1}{72} T^{3} C^u_{2}ˏ_4 {\\Delta}x \\mu_{m 1} + \\frac{5}{72} T^{3} C^u_{2}ˏ_4 {\\Delta}x \\mu_{m - 1} - \\frac{7}{60} {\\Delta}x^{3} C^u_{2}ˏ_4 T \\rho_{m 0} + \\frac{1}{60} {\\Delta}x^{3} C^u_{2}ˏ_4 T \\rho_{m 1} - \\frac{1}{15} {\\Delta}x^{3} C^u_{2}ˏ_4 T \\rho_{m - 1} - \\frac{1}{8} {\\Delta}x^{2} T^{2} C^u_{3}ˏ_3 \\mu_{m 0} + \\frac{1}{48} {\\Delta}x^{2} T^{2} C^u_{3}ˏ_3 \\mu_{m 1} - \\frac{7}{48} {\\Delta}x^{2} T^{2} C^u_{3}ˏ_3 \\mu_{m - 1} + \\frac{1}{40} {\\Delta}x^{4} C^u_{3}ˏ_3 \\rho_{m 0} - \\frac{1}{240} {\\Delta}x^{4} C^u_{3}ˏ_3 \\rho_{m 1} + \\frac{1}{48} {\\Delta}x^{4} C^u_{3}ˏ_3 \\rho_{m - 1} + \\frac{1}{15} {\\Delta}x^{3} C^u_{4}ˏ_2 T \\mu_{m 0} - \\frac{1}{80} {\\Delta}x^{3} C^u_{4}ˏ_2 T \\mu_{m 1} + \\frac{9}{80} {\\Delta}x^{3} C^u_{4}ˏ_2 T \\mu_{m - 1} - \\frac{1}{72} {\\Delta}x^{4} C^u_{5}ˏ_1 \\mu_{m 0} + \\frac{1}{360} {\\Delta}x^{4} C^u_{5}ˏ_1 \\mu_{m 1} - \\frac{11}{360} {\\Delta}x^{4} C^u_{5}ˏ_1 \\mu_{m - 1} - \\frac{1}{72} T^{4} C^u_{2}ˏ_5 {\\Delta}x \\mu_{m 0} - \\frac{1}{288} T^{4} C^u_{2}ˏ_5 {\\Delta}x \\mu_{m 1} + \\frac{5}{288} T^{4} C^u_{2}ˏ_5 {\\Delta}x \\mu_{m - 1} - \\frac{7}{120} {\\Delta}x^{3} T^{2} C^u_{2}ˏ_5 \\rho_{m 0} + \\frac{1}{120} {\\Delta}x^{3} T^{2} C^u_{2}ˏ_5 \\rho_{m 1} - \\frac{1}{30} {\\Delta}x^{3} T^{2} C^u_{2}ˏ_5 \\rho_{m - 1} - \\frac{1}{24} {\\Delta}x^{2} T^{3} C^u_{3}ˏ_4 \\mu_{m 0} + \\frac{1}{144} {\\Delta}x^{2} T^{3} C^u_{3}ˏ_4 \\mu_{m 1} - \\frac{7}{144} {\\Delta}x^{2} T^{3} C^u_{3}ˏ_4 \\mu_{m - 1} + \\frac{1}{40} {\\Delta}x^{4} C^u_{3}ˏ_4 T \\rho_{m 0} - \\frac{1}{240} {\\Delta}x^{4} C^u_{3}ˏ_4 T \\rho_{m 1} + \\frac{1}{48} {\\Delta}x^{4} C^u_{3}ˏ_4 T \\rho_{m - 1} + \\frac{1}{30} {\\Delta}x^{3} T^{2} C^u_{4}ˏ_3 \\mu_{m 0} - \\frac{1}{160} {\\Delta}x^{3} T^{2} C^u_{4}ˏ_3 \\mu_{m 1} + \\frac{9}{160} {\\Delta}x^{3} T^{2} C^u_{4}ˏ_3 \\mu_{m - 1} - \\frac{11}{2520} {\\Delta}x^{5} C^u_{4}ˏ_3 \\rho_{m 0} + \\frac{1}{1260} {\\Delta}x^{5} C^u_{4}ˏ_3 \\rho_{m 1} - \\frac{1}{210} {\\Delta}x^{5} C^u_{4}ˏ_3 \\rho_{m - 1} - \\frac{1}{72} {\\Delta}x^{4} C^u_{5}ˏ_2 T \\mu_{m 0} + \\frac{1}{360} {\\Delta}x^{4} C^u_{5}ˏ_2 T \\mu_{m 1} - \\frac{11}{360} {\\Delta}x^{4} C^u_{5}ˏ_2 T \\mu_{m - 1} - \\frac{1}{96} {\\Delta}x^{2} T^{4} C^u_{3}ˏ_5 \\mu_{m 0} + \\frac{1}{576} {\\Delta}x^{2} T^{4} C^u_{3}ˏ_5 \\mu_{m 1} - \\frac{7}{576} {\\Delta}x^{2} T^{4} C^u_{3}ˏ_5 \\mu_{m - 1} + \\frac{1}{80} {\\Delta}x^{4} T^{2} C^u_{3}ˏ_5 \\rho_{m 0} - \\frac{1}{480} {\\Delta}x^{4} T^{2} C^u_{3}ˏ_5 \\rho_{m 1} + \\frac{1}{96} {\\Delta}x^{4} T^{2} C^u_{3}ˏ_5 \\rho_{m - 1} + \\frac{1}{90} {\\Delta}x^{3} T^{3} C^u_{4}ˏ_4 \\mu_{m 0} - \\frac{1}{480} {\\Delta}x^{3} T^{3} C^u_{4}ˏ_4 \\mu_{m 1} + \\frac{3}{160} {\\Delta}x^{3} T^{3} C^u_{4}ˏ_4 \\mu_{m - 1} - \\frac{11}{2520} {\\Delta}x^{5} C^u_{4}ˏ_4 T \\rho_{m 0} + \\frac{1}{1260} {\\Delta}x^{5} C^u_{4}ˏ_4 T \\rho_{m 1} - \\frac{1}{210} {\\Delta}x^{5} C^u_{4}ˏ_4 T \\rho_{m - 1} - \\frac{1}{144} {\\Delta}x^{4} T^{2} C^u_{5}ˏ_3 \\mu_{m 0} + \\frac{1}{720} {\\Delta}x^{4} T^{2} C^u_{5}ˏ_3 \\mu_{m 1} - \\frac{11}{720} {\\Delta}x^{4} T^{2} C^u_{5}ˏ_3 \\mu_{m - 1} + \\frac{13}{20160} {\\Delta}x^{6} C^u_{5}ˏ_3 \\rho_{m 0} - \\frac{1}{8064} {\\Delta}x^{6} C^u_{5}ˏ_3 \\rho_{m 1} + \\frac{1}{1152} {\\Delta}x^{6} C^u_{5}ˏ_3 \\rho_{m - 1} + \\frac{1}{360} {\\Delta}x^{3} T^{4} C^u_{4}ˏ_5 \\mu_{m 0} - \\frac{1}{1920} {\\Delta}x^{3} T^{4} C^u_{4}ˏ_5 \\mu_{m 1} + \\frac{3}{640} {\\Delta}x^{3} T^{4} C^u_{4}ˏ_5 \\mu_{m - 1} - \\frac{11}{5040} {\\Delta}x^{5} T^{2} C^u_{4}ˏ_5 \\rho_{m 0} + \\frac{1}{2520} {\\Delta}x^{5} T^{2} C^u_{4}ˏ_5 \\rho_{m 1} - \\frac{1}{420} {\\Delta}x^{5} T^{2} C^u_{4}ˏ_5 \\rho_{m - 1} - \\frac{1}{432} {\\Delta}x^{4} T^{3} C^u_{5}ˏ_4 \\mu_{m 0} + \\frac{1}{2160} {\\Delta}x^{4} T^{3} C^u_{5}ˏ_4 \\mu_{m 1} - \\frac{11}{2160} {\\Delta}x^{4} T^{3} C^u_{5}ˏ_4 \\mu_{m - 1} + \\frac{13}{20160} {\\Delta}x^{6} C^u_{5}ˏ_4 T \\rho_{m 0} - \\frac{1}{8064} {\\Delta}x^{6} C^u_{5}ˏ_4 T \\rho_{m 1} + \\frac{1}{1152} {\\Delta}x^{6} C^u_{5}ˏ_4 T \\rho_{m - 1} - \\frac{1}{1728} {\\Delta}x^{4} T^{4} C^u_{5}ˏ_5 \\mu_{m 0} + \\frac{1}{8640} {\\Delta}x^{4} T^{4} C^u_{5}ˏ_5 \\mu_{m 1} - \\frac{11}{8640} {\\Delta}x^{4} T^{4} C^u_{5}ˏ_5 \\mu_{m - 1} + \\frac{13}{40320} {\\Delta}x^{6} T^{2} C^u_{5}ˏ_5 \\rho_{m 0} - \\frac{1}{16128} {\\Delta}x^{6} T^{2} C^u_{5}ˏ_5 \\rho_{m 1} + \\frac{1}{2304} {\\Delta}x^{6} T^{2} C^u_{5}ˏ_5 \\rho_{m - 1}\n",
       "\\end{equation}\n",
       " $$"
      ],
      "text/plain": [
       "-(1//3)*Cᵘ[2, 1]*Δx*μₘ₀ - (1//12)*Cᵘ[2, 1]*Δx*μₘ₁ + (5//12)*Cᵘ[2, 1]*Δx*μₘ₋₁ + (5//12)*Cᵘ[1, 3]*(Δx^2)*ρₘ₀ - (1//24)*Cᵘ[1, 3]*(Δx^2)*ρₘ₁ + (1//8)*Cᵘ[1, 3]*(Δx^2)*ρₘ₋₁ - (1//3)*Cᵘ[2, 2]*T*Δx*μₘ₀ - (1//12)*Cᵘ[2, 2]*T*Δx*μₘ₁ + (5//12)*Cᵘ[2, 2]*T*Δx*μₘ₋₁ - (1//4)*Cᵘ[3, 1]*(Δx^2)*μₘ₀ + (1//24)*Cᵘ[3, 1]*(Δx^2)*μₘ₁ - (7//24)*Cᵘ[3, 1]*(Δx^2)*μₘ₋₁ + (5//12)*Cᵘ[1, 4]*T*(Δx^2)*ρₘ₀ - (1//24)*Cᵘ[1, 4]*T*(Δx^2)*ρₘ₁ + (1//8)*Cᵘ[1, 4]*T*(Δx^2)*ρₘ₋₁ - (1//6)*Cᵘ[2, 3]*(T^2)*Δx*μₘ₀ - (1//24)*Cᵘ[2, 3]*(T^2)*Δx*μₘ₁ + (5//24)*Cᵘ[2, 3]*(T^2)*Δx*μₘ₋₁ - (7//60)*Cᵘ[2, 3]*(Δx^3)*ρₘ₀ + (1//60)*Cᵘ[2, 3]*(Δx^3)*ρₘ₁ - (1//15)*Cᵘ[2, 3]*(Δx^3)*ρₘ₋₁ - (1//4)*Cᵘ[3, 2]*T*(Δx^2)*μₘ₀ + (1//24)*Cᵘ[3, 2]*T*(Δx^2)*μₘ₁ - (7//24)*Cᵘ[3, 2]*T*(Δx^2)*μₘ₋₁ + (1//15)*Cᵘ[4, 1]*(Δx^3)*μₘ₀ - (1//80)*Cᵘ[4, 1]*(Δx^3)*μₘ₁ + (9//80)*Cᵘ[4, 1]*(Δx^3)*μₘ₋₁ + (5//24)*Cᵘ[1, 5]*(T^2)*(Δx^2)*ρₘ₀ - (1//48)*Cᵘ[1, 5]*(T^2)*(Δx^2)*ρₘ₁ + (1//16)*Cᵘ[1, 5]*(T^2)*(Δx^2)*ρₘ₋₁ - (1//18)*Cᵘ[2, 4]*(T^3)*Δx*μₘ₀ - (1//72)*Cᵘ[2, 4]*(T^3)*Δx*μₘ₁ + (5//72)*Cᵘ[2, 4]*(T^3)*Δx*μₘ₋₁ - (7//60)*Cᵘ[2, 4]*T*(Δx^3)*ρₘ₀ + (1//60)*Cᵘ[2, 4]*T*(Δx^3)*ρₘ₁ - (1//15)*Cᵘ[2, 4]*T*(Δx^3)*ρₘ₋₁ - (1//8)*Cᵘ[3, 3]*(T^2)*(Δx^2)*μₘ₀ + (1//48)*Cᵘ[3, 3]*(T^2)*(Δx^2)*μₘ₁ - (7//48)*Cᵘ[3, 3]*(T^2)*(Δx^2)*μₘ₋₁ + (1//40)*Cᵘ[3, 3]*(Δx^4)*ρₘ₀ - (1//240)*Cᵘ[3, 3]*(Δx^4)*ρₘ₁ + (1//48)*Cᵘ[3, 3]*(Δx^4)*ρₘ₋₁ + (1//15)*Cᵘ[4, 2]*T*(Δx^3)*μₘ₀ - (1//80)*Cᵘ[4, 2]*T*(Δx^3)*μₘ₁ + (9//80)*Cᵘ[4, 2]*T*(Δx^3)*μₘ₋₁ - (1//72)*Cᵘ[5, 1]*(Δx^4)*μₘ₀ + (1//360)*Cᵘ[5, 1]*(Δx^4)*μₘ₁ - (11//360)*Cᵘ[5, 1]*(Δx^4)*μₘ₋₁ - (1//72)*Cᵘ[2, 5]*(T^4)*Δx*μₘ₀ - (1//288)*Cᵘ[2, 5]*(T^4)*Δx*μₘ₁ + (5//288)*Cᵘ[2, 5]*(T^4)*Δx*μₘ₋₁ - (7//120)*Cᵘ[2, 5]*(T^2)*(Δx^3)*ρₘ₀ + (1//120)*Cᵘ[2, 5]*(T^2)*(Δx^3)*ρₘ₁ - (1//30)*Cᵘ[2, 5]*(T^2)*(Δx^3)*ρₘ₋₁ - (1//24)*Cᵘ[3, 4]*(T^3)*(Δx^2)*μₘ₀ + (1//144)*Cᵘ[3, 4]*(T^3)*(Δx^2)*μₘ₁ - (7//144)*Cᵘ[3, 4]*(T^3)*(Δx^2)*μₘ₋₁ + (1//40)*Cᵘ[3, 4]*T*(Δx^4)*ρₘ₀ - (1//240)*Cᵘ[3, 4]*T*(Δx^4)*ρₘ₁ + (1//48)*Cᵘ[3, 4]*T*(Δx^4)*ρₘ₋₁ + (1//30)*Cᵘ[4, 3]*(T^2)*(Δx^3)*μₘ₀ - (1//160)*Cᵘ[4, 3]*(T^2)*(Δx^3)*μₘ₁ + (9//160)*Cᵘ[4, 3]*(T^2)*(Δx^3)*μₘ₋₁ - (11//2520)*Cᵘ[4, 3]*(Δx^5)*ρₘ₀ + (1//1260)*Cᵘ[4, 3]*(Δx^5)*ρₘ₁ - (1//210)*Cᵘ[4, 3]*(Δx^5)*ρₘ₋₁ - (1//72)*Cᵘ[5, 2]*T*(Δx^4)*μₘ₀ + (1//360)*Cᵘ[5, 2]*T*(Δx^4)*μₘ₁ - (11//360)*Cᵘ[5, 2]*T*(Δx^4)*μₘ₋₁ - (1//96)*Cᵘ[3, 5]*(T^4)*(Δx^2)*μₘ₀ + (1//576)*Cᵘ[3, 5]*(T^4)*(Δx^2)*μₘ₁ - (7//576)*Cᵘ[3, 5]*(T^4)*(Δx^2)*μₘ₋₁ + (1//80)*Cᵘ[3, 5]*(T^2)*(Δx^4)*ρₘ₀ - (1//480)*Cᵘ[3, 5]*(T^2)*(Δx^4)*ρₘ₁ + (1//96)*Cᵘ[3, 5]*(T^2)*(Δx^4)*ρₘ₋₁ + (1//90)*Cᵘ[4, 4]*(T^3)*(Δx^3)*μₘ₀ - (1//480)*Cᵘ[4, 4]*(T^3)*(Δx^3)*μₘ₁ + (3//160)*Cᵘ[4, 4]*(T^3)*(Δx^3)*μₘ₋₁ - (11//2520)*Cᵘ[4, 4]*T*(Δx^5)*ρₘ₀ + (1//1260)*Cᵘ[4, 4]*T*(Δx^5)*ρₘ₁ - (1//210)*Cᵘ[4, 4]*T*(Δx^5)*ρₘ₋₁ - (1//144)*Cᵘ[5, 3]*(T^2)*(Δx^4)*μₘ₀ + (1//720)*Cᵘ[5, 3]*(T^2)*(Δx^4)*μₘ₁ - (11//720)*Cᵘ[5, 3]*(T^2)*(Δx^4)*μₘ₋₁ + (13//20160)*Cᵘ[5, 3]*(Δx^6)*ρₘ₀ - (1//8064)*Cᵘ[5, 3]*(Δx^6)*ρₘ₁ + (1//1152)*Cᵘ[5, 3]*(Δx^6)*ρₘ₋₁ + (1//360)*Cᵘ[4, 5]*(T^4)*(Δx^3)*μₘ₀ - (1//1920)*Cᵘ[4, 5]*(T^4)*(Δx^3)*μₘ₁ + (3//640)*Cᵘ[4, 5]*(T^4)*(Δx^3)*μₘ₋₁ - (11//5040)*Cᵘ[4, 5]*(T^2)*(Δx^5)*ρₘ₀ + (1//2520)*Cᵘ[4, 5]*(T^2)*(Δx^5)*ρₘ₁ - (1//420)*Cᵘ[4, 5]*(T^2)*(Δx^5)*ρₘ₋₁ - (1//432)*Cᵘ[5, 4]*(T^3)*(Δx^4)*μₘ₀ + (1//2160)*Cᵘ[5, 4]*(T^3)*(Δx^4)*μₘ₁ - (11//2160)*Cᵘ[5, 4]*(T^3)*(Δx^4)*μₘ₋₁ + (13//20160)*Cᵘ[5, 4]*T*(Δx^6)*ρₘ₀ - (1//8064)*Cᵘ[5, 4]*T*(Δx^6)*ρₘ₁ + (1//1152)*Cᵘ[5, 4]*T*(Δx^6)*ρₘ₋₁ - (1//1728)*Cᵘ[5, 5]*(T^4)*(Δx^4)*μₘ₀ + (1//8640)*Cᵘ[5, 5]*(T^4)*(Δx^4)*μₘ₁ - (11//8640)*Cᵘ[5, 5]*(T^4)*(Δx^4)*μₘ₋₁ + (13//40320)*Cᵘ[5, 5]*(T^2)*(Δx^6)*ρₘ₀ - (1//16128)*Cᵘ[5, 5]*(T^2)*(Δx^6)*ρₘ₁ + (1//2304)*Cᵘ[5, 5]*(T^2)*(Δx^6)*ρₘ₋₁"
      ]
     },
     "metadata": {},
     "output_type": "display_data"
    }
   ],
   "source": [
    "# this is F^{[2]} \n",
    "f2_space_right=simplify(substitute(f2_space,Dict([X=>Δx])))\n",
    "f2_space_left=simplify(substitute(f2_space,Dict([X=>(-Δx)])))"
   ]
  },
  {
   "cell_type": "markdown",
   "metadata": {},
   "source": [
    "Here we want to evaluate:\n",
    "\\begin{equation}\n",
    "-\\left [ F^{[2]}(x) \\phi^{(1)}(x) \\right ]^{\\Delta x}_{-\\Delta  x}\n",
    "\\end{equation}\n",
    "where we have \n",
    "\\begin{align}\n",
    "\\phi^{(1)}(\\Delta x) &=& -\\frac{1}{\\Delta x}\\\\\n",
    "\\phi^{(1)}(-\\Delta x) &=& \\frac{1}{\\Delta x}\n",
    "\\end{align}\n"
   ]
  },
  {
   "cell_type": "code",
   "execution_count": 85,
   "metadata": {},
   "outputs": [
    {
     "data": {
      "text/latex": [
       "$$ \\begin{equation}\n",
       "\\frac{\\frac{1}{3} C^u_{2}ˏ_1 {\\Delta}x \\mu_{m 0} - \\frac{5}{12} C^u_{2}ˏ_1 {\\Delta}x \\mu_{m 1} + \\frac{1}{12} C^u_{2}ˏ_1 {\\Delta}x \\mu_{m - 1} + \\frac{5}{12} {\\Delta}x^{2} C^u_{1}ˏ_3 \\rho_{m 0} + \\frac{1}{8} {\\Delta}x^{2} C^u_{1}ˏ_3 \\rho_{m 1} - \\frac{1}{24} {\\Delta}x^{2} C^u_{1}ˏ_3 \\rho_{m - 1} + \\frac{1}{3} C^u_{2}ˏ_2 T {\\Delta}x \\mu_{m 0} - \\frac{5}{12} C^u_{2}ˏ_2 T {\\Delta}x \\mu_{m 1} + \\frac{1}{12} C^u_{2}ˏ_2 T {\\Delta}x \\mu_{m - 1} - \\frac{1}{4} {\\Delta}x^{2} C^u_{3}ˏ_1 \\mu_{m 0} - \\frac{7}{24} {\\Delta}x^{2} C^u_{3}ˏ_1 \\mu_{m 1} + \\frac{1}{24} {\\Delta}x^{2} C^u_{3}ˏ_1 \\mu_{m - 1} + \\frac{5}{12} {\\Delta}x^{2} C^u_{1}ˏ_4 T \\rho_{m 0} + \\frac{1}{8} {\\Delta}x^{2} C^u_{1}ˏ_4 T \\rho_{m 1} - \\frac{1}{24} {\\Delta}x^{2} C^u_{1}ˏ_4 T \\rho_{m - 1} + \\frac{1}{6} T^{2} C^u_{2}ˏ_3 {\\Delta}x \\mu_{m 0} - \\frac{5}{24} T^{2} C^u_{2}ˏ_3 {\\Delta}x \\mu_{m 1} + \\frac{1}{24} T^{2} C^u_{2}ˏ_3 {\\Delta}x \\mu_{m - 1} + \\frac{7}{60} {\\Delta}x^{3} C^u_{2}ˏ_3 \\rho_{m 0} + \\frac{1}{15} {\\Delta}x^{3} C^u_{2}ˏ_3 \\rho_{m 1} - \\frac{1}{60} {\\Delta}x^{3} C^u_{2}ˏ_3 \\rho_{m - 1} - \\frac{1}{4} {\\Delta}x^{2} C^u_{3}ˏ_2 T \\mu_{m 0} - \\frac{7}{24} {\\Delta}x^{2} C^u_{3}ˏ_2 T \\mu_{m 1} + \\frac{1}{24} {\\Delta}x^{2} C^u_{3}ˏ_2 T \\mu_{m - 1} - \\frac{1}{15} {\\Delta}x^{3} C^u_{4}ˏ_1 \\mu_{m 0} - \\frac{9}{80} {\\Delta}x^{3} C^u_{4}ˏ_1 \\mu_{m 1} + \\frac{1}{80} {\\Delta}x^{3} C^u_{4}ˏ_1 \\mu_{m - 1} + \\frac{5}{24} {\\Delta}x^{2} T^{2} C^u_{1}ˏ_5 \\rho_{m 0} + \\frac{1}{16} {\\Delta}x^{2} T^{2} C^u_{1}ˏ_5 \\rho_{m 1} - \\frac{1}{48} {\\Delta}x^{2} T^{2} C^u_{1}ˏ_5 \\rho_{m - 1} + \\frac{1}{18} T^{3} C^u_{2}ˏ_4 {\\Delta}x \\mu_{m 0} - \\frac{5}{72} T^{3} C^u_{2}ˏ_4 {\\Delta}x \\mu_{m 1} + \\frac{1}{72} T^{3} C^u_{2}ˏ_4 {\\Delta}x \\mu_{m - 1} + \\frac{7}{60} {\\Delta}x^{3} C^u_{2}ˏ_4 T \\rho_{m 0} + \\frac{1}{15} {\\Delta}x^{3} C^u_{2}ˏ_4 T \\rho_{m 1} - \\frac{1}{60} {\\Delta}x^{3} C^u_{2}ˏ_4 T \\rho_{m - 1} - \\frac{1}{8} {\\Delta}x^{2} T^{2} C^u_{3}ˏ_3 \\mu_{m 0} - \\frac{7}{48} {\\Delta}x^{2} T^{2} C^u_{3}ˏ_3 \\mu_{m 1} + \\frac{1}{48} {\\Delta}x^{2} T^{2} C^u_{3}ˏ_3 \\mu_{m - 1} + \\frac{1}{40} {\\Delta}x^{4} C^u_{3}ˏ_3 \\rho_{m 0} + \\frac{1}{48} {\\Delta}x^{4} C^u_{3}ˏ_3 \\rho_{m 1} - \\frac{1}{240} {\\Delta}x^{4} C^u_{3}ˏ_3 \\rho_{m - 1} - \\frac{1}{15} {\\Delta}x^{3} C^u_{4}ˏ_2 T \\mu_{m 0} - \\frac{9}{80} {\\Delta}x^{3} C^u_{4}ˏ_2 T \\mu_{m 1} + \\frac{1}{80} {\\Delta}x^{3} C^u_{4}ˏ_2 T \\mu_{m - 1} - \\frac{1}{72} {\\Delta}x^{4} C^u_{5}ˏ_1 \\mu_{m 0} - \\frac{11}{360} {\\Delta}x^{4} C^u_{5}ˏ_1 \\mu_{m 1} + \\frac{1}{360} {\\Delta}x^{4} C^u_{5}ˏ_1 \\mu_{m - 1} + \\frac{1}{72} T^{4} C^u_{2}ˏ_5 {\\Delta}x \\mu_{m 0} - \\frac{5}{288} T^{4} C^u_{2}ˏ_5 {\\Delta}x \\mu_{m 1} + \\frac{1}{288} T^{4} C^u_{2}ˏ_5 {\\Delta}x \\mu_{m - 1} + \\frac{7}{120} {\\Delta}x^{3} T^{2} C^u_{2}ˏ_5 \\rho_{m 0} + \\frac{1}{30} {\\Delta}x^{3} T^{2} C^u_{2}ˏ_5 \\rho_{m 1} - \\frac{1}{120} {\\Delta}x^{3} T^{2} C^u_{2}ˏ_5 \\rho_{m - 1} - \\frac{1}{24} {\\Delta}x^{2} T^{3} C^u_{3}ˏ_4 \\mu_{m 0} - \\frac{7}{144} {\\Delta}x^{2} T^{3} C^u_{3}ˏ_4 \\mu_{m 1} + \\frac{1}{144} {\\Delta}x^{2} T^{3} C^u_{3}ˏ_4 \\mu_{m - 1} + \\frac{1}{40} {\\Delta}x^{4} C^u_{3}ˏ_4 T \\rho_{m 0} + \\frac{1}{48} {\\Delta}x^{4} C^u_{3}ˏ_4 T \\rho_{m 1} - \\frac{1}{240} {\\Delta}x^{4} C^u_{3}ˏ_4 T \\rho_{m - 1} - \\frac{1}{30} {\\Delta}x^{3} T^{2} C^u_{4}ˏ_3 \\mu_{m 0} - \\frac{9}{160} {\\Delta}x^{3} T^{2} C^u_{4}ˏ_3 \\mu_{m 1} + \\frac{1}{160} {\\Delta}x^{3} T^{2} C^u_{4}ˏ_3 \\mu_{m - 1} + \\frac{11}{2520} {\\Delta}x^{5} C^u_{4}ˏ_3 \\rho_{m 0} + \\frac{1}{210} {\\Delta}x^{5} C^u_{4}ˏ_3 \\rho_{m 1} - \\frac{1}{1260} {\\Delta}x^{5} C^u_{4}ˏ_3 \\rho_{m - 1} - \\frac{1}{72} {\\Delta}x^{4} C^u_{5}ˏ_2 T \\mu_{m 0} - \\frac{11}{360} {\\Delta}x^{4} C^u_{5}ˏ_2 T \\mu_{m 1} + \\frac{1}{360} {\\Delta}x^{4} C^u_{5}ˏ_2 T \\mu_{m - 1} - \\frac{1}{96} {\\Delta}x^{2} T^{4} C^u_{3}ˏ_5 \\mu_{m 0} - \\frac{7}{576} {\\Delta}x^{2} T^{4} C^u_{3}ˏ_5 \\mu_{m 1} + \\frac{1}{576} {\\Delta}x^{2} T^{4} C^u_{3}ˏ_5 \\mu_{m - 1} + \\frac{1}{80} {\\Delta}x^{4} T^{2} C^u_{3}ˏ_5 \\rho_{m 0} + \\frac{1}{96} {\\Delta}x^{4} T^{2} C^u_{3}ˏ_5 \\rho_{m 1} - \\frac{1}{480} {\\Delta}x^{4} T^{2} C^u_{3}ˏ_5 \\rho_{m - 1} - \\frac{1}{90} {\\Delta}x^{3} T^{3} C^u_{4}ˏ_4 \\mu_{m 0} - \\frac{3}{160} {\\Delta}x^{3} T^{3} C^u_{4}ˏ_4 \\mu_{m 1} + \\frac{1}{480} {\\Delta}x^{3} T^{3} C^u_{4}ˏ_4 \\mu_{m - 1} + \\frac{11}{2520} {\\Delta}x^{5} C^u_{4}ˏ_4 T \\rho_{m 0} + \\frac{1}{210} {\\Delta}x^{5} C^u_{4}ˏ_4 T \\rho_{m 1} - \\frac{1}{1260} {\\Delta}x^{5} C^u_{4}ˏ_4 T \\rho_{m - 1} - \\frac{1}{144} {\\Delta}x^{4} T^{2} C^u_{5}ˏ_3 \\mu_{m 0} - \\frac{11}{720} {\\Delta}x^{4} T^{2} C^u_{5}ˏ_3 \\mu_{m 1} + \\frac{1}{720} {\\Delta}x^{4} T^{2} C^u_{5}ˏ_3 \\mu_{m - 1} + \\frac{13}{20160} {\\Delta}x^{6} C^u_{5}ˏ_3 \\rho_{m 0} + \\frac{1}{1152} {\\Delta}x^{6} C^u_{5}ˏ_3 \\rho_{m 1} - \\frac{1}{8064} {\\Delta}x^{6} C^u_{5}ˏ_3 \\rho_{m - 1} - \\frac{1}{360} {\\Delta}x^{3} T^{4} C^u_{4}ˏ_5 \\mu_{m 0} - \\frac{3}{640} {\\Delta}x^{3} T^{4} C^u_{4}ˏ_5 \\mu_{m 1} + \\frac{1}{1920} {\\Delta}x^{3} T^{4} C^u_{4}ˏ_5 \\mu_{m - 1} + \\frac{11}{5040} {\\Delta}x^{5} T^{2} C^u_{4}ˏ_5 \\rho_{m 0} + \\frac{1}{420} {\\Delta}x^{5} T^{2} C^u_{4}ˏ_5 \\rho_{m 1} - \\frac{1}{2520} {\\Delta}x^{5} T^{2} C^u_{4}ˏ_5 \\rho_{m - 1} - \\frac{1}{432} {\\Delta}x^{4} T^{3} C^u_{5}ˏ_4 \\mu_{m 0} - \\frac{11}{2160} {\\Delta}x^{4} T^{3} C^u_{5}ˏ_4 \\mu_{m 1} + \\frac{1}{2160} {\\Delta}x^{4} T^{3} C^u_{5}ˏ_4 \\mu_{m - 1} + \\frac{13}{20160} {\\Delta}x^{6} C^u_{5}ˏ_4 T \\rho_{m 0} + \\frac{1}{1152} {\\Delta}x^{6} C^u_{5}ˏ_4 T \\rho_{m 1} - \\frac{1}{8064} {\\Delta}x^{6} C^u_{5}ˏ_4 T \\rho_{m - 1} - \\frac{1}{1728} {\\Delta}x^{4} T^{4} C^u_{5}ˏ_5 \\mu_{m 0} - \\frac{11}{8640} {\\Delta}x^{4} T^{4} C^u_{5}ˏ_5 \\mu_{m 1} + \\frac{1}{8640} {\\Delta}x^{4} T^{4} C^u_{5}ˏ_5 \\mu_{m - 1} + \\frac{13}{40320} {\\Delta}x^{6} T^{2} C^u_{5}ˏ_5 \\rho_{m 0} + \\frac{1}{2304} {\\Delta}x^{6} T^{2} C^u_{5}ˏ_5 \\rho_{m 1} - \\frac{1}{16128} {\\Delta}x^{6} T^{2} C^u_{5}ˏ_5 \\rho_{m - 1}}{{\\Delta}x} + \\frac{ - \\frac{1}{3} C^u_{2}ˏ_1 {\\Delta}x \\mu_{m 0} - \\frac{1}{12} C^u_{2}ˏ_1 {\\Delta}x \\mu_{m 1} + \\frac{5}{12} C^u_{2}ˏ_1 {\\Delta}x \\mu_{m - 1} + \\frac{5}{12} {\\Delta}x^{2} C^u_{1}ˏ_3 \\rho_{m 0} - \\frac{1}{24} {\\Delta}x^{2} C^u_{1}ˏ_3 \\rho_{m 1} + \\frac{1}{8} {\\Delta}x^{2} C^u_{1}ˏ_3 \\rho_{m - 1} - \\frac{1}{3} C^u_{2}ˏ_2 T {\\Delta}x \\mu_{m 0} - \\frac{1}{12} C^u_{2}ˏ_2 T {\\Delta}x \\mu_{m 1} + \\frac{5}{12} C^u_{2}ˏ_2 T {\\Delta}x \\mu_{m - 1} - \\frac{1}{4} {\\Delta}x^{2} C^u_{3}ˏ_1 \\mu_{m 0} + \\frac{1}{24} {\\Delta}x^{2} C^u_{3}ˏ_1 \\mu_{m 1} - \\frac{7}{24} {\\Delta}x^{2} C^u_{3}ˏ_1 \\mu_{m - 1} + \\frac{5}{12} {\\Delta}x^{2} C^u_{1}ˏ_4 T \\rho_{m 0} - \\frac{1}{24} {\\Delta}x^{2} C^u_{1}ˏ_4 T \\rho_{m 1} + \\frac{1}{8} {\\Delta}x^{2} C^u_{1}ˏ_4 T \\rho_{m - 1} - \\frac{1}{6} T^{2} C^u_{2}ˏ_3 {\\Delta}x \\mu_{m 0} - \\frac{1}{24} T^{2} C^u_{2}ˏ_3 {\\Delta}x \\mu_{m 1} + \\frac{5}{24} T^{2} C^u_{2}ˏ_3 {\\Delta}x \\mu_{m - 1} - \\frac{7}{60} {\\Delta}x^{3} C^u_{2}ˏ_3 \\rho_{m 0} + \\frac{1}{60} {\\Delta}x^{3} C^u_{2}ˏ_3 \\rho_{m 1} - \\frac{1}{15} {\\Delta}x^{3} C^u_{2}ˏ_3 \\rho_{m - 1} - \\frac{1}{4} {\\Delta}x^{2} C^u_{3}ˏ_2 T \\mu_{m 0} + \\frac{1}{24} {\\Delta}x^{2} C^u_{3}ˏ_2 T \\mu_{m 1} - \\frac{7}{24} {\\Delta}x^{2} C^u_{3}ˏ_2 T \\mu_{m - 1} + \\frac{1}{15} {\\Delta}x^{3} C^u_{4}ˏ_1 \\mu_{m 0} - \\frac{1}{80} {\\Delta}x^{3} C^u_{4}ˏ_1 \\mu_{m 1} + \\frac{9}{80} {\\Delta}x^{3} C^u_{4}ˏ_1 \\mu_{m - 1} + \\frac{5}{24} {\\Delta}x^{2} T^{2} C^u_{1}ˏ_5 \\rho_{m 0} - \\frac{1}{48} {\\Delta}x^{2} T^{2} C^u_{1}ˏ_5 \\rho_{m 1} + \\frac{1}{16} {\\Delta}x^{2} T^{2} C^u_{1}ˏ_5 \\rho_{m - 1} - \\frac{1}{18} T^{3} C^u_{2}ˏ_4 {\\Delta}x \\mu_{m 0} - \\frac{1}{72} T^{3} C^u_{2}ˏ_4 {\\Delta}x \\mu_{m 1} + \\frac{5}{72} T^{3} C^u_{2}ˏ_4 {\\Delta}x \\mu_{m - 1} - \\frac{7}{60} {\\Delta}x^{3} C^u_{2}ˏ_4 T \\rho_{m 0} + \\frac{1}{60} {\\Delta}x^{3} C^u_{2}ˏ_4 T \\rho_{m 1} - \\frac{1}{15} {\\Delta}x^{3} C^u_{2}ˏ_4 T \\rho_{m - 1} - \\frac{1}{8} {\\Delta}x^{2} T^{2} C^u_{3}ˏ_3 \\mu_{m 0} + \\frac{1}{48} {\\Delta}x^{2} T^{2} C^u_{3}ˏ_3 \\mu_{m 1} - \\frac{7}{48} {\\Delta}x^{2} T^{2} C^u_{3}ˏ_3 \\mu_{m - 1} + \\frac{1}{40} {\\Delta}x^{4} C^u_{3}ˏ_3 \\rho_{m 0} - \\frac{1}{240} {\\Delta}x^{4} C^u_{3}ˏ_3 \\rho_{m 1} + \\frac{1}{48} {\\Delta}x^{4} C^u_{3}ˏ_3 \\rho_{m - 1} + \\frac{1}{15} {\\Delta}x^{3} C^u_{4}ˏ_2 T \\mu_{m 0} - \\frac{1}{80} {\\Delta}x^{3} C^u_{4}ˏ_2 T \\mu_{m 1} + \\frac{9}{80} {\\Delta}x^{3} C^u_{4}ˏ_2 T \\mu_{m - 1} - \\frac{1}{72} {\\Delta}x^{4} C^u_{5}ˏ_1 \\mu_{m 0} + \\frac{1}{360} {\\Delta}x^{4} C^u_{5}ˏ_1 \\mu_{m 1} - \\frac{11}{360} {\\Delta}x^{4} C^u_{5}ˏ_1 \\mu_{m - 1} - \\frac{1}{72} T^{4} C^u_{2}ˏ_5 {\\Delta}x \\mu_{m 0} - \\frac{1}{288} T^{4} C^u_{2}ˏ_5 {\\Delta}x \\mu_{m 1} + \\frac{5}{288} T^{4} C^u_{2}ˏ_5 {\\Delta}x \\mu_{m - 1} - \\frac{7}{120} {\\Delta}x^{3} T^{2} C^u_{2}ˏ_5 \\rho_{m 0} + \\frac{1}{120} {\\Delta}x^{3} T^{2} C^u_{2}ˏ_5 \\rho_{m 1} - \\frac{1}{30} {\\Delta}x^{3} T^{2} C^u_{2}ˏ_5 \\rho_{m - 1} - \\frac{1}{24} {\\Delta}x^{2} T^{3} C^u_{3}ˏ_4 \\mu_{m 0} + \\frac{1}{144} {\\Delta}x^{2} T^{3} C^u_{3}ˏ_4 \\mu_{m 1} - \\frac{7}{144} {\\Delta}x^{2} T^{3} C^u_{3}ˏ_4 \\mu_{m - 1} + \\frac{1}{40} {\\Delta}x^{4} C^u_{3}ˏ_4 T \\rho_{m 0} - \\frac{1}{240} {\\Delta}x^{4} C^u_{3}ˏ_4 T \\rho_{m 1} + \\frac{1}{48} {\\Delta}x^{4} C^u_{3}ˏ_4 T \\rho_{m - 1} + \\frac{1}{30} {\\Delta}x^{3} T^{2} C^u_{4}ˏ_3 \\mu_{m 0} - \\frac{1}{160} {\\Delta}x^{3} T^{2} C^u_{4}ˏ_3 \\mu_{m 1} + \\frac{9}{160} {\\Delta}x^{3} T^{2} C^u_{4}ˏ_3 \\mu_{m - 1} - \\frac{11}{2520} {\\Delta}x^{5} C^u_{4}ˏ_3 \\rho_{m 0} + \\frac{1}{1260} {\\Delta}x^{5} C^u_{4}ˏ_3 \\rho_{m 1} - \\frac{1}{210} {\\Delta}x^{5} C^u_{4}ˏ_3 \\rho_{m - 1} - \\frac{1}{72} {\\Delta}x^{4} C^u_{5}ˏ_2 T \\mu_{m 0} + \\frac{1}{360} {\\Delta}x^{4} C^u_{5}ˏ_2 T \\mu_{m 1} - \\frac{11}{360} {\\Delta}x^{4} C^u_{5}ˏ_2 T \\mu_{m - 1} - \\frac{1}{96} {\\Delta}x^{2} T^{4} C^u_{3}ˏ_5 \\mu_{m 0} + \\frac{1}{576} {\\Delta}x^{2} T^{4} C^u_{3}ˏ_5 \\mu_{m 1} - \\frac{7}{576} {\\Delta}x^{2} T^{4} C^u_{3}ˏ_5 \\mu_{m - 1} + \\frac{1}{80} {\\Delta}x^{4} T^{2} C^u_{3}ˏ_5 \\rho_{m 0} - \\frac{1}{480} {\\Delta}x^{4} T^{2} C^u_{3}ˏ_5 \\rho_{m 1} + \\frac{1}{96} {\\Delta}x^{4} T^{2} C^u_{3}ˏ_5 \\rho_{m - 1} + \\frac{1}{90} {\\Delta}x^{3} T^{3} C^u_{4}ˏ_4 \\mu_{m 0} - \\frac{1}{480} {\\Delta}x^{3} T^{3} C^u_{4}ˏ_4 \\mu_{m 1} + \\frac{3}{160} {\\Delta}x^{3} T^{3} C^u_{4}ˏ_4 \\mu_{m - 1} - \\frac{11}{2520} {\\Delta}x^{5} C^u_{4}ˏ_4 T \\rho_{m 0} + \\frac{1}{1260} {\\Delta}x^{5} C^u_{4}ˏ_4 T \\rho_{m 1} - \\frac{1}{210} {\\Delta}x^{5} C^u_{4}ˏ_4 T \\rho_{m - 1} - \\frac{1}{144} {\\Delta}x^{4} T^{2} C^u_{5}ˏ_3 \\mu_{m 0} + \\frac{1}{720} {\\Delta}x^{4} T^{2} C^u_{5}ˏ_3 \\mu_{m 1} - \\frac{11}{720} {\\Delta}x^{4} T^{2} C^u_{5}ˏ_3 \\mu_{m - 1} + \\frac{13}{20160} {\\Delta}x^{6} C^u_{5}ˏ_3 \\rho_{m 0} - \\frac{1}{8064} {\\Delta}x^{6} C^u_{5}ˏ_3 \\rho_{m 1} + \\frac{1}{1152} {\\Delta}x^{6} C^u_{5}ˏ_3 \\rho_{m - 1} + \\frac{1}{360} {\\Delta}x^{3} T^{4} C^u_{4}ˏ_5 \\mu_{m 0} - \\frac{1}{1920} {\\Delta}x^{3} T^{4} C^u_{4}ˏ_5 \\mu_{m 1} + \\frac{3}{640} {\\Delta}x^{3} T^{4} C^u_{4}ˏ_5 \\mu_{m - 1} - \\frac{11}{5040} {\\Delta}x^{5} T^{2} C^u_{4}ˏ_5 \\rho_{m 0} + \\frac{1}{2520} {\\Delta}x^{5} T^{2} C^u_{4}ˏ_5 \\rho_{m 1} - \\frac{1}{420} {\\Delta}x^{5} T^{2} C^u_{4}ˏ_5 \\rho_{m - 1} - \\frac{1}{432} {\\Delta}x^{4} T^{3} C^u_{5}ˏ_4 \\mu_{m 0} + \\frac{1}{2160} {\\Delta}x^{4} T^{3} C^u_{5}ˏ_4 \\mu_{m 1} - \\frac{11}{2160} {\\Delta}x^{4} T^{3} C^u_{5}ˏ_4 \\mu_{m - 1} + \\frac{13}{20160} {\\Delta}x^{6} C^u_{5}ˏ_4 T \\rho_{m 0} - \\frac{1}{8064} {\\Delta}x^{6} C^u_{5}ˏ_4 T \\rho_{m 1} + \\frac{1}{1152} {\\Delta}x^{6} C^u_{5}ˏ_4 T \\rho_{m - 1} - \\frac{1}{1728} {\\Delta}x^{4} T^{4} C^u_{5}ˏ_5 \\mu_{m 0} + \\frac{1}{8640} {\\Delta}x^{4} T^{4} C^u_{5}ˏ_5 \\mu_{m 1} - \\frac{11}{8640} {\\Delta}x^{4} T^{4} C^u_{5}ˏ_5 \\mu_{m - 1} + \\frac{13}{40320} {\\Delta}x^{6} T^{2} C^u_{5}ˏ_5 \\rho_{m 0} - \\frac{1}{16128} {\\Delta}x^{6} T^{2} C^u_{5}ˏ_5 \\rho_{m 1} + \\frac{1}{2304} {\\Delta}x^{6} T^{2} C^u_{5}ˏ_5 \\rho_{m - 1}}{{\\Delta}x}\n",
       "\\end{equation}\n",
       " $$"
      ],
      "text/plain": [
       "((1//3)*Cᵘ[2, 1]*Δx*μₘ₀ - (5//12)*Cᵘ[2, 1]*Δx*μₘ₁ + (1//12)*Cᵘ[2, 1]*Δx*μₘ₋₁ + (5//12)*Cᵘ[1, 3]*(Δx^2)*ρₘ₀ + (1//8)*Cᵘ[1, 3]*(Δx^2)*ρₘ₁ - (1//24)*Cᵘ[1, 3]*(Δx^2)*ρₘ₋₁ + (1//3)*Cᵘ[2, 2]*T*Δx*μₘ₀ - (5//12)*Cᵘ[2, 2]*T*Δx*μₘ₁ + (1//12)*Cᵘ[2, 2]*T*Δx*μₘ₋₁ - (1//4)*Cᵘ[3, 1]*(Δx^2)*μₘ₀ - (7//24)*Cᵘ[3, 1]*(Δx^2)*μₘ₁ + (1//24)*Cᵘ[3, 1]*(Δx^2)*μₘ₋₁ + (5//12)*Cᵘ[1, 4]*T*(Δx^2)*ρₘ₀ + (1//8)*Cᵘ[1, 4]*T*(Δx^2)*ρₘ₁ - (1//24)*Cᵘ[1, 4]*T*(Δx^2)*ρₘ₋₁ + (1//6)*Cᵘ[2, 3]*(T^2)*Δx*μₘ₀ - (5//24)*Cᵘ[2, 3]*(T^2)*Δx*μₘ₁ + (1//24)*Cᵘ[2, 3]*(T^2)*Δx*μₘ₋₁ + (7//60)*Cᵘ[2, 3]*(Δx^3)*ρₘ₀ + (1//15)*Cᵘ[2, 3]*(Δx^3)*ρₘ₁ - (1//60)*Cᵘ[2, 3]*(Δx^3)*ρₘ₋₁ - (1//4)*Cᵘ[3, 2]*T*(Δx^2)*μₘ₀ - (7//24)*Cᵘ[3, 2]*T*(Δx^2)*μₘ₁ + (1//24)*Cᵘ[3, 2]*T*(Δx^2)*μₘ₋₁ - (1//15)*Cᵘ[4, 1]*(Δx^3)*μₘ₀ - (9//80)*Cᵘ[4, 1]*(Δx^3)*μₘ₁ + (1//80)*Cᵘ[4, 1]*(Δx^3)*μₘ₋₁ + (5//24)*Cᵘ[1, 5]*(T^2)*(Δx^2)*ρₘ₀ + (1//16)*Cᵘ[1, 5]*(T^2)*(Δx^2)*ρₘ₁ - (1//48)*Cᵘ[1, 5]*(T^2)*(Δx^2)*ρₘ₋₁ + (1//18)*Cᵘ[2, 4]*(T^3)*Δx*μₘ₀ - (5//72)*Cᵘ[2, 4]*(T^3)*Δx*μₘ₁ + (1//72)*Cᵘ[2, 4]*(T^3)*Δx*μₘ₋₁ + (7//60)*Cᵘ[2, 4]*T*(Δx^3)*ρₘ₀ + (1//15)*Cᵘ[2, 4]*T*(Δx^3)*ρₘ₁ - (1//60)*Cᵘ[2, 4]*T*(Δx^3)*ρₘ₋₁ - (1//8)*Cᵘ[3, 3]*(T^2)*(Δx^2)*μₘ₀ - (7//48)*Cᵘ[3, 3]*(T^2)*(Δx^2)*μₘ₁ + (1//48)*Cᵘ[3, 3]*(T^2)*(Δx^2)*μₘ₋₁ + (1//40)*Cᵘ[3, 3]*(Δx^4)*ρₘ₀ + (1//48)*Cᵘ[3, 3]*(Δx^4)*ρₘ₁ - (1//240)*Cᵘ[3, 3]*(Δx^4)*ρₘ₋₁ - (1//15)*Cᵘ[4, 2]*T*(Δx^3)*μₘ₀ - (9//80)*Cᵘ[4, 2]*T*(Δx^3)*μₘ₁ + (1//80)*Cᵘ[4, 2]*T*(Δx^3)*μₘ₋₁ - (1//72)*Cᵘ[5, 1]*(Δx^4)*μₘ₀ - (11//360)*Cᵘ[5, 1]*(Δx^4)*μₘ₁ + (1//360)*Cᵘ[5, 1]*(Δx^4)*μₘ₋₁ + (1//72)*Cᵘ[2, 5]*(T^4)*Δx*μₘ₀ - (5//288)*Cᵘ[2, 5]*(T^4)*Δx*μₘ₁ + (1//288)*Cᵘ[2, 5]*(T^4)*Δx*μₘ₋₁ + (7//120)*Cᵘ[2, 5]*(T^2)*(Δx^3)*ρₘ₀ + (1//30)*Cᵘ[2, 5]*(T^2)*(Δx^3)*ρₘ₁ - (1//120)*Cᵘ[2, 5]*(T^2)*(Δx^3)*ρₘ₋₁ - (1//24)*Cᵘ[3, 4]*(T^3)*(Δx^2)*μₘ₀ - (7//144)*Cᵘ[3, 4]*(T^3)*(Δx^2)*μₘ₁ + (1//144)*Cᵘ[3, 4]*(T^3)*(Δx^2)*μₘ₋₁ + (1//40)*Cᵘ[3, 4]*T*(Δx^4)*ρₘ₀ + (1//48)*Cᵘ[3, 4]*T*(Δx^4)*ρₘ₁ - (1//240)*Cᵘ[3, 4]*T*(Δx^4)*ρₘ₋₁ - (1//30)*Cᵘ[4, 3]*(T^2)*(Δx^3)*μₘ₀ - (9//160)*Cᵘ[4, 3]*(T^2)*(Δx^3)*μₘ₁ + (1//160)*Cᵘ[4, 3]*(T^2)*(Δx^3)*μₘ₋₁ + (11//2520)*Cᵘ[4, 3]*(Δx^5)*ρₘ₀ + (1//210)*Cᵘ[4, 3]*(Δx^5)*ρₘ₁ - (1//1260)*Cᵘ[4, 3]*(Δx^5)*ρₘ₋₁ - (1//72)*Cᵘ[5, 2]*T*(Δx^4)*μₘ₀ - (11//360)*Cᵘ[5, 2]*T*(Δx^4)*μₘ₁ + (1//360)*Cᵘ[5, 2]*T*(Δx^4)*μₘ₋₁ - (1//96)*Cᵘ[3, 5]*(T^4)*(Δx^2)*μₘ₀ - (7//576)*Cᵘ[3, 5]*(T^4)*(Δx^2)*μₘ₁ + (1//576)*Cᵘ[3, 5]*(T^4)*(Δx^2)*μₘ₋₁ + (1//80)*Cᵘ[3, 5]*(T^2)*(Δx^4)*ρₘ₀ + (1//96)*Cᵘ[3, 5]*(T^2)*(Δx^4)*ρₘ₁ - (1//480)*Cᵘ[3, 5]*(T^2)*(Δx^4)*ρₘ₋₁ - (1//90)*Cᵘ[4, 4]*(T^3)*(Δx^3)*μₘ₀ - (3//160)*Cᵘ[4, 4]*(T^3)*(Δx^3)*μₘ₁ + (1//480)*Cᵘ[4, 4]*(T^3)*(Δx^3)*μₘ₋₁ + (11//2520)*Cᵘ[4, 4]*T*(Δx^5)*ρₘ₀ + (1//210)*Cᵘ[4, 4]*T*(Δx^5)*ρₘ₁ - (1//1260)*Cᵘ[4, 4]*T*(Δx^5)*ρₘ₋₁ - (1//144)*Cᵘ[5, 3]*(T^2)*(Δx^4)*μₘ₀ - (11//720)*Cᵘ[5, 3]*(T^2)*(Δx^4)*μₘ₁ + (1//720)*Cᵘ[5, 3]*(T^2)*(Δx^4)*μₘ₋₁ + (13//20160)*Cᵘ[5, 3]*(Δx^6)*ρₘ₀ + (1//1152)*Cᵘ[5, 3]*(Δx^6)*ρₘ₁ - (1//8064)*Cᵘ[5, 3]*(Δx^6)*ρₘ₋₁ - (1//360)*Cᵘ[4, 5]*(T^4)*(Δx^3)*μₘ₀ - (3//640)*Cᵘ[4, 5]*(T^4)*(Δx^3)*μₘ₁ + (1//1920)*Cᵘ[4, 5]*(T^4)*(Δx^3)*μₘ₋₁ + (11//5040)*Cᵘ[4, 5]*(T^2)*(Δx^5)*ρₘ₀ + (1//420)*Cᵘ[4, 5]*(T^2)*(Δx^5)*ρₘ₁ - (1//2520)*Cᵘ[4, 5]*(T^2)*(Δx^5)*ρₘ₋₁ - (1//432)*Cᵘ[5, 4]*(T^3)*(Δx^4)*μₘ₀ - (11//2160)*Cᵘ[5, 4]*(T^3)*(Δx^4)*μₘ₁ + (1//2160)*Cᵘ[5, 4]*(T^3)*(Δx^4)*μₘ₋₁ + (13//20160)*Cᵘ[5, 4]*T*(Δx^6)*ρₘ₀ + (1//1152)*Cᵘ[5, 4]*T*(Δx^6)*ρₘ₁ - (1//8064)*Cᵘ[5, 4]*T*(Δx^6)*ρₘ₋₁ - (1//1728)*Cᵘ[5, 5]*(T^4)*(Δx^4)*μₘ₀ - (11//8640)*Cᵘ[5, 5]*(T^4)*(Δx^4)*μₘ₁ + (1//8640)*Cᵘ[5, 5]*(T^4)*(Δx^4)*μₘ₋₁ + (13//40320)*Cᵘ[5, 5]*(T^2)*(Δx^6)*ρₘ₀ + (1//2304)*Cᵘ[5, 5]*(T^2)*(Δx^6)*ρₘ₁ - (1//16128)*Cᵘ[5, 5]*(T^2)*(Δx^6)*ρₘ₋₁) / Δx + (-(1//3)*Cᵘ[2, 1]*Δx*μₘ₀ - (1//12)*Cᵘ[2, 1]*Δx*μₘ₁ + (5//12)*Cᵘ[2, 1]*Δx*μₘ₋₁ + (5//12)*Cᵘ[1, 3]*(Δx^2)*ρₘ₀ - (1//24)*Cᵘ[1, 3]*(Δx^2)*ρₘ₁ + (1//8)*Cᵘ[1, 3]*(Δx^2)*ρₘ₋₁ - (1//3)*Cᵘ[2, 2]*T*Δx*μₘ₀ - (1//12)*Cᵘ[2, 2]*T*Δx*μₘ₁ + (5//12)*Cᵘ[2, 2]*T*Δx*μₘ₋₁ - (1//4)*Cᵘ[3, 1]*(Δx^2)*μₘ₀ + (1//24)*Cᵘ[3, 1]*(Δx^2)*μₘ₁ - (7//24)*Cᵘ[3, 1]*(Δx^2)*μₘ₋₁ + (5//12)*Cᵘ[1, 4]*T*(Δx^2)*ρₘ₀ - (1//24)*Cᵘ[1, 4]*T*(Δx^2)*ρₘ₁ + (1//8)*Cᵘ[1, 4]*T*(Δx^2)*ρₘ₋₁ - (1//6)*Cᵘ[2, 3]*(T^2)*Δx*μₘ₀ - (1//24)*Cᵘ[2, 3]*(T^2)*Δx*μₘ₁ + (5//24)*Cᵘ[2, 3]*(T^2)*Δx*μₘ₋₁ - (7//60)*Cᵘ[2, 3]*(Δx^3)*ρₘ₀ + (1//60)*Cᵘ[2, 3]*(Δx^3)*ρₘ₁ - (1//15)*Cᵘ[2, 3]*(Δx^3)*ρₘ₋₁ - (1//4)*Cᵘ[3, 2]*T*(Δx^2)*μₘ₀ + (1//24)*Cᵘ[3, 2]*T*(Δx^2)*μₘ₁ - (7//24)*Cᵘ[3, 2]*T*(Δx^2)*μₘ₋₁ + (1//15)*Cᵘ[4, 1]*(Δx^3)*μₘ₀ - (1//80)*Cᵘ[4, 1]*(Δx^3)*μₘ₁ + (9//80)*Cᵘ[4, 1]*(Δx^3)*μₘ₋₁ + (5//24)*Cᵘ[1, 5]*(T^2)*(Δx^2)*ρₘ₀ - (1//48)*Cᵘ[1, 5]*(T^2)*(Δx^2)*ρₘ₁ + (1//16)*Cᵘ[1, 5]*(T^2)*(Δx^2)*ρₘ₋₁ - (1//18)*Cᵘ[2, 4]*(T^3)*Δx*μₘ₀ - (1//72)*Cᵘ[2, 4]*(T^3)*Δx*μₘ₁ + (5//72)*Cᵘ[2, 4]*(T^3)*Δx*μₘ₋₁ - (7//60)*Cᵘ[2, 4]*T*(Δx^3)*ρₘ₀ + (1//60)*Cᵘ[2, 4]*T*(Δx^3)*ρₘ₁ - (1//15)*Cᵘ[2, 4]*T*(Δx^3)*ρₘ₋₁ - (1//8)*Cᵘ[3, 3]*(T^2)*(Δx^2)*μₘ₀ + (1//48)*Cᵘ[3, 3]*(T^2)*(Δx^2)*μₘ₁ - (7//48)*Cᵘ[3, 3]*(T^2)*(Δx^2)*μₘ₋₁ + (1//40)*Cᵘ[3, 3]*(Δx^4)*ρₘ₀ - (1//240)*Cᵘ[3, 3]*(Δx^4)*ρₘ₁ + (1//48)*Cᵘ[3, 3]*(Δx^4)*ρₘ₋₁ + (1//15)*Cᵘ[4, 2]*T*(Δx^3)*μₘ₀ - (1//80)*Cᵘ[4, 2]*T*(Δx^3)*μₘ₁ + (9//80)*Cᵘ[4, 2]*T*(Δx^3)*μₘ₋₁ - (1//72)*Cᵘ[5, 1]*(Δx^4)*μₘ₀ + (1//360)*Cᵘ[5, 1]*(Δx^4)*μₘ₁ - (11//360)*Cᵘ[5, 1]*(Δx^4)*μₘ₋₁ - (1//72)*Cᵘ[2, 5]*(T^4)*Δx*μₘ₀ - (1//288)*Cᵘ[2, 5]*(T^4)*Δx*μₘ₁ + (5//288)*Cᵘ[2, 5]*(T^4)*Δx*μₘ₋₁ - (7//120)*Cᵘ[2, 5]*(T^2)*(Δx^3)*ρₘ₀ + (1//120)*Cᵘ[2, 5]*(T^2)*(Δx^3)*ρₘ₁ - (1//30)*Cᵘ[2, 5]*(T^2)*(Δx^3)*ρₘ₋₁ - (1//24)*Cᵘ[3, 4]*(T^3)*(Δx^2)*μₘ₀ + (1//144)*Cᵘ[3, 4]*(T^3)*(Δx^2)*μₘ₁ - (7//144)*Cᵘ[3, 4]*(T^3)*(Δx^2)*μₘ₋₁ + (1//40)*Cᵘ[3, 4]*T*(Δx^4)*ρₘ₀ - (1//240)*Cᵘ[3, 4]*T*(Δx^4)*ρₘ₁ + (1//48)*Cᵘ[3, 4]*T*(Δx^4)*ρₘ₋₁ + (1//30)*Cᵘ[4, 3]*(T^2)*(Δx^3)*μₘ₀ - (1//160)*Cᵘ[4, 3]*(T^2)*(Δx^3)*μₘ₁ + (9//160)*Cᵘ[4, 3]*(T^2)*(Δx^3)*μₘ₋₁ - (11//2520)*Cᵘ[4, 3]*(Δx^5)*ρₘ₀ + (1//1260)*Cᵘ[4, 3]*(Δx^5)*ρₘ₁ - (1//210)*Cᵘ[4, 3]*(Δx^5)*ρₘ₋₁ - (1//72)*Cᵘ[5, 2]*T*(Δx^4)*μₘ₀ + (1//360)*Cᵘ[5, 2]*T*(Δx^4)*μₘ₁ - (11//360)*Cᵘ[5, 2]*T*(Δx^4)*μₘ₋₁ - (1//96)*Cᵘ[3, 5]*(T^4)*(Δx^2)*μₘ₀ + (1//576)*Cᵘ[3, 5]*(T^4)*(Δx^2)*μₘ₁ - (7//576)*Cᵘ[3, 5]*(T^4)*(Δx^2)*μₘ₋₁ + (1//80)*Cᵘ[3, 5]*(T^2)*(Δx^4)*ρₘ₀ - (1//480)*Cᵘ[3, 5]*(T^2)*(Δx^4)*ρₘ₁ + (1//96)*Cᵘ[3, 5]*(T^2)*(Δx^4)*ρₘ₋₁ + (1//90)*Cᵘ[4, 4]*(T^3)*(Δx^3)*μₘ₀ - (1//480)*Cᵘ[4, 4]*(T^3)*(Δx^3)*μₘ₁ + (3//160)*Cᵘ[4, 4]*(T^3)*(Δx^3)*μₘ₋₁ - (11//2520)*Cᵘ[4, 4]*T*(Δx^5)*ρₘ₀ + (1//1260)*Cᵘ[4, 4]*T*(Δx^5)*ρₘ₁ - (1//210)*Cᵘ[4, 4]*T*(Δx^5)*ρₘ₋₁ - (1//144)*Cᵘ[5, 3]*(T^2)*(Δx^4)*μₘ₀ + (1//720)*Cᵘ[5, 3]*(T^2)*(Δx^4)*μₘ₁ - (11//720)*Cᵘ[5, 3]*(T^2)*(Δx^4)*μₘ₋₁ + (13//20160)*Cᵘ[5, 3]*(Δx^6)*ρₘ₀ - (1//8064)*Cᵘ[5, 3]*(Δx^6)*ρₘ₁ + (1//1152)*Cᵘ[5, 3]*(Δx^6)*ρₘ₋₁ + (1//360)*Cᵘ[4, 5]*(T^4)*(Δx^3)*μₘ₀ - (1//1920)*Cᵘ[4, 5]*(T^4)*(Δx^3)*μₘ₁ + (3//640)*Cᵘ[4, 5]*(T^4)*(Δx^3)*μₘ₋₁ - (11//5040)*Cᵘ[4, 5]*(T^2)*(Δx^5)*ρₘ₀ + (1//2520)*Cᵘ[4, 5]*(T^2)*(Δx^5)*ρₘ₁ - (1//420)*Cᵘ[4, 5]*(T^2)*(Δx^5)*ρₘ₋₁ - (1//432)*Cᵘ[5, 4]*(T^3)*(Δx^4)*μₘ₀ + (1//2160)*Cᵘ[5, 4]*(T^3)*(Δx^4)*μₘ₁ - (11//2160)*Cᵘ[5, 4]*(T^3)*(Δx^4)*μₘ₋₁ + (13//20160)*Cᵘ[5, 4]*T*(Δx^6)*ρₘ₀ - (1//8064)*Cᵘ[5, 4]*T*(Δx^6)*ρₘ₁ + (1//1152)*Cᵘ[5, 4]*T*(Δx^6)*ρₘ₋₁ - (1//1728)*Cᵘ[5, 5]*(T^4)*(Δx^4)*μₘ₀ + (1//8640)*Cᵘ[5, 5]*(T^4)*(Δx^4)*μₘ₁ - (11//8640)*Cᵘ[5, 5]*(T^4)*(Δx^4)*μₘ₋₁ + (13//40320)*Cᵘ[5, 5]*(T^2)*(Δx^6)*ρₘ₀ - (1//16128)*Cᵘ[5, 5]*(T^2)*(Δx^6)*ρₘ₁ + (1//2304)*Cᵘ[5, 5]*(T^2)*(Δx^6)*ρₘ₋₁) / Δx"
      ]
     },
     "metadata": {},
     "output_type": "display_data"
    }
   ],
   "source": [
    "ϕ_deriv_right=-1//Δx\n",
    "ϕ_deriv_left = 1//Δx\n",
    "desired_value_in_space=-(ϕ_deriv_right*f2_space_right-ϕ_deriv_left*f2_space_left)"
   ]
  },
  {
   "cell_type": "code",
   "execution_count": 86,
   "metadata": {},
   "outputs": [
    {
     "data": {
      "text/latex": [
       "$$ \\begin{equation}\n",
       " - \\frac{1}{4} T^{2} C^u_{2}ˏ_1 \\mu_{m 1} + \\frac{1}{4} T^{2} C^u_{2}ˏ_1 \\mu_{m - 1} + \\frac{5}{12} T^{2} C^u_{1}ˏ_3 {\\Delta}x \\rho_{m 0} + \\frac{1}{24} T^{2} C^u_{1}ˏ_3 {\\Delta}x \\left( \\rho_{m 1} + \\rho_{m - 1} \\right) - \\frac{1}{12} T^{3} C^u_{2}ˏ_2 \\mu_{m 1} + \\frac{1}{12} T^{3} C^u_{2}ˏ_2 \\mu_{m - 1} - \\frac{1}{4} T^{2} C^u_{3}ˏ_1 {\\Delta}x \\mu_{m 0} - \\frac{1}{8} T^{2} C^u_{3}ˏ_1 {\\Delta}x \\left( \\mu_{m 1} + \\mu_{m - 1} \\right) + \\frac{5}{36} T^{3} C^u_{1}ˏ_4 {\\Delta}x \\rho_{m 0} + \\frac{1}{72} T^{3} C^u_{1}ˏ_4 {\\Delta}x \\left( \\rho_{m 1} + \\rho_{m - 1} \\right) - \\frac{1}{48} T^{4} C^u_{2}ˏ_3 \\mu_{m 1} + \\frac{1}{48} T^{4} C^u_{2}ˏ_3 \\mu_{m - 1} + \\frac{1}{24} {\\Delta}x^{2} T^{2} C^u_{2}ˏ_3 \\rho_{m 1} - \\frac{1}{24} {\\Delta}x^{2} T^{2} C^u_{2}ˏ_3 \\rho_{m - 1} - \\frac{1}{12} T^{3} C^u_{3}ˏ_2 {\\Delta}x \\mu_{m 0} - \\frac{1}{24} T^{3} C^u_{3}ˏ_2 {\\Delta}x \\left( \\mu_{m 1} + \\mu_{m - 1} \\right) - \\frac{1}{16} {\\Delta}x^{2} T^{2} C^u_{4}ˏ_1 \\mu_{m 1} + \\frac{1}{16} {\\Delta}x^{2} T^{2} C^u_{4}ˏ_1 \\mu_{m - 1} + \\frac{5}{144} T^{4} C^u_{1}ˏ_5 {\\Delta}x \\rho_{m 0} + \\frac{1}{288} T^{4} C^u_{1}ˏ_5 {\\Delta}x \\left( \\rho_{m 1} + \\rho_{m - 1} \\right) - \\frac{1}{240} T^{5} C^u_{2}ˏ_4 \\mu_{m 1} + \\frac{1}{240} T^{5} C^u_{2}ˏ_4 \\mu_{m - 1} + \\frac{1}{72} {\\Delta}x^{2} T^{3} C^u_{2}ˏ_4 \\rho_{m 1} - \\frac{1}{72} {\\Delta}x^{2} T^{3} C^u_{2}ˏ_4 \\rho_{m - 1} - \\frac{1}{48} T^{4} C^u_{3}ˏ_3 {\\Delta}x \\mu_{m 0} - \\frac{1}{96} T^{4} C^u_{3}ˏ_3 {\\Delta}x \\left( \\mu_{m 1} + \\mu_{m - 1} \\right) + \\frac{1}{40} {\\Delta}x^{3} T^{2} C^u_{3}ˏ_3 \\rho_{m 0} + \\frac{1}{120} {\\Delta}x^{3} T^{2} C^u_{3}ˏ_3 \\left( \\rho_{m 1} + \\rho_{m - 1} \\right) - \\frac{1}{48} {\\Delta}x^{2} T^{3} C^u_{4}ˏ_2 \\mu_{m 1} + \\frac{1}{48} {\\Delta}x^{2} T^{3} C^u_{4}ˏ_2 \\mu_{m - 1} - \\frac{1}{72} {\\Delta}x^{3} T^{2} C^u_{5}ˏ_1 \\left( \\mu_{m 0} + \\mu_{m 1} + \\mu_{m - 1} \\right) - \\frac{1}{1440} T^{6} C^u_{2}ˏ_5 \\mu_{m 1} + \\frac{1}{1440} T^{6} C^u_{2}ˏ_5 \\mu_{m - 1} + \\frac{1}{288} {\\Delta}x^{2} T^{4} C^u_{2}ˏ_5 \\rho_{m 1} - \\frac{1}{288} {\\Delta}x^{2} T^{4} C^u_{2}ˏ_5 \\rho_{m - 1} - \\frac{1}{240} T^{5} C^u_{3}ˏ_4 {\\Delta}x \\mu_{m 0} - \\frac{1}{480} T^{5} C^u_{3}ˏ_4 {\\Delta}x \\left( \\mu_{m 1} + \\mu_{m - 1} \\right) + \\frac{1}{120} {\\Delta}x^{3} T^{3} C^u_{3}ˏ_4 \\rho_{m 0} + \\frac{1}{360} {\\Delta}x^{3} T^{3} C^u_{3}ˏ_4 \\left( \\rho_{m 1} + \\rho_{m - 1} \\right) - \\frac{1}{192} {\\Delta}x^{2} T^{4} C^u_{4}ˏ_3 \\mu_{m 1} + \\frac{1}{192} {\\Delta}x^{2} T^{4} C^u_{4}ˏ_3 \\mu_{m - 1} + \\frac{1}{360} {\\Delta}x^{4} T^{2} C^u_{4}ˏ_3 \\rho_{m 1} - \\frac{1}{360} {\\Delta}x^{4} T^{2} C^u_{4}ˏ_3 \\rho_{m - 1} - \\frac{1}{216} {\\Delta}x^{3} T^{3} C^u_{5}ˏ_2 \\left( \\mu_{m 0} + \\mu_{m 1} + \\mu_{m - 1} \\right) - \\frac{1}{1440} T^{6} C^u_{3}ˏ_5 {\\Delta}x \\mu_{m 0} - \\frac{1}{2880} T^{6} C^u_{3}ˏ_5 {\\Delta}x \\left( \\mu_{m 1} + \\mu_{m - 1} \\right) + \\frac{1}{480} {\\Delta}x^{3} T^{4} C^u_{3}ˏ_5 \\rho_{m 0} + \\frac{1}{1440} {\\Delta}x^{3} T^{4} C^u_{3}ˏ_5 \\left( \\rho_{m 1} + \\rho_{m - 1} \\right) - \\frac{1}{960} {\\Delta}x^{2} T^{5} C^u_{4}ˏ_4 \\mu_{m 1} + \\frac{1}{960} {\\Delta}x^{2} T^{5} C^u_{4}ˏ_4 \\mu_{m - 1} + \\frac{1}{1080} {\\Delta}x^{4} T^{3} C^u_{4}ˏ_4 \\rho_{m 1} - \\frac{1}{1080} {\\Delta}x^{4} T^{3} C^u_{4}ˏ_4 \\rho_{m - 1} - \\frac{1}{864} {\\Delta}x^{3} T^{4} C^u_{5}ˏ_3 \\left( \\mu_{m 0} + \\mu_{m 1} + \\mu_{m - 1} \\right) + \\frac{13}{20160} {\\Delta}x^{5} T^{2} C^u_{5}ˏ_3 \\rho_{m 0} + \\frac{1}{2688} {\\Delta}x^{5} T^{2} C^u_{5}ˏ_3 \\left( \\rho_{m 1} + \\rho_{m - 1} \\right) - \\frac{1}{5760} {\\Delta}x^{2} T^{6} C^u_{4}ˏ_5 \\mu_{m 1} + \\frac{1}{5760} {\\Delta}x^{2} T^{6} C^u_{4}ˏ_5 \\mu_{m - 1} + \\frac{1}{4320} {\\Delta}x^{4} T^{4} C^u_{4}ˏ_5 \\rho_{m 1} - \\frac{1}{4320} {\\Delta}x^{4} T^{4} C^u_{4}ˏ_5 \\rho_{m - 1} - \\frac{1}{4320} {\\Delta}x^{3} T^{5} C^u_{5}ˏ_4 \\left( \\mu_{m 0} + \\mu_{m 1} + \\mu_{m - 1} \\right) + \\frac{13}{60480} {\\Delta}x^{5} T^{3} C^u_{5}ˏ_4 \\rho_{m 0} + \\frac{1}{8064} {\\Delta}x^{5} T^{3} C^u_{5}ˏ_4 \\left( \\rho_{m 1} + \\rho_{m - 1} \\right) - \\frac{1}{25920} {\\Delta}x^{3} T^{6} C^u_{5}ˏ_5 \\left( \\mu_{m 0} + \\mu_{m 1} + \\mu_{m - 1} \\right) + \\frac{13}{241920} {\\Delta}x^{5} T^{4} C^u_{5}ˏ_5 \\rho_{m 0} + \\frac{1}{32256} {\\Delta}x^{5} T^{4} C^u_{5}ˏ_5 \\left( \\rho_{m 1} + \\rho_{m - 1} \\right)\n",
       "\\end{equation}\n",
       " $$"
      ],
      "text/plain": [
       "-(1//4)*Cᵘ[2, 1]*(T^2)*μₘ₁ + (1//4)*Cᵘ[2, 1]*(T^2)*μₘ₋₁ + (5//12)*Cᵘ[1, 3]*(T^2)*Δx*ρₘ₀ + (1//24)*Cᵘ[1, 3]*(T^2)*Δx*(ρₘ₁ + ρₘ₋₁) - (1//12)*Cᵘ[2, 2]*(T^3)*μₘ₁ + (1//12)*Cᵘ[2, 2]*(T^3)*μₘ₋₁ - (1//4)*Cᵘ[3, 1]*(T^2)*Δx*μₘ₀ - (1//8)*Cᵘ[3, 1]*(T^2)*Δx*(μₘ₁ + μₘ₋₁) + (5//36)*Cᵘ[1, 4]*(T^3)*Δx*ρₘ₀ + (1//72)*Cᵘ[1, 4]*(T^3)*Δx*(ρₘ₁ + ρₘ₋₁) - (1//48)*Cᵘ[2, 3]*(T^4)*μₘ₁ + (1//48)*Cᵘ[2, 3]*(T^4)*μₘ₋₁ + (1//24)*Cᵘ[2, 3]*(T^2)*(Δx^2)*ρₘ₁ - (1//24)*Cᵘ[2, 3]*(T^2)*(Δx^2)*ρₘ₋₁ - (1//12)*Cᵘ[3, 2]*(T^3)*Δx*μₘ₀ - (1//24)*Cᵘ[3, 2]*(T^3)*Δx*(μₘ₁ + μₘ₋₁) - (1//16)*Cᵘ[4, 1]*(T^2)*(Δx^2)*μₘ₁ + (1//16)*Cᵘ[4, 1]*(T^2)*(Δx^2)*μₘ₋₁ + (5//144)*Cᵘ[1, 5]*(T^4)*Δx*ρₘ₀ + (1//288)*Cᵘ[1, 5]*(T^4)*Δx*(ρₘ₁ + ρₘ₋₁) - (1//240)*Cᵘ[2, 4]*(T^5)*μₘ₁ + (1//240)*Cᵘ[2, 4]*(T^5)*μₘ₋₁ + (1//72)*Cᵘ[2, 4]*(T^3)*(Δx^2)*ρₘ₁ - (1//72)*Cᵘ[2, 4]*(T^3)*(Δx^2)*ρₘ₋₁ - (1//48)*Cᵘ[3, 3]*(T^4)*Δx*μₘ₀ - (1//96)*Cᵘ[3, 3]*(T^4)*Δx*(μₘ₁ + μₘ₋₁) + (1//40)*Cᵘ[3, 3]*(T^2)*(Δx^3)*ρₘ₀ + (1//120)*Cᵘ[3, 3]*(T^2)*(Δx^3)*(ρₘ₁ + ρₘ₋₁) - (1//48)*Cᵘ[4, 2]*(T^3)*(Δx^2)*μₘ₁ + (1//48)*Cᵘ[4, 2]*(T^3)*(Δx^2)*μₘ₋₁ - (1//72)*Cᵘ[5, 1]*(T^2)*(Δx^3)*(μₘ₀ + μₘ₁ + μₘ₋₁) - (1//1440)*Cᵘ[2, 5]*(T^6)*μₘ₁ + (1//1440)*Cᵘ[2, 5]*(T^6)*μₘ₋₁ + (1//288)*Cᵘ[2, 5]*(T^4)*(Δx^2)*ρₘ₁ - (1//288)*Cᵘ[2, 5]*(T^4)*(Δx^2)*ρₘ₋₁ - (1//240)*Cᵘ[3, 4]*(T^5)*Δx*μₘ₀ - (1//480)*Cᵘ[3, 4]*(T^5)*Δx*(μₘ₁ + μₘ₋₁) + (1//120)*Cᵘ[3, 4]*(T^3)*(Δx^3)*ρₘ₀ + (1//360)*Cᵘ[3, 4]*(T^3)*(Δx^3)*(ρₘ₁ + ρₘ₋₁) - (1//192)*Cᵘ[4, 3]*(T^4)*(Δx^2)*μₘ₁ + (1//192)*Cᵘ[4, 3]*(T^4)*(Δx^2)*μₘ₋₁ + (1//360)*Cᵘ[4, 3]*(T^2)*(Δx^4)*ρₘ₁ - (1//360)*Cᵘ[4, 3]*(T^2)*(Δx^4)*ρₘ₋₁ - (1//216)*Cᵘ[5, 2]*(T^3)*(Δx^3)*(μₘ₀ + μₘ₁ + μₘ₋₁) - (1//1440)*Cᵘ[3, 5]*(T^6)*Δx*μₘ₀ - (1//2880)*Cᵘ[3, 5]*(T^6)*Δx*(μₘ₁ + μₘ₋₁) + (1//480)*Cᵘ[3, 5]*(T^4)*(Δx^3)*ρₘ₀ + (1//1440)*Cᵘ[3, 5]*(T^4)*(Δx^3)*(ρₘ₁ + ρₘ₋₁) - (1//960)*Cᵘ[4, 4]*(T^5)*(Δx^2)*μₘ₁ + (1//960)*Cᵘ[4, 4]*(T^5)*(Δx^2)*μₘ₋₁ + (1//1080)*Cᵘ[4, 4]*(T^3)*(Δx^4)*ρₘ₁ - (1//1080)*Cᵘ[4, 4]*(T^3)*(Δx^4)*ρₘ₋₁ - (1//864)*Cᵘ[5, 3]*(T^4)*(Δx^3)*(μₘ₀ + μₘ₁ + μₘ₋₁) + (13//20160)*Cᵘ[5, 3]*(T^2)*(Δx^5)*ρₘ₀ + (1//2688)*Cᵘ[5, 3]*(T^2)*(Δx^5)*(ρₘ₁ + ρₘ₋₁) - (1//5760)*Cᵘ[4, 5]*(T^6)*(Δx^2)*μₘ₁ + (1//5760)*Cᵘ[4, 5]*(T^6)*(Δx^2)*μₘ₋₁ + (1//4320)*Cᵘ[4, 5]*(T^4)*(Δx^4)*ρₘ₁ - (1//4320)*Cᵘ[4, 5]*(T^4)*(Δx^4)*ρₘ₋₁ - (1//4320)*Cᵘ[5, 4]*(T^5)*(Δx^3)*(μₘ₀ + μₘ₁ + μₘ₋₁) + (13//60480)*Cᵘ[5, 4]*(T^3)*(Δx^5)*ρₘ₀ + (1//8064)*Cᵘ[5, 4]*(T^3)*(Δx^5)*(ρₘ₁ + ρₘ₋₁) - (1//25920)*Cᵘ[5, 5]*(T^6)*(Δx^3)*(μₘ₀ + μₘ₁ + μₘ₋₁) + (13//241920)*Cᵘ[5, 5]*(T^4)*(Δx^5)*ρₘ₀ + (1//32256)*Cᵘ[5, 5]*(T^4)*(Δx^5)*(ρₘ₁ + ρₘ₋₁)"
      ]
     },
     "metadata": {},
     "output_type": "display_data"
    }
   ],
   "source": [
    "# now time integral\n",
    "\n",
    "f1_time=integrateTaylorPolynomials(desired_value_in_space,T)\n",
    "f2_time=integrateTaylorPolynomials(f1_time,T)\n"
   ]
  },
  {
   "cell_type": "code",
   "execution_count": 87,
   "metadata": {},
   "outputs": [
    {
     "data": {
      "text/latex": [
       "$$ \\begin{equation}\n",
       " - \\frac{1}{4} {\\Delta}t^{2} C^u_{2}ˏ_1 \\mu_{m 1} + \\frac{1}{4} {\\Delta}t^{2} C^u_{2}ˏ_1 \\mu_{m - 1} + \\frac{5}{12} {\\Delta}t^{2} C^u_{1}ˏ_3 {\\Delta}x \\rho_{m 0} + \\frac{1}{24} {\\Delta}t^{2} C^u_{1}ˏ_3 {\\Delta}x \\left( \\rho_{m 1} + \\rho_{m - 1} \\right) + \\frac{1}{12} {\\Delta}t^{3} C^u_{2}ˏ_2 \\mu_{m 1} - \\frac{1}{12} {\\Delta}t^{3} C^u_{2}ˏ_2 \\mu_{m - 1} - \\frac{1}{4} {\\Delta}t^{2} C^u_{3}ˏ_1 {\\Delta}x \\mu_{m 0} - \\frac{1}{8} {\\Delta}t^{2} C^u_{3}ˏ_1 {\\Delta}x \\left( \\mu_{m 1} + \\mu_{m - 1} \\right) - \\frac{5}{36} {\\Delta}t^{3} C^u_{1}ˏ_4 {\\Delta}x \\rho_{m 0} - \\frac{1}{72} {\\Delta}t^{3} C^u_{1}ˏ_4 {\\Delta}x \\left( \\rho_{m 1} + \\rho_{m - 1} \\right) - \\frac{1}{48} {\\Delta}t^{4} C^u_{2}ˏ_3 \\mu_{m 1} + \\frac{1}{48} {\\Delta}t^{4} C^u_{2}ˏ_3 \\mu_{m - 1} + \\frac{1}{24} {\\Delta}x^{2} {\\Delta}t^{2} C^u_{2}ˏ_3 \\rho_{m 1} - \\frac{1}{24} {\\Delta}x^{2} {\\Delta}t^{2} C^u_{2}ˏ_3 \\rho_{m - 1} + \\frac{1}{12} {\\Delta}t^{3} C^u_{3}ˏ_2 {\\Delta}x \\mu_{m 0} + \\frac{1}{24} {\\Delta}t^{3} C^u_{3}ˏ_2 {\\Delta}x \\left( \\mu_{m 1} + \\mu_{m - 1} \\right) - \\frac{1}{16} {\\Delta}x^{2} {\\Delta}t^{2} C^u_{4}ˏ_1 \\mu_{m 1} + \\frac{1}{16} {\\Delta}x^{2} {\\Delta}t^{2} C^u_{4}ˏ_1 \\mu_{m - 1} + \\frac{5}{144} {\\Delta}t^{4} C^u_{1}ˏ_5 {\\Delta}x \\rho_{m 0} + \\frac{1}{288} {\\Delta}t^{4} C^u_{1}ˏ_5 {\\Delta}x \\left( \\rho_{m 1} + \\rho_{m - 1} \\right) + \\frac{1}{240} {\\Delta}t^{5} C^u_{2}ˏ_4 \\mu_{m 1} - \\frac{1}{240} {\\Delta}t^{5} C^u_{2}ˏ_4 \\mu_{m - 1} - \\frac{1}{72} {\\Delta}x^{2} {\\Delta}t^{3} C^u_{2}ˏ_4 \\rho_{m 1} + \\frac{1}{72} {\\Delta}x^{2} {\\Delta}t^{3} C^u_{2}ˏ_4 \\rho_{m - 1} - \\frac{1}{48} {\\Delta}t^{4} C^u_{3}ˏ_3 {\\Delta}x \\mu_{m 0} - \\frac{1}{96} {\\Delta}t^{4} C^u_{3}ˏ_3 {\\Delta}x \\left( \\mu_{m 1} + \\mu_{m - 1} \\right) + \\frac{1}{40} {\\Delta}x^{3} {\\Delta}t^{2} C^u_{3}ˏ_3 \\rho_{m 0} + \\frac{1}{120} {\\Delta}x^{3} {\\Delta}t^{2} C^u_{3}ˏ_3 \\left( \\rho_{m 1} + \\rho_{m - 1} \\right) + \\frac{1}{48} {\\Delta}x^{2} {\\Delta}t^{3} C^u_{4}ˏ_2 \\mu_{m 1} - \\frac{1}{48} {\\Delta}x^{2} {\\Delta}t^{3} C^u_{4}ˏ_2 \\mu_{m - 1} - \\frac{1}{72} {\\Delta}x^{3} {\\Delta}t^{2} C^u_{5}ˏ_1 \\left( \\mu_{m 0} + \\mu_{m 1} + \\mu_{m - 1} \\right) - \\frac{1}{1440} {\\Delta}t^{6} C^u_{2}ˏ_5 \\mu_{m 1} + \\frac{1}{1440} {\\Delta}t^{6} C^u_{2}ˏ_5 \\mu_{m - 1} + \\frac{1}{288} {\\Delta}x^{2} {\\Delta}t^{4} C^u_{2}ˏ_5 \\rho_{m 1} - \\frac{1}{288} {\\Delta}x^{2} {\\Delta}t^{4} C^u_{2}ˏ_5 \\rho_{m - 1} + \\frac{1}{240} {\\Delta}t^{5} C^u_{3}ˏ_4 {\\Delta}x \\mu_{m 0} + \\frac{1}{480} {\\Delta}t^{5} C^u_{3}ˏ_4 {\\Delta}x \\left( \\mu_{m 1} + \\mu_{m - 1} \\right) - \\frac{1}{120} {\\Delta}x^{3} {\\Delta}t^{3} C^u_{3}ˏ_4 \\rho_{m 0} - \\frac{1}{360} {\\Delta}x^{3} {\\Delta}t^{3} C^u_{3}ˏ_4 \\left( \\rho_{m 1} + \\rho_{m - 1} \\right) - \\frac{1}{192} {\\Delta}x^{2} {\\Delta}t^{4} C^u_{4}ˏ_3 \\mu_{m 1} + \\frac{1}{192} {\\Delta}x^{2} {\\Delta}t^{4} C^u_{4}ˏ_3 \\mu_{m - 1} + \\frac{1}{360} {\\Delta}x^{4} {\\Delta}t^{2} C^u_{4}ˏ_3 \\rho_{m 1} - \\frac{1}{360} {\\Delta}x^{4} {\\Delta}t^{2} C^u_{4}ˏ_3 \\rho_{m - 1} + \\frac{1}{216} {\\Delta}x^{3} {\\Delta}t^{3} C^u_{5}ˏ_2 \\left( \\mu_{m 0} + \\mu_{m 1} + \\mu_{m - 1} \\right) - \\frac{1}{1440} {\\Delta}t^{6} C^u_{3}ˏ_5 {\\Delta}x \\mu_{m 0} - \\frac{1}{2880} {\\Delta}t^{6} C^u_{3}ˏ_5 {\\Delta}x \\left( \\mu_{m 1} + \\mu_{m - 1} \\right) + \\frac{1}{480} {\\Delta}x^{3} {\\Delta}t^{4} C^u_{3}ˏ_5 \\rho_{m 0} + \\frac{1}{1440} {\\Delta}x^{3} {\\Delta}t^{4} C^u_{3}ˏ_5 \\left( \\rho_{m 1} + \\rho_{m - 1} \\right) + \\frac{1}{960} {\\Delta}x^{2} {\\Delta}t^{5} C^u_{4}ˏ_4 \\mu_{m 1} - \\frac{1}{960} {\\Delta}x^{2} {\\Delta}t^{5} C^u_{4}ˏ_4 \\mu_{m - 1} - \\frac{1}{1080} {\\Delta}x^{4} {\\Delta}t^{3} C^u_{4}ˏ_4 \\rho_{m 1} + \\frac{1}{1080} {\\Delta}x^{4} {\\Delta}t^{3} C^u_{4}ˏ_4 \\rho_{m - 1} - \\frac{1}{864} {\\Delta}x^{3} {\\Delta}t^{4} C^u_{5}ˏ_3 \\left( \\mu_{m 0} + \\mu_{m 1} + \\mu_{m - 1} \\right) + \\frac{13}{20160} {\\Delta}x^{5} {\\Delta}t^{2} C^u_{5}ˏ_3 \\rho_{m 0} + \\frac{1}{2688} {\\Delta}x^{5} {\\Delta}t^{2} C^u_{5}ˏ_3 \\left( \\rho_{m 1} + \\rho_{m - 1} \\right) - \\frac{1}{5760} {\\Delta}x^{2} {\\Delta}t^{6} C^u_{4}ˏ_5 \\mu_{m 1} + \\frac{1}{5760} {\\Delta}x^{2} {\\Delta}t^{6} C^u_{4}ˏ_5 \\mu_{m - 1} + \\frac{1}{4320} {\\Delta}x^{4} {\\Delta}t^{4} C^u_{4}ˏ_5 \\rho_{m 1} - \\frac{1}{4320} {\\Delta}x^{4} {\\Delta}t^{4} C^u_{4}ˏ_5 \\rho_{m - 1} + \\frac{1}{4320} {\\Delta}x^{3} {\\Delta}t^{5} C^u_{5}ˏ_4 \\left( \\mu_{m 0} + \\mu_{m 1} + \\mu_{m - 1} \\right) - \\frac{13}{60480} {\\Delta}x^{5} {\\Delta}t^{3} C^u_{5}ˏ_4 \\rho_{m 0} - \\frac{1}{8064} {\\Delta}x^{5} {\\Delta}t^{3} C^u_{5}ˏ_4 \\left( \\rho_{m 1} + \\rho_{m - 1} \\right) - \\frac{1}{25920} {\\Delta}x^{3} {\\Delta}t^{6} C^u_{5}ˏ_5 \\left( \\mu_{m 0} + \\mu_{m 1} + \\mu_{m - 1} \\right) + \\frac{13}{241920} {\\Delta}x^{5} {\\Delta}t^{4} C^u_{5}ˏ_5 \\rho_{m 0} + \\frac{1}{32256} {\\Delta}x^{5} {\\Delta}t^{4} C^u_{5}ˏ_5 \\left( \\rho_{m 1} + \\rho_{m - 1} \\right)\n",
       "\\end{equation}\n",
       " $$"
      ],
      "text/plain": [
       "-(1//4)*Cᵘ[2, 1]*(Δt^2)*μₘ₁ + (1//4)*Cᵘ[2, 1]*(Δt^2)*μₘ₋₁ + (5//12)*Cᵘ[1, 3]*(Δt^2)*Δx*ρₘ₀ + (1//24)*Cᵘ[1, 3]*(Δt^2)*Δx*(ρₘ₁ + ρₘ₋₁) + (1//12)*Cᵘ[2, 2]*(Δt^3)*μₘ₁ - (1//12)*Cᵘ[2, 2]*(Δt^3)*μₘ₋₁ - (1//4)*Cᵘ[3, 1]*(Δt^2)*Δx*μₘ₀ - (1//8)*Cᵘ[3, 1]*(Δt^2)*Δx*(μₘ₁ + μₘ₋₁) - (5//36)*Cᵘ[1, 4]*(Δt^3)*Δx*ρₘ₀ - (1//72)*Cᵘ[1, 4]*(Δt^3)*Δx*(ρₘ₁ + ρₘ₋₁) - (1//48)*Cᵘ[2, 3]*(Δt^4)*μₘ₁ + (1//48)*Cᵘ[2, 3]*(Δt^4)*μₘ₋₁ + (1//24)*Cᵘ[2, 3]*(Δt^2)*(Δx^2)*ρₘ₁ - (1//24)*Cᵘ[2, 3]*(Δt^2)*(Δx^2)*ρₘ₋₁ + (1//12)*Cᵘ[3, 2]*(Δt^3)*Δx*μₘ₀ + (1//24)*Cᵘ[3, 2]*(Δt^3)*Δx*(μₘ₁ + μₘ₋₁) - (1//16)*Cᵘ[4, 1]*(Δt^2)*(Δx^2)*μₘ₁ + (1//16)*Cᵘ[4, 1]*(Δt^2)*(Δx^2)*μₘ₋₁ + (5//144)*Cᵘ[1, 5]*(Δt^4)*Δx*ρₘ₀ + (1//288)*Cᵘ[1, 5]*(Δt^4)*Δx*(ρₘ₁ + ρₘ₋₁) + (1//240)*Cᵘ[2, 4]*(Δt^5)*μₘ₁ - (1//240)*Cᵘ[2, 4]*(Δt^5)*μₘ₋₁ - (1//72)*Cᵘ[2, 4]*(Δt^3)*(Δx^2)*ρₘ₁ + (1//72)*Cᵘ[2, 4]*(Δt^3)*(Δx^2)*ρₘ₋₁ - (1//48)*Cᵘ[3, 3]*(Δt^4)*Δx*μₘ₀ - (1//96)*Cᵘ[3, 3]*(Δt^4)*Δx*(μₘ₁ + μₘ₋₁) + (1//40)*Cᵘ[3, 3]*(Δt^2)*(Δx^3)*ρₘ₀ + (1//120)*Cᵘ[3, 3]*(Δt^2)*(Δx^3)*(ρₘ₁ + ρₘ₋₁) + (1//48)*Cᵘ[4, 2]*(Δt^3)*(Δx^2)*μₘ₁ - (1//48)*Cᵘ[4, 2]*(Δt^3)*(Δx^2)*μₘ₋₁ - (1//72)*Cᵘ[5, 1]*(Δt^2)*(Δx^3)*(μₘ₀ + μₘ₁ + μₘ₋₁) - (1//1440)*Cᵘ[2, 5]*(Δt^6)*μₘ₁ + (1//1440)*Cᵘ[2, 5]*(Δt^6)*μₘ₋₁ + (1//288)*Cᵘ[2, 5]*(Δt^4)*(Δx^2)*ρₘ₁ - (1//288)*Cᵘ[2, 5]*(Δt^4)*(Δx^2)*ρₘ₋₁ + (1//240)*Cᵘ[3, 4]*(Δt^5)*Δx*μₘ₀ + (1//480)*Cᵘ[3, 4]*(Δt^5)*Δx*(μₘ₁ + μₘ₋₁) - (1//120)*Cᵘ[3, 4]*(Δt^3)*(Δx^3)*ρₘ₀ - (1//360)*Cᵘ[3, 4]*(Δt^3)*(Δx^3)*(ρₘ₁ + ρₘ₋₁) - (1//192)*Cᵘ[4, 3]*(Δt^4)*(Δx^2)*μₘ₁ + (1//192)*Cᵘ[4, 3]*(Δt^4)*(Δx^2)*μₘ₋₁ + (1//360)*Cᵘ[4, 3]*(Δt^2)*(Δx^4)*ρₘ₁ - (1//360)*Cᵘ[4, 3]*(Δt^2)*(Δx^4)*ρₘ₋₁ + (1//216)*Cᵘ[5, 2]*(Δt^3)*(Δx^3)*(μₘ₀ + μₘ₁ + μₘ₋₁) - (1//1440)*Cᵘ[3, 5]*(Δt^6)*Δx*μₘ₀ - (1//2880)*Cᵘ[3, 5]*(Δt^6)*Δx*(μₘ₁ + μₘ₋₁) + (1//480)*Cᵘ[3, 5]*(Δt^4)*(Δx^3)*ρₘ₀ + (1//1440)*Cᵘ[3, 5]*(Δt^4)*(Δx^3)*(ρₘ₁ + ρₘ₋₁) + (1//960)*Cᵘ[4, 4]*(Δt^5)*(Δx^2)*μₘ₁ - (1//960)*Cᵘ[4, 4]*(Δt^5)*(Δx^2)*μₘ₋₁ - (1//1080)*Cᵘ[4, 4]*(Δt^3)*(Δx^4)*ρₘ₁ + (1//1080)*Cᵘ[4, 4]*(Δt^3)*(Δx^4)*ρₘ₋₁ - (1//864)*Cᵘ[5, 3]*(Δt^4)*(Δx^3)*(μₘ₀ + μₘ₁ + μₘ₋₁) + (13//20160)*Cᵘ[5, 3]*(Δt^2)*(Δx^5)*ρₘ₀ + (1//2688)*Cᵘ[5, 3]*(Δt^2)*(Δx^5)*(ρₘ₁ + ρₘ₋₁) - (1//5760)*Cᵘ[4, 5]*(Δt^6)*(Δx^2)*μₘ₁ + (1//5760)*Cᵘ[4, 5]*(Δt^6)*(Δx^2)*μₘ₋₁ + (1//4320)*Cᵘ[4, 5]*(Δt^4)*(Δx^4)*ρₘ₁ - (1//4320)*Cᵘ[4, 5]*(Δt^4)*(Δx^4)*ρₘ₋₁ + (1//4320)*Cᵘ[5, 4]*(Δt^5)*(Δx^3)*(μₘ₀ + μₘ₁ + μₘ₋₁) - (13//60480)*Cᵘ[5, 4]*(Δt^3)*(Δx^5)*ρₘ₀ - (1//8064)*Cᵘ[5, 4]*(Δt^3)*(Δx^5)*(ρₘ₁ + ρₘ₋₁) - (1//25920)*Cᵘ[5, 5]*(Δt^6)*(Δx^3)*(μₘ₀ + μₘ₁ + μₘ₋₁) + (13//241920)*Cᵘ[5, 5]*(Δt^4)*(Δx^5)*ρₘ₀ + (1//32256)*Cᵘ[5, 5]*(Δt^4)*(Δx^5)*(ρₘ₁ + ρₘ₋₁)"
      ]
     },
     "metadata": {},
     "output_type": "display_data"
    }
   ],
   "source": [
    "f2_time_right=simplify(substitute(f2_time,Dict([T=>Δt])))\n",
    "f2_time_left=simplify(substitute(f2_time,Dict([T=>(-Δt)])))"
   ]
  },
  {
   "cell_type": "code",
   "execution_count": 88,
   "metadata": {},
   "outputs": [
    {
     "data": {
      "text/latex": [
       "$$ \\begin{equation}\n",
       " - \\frac{1}{2} C^u_{2}ˏ_1 {\\Delta}t \\mu_{m 1} + \\frac{1}{2} C^u_{2}ˏ_1 {\\Delta}t \\mu_{m - 1} + \\frac{5}{6} C^u_{1}ˏ_3 {\\Delta}t {\\Delta}x \\rho_{m 0} + \\frac{1}{12} C^u_{1}ˏ_3 {\\Delta}t {\\Delta}x \\rho_{m 1} + \\frac{1}{12} C^u_{1}ˏ_3 {\\Delta}t {\\Delta}x \\rho_{m - 1} - \\frac{1}{2} C^u_{3}ˏ_1 {\\Delta}t {\\Delta}x \\mu_{m 0} - \\frac{1}{4} C^u_{3}ˏ_1 {\\Delta}t {\\Delta}x \\mu_{m 1} - \\frac{1}{4} C^u_{3}ˏ_1 {\\Delta}t {\\Delta}x \\mu_{m - 1} - \\frac{1}{24} {\\Delta}t^{3} C^u_{2}ˏ_3 \\mu_{m 1} + \\frac{1}{24} {\\Delta}t^{3} C^u_{2}ˏ_3 \\mu_{m - 1} + \\frac{1}{12} {\\Delta}x^{2} C^u_{2}ˏ_3 {\\Delta}t \\rho_{m 1} - \\frac{1}{12} {\\Delta}x^{2} C^u_{2}ˏ_3 {\\Delta}t \\rho_{m - 1} - \\frac{1}{8} {\\Delta}x^{2} C^u_{4}ˏ_1 {\\Delta}t \\mu_{m 1} + \\frac{1}{8} {\\Delta}x^{2} C^u_{4}ˏ_1 {\\Delta}t \\mu_{m - 1} + \\frac{5}{72} {\\Delta}t^{3} C^u_{1}ˏ_5 {\\Delta}x \\rho_{m 0} + \\frac{1}{144} {\\Delta}t^{3} C^u_{1}ˏ_5 {\\Delta}x \\rho_{m 1} + \\frac{1}{144} {\\Delta}t^{3} C^u_{1}ˏ_5 {\\Delta}x \\rho_{m - 1} - \\frac{1}{24} {\\Delta}t^{3} C^u_{3}ˏ_3 {\\Delta}x \\mu_{m 0} - \\frac{1}{48} {\\Delta}t^{3} C^u_{3}ˏ_3 {\\Delta}x \\mu_{m 1} - \\frac{1}{48} {\\Delta}t^{3} C^u_{3}ˏ_3 {\\Delta}x \\mu_{m - 1} + \\frac{1}{20} {\\Delta}x^{3} C^u_{3}ˏ_3 {\\Delta}t \\rho_{m 0} + \\frac{1}{60} {\\Delta}x^{3} C^u_{3}ˏ_3 {\\Delta}t \\rho_{m 1} + \\frac{1}{60} {\\Delta}x^{3} C^u_{3}ˏ_3 {\\Delta}t \\rho_{m - 1} - \\frac{1}{36} {\\Delta}x^{3} C^u_{5}ˏ_1 {\\Delta}t \\mu_{m 0} - \\frac{1}{36} {\\Delta}x^{3} C^u_{5}ˏ_1 {\\Delta}t \\mu_{m 1} - \\frac{1}{36} {\\Delta}x^{3} C^u_{5}ˏ_1 {\\Delta}t \\mu_{m - 1} - \\frac{1}{720} {\\Delta}t^{5} C^u_{2}ˏ_5 \\mu_{m 1} + \\frac{1}{720} {\\Delta}t^{5} C^u_{2}ˏ_5 \\mu_{m - 1} + \\frac{1}{144} {\\Delta}x^{2} {\\Delta}t^{3} C^u_{2}ˏ_5 \\rho_{m 1} - \\frac{1}{144} {\\Delta}x^{2} {\\Delta}t^{3} C^u_{2}ˏ_5 \\rho_{m - 1} - \\frac{1}{96} {\\Delta}x^{2} {\\Delta}t^{3} C^u_{4}ˏ_3 \\mu_{m 1} + \\frac{1}{96} {\\Delta}x^{2} {\\Delta}t^{3} C^u_{4}ˏ_3 \\mu_{m - 1} + \\frac{1}{180} {\\Delta}x^{4} C^u_{4}ˏ_3 {\\Delta}t \\rho_{m 1} - \\frac{1}{180} {\\Delta}x^{4} C^u_{4}ˏ_3 {\\Delta}t \\rho_{m - 1} - \\frac{1}{720} {\\Delta}t^{5} C^u_{3}ˏ_5 {\\Delta}x \\mu_{m 0} - \\frac{1}{1440} {\\Delta}t^{5} C^u_{3}ˏ_5 {\\Delta}x \\mu_{m 1} - \\frac{1}{1440} {\\Delta}t^{5} C^u_{3}ˏ_5 {\\Delta}x \\mu_{m - 1} + \\frac{1}{240} {\\Delta}x^{3} {\\Delta}t^{3} C^u_{3}ˏ_5 \\rho_{m 0} + \\frac{1}{720} {\\Delta}x^{3} {\\Delta}t^{3} C^u_{3}ˏ_5 \\rho_{m 1} + \\frac{1}{720} {\\Delta}x^{3} {\\Delta}t^{3} C^u_{3}ˏ_5 \\rho_{m - 1} - \\frac{1}{432} {\\Delta}x^{3} {\\Delta}t^{3} C^u_{5}ˏ_3 \\mu_{m 0} - \\frac{1}{432} {\\Delta}x^{3} {\\Delta}t^{3} C^u_{5}ˏ_3 \\mu_{m 1} - \\frac{1}{432} {\\Delta}x^{3} {\\Delta}t^{3} C^u_{5}ˏ_3 \\mu_{m - 1} + \\frac{13}{10080} {\\Delta}x^{5} C^u_{5}ˏ_3 {\\Delta}t \\rho_{m 0} + \\frac{1}{1344} {\\Delta}x^{5} C^u_{5}ˏ_3 {\\Delta}t \\rho_{m 1} + \\frac{1}{1344} {\\Delta}x^{5} C^u_{5}ˏ_3 {\\Delta}t \\rho_{m - 1} - \\frac{1}{2880} {\\Delta}x^{2} {\\Delta}t^{5} C^u_{4}ˏ_5 \\mu_{m 1} + \\frac{1}{2880} {\\Delta}x^{2} {\\Delta}t^{5} C^u_{4}ˏ_5 \\mu_{m - 1} + \\frac{1}{2160} {\\Delta}x^{4} {\\Delta}t^{3} C^u_{4}ˏ_5 \\rho_{m 1} - \\frac{1}{2160} {\\Delta}x^{4} {\\Delta}t^{3} C^u_{4}ˏ_5 \\rho_{m - 1} - \\frac{1}{12960} {\\Delta}x^{3} {\\Delta}t^{5} C^u_{5}ˏ_5 \\mu_{m 0} - \\frac{1}{12960} {\\Delta}x^{3} {\\Delta}t^{5} C^u_{5}ˏ_5 \\mu_{m 1} - \\frac{1}{12960} {\\Delta}x^{3} {\\Delta}t^{5} C^u_{5}ˏ_5 \\mu_{m - 1} + \\frac{13}{120960} {\\Delta}x^{5} {\\Delta}t^{3} C^u_{5}ˏ_5 \\rho_{m 0} + \\frac{1}{16128} {\\Delta}x^{5} {\\Delta}t^{3} C^u_{5}ˏ_5 \\rho_{m 1} + \\frac{1}{16128} {\\Delta}x^{5} {\\Delta}t^{3} C^u_{5}ˏ_5 \\rho_{m - 1}\n",
       "\\end{equation}\n",
       " $$"
      ],
      "text/plain": [
       "-(1//2)*Cᵘ[2, 1]*Δt*μₘ₁ + (1//2)*Cᵘ[2, 1]*Δt*μₘ₋₁ + (5//6)*Cᵘ[1, 3]*Δt*Δx*ρₘ₀ + (1//12)*Cᵘ[1, 3]*Δt*Δx*ρₘ₁ + (1//12)*Cᵘ[1, 3]*Δt*Δx*ρₘ₋₁ - (1//2)*Cᵘ[3, 1]*Δt*Δx*μₘ₀ - (1//4)*Cᵘ[3, 1]*Δt*Δx*μₘ₁ - (1//4)*Cᵘ[3, 1]*Δt*Δx*μₘ₋₁ - (1//24)*Cᵘ[2, 3]*(Δt^3)*μₘ₁ + (1//24)*Cᵘ[2, 3]*(Δt^3)*μₘ₋₁ + (1//12)*Cᵘ[2, 3]*Δt*(Δx^2)*ρₘ₁ - (1//12)*Cᵘ[2, 3]*Δt*(Δx^2)*ρₘ₋₁ - (1//8)*Cᵘ[4, 1]*Δt*(Δx^2)*μₘ₁ + (1//8)*Cᵘ[4, 1]*Δt*(Δx^2)*μₘ₋₁ + (5//72)*Cᵘ[1, 5]*(Δt^3)*Δx*ρₘ₀ + (1//144)*Cᵘ[1, 5]*(Δt^3)*Δx*ρₘ₁ + (1//144)*Cᵘ[1, 5]*(Δt^3)*Δx*ρₘ₋₁ - (1//24)*Cᵘ[3, 3]*(Δt^3)*Δx*μₘ₀ - (1//48)*Cᵘ[3, 3]*(Δt^3)*Δx*μₘ₁ - (1//48)*Cᵘ[3, 3]*(Δt^3)*Δx*μₘ₋₁ + (1//20)*Cᵘ[3, 3]*Δt*(Δx^3)*ρₘ₀ + (1//60)*Cᵘ[3, 3]*Δt*(Δx^3)*ρₘ₁ + (1//60)*Cᵘ[3, 3]*Δt*(Δx^3)*ρₘ₋₁ - (1//36)*Cᵘ[5, 1]*Δt*(Δx^3)*μₘ₀ - (1//36)*Cᵘ[5, 1]*Δt*(Δx^3)*μₘ₁ - (1//36)*Cᵘ[5, 1]*Δt*(Δx^3)*μₘ₋₁ - (1//720)*Cᵘ[2, 5]*(Δt^5)*μₘ₁ + (1//720)*Cᵘ[2, 5]*(Δt^5)*μₘ₋₁ + (1//144)*Cᵘ[2, 5]*(Δt^3)*(Δx^2)*ρₘ₁ - (1//144)*Cᵘ[2, 5]*(Δt^3)*(Δx^2)*ρₘ₋₁ - (1//96)*Cᵘ[4, 3]*(Δt^3)*(Δx^2)*μₘ₁ + (1//96)*Cᵘ[4, 3]*(Δt^3)*(Δx^2)*μₘ₋₁ + (1//180)*Cᵘ[4, 3]*Δt*(Δx^4)*ρₘ₁ - (1//180)*Cᵘ[4, 3]*Δt*(Δx^4)*ρₘ₋₁ - (1//720)*Cᵘ[3, 5]*(Δt^5)*Δx*μₘ₀ - (1//1440)*Cᵘ[3, 5]*(Δt^5)*Δx*μₘ₁ - (1//1440)*Cᵘ[3, 5]*(Δt^5)*Δx*μₘ₋₁ + (1//240)*Cᵘ[3, 5]*(Δt^3)*(Δx^3)*ρₘ₀ + (1//720)*Cᵘ[3, 5]*(Δt^3)*(Δx^3)*ρₘ₁ + (1//720)*Cᵘ[3, 5]*(Δt^3)*(Δx^3)*ρₘ₋₁ - (1//432)*Cᵘ[5, 3]*(Δt^3)*(Δx^3)*μₘ₀ - (1//432)*Cᵘ[5, 3]*(Δt^3)*(Δx^3)*μₘ₁ - (1//432)*Cᵘ[5, 3]*(Δt^3)*(Δx^3)*μₘ₋₁ + (13//10080)*Cᵘ[5, 3]*Δt*(Δx^5)*ρₘ₀ + (1//1344)*Cᵘ[5, 3]*Δt*(Δx^5)*ρₘ₁ + (1//1344)*Cᵘ[5, 3]*Δt*(Δx^5)*ρₘ₋₁ - (1//2880)*Cᵘ[4, 5]*(Δt^5)*(Δx^2)*μₘ₁ + (1//2880)*Cᵘ[4, 5]*(Δt^5)*(Δx^2)*μₘ₋₁ + (1//2160)*Cᵘ[4, 5]*(Δt^3)*(Δx^4)*ρₘ₁ - (1//2160)*Cᵘ[4, 5]*(Δt^3)*(Δx^4)*ρₘ₋₁ - (1//12960)*Cᵘ[5, 5]*(Δt^5)*(Δx^3)*μₘ₀ - (1//12960)*Cᵘ[5, 5]*(Δt^5)*(Δx^3)*μₘ₁ - (1//12960)*Cᵘ[5, 5]*(Δt^5)*(Δx^3)*μₘ₋₁ + (13//120960)*Cᵘ[5, 5]*(Δt^3)*(Δx^5)*ρₘ₀ + (1//16128)*Cᵘ[5, 5]*(Δt^3)*(Δx^5)*ρₘ₁ + (1//16128)*Cᵘ[5, 5]*(Δt^3)*(Δx^5)*ρₘ₋₁"
      ]
     },
     "metadata": {},
     "output_type": "display_data"
    }
   ],
   "source": [
    "ψ_deriv_right=-1//Δt\n",
    "ψ_deriv_left = 1//Δt\n",
    "desired_value_in_time=-(ψ_deriv_right*f2_time_right-ψ_deriv_left*f2_time_left)\n",
    "desired_value_in_time=simplify(desired_value_in_time;expand=true)\n",
    "#desired_value_in_time=ignoreHigherOrderTerms(desired_value_in_time,Δx,2)\n",
    "#desired_value_in_time=ignoreHigherOrderTerms(desired_value_in_time,Δt,2)"
   ]
  },
  {
   "cell_type": "markdown",
   "metadata": {},
   "source": [
    "\\begin{equation}\n",
    " \\sum_{m,n} A_{mn} u_{mn}\n",
    " \\end{equation}"
   ]
  },
  {
   "cell_type": "code",
   "execution_count": 89,
   "metadata": {},
   "outputs": [
    {
     "data": {
      "text/latex": [
       "$$ \\begin{equation}\n",
       "\\frac{1}{2} {\\Delta}t^{2} A_{m n 1}ˏ_1 {\\Delta}x + \\frac{1}{2} {\\Delta}t^{2} A_{m n 1}ˏ_{- 1} {\\Delta}x - \\frac{1}{2} {\\Delta}t^{2} A_{m n - 1}ˏ_1 {\\Delta}x - \\frac{1}{2} {\\Delta}t^{2} A_{m n - 1}ˏ_{- 1} {\\Delta}x + \\frac{1}{24} {\\Delta}t^{3} \\mu_{m 1} - \\frac{1}{24} {\\Delta}t^{3} \\mu_{m - 1} - \\frac{1}{12} {\\Delta}x^{2} {\\Delta}t \\rho_{m 1} + \\frac{1}{12} {\\Delta}x^{2} {\\Delta}t \\rho_{m - 1}\n",
       "\\end{equation}\n",
       " $$"
      ],
      "text/plain": [
       "(1//2)*Aₘₙ₁ˏ₁*(Δt^2)*Δx + (1//2)*Aₘₙ₁ˏ₋₁*(Δt^2)*Δx - (1//2)*Aₘₙ₋₁ˏ₁*(Δt^2)*Δx - (1//2)*Aₘₙ₋₁ˏ₋₁*(Δt^2)*Δx + (1//24)*(Δt^3)*μₘ₁ - (1//24)*(Δt^3)*μₘ₋₁ - (1//12)*Δt*(Δx^2)*ρₘ₁ + (1//12)*Δt*(Δx^2)*ρₘ₋₁"
      ]
     },
     "metadata": {},
     "output_type": "display_data"
    }
   ],
   "source": [
    "innerProduct=0\n",
    "for i¹ in 1:L₁ₗ+L₁ᵣ+1\n",
    "    dx¹=Δx*(i¹-L₁ₗ-1)\n",
    "    for iᵗ in 1:Lₜₗ+Lₜᵣ+1\n",
    "        dt = Δt*(iᵗ-Lₜₗ-1)\n",
    "        innerProduct+=Aₘₙ[i¹,iᵗ]*u(dx¹,dt)\n",
    "    end\n",
    "end\n",
    "difference_between_matrix_strongform=simplify(innerProduct-desired_value_in_time;expand=true)\n",
    "Symbolics.coeff(difference_between_matrix_strongform,Cᵘ[2,3])"
   ]
  },
  {
   "cell_type": "markdown",
   "metadata": {},
   "source": []
  },
  {
   "cell_type": "code",
   "execution_count": 90,
   "metadata": {},
   "outputs": [],
   "source": [
    "hierarchical_equations=[]\n",
    "for i¹ in 1:L₁ₗ+L₁ᵣ+1   \n",
    "    for iᵗ in 1:Lₜₗ+Lₜᵣ+1  \n",
    "        push!(hierarchical_equations,Symbolics.coeff(difference_between_matrix_strongform,Cᵘ[i¹,iᵗ])~0)\n",
    "    end\n",
    "end"
   ]
  },
  {
   "cell_type": "code",
   "execution_count": 91,
   "metadata": {},
   "outputs": [
    {
     "data": {
      "text/latex": [
       "$$ \\begin{equation}\n",
       "A_{m n 0}ˏ_0 + A_{m n 0}ˏ_1 + A_{m n 0}ˏ_{- 1} + A_{m n 1}ˏ_0 + A_{m n 1}ˏ_1 + A_{m n 1}ˏ_{- 1} + A_{m n - 1}ˏ_0 + A_{m n - 1}ˏ_1 + A_{m n - 1}ˏ_{- 1} = 0\n",
       "\\end{equation}\n",
       " $$"
      ],
      "text/plain": [
       "Aₘₙ₀ˏ₀ + Aₘₙ₀ˏ₁ + Aₘₙ₀ˏ₋₁ + Aₘₙ₁ˏ₀ + Aₘₙ₁ˏ₁ + Aₘₙ₁ˏ₋₁ + Aₘₙ₋₁ˏ₀ + Aₘₙ₋₁ˏ₁ + Aₘₙ₋₁ˏ₋₁ ~ 0"
      ]
     },
     "metadata": {},
     "output_type": "display_data"
    },
    {
     "data": {
      "text/latex": [
       "$$ \\begin{equation}\n",
       "\\left( A_{m n 0}ˏ_1 + A_{m n 1}ˏ_1 + A_{m n - 1}ˏ_1 \\right) {\\Delta}t - A_{m n 0}ˏ_{- 1} {\\Delta}t - A_{m n 1}ˏ_{- 1} {\\Delta}t - A_{m n - 1}ˏ_{- 1} {\\Delta}t = 0\n",
       "\\end{equation}\n",
       " $$"
      ],
      "text/plain": [
       "(Aₘₙ₀ˏ₁ + Aₘₙ₁ˏ₁ + Aₘₙ₋₁ˏ₁)*Δt - Aₘₙ₀ˏ₋₁*Δt - Aₘₙ₁ˏ₋₁*Δt - Aₘₙ₋₁ˏ₋₁*Δt ~ 0"
      ]
     },
     "metadata": {},
     "output_type": "display_data"
    },
    {
     "data": {
      "text/latex": [
       "$$ \\begin{equation}\n",
       "\\frac{1}{2} {\\Delta}t^{2} A_{m n 0}ˏ_1 + \\frac{1}{2} {\\Delta}t^{2} A_{m n 0}ˏ_{- 1} + \\frac{1}{2} {\\Delta}t^{2} A_{m n 1}ˏ_1 + \\frac{1}{2} {\\Delta}t^{2} A_{m n 1}ˏ_{- 1} + \\frac{1}{2} {\\Delta}t^{2} A_{m n - 1}ˏ_1 + \\frac{1}{2} {\\Delta}t^{2} A_{m n - 1}ˏ_{- 1} - \\frac{5}{6} {\\Delta}t {\\Delta}x \\rho_{m 0} - \\frac{1}{12} {\\Delta}t {\\Delta}x \\left( \\rho_{m 1} + \\rho_{m - 1} \\right) = 0\n",
       "\\end{equation}\n",
       " $$"
      ],
      "text/plain": [
       "(1//2)*Aₘₙ₀ˏ₁*(Δt^2) + (1//2)*Aₘₙ₀ˏ₋₁*(Δt^2) + (1//2)*Aₘₙ₁ˏ₁*(Δt^2) + (1//2)*Aₘₙ₁ˏ₋₁*(Δt^2) + (1//2)*Aₘₙ₋₁ˏ₁*(Δt^2) + (1//2)*Aₘₙ₋₁ˏ₋₁*(Δt^2) - (5//6)*Δt*Δx*ρₘ₀ - (1//12)*Δt*Δx*(ρₘ₁ + ρₘ₋₁) ~ 0"
      ]
     },
     "metadata": {},
     "output_type": "display_data"
    },
    {
     "data": {
      "text/latex": [
       "$$ \\begin{equation}\n",
       "\\left( A_{m n 1}ˏ_0 + A_{m n 1}ˏ_1 + A_{m n 1}ˏ_{- 1} \\right) {\\Delta}x - A_{m n - 1}ˏ_0 {\\Delta}x - A_{m n - 1}ˏ_1 {\\Delta}x - A_{m n - 1}ˏ_{- 1} {\\Delta}x + \\frac{1}{2} {\\Delta}t \\mu_{m 1} - \\frac{1}{2} {\\Delta}t \\mu_{m - 1} = 0\n",
       "\\end{equation}\n",
       " $$"
      ],
      "text/plain": [
       "(Aₘₙ₁ˏ₀ + Aₘₙ₁ˏ₁ + Aₘₙ₁ˏ₋₁)*Δx - Aₘₙ₋₁ˏ₀*Δx - Aₘₙ₋₁ˏ₁*Δx - Aₘₙ₋₁ˏ₋₁*Δx + (1//2)*Δt*μₘ₁ - (1//2)*Δt*μₘ₋₁ ~ 0"
      ]
     },
     "metadata": {},
     "output_type": "display_data"
    },
    {
     "data": {
      "text/latex": [
       "$$ \\begin{equation}\n",
       "\\left( A_{m n 1}ˏ_1 + A_{m n - 1}ˏ_{- 1} \\right) {\\Delta}t {\\Delta}x - A_{m n 1}ˏ_{- 1} {\\Delta}t {\\Delta}x - A_{m n - 1}ˏ_1 {\\Delta}t {\\Delta}x = 0\n",
       "\\end{equation}\n",
       " $$"
      ],
      "text/plain": [
       "(Aₘₙ₁ˏ₁ + Aₘₙ₋₁ˏ₋₁)*Δt*Δx - Aₘₙ₁ˏ₋₁*Δt*Δx - Aₘₙ₋₁ˏ₁*Δt*Δx ~ 0"
      ]
     },
     "metadata": {},
     "output_type": "display_data"
    },
    {
     "data": {
      "text/latex": [
       "$$ \\begin{equation}\n",
       "\\frac{1}{2} {\\Delta}t^{2} A_{m n 1}ˏ_1 {\\Delta}x + \\frac{1}{2} {\\Delta}t^{2} A_{m n 1}ˏ_{- 1} {\\Delta}x - \\frac{1}{2} {\\Delta}t^{2} A_{m n - 1}ˏ_1 {\\Delta}x - \\frac{1}{2} {\\Delta}t^{2} A_{m n - 1}ˏ_{- 1} {\\Delta}x + \\frac{1}{24} {\\Delta}t^{3} \\mu_{m 1} - \\frac{1}{24} {\\Delta}t^{3} \\mu_{m - 1} - \\frac{1}{12} {\\Delta}x^{2} {\\Delta}t \\rho_{m 1} + \\frac{1}{12} {\\Delta}x^{2} {\\Delta}t \\rho_{m - 1} = 0\n",
       "\\end{equation}\n",
       " $$"
      ],
      "text/plain": [
       "(1//2)*Aₘₙ₁ˏ₁*(Δt^2)*Δx + (1//2)*Aₘₙ₁ˏ₋₁*(Δt^2)*Δx - (1//2)*Aₘₙ₋₁ˏ₁*(Δt^2)*Δx - (1//2)*Aₘₙ₋₁ˏ₋₁*(Δt^2)*Δx + (1//24)*(Δt^3)*μₘ₁ - (1//24)*(Δt^3)*μₘ₋₁ - (1//12)*Δt*(Δx^2)*ρₘ₁ + (1//12)*Δt*(Δx^2)*ρₘ₋₁ ~ 0"
      ]
     },
     "metadata": {},
     "output_type": "display_data"
    },
    {
     "data": {
      "text/latex": [
       "$$ \\begin{equation}\n",
       "\\frac{1}{2} {\\Delta}x^{2} A_{m n 1}ˏ_0 + \\frac{1}{2} {\\Delta}x^{2} A_{m n 1}ˏ_1 + \\frac{1}{2} {\\Delta}x^{2} A_{m n 1}ˏ_{- 1} + \\frac{1}{2} {\\Delta}x^{2} A_{m n - 1}ˏ_0 + \\frac{1}{2} {\\Delta}x^{2} A_{m n - 1}ˏ_1 + \\frac{1}{2} {\\Delta}x^{2} A_{m n - 1}ˏ_{- 1} + \\frac{1}{2} {\\Delta}t {\\Delta}x \\mu_{m 0} + \\frac{1}{4} {\\Delta}t {\\Delta}x \\left( \\mu_{m 1} + \\mu_{m - 1} \\right) = 0\n",
       "\\end{equation}\n",
       " $$"
      ],
      "text/plain": [
       "(1//2)*Aₘₙ₁ˏ₀*(Δx^2) + (1//2)*Aₘₙ₁ˏ₁*(Δx^2) + (1//2)*Aₘₙ₁ˏ₋₁*(Δx^2) + (1//2)*Aₘₙ₋₁ˏ₀*(Δx^2) + (1//2)*Aₘₙ₋₁ˏ₁*(Δx^2) + (1//2)*Aₘₙ₋₁ˏ₋₁*(Δx^2) + (1//2)*Δt*Δx*μₘ₀ + (1//4)*Δt*Δx*(μₘ₁ + μₘ₋₁) ~ 0"
      ]
     },
     "metadata": {},
     "output_type": "display_data"
    },
    {
     "data": {
      "text/latex": [
       "$$ \\begin{equation}\n",
       "\\frac{1}{2} {\\Delta}x^{2} A_{m n 1}ˏ_1 {\\Delta}t - \\frac{1}{2} {\\Delta}x^{2} A_{m n 1}ˏ_{- 1} {\\Delta}t + \\frac{1}{2} {\\Delta}x^{2} A_{m n - 1}ˏ_1 {\\Delta}t - \\frac{1}{2} {\\Delta}x^{2} A_{m n - 1}ˏ_{- 1} {\\Delta}t = 0\n",
       "\\end{equation}\n",
       " $$"
      ],
      "text/plain": [
       "(1//2)*Aₘₙ₁ˏ₁*Δt*(Δx^2) - (1//2)*Aₘₙ₁ˏ₋₁*Δt*(Δx^2) + (1//2)*Aₘₙ₋₁ˏ₁*Δt*(Δx^2) - (1//2)*Aₘₙ₋₁ˏ₋₁*Δt*(Δx^2) ~ 0"
      ]
     },
     "metadata": {},
     "output_type": "display_data"
    },
    {
     "data": {
      "text/latex": [
       "$$ \\begin{equation}\n",
       "\\frac{1}{4} {\\Delta}x^{2} {\\Delta}t^{2} A_{m n 1}ˏ_1 + \\frac{1}{4} {\\Delta}x^{2} {\\Delta}t^{2} A_{m n 1}ˏ_{- 1} + \\frac{1}{4} {\\Delta}x^{2} {\\Delta}t^{2} A_{m n - 1}ˏ_1 + \\frac{1}{4} {\\Delta}x^{2} {\\Delta}t^{2} A_{m n - 1}ˏ_{- 1} + \\frac{1}{24} {\\Delta}t^{3} {\\Delta}x \\mu_{m 0} + \\frac{1}{48} {\\Delta}t^{3} {\\Delta}x \\left( \\mu_{m 1} + \\mu_{m - 1} \\right) - \\frac{1}{20} {\\Delta}x^{3} {\\Delta}t \\rho_{m 0} - \\frac{1}{60} {\\Delta}x^{3} {\\Delta}t \\left( \\rho_{m 1} + \\rho_{m - 1} \\right) = 0\n",
       "\\end{equation}\n",
       " $$"
      ],
      "text/plain": [
       "(1//4)*Aₘₙ₁ˏ₁*(Δt^2)*(Δx^2) + (1//4)*Aₘₙ₁ˏ₋₁*(Δt^2)*(Δx^2) + (1//4)*Aₘₙ₋₁ˏ₁*(Δt^2)*(Δx^2) + (1//4)*Aₘₙ₋₁ˏ₋₁*(Δt^2)*(Δx^2) + (1//24)*(Δt^3)*Δx*μₘ₀ + (1//48)*(Δt^3)*Δx*(μₘ₁ + μₘ₋₁) - (1//20)*Δt*(Δx^3)*ρₘ₀ - (1//60)*Δt*(Δx^3)*(ρₘ₁ + ρₘ₋₁) ~ 0"
      ]
     },
     "metadata": {},
     "output_type": "display_data"
    }
   ],
   "source": [
    "\n",
    "for i¹ in 1:L₁ₗ+L₁ᵣ+1\n",
    "    for iᵗ in 1:Lₜₗ+Lₜᵣ+1\n",
    "        display(simplify(hierarchical_equations[(i¹-1)*(Lₜₗ+Lₜᵣ+1)+iᵗ]))\n",
    "    end\n",
    "end"
   ]
  },
  {
   "cell_type": "code",
   "execution_count": 92,
   "metadata": {},
   "outputs": [
    {
     "data": {
      "text/latex": [
       "$$ \\begin{equation}\n",
       "\\frac{ - \\frac{1}{24} {\\Delta}t^{2} \\mu_{m 0} - \\frac{1}{24} {\\Delta}t^{2} \\mu_{m - 1} + \\frac{1}{20} {\\Delta}x^{2} \\rho_{m 0} - \\frac{1}{40} {\\Delta}x^{2} \\rho_{m 1} + \\frac{7}{120} {\\Delta}x^{2} \\rho_{m - 1}}{{\\Delta}t {\\Delta}x}\n",
       "\\end{equation}\n",
       " $$"
      ],
      "text/plain": [
       "(-(1//24)*(Δt^2)*μₘ₀ - (1//24)*(Δt^2)*μₘ₋₁ + (1//20)*(Δx^2)*ρₘ₀ - (1//40)*(Δx^2)*ρₘ₁ + (7//120)*(Δx^2)*ρₘ₋₁) / (Δt*Δx)"
      ]
     },
     "metadata": {},
     "output_type": "display_data"
    },
    {
     "data": {
      "text/plain": [
       "0"
      ]
     },
     "metadata": {},
     "output_type": "display_data"
    },
    {
     "data": {
      "text/plain": [
       "0"
      ]
     },
     "metadata": {},
     "output_type": "display_data"
    },
    {
     "data": {
      "text/latex": [
       "$$ \\begin{equation}\n",
       "\\frac{ - \\frac{1}{12} {\\Delta}t^{2} \\mu_{m 0} - \\frac{1}{24} {\\Delta}t^{2} \\mu_{m 1} - \\frac{1}{24} {\\Delta}t^{2} \\mu_{m - 1} - \\frac{11}{15} {\\Delta}x^{2} \\rho_{m 0} - \\frac{1}{20} {\\Delta}x^{2} \\rho_{m 1} - \\frac{1}{20} {\\Delta}x^{2} \\rho_{m - 1}}{ - {\\Delta}t {\\Delta}x}\n",
       "\\end{equation}\n",
       " $$"
      ],
      "text/plain": [
       "(-(1//12)*(Δt^2)*μₘ₀ - (1//24)*(Δt^2)*μₘ₁ - (1//24)*(Δt^2)*μₘ₋₁ - (11//15)*(Δx^2)*ρₘ₀ - (1//20)*(Δx^2)*ρₘ₁ - (1//20)*(Δx^2)*ρₘ₋₁) / (-Δt*Δx)"
      ]
     },
     "metadata": {},
     "output_type": "display_data"
    },
    {
     "data": {
      "text/latex": [
       "$$ \\begin{equation}\n",
       "\\frac{ - \\frac{5}{6} {\\Delta}t^{2} \\mu_{m 0} - \\frac{5}{12} {\\Delta}t^{2} \\mu_{m 1} - \\frac{5}{12} {\\Delta}t^{2} \\mu_{m - 1} + \\frac{22}{15} {\\Delta}x^{2} \\rho_{m 0} + \\frac{1}{10} {\\Delta}x^{2} \\rho_{m 1} + \\frac{1}{10} {\\Delta}x^{2} \\rho_{m - 1}}{ - {\\Delta}t {\\Delta}x}\n",
       "\\end{equation}\n",
       " $$"
      ],
      "text/plain": [
       "(-(5//6)*(Δt^2)*μₘ₀ - (5//12)*(Δt^2)*μₘ₁ - (5//12)*(Δt^2)*μₘ₋₁ + (22//15)*(Δx^2)*ρₘ₀ + (1//10)*(Δx^2)*ρₘ₁ + (1//10)*(Δx^2)*ρₘ₋₁) / (-Δt*Δx)"
      ]
     },
     "metadata": {},
     "output_type": "display_data"
    },
    {
     "data": {
      "text/latex": [
       "$$ \\begin{equation}\n",
       "\\frac{ - \\frac{1}{12} {\\Delta}t^{2} \\mu_{m 0} - \\frac{1}{24} {\\Delta}t^{2} \\mu_{m 1} - \\frac{1}{24} {\\Delta}t^{2} \\mu_{m - 1} - \\frac{11}{15} {\\Delta}x^{2} \\rho_{m 0} - \\frac{1}{20} {\\Delta}x^{2} \\rho_{m 1} - \\frac{1}{20} {\\Delta}x^{2} \\rho_{m - 1}}{ - {\\Delta}t {\\Delta}x}\n",
       "\\end{equation}\n",
       " $$"
      ],
      "text/plain": [
       "(-(1//12)*(Δt^2)*μₘ₀ - (1//24)*(Δt^2)*μₘ₁ - (1//24)*(Δt^2)*μₘ₋₁ - (11//15)*(Δx^2)*ρₘ₀ - (1//20)*(Δx^2)*ρₘ₁ - (1//20)*(Δx^2)*ρₘ₋₁) / (-Δt*Δx)"
      ]
     },
     "metadata": {},
     "output_type": "display_data"
    },
    {
     "data": {
      "text/plain": [
       "0"
      ]
     },
     "metadata": {},
     "output_type": "display_data"
    },
    {
     "data": {
      "text/latex": [
       "$$ \\begin{equation}\n",
       "\\frac{\\frac{5}{12} {\\Delta}t^{2} \\mu_{m 0} + \\frac{5}{12} {\\Delta}t^{2} \\mu_{m 1} + \\frac{1}{10} {\\Delta}x^{2} \\rho_{m 0} + \\frac{7}{60} {\\Delta}x^{2} \\rho_{m 1} - \\frac{1}{20} {\\Delta}x^{2} \\rho_{m - 1}}{ - {\\Delta}t {\\Delta}x}\n",
       "\\end{equation}\n",
       " $$"
      ],
      "text/plain": [
       "((5//12)*(Δt^2)*μₘ₀ + (5//12)*(Δt^2)*μₘ₁ + (1//10)*(Δx^2)*ρₘ₀ + (7//60)*(Δx^2)*ρₘ₁ - (1//20)*(Δx^2)*ρₘ₋₁) / (-Δt*Δx)"
      ]
     },
     "metadata": {},
     "output_type": "display_data"
    },
    {
     "data": {
      "text/latex": [
       "$$ \\begin{equation}\n",
       "\\frac{\\frac{1}{24} {\\Delta}t^{2} \\mu_{m 0} + \\frac{1}{24} {\\Delta}t^{2} \\mu_{m 1} - \\frac{1}{20} {\\Delta}x^{2} \\rho_{m 0} - \\frac{7}{120} {\\Delta}x^{2} \\rho_{m 1} + \\frac{1}{40} {\\Delta}x^{2} \\rho_{m - 1}}{ - {\\Delta}t {\\Delta}x}\n",
       "\\end{equation}\n",
       " $$"
      ],
      "text/plain": [
       "((1//24)*(Δt^2)*μₘ₀ + (1//24)*(Δt^2)*μₘ₁ - (1//20)*(Δx^2)*ρₘ₀ - (7//120)*(Δx^2)*ρₘ₁ + (1//40)*(Δx^2)*ρₘ₋₁) / (-Δt*Δx)"
      ]
     },
     "metadata": {},
     "output_type": "display_data"
    }
   ],
   "source": [
    "\n",
    "newA=reshape(Symbolics.solve_for(hierarchical_equations,Aₘₙ),(L₁ₗ+L₁ᵣ+1,Lₜₗ+Lₜᵣ+1))\n",
    "for i¹ in 1:L₁ₗ+L₁ᵣ+1\n",
    "    for iᵗ in 1:Lₜₗ+Lₜᵣ+1\n",
    "        display(simplify(newA[i¹,iᵗ];expand=true))\n",
    "    end\n",
    "end"
   ]
  },
  {
   "cell_type": "markdown",
   "metadata": {},
   "source": [
    "Now I need to verify by evaluating the error"
   ]
  },
  {
   "cell_type": "code",
   "execution_count": 94,
   "metadata": {},
   "outputs": [
    {
     "data": {
      "text/latex": [
       "$$ \\begin{equation}\n",
       "\\frac{1}{20736} \\left( 864 {\\Delta}x^{2} C^u_{4}ˏ_1 {\\Delta}t \\mu_{m 1} - 864 {\\Delta}x^{2} C^u_{4}ˏ_1 {\\Delta}t \\mu_{m - 1} - 288 {\\Delta}x^{3} C^u_{5}ˏ_1 {\\Delta}t \\mu_{m 0} + 144 {\\Delta}x^{3} C^u_{5}ˏ_1 {\\Delta}t \\mu_{m 1} + 144 {\\Delta}x^{3} C^u_{5}ˏ_1 {\\Delta}t \\mu_{m - 1} - 43 {\\Delta}t^{5} C^u_{2}ˏ_5 \\mu_{m 1} + 43 {\\Delta}t^{5} C^u_{2}ˏ_5 \\mu_{m - 1} + 72 {\\Delta}x^{2} {\\Delta}t^{3} C^u_{4}ˏ_3 \\mu_{m 1} - 72 {\\Delta}x^{2} {\\Delta}t^{3} C^u_{4}ˏ_3 \\mu_{m - 1} + 172 {\\Delta}x^{4} C^u_{4}ˏ_3 {\\Delta}t \\rho_{m 1} - 172 {\\Delta}x^{4} C^u_{4}ˏ_3 {\\Delta}t \\rho_{m - 1} - 43 {\\Delta}t^{5} C^u_{3}ˏ_5 {\\Delta}x \\mu_{m 0} - 21 {\\Delta}t^{5} C^u_{3}ˏ_5 {\\Delta}x \\mu_{m 1} - 21 {\\Delta}t^{5} C^u_{3}ˏ_5 {\\Delta}x \\mu_{m - 1} - 24 {\\Delta}x^{3} {\\Delta}t^{3} C^u_{5}ˏ_3 \\mu_{m 0} + 12 {\\Delta}x^{3} {\\Delta}t^{3} C^u_{5}ˏ_3 \\mu_{m 1} + 12 {\\Delta}x^{3} {\\Delta}t^{3} C^u_{5}ˏ_3 \\mu_{m - 1} + 59 {\\Delta}x^{5} C^u_{5}ˏ_3 {\\Delta}t \\rho_{m 0} + 13 {\\Delta}x^{5} C^u_{5}ˏ_3 {\\Delta}t \\rho_{m 1} + 13 {\\Delta}x^{5} C^u_{5}ˏ_3 {\\Delta}t \\rho_{m - 1} - 4 {\\Delta}x^{2} {\\Delta}t^{5} C^u_{4}ˏ_5 \\mu_{m 1} + 4 {\\Delta}x^{2} {\\Delta}t^{5} C^u_{4}ˏ_5 \\mu_{m - 1} + 14 {\\Delta}x^{4} {\\Delta}t^{3} C^u_{4}ˏ_5 \\rho_{m 1} - 14 {\\Delta}x^{4} {\\Delta}t^{3} C^u_{4}ˏ_5 \\rho_{m - 1} - 4 {\\Delta}x^{3} {\\Delta}t^{5} C^u_{5}ˏ_5 \\mu_{m 0} - {\\Delta}x^{3} {\\Delta}t^{5} C^u_{5}ˏ_5 \\mu_{m 1} - {\\Delta}x^{3} {\\Delta}t^{5} C^u_{5}ˏ_5 \\mu_{m - 1} + 4 {\\Delta}x^{5} {\\Delta}t^{3} C^u_{5}ˏ_5 \\rho_{m 0} + {\\Delta}x^{5} {\\Delta}t^{3} C^u_{5}ˏ_5 \\rho_{m 1} + {\\Delta}x^{5} {\\Delta}t^{3} C^u_{5}ˏ_5 \\rho_{m - 1} \\right)\n",
       "\\end{equation}\n",
       " $$"
      ],
      "text/plain": [
       "(1//20736)*((864//1)*Cᵘ[4, 1]*Δt*(Δx^2)*μₘ₁ - (864//1)*Cᵘ[4, 1]*Δt*(Δx^2)*μₘ₋₁ - (288//1)*Cᵘ[5, 1]*Δt*(Δx^3)*μₘ₀ + (144//1)*Cᵘ[5, 1]*Δt*(Δx^3)*μₘ₁ + (144//1)*Cᵘ[5, 1]*Δt*(Δx^3)*μₘ₋₁ - (43//1)*Cᵘ[2, 5]*(Δt^5)*μₘ₁ + (43//1)*Cᵘ[2, 5]*(Δt^5)*μₘ₋₁ + (72//1)*Cᵘ[4, 3]*(Δt^3)*(Δx^2)*μₘ₁ - (72//1)*Cᵘ[4, 3]*(Δt^3)*(Δx^2)*μₘ₋₁ + (172//1)*Cᵘ[4, 3]*Δt*(Δx^4)*ρₘ₁ - (172//1)*Cᵘ[4, 3]*Δt*(Δx^4)*ρₘ₋₁ - (43//1)*Cᵘ[3, 5]*(Δt^5)*Δx*μₘ₀ - (21//1)*Cᵘ[3, 5]*(Δt^5)*Δx*μₘ₁ - (21//1)*Cᵘ[3, 5]*(Δt^5)*Δx*μₘ₋₁ - (24//1)*Cᵘ[5, 3]*(Δt^3)*(Δx^3)*μₘ₀ + (12//1)*Cᵘ[5, 3]*(Δt^3)*(Δx^3)*μₘ₁ + (12//1)*Cᵘ[5, 3]*(Δt^3)*(Δx^3)*μₘ₋₁ + (59//1)*Cᵘ[5, 3]*Δt*(Δx^5)*ρₘ₀ + (13//1)*Cᵘ[5, 3]*Δt*(Δx^5)*ρₘ₁ + (13//1)*Cᵘ[5, 3]*Δt*(Δx^5)*ρₘ₋₁ - (4//1)*Cᵘ[4, 5]*(Δt^5)*(Δx^2)*μₘ₁ + (4//1)*Cᵘ[4, 5]*(Δt^5)*(Δx^2)*μₘ₋₁ + (14//1)*Cᵘ[4, 5]*(Δt^3)*(Δx^4)*ρₘ₁ - (14//1)*Cᵘ[4, 5]*(Δt^3)*(Δx^4)*ρₘ₋₁ - (4//1)*Cᵘ[5, 5]*(Δt^5)*(Δx^3)*μₘ₀ - Cᵘ[5, 5]*(Δt^5)*(Δx^3)*μₘ₁ - Cᵘ[5, 5]*(Δt^5)*(Δx^3)*μₘ₋₁ + (4//1)*Cᵘ[5, 5]*(Δt^3)*(Δx^5)*ρₘ₀ + Cᵘ[5, 5]*(Δt^3)*(Δx^5)*ρₘ₁ + Cᵘ[5, 5]*(Δt^3)*(Δx^5)*ρₘ₋₁)"
      ]
     },
     "metadata": {},
     "output_type": "display_data"
    },
    {
     "data": {
      "text/latex": [
       "$$ \\begin{equation}\n",
       "\\frac{1}{24} {\\Delta}x^{2} C^u_{4}ˏ_1 {\\Delta}t \\mu_{m 1} - \\frac{1}{24} {\\Delta}x^{2} C^u_{4}ˏ_1 {\\Delta}t \\mu_{m - 1}\n",
       "\\end{equation}\n",
       " $$"
      ],
      "text/plain": [
       "(1//24)*Cᵘ[4, 1]*Δt*(Δx^2)*μₘ₁ - (1//24)*Cᵘ[4, 1]*Δt*(Δx^2)*μₘ₋₁"
      ]
     },
     "metadata": {},
     "output_type": "display_data"
    }
   ],
   "source": [
    "innerProduct=0\n",
    "for i¹ in 1:L₁ₗ+L₁ᵣ+1\n",
    "    dx¹=Δx*(i¹-L₁ₗ-1)\n",
    "    for iᵗ in 1:Lₜₗ+Lₜᵣ+1\n",
    "        dt = Δt*(iᵗ-Lₜₗ-1)\n",
    "        innerProduct+=newA[i¹,iᵗ]*u(dx¹,dt)\n",
    "    end\n",
    "end\n",
    "difference=simplify(innerProduct-desired_value_in_time,expand=true)\n",
    "display(difference)\n",
    "truncated_difference=ignoreHigherOrderTerms(difference,Δx,2)\n",
    "truncated_difference=ignoreHigherOrderTerms(truncated_difference,Δt,2)\n",
    "display(truncated_difference)"
   ]
  },
  {
   "cell_type": "markdown",
   "metadata": {},
   "source": [
    "# Test classical FD operator"
   ]
  },
  {
   "cell_type": "code",
   "execution_count": 95,
   "metadata": {},
   "outputs": [
    {
     "data": {
      "text/latex": [
       "$$ \\begin{equation}\n",
       "0\n",
       "\\end{equation}\n",
       " $$"
      ],
      "text/plain": [
       "0"
      ]
     },
     "metadata": {},
     "output_type": "display_data"
    },
    {
     "data": {
      "text/latex": [
       "$$ \\begin{equation}\n",
       "\\frac{{\\Delta}t \\left(  - \\mu_{m 0} - \\mu_{m - 1} \\right)}{2 {\\Delta}x}\n",
       "\\end{equation}\n",
       " $$"
      ],
      "text/plain": [
       "(Δt*(-μₘ₀ - μₘ₋₁)) / (2Δx)"
      ]
     },
     "metadata": {},
     "output_type": "display_data"
    },
    {
     "data": {
      "text/latex": [
       "$$ \\begin{equation}\n",
       "0\n",
       "\\end{equation}\n",
       " $$"
      ],
      "text/plain": [
       "0"
      ]
     },
     "metadata": {},
     "output_type": "display_data"
    },
    {
     "data": {
      "text/latex": [
       "$$ \\begin{equation}\n",
       "\\frac{{\\Delta}x \\rho_{m 0}}{{\\Delta}t}\n",
       "\\end{equation}\n",
       " $$"
      ],
      "text/plain": [
       "(Δx*ρₘ₀) / Δt"
      ]
     },
     "metadata": {},
     "output_type": "display_data"
    },
    {
     "data": {
      "text/latex": [
       "$$ \\begin{equation}\n",
       "\\frac{2 {\\Delta}t^{2} \\mu_{m 0} + {\\Delta}t^{2} \\mu_{m 1} + {\\Delta}t^{2} \\mu_{m - 1} - 4 {\\Delta}x^{2} \\rho_{m 0}}{2 {\\Delta}t {\\Delta}x}\n",
       "\\end{equation}\n",
       " $$"
      ],
      "text/plain": [
       "(2(Δt^2)*μₘ₀ + (Δt^2)*μₘ₁ + (Δt^2)*μₘ₋₁ - 4(Δx^2)*ρₘ₀) / (2Δt*Δx)"
      ]
     },
     "metadata": {},
     "output_type": "display_data"
    },
    {
     "data": {
      "text/latex": [
       "$$ \\begin{equation}\n",
       "\\frac{{\\Delta}x \\rho_{m 0}}{{\\Delta}t}\n",
       "\\end{equation}\n",
       " $$"
      ],
      "text/plain": [
       "(Δx*ρₘ₀) / Δt"
      ]
     },
     "metadata": {},
     "output_type": "display_data"
    },
    {
     "data": {
      "text/latex": [
       "$$ \\begin{equation}\n",
       "0\n",
       "\\end{equation}\n",
       " $$"
      ],
      "text/plain": [
       "0"
      ]
     },
     "metadata": {},
     "output_type": "display_data"
    },
    {
     "data": {
      "text/latex": [
       "$$ \\begin{equation}\n",
       "\\frac{{\\Delta}t \\left(  - \\mu_{m 0} - \\mu_{m 1} \\right)}{2 {\\Delta}x}\n",
       "\\end{equation}\n",
       " $$"
      ],
      "text/plain": [
       "(Δt*(-μₘ₀ - μₘ₁)) / (2Δx)"
      ]
     },
     "metadata": {},
     "output_type": "display_data"
    },
    {
     "data": {
      "text/latex": [
       "$$ \\begin{equation}\n",
       "0\n",
       "\\end{equation}\n",
       " $$"
      ],
      "text/plain": [
       "0"
      ]
     },
     "metadata": {},
     "output_type": "display_data"
    }
   ],
   "source": [
    "A_classic=Symbolics.variables(:A_classic,-L₁ₗ:L₁ᵣ,-Lₜₗ:Lₜᵣ)\n",
    "A_classic.=0\n",
    "A_classic[2,1]=ρₘ[2]//Δt^2\n",
    "A_classic[2,2]=-2*ρₘ[2]//Δt^2 + (μₘ[1]+2*μₘ[2]+μₘ[3])//(2*Δx^2)\n",
    "A_classic[2,3]=ρₘ[2]//Δt^2\n",
    "\n",
    "A_classic[1,2] = -(μₘ[1]+μₘ[2])//(2*Δx^2)\n",
    "A_classic[3,2] = -(μₘ[2]+μₘ[3])//(2*Δx^2)\n",
    "\n",
    "A_classic=A_classic*Δx*Δt\n",
    "\n",
    "for i¹ in 1:L₁ₗ+L₁ᵣ+1\n",
    "    for iᵗ in 1:Lₜₗ+Lₜᵣ+1\n",
    "        display(simplify(A_classic[i¹,iᵗ];expand=true))\n",
    "    end\n",
    "end"
   ]
  },
  {
   "cell_type": "code",
   "execution_count": 96,
   "metadata": {},
   "outputs": [
    {
     "data": {
      "text/latex": [
       "$$ \\begin{equation}\n",
       "\\frac{1}{8} \\left( \\frac{4}{3} C^u_{1}ˏ_3 {\\Delta}t {\\Delta}x \\rho_{m 0} - \\frac{2}{3} C^u_{1}ˏ_3 {\\Delta}t {\\Delta}x \\rho_{m 1} - \\frac{2}{3} C^u_{1}ˏ_3 {\\Delta}t {\\Delta}x \\rho_{m - 1} + \\frac{1}{3} {\\Delta}t^{3} C^u_{2}ˏ_3 \\mu_{m 1} - \\frac{1}{3} {\\Delta}t^{3} C^u_{2}ˏ_3 \\mu_{m - 1} - \\frac{2}{3} {\\Delta}x^{2} C^u_{2}ˏ_3 {\\Delta}t \\rho_{m 1} + \\frac{2}{3} {\\Delta}x^{2} C^u_{2}ˏ_3 {\\Delta}t \\rho_{m - 1} + \\frac{1}{3} {\\Delta}x^{2} C^u_{4}ˏ_1 {\\Delta}t \\mu_{m 1} - \\frac{1}{3} {\\Delta}x^{2} C^u_{4}ˏ_1 {\\Delta}t \\mu_{m - 1} + \\frac{1}{9} {\\Delta}t^{3} C^u_{1}ˏ_5 {\\Delta}x \\rho_{m 0} - \\frac{1}{18} {\\Delta}t^{3} C^u_{1}ˏ_5 {\\Delta}x \\rho_{m 1} - \\frac{1}{18} {\\Delta}t^{3} C^u_{1}ˏ_5 {\\Delta}x \\rho_{m - 1} + \\frac{1}{3} {\\Delta}t^{3} C^u_{3}ˏ_3 {\\Delta}x \\mu_{m 0} + \\frac{1}{6} {\\Delta}t^{3} C^u_{3}ˏ_3 {\\Delta}x \\mu_{m 1} + \\frac{1}{6} {\\Delta}t^{3} C^u_{3}ˏ_3 {\\Delta}x \\mu_{m - 1} - \\frac{2}{5} {\\Delta}x^{3} C^u_{3}ˏ_3 {\\Delta}t \\rho_{m 0} - \\frac{2}{15} {\\Delta}x^{3} C^u_{3}ˏ_3 {\\Delta}t \\rho_{m 1} - \\frac{2}{15} {\\Delta}x^{3} C^u_{3}ˏ_3 {\\Delta}t \\rho_{m - 1} - \\frac{1}{9} {\\Delta}x^{3} C^u_{5}ˏ_1 {\\Delta}t \\mu_{m 0} + \\frac{1}{18} {\\Delta}x^{3} C^u_{5}ˏ_1 {\\Delta}t \\mu_{m 1} + \\frac{1}{18} {\\Delta}x^{3} C^u_{5}ˏ_1 {\\Delta}t \\mu_{m - 1} + \\frac{1}{90} {\\Delta}t^{5} C^u_{2}ˏ_5 \\mu_{m 1} - \\frac{1}{90} {\\Delta}t^{5} C^u_{2}ˏ_5 \\mu_{m - 1} - \\frac{1}{18} {\\Delta}x^{2} {\\Delta}t^{3} C^u_{2}ˏ_5 \\rho_{m 1} + \\frac{1}{18} {\\Delta}x^{2} {\\Delta}t^{3} C^u_{2}ˏ_5 \\rho_{m - 1} + \\frac{1}{12} {\\Delta}x^{2} {\\Delta}t^{3} C^u_{4}ˏ_3 \\mu_{m 1} - \\frac{1}{12} {\\Delta}x^{2} {\\Delta}t^{3} C^u_{4}ˏ_3 \\mu_{m - 1} - \\frac{2}{45} {\\Delta}x^{4} C^u_{4}ˏ_3 {\\Delta}t \\rho_{m 1} + \\frac{2}{45} {\\Delta}x^{4} C^u_{4}ˏ_3 {\\Delta}t \\rho_{m - 1} + \\frac{1}{90} {\\Delta}t^{5} C^u_{3}ˏ_5 {\\Delta}x \\mu_{m 0} + \\frac{1}{180} {\\Delta}t^{5} C^u_{3}ˏ_5 {\\Delta}x \\mu_{m 1} + \\frac{1}{180} {\\Delta}t^{5} C^u_{3}ˏ_5 {\\Delta}x \\mu_{m - 1} - \\frac{1}{30} {\\Delta}x^{3} {\\Delta}t^{3} C^u_{3}ˏ_5 \\rho_{m 0} - \\frac{1}{90} {\\Delta}x^{3} {\\Delta}t^{3} C^u_{3}ˏ_5 \\rho_{m 1} - \\frac{1}{90} {\\Delta}x^{3} {\\Delta}t^{3} C^u_{3}ˏ_5 \\rho_{m - 1} + \\frac{1}{54} {\\Delta}x^{3} {\\Delta}t^{3} C^u_{5}ˏ_3 \\mu_{m 0} + \\frac{1}{54} {\\Delta}x^{3} {\\Delta}t^{3} C^u_{5}ˏ_3 \\mu_{m 1} + \\frac{1}{54} {\\Delta}x^{3} {\\Delta}t^{3} C^u_{5}ˏ_3 \\mu_{m - 1} - \\frac{13}{1260} {\\Delta}x^{5} C^u_{5}ˏ_3 {\\Delta}t \\rho_{m 0} - \\frac{1}{168} {\\Delta}x^{5} C^u_{5}ˏ_3 {\\Delta}t \\rho_{m 1} - \\frac{1}{168} {\\Delta}x^{5} C^u_{5}ˏ_3 {\\Delta}t \\rho_{m - 1} + \\frac{1}{360} {\\Delta}x^{2} {\\Delta}t^{5} C^u_{4}ˏ_5 \\mu_{m 1} - \\frac{1}{360} {\\Delta}x^{2} {\\Delta}t^{5} C^u_{4}ˏ_5 \\mu_{m - 1} - \\frac{1}{270} {\\Delta}x^{4} {\\Delta}t^{3} C^u_{4}ˏ_5 \\rho_{m 1} + \\frac{1}{270} {\\Delta}x^{4} {\\Delta}t^{3} C^u_{4}ˏ_5 \\rho_{m - 1} + \\frac{1}{1620} {\\Delta}x^{3} {\\Delta}t^{5} C^u_{5}ˏ_5 \\mu_{m 0} + \\frac{1}{1620} {\\Delta}x^{3} {\\Delta}t^{5} C^u_{5}ˏ_5 \\mu_{m 1} + \\frac{1}{1620} {\\Delta}x^{3} {\\Delta}t^{5} C^u_{5}ˏ_5 \\mu_{m - 1} - \\frac{13}{15120} {\\Delta}x^{5} {\\Delta}t^{3} C^u_{5}ˏ_5 \\rho_{m 0} - \\frac{1}{2016} {\\Delta}x^{5} {\\Delta}t^{3} C^u_{5}ˏ_5 \\rho_{m 1} - \\frac{1}{2016} {\\Delta}x^{5} {\\Delta}t^{3} C^u_{5}ˏ_5 \\rho_{m - 1} \\right)\n",
       "\\end{equation}\n",
       " $$"
      ],
      "text/plain": [
       "(1//8)*((4//3)*Cᵘ[1, 3]*Δt*Δx*ρₘ₀ - (2//3)*Cᵘ[1, 3]*Δt*Δx*ρₘ₁ - (2//3)*Cᵘ[1, 3]*Δt*Δx*ρₘ₋₁ + (1//3)*Cᵘ[2, 3]*(Δt^3)*μₘ₁ - (1//3)*Cᵘ[2, 3]*(Δt^3)*μₘ₋₁ - (2//3)*Cᵘ[2, 3]*Δt*(Δx^2)*ρₘ₁ + (2//3)*Cᵘ[2, 3]*Δt*(Δx^2)*ρₘ₋₁ + (1//3)*Cᵘ[4, 1]*Δt*(Δx^2)*μₘ₁ - (1//3)*Cᵘ[4, 1]*Δt*(Δx^2)*μₘ₋₁ + (1//9)*Cᵘ[1, 5]*(Δt^3)*Δx*ρₘ₀ - (1//18)*Cᵘ[1, 5]*(Δt^3)*Δx*ρₘ₁ - (1//18)*Cᵘ[1, 5]*(Δt^3)*Δx*ρₘ₋₁ + (1//3)*Cᵘ[3, 3]*(Δt^3)*Δx*μₘ₀ + (1//6)*Cᵘ[3, 3]*(Δt^3)*Δx*μₘ₁ + (1//6)*Cᵘ[3, 3]*(Δt^3)*Δx*μₘ₋₁ - (2//5)*Cᵘ[3, 3]*Δt*(Δx^3)*ρₘ₀ - (2//15)*Cᵘ[3, 3]*Δt*(Δx^3)*ρₘ₁ - (2//15)*Cᵘ[3, 3]*Δt*(Δx^3)*ρₘ₋₁ - (1//9)*Cᵘ[5, 1]*Δt*(Δx^3)*μₘ₀ + (1//18)*Cᵘ[5, 1]*Δt*(Δx^3)*μₘ₁ + (1//18)*Cᵘ[5, 1]*Δt*(Δx^3)*μₘ₋₁ + (1//90)*Cᵘ[2, 5]*(Δt^5)*μₘ₁ - (1//90)*Cᵘ[2, 5]*(Δt^5)*μₘ₋₁ - (1//18)*Cᵘ[2, 5]*(Δt^3)*(Δx^2)*ρₘ₁ + (1//18)*Cᵘ[2, 5]*(Δt^3)*(Δx^2)*ρₘ₋₁ + (1//12)*Cᵘ[4, 3]*(Δt^3)*(Δx^2)*μₘ₁ - (1//12)*Cᵘ[4, 3]*(Δt^3)*(Δx^2)*μₘ₋₁ - (2//45)*Cᵘ[4, 3]*Δt*(Δx^4)*ρₘ₁ + (2//45)*Cᵘ[4, 3]*Δt*(Δx^4)*ρₘ₋₁ + (1//90)*Cᵘ[3, 5]*(Δt^5)*Δx*μₘ₀ + (1//180)*Cᵘ[3, 5]*(Δt^5)*Δx*μₘ₁ + (1//180)*Cᵘ[3, 5]*(Δt^5)*Δx*μₘ₋₁ - (1//30)*Cᵘ[3, 5]*(Δt^3)*(Δx^3)*ρₘ₀ - (1//90)*Cᵘ[3, 5]*(Δt^3)*(Δx^3)*ρₘ₁ - (1//90)*Cᵘ[3, 5]*(Δt^3)*(Δx^3)*ρₘ₋₁ + (1//54)*Cᵘ[5, 3]*(Δt^3)*(Δx^3)*μₘ₀ + (1//54)*Cᵘ[5, 3]*(Δt^3)*(Δx^3)*μₘ₁ + (1//54)*Cᵘ[5, 3]*(Δt^3)*(Δx^3)*μₘ₋₁ - (13//1260)*Cᵘ[5, 3]*Δt*(Δx^5)*ρₘ₀ - (1//168)*Cᵘ[5, 3]*Δt*(Δx^5)*ρₘ₁ - (1//168)*Cᵘ[5, 3]*Δt*(Δx^5)*ρₘ₋₁ + (1//360)*Cᵘ[4, 5]*(Δt^5)*(Δx^2)*μₘ₁ - (1//360)*Cᵘ[4, 5]*(Δt^5)*(Δx^2)*μₘ₋₁ - (1//270)*Cᵘ[4, 5]*(Δt^3)*(Δx^4)*ρₘ₁ + (1//270)*Cᵘ[4, 5]*(Δt^3)*(Δx^4)*ρₘ₋₁ + (1//1620)*Cᵘ[5, 5]*(Δt^5)*(Δx^3)*μₘ₀ + (1//1620)*Cᵘ[5, 5]*(Δt^5)*(Δx^3)*μₘ₁ + (1//1620)*Cᵘ[5, 5]*(Δt^5)*(Δx^3)*μₘ₋₁ - (13//15120)*Cᵘ[5, 5]*(Δt^3)*(Δx^5)*ρₘ₀ - (1//2016)*Cᵘ[5, 5]*(Δt^3)*(Δx^5)*ρₘ₁ - (1//2016)*Cᵘ[5, 5]*(Δt^3)*(Δx^5)*ρₘ₋₁)"
      ]
     },
     "metadata": {},
     "output_type": "display_data"
    },
    {
     "data": {
      "text/latex": [
       "$$ \\begin{equation}\n",
       "\\frac{1}{6} C^u_{1}ˏ_3 {\\Delta}t {\\Delta}x \\rho_{m 0} - \\frac{1}{12} C^u_{1}ˏ_3 {\\Delta}t {\\Delta}x \\left( \\rho_{m 1} + \\rho_{m - 1} \\right) - \\frac{1}{12} {\\Delta}x^{2} C^u_{2}ˏ_3 {\\Delta}t \\rho_{m 1} + \\frac{1}{12} {\\Delta}x^{2} C^u_{2}ˏ_3 {\\Delta}t \\rho_{m - 1} + \\frac{1}{24} {\\Delta}x^{2} C^u_{4}ˏ_1 {\\Delta}t \\mu_{m 1} - \\frac{1}{24} {\\Delta}x^{2} C^u_{4}ˏ_1 {\\Delta}t \\mu_{m - 1}\n",
       "\\end{equation}\n",
       " $$"
      ],
      "text/plain": [
       "(1//6)*Cᵘ[1, 3]*Δt*Δx*ρₘ₀ - (1//12)*Cᵘ[1, 3]*Δt*Δx*(ρₘ₁ + ρₘ₋₁) - (1//12)*Cᵘ[2, 3]*Δt*(Δx^2)*ρₘ₁ + (1//12)*Cᵘ[2, 3]*Δt*(Δx^2)*ρₘ₋₁ + (1//24)*Cᵘ[4, 1]*Δt*(Δx^2)*μₘ₁ - (1//24)*Cᵘ[4, 1]*Δt*(Δx^2)*μₘ₋₁"
      ]
     },
     "metadata": {},
     "output_type": "display_data"
    }
   ],
   "source": [
    "innerProduct=0\n",
    "for i¹ in 1:L₁ₗ+L₁ᵣ+1\n",
    "    dx¹=Δx*(i¹-L₁ₗ-1)\n",
    "    for iᵗ in 1:Lₜₗ+Lₜᵣ+1\n",
    "        dt = Δt*(iᵗ-Lₜₗ-1)\n",
    "        innerProduct+=A_classic[i¹,iᵗ]*u(dx¹,dt)\n",
    "    end\n",
    "end\n",
    "differenceC=simplify(innerProduct-desired_value_in_time,expand=true)\n",
    "display(differenceC)\n",
    "truncated_differenceC=ignoreHigherOrderTerms(differenceC,Δx,2)\n",
    "truncated_differenceC=ignoreHigherOrderTerms(truncated_differenceC,Δt,2)\n",
    "display(truncated_differenceC)"
   ]
  },
  {
   "cell_type": "markdown",
   "metadata": {},
   "source": [
    "# Test GT98 operator"
   ]
  },
  {
   "cell_type": "code",
   "execution_count": 97,
   "metadata": {},
   "outputs": [
    {
     "data": {
      "text/latex": [
       "$$ \\begin{equation}\n",
       "\\frac{ - \\frac{1}{24} {\\Delta}t^{2} \\mu_{m 0} - \\frac{1}{24} {\\Delta}t^{2} \\mu_{m - 1} + \\frac{1}{12} {\\Delta}x^{2} \\rho_{m 0}}{{\\Delta}t {\\Delta}x}\n",
       "\\end{equation}\n",
       " $$"
      ],
      "text/plain": [
       "(-(1//24)*(Δt^2)*μₘ₀ - (1//24)*(Δt^2)*μₘ₋₁ + (1//12)*(Δx^2)*ρₘ₀) / (Δt*Δx)"
      ]
     },
     "metadata": {},
     "output_type": "display_data"
    },
    {
     "data": {
      "text/latex": [
       "$$ \\begin{equation}\n",
       "\\frac{ - \\frac{5}{12} {\\Delta}t^{2} \\mu_{m 0} - \\frac{5}{12} {\\Delta}t^{2} \\mu_{m - 1} - \\frac{1}{6} {\\Delta}x^{2} \\rho_{m 0}}{{\\Delta}t {\\Delta}x}\n",
       "\\end{equation}\n",
       " $$"
      ],
      "text/plain": [
       "(-(5//12)*(Δt^2)*μₘ₀ - (5//12)*(Δt^2)*μₘ₋₁ - (1//6)*(Δx^2)*ρₘ₀) / (Δt*Δx)"
      ]
     },
     "metadata": {},
     "output_type": "display_data"
    },
    {
     "data": {
      "text/latex": [
       "$$ \\begin{equation}\n",
       "\\frac{ - \\frac{1}{24} {\\Delta}t^{2} \\mu_{m 0} - \\frac{1}{24} {\\Delta}t^{2} \\mu_{m - 1} + \\frac{1}{12} {\\Delta}x^{2} \\rho_{m 0}}{{\\Delta}t {\\Delta}x}\n",
       "\\end{equation}\n",
       " $$"
      ],
      "text/plain": [
       "(-(1//24)*(Δt^2)*μₘ₀ - (1//24)*(Δt^2)*μₘ₋₁ + (1//12)*(Δx^2)*ρₘ₀) / (Δt*Δx)"
      ]
     },
     "metadata": {},
     "output_type": "display_data"
    },
    {
     "data": {
      "text/latex": [
       "$$ \\begin{equation}\n",
       "\\frac{\\frac{1}{12} {\\Delta}t^{2} \\mu_{m 0} + \\frac{1}{24} {\\Delta}t^{2} \\mu_{m 1} + \\frac{1}{24} {\\Delta}t^{2} \\mu_{m - 1} + \\frac{5}{6} {\\Delta}x^{2} \\rho_{m 0}}{{\\Delta}t {\\Delta}x}\n",
       "\\end{equation}\n",
       " $$"
      ],
      "text/plain": [
       "((1//12)*(Δt^2)*μₘ₀ + (1//24)*(Δt^2)*μₘ₁ + (1//24)*(Δt^2)*μₘ₋₁ + (5//6)*(Δx^2)*ρₘ₀) / (Δt*Δx)"
      ]
     },
     "metadata": {},
     "output_type": "display_data"
    },
    {
     "data": {
      "text/latex": [
       "$$ \\begin{equation}\n",
       "\\frac{\\frac{5}{6} {\\Delta}t^{2} \\mu_{m 0} + \\frac{5}{12} {\\Delta}t^{2} \\mu_{m 1} + \\frac{5}{12} {\\Delta}t^{2} \\mu_{m - 1} - \\frac{5}{3} {\\Delta}x^{2} \\rho_{m 0}}{{\\Delta}t {\\Delta}x}\n",
       "\\end{equation}\n",
       " $$"
      ],
      "text/plain": [
       "((5//6)*(Δt^2)*μₘ₀ + (5//12)*(Δt^2)*μₘ₁ + (5//12)*(Δt^2)*μₘ₋₁ - (5//3)*(Δx^2)*ρₘ₀) / (Δt*Δx)"
      ]
     },
     "metadata": {},
     "output_type": "display_data"
    },
    {
     "data": {
      "text/latex": [
       "$$ \\begin{equation}\n",
       "\\frac{\\frac{1}{12} {\\Delta}t^{2} \\mu_{m 0} + \\frac{1}{24} {\\Delta}t^{2} \\mu_{m 1} + \\frac{1}{24} {\\Delta}t^{2} \\mu_{m - 1} + \\frac{5}{6} {\\Delta}x^{2} \\rho_{m 0}}{{\\Delta}t {\\Delta}x}\n",
       "\\end{equation}\n",
       " $$"
      ],
      "text/plain": [
       "((1//12)*(Δt^2)*μₘ₀ + (1//24)*(Δt^2)*μₘ₁ + (1//24)*(Δt^2)*μₘ₋₁ + (5//6)*(Δx^2)*ρₘ₀) / (Δt*Δx)"
      ]
     },
     "metadata": {},
     "output_type": "display_data"
    },
    {
     "data": {
      "text/latex": [
       "$$ \\begin{equation}\n",
       "\\frac{ - \\frac{1}{24} {\\Delta}t^{2} \\mu_{m 0} - \\frac{1}{24} {\\Delta}t^{2} \\mu_{m 1} + \\frac{1}{12} {\\Delta}x^{2} \\rho_{m 0}}{{\\Delta}t {\\Delta}x}\n",
       "\\end{equation}\n",
       " $$"
      ],
      "text/plain": [
       "(-(1//24)*(Δt^2)*μₘ₀ - (1//24)*(Δt^2)*μₘ₁ + (1//12)*(Δx^2)*ρₘ₀) / (Δt*Δx)"
      ]
     },
     "metadata": {},
     "output_type": "display_data"
    },
    {
     "data": {
      "text/latex": [
       "$$ \\begin{equation}\n",
       "\\frac{ - \\frac{5}{12} {\\Delta}t^{2} \\mu_{m 0} - \\frac{5}{12} {\\Delta}t^{2} \\mu_{m 1} - \\frac{1}{6} {\\Delta}x^{2} \\rho_{m 0}}{{\\Delta}t {\\Delta}x}\n",
       "\\end{equation}\n",
       " $$"
      ],
      "text/plain": [
       "(-(5//12)*(Δt^2)*μₘ₀ - (5//12)*(Δt^2)*μₘ₁ - (1//6)*(Δx^2)*ρₘ₀) / (Δt*Δx)"
      ]
     },
     "metadata": {},
     "output_type": "display_data"
    },
    {
     "data": {
      "text/latex": [
       "$$ \\begin{equation}\n",
       "\\frac{ - \\frac{1}{24} {\\Delta}t^{2} \\mu_{m 0} - \\frac{1}{24} {\\Delta}t^{2} \\mu_{m 1} + \\frac{1}{12} {\\Delta}x^{2} \\rho_{m 0}}{{\\Delta}t {\\Delta}x}\n",
       "\\end{equation}\n",
       " $$"
      ],
      "text/plain": [
       "(-(1//24)*(Δt^2)*μₘ₀ - (1//24)*(Δt^2)*μₘ₁ + (1//12)*(Δx^2)*ρₘ₀) / (Δt*Δx)"
      ]
     },
     "metadata": {},
     "output_type": "display_data"
    }
   ],
   "source": [
    "A_GT98[1,1]=ρₘ[2]//12//Δt^2-(μₘ[1]+μₘ[2])//24//Δx^2\n",
    "A_GT98[1,2]=-2ρₘ[2]//12//Δt^2-10*(μₘ[1]+μₘ[2])//24//Δx^2\n",
    "A_GT98[1,3]=ρₘ[2]//12//Δt^2-(μₘ[1]+μₘ[2])//24//Δx^2\n",
    "\n",
    "A_GT98[2,1]=10*ρₘ[2]//12//Δt^2+(μₘ[1]+2*μₘ[2]+μₘ[3])//24//Δx^2\n",
    "A_GT98[2,2]=-20*ρₘ[2]//12//Δt^2+10*(μₘ[1]+2*μₘ[2]+μₘ[3])//24//Δx^2\n",
    "A_GT98[2,3]=10*ρₘ[2]//12//Δt^2+(μₘ[1]+2*μₘ[2]+μₘ[3])//24//Δx^2\n",
    "\n",
    "A_GT98[3,1]=ρₘ[2]//12//Δt^2-(μₘ[3]+μₘ[2])//24//Δx^2\n",
    "A_GT98[3,2]=-2ρₘ[2]//12//Δt^2-10*(μₘ[3]+μₘ[2])//24//Δx^2\n",
    "A_GT98[3,3]=ρₘ[2]//12//Δt^2-(μₘ[3]+μₘ[2])//24//Δx^2\n",
    "A_GT98=A_GT98*Δx*Δt\n",
    "for i¹ in 1:L₁ₗ+L₁ᵣ+1\n",
    "    for iᵗ in 1:Lₜₗ+Lₜᵣ+1\n",
    "        display(simplify(A_GT98[i¹,iᵗ];expand=true))\n",
    "    end\n",
    "end"
   ]
  },
  {
   "cell_type": "code",
   "execution_count": 98,
   "metadata": {},
   "outputs": [
    {
     "data": {
      "text/latex": [
       "$$ \\begin{equation}\n",
       "\\frac{1}{6} C^u_{1}ˏ_3 {\\Delta}t {\\Delta}x \\rho_{m 0} - \\frac{1}{12} C^u_{1}ˏ_3 {\\Delta}t {\\Delta}x \\rho_{m 1} - \\frac{1}{12} C^u_{1}ˏ_3 {\\Delta}t {\\Delta}x \\rho_{m - 1} - \\frac{1}{12} {\\Delta}x^{2} C^u_{2}ˏ_3 {\\Delta}t \\rho_{m 1} + \\frac{1}{12} {\\Delta}x^{2} C^u_{2}ˏ_3 {\\Delta}t \\rho_{m - 1} + \\frac{1}{24} {\\Delta}x^{2} C^u_{4}ˏ_1 {\\Delta}t \\mu_{m 1} - \\frac{1}{24} {\\Delta}x^{2} C^u_{4}ˏ_1 {\\Delta}t \\mu_{m - 1} + \\frac{1}{72} {\\Delta}t^{3} C^u_{1}ˏ_5 {\\Delta}x \\rho_{m 0} - \\frac{1}{144} {\\Delta}t^{3} C^u_{1}ˏ_5 {\\Delta}x \\rho_{m 1} - \\frac{1}{144} {\\Delta}t^{3} C^u_{1}ˏ_5 {\\Delta}x \\rho_{m - 1} + \\frac{1}{30} {\\Delta}x^{3} C^u_{3}ˏ_3 {\\Delta}t \\rho_{m 0} - \\frac{1}{60} {\\Delta}x^{3} C^u_{3}ˏ_3 {\\Delta}t \\rho_{m 1} - \\frac{1}{60} {\\Delta}x^{3} C^u_{3}ˏ_3 {\\Delta}t \\rho_{m - 1} - \\frac{1}{72} {\\Delta}x^{3} C^u_{5}ˏ_1 {\\Delta}t \\mu_{m 0} + \\frac{1}{144} {\\Delta}x^{3} C^u_{5}ˏ_1 {\\Delta}t \\mu_{m 1} + \\frac{1}{144} {\\Delta}x^{3} C^u_{5}ˏ_1 {\\Delta}t \\mu_{m - 1} - \\frac{1}{480} {\\Delta}t^{5} C^u_{2}ˏ_5 \\mu_{m 1} + \\frac{1}{480} {\\Delta}t^{5} C^u_{2}ˏ_5 \\mu_{m - 1} - \\frac{1}{144} {\\Delta}x^{2} {\\Delta}t^{3} C^u_{2}ˏ_5 \\rho_{m 1} + \\frac{1}{144} {\\Delta}x^{2} {\\Delta}t^{3} C^u_{2}ˏ_5 \\rho_{m - 1} + \\frac{1}{288} {\\Delta}x^{2} {\\Delta}t^{3} C^u_{4}ˏ_3 \\mu_{m 1} - \\frac{1}{288} {\\Delta}x^{2} {\\Delta}t^{3} C^u_{4}ˏ_3 \\mu_{m - 1} - \\frac{1}{180} {\\Delta}x^{4} C^u_{4}ˏ_3 {\\Delta}t \\rho_{m 1} + \\frac{1}{180} {\\Delta}x^{4} C^u_{4}ˏ_3 {\\Delta}t \\rho_{m - 1} - \\frac{1}{480} {\\Delta}t^{5} C^u_{3}ˏ_5 {\\Delta}x \\mu_{m 0} - \\frac{1}{960} {\\Delta}t^{5} C^u_{3}ˏ_5 {\\Delta}x \\mu_{m 1} - \\frac{1}{960} {\\Delta}t^{5} C^u_{3}ˏ_5 {\\Delta}x \\mu_{m - 1} + \\frac{1}{360} {\\Delta}x^{3} {\\Delta}t^{3} C^u_{3}ˏ_5 \\rho_{m 0} - \\frac{1}{720} {\\Delta}x^{3} {\\Delta}t^{3} C^u_{3}ˏ_5 \\rho_{m 1} - \\frac{1}{720} {\\Delta}x^{3} {\\Delta}t^{3} C^u_{3}ˏ_5 \\rho_{m - 1} - \\frac{1}{864} {\\Delta}x^{3} {\\Delta}t^{3} C^u_{5}ˏ_3 \\mu_{m 0} + \\frac{1}{1728} {\\Delta}x^{3} {\\Delta}t^{3} C^u_{5}ˏ_3 \\mu_{m 1} + \\frac{1}{1728} {\\Delta}x^{3} {\\Delta}t^{3} C^u_{5}ˏ_3 \\mu_{m - 1} + \\frac{19}{3360} {\\Delta}x^{5} C^u_{5}ˏ_3 {\\Delta}t \\rho_{m 0} - \\frac{1}{1344} {\\Delta}x^{5} C^u_{5}ˏ_3 {\\Delta}t \\rho_{m 1} - \\frac{1}{1344} {\\Delta}x^{5} C^u_{5}ˏ_3 {\\Delta}t \\rho_{m - 1} - \\frac{1}{4320} {\\Delta}x^{2} {\\Delta}t^{5} C^u_{4}ˏ_5 \\mu_{m 1} + \\frac{1}{4320} {\\Delta}x^{2} {\\Delta}t^{5} C^u_{4}ˏ_5 \\mu_{m - 1} - \\frac{1}{2160} {\\Delta}x^{4} {\\Delta}t^{3} C^u_{4}ˏ_5 \\rho_{m 1} + \\frac{1}{2160} {\\Delta}x^{4} {\\Delta}t^{3} C^u_{4}ˏ_5 \\rho_{m - 1} - \\frac{11}{51840} {\\Delta}x^{3} {\\Delta}t^{5} C^u_{5}ˏ_5 \\mu_{m 0} - \\frac{7}{103680} {\\Delta}x^{3} {\\Delta}t^{5} C^u_{5}ˏ_5 \\mu_{m 1} - \\frac{7}{103680} {\\Delta}x^{3} {\\Delta}t^{5} C^u_{5}ˏ_5 \\mu_{m - 1} + \\frac{19}{40320} {\\Delta}x^{5} {\\Delta}t^{3} C^u_{5}ˏ_5 \\rho_{m 0} - \\frac{1}{16128} {\\Delta}x^{5} {\\Delta}t^{3} C^u_{5}ˏ_5 \\rho_{m 1} - \\frac{1}{16128} {\\Delta}x^{5} {\\Delta}t^{3} C^u_{5}ˏ_5 \\rho_{m - 1}\n",
       "\\end{equation}\n",
       " $$"
      ],
      "text/plain": [
       "(1//6)*Cᵘ[1, 3]*Δt*Δx*ρₘ₀ - (1//12)*Cᵘ[1, 3]*Δt*Δx*ρₘ₁ - (1//12)*Cᵘ[1, 3]*Δt*Δx*ρₘ₋₁ - (1//12)*Cᵘ[2, 3]*Δt*(Δx^2)*ρₘ₁ + (1//12)*Cᵘ[2, 3]*Δt*(Δx^2)*ρₘ₋₁ + (1//24)*Cᵘ[4, 1]*Δt*(Δx^2)*μₘ₁ - (1//24)*Cᵘ[4, 1]*Δt*(Δx^2)*μₘ₋₁ + (1//72)*Cᵘ[1, 5]*(Δt^3)*Δx*ρₘ₀ - (1//144)*Cᵘ[1, 5]*(Δt^3)*Δx*ρₘ₁ - (1//144)*Cᵘ[1, 5]*(Δt^3)*Δx*ρₘ₋₁ + (1//30)*Cᵘ[3, 3]*Δt*(Δx^3)*ρₘ₀ - (1//60)*Cᵘ[3, 3]*Δt*(Δx^3)*ρₘ₁ - (1//60)*Cᵘ[3, 3]*Δt*(Δx^3)*ρₘ₋₁ - (1//72)*Cᵘ[5, 1]*Δt*(Δx^3)*μₘ₀ + (1//144)*Cᵘ[5, 1]*Δt*(Δx^3)*μₘ₁ + (1//144)*Cᵘ[5, 1]*Δt*(Δx^3)*μₘ₋₁ - (1//480)*Cᵘ[2, 5]*(Δt^5)*μₘ₁ + (1//480)*Cᵘ[2, 5]*(Δt^5)*μₘ₋₁ - (1//144)*Cᵘ[2, 5]*(Δt^3)*(Δx^2)*ρₘ₁ + (1//144)*Cᵘ[2, 5]*(Δt^3)*(Δx^2)*ρₘ₋₁ + (1//288)*Cᵘ[4, 3]*(Δt^3)*(Δx^2)*μₘ₁ - (1//288)*Cᵘ[4, 3]*(Δt^3)*(Δx^2)*μₘ₋₁ - (1//180)*Cᵘ[4, 3]*Δt*(Δx^4)*ρₘ₁ + (1//180)*Cᵘ[4, 3]*Δt*(Δx^4)*ρₘ₋₁ - (1//480)*Cᵘ[3, 5]*(Δt^5)*Δx*μₘ₀ - (1//960)*Cᵘ[3, 5]*(Δt^5)*Δx*μₘ₁ - (1//960)*Cᵘ[3, 5]*(Δt^5)*Δx*μₘ₋₁ + (1//360)*Cᵘ[3, 5]*(Δt^3)*(Δx^3)*ρₘ₀ - (1//720)*Cᵘ[3, 5]*(Δt^3)*(Δx^3)*ρₘ₁ - (1//720)*Cᵘ[3, 5]*(Δt^3)*(Δx^3)*ρₘ₋₁ - (1//864)*Cᵘ[5, 3]*(Δt^3)*(Δx^3)*μₘ₀ + (1//1728)*Cᵘ[5, 3]*(Δt^3)*(Δx^3)*μₘ₁ + (1//1728)*Cᵘ[5, 3]*(Δt^3)*(Δx^3)*μₘ₋₁ + (19//3360)*Cᵘ[5, 3]*Δt*(Δx^5)*ρₘ₀ - (1//1344)*Cᵘ[5, 3]*Δt*(Δx^5)*ρₘ₁ - (1//1344)*Cᵘ[5, 3]*Δt*(Δx^5)*ρₘ₋₁ - (1//4320)*Cᵘ[4, 5]*(Δt^5)*(Δx^2)*μₘ₁ + (1//4320)*Cᵘ[4, 5]*(Δt^5)*(Δx^2)*μₘ₋₁ - (1//2160)*Cᵘ[4, 5]*(Δt^3)*(Δx^4)*ρₘ₁ + (1//2160)*Cᵘ[4, 5]*(Δt^3)*(Δx^4)*ρₘ₋₁ - (11//51840)*Cᵘ[5, 5]*(Δt^5)*(Δx^3)*μₘ₀ - (7//103680)*Cᵘ[5, 5]*(Δt^5)*(Δx^3)*μₘ₁ - (7//103680)*Cᵘ[5, 5]*(Δt^5)*(Δx^3)*μₘ₋₁ + (19//40320)*Cᵘ[5, 5]*(Δt^3)*(Δx^5)*ρₘ₀ - (1//16128)*Cᵘ[5, 5]*(Δt^3)*(Δx^5)*ρₘ₁ - (1//16128)*Cᵘ[5, 5]*(Δt^3)*(Δx^5)*ρₘ₋₁"
      ]
     },
     "metadata": {},
     "output_type": "display_data"
    },
    {
     "data": {
      "text/latex": [
       "$$ \\begin{equation}\n",
       "\\frac{1}{6} C^u_{1}ˏ_3 {\\Delta}t {\\Delta}x \\rho_{m 0} - \\frac{1}{12} C^u_{1}ˏ_3 {\\Delta}t {\\Delta}x \\left( \\rho_{m 1} + \\rho_{m - 1} \\right) - \\frac{1}{12} {\\Delta}x^{2} C^u_{2}ˏ_3 {\\Delta}t \\rho_{m 1} + \\frac{1}{12} {\\Delta}x^{2} C^u_{2}ˏ_3 {\\Delta}t \\rho_{m - 1} + \\frac{1}{24} {\\Delta}x^{2} C^u_{4}ˏ_1 {\\Delta}t \\mu_{m 1} - \\frac{1}{24} {\\Delta}x^{2} C^u_{4}ˏ_1 {\\Delta}t \\mu_{m - 1}\n",
       "\\end{equation}\n",
       " $$"
      ],
      "text/plain": [
       "(1//6)*Cᵘ[1, 3]*Δt*Δx*ρₘ₀ - (1//12)*Cᵘ[1, 3]*Δt*Δx*(ρₘ₁ + ρₘ₋₁) - (1//12)*Cᵘ[2, 3]*Δt*(Δx^2)*ρₘ₁ + (1//12)*Cᵘ[2, 3]*Δt*(Δx^2)*ρₘ₋₁ + (1//24)*Cᵘ[4, 1]*Δt*(Δx^2)*μₘ₁ - (1//24)*Cᵘ[4, 1]*Δt*(Δx^2)*μₘ₋₁"
      ]
     },
     "metadata": {},
     "output_type": "display_data"
    }
   ],
   "source": [
    "innerProduct=0\n",
    "for i¹ in 1:L₁ₗ+L₁ᵣ+1\n",
    "    dx¹=Δx*(i¹-L₁ₗ-1)\n",
    "    for iᵗ in 1:Lₜₗ+Lₜᵣ+1\n",
    "        dt = Δt*(iᵗ-Lₜₗ-1)\n",
    "        innerProduct+=A_GT98[i¹,iᵗ]*u(dx¹,dt)\n",
    "    end\n",
    "end\n",
    "differenceGT=simplify(innerProduct-desired_value_in_time,expand=true)\n",
    "display(differenceGT)\n",
    "truncated_differenceGT=ignoreHigherOrderTerms(differenceGT,Δx,2)\n",
    "truncated_differenceGT=ignoreHigherOrderTerms(truncated_differenceGT,Δt,2)\n",
    "display(truncated_differenceGT)"
   ]
  },
  {
   "cell_type": "markdown",
   "metadata": {},
   "source": []
  },
  {
   "cell_type": "markdown",
   "metadata": {},
   "source": []
  },
  {
   "cell_type": "code",
   "execution_count": null,
   "metadata": {},
   "outputs": [],
   "source": []
  },
  {
   "cell_type": "markdown",
   "metadata": {},
   "source": []
  },
  {
   "cell_type": "markdown",
   "metadata": {},
   "source": []
  },
  {
   "cell_type": "markdown",
   "metadata": {},
   "source": []
  },
  {
   "cell_type": "markdown",
   "metadata": {},
   "source": []
  },
  {
   "cell_type": "markdown",
   "metadata": {},
   "source": []
  },
  {
   "cell_type": "markdown",
   "metadata": {},
   "source": []
  },
  {
   "cell_type": "markdown",
   "metadata": {},
   "source": []
  },
  {
   "cell_type": "code",
   "execution_count": null,
   "metadata": {},
   "outputs": [],
   "source": [
    "# trial functions\n",
    "function TruncatedSinc(x,scaling_factor=1)\n",
    "    # if scaling_factor is 1, then the sinc function is scaled by π and has 0 every node=1\n",
    "    #  (i.e. the sinc function is sin(π*x)/(π*x)\n",
    "    # if we change the scaling_factor then the node interval is multiplied by the scaling_factor\n",
    "    # if scaling_factor is 0, then the sinc function is unscaled (i.e. the sinc function is sin(x)/x)\n",
    "    if scaling_factor == 0\n",
    "        scaling_factor = π\n",
    "    end \n",
    "    x=x/scaling_factor\n",
    "    IfElse.ifelse(x==0,1,sin(π*x)/(π*x))\n",
    "end\n",
    "\n",
    "function Spline(x,j,k,nodes)\n",
    "    IfElse.ifelse(k>0,\n",
    "        IfElse.ifelse(j+1 <= length(nodes),\n",
    "            (x-nodes[j])/(nodes[j+k]-nodes[j])*Spline(x,j,k-1,nodes),\n",
    "            0\n",
    "        )+\n",
    "        IfElse.ifelse(j+k+1 <= length(nodes),\n",
    "            (nodes[j+k+1]-x)/(nodes[j+k+1]-nodes[j+1])*Spline(x,j+1,k-1,nodes),\n",
    "            0\n",
    "        ),\n",
    "        IfElse.ifelse(j>=1 && j+1 <=length(nodes) && nodes[j] <= x < nodes[j+1],\n",
    "            1,\n",
    "            0\n",
    "        )\n",
    "    )\n",
    "    \"\"\"\n",
    "    if k>0 \n",
    "        if j+1 <= length(nodes)\n",
    "            X_local += (x-nodes[j])/(nodes[j+k]-nodes[j])*Spline(x,j,k-1,nodes) \n",
    "        end\n",
    "        if j+k+1 <= length(nodes)\n",
    "            X_local += X_local + (nodes[j+k+1]-x)/(nodes[j+k+1]-nodes[j+1])*Spline(x,j+1,k-1,nodes)\n",
    "        end      \n",
    "    elseif k==0\n",
    "        if j>=1 && j+1 <=length(nodes) && nodes[j] <= x < nodes[j+1]\n",
    "            X_local = 1.e0\n",
    "        end\n",
    "    end\n",
    "    \"\"\"\n",
    "end"
   ]
  },
  {
   "cell_type": "code",
   "execution_count": null,
   "metadata": {},
   "outputs": [],
   "source": [
    "ϕᵐ(x¹) = Spline(x¹,L₁ₗ+1,1,ξ¹) # x₁ direction linear spline function\n",
    "ψⁿ(t) = Spline(t,Lₜₗ+1,1,τ)"
   ]
  },
  {
   "cell_type": "code",
   "execution_count": null,
   "metadata": {},
   "outputs": [],
   "source": [
    "ϕᵐ(x¹)"
   ]
  },
  {
   "cell_type": "code",
   "execution_count": null,
   "metadata": {},
   "outputs": [],
   "source": [
    "u(x¹-ξ¹[L₁ₗ+1] , t-τ[Lₜₗ+1])"
   ]
  },
  {
   "cell_type": "code",
   "execution_count": null,
   "metadata": {},
   "outputs": [],
   "source": [
    "ρ(x¹-ξ¹[L₁ₗ+1])"
   ]
  },
  {
   "cell_type": "code",
   "execution_count": null,
   "metadata": {},
   "outputs": [],
   "source": []
  },
  {
   "cell_type": "code",
   "execution_count": null,
   "metadata": {},
   "outputs": [],
   "source": []
  },
  {
   "cell_type": "markdown",
   "metadata": {},
   "source": []
  },
  {
   "cell_type": "markdown",
   "metadata": {},
   "source": []
  },
  {
   "cell_type": "code",
   "execution_count": null,
   "metadata": {},
   "outputs": [],
   "source": []
  },
  {
   "cell_type": "code",
   "execution_count": null,
   "metadata": {},
   "outputs": [],
   "source": [
    "@variables x t Δx Δt f ρₒ μₒ uₒ\n",
    "@syms ρ(x) μ(x)\n",
    "∂ₜ = Differential(t)\n",
    "∂ₓ = Differential(x)\n",
    "\n",
    "Taylorₓ(f,order) = f+sum((∂ₓ^i)(f(x))*Δx^i/factorial(BigInt(i)) for i in 1:order)\n",
    "Taylorₜ(f,order) = f+sum((∂ₜ^i)f*Δt^i/factorial(BigInt(i)) for i in 1:order)\n",
    "Taylorₓₜ(f,order) = f+sum((∂ₓ^i)(f)*Δx^i/factorial(BigInt(i)) for i in 1:order) + sum((∂ₜ^i)(f)*Δt^i/factorial(BigInt(i)) for i in 1:order) +sum(sum((∂ₜ^k)((∂ₓ^i)(f))*Δx^i/factorial(BigInt(i))*Δt^k/factorial(BigInt(k)) for i in 1:order) for k in 1:order)\n",
    "DerivativeₓTaylorₓ(f,order) = sum((∂ₓ^i)(f)*Δx^(i-1)/factorial(BigInt(i-1)) for i in 1:order)\n",
    "DerivativeₜTaylorₜ(f,order) = sum((∂ₓ^i)(f)*Δt^(i-1)/factorial(BigInt(i-1)) for i in 1:order)\n",
    "DerivativeₓTaylorₓₜ(f,order) = sum((∂ₓ^i)(f)*Δx^(i-1)/factorial(BigInt(i-1)) for i in 1:order) + +sum(sum((∂ₜ^k)((∂ₓ^i)(f))*Δx^(i-1)/factorial(BigInt(i-1))*Δt^k/factorial(BigInt(k)) for i in 1:order) for k in 1:order)\n",
    "DerivativeₜTaylorₓₜ(f,order) = sum((∂ₜ^i)(f)*Δt^(i-1)/factorial(BigInt(i-1)) for i in 1:order) + +sum(sum((∂ₜ^k)((∂ₓ^i)(f))*Δx^i/factorial(BigInt(i-1))*Δt^(k-1)/factorial(BigInt(k-1)) for i in 1:order) for k in 1:order)"
   ]
  },
  {
   "cell_type": "code",
   "execution_count": null,
   "metadata": {},
   "outputs": [],
   "source": [
    "@variables xₘ tₙ\n",
    "u=substitute(Taylorₓₜ(uₒ,4),Dict(Δx=>x-xₘ, Δt=>t-tₙ))\n",
    "ρ=substitute(Taylorₓ(ρ₀,4),Dict(Δx=>x-xₘ))\n",
    "μ=substitute(Taylorₓ(μ₀,4),Dict(Δx=>x-xₘ))\n",
    "u₁=substitute(DerivativeₓTaylorₓₜ(uₒ,4),Dict(Δx=>x-xₘ, Δt=>t-tₙ))\n"
   ]
  },
  {
   "cell_type": "code",
   "execution_count": null,
   "metadata": {},
   "outputs": [],
   "source": [
    "@syms ρ(x,t) xₘ\n",
    "tmpTaylor(f,order)=(∂ₓ^2)(f(x,t)) |>expand_derivatives\n",
    "z(x,t)=tmpTaylor(ρ,2)\n",
    "z(xₘ,t)\n"
   ]
  },
  {
   "cell_type": "code",
   "execution_count": null,
   "metadata": {},
   "outputs": [],
   "source": [
    "Differential(x)(x^2) |>expand_derivatives"
   ]
  },
  {
   "cell_type": "code",
   "execution_count": null,
   "metadata": {},
   "outputs": [],
   "source": []
  }
 ],
 "metadata": {
  "kernelspec": {
   "display_name": "Julia 1.9.2",
   "language": "julia",
   "name": "julia-1.9"
  },
  "language_info": {
   "file_extension": ".jl",
   "mimetype": "application/julia",
   "name": "julia",
   "version": "1.9.2"
  }
 },
 "nbformat": 4,
 "nbformat_minor": 2
}
