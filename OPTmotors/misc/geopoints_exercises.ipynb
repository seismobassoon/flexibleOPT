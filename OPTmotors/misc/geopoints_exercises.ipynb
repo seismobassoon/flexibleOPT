{
 "cells": [
  {
   "cell_type": "markdown",
   "id": "36ba2546",
   "metadata": {},
   "source": [
    "# constructing 2D/3D local box using GeoPoints.jl and getTopo.jl (make_2Dtable_From1DEarthModels.ipynb is the source of reflexion)\n",
    "\n",
    "Nobuaki Fuji October 2025"
   ]
  },
  {
   "cell_type": "code",
   "execution_count": 1,
   "id": "e5a8da10",
   "metadata": {},
   "outputs": [
    {
     "name": "stderr",
     "output_type": "stream",
     "text": [
      "\u001b[32m\u001b[1m  Activating\u001b[22m\u001b[39m project at `~/Documents/Github/flexibleDSM`\n",
      "┌ Info: Including with Revise: ../src/batchDrWatson.jl\n",
      "└ @ Main /Users/nobuaki/Documents/Github/flexibleDSM/OPTmotors/src/batchRevise.jl:25\n",
      "┌ Info: Including with Revise: ../src/DSM1D.jl\n",
      "└ @ Main /Users/nobuaki/Documents/Github/flexibleDSM/OPTmotors/src/batchRevise.jl:25\n"
     ]
    },
    {
     "name": "stdout",
     "output_type": "stream",
     "text": [
      "  0.005087 seconds (2.17 k allocations: 108.156 KiB, 72.30% compilation time)\n"
     ]
    },
    {
     "name": "stderr",
     "output_type": "stream",
     "text": [
      "┌ Info: Including with Revise: ../src/GeoPoints.jl\n",
      "└ @ Main /Users/nobuaki/Documents/Github/flexibleDSM/OPTmotors/src/batchRevise.jl:25\n"
     ]
    }
   ],
   "source": [
    "using Pkg\n",
    "\n",
    "\n",
    "cd(@__DIR__)\n",
    "Pkg.activate(\"../..\")\n",
    "ParamFile = \"../test/testparam.csv\"\n",
    "include(\"../src/batchRevise.jl\") \n",
    "\n",
    "myInclude(\"../src/batchDrWatson.jl\")\n",
    "myInclude(\"../src/DSM1D.jl\")\n",
    "myInclude(\"../src/GeoPoints.jl\")\n",
    "using .DSM1D"
   ]
  },
  {
   "cell_type": "code",
   "execution_count": 2,
   "id": "11c224fb",
   "metadata": {},
   "outputs": [
    {
     "data": {
      "text/plain": [
       "GeoPoint(42.8, 1.5, 0.0, [4.685471521507066e6, 122693.38977684297, 4.311226014004833e6], 6.368309570881481e6)"
      ]
     },
     "metadata": {},
     "output_type": "display_data"
    }
   ],
   "source": [
    "# two (extreme) points that can define the slice (or the x-y local plane for 3D box)\n",
    "p1 = GeoPoint(48.8566,2.3522) # Paris\n",
    "p2 = GeoPoint(42.8,1.5) # Tarascon (à peu près)"
   ]
  },
  {
   "cell_type": "code",
   "execution_count": 4,
   "id": "e8364c95",
   "metadata": {},
   "outputs": [
    {
     "data": {
      "text/plain": [
       "3×3 SMatrix{3, 3, Float64, 9} with indices SOneTo(3)×SOneTo(3):\n",
       "  0.714366    0.0366293  0.698813\n",
       " -0.0738342   0.997      0.0232183\n",
       " -0.695866   -0.0681827  0.714928"
      ]
     },
     "metadata": {},
     "output_type": "display_data"
    }
   ],
   "source": [
    "makeLocalCoordinates(p1,p2)"
   ]
  }
 ],
 "metadata": {
  "kernelspec": {
   "display_name": "Julia 1.11.7",
   "language": "julia",
   "name": "julia-1.11"
  },
  "language_info": {
   "file_extension": ".jl",
   "mimetype": "application/julia",
   "name": "julia",
   "version": "1.11.7"
  }
 },
 "nbformat": 4,
 "nbformat_minor": 5
}
