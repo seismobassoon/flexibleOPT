{
 "cells": [
  {
   "cell_type": "code",
   "execution_count": null,
   "metadata": {},
   "outputs": [],
   "source": [
    "\n",
    "using Symbolics\n",
    "using SymbolicNumericIntegration\n",
    "using IfElsed"
   ]
  },
  {
   "cell_type": "code",
   "execution_count": 3,
   "metadata": {},
   "outputs": [
    {
     "data": {
      "text/latex": [
       "$$ \\begin{equation}\n",
       "\\left[\n",
       "\\begin{array}{c}\n",
       "k \\\\\n",
       "j \\\\\n",
       "\\end{array}\n",
       "\\right]\n",
       "\\end{equation}\n",
       " $$"
      ],
      "text/plain": [
       "2-element Vector{Num}:\n",
       " k\n",
       " j"
      ]
     },
     "metadata": {},
     "output_type": "display_data"
    }
   ],
   "source": [
    "@variables x\n",
    "m = 15 # the midpoint to evaluate the operator at\n",
    "L₁ = 2\n",
    "L₂ = 2\n",
    "@variables ξₓ[1:L₁+L₂+1] \n",
    "\n",
    "@variables k,j\n"
   ]
  },
  {
   "cell_type": "code",
   "execution_count": 4,
   "metadata": {},
   "outputs": [
    {
     "data": {
      "text/plain": [
       "Spline (generic function with 1 method)"
      ]
     },
     "metadata": {},
     "output_type": "display_data"
    }
   ],
   "source": [
    "# Here we propose some functions to use for the test/basis functions\n",
    "\n",
    "function TruncatedSinc(x,scaling_factor=1)\n",
    "    # if scaling_factor is 1, then the sinc function is scaled by π and has 0 every node=1\n",
    "    #  (i.e. the sinc function is sin(π*x)/(π*x)\n",
    "    # if we change the scaling_factor then the node interval is multiplied by the scaling_factor\n",
    "    # if scaling_factor is 0, then the sinc function is unscaled (i.e. the sinc function is sin(x)/x)\n",
    "\n",
    "    x=x/scaling_factor\n",
    "    IfElse.ifelse(x==0,1,sin(π*x)/(π*x))\n",
    "end\n",
    "\n",
    "\n",
    "function Spline(x,j,k,nodes)\n",
    "    IfElse.ifelse(k>0,\n",
    "        IfElse.ifelse(j+1 <= length(nodes),\n",
    "            (x-nodes[j])/(nodes[j+k]-nodes[j])*Spline(x,j,k-1,nodes),\n",
    "            0\n",
    "        )+\n",
    "        IfElse.ifelse(j+k+1 <= length(nodes),\n",
    "            (nodes[j+k+1]-x)/(nodes[j+k+1]-nodes[j+1])*Spline(x,j+1,k-1,nodes),\n",
    "            0\n",
    "        ),\n",
    "        IfElse.ifelse(j>=1 && j+1 <=length(nodes) && nodes[j] <= x < nodes[j+1],\n",
    "            1,\n",
    "            0\n",
    "        )\n",
    "    )\n",
    "    \"\"\"\n",
    "    if k>0 \n",
    "        if j+1 <= length(nodes)\n",
    "            X_local += (x-nodes[j])/(nodes[j+k]-nodes[j])*Spline(x,j,k-1,nodes) \n",
    "        end\n",
    "        if j+k+1 <= length(nodes)\n",
    "            X_local += X_local + (nodes[j+k+1]-x)/(nodes[j+k+1]-nodes[j+1])*Spline(x,j+1,k-1,nodes)\n",
    "        end      \n",
    "    elseif k==0\n",
    "        if j>=1 && j+1 <=length(nodes) && nodes[j] <= x < nodes[j+1]\n",
    "            X_local = 1.e0\n",
    "        end\n",
    "    end\n",
    "    \"\"\"\n",
    "end"
   ]
  },
  {
   "cell_type": "code",
   "execution_count": 9,
   "metadata": {},
   "outputs": [
    {
     "data": {
      "text/latex": [
       "$$ \\begin{equation}\n",
       "\\mathrm{ifelse}\\left( 0, \\frac{3.141592653589793 \\cos\\left( \\pi x \\right)}{\\pi x} + \\frac{ - 3.141592653589793 \\sin\\left( \\pi x \\right)}{9.869604401089358 x^{2}}; \\left( x = 0 \\right) \\right)\n",
       "\\end{equation}\n",
       " $$"
      ],
      "text/plain": [
       "ifelse(x == 0, 0, (3.141592653589793cos(πx)) / (πx) + (-3.141592653589793sin(πx)) / (9.869604401089358(x^2)))"
      ]
     },
     "metadata": {},
     "output_type": "display_data"
    }
   ],
   "source": [
    "TruncatedSinc(x,1)\n",
    "Symbolics.derivative(TruncatedSinc(x,1),x)"
   ]
  },
  {
   "cell_type": "code",
   "execution_count": 8,
   "metadata": {},
   "outputs": [
    {
     "ename": "DivideError",
     "evalue": "DivideError: integer division error",
     "output_type": "error",
     "traceback": [
      "DivideError: integer division error\n",
      "\n",
      "Stacktrace:\n",
      " [1] div\n",
      "   @ ./int.jl:295 [inlined]\n",
      " [2] divgcd(x::Int64, y::Int64)\n",
      "   @ Base ./rational.jl:45\n",
      " [3] *\n",
      "   @ ./rational.jl:357 [inlined]\n",
      " [4] *(a::Rational{Int64}, b::SymbolicUtils.Add{Real, Int64, Dict{Any, Number}, Nothing})\n",
      "   @ SymbolicUtils ~/.julia/packages/SymbolicUtils/qulQp/src/types.jl:881\n",
      " [5] /(a::SymbolicUtils.Add{Real, Int64, Dict{Any, Number}, Nothing}, b::Int64)\n",
      "   @ SymbolicUtils ~/.julia/packages/SymbolicUtils/qulQp/src/types.jl:893\n",
      " [6] /(a::Num, b::Num)\n",
      "   @ Symbolics ~/.julia/packages/SymbolicUtils/qulQp/src/methods.jl:53\n",
      " [7] Spline(x::Num, j::Int64, k::Int64, nodes::Symbolics.Arr{Num, 1})\n",
      "   @ Main ~/Documents/Github/flexibleDSM/DSM1D/misc/GT951DSH.ipynb:15\n",
      " [8] top-level scope\n",
      "   @ ~/Documents/Github/flexibleDSM/DSM1D/misc/GT951DSH.ipynb:1"
     ]
    }
   ],
   "source": [
    "Spline(x,2,0,ξₓ)"
   ]
  },
  {
   "cell_type": "markdown",
   "metadata": {},
   "source": []
  }
 ],
 "metadata": {
  "kernelspec": {
   "display_name": "Julia 1.9.2",
   "language": "julia",
   "name": "julia-1.9"
  },
  "language_info": {
   "file_extension": ".jl",
   "mimetype": "application/julia",
   "name": "julia",
   "version": "1.9.2"
  }
 },
 "nbformat": 4,
 "nbformat_minor": 2
}
