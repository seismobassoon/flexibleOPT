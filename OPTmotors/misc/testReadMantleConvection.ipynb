{
 "cells": [
  {
   "cell_type": "markdown",
   "metadata": {},
   "source": [
    "# Here I need to translate OutSanomalies.m\n",
    "\n",
    "\n",
    "\n"
   ]
  },
  {
   "cell_type": "code",
   "execution_count": 7,
   "metadata": {},
   "outputs": [],
   "source": [
    "using GLMakie,Makie"
   ]
  },
  {
   "cell_type": "code",
   "execution_count": 9,
   "metadata": {},
   "outputs": [],
   "source": [
    "directory=\"/Users/nobuaki/Documents/MantleConvectionTakashi/toy_models_2D/\"\n",
    "file_header=\"test_bs\" # basalt composition\n",
    "# now we make an array of files with directory that start with file_header\n",
    "#files = readdir(directory)  # get all files in the directory\n",
    "files = filter(file -> startswith(file, file_header), readdir(directory)) ; # filter files that start with file_header\n",
    "\n"
   ]
  },
  {
   "cell_type": "code",
   "execution_count": 10,
   "metadata": {},
   "outputs": [
    {
     "name": "stdout",
     "output_type": "stream",
     "text": [
      "scalardata okUInt6411\n",
      "1,1024,128npi=4096"
     ]
    }
   ],
   "source": [
    "# test one file\n",
    "file = directory*files[1]\n",
    "scalardata=true\n",
    "FileFormat = \"n\" # n-native, default, l-little endian, b-big endian\n",
    "nval=0 # to initialise nval\n",
    "\n",
    "# this is Julia version of ReadStag3D2.m (Boris Kaus, Paul Tackley +) until June 2021\n",
    "\n",
    "if scalardata\n",
    "    nval=1\n",
    "    print(\"scalardata ok\")\n",
    "else\n",
    "    nval=4\n",
    "    print(\"scalardata ng\")\n",
    "end\n",
    "\n",
    "# Read header\n",
    "f=open(file,\"r\")\n",
    "magic=read(f,UInt32)\n",
    "\n",
    "if magic > 8000\n",
    "    INTSTR=UInt64\n",
    "    FLTSTR=Float64\n",
    "    magic=magic-8000\n",
    "    read(f,UInt32)\n",
    "else\n",
    "    INTSTR=UInt64\n",
    "    FLTSTR=Float32\n",
    "end\n",
    "print(INTSTR)\n",
    "println(magic)\n",
    "if (magic<100 && nval>1) || (magic>300 && nval==1)\n",
    "    error(\"wrong number of components in field\")\n",
    "end\n",
    "magic = mod(magic, 100)\n",
    "xyp=0\n",
    "if magic >=9 && nval==4\n",
    "    xyp = 1\n",
    "end\n",
    "\n",
    "\n",
    "nxtot=read(f,INTSTR)\n",
    "nytot=read(f,INTSTR)\n",
    "nztot=read(f,INTSTR)\n",
    "nblocks=read(f,INTSTR) # 2 for Yinyang\n",
    "aspect=Array{FLTSTR,1}(undef,2)\n",
    "read!(f,aspect)\n",
    "nnx=read(f,INTSTR)\n",
    "nny=read(f,INTSTR)\n",
    "nnz=read(f,INTSTR)\n",
    "nnb=read(f,INTSTR)\n",
    "\n",
    "nz2=nztot*2+1\n",
    "zg=Array{FLTSTR,1}(undef,nz2)\n",
    "read!(f,zg)\n",
    "\n",
    "# compute nx, ny, nz and nb per CPU\n",
    "\n",
    "nx=div(nxtot,nnx)\n",
    "ny=div(nytot,nny)\n",
    "nz=div(nztot,nnz)\n",
    "nb=div(nblocks,nnb)\n",
    "npi=(nx+xyp)*(ny+xyp)*nz*nb*nval\n",
    "\n",
    "rcmb=read(f,FLTSTR)\n",
    "istep=read(f,INTSTR)\n",
    "time=read(f,FLTSTR)\n",
    "erupta_total=read(f,FLTSTR)\n",
    "botT_val=read(f,FLTSTR)\n",
    "T_core = nothing\n",
    "if magic >= 10\n",
    "    T_core = read(f,FLTSTR)\n",
    "end\n",
    "\n",
    "x=Array{FLTSTR,1}(undef,nxtot)\n",
    "y=Array{FLTSTR,1}(undef,nytot)\n",
    "z=Array{FLTSTR,1}(undef,nztot)\n",
    "\n",
    "# read the parallel blocks\n",
    "DATA_3D = nothing\n",
    "scalefac = nothing\n",
    "VX_3D = nothing \n",
    "VY_3D = nothing\n",
    "VZ_3D = nothing\n",
    "P_3D = nothing # pressure data\n",
    "if scalardata\n",
    "    DATA_3D=zeros(FLTSTR,nxtot,nytot,nztot)\n",
    "else\n",
    "    scalefac=read(f,FLTSTR)\n",
    "    VX_3D = zeros(FLTSTR,nxtot,nytot,nztot)\n",
    "    VY_3D = zeros(FLTSTR,nxtot,nytot,nztot)\n",
    "    VZ_3D = zeros(FLTSTR,nxtot,nytot,nztot)\n",
    "    P_3D = zeros(FLTSTR,nxtot,nytot,nztot)\n",
    "end\n",
    "print(nxtot,\",\",nytot,\",\",nztot,\"npi=\",npi)\n",
    "if scalardata # NF changed the if-clause out of 1000000000 for loops\n",
    "    for ibc in 1:nnb\n",
    "        for izc in 1:nnz\n",
    "            for iyc in 1:nny\n",
    "                for ixc in 1:nnx\n",
    "                    data_CPU=Array{FLTSTR,1}(undef,npi) # read the data for 'this' CPU\n",
    "                    read!(f,data_CPU)\n",
    "                    # create a 3D matrix from these data\n",
    "\n",
    "                    data_CPU_3D = reshape(data_CPU,(nx,ny,nz,nb))\n",
    "                    \n",
    "                    # add local 3D matrix to global matrix\n",
    "                    \n",
    "                    DATA_3D[(ixc-1)*nx+1:ixc*nx,(iyc-1)*ny+1:iyc*ny,(izc-1)*nz+1:izc*nz,(ibc-1)*nb+1,ibc*nb] = data_CPU_3D\n",
    "\n",
    "                end\n",
    "            end\n",
    "        end\n",
    "    end\n",
    "else\n",
    "    for ibc in 1:nnb\n",
    "        for izc in 1:nnz\n",
    "            for iyc in 1:nny\n",
    "                for ixc in 1:nnx\n",
    "                    data_CPU=Array{FLTSTR,1}(undef,npi) # read the data for 'this' CPU\n",
    "                    read!(f,data_CPU)\n",
    "                    # create a 3D matrix from these data\n",
    "                    \n",
    "                    data_CPU_3D = reshape(data_CPU*scalefac,(nval,nx+xyp,ny+xyp,nz,nb))\n",
    "   \n",
    "                    # add local 3D matrix to global matrix\n",
    "                    \n",
    "                    VX_3D[(ixc-1)*nx + (1:nx), (iyc-1)*ny +  (1:ny), (izc-1)*nz + (1:nz), (ibc-1)*nb + (1:nb)] = data_CPU_3D[1,1:nx,1:ny,:,:]\n",
    "                    VY_3D[(ixc-1)*nx + (1:nx), (iyc-1)*ny +  (1:ny), (izc-1)*nz + (1:nz), (ibc-1)*nb + (1:nb)] = data_CPU_3D[2,1:nx,1:ny,:,:]\n",
    "                    VZ_3D[(ixc-1)*nx + (1:nx), (iyc-1)*ny +  (1:ny), (izc-1)*nz + (1:nz), (ibc-1)*nb + (1:nb)] = data_CPU_3D[3,1:nx,1:ny,:,:]\n",
    "                    P_3D[(ixc-1)*nx + (1:nx), (iyc-1)*ny +  (1:ny), (izc-1)*nz + (1:nz), (ibc-1)*nb + (1:nb)] = data_CPU_3D[4,1:nx,1:ny,:,:]\n",
    "\n",
    "                end\n",
    "            end\n",
    "        end\n",
    "    end\n",
    "end\n",
    "\n",
    "\n",
    "\n",
    "close(f)\n",
    "\n",
    "\n"
   ]
  },
  {
   "cell_type": "code",
   "execution_count": 1,
   "metadata": {},
   "outputs": [
    {
     "ename": "UndefVarError",
     "evalue": "UndefVarError: `GLMakie` not defined",
     "output_type": "error",
     "traceback": [
      "UndefVarError: `GLMakie` not defined\n",
      "\n",
      "Stacktrace:\n",
      " [1] top-level scope\n",
      "   @ ~/Documents/Github/flexibleDSM/DSM1D/misc/testReadMantleConvection.ipynb:1"
     ]
    }
   ],
   "source": [
    "GLMakie.activate!()\n",
    "#scene=Scene(backgroundcolor=:gray)\n",
    "n=10\n",
    "X,Y,Z=randn(n),randn(n),randn(n)\n",
    "アスペクト=(1,1,1)\n",
    "perspectiveness=0.5\n",
    "ax=Axis3(; アスペクト,perspectiveness)\n",
    "meshscatter!(ax,x,y,z;markersize=0.25)\n",
    "#scene"
   ]
  },
  {
   "cell_type": "code",
   "execution_count": null,
   "metadata": {},
   "outputs": [],
   "source": [
    "function readStag3D(filename,attribute)\n",
    "\n",
    "\n",
    "end "
   ]
  },
  {
   "cell_type": "code",
   "execution_count": 21,
   "metadata": {},
   "outputs": [
    {
     "data": {
      "text/plain": [
       "3-element Vector{Float64}:\n",
       " 0.1\n",
       " 0.2\n",
       " 0.30000000000000004"
      ]
     },
     "metadata": {},
     "output_type": "display_data"
    }
   ],
   "source": [
    "w*0.1"
   ]
  },
  {
   "cell_type": "code",
   "execution_count": null,
   "metadata": {},
   "outputs": [],
   "source": []
  }
 ],
 "metadata": {
  "kernelspec": {
   "display_name": "Julia 1.9.2",
   "language": "julia",
   "name": "julia-1.9"
  },
  "language_info": {
   "file_extension": ".jl",
   "mimetype": "application/julia",
   "name": "julia",
   "version": "1.9.2"
  }
 },
 "nbformat": 4,
 "nbformat_minor": 2
}
