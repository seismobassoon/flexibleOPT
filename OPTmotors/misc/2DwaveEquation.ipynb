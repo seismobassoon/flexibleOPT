{
 "cells": [
  {
   "cell_type": "code",
   "execution_count": null,
   "metadata": {},
   "outputs": [
    {
     "ename": "",
     "evalue": "",
     "output_type": "error",
     "traceback": [
      "\u001b[1;31mÉchec du démarrage du Kernel. \n",
      "\u001b[1;31mImpossible de démarrer le noyau « Julia 1.11.3 » en raison d’un délai d’attente d’utilisation des ports. \n",
      "\u001b[1;31mPour plus d’informations, consultez Jupyter <a href='command:jupyter.viewOutput'>log</a>."
     ]
    }
   ],
   "source": [
    "using Symbolics"
   ]
  },
  {
   "cell_type": "code",
   "execution_count": 2,
   "metadata": {},
   "outputs": [
    {
     "data": {
      "text/plain": [
       "integrateTaylorPolynomials (generic function with 1 method)"
      ]
     },
     "metadata": {},
     "output_type": "display_data"
    }
   ],
   "source": [
    "function integrateTaylorPolynomials(eq::Num, x::Num)\n",
    "    # this function works only for (positive) polynomials \n",
    "    #\n",
    "    # the function needs only Symbolics.jl\n",
    "    #\n",
    "    # Since the Symbolics.coeff does not support expression with division, lowestNegativeOrder::Int option should be implemented afterwards\n",
    "\n",
    "    lowestNegativeOrder::Int=0\n",
    "    eq = simplify(eq;expand=true,polynorm=true)\n",
    "    eqval=Symbolics.value(eq)\n",
    "    \n",
    "\n",
    "    # The above statement is to switch off the negative orders integral\n",
    "    \n",
    "    if Symbolics.isdiv(eqval)\n",
    "        eq=eqval.num \n",
    "        denominator=eqval.den \n",
    "    else \n",
    "        denominator =1\n",
    "    end\n",
    "    highestOrder=Symbolics.degree(eq,x)\n",
    "   \n",
    "    tmpeq = eq\n",
    "    neweq = 0\n",
    "    if highestOrder>0\n",
    "        for i in 1:highestOrder\n",
    "            old_coef=Symbolics.coeff(eq,x^i)\n",
    "            tmpeq-=old_coef*x^i\n",
    "            new_coef=old_coef//(i+1)\n",
    "            neweq+=new_coef*x^(i+1)        \n",
    "        end\n",
    "    end\n",
    "    \n",
    "    if lowestNegativeOrder<0\n",
    "        old_coef=Symbolics.coeff(eq,x^(-1))\n",
    "        tmpeq-=old_coef*x^(-1)\n",
    "        new_coef=old_coef\n",
    "        neweq+=new_coef*log(x)\n",
    "\n",
    "        if lowestNegativeOrder<1\n",
    "            for i in lowestNegativeOrder:-2\n",
    "                old_coef=Symbolics.coeff(eq,x^i)\n",
    "                tmpeq-=old_coef*x^i\n",
    "                new_coef=old_coef//(i+1)\n",
    "                neweq+=new_coef*x^(i+1)\n",
    "            end\n",
    "        end\n",
    "    end\n",
    "\n",
    "    # the rest of tmpeq should be the constant\n",
    "    neweq+=tmpeq*x\n",
    "    neweq/=denominator\n",
    "    return simplify(neweq;expand=true)\n",
    "end"
   ]
  },
  {
   "cell_type": "code",
   "execution_count": 3,
   "metadata": {},
   "outputs": [
    {
     "data": {
      "text/plain": [
       "ignoreHigherOrderTerms (generic function with 1 method)"
      ]
     },
     "metadata": {},
     "output_type": "display_data"
    }
   ],
   "source": [
    "function ignoreHigherOrderTerms(eq::Num,x::Num,highestOrderForConsideration::Int)\n",
    "    eq = simplify(eq;expand=true,polynorm=true)\n",
    "    eqval=Symbolics.value(eq)\n",
    "\n",
    "\n",
    "    # The above statement is to switch off the negative orders integral\n",
    "    \n",
    "    if Symbolics.isdiv(eqval)\n",
    "        eq=eqval.num \n",
    "        denominator=eqval.den \n",
    "    else \n",
    "        denominator =1\n",
    "    end\n",
    "    highestOrder=Symbolics.degree(eq,x)\n",
    "\n",
    "    highestOrderForConsideration > 0 || error(\"highestOrderForConsideration should be positive\")\n",
    "    highestOrderForConsideration<highestOrder || return eq/denominator\n",
    "    tmpeq=eq\n",
    "    for i in highestOrderForConsideration+1:highestOrder\n",
    "\n",
    "        old_coef=Symbolics.coeff(eq,x^i)\n",
    "\n",
    "        tmpeq-=old_coef*x^i\n",
    "    end\n",
    "    neweq=tmpeq/denominator\n",
    "    return simplify(neweq; expand=true)\n",
    "end\n",
    "        "
   ]
  },
  {
   "cell_type": "code",
   "execution_count": 4,
   "metadata": {},
   "outputs": [
    {
     "data": {
      "text/plain": [
       "u (generic function with 1 method)"
      ]
     },
     "metadata": {},
     "output_type": "display_data"
    }
   ],
   "source": [
    "orderUtime=4\n",
    "orderUspace=4\n",
    "#m = 15 # the midpoint to evaluate the operator at\n",
    "L₁ₗ = 1 # the leftmost point for x1 direction\n",
    "L₁ᵣ = 1 # the rightmost point\n",
    "L₂ₗ = 1 # the leftmost point for x2 direction\n",
    "L₂ᵣ = 1 # the right most point\n",
    "Lₜₗ = 1 # the leftmost point for t direction\n",
    "Lₜᵣ = 1 # the rightmost point\n",
    "\n",
    "\n",
    "orderStructure=L₁ₗ+L₁ᵣ # number of nodes minus one\n",
    "\n",
    "@variables dx₁ dx₂ dt   \n",
    "@variables Cᴾ[1:orderStructure+1,1:orderStructure+1] Cᴹ[1:2,1:2,1:orderStructure+1,1:orderStructure+1] Cᵘ[1:orderUspace+1,1:orderStructure+1,1:orderUtime+1] # These are the derivatives at the node point xₘ, tₙ\n",
    "#@variables x¹ t\n",
    "\n",
    "\n",
    "\n",
    "\n",
    "#@variables ξ¹[1:L₁ₗ+L₁ᵣ+1]  τ[1:Lₜₗ+Lₜᵣ+1] # These are the node points in the spatial and time domain\n",
    "#@variables ξ¹ₘ[-L₁ₗ:L₁ᵣ] τₙ[-L₁ₗ:L₁ᵣ] ρₘ[-L₁ₗ:L₁ᵣ] μₘ[-L₁ₗ:L₁ᵣ]\n",
    "ξ¹ = Symbolics.variables(:ξ¹,-L₁ₗ:L₁ᵣ) # nodes in space (x₁ direction)\n",
    "ξ² = Symbolics.variables(:ξ²,-L₂ₗ:L₂ᵣ) # nodes in space (x₁ direction)\n",
    "τ = Symbolics.variables(:τ,-Lₜₗ:Lₜᵣ) # nodes in time\n",
    "ρ = Symbolics.variables(:ρ,-L₁ₗ:L₁ᵣ)\n",
    "Λ = Symbolics.variables(:Λ,1:2,1:2,-L₁ₗ:L₁ᵣ,-L₂ₗ:L₂ᵣ)\n",
    "u= Symbolics.variables(:u,1:2,-L₁ₗ:L₁ᵣ,-L₂ₗ:L₂ᵣ,-Lₜₗ:Lₜᵣ)\n",
    "A= Symbolics.variables(:A,-L₁ₗ:L₁ᵣ,-L₂ₗ:L₂ᵣ,-Lₜₗ:Lₜᵣ)\n",
    "\n",
    "\n",
    "ρ(dx₁,dx₂) = sum(sum(Cᴾ[i] * dx₁^(i-1) * dx₂^(j-1) / factorial(BigInt(i-1)) for i in 1:orderStructure+1)\n",
    "μ(dx₁,dx₂) = sum(Cᴹ[i] * dx₁^(i-1) / factorial(BigInt(i-1)) for i in 1:orderStructure+1)\n",
    "u(dx₁,dt) = sum(sum(Cᵘ[i,j] * dx₁^(i-1) * dt^(j-1) / factorial(BigInt(i-1)) / factorial(BigInt(j-1)) for i in 1:orderUspace+1) for j in 1:orderUtime+1)"
   ]
  },
  {
   "cell_type": "code",
   "execution_count": null,
   "metadata": {},
   "outputs": [],
   "source": []
  }
 ],
 "metadata": {
  "kernelspec": {
   "display_name": "Julia 1.11.3",
   "language": "julia",
   "name": "julia-1.11"
  },
  "language_info": {
   "file_extension": ".jl",
   "mimetype": "application/julia",
   "name": "julia",
   "version": "1.10.2"
  }
 },
 "nbformat": 4,
 "nbformat_minor": 2
}
