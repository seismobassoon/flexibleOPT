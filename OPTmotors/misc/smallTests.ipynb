{
 "cells": [
  {
   "cell_type": "code",
   "execution_count": 1,
   "metadata": {},
   "outputs": [],
   "source": [
    "mutable struct Input\n",
    "    modelFile::String\n",
    "    averagedPlanetRadius::Float64\n",
    "    timeWindow::Float64\n",
    "    omegai::Float64\n",
    "    ωᵣ::Array{Float64,1}\n",
    "    GUIoption::Bool\n",
    "    Input() = new()\n",
    "end"
   ]
  },
  {
   "cell_type": "code",
   "execution_count": 2,
   "metadata": {},
   "outputs": [
    {
     "data": {
      "text/plain": [
       "Input(#undef, 0.0, 4.95825e-319, 0.0, #undef, false)"
      ]
     },
     "metadata": {},
     "output_type": "display_data"
    }
   ],
   "source": [
    "input=Input()"
   ]
  },
  {
   "cell_type": "code",
   "execution_count": 3,
   "metadata": {},
   "outputs": [
    {
     "data": {
      "text/plain": [
       "\"model.txt\""
      ]
     },
     "metadata": {},
     "output_type": "display_data"
    }
   ],
   "source": [
    "input.modelFile=\"model.txt\""
   ]
  },
  {
   "cell_type": "code",
   "execution_count": 4,
   "metadata": {},
   "outputs": [
    {
     "data": {
      "text/plain": [
       "Input(\"model.txt\", 1.0, 4.95825e-319, 0.0, #undef, false)"
      ]
     },
     "metadata": {},
     "output_type": "display_data"
    }
   ],
   "source": [
    "input.averagedPlanetRadius=1.0\n",
    "input"
   ]
  },
  {
   "cell_type": "code",
   "execution_count": 5,
   "metadata": {},
   "outputs": [
    {
     "data": {
      "text/plain": [
       "3-element Vector{Float64}:\n",
       " 0.0\n",
       " 0.0\n",
       " 0.0"
      ]
     },
     "metadata": {},
     "output_type": "display_data"
    }
   ],
   "source": [
    "input.ωᵣ=[0.0,0.0,0.0]"
   ]
  },
  {
   "cell_type": "code",
   "execution_count": 6,
   "metadata": {},
   "outputs": [
    {
     "data": {
      "text/plain": [
       "Input(\"model.txt\", 1.0, 4.95825e-319, 0.0, [0.0, 0.0, 0.0], false)"
      ]
     },
     "metadata": {},
     "output_type": "display_data"
    }
   ],
   "source": [
    "input"
   ]
  },
  {
   "cell_type": "code",
   "execution_count": 38,
   "metadata": {},
   "outputs": [
    {
     "data": {
      "text/plain": [
       "Irrational{:π}"
      ]
     },
     "metadata": {},
     "output_type": "display_data"
    }
   ],
   "source": [
    "π\n",
    "typeof(sqrt(12))\n",
    "typeof(π)"
   ]
  },
  {
   "cell_type": "code",
   "execution_count": 25,
   "metadata": {},
   "outputs": [
    {
     "data": {
      "text/plain": [
       "3276.8"
      ]
     },
     "metadata": {},
     "output_type": "display_data"
    }
   ],
   "source": [
    "minFrequencyMax=0.0\n",
    "maxFrequencyMin=0.078125\n",
    "\n",
    "tlen=3276.8"
   ]
  },
  {
   "cell_type": "code",
   "execution_count": 29,
   "metadata": {},
   "outputs": [
    {
     "data": {
      "text/plain": [
       "0.0019174759848570515:0.0019174759848570515:0.4908738521234052"
      ]
     },
     "metadata": {},
     "output_type": "display_data"
    }
   ],
   "source": [
    "dω=2.e0*π/tlen\n",
    "iEnd=2^trunc(Int64,log(maxFrequencyMin*tlen)/log(2.e0))\n",
    "if minFrequencyMax>0.e0\n",
    "    2^trunc(Int64,log(minFrequencyMax*tlen)/log(2.e0))\n",
    "else\n",
    "    iStart=1\n",
    "end\n",
    "angularFrequencyArray=range(dω*iStart,stop=dω*iEnd,length=iEnd-iStart+1)\n"
   ]
  },
  {
   "cell_type": "code",
   "execution_count": 52,
   "metadata": {},
   "outputs": [
    {
     "data": {
      "text/plain": [
       "3.4641016151377544"
      ]
     },
     "metadata": {},
     "output_type": "display_data"
    }
   ],
   "source": [
    "abs(sqrt(convert(ComplexF64,-12.0)))\n"
   ]
  },
  {
   "cell_type": "code",
   "execution_count": 61,
   "metadata": {},
   "outputs": [
    {
     "data": {
      "text/plain": [
       "15-element Vector{Char}:\n",
       " 'S': ASCII/Unicode U+0053 (category Lu: Letter, uppercase)\n",
       " 'F': ASCII/Unicode U+0046 (category Lu: Letter, uppercase)\n",
       " 'S': ASCII/Unicode U+0053 (category Lu: Letter, uppercase)\n",
       " 'F': ASCII/Unicode U+0046 (category Lu: Letter, uppercase)\n",
       " 'S': ASCII/Unicode U+0053 (category Lu: Letter, uppercase)\n",
       " 'S': ASCII/Unicode U+0053 (category Lu: Letter, uppercase)\n",
       " 'F': ASCII/Unicode U+0046 (category Lu: Letter, uppercase)\n",
       " 'S': ASCII/Unicode U+0053 (category Lu: Letter, uppercase)\n",
       " 'S': ASCII/Unicode U+0053 (category Lu: Letter, uppercase)\n",
       " 'S': ASCII/Unicode U+0053 (category Lu: Letter, uppercase)\n",
       " 'F': ASCII/Unicode U+0046 (category Lu: Letter, uppercase)\n",
       " 'S': ASCII/Unicode U+0053 (category Lu: Letter, uppercase)\n",
       " 'S': ASCII/Unicode U+0053 (category Lu: Letter, uppercase)\n",
       " 'S': ASCII/Unicode U+0053 (category Lu: Letter, uppercase)\n",
       " 'F': ASCII/Unicode U+0046 (category Lu: Letter, uppercase)"
      ]
     },
     "metadata": {},
     "output_type": "display_data"
    }
   ],
   "source": [
    "solidfluid=['S','F','S','F','S','S','F','S','S','S','F','S','S','S','F']"
   ]
  },
  {
   "cell_type": "code",
   "execution_count": 64,
   "metadata": {},
   "outputs": [
    {
     "name": "stdout",
     "output_type": "stream",
     "text": [
      "12\n",
      "13\n",
      "14\n"
     ]
    }
   ],
   "source": [
    "a=findall(x->x=='S',solidfluid)   \n",
    "n=length(a)\n",
    "for i in n:-1:2\n",
    "    #println(a[i]-a[i-1])\n",
    "    if(a[i]-a[i-1]>1)\n",
    "        iStart=i\n",
    "        break\n",
    "    end\n",
    "end\n",
    "#println(a[iStart:end])\n",
    "for i in a[iStart:end]\n",
    "    println(i)\n",
    "end"
   ]
  },
  {
   "cell_type": "code",
   "execution_count": 35,
   "metadata": {},
   "outputs": [
    {
     "data": {
      "text/plain": [
       "Input(\"model.txt\", 1.0, 4.95825e-319, 0.0, [0.0019174759848570515, 0.003834951969714103, 0.005752427954571154, 0.007669903939428206, 0.009587379924285258, 0.011504855909142308, 0.01342233189399936, 0.015339807878856412, 0.017257283863713464, 0.019174759848570515  …  0.47361656825969173, 0.47553404424454876, 0.4774515202294058, 0.4793689962142629, 0.4812864721991199, 0.483203948183977, 0.485121424168834, 0.48703890015369106, 0.48895637613854814, 0.4908738521234052], false)"
      ]
     },
     "metadata": {},
     "output_type": "display_data"
    }
   ],
   "source": [
    "struct mutable input\n",
    "    modelFile::String\n",
    "    averagedPlanetRadius::Float64\n",
    "    timeWindow::Float64\n",
    "    omegai::Float64\n",
    "    ωᵣ::Array{Float64,1}\n",
    "    GUIoption::Bool\n",
    "    input() = new()\n",
    "end\n",
    "input=Input()\n",
    "input.modelFile=\"model.txt\"\n",
    "input.averagedPlanetRadius=1.0\n",
    "input.ωᵣ=range(dω*iStart,stop=dω*iEnd,length=iEnd-iStart+1)\n",
    "input"
   ]
  },
  {
   "cell_type": "code",
   "execution_count": 39,
   "metadata": {},
   "outputs": [
    {
     "data": {
      "text/plain": [
       "true"
      ]
     },
     "metadata": {},
     "output_type": "display_data"
    }
   ],
   "source": [
    "Float64<:Any"
   ]
  },
  {
   "cell_type": "code",
   "execution_count": 40,
   "metadata": {},
   "outputs": [
    {
     "data": {
      "text/plain": [
       "true"
      ]
     },
     "metadata": {},
     "output_type": "display_data"
    }
   ],
   "source": [
    "ComplexF64<:Any"
   ]
  },
  {
   "cell_type": "code",
   "execution_count": 47,
   "metadata": {},
   "outputs": [
    {
     "data": {
      "text/plain": [
       "false"
      ]
     },
     "metadata": {},
     "output_type": "display_data"
    }
   ],
   "source": [
    "Array{Float64,1}<:Array{Any,1}\n"
   ]
  },
  {
   "cell_type": "code",
   "execution_count": null,
   "metadata": {},
   "outputs": [],
   "source": []
  }
 ],
 "metadata": {
  "kernelspec": {
   "display_name": "Julia 1.9.2",
   "language": "julia",
   "name": "julia-1.9"
  },
  "language_info": {
   "file_extension": ".jl",
   "mimetype": "application/julia",
   "name": "julia",
   "version": "1.9.2"
  }
 },
 "nbformat": 4,
 "nbformat_minor": 2
}
