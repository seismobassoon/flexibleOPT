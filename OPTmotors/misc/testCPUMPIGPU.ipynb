{
 "cells": [
  {
   "cell_type": "markdown",
   "metadata": {},
   "source": [
    "# Here I just copied some exercises from Metal.jl / CUDA.jl \n"
   ]
  },
  {
   "cell_type": "code",
   "execution_count": 1,
   "metadata": {},
   "outputs": [
    {
     "name": "stdout",
     "output_type": "stream",
     "text": [
      "macOS 14.2.1, Darwin 23.2.0\n",
      "\n",
      "Toolchain:\n",
      "- Julia: 1.9.2\n",
      "- LLVM: 14.0.6\n",
      "\n",
      "Julia packages: \n"
     ]
    },
    {
     "name": "stdout",
     "output_type": "stream",
     "text": [
      "- Metal.jl: 0.5.1\n"
     ]
    },
    {
     "name": "stdout",
     "output_type": "stream",
     "text": [
      "- Metal_LLVM_Tools_jll: 0.5.1+0\n",
      "\n",
      "1 device:\n",
      "- Apple M1 Max (64.000 KiB allocated)\n"
     ]
    }
   ],
   "source": [
    "#using Pkg\n",
    "#Pkg.add(\"Metal\")\n",
    "\n",
    "# smoke test\n",
    "using Metal\n",
    "Metal.versioninfo()\n"
   ]
  },
  {
   "cell_type": "code",
   "execution_count": 2,
   "metadata": {},
   "outputs": [
    {
     "name": "stdout",
     "output_type": "stream",
     "text": [
      "  4.092 ms (2 allocations: 4.00 MiB)\n"
     ]
    },
    {
     "name": "stdout",
     "output_type": "stream",
     "text": [
      "  23.959 μs (61 allocations: 1.64 KiB)\n"
     ]
    }
   ],
   "source": [
    "using BenchmarkTools\n",
    "using Metal\n",
    "\n",
    "A = convert(Matrix{Float32},rand(2^10, 2^10));\n",
    "A_d = MtlArray(A);\n",
    "\n",
    "@btime $A * $A;\n",
    "@btime $A_d * $A_d;"
   ]
  },
  {
   "cell_type": "code",
   "execution_count": 7,
   "metadata": {},
   "outputs": [],
   "source": [
    "a = MtlArray{Int}(undef, 1024)\n",
    "\n",
    "# essential memory operations, like copying, filling, reshaping, ...\n",
    "b = copy(a)\n",
    "fill!(b, 0)\n",
    "@test b == Metal.zeros(Int, 1024)\n",
    "\n",
    "# automatic memory management\n",
    "a = nothing"
   ]
  },
  {
   "cell_type": "code",
   "execution_count": 10,
   "metadata": {},
   "outputs": [
    {
     "ename": "UndefVarError",
     "evalue": "UndefVarError: `MtlDevice` not defined",
     "output_type": "error",
     "traceback": [
      "UndefVarError: `MtlDevice` not defined\n",
      "\n",
      "Stacktrace:\n",
      " [1] top-level scope\n",
      "   @ ~/Documents/Github/flexibleDSM/DSM1D/misc/testCPUMPIGPU.ipynb:1"
     ]
    }
   ],
   "source": [
    "dev = MtlDevice(1)"
   ]
  },
  {
   "cell_type": "code",
   "execution_count": 9,
   "metadata": {},
   "outputs": [
    {
     "ename": "UndefVarError",
     "evalue": "UndefVarError: `MtlHeapDescriptor` not defined",
     "output_type": "error",
     "traceback": [
      "UndefVarError: `MtlHeapDescriptor` not defined\n",
      "\n",
      "Stacktrace:\n",
      " [1] top-level scope\n",
      "   @ ~/Documents/Github/flexibleDSM/DSM1D/misc/testCPUMPIGPU.ipynb:1"
     ]
    }
   ],
   "source": [
    "desc = MtlHeapDescriptor()"
   ]
  },
  {
   "cell_type": "code",
   "execution_count": 8,
   "metadata": {},
   "outputs": [
    {
     "data": {
      "text/plain": [
       "1024-element MtlVector{Float32, Metal.MTL.MTLResourceStorageModePrivate}:\n",
       " 0.841471\n",
       " 0.841471\n",
       " 0.841471\n",
       " 0.841471\n",
       " 0.841471\n",
       " 0.841471\n",
       " 0.841471\n",
       " 0.841471\n",
       " 0.841471\n",
       " 0.841471\n",
       " ⋮\n",
       " 0.841471\n",
       " 0.841471\n",
       " 0.841471\n",
       " 0.841471\n",
       " 0.841471\n",
       " 0.841471\n",
       " 0.841471\n",
       " 0.841471\n",
       " 0.841471"
      ]
     },
     "metadata": {},
     "output_type": "display_data"
    }
   ],
   "source": [
    "a = Metal.zeros(1024)\n",
    "b = Metal.ones(1024)\n",
    "a.^2 .+ sin.(b)"
   ]
  },
  {
   "cell_type": "code",
   "execution_count": null,
   "metadata": {},
   "outputs": [],
   "source": [
    "\n",
    "using Test\n",
    "using BenchmarkTools\n",
    "\n",
    "N = 2^22\n",
    "x = fill(1.0f0, N)  # a vector filled with 1.0 (Float32)\n",
    "y = fill(2.0f0, N)  # a vector filled with 2.0\n",
    "\n",
    "y .+= x ;"
   ]
  },
  {
   "cell_type": "code",
   "execution_count": null,
   "metadata": {},
   "outputs": [],
   "source": [
    "function sequential_add!(y, x)\n",
    "    for i in eachindex(y, x)\n",
    "        @inbounds y[i] += x[i]\n",
    "    end\n",
    "    return nothing\n",
    "end\n",
    "\n",
    "fill!(y, 2)\n",
    "@btime sequential_add!(y, x)\n",
    "##@test all(y .== 3.0f0)"
   ]
  },
  {
   "cell_type": "code",
   "execution_count": null,
   "metadata": {},
   "outputs": [],
   "source": [
    "function parallel_add!(y, x)\n",
    "    Threads.@threads for i in eachindex(y, x)\n",
    "        @inbounds y[i] += x[i]\n",
    "    end\n",
    "    return nothing\n",
    "end\n",
    "\n",
    "fill!(y, 2)\n",
    "@btime parallel_add!(y, x)\n",
    "#@test all(y .== 3.0f0)"
   ]
  },
  {
   "cell_type": "code",
   "execution_count": null,
   "metadata": {},
   "outputs": [],
   "source": [
    "using CUDA\n",
    "\n",
    "x_d = CUDA.fill(1.0f0, N)  # a vector stored on the GPU filled with 1.0 (Float32)\n",
    "y_d = CUDA.fill(2.0f0, N)  # a vector stored on the GPU filled with 2.0\n",
    "\n"
   ]
  },
  {
   "cell_type": "code",
   "execution_count": 3,
   "metadata": {},
   "outputs": [
    {
     "data": {
      "text/plain": [
       "3.4641016151377544"
      ]
     },
     "metadata": {},
     "output_type": "display_data"
    }
   ],
   "source": [
    "sqrt(12)"
   ]
  },
  {
   "cell_type": "code",
   "execution_count": null,
   "metadata": {},
   "outputs": [],
   "source": []
  }
 ],
 "metadata": {
  "kernelspec": {
   "display_name": "Julia 1.9.2",
   "language": "julia",
   "name": "julia-1.9"
  },
  "language_info": {
   "file_extension": ".jl",
   "mimetype": "application/julia",
   "name": "julia",
   "version": "1.9.2"
  }
 },
 "nbformat": 4,
 "nbformat_minor": 2
}
